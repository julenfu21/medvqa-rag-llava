{
 "cells": [
  {
   "cell_type": "markdown",
   "metadata": {},
   "source": [
    "# VQA Model Result Evaluation"
   ]
  },
  {
   "cell_type": "markdown",
   "metadata": {},
   "source": [
    "## 0. Environment Setup"
   ]
  },
  {
   "cell_type": "markdown",
   "metadata": {},
   "source": [
    "### 0.1. Import Necessary Libraries"
   ]
  },
  {
   "cell_type": "code",
   "execution_count": 1,
   "metadata": {},
   "outputs": [],
   "source": [
    "from pathlib import Path\n",
    "\n",
    "from datasets import disable_progress_bars\n",
    "\n",
    "import src.utils.dataset_helpers.world_med_qa_v.dataset_management as world_med_qa_v_dataset_management\n",
    "import src.utils.dataset_helpers.world_med_qa_v.plot_helpers as world_med_qa_v_plot_helpers\n",
    "from src.utils.data_definitions import DocSplitterOptions, GeneralDocSplitterOptions, GeneralVQAStrategiesDetails, VQAStrategyDetail\n",
    "from src.utils.enums import DocumentSplitterType, RagQPromptType, VQAStrategyType, ZeroShotPromptType\n",
    "from src.utils.string_formatting_helpers import to_snake_case_strategy_name\n",
    "from src.utils.text_splitters.paragraph_splitter import ParagraphSplitter\n",
    "from src.utils.text_splitters.recursive_character_splitter import RecursiveCharacterSplitter\n",
    "from src.utils.text_splitters.spacy_sentence_splitter import SpacySentenceSplitter\n",
    "from src.visual_qa_model import VisualQAModel\n",
    "from src.visual_qa_strategies.base_vqa_strategy import BaseVQAStrategy\n",
    "from src.visual_qa_strategies.rag_q_vqa_strategy import RagQVQAStrategy\n",
    "from src.visual_qa_strategies.zero_shot_vqa_strategy import ZeroShotVQAStrategy"
   ]
  },
  {
   "cell_type": "markdown",
   "metadata": {},
   "source": [
    "### 0.2. Configure Environment Settings"
   ]
  },
  {
   "cell_type": "markdown",
   "metadata": {},
   "source": [
    "Detect Google Colab Form Annotation Automatically"
   ]
  },
  {
   "cell_type": "code",
   "execution_count": 2,
   "metadata": {},
   "outputs": [
    {
     "data": {
      "text/html": [
       "\n",
       "<script>\n",
       "function code_toggle(id) {\n",
       "    var cells = document.querySelectorAll(\".jp-CodeCell\");\n",
       "    for (var cell of cells) {\n",
       "        if (cell.querySelector(\"#\" + id) !== null) {\n",
       "            var div = cell.querySelector(\".jp-InputArea\");\n",
       "            if (div.style.display === \"none\") {\n",
       "                div.style.display = \"block\";\n",
       "            } else {\n",
       "                div.style.display = \"none\";\n",
       "            }\n",
       "        }\n",
       "    }\n",
       "}\n",
       "</script>\n"
      ],
      "text/plain": [
       "<IPython.core.display.HTML object>"
      ]
     },
     "metadata": {},
     "output_type": "display_data"
    }
   ],
   "source": [
    "%load_ext ipyform\n",
    "%form_config --auto-detect 1"
   ]
  },
  {
   "cell_type": "markdown",
   "metadata": {},
   "source": [
    "Enable Automatic Module Reloading"
   ]
  },
  {
   "cell_type": "code",
   "execution_count": 3,
   "metadata": {},
   "outputs": [],
   "source": [
    "%load_ext autoreload\n",
    "%autoreload 2"
   ]
  },
  {
   "cell_type": "markdown",
   "metadata": {},
   "source": [
    "Disable Progress Bar for Dataset Filtering"
   ]
  },
  {
   "cell_type": "code",
   "execution_count": 4,
   "metadata": {},
   "outputs": [],
   "source": [
    "disable_progress_bars()"
   ]
  },
  {
   "cell_type": "markdown",
   "metadata": {},
   "source": [
    "## 1. Evaluation of VQA Approaches"
   ]
  },
  {
   "cell_type": "markdown",
   "metadata": {},
   "source": [
    "Define Constants"
   ]
  },
  {
   "cell_type": "code",
   "execution_count": 5,
   "metadata": {},
   "outputs": [],
   "source": [
    "DATASET_DIR = Path(\"data/WorldMedQA-V\")\n",
    "MODEL_NAME = \"llava\"\n",
    "COUNTRY = \"spain\"\n",
    "FILE_TYPE = \"english\"\n",
    "RESULTS_DIR = Path('evaluation_results')"
   ]
  },
  {
   "cell_type": "markdown",
   "metadata": {},
   "source": [
    "Load Dataset"
   ]
  },
  {
   "cell_type": "code",
   "execution_count": 6,
   "metadata": {},
   "outputs": [
    {
     "name": "stdout",
     "output_type": "stream",
     "text": [
      "- Loading WorldMedQA-V dataset (filename: spain_english_processed.tsv) ...\n",
      "+ WorldMedQA-V dataset (filename: spain_english_processed.tsv) loaded.\n"
     ]
    },
    {
     "data": {
      "text/plain": [
       "Dataset({\n",
       "    features: ['index', 'image', 'question', 'A', 'B', 'C', 'D', 'answer', 'correct_option', 'split'],\n",
       "    num_rows: 125\n",
       "})"
      ]
     },
     "execution_count": 6,
     "metadata": {},
     "output_type": "execute_result"
    }
   ],
   "source": [
    "world_med_qa_v_dataset = world_med_qa_v_dataset_management.load_vqa_dataset(\n",
    "    data_path=DATASET_DIR,\n",
    "    country=COUNTRY,\n",
    "    file_type=FILE_TYPE\n",
    ")\n",
    "world_med_qa_v_dataset"
   ]
  },
  {
   "cell_type": "markdown",
   "metadata": {},
   "source": [
    "### 1.1. Zero-Shot Evaluation"
   ]
  },
  {
   "cell_type": "markdown",
   "metadata": {},
   "source": [
    "Load Model"
   ]
  },
  {
   "cell_type": "code",
   "execution_count": 7,
   "metadata": {},
   "outputs": [
    {
     "name": "stdout",
     "output_type": "stream",
     "text": [
      "- Loading Zero-Shot strategy ...\n",
      "+ Zero-Shot strategy loaded.\n",
      "- Loading Llava model (prompt template: zs_v1) ...\n",
      "+ Llava model (prompt template: zs_v1) loaded.\n"
     ]
    }
   ],
   "source": [
    "llava_model = VisualQAModel(\n",
    "    visual_qa_strategy=ZeroShotVQAStrategy(prompt_type=ZeroShotPromptType.V1),\n",
    "    model_name=MODEL_NAME,\n",
    "    country=COUNTRY,\n",
    "    file_type=FILE_TYPE\n",
    ")"
   ]
  },
  {
   "cell_type": "markdown",
   "metadata": {},
   "source": [
    "Evaluate Model (Prompt Template: `zs_v1`)"
   ]
  },
  {
   "cell_type": "code",
   "execution_count": null,
   "metadata": {},
   "outputs": [
    {
     "name": "stderr",
     "output_type": "stream",
     "text": [
      "- Evaluating model (spain_english subset) ...: 100%|██████████| 2/2 [02:09<00:00, 64.58s/it]"
     ]
    },
    {
     "name": "stdout",
     "output_type": "stream",
     "text": [
      "+ Model evaluation (spain_english subset) completed.\n"
     ]
    },
    {
     "name": "stderr",
     "output_type": "stream",
     "text": [
      "\n"
     ]
    }
   ],
   "source": [
    "llava_model.evaluate(\n",
    "    dataset=world_med_qa_v_dataset.take(5),\n",
    "    results_path=RESULTS_DIR\n",
    ")"
   ]
  },
  {
   "cell_type": "markdown",
   "metadata": {},
   "source": [
    "Evaluate Model (Prompt Template: `zs_v2`)"
   ]
  },
  {
   "cell_type": "code",
   "execution_count": null,
   "metadata": {},
   "outputs": [
    {
     "name": "stderr",
     "output_type": "stream",
     "text": [
      "- Evaluating model (spain_english subset) ...: 100%|██████████| 5/5 [06:20<00:00, 76.08s/it]"
     ]
    },
    {
     "name": "stdout",
     "output_type": "stream",
     "text": [
      "+ Model evaluation (spain_english subset) completed.\n"
     ]
    },
    {
     "name": "stderr",
     "output_type": "stream",
     "text": [
      "\n"
     ]
    }
   ],
   "source": [
    "llava_model.visual_qa_strategy.prompt_type = ZeroShotPromptType.V2\n",
    "llava_model.evaluate(\n",
    "    dataset=world_med_qa_v_dataset.take(5),\n",
    "    results_path=RESULTS_DIR\n",
    ")"
   ]
  },
  {
   "cell_type": "markdown",
   "metadata": {},
   "source": [
    "Evaluate Model (Prompt Template: `zs_v3`)"
   ]
  },
  {
   "cell_type": "code",
   "execution_count": null,
   "metadata": {},
   "outputs": [
    {
     "name": "stderr",
     "output_type": "stream",
     "text": [
      "- Evaluating model (spain_english subset) ...: 100%|██████████| 5/5 [06:24<00:00, 76.90s/it]"
     ]
    },
    {
     "name": "stdout",
     "output_type": "stream",
     "text": [
      "+ Model evaluation (spain_english subset) completed.\n"
     ]
    },
    {
     "name": "stderr",
     "output_type": "stream",
     "text": [
      "\n"
     ]
    }
   ],
   "source": [
    "llava_model.visual_qa_strategy.prompt_type = ZeroShotPromptType.V3\n",
    "llava_model.evaluate(\n",
    "    dataset=world_med_qa_v_dataset.take(5),\n",
    "    results_path=RESULTS_DIR\n",
    ")"
   ]
  },
  {
   "cell_type": "markdown",
   "metadata": {},
   "source": [
    "### 1.2. Retrieval-Augmented Generation (RAG) Evaluation"
   ]
  },
  {
   "cell_type": "markdown",
   "metadata": {},
   "source": [
    "Define Model Specific Constants"
   ]
  },
  {
   "cell_type": "code",
   "execution_count": 26,
   "metadata": {},
   "outputs": [],
   "source": [
    "INDEX_DIR = Path('data/WikiMed/indexed_db')\n",
    "INDEX_NAME = \"Wikimed+S-PubMedBert-MS-MARCO-FullTexts\"\n",
    "EMBEDDING_MODEL_NAME = \"pritamdeka/S-PubMedBert-MS-MARCO\"\n",
    "RELEVANT_DOCS_COUNT = 2"
   ]
  },
  {
   "cell_type": "markdown",
   "metadata": {},
   "source": [
    "#### 1.2.1. RAG Q (Question Only)"
   ]
  },
  {
   "cell_type": "markdown",
   "metadata": {},
   "source": [
    "Load Model"
   ]
  },
  {
   "cell_type": "code",
   "execution_count": 27,
   "metadata": {},
   "outputs": [
    {
     "name": "stdout",
     "output_type": "stream",
     "text": [
      "- Loading RAG Q strategy ...\n",
      "\t- Loading Embeddings ...\n",
      "\t+ Embeddings Loaded.\n",
      "\t- Loading Index ...\n",
      "\t+ Index Loaded.\n",
      "\t- Loading Retriever ...\n",
      "\t+ Retriever Loaded.\n",
      "+ RAG Q strategy loaded.\n",
      "- Loading Llava model (prompt template: rq_v1) ...\n",
      "+ Llava model (prompt template: rq_v1) loaded.\n"
     ]
    }
   ],
   "source": [
    "llava_model.visual_qa_strategy = RagQVQAStrategy(\n",
    "    prompt_type=RagQPromptType.V1,\n",
    "    index_dir=INDEX_DIR,\n",
    "    index_name=INDEX_NAME,\n",
    "    embedding_model_name=EMBEDDING_MODEL_NAME,\n",
    "    relevant_docs_count=RELEVANT_DOCS_COUNT\n",
    ")"
   ]
  },
  {
   "cell_type": "markdown",
   "metadata": {},
   "source": [
    "Evaluate Model (Prompt Template: `rq_v1`)"
   ]
  },
  {
   "cell_type": "markdown",
   "metadata": {},
   "source": [
    "- Document Splitter Type: `No Document Splitter`"
   ]
  },
  {
   "cell_type": "code",
   "execution_count": 28,
   "metadata": {},
   "outputs": [
    {
     "name": "stderr",
     "output_type": "stream",
     "text": [
      "- Evaluating model (spain_english subset) ...: 100%|██████████| 2/2 [07:21<00:00, 220.55s/it]"
     ]
    },
    {
     "name": "stdout",
     "output_type": "stream",
     "text": [
      "+ Model evaluation (spain_english subset) completed.\n"
     ]
    },
    {
     "name": "stderr",
     "output_type": "stream",
     "text": [
      "\n"
     ]
    }
   ],
   "source": [
    "llava_model.evaluate(\n",
    "    dataset=world_med_qa_v_dataset.take(2),\n",
    "    results_path=RESULTS_DIR\n",
    ")"
   ]
  },
  {
   "cell_type": "markdown",
   "metadata": {},
   "source": [
    "- Document Splitter Type: `Recursive Character Splitter`"
   ]
  },
  {
   "cell_type": "markdown",
   "metadata": {},
   "source": [
    "&nbsp;&nbsp;&nbsp;&nbsp;&nbsp;&nbsp;&nbsp;&nbsp;&nbsp;&nbsp;&nbsp;&nbsp;&nbsp;&nbsp;&nbsp;&nbsp;`with_title`"
   ]
  },
  {
   "cell_type": "code",
   "execution_count": 29,
   "metadata": {},
   "outputs": [
    {
     "name": "stderr",
     "output_type": "stream",
     "text": [
      "- Evaluating model (spain_english subset) ...: 100%|██████████| 2/2 [02:53<00:00, 86.67s/it]"
     ]
    },
    {
     "name": "stdout",
     "output_type": "stream",
     "text": [
      "+ Model evaluation (spain_english subset) completed.\n"
     ]
    },
    {
     "name": "stderr",
     "output_type": "stream",
     "text": [
      "\n"
     ]
    }
   ],
   "source": [
    "llava_model.evaluate(\n",
    "    dataset=world_med_qa_v_dataset.take(2),\n",
    "    results_path=RESULTS_DIR,\n",
    "    doc_splitter = RecursiveCharacterSplitter(\n",
    "        token_count=2,\n",
    "        chunk_size=200,\n",
    "        chunk_overlap=0,\n",
    "        add_title=True\n",
    "    )\n",
    ")"
   ]
  },
  {
   "cell_type": "markdown",
   "metadata": {},
   "source": [
    "&nbsp;&nbsp;&nbsp;&nbsp;&nbsp;&nbsp;&nbsp;&nbsp;&nbsp;&nbsp;&nbsp;&nbsp;&nbsp;&nbsp;&nbsp;&nbsp;`no_title`"
   ]
  },
  {
   "cell_type": "code",
   "execution_count": 30,
   "metadata": {},
   "outputs": [
    {
     "name": "stderr",
     "output_type": "stream",
     "text": [
      "- Evaluating model (spain_english subset) ...:   0%|          | 0/2 [00:00<?, ?it/s]"
     ]
    },
    {
     "name": "stderr",
     "output_type": "stream",
     "text": [
      "- Evaluating model (spain_english subset) ...: 100%|██████████| 2/2 [02:54<00:00, 87.13s/it]"
     ]
    },
    {
     "name": "stdout",
     "output_type": "stream",
     "text": [
      "+ Model evaluation (spain_english subset) completed.\n"
     ]
    },
    {
     "name": "stderr",
     "output_type": "stream",
     "text": [
      "\n"
     ]
    }
   ],
   "source": [
    "llava_model.evaluate(\n",
    "    dataset=world_med_qa_v_dataset.take(2),\n",
    "    results_path=RESULTS_DIR,\n",
    "    doc_splitter = RecursiveCharacterSplitter(\n",
    "        token_count=2,\n",
    "        chunk_size=200,\n",
    "        chunk_overlap=0,\n",
    "        add_title=False\n",
    "    )\n",
    ")"
   ]
  },
  {
   "cell_type": "markdown",
   "metadata": {},
   "source": [
    "- Document Splitter Type: `spaCy Sentence Splitter`"
   ]
  },
  {
   "cell_type": "markdown",
   "metadata": {},
   "source": [
    "&nbsp;&nbsp;&nbsp;&nbsp;&nbsp;&nbsp;&nbsp;&nbsp;&nbsp;&nbsp;&nbsp;&nbsp;&nbsp;&nbsp;&nbsp;&nbsp;`with_title`"
   ]
  },
  {
   "cell_type": "code",
   "execution_count": 31,
   "metadata": {},
   "outputs": [
    {
     "name": "stderr",
     "output_type": "stream",
     "text": [
      "- Evaluating model (spain_english subset) ...: 100%|██████████| 2/2 [02:41<00:00, 80.81s/it]"
     ]
    },
    {
     "name": "stdout",
     "output_type": "stream",
     "text": [
      "+ Model evaluation (spain_english subset) completed.\n"
     ]
    },
    {
     "name": "stderr",
     "output_type": "stream",
     "text": [
      "\n"
     ]
    }
   ],
   "source": [
    "llava_model.evaluate(\n",
    "    dataset=world_med_qa_v_dataset.take(2),\n",
    "    results_path=RESULTS_DIR,\n",
    "    doc_splitter = SpacySentenceSplitter(\n",
    "        token_count=2,\n",
    "        add_title=True\n",
    "    )\n",
    ")"
   ]
  },
  {
   "cell_type": "markdown",
   "metadata": {},
   "source": [
    "&nbsp;&nbsp;&nbsp;&nbsp;&nbsp;&nbsp;&nbsp;&nbsp;&nbsp;&nbsp;&nbsp;&nbsp;&nbsp;&nbsp;&nbsp;&nbsp;`no_title`"
   ]
  },
  {
   "cell_type": "code",
   "execution_count": 32,
   "metadata": {},
   "outputs": [
    {
     "name": "stderr",
     "output_type": "stream",
     "text": [
      "- Evaluating model (spain_english subset) ...: 100%|██████████| 2/2 [02:41<00:00, 80.58s/it]"
     ]
    },
    {
     "name": "stdout",
     "output_type": "stream",
     "text": [
      "+ Model evaluation (spain_english subset) completed.\n"
     ]
    },
    {
     "name": "stderr",
     "output_type": "stream",
     "text": [
      "\n"
     ]
    }
   ],
   "source": [
    "llava_model.evaluate(\n",
    "    dataset=world_med_qa_v_dataset.take(2),\n",
    "    results_path=RESULTS_DIR,\n",
    "    doc_splitter = SpacySentenceSplitter(\n",
    "        token_count=2,\n",
    "        add_title=False\n",
    "    )\n",
    ")"
   ]
  },
  {
   "cell_type": "markdown",
   "metadata": {},
   "source": [
    "- Document Splitter Type: `Paragraph Splitter`"
   ]
  },
  {
   "cell_type": "markdown",
   "metadata": {},
   "source": [
    "&nbsp;&nbsp;&nbsp;&nbsp;&nbsp;&nbsp;&nbsp;&nbsp;&nbsp;&nbsp;&nbsp;&nbsp;&nbsp;&nbsp;&nbsp;&nbsp;`with_title`"
   ]
  },
  {
   "cell_type": "code",
   "execution_count": 33,
   "metadata": {},
   "outputs": [
    {
     "name": "stderr",
     "output_type": "stream",
     "text": [
      "- Evaluating model (spain_english subset) ...: 100%|██████████| 2/2 [03:59<00:00, 119.96s/it]"
     ]
    },
    {
     "name": "stdout",
     "output_type": "stream",
     "text": [
      "+ Model evaluation (spain_english subset) completed.\n"
     ]
    },
    {
     "name": "stderr",
     "output_type": "stream",
     "text": [
      "\n"
     ]
    }
   ],
   "source": [
    "llava_model.evaluate(\n",
    "    dataset=world_med_qa_v_dataset.take(2),\n",
    "    results_path=RESULTS_DIR,\n",
    "    doc_splitter = ParagraphSplitter(\n",
    "        token_count=2,\n",
    "        add_title=True\n",
    "    )\n",
    ")"
   ]
  },
  {
   "cell_type": "markdown",
   "metadata": {},
   "source": [
    "&nbsp;&nbsp;&nbsp;&nbsp;&nbsp;&nbsp;&nbsp;&nbsp;&nbsp;&nbsp;&nbsp;&nbsp;&nbsp;&nbsp;&nbsp;&nbsp;`no_title`"
   ]
  },
  {
   "cell_type": "code",
   "execution_count": 34,
   "metadata": {},
   "outputs": [
    {
     "name": "stderr",
     "output_type": "stream",
     "text": [
      "- Evaluating model (spain_english subset) ...:   0%|          | 0/2 [00:00<?, ?it/s]"
     ]
    },
    {
     "name": "stderr",
     "output_type": "stream",
     "text": [
      "- Evaluating model (spain_english subset) ...: 100%|██████████| 2/2 [04:47<00:00, 143.91s/it]"
     ]
    },
    {
     "name": "stdout",
     "output_type": "stream",
     "text": [
      "+ Model evaluation (spain_english subset) completed.\n"
     ]
    },
    {
     "name": "stderr",
     "output_type": "stream",
     "text": [
      "\n"
     ]
    }
   ],
   "source": [
    "llava_model.evaluate(\n",
    "    dataset=world_med_qa_v_dataset.take(2),\n",
    "    results_path=RESULTS_DIR,\n",
    "    doc_splitter = ParagraphSplitter(\n",
    "        token_count=2,\n",
    "        add_title=False\n",
    "    )\n",
    ")"
   ]
  },
  {
   "cell_type": "markdown",
   "metadata": {},
   "source": [
    "Evaluate Model (Prompt Template: `rq_v2`)"
   ]
  },
  {
   "cell_type": "markdown",
   "metadata": {},
   "source": [
    "- Document Splitter Type: `No Document Splitter`"
   ]
  },
  {
   "cell_type": "code",
   "execution_count": null,
   "metadata": {},
   "outputs": [
    {
     "name": "stderr",
     "output_type": "stream",
     "text": [
      "- Evaluating model (spain_english subset) ...: 100%|██████████| 2/2 [07:47<00:00, 233.96s/it]"
     ]
    },
    {
     "name": "stdout",
     "output_type": "stream",
     "text": [
      "+ Model evaluation (spain_english subset) completed.\n"
     ]
    },
    {
     "name": "stderr",
     "output_type": "stream",
     "text": [
      "\n"
     ]
    }
   ],
   "source": [
    "llava_model.visual_qa_strategy.prompt_type = RagQPromptType.V2\n",
    "llava_model.evaluate(\n",
    "    dataset=world_med_qa_v_dataset.take(2),\n",
    "    results_path=RESULTS_DIR\n",
    ")"
   ]
  },
  {
   "cell_type": "markdown",
   "metadata": {},
   "source": [
    "- Document Splitter Type: `Recursive Character Splitter`"
   ]
  },
  {
   "cell_type": "markdown",
   "metadata": {},
   "source": [
    "&nbsp;&nbsp;&nbsp;&nbsp;&nbsp;&nbsp;&nbsp;&nbsp;&nbsp;&nbsp;&nbsp;&nbsp;&nbsp;&nbsp;&nbsp;&nbsp;`with_title`"
   ]
  },
  {
   "cell_type": "code",
   "execution_count": null,
   "metadata": {},
   "outputs": [
    {
     "name": "stderr",
     "output_type": "stream",
     "text": [
      "- Evaluating model (spain_english subset) ...: 100%|██████████| 2/2 [02:38<00:00, 79.16s/it]"
     ]
    },
    {
     "name": "stdout",
     "output_type": "stream",
     "text": [
      "+ Model evaluation (spain_english subset) completed.\n"
     ]
    },
    {
     "name": "stderr",
     "output_type": "stream",
     "text": [
      "\n"
     ]
    }
   ],
   "source": [
    "llava_model.evaluate(\n",
    "    dataset=world_med_qa_v_dataset.take(2),\n",
    "    results_path=RESULTS_DIR,\n",
    "    doc_splitter = RecursiveCharacterSplitter(\n",
    "        token_count=2,\n",
    "        chunk_size=200,\n",
    "        chunk_overlap=0,\n",
    "        add_title=True\n",
    "    )\n",
    ")"
   ]
  },
  {
   "cell_type": "markdown",
   "metadata": {},
   "source": [
    "&nbsp;&nbsp;&nbsp;&nbsp;&nbsp;&nbsp;&nbsp;&nbsp;&nbsp;&nbsp;&nbsp;&nbsp;&nbsp;&nbsp;&nbsp;&nbsp;`no_title`"
   ]
  },
  {
   "cell_type": "code",
   "execution_count": null,
   "metadata": {},
   "outputs": [
    {
     "name": "stderr",
     "output_type": "stream",
     "text": [
      "- Evaluating model (spain_english subset) ...: 100%|██████████| 2/2 [02:34<00:00, 77.47s/it]"
     ]
    },
    {
     "name": "stdout",
     "output_type": "stream",
     "text": [
      "+ Model evaluation (spain_english subset) completed.\n"
     ]
    },
    {
     "name": "stderr",
     "output_type": "stream",
     "text": [
      "\n"
     ]
    }
   ],
   "source": [
    "llava_model.evaluate(\n",
    "    dataset=world_med_qa_v_dataset.take(2),\n",
    "    results_path=RESULTS_DIR,\n",
    "    doc_splitter = RecursiveCharacterSplitter(\n",
    "        token_count=2,\n",
    "        chunk_size=200,\n",
    "        chunk_overlap=0,\n",
    "        add_title=False\n",
    "    )\n",
    ")"
   ]
  },
  {
   "cell_type": "markdown",
   "metadata": {},
   "source": [
    "- Document Splitter Type: `spaCy Sentence Splitter`"
   ]
  },
  {
   "cell_type": "markdown",
   "metadata": {},
   "source": [
    "&nbsp;&nbsp;&nbsp;&nbsp;&nbsp;&nbsp;&nbsp;&nbsp;&nbsp;&nbsp;&nbsp;&nbsp;&nbsp;&nbsp;&nbsp;&nbsp;`with_title`"
   ]
  },
  {
   "cell_type": "code",
   "execution_count": null,
   "metadata": {},
   "outputs": [
    {
     "name": "stderr",
     "output_type": "stream",
     "text": [
      "- Evaluating model (spain_english subset) ...: 100%|██████████| 2/2 [02:40<00:00, 80.45s/it]"
     ]
    },
    {
     "name": "stdout",
     "output_type": "stream",
     "text": [
      "+ Model evaluation (spain_english subset) completed.\n"
     ]
    },
    {
     "name": "stderr",
     "output_type": "stream",
     "text": [
      "\n"
     ]
    }
   ],
   "source": [
    "llava_model.evaluate(\n",
    "    dataset=world_med_qa_v_dataset.take(2),\n",
    "    results_path=RESULTS_DIR,\n",
    "    doc_splitter = SpacySentenceSplitter(\n",
    "        token_count=2,\n",
    "        add_title=True\n",
    "    )\n",
    ")"
   ]
  },
  {
   "cell_type": "markdown",
   "metadata": {},
   "source": [
    "&nbsp;&nbsp;&nbsp;&nbsp;&nbsp;&nbsp;&nbsp;&nbsp;&nbsp;&nbsp;&nbsp;&nbsp;&nbsp;&nbsp;&nbsp;&nbsp;`no_title`"
   ]
  },
  {
   "cell_type": "code",
   "execution_count": null,
   "metadata": {},
   "outputs": [
    {
     "name": "stderr",
     "output_type": "stream",
     "text": [
      "- Evaluating model (spain_english subset) ...: 100%|██████████| 2/2 [02:35<00:00, 77.74s/it]"
     ]
    },
    {
     "name": "stdout",
     "output_type": "stream",
     "text": [
      "+ Model evaluation (spain_english subset) completed.\n"
     ]
    },
    {
     "name": "stderr",
     "output_type": "stream",
     "text": [
      "\n"
     ]
    }
   ],
   "source": [
    "llava_model.evaluate(\n",
    "    dataset=world_med_qa_v_dataset.take(2),\n",
    "    results_path=RESULTS_DIR,\n",
    "    doc_splitter = SpacySentenceSplitter(\n",
    "        token_count=2,\n",
    "        add_title=False\n",
    "    )\n",
    ")"
   ]
  },
  {
   "cell_type": "markdown",
   "metadata": {},
   "source": [
    "- Document Splitter Type: `Paragraph Splitter`"
   ]
  },
  {
   "cell_type": "markdown",
   "metadata": {},
   "source": [
    "&nbsp;&nbsp;&nbsp;&nbsp;&nbsp;&nbsp;&nbsp;&nbsp;&nbsp;&nbsp;&nbsp;&nbsp;&nbsp;&nbsp;&nbsp;&nbsp;`with_title`"
   ]
  },
  {
   "cell_type": "code",
   "execution_count": null,
   "metadata": {},
   "outputs": [
    {
     "name": "stderr",
     "output_type": "stream",
     "text": [
      "- Evaluating model (spain_english subset) ...: 100%|██████████| 2/2 [04:17<00:00, 128.63s/it]"
     ]
    },
    {
     "name": "stdout",
     "output_type": "stream",
     "text": [
      "+ Model evaluation (spain_english subset) completed.\n"
     ]
    },
    {
     "name": "stderr",
     "output_type": "stream",
     "text": [
      "\n"
     ]
    }
   ],
   "source": [
    "llava_model.evaluate(\n",
    "    dataset=world_med_qa_v_dataset.take(2),\n",
    "    results_path=RESULTS_DIR,\n",
    "    doc_splitter = ParagraphSplitter(\n",
    "        token_count=2,\n",
    "        add_title=True\n",
    "    )\n",
    ")"
   ]
  },
  {
   "cell_type": "markdown",
   "metadata": {},
   "source": [
    "&nbsp;&nbsp;&nbsp;&nbsp;&nbsp;&nbsp;&nbsp;&nbsp;&nbsp;&nbsp;&nbsp;&nbsp;&nbsp;&nbsp;&nbsp;&nbsp;`no_title`"
   ]
  },
  {
   "cell_type": "code",
   "execution_count": null,
   "metadata": {},
   "outputs": [
    {
     "name": "stderr",
     "output_type": "stream",
     "text": [
      "- Evaluating model (spain_english subset) ...: 100%|██████████| 2/2 [03:36<00:00, 108.21s/it]"
     ]
    },
    {
     "name": "stdout",
     "output_type": "stream",
     "text": [
      "+ Model evaluation (spain_english subset) completed.\n"
     ]
    },
    {
     "name": "stderr",
     "output_type": "stream",
     "text": [
      "\n"
     ]
    }
   ],
   "source": [
    "llava_model.evaluate(\n",
    "    dataset=world_med_qa_v_dataset.take(2),\n",
    "    results_path=RESULTS_DIR,\n",
    "    doc_splitter = ParagraphSplitter(\n",
    "        token_count=2,\n",
    "        add_title=False\n",
    "    )\n",
    ")"
   ]
  },
  {
   "cell_type": "markdown",
   "metadata": {},
   "source": [
    "Evaluate Model (Prompt Template: `rq_v3`)"
   ]
  },
  {
   "cell_type": "markdown",
   "metadata": {},
   "source": [
    "- Document Splitter Type: `No Document Splitter`"
   ]
  },
  {
   "cell_type": "code",
   "execution_count": null,
   "metadata": {},
   "outputs": [
    {
     "name": "stderr",
     "output_type": "stream",
     "text": [
      "- Evaluating model (spain_english subset) ...: 100%|██████████| 2/2 [07:07<00:00, 213.70s/it]"
     ]
    },
    {
     "name": "stdout",
     "output_type": "stream",
     "text": [
      "+ Model evaluation (spain_english subset) completed.\n"
     ]
    },
    {
     "name": "stderr",
     "output_type": "stream",
     "text": [
      "\n"
     ]
    }
   ],
   "source": [
    "llava_model.visual_qa_strategy.prompt_type = RagQPromptType.V3\n",
    "llava_model.evaluate(\n",
    "    dataset=world_med_qa_v_dataset.take(2),\n",
    "    results_path=RESULTS_DIR\n",
    ")"
   ]
  },
  {
   "cell_type": "markdown",
   "metadata": {},
   "source": [
    "- Document Splitter Type: `Recursive Character Splitter`"
   ]
  },
  {
   "cell_type": "markdown",
   "metadata": {},
   "source": [
    "&nbsp;&nbsp;&nbsp;&nbsp;&nbsp;&nbsp;&nbsp;&nbsp;&nbsp;&nbsp;&nbsp;&nbsp;&nbsp;&nbsp;&nbsp;&nbsp;`with_title`"
   ]
  },
  {
   "cell_type": "code",
   "execution_count": null,
   "metadata": {},
   "outputs": [
    {
     "name": "stderr",
     "output_type": "stream",
     "text": [
      "- Evaluating model (spain_english subset) ...: 100%|██████████| 2/2 [02:41<00:00, 80.54s/it]"
     ]
    },
    {
     "name": "stdout",
     "output_type": "stream",
     "text": [
      "+ Model evaluation (spain_english subset) completed.\n"
     ]
    },
    {
     "name": "stderr",
     "output_type": "stream",
     "text": [
      "\n"
     ]
    }
   ],
   "source": [
    "llava_model.evaluate(\n",
    "    dataset=world_med_qa_v_dataset.take(2),\n",
    "    results_path=RESULTS_DIR,\n",
    "    doc_splitter = RecursiveCharacterSplitter(\n",
    "        token_count=2,\n",
    "        chunk_size=200,\n",
    "        chunk_overlap=0,\n",
    "        add_title=True\n",
    "    )\n",
    ")"
   ]
  },
  {
   "cell_type": "markdown",
   "metadata": {},
   "source": [
    "&nbsp;&nbsp;&nbsp;&nbsp;&nbsp;&nbsp;&nbsp;&nbsp;&nbsp;&nbsp;&nbsp;&nbsp;&nbsp;&nbsp;&nbsp;&nbsp;`no_title`"
   ]
  },
  {
   "cell_type": "code",
   "execution_count": null,
   "metadata": {},
   "outputs": [
    {
     "name": "stderr",
     "output_type": "stream",
     "text": [
      "- Evaluating model (spain_english subset) ...: 100%|██████████| 2/2 [02:32<00:00, 76.36s/it]"
     ]
    },
    {
     "name": "stdout",
     "output_type": "stream",
     "text": [
      "+ Model evaluation (spain_english subset) completed.\n"
     ]
    },
    {
     "name": "stderr",
     "output_type": "stream",
     "text": [
      "\n"
     ]
    }
   ],
   "source": [
    "llava_model.evaluate(\n",
    "    dataset=world_med_qa_v_dataset.take(2),\n",
    "    results_path=RESULTS_DIR,\n",
    "    doc_splitter = RecursiveCharacterSplitter(\n",
    "        token_count=2,\n",
    "        chunk_size=200,\n",
    "        chunk_overlap=0,\n",
    "        add_title=False\n",
    "    )\n",
    ")"
   ]
  },
  {
   "cell_type": "markdown",
   "metadata": {},
   "source": [
    "- Document Splitter Type: `spaCy Sentence Splitter`"
   ]
  },
  {
   "cell_type": "markdown",
   "metadata": {},
   "source": [
    "&nbsp;&nbsp;&nbsp;&nbsp;&nbsp;&nbsp;&nbsp;&nbsp;&nbsp;&nbsp;&nbsp;&nbsp;&nbsp;&nbsp;&nbsp;&nbsp;`with_title`"
   ]
  },
  {
   "cell_type": "code",
   "execution_count": null,
   "metadata": {},
   "outputs": [
    {
     "name": "stderr",
     "output_type": "stream",
     "text": [
      "- Evaluating model (spain_english subset) ...: 100%|██████████| 2/2 [02:38<00:00, 79.02s/it]"
     ]
    },
    {
     "name": "stdout",
     "output_type": "stream",
     "text": [
      "+ Model evaluation (spain_english subset) completed.\n"
     ]
    },
    {
     "name": "stderr",
     "output_type": "stream",
     "text": [
      "\n"
     ]
    }
   ],
   "source": [
    "llava_model.evaluate(\n",
    "    dataset=world_med_qa_v_dataset.take(2),\n",
    "    results_path=RESULTS_DIR,\n",
    "    doc_splitter = SpacySentenceSplitter(\n",
    "        token_count=2,\n",
    "        add_title=True\n",
    "    )\n",
    ")"
   ]
  },
  {
   "cell_type": "markdown",
   "metadata": {},
   "source": [
    "&nbsp;&nbsp;&nbsp;&nbsp;&nbsp;&nbsp;&nbsp;&nbsp;&nbsp;&nbsp;&nbsp;&nbsp;&nbsp;&nbsp;&nbsp;&nbsp;`no_title`"
   ]
  },
  {
   "cell_type": "code",
   "execution_count": null,
   "metadata": {},
   "outputs": [
    {
     "name": "stderr",
     "output_type": "stream",
     "text": [
      "- Evaluating model (spain_english subset) ...: 100%|██████████| 2/2 [02:49<00:00, 84.81s/it]"
     ]
    },
    {
     "name": "stdout",
     "output_type": "stream",
     "text": [
      "+ Model evaluation (spain_english subset) completed.\n"
     ]
    },
    {
     "name": "stderr",
     "output_type": "stream",
     "text": [
      "\n"
     ]
    }
   ],
   "source": [
    "llava_model.evaluate(\n",
    "    dataset=world_med_qa_v_dataset.take(2),\n",
    "    results_path=RESULTS_DIR,\n",
    "    doc_splitter = SpacySentenceSplitter(\n",
    "        token_count=2,\n",
    "        add_title=False\n",
    "    )\n",
    ")"
   ]
  },
  {
   "cell_type": "markdown",
   "metadata": {},
   "source": [
    "- Document Splitter Type: `Paragraph Splitter`"
   ]
  },
  {
   "cell_type": "markdown",
   "metadata": {},
   "source": [
    "&nbsp;&nbsp;&nbsp;&nbsp;&nbsp;&nbsp;&nbsp;&nbsp;&nbsp;&nbsp;&nbsp;&nbsp;&nbsp;&nbsp;&nbsp;&nbsp;`with_title`"
   ]
  },
  {
   "cell_type": "code",
   "execution_count": null,
   "metadata": {},
   "outputs": [
    {
     "name": "stderr",
     "output_type": "stream",
     "text": [
      "- Evaluating model (spain_english subset) ...: 100%|██████████| 2/2 [04:17<00:00, 128.51s/it]"
     ]
    },
    {
     "name": "stdout",
     "output_type": "stream",
     "text": [
      "+ Model evaluation (spain_english subset) completed.\n"
     ]
    },
    {
     "name": "stderr",
     "output_type": "stream",
     "text": [
      "\n"
     ]
    }
   ],
   "source": [
    "llava_model.evaluate(\n",
    "    dataset=world_med_qa_v_dataset.take(2),\n",
    "    results_path=RESULTS_DIR,\n",
    "    doc_splitter = ParagraphSplitter(\n",
    "        token_count=2,\n",
    "        add_title=True\n",
    "    )\n",
    ")"
   ]
  },
  {
   "cell_type": "markdown",
   "metadata": {},
   "source": [
    "&nbsp;&nbsp;&nbsp;&nbsp;&nbsp;&nbsp;&nbsp;&nbsp;&nbsp;&nbsp;&nbsp;&nbsp;&nbsp;&nbsp;&nbsp;&nbsp;`no_title`"
   ]
  },
  {
   "cell_type": "code",
   "execution_count": null,
   "metadata": {},
   "outputs": [
    {
     "name": "stderr",
     "output_type": "stream",
     "text": [
      "- Evaluating model (spain_english subset) ...: 100%|██████████| 2/2 [03:46<00:00, 113.07s/it]"
     ]
    },
    {
     "name": "stdout",
     "output_type": "stream",
     "text": [
      "+ Model evaluation (spain_english subset) completed.\n"
     ]
    },
    {
     "name": "stderr",
     "output_type": "stream",
     "text": [
      "\n"
     ]
    }
   ],
   "source": [
    "llava_model.evaluate(\n",
    "    dataset=world_med_qa_v_dataset.take(2),\n",
    "    results_path=RESULTS_DIR,\n",
    "    doc_splitter = ParagraphSplitter(\n",
    "        token_count=2,\n",
    "        add_title=False\n",
    "    )\n",
    ")"
   ]
  },
  {
   "cell_type": "markdown",
   "metadata": {},
   "source": [
    "Evaluate Model (Prompt Template: `rq_v4`)"
   ]
  },
  {
   "cell_type": "markdown",
   "metadata": {},
   "source": [
    "- Document Splitter Type: `No Document Splitter`"
   ]
  },
  {
   "cell_type": "code",
   "execution_count": null,
   "metadata": {},
   "outputs": [
    {
     "name": "stderr",
     "output_type": "stream",
     "text": [
      "- Evaluating model (spain_english subset) ...: 100%|██████████| 2/2 [06:52<00:00, 206.30s/it]"
     ]
    },
    {
     "name": "stdout",
     "output_type": "stream",
     "text": [
      "+ Model evaluation (spain_english subset) completed.\n"
     ]
    },
    {
     "name": "stderr",
     "output_type": "stream",
     "text": [
      "\n"
     ]
    }
   ],
   "source": [
    "llava_model.visual_qa_strategy.prompt_type = RagQPromptType.V4\n",
    "llava_model.evaluate(\n",
    "    dataset=world_med_qa_v_dataset.take(2),\n",
    "    results_path=RESULTS_DIR\n",
    ")"
   ]
  },
  {
   "cell_type": "markdown",
   "metadata": {},
   "source": [
    "- Document Splitter Type: `Recursive Character Splitter`"
   ]
  },
  {
   "cell_type": "markdown",
   "metadata": {},
   "source": [
    "&nbsp;&nbsp;&nbsp;&nbsp;&nbsp;&nbsp;&nbsp;&nbsp;&nbsp;&nbsp;&nbsp;&nbsp;&nbsp;&nbsp;&nbsp;&nbsp;`with_title`"
   ]
  },
  {
   "cell_type": "code",
   "execution_count": null,
   "metadata": {},
   "outputs": [
    {
     "name": "stderr",
     "output_type": "stream",
     "text": [
      "- Evaluating model (spain_english subset) ...: 100%|██████████| 2/2 [03:41<00:00, 110.63s/it]"
     ]
    },
    {
     "name": "stdout",
     "output_type": "stream",
     "text": [
      "+ Model evaluation (spain_english subset) completed.\n"
     ]
    },
    {
     "name": "stderr",
     "output_type": "stream",
     "text": [
      "\n"
     ]
    }
   ],
   "source": [
    "llava_model.evaluate(\n",
    "    dataset=world_med_qa_v_dataset.take(2),\n",
    "    results_path=RESULTS_DIR,\n",
    "    doc_splitter = RecursiveCharacterSplitter(\n",
    "        token_count=2,\n",
    "        chunk_size=200,\n",
    "        chunk_overlap=0,\n",
    "        add_title=True\n",
    "    )\n",
    ")"
   ]
  },
  {
   "cell_type": "markdown",
   "metadata": {},
   "source": [
    "&nbsp;&nbsp;&nbsp;&nbsp;&nbsp;&nbsp;&nbsp;&nbsp;&nbsp;&nbsp;&nbsp;&nbsp;&nbsp;&nbsp;&nbsp;&nbsp;`no_title`"
   ]
  },
  {
   "cell_type": "code",
   "execution_count": null,
   "metadata": {},
   "outputs": [
    {
     "name": "stderr",
     "output_type": "stream",
     "text": [
      "- Evaluating model (spain_english subset) ...: 100%|██████████| 2/2 [02:49<00:00, 84.97s/it]"
     ]
    },
    {
     "name": "stdout",
     "output_type": "stream",
     "text": [
      "+ Model evaluation (spain_english subset) completed.\n"
     ]
    },
    {
     "name": "stderr",
     "output_type": "stream",
     "text": [
      "\n"
     ]
    }
   ],
   "source": [
    "llava_model.evaluate(\n",
    "    dataset=world_med_qa_v_dataset.take(2),\n",
    "    results_path=RESULTS_DIR,\n",
    "    doc_splitter = RecursiveCharacterSplitter(\n",
    "        token_count=2,\n",
    "        chunk_size=200,\n",
    "        chunk_overlap=0,\n",
    "        add_title=False\n",
    "    )\n",
    ")"
   ]
  },
  {
   "cell_type": "markdown",
   "metadata": {},
   "source": [
    "- Document Splitter Type: `spaCy Sentence Splitter`"
   ]
  },
  {
   "cell_type": "markdown",
   "metadata": {},
   "source": [
    "&nbsp;&nbsp;&nbsp;&nbsp;&nbsp;&nbsp;&nbsp;&nbsp;&nbsp;&nbsp;&nbsp;&nbsp;&nbsp;&nbsp;&nbsp;&nbsp;`with_title`"
   ]
  },
  {
   "cell_type": "code",
   "execution_count": null,
   "metadata": {},
   "outputs": [
    {
     "name": "stderr",
     "output_type": "stream",
     "text": [
      "- Evaluating model (spain_english subset) ...: 100%|██████████| 2/2 [02:53<00:00, 86.73s/it]"
     ]
    },
    {
     "name": "stdout",
     "output_type": "stream",
     "text": [
      "+ Model evaluation (spain_english subset) completed.\n"
     ]
    },
    {
     "name": "stderr",
     "output_type": "stream",
     "text": [
      "\n"
     ]
    }
   ],
   "source": [
    "llava_model.evaluate(\n",
    "    dataset=world_med_qa_v_dataset.take(2),\n",
    "    results_path=RESULTS_DIR,\n",
    "    doc_splitter = SpacySentenceSplitter(\n",
    "        token_count=2,\n",
    "        add_title=True\n",
    "    )\n",
    ")"
   ]
  },
  {
   "cell_type": "markdown",
   "metadata": {},
   "source": [
    "&nbsp;&nbsp;&nbsp;&nbsp;&nbsp;&nbsp;&nbsp;&nbsp;&nbsp;&nbsp;&nbsp;&nbsp;&nbsp;&nbsp;&nbsp;&nbsp;`no_title`"
   ]
  },
  {
   "cell_type": "code",
   "execution_count": null,
   "metadata": {},
   "outputs": [
    {
     "name": "stderr",
     "output_type": "stream",
     "text": [
      "- Evaluating model (spain_english subset) ...: 100%|██████████| 2/2 [02:56<00:00, 88.44s/it]"
     ]
    },
    {
     "name": "stdout",
     "output_type": "stream",
     "text": [
      "+ Model evaluation (spain_english subset) completed.\n"
     ]
    },
    {
     "name": "stderr",
     "output_type": "stream",
     "text": [
      "\n"
     ]
    }
   ],
   "source": [
    "llava_model.evaluate(\n",
    "    dataset=world_med_qa_v_dataset.take(2),\n",
    "    results_path=RESULTS_DIR,\n",
    "    doc_splitter = SpacySentenceSplitter(\n",
    "        token_count=2,\n",
    "        add_title=False\n",
    "    )\n",
    ")"
   ]
  },
  {
   "cell_type": "markdown",
   "metadata": {},
   "source": [
    "- Document Splitter Type: `Paragraph Splitter`"
   ]
  },
  {
   "cell_type": "markdown",
   "metadata": {},
   "source": [
    "&nbsp;&nbsp;&nbsp;&nbsp;&nbsp;&nbsp;&nbsp;&nbsp;&nbsp;&nbsp;&nbsp;&nbsp;&nbsp;&nbsp;&nbsp;&nbsp;`with_title`"
   ]
  },
  {
   "cell_type": "code",
   "execution_count": null,
   "metadata": {},
   "outputs": [
    {
     "name": "stderr",
     "output_type": "stream",
     "text": [
      "- Evaluating model (spain_english subset) ...: 100%|██████████| 2/2 [04:47<00:00, 143.97s/it]"
     ]
    },
    {
     "name": "stdout",
     "output_type": "stream",
     "text": [
      "+ Model evaluation (spain_english subset) completed.\n"
     ]
    },
    {
     "name": "stderr",
     "output_type": "stream",
     "text": [
      "\n"
     ]
    }
   ],
   "source": [
    "llava_model.evaluate(\n",
    "    dataset=world_med_qa_v_dataset.take(2),\n",
    "    results_path=RESULTS_DIR,\n",
    "    doc_splitter = ParagraphSplitter(\n",
    "        token_count=2,\n",
    "        add_title=True\n",
    "    )\n",
    ")"
   ]
  },
  {
   "cell_type": "markdown",
   "metadata": {},
   "source": [
    "&nbsp;&nbsp;&nbsp;&nbsp;&nbsp;&nbsp;&nbsp;&nbsp;&nbsp;&nbsp;&nbsp;&nbsp;&nbsp;&nbsp;&nbsp;&nbsp;`no_title`"
   ]
  },
  {
   "cell_type": "code",
   "execution_count": null,
   "metadata": {},
   "outputs": [
    {
     "name": "stderr",
     "output_type": "stream",
     "text": [
      "- Evaluating model (spain_english subset) ...: 100%|██████████| 2/2 [04:10<00:00, 125.05s/it]"
     ]
    },
    {
     "name": "stdout",
     "output_type": "stream",
     "text": [
      "+ Model evaluation (spain_english subset) completed.\n"
     ]
    },
    {
     "name": "stderr",
     "output_type": "stream",
     "text": [
      "\n"
     ]
    }
   ],
   "source": [
    "llava_model.evaluate(\n",
    "    dataset=world_med_qa_v_dataset.take(2),\n",
    "    results_path=RESULTS_DIR,\n",
    "    doc_splitter = ParagraphSplitter(\n",
    "        token_count=2,\n",
    "        add_title=False\n",
    "    )\n",
    ")"
   ]
  },
  {
   "cell_type": "markdown",
   "metadata": {},
   "source": [
    "#### 1.2.2. RAG Q+As (Question + Answers)"
   ]
  },
  {
   "cell_type": "code",
   "execution_count": null,
   "metadata": {},
   "outputs": [],
   "source": []
  },
  {
   "cell_type": "markdown",
   "metadata": {},
   "source": [
    "#### 1.2.3. RAG IMG (Image-Based)"
   ]
  },
  {
   "cell_type": "code",
   "execution_count": null,
   "metadata": {},
   "outputs": [],
   "source": []
  },
  {
   "cell_type": "markdown",
   "metadata": {},
   "source": [
    "#### 1.2.4. RAG DB-Reranker (Database with Reranker)"
   ]
  },
  {
   "cell_type": "code",
   "execution_count": null,
   "metadata": {},
   "outputs": [],
   "source": []
  },
  {
   "cell_type": "markdown",
   "metadata": {},
   "source": [
    "## 2. VQA Approaches Exploration"
   ]
  },
  {
   "cell_type": "markdown",
   "metadata": {},
   "source": [
    "Define Model Specific Constants"
   ]
  },
  {
   "cell_type": "code",
   "execution_count": 9,
   "metadata": {},
   "outputs": [],
   "source": [
    "DATASET_DIR = Path(\"data/WorldMedQA-V\")\n",
    "MODEL_NAME = \"llava\"\n",
    "COUNTRY = \"spain\"\n",
    "FILE_TYPE = \"english\"\n",
    "RESULTS_DIR = Path('evaluation_results')"
   ]
  },
  {
   "cell_type": "markdown",
   "metadata": {},
   "source": [
    "Define RAG Q Specific Constants"
   ]
  },
  {
   "cell_type": "code",
   "execution_count": 10,
   "metadata": {},
   "outputs": [],
   "source": [
    "INDEX_DIR = Path('data/WikiMed/indexed_db')\n",
    "INDEX_NAME = \"Wikimed+S-PubMedBert-MS-MARCO-FullTexts\"\n",
    "EMBEDDING_MODEL_NAME = \"pritamdeka/S-PubMedBert-MS-MARCO\"\n",
    "RELEVANT_DOCS_COUNT = 1"
   ]
  },
  {
   "cell_type": "markdown",
   "metadata": {},
   "source": [
    "Define Possible VQA Strategies"
   ]
  },
  {
   "cell_type": "code",
   "execution_count": 11,
   "metadata": {},
   "outputs": [
    {
     "name": "stdout",
     "output_type": "stream",
     "text": [
      "- Loading Zero-Shot strategy ...\n",
      "+ Zero-Shot strategy loaded.\n",
      "- Loading RAG Q strategy ...\n",
      "\t- Loading Embeddings ...\n",
      "\t+ Embeddings Loaded.\n",
      "\t- Loading Index ...\n",
      "\t+ Index Loaded.\n",
      "\t- Loading Retriever ...\n",
      "\t+ Retriever Loaded.\n",
      "+ RAG Q strategy loaded.\n"
     ]
    }
   ],
   "source": [
    "vqa_strategies: dict[VQAStrategyType, BaseVQAStrategy] = {\n",
    "    VQAStrategyType.ZERO_SHOT: ZeroShotVQAStrategy(prompt_type=ZeroShotPromptType.V1),\n",
    "    VQAStrategyType.RAG_Q: RagQVQAStrategy(\n",
    "        prompt_type=RagQPromptType.V1,\n",
    "        index_dir=INDEX_DIR,\n",
    "        index_name=INDEX_NAME,\n",
    "        embedding_model_name=EMBEDDING_MODEL_NAME,\n",
    "        relevant_docs_count=RELEVANT_DOCS_COUNT\n",
    "    ),\n",
    "    VQAStrategyType.RAG_Q_AS: None,\n",
    "    VQAStrategyType.RAG_IMG: None,\n",
    "    VQAStrategyType.RAG_DB_RERANKER: None\n",
    "}"
   ]
  },
  {
   "cell_type": "markdown",
   "metadata": {},
   "source": [
    "Load Dataset"
   ]
  },
  {
   "cell_type": "code",
   "execution_count": 12,
   "metadata": {},
   "outputs": [
    {
     "name": "stdout",
     "output_type": "stream",
     "text": [
      "- Loading WorldMedQA-V dataset (filename: spain_english_processed.tsv) ...\n",
      "+ WorldMedQA-V dataset (filename: spain_english_processed.tsv) loaded.\n"
     ]
    },
    {
     "data": {
      "text/plain": [
       "Dataset({\n",
       "    features: ['index', 'image', 'question', 'A', 'B', 'C', 'D', 'answer', 'correct_option', 'split'],\n",
       "    num_rows: 125\n",
       "})"
      ]
     },
     "execution_count": 12,
     "metadata": {},
     "output_type": "execute_result"
    }
   ],
   "source": [
    "world_med_qa_v_dataset = world_med_qa_v_dataset_management.load_vqa_dataset(\n",
    "    data_path=DATASET_DIR,\n",
    "    country=COUNTRY,\n",
    "    file_type=FILE_TYPE\n",
    ")\n",
    "world_med_qa_v_dataset"
   ]
  },
  {
   "cell_type": "markdown",
   "metadata": {},
   "source": [
    "Experiment with the Models"
   ]
  },
  {
   "cell_type": "code",
   "execution_count": 13,
   "metadata": {},
   "outputs": [
    {
     "data": {
      "application/vnd.jupyter.widget-view+json": {
       "model_id": "e2495cf5a7b74fa7abbd89f52b7e7079",
       "version_major": 2,
       "version_minor": 0
      },
      "text/plain": [
       "FormWidget(children=(VBox(children=(HTML(value=''), HTML(value='<h2>Interactive VQA Model Exploration Form</h2…"
      ]
     },
     "execution_count": 13,
     "metadata": {},
     "output_type": "execute_result"
    }
   ],
   "source": [
    "# @title Interactive VQA Model Exploration Form\n",
    "vqa_strategy_type = 'Zero-Shot' # @param [\"Zero-Shot\", \"RAG Q\", \"RAG Q+As\", \"RAG IMG\", \"RAG DB-Reranker\"]\n",
    "prompt_type = \"zs_v1\" # @param [\"zs_v1\", \"zs_v2\", \"zs_v3\", \"rq_v1\", \"rq_v2\", \"rq_v3\", \"rq_v4\"]\n",
    "question_id = 1 # @param {\"type\":\"integer\"}\n",
    "image_width = 600 # @param {\"type\":\"integer\"}\n",
    "action = 'Fetch from JSON' # @param [\"Execute Model\", \"Fetch from JSON\"]\n",
    "\n",
    "\n",
    "row = world_med_qa_v_dataset_management.get_dataset_row_by_id(\n",
    "    dataset=world_med_qa_v_dataset,\n",
    "    question_id=question_id\n",
    ")\n",
    "\n",
    "if action == \"Execute Model\":\n",
    "    formatted_vqa_strategy_type = to_snake_case_strategy_name(strategy_name=vqa_strategy_type)\n",
    "    chosen_vqa_strategy = vqa_strategies[VQAStrategyType(formatted_vqa_strategy_type)]\n",
    "    chosen_vqa_strategy.prompt_type = ZeroShotPromptType(prompt_type)\n",
    "    model=VisualQAModel(\n",
    "        visual_qa_strategy=chosen_vqa_strategy,\n",
    "        model_name=MODEL_NAME,\n",
    "        country=COUNTRY,\n",
    "        file_type=FILE_TYPE\n",
    "    )\n",
    "    world_med_qa_v_plot_helpers.visualize_qa_pair_row(\n",
    "        row=row,\n",
    "        image_width=image_width,\n",
    "        model_answer=model.generate_answer_from_row(\n",
    "            row=row,\n",
    "            possible_options=['A', 'B', 'C', 'D'],\n",
    "            verbose=True\n",
    "        )\n",
    "    )\n",
    "elif action == \"Fetch from JSON\":\n",
    "    model_answer = world_med_qa_v_dataset_management.fetch_model_answer_from_json(\n",
    "        evaluation_results_folder=RESULTS_DIR,\n",
    "        vqa_strategy_name=to_snake_case_strategy_name(strategy_name=vqa_strategy_type),\n",
    "        country=COUNTRY,\n",
    "        file_type=FILE_TYPE,\n",
    "        prompt_type_name=prompt_type,\n",
    "        question_id=question_id,\n",
    "    )\n",
    "    world_med_qa_v_plot_helpers.visualize_qa_pair_row(\n",
    "        row=row,\n",
    "        image_width=image_width,\n",
    "        model_answer=model_answer\n",
    "    )"
   ]
  },
  {
   "cell_type": "markdown",
   "metadata": {},
   "source": [
    "## 3. Result Analysis"
   ]
  },
  {
   "cell_type": "markdown",
   "metadata": {},
   "source": [
    "### 3.1. Rag Q (Relevant Documents Count: 1)"
   ]
  },
  {
   "cell_type": "code",
   "execution_count": 21,
   "metadata": {},
   "outputs": [
    {
     "data": {
      "text/html": [
       "<div>\n",
       "<style scoped>\n",
       "    .dataframe tbody tr th:only-of-type {\n",
       "        vertical-align: middle;\n",
       "    }\n",
       "\n",
       "    .dataframe tbody tr th {\n",
       "        vertical-align: top;\n",
       "    }\n",
       "\n",
       "    .dataframe thead th {\n",
       "        text-align: right;\n",
       "    }\n",
       "</style>\n",
       "<table border=\"1\" class=\"dataframe\">\n",
       "  <thead>\n",
       "    <tr style=\"text-align: right;\">\n",
       "      <th></th>\n",
       "      <th>country</th>\n",
       "      <th>file_type</th>\n",
       "      <th>vqa_strategy_type</th>\n",
       "      <th>prompt_type</th>\n",
       "      <th>relevant_docs_count</th>\n",
       "      <th>doc_splitter</th>\n",
       "      <th>add_title</th>\n",
       "      <th>token_count</th>\n",
       "      <th>chunk_size</th>\n",
       "      <th>chunk_overlap</th>\n",
       "      <th>accuracy</th>\n",
       "      <th>well_formatted_answers</th>\n",
       "    </tr>\n",
       "  </thead>\n",
       "  <tbody>\n",
       "    <tr>\n",
       "      <th>0</th>\n",
       "      <td>spain</td>\n",
       "      <td>english</td>\n",
       "      <td>rag_q</td>\n",
       "      <td>rq_v1</td>\n",
       "      <td>1</td>\n",
       "      <td>paragraph_splitter</td>\n",
       "      <td>False</td>\n",
       "      <td>1</td>\n",
       "      <td>-</td>\n",
       "      <td>-</td>\n",
       "      <td>0.256</td>\n",
       "      <td>1.000</td>\n",
       "    </tr>\n",
       "    <tr>\n",
       "      <th>1</th>\n",
       "      <td>spain</td>\n",
       "      <td>english</td>\n",
       "      <td>rag_q</td>\n",
       "      <td>rq_v1</td>\n",
       "      <td>1</td>\n",
       "      <td>paragraph_splitter</td>\n",
       "      <td>False</td>\n",
       "      <td>2</td>\n",
       "      <td>-</td>\n",
       "      <td>-</td>\n",
       "      <td>0.288</td>\n",
       "      <td>0.984</td>\n",
       "    </tr>\n",
       "    <tr>\n",
       "      <th>2</th>\n",
       "      <td>spain</td>\n",
       "      <td>english</td>\n",
       "      <td>rag_q</td>\n",
       "      <td>rq_v1</td>\n",
       "      <td>1</td>\n",
       "      <td>paragraph_splitter</td>\n",
       "      <td>False</td>\n",
       "      <td>3</td>\n",
       "      <td>-</td>\n",
       "      <td>-</td>\n",
       "      <td>0.240</td>\n",
       "      <td>0.976</td>\n",
       "    </tr>\n",
       "    <tr>\n",
       "      <th>3</th>\n",
       "      <td>spain</td>\n",
       "      <td>english</td>\n",
       "      <td>rag_q</td>\n",
       "      <td>rq_v1</td>\n",
       "      <td>1</td>\n",
       "      <td>paragraph_splitter</td>\n",
       "      <td>False</td>\n",
       "      <td>4</td>\n",
       "      <td>-</td>\n",
       "      <td>-</td>\n",
       "      <td>0.224</td>\n",
       "      <td>0.936</td>\n",
       "    </tr>\n",
       "    <tr>\n",
       "      <th>4</th>\n",
       "      <td>spain</td>\n",
       "      <td>english</td>\n",
       "      <td>rag_q</td>\n",
       "      <td>rq_v1</td>\n",
       "      <td>1</td>\n",
       "      <td>recursive_character_splitter</td>\n",
       "      <td>False</td>\n",
       "      <td>1</td>\n",
       "      <td>300.0</td>\n",
       "      <td>0.0</td>\n",
       "      <td>0.264</td>\n",
       "      <td>1.000</td>\n",
       "    </tr>\n",
       "    <tr>\n",
       "      <th>5</th>\n",
       "      <td>spain</td>\n",
       "      <td>english</td>\n",
       "      <td>rag_q</td>\n",
       "      <td>rq_v1</td>\n",
       "      <td>1</td>\n",
       "      <td>recursive_character_splitter</td>\n",
       "      <td>False</td>\n",
       "      <td>1</td>\n",
       "      <td>600.0</td>\n",
       "      <td>0.0</td>\n",
       "      <td>0.280</td>\n",
       "      <td>1.000</td>\n",
       "    </tr>\n",
       "    <tr>\n",
       "      <th>6</th>\n",
       "      <td>spain</td>\n",
       "      <td>english</td>\n",
       "      <td>rag_q</td>\n",
       "      <td>rq_v1</td>\n",
       "      <td>1</td>\n",
       "      <td>recursive_character_splitter</td>\n",
       "      <td>False</td>\n",
       "      <td>1</td>\n",
       "      <td>900.0</td>\n",
       "      <td>0.0</td>\n",
       "      <td>0.272</td>\n",
       "      <td>1.000</td>\n",
       "    </tr>\n",
       "    <tr>\n",
       "      <th>7</th>\n",
       "      <td>spain</td>\n",
       "      <td>english</td>\n",
       "      <td>rag_q</td>\n",
       "      <td>rq_v1</td>\n",
       "      <td>1</td>\n",
       "      <td>recursive_character_splitter</td>\n",
       "      <td>False</td>\n",
       "      <td>2</td>\n",
       "      <td>300.0</td>\n",
       "      <td>0.0</td>\n",
       "      <td>0.272</td>\n",
       "      <td>1.000</td>\n",
       "    </tr>\n",
       "    <tr>\n",
       "      <th>8</th>\n",
       "      <td>spain</td>\n",
       "      <td>english</td>\n",
       "      <td>rag_q</td>\n",
       "      <td>rq_v1</td>\n",
       "      <td>1</td>\n",
       "      <td>recursive_character_splitter</td>\n",
       "      <td>False</td>\n",
       "      <td>2</td>\n",
       "      <td>600.0</td>\n",
       "      <td>0.0</td>\n",
       "      <td>0.240</td>\n",
       "      <td>1.000</td>\n",
       "    </tr>\n",
       "    <tr>\n",
       "      <th>9</th>\n",
       "      <td>spain</td>\n",
       "      <td>english</td>\n",
       "      <td>rag_q</td>\n",
       "      <td>rq_v1</td>\n",
       "      <td>1</td>\n",
       "      <td>recursive_character_splitter</td>\n",
       "      <td>False</td>\n",
       "      <td>2</td>\n",
       "      <td>900.0</td>\n",
       "      <td>0.0</td>\n",
       "      <td>0.272</td>\n",
       "      <td>1.000</td>\n",
       "    </tr>\n",
       "    <tr>\n",
       "      <th>10</th>\n",
       "      <td>spain</td>\n",
       "      <td>english</td>\n",
       "      <td>rag_q</td>\n",
       "      <td>rq_v1</td>\n",
       "      <td>1</td>\n",
       "      <td>spacy_sentence_splitter</td>\n",
       "      <td>False</td>\n",
       "      <td>1</td>\n",
       "      <td>-</td>\n",
       "      <td>-</td>\n",
       "      <td>0.296</td>\n",
       "      <td>1.000</td>\n",
       "    </tr>\n",
       "    <tr>\n",
       "      <th>11</th>\n",
       "      <td>spain</td>\n",
       "      <td>english</td>\n",
       "      <td>rag_q</td>\n",
       "      <td>rq_v1</td>\n",
       "      <td>1</td>\n",
       "      <td>spacy_sentence_splitter</td>\n",
       "      <td>False</td>\n",
       "      <td>2</td>\n",
       "      <td>-</td>\n",
       "      <td>-</td>\n",
       "      <td>0.272</td>\n",
       "      <td>1.000</td>\n",
       "    </tr>\n",
       "    <tr>\n",
       "      <th>12</th>\n",
       "      <td>spain</td>\n",
       "      <td>english</td>\n",
       "      <td>rag_q</td>\n",
       "      <td>rq_v1</td>\n",
       "      <td>1</td>\n",
       "      <td>spacy_sentence_splitter</td>\n",
       "      <td>False</td>\n",
       "      <td>3</td>\n",
       "      <td>-</td>\n",
       "      <td>-</td>\n",
       "      <td>0.272</td>\n",
       "      <td>1.000</td>\n",
       "    </tr>\n",
       "    <tr>\n",
       "      <th>13</th>\n",
       "      <td>spain</td>\n",
       "      <td>english</td>\n",
       "      <td>rag_q</td>\n",
       "      <td>rq_v1</td>\n",
       "      <td>1</td>\n",
       "      <td>spacy_sentence_splitter</td>\n",
       "      <td>False</td>\n",
       "      <td>4</td>\n",
       "      <td>-</td>\n",
       "      <td>-</td>\n",
       "      <td>0.240</td>\n",
       "      <td>1.000</td>\n",
       "    </tr>\n",
       "  </tbody>\n",
       "</table>\n",
       "</div>"
      ],
      "text/plain": [
       "   country file_type vqa_strategy_type prompt_type  relevant_docs_count  \\\n",
       "0    spain   english             rag_q       rq_v1                    1   \n",
       "1    spain   english             rag_q       rq_v1                    1   \n",
       "2    spain   english             rag_q       rq_v1                    1   \n",
       "3    spain   english             rag_q       rq_v1                    1   \n",
       "4    spain   english             rag_q       rq_v1                    1   \n",
       "5    spain   english             rag_q       rq_v1                    1   \n",
       "6    spain   english             rag_q       rq_v1                    1   \n",
       "7    spain   english             rag_q       rq_v1                    1   \n",
       "8    spain   english             rag_q       rq_v1                    1   \n",
       "9    spain   english             rag_q       rq_v1                    1   \n",
       "10   spain   english             rag_q       rq_v1                    1   \n",
       "11   spain   english             rag_q       rq_v1                    1   \n",
       "12   spain   english             rag_q       rq_v1                    1   \n",
       "13   spain   english             rag_q       rq_v1                    1   \n",
       "\n",
       "                    doc_splitter  add_title  token_count chunk_size  \\\n",
       "0             paragraph_splitter      False            1          -   \n",
       "1             paragraph_splitter      False            2          -   \n",
       "2             paragraph_splitter      False            3          -   \n",
       "3             paragraph_splitter      False            4          -   \n",
       "4   recursive_character_splitter      False            1      300.0   \n",
       "5   recursive_character_splitter      False            1      600.0   \n",
       "6   recursive_character_splitter      False            1      900.0   \n",
       "7   recursive_character_splitter      False            2      300.0   \n",
       "8   recursive_character_splitter      False            2      600.0   \n",
       "9   recursive_character_splitter      False            2      900.0   \n",
       "10       spacy_sentence_splitter      False            1          -   \n",
       "11       spacy_sentence_splitter      False            2          -   \n",
       "12       spacy_sentence_splitter      False            3          -   \n",
       "13       spacy_sentence_splitter      False            4          -   \n",
       "\n",
       "   chunk_overlap  accuracy  well_formatted_answers  \n",
       "0              -     0.256                   1.000  \n",
       "1              -     0.288                   0.984  \n",
       "2              -     0.240                   0.976  \n",
       "3              -     0.224                   0.936  \n",
       "4            0.0     0.264                   1.000  \n",
       "5            0.0     0.280                   1.000  \n",
       "6            0.0     0.272                   1.000  \n",
       "7            0.0     0.272                   1.000  \n",
       "8            0.0     0.240                   1.000  \n",
       "9            0.0     0.272                   1.000  \n",
       "10             -     0.296                   1.000  \n",
       "11             -     0.272                   1.000  \n",
       "12             -     0.272                   1.000  \n",
       "13             -     0.240                   1.000  "
      ]
     },
     "execution_count": 21,
     "metadata": {},
     "output_type": "execute_result"
    }
   ],
   "source": [
    "evaluation_results = world_med_qa_v_dataset_management.load_evaluation_results(\n",
    "    evaluation_results_folder=RESULTS_DIR,\n",
    "    vqa_strategy_details=[\n",
    "        VQAStrategyDetail(\n",
    "            country=\"spain\",\n",
    "            file_type=\"english\",\n",
    "            vqa_strategy_type=VQAStrategyType.RAG_Q,\n",
    "            prompt_type=RagQPromptType.V1,\n",
    "            relevant_docs_count=1,\n",
    "            doc_splitter_options=DocSplitterOptions(\n",
    "                doc_splitter_type=DocumentSplitterType.PARAGRAPH_SPLITTER,\n",
    "                add_title=False,\n",
    "                token_count=1\n",
    "            )\n",
    "        ),\n",
    "        VQAStrategyDetail(\n",
    "            country=\"spain\",\n",
    "            file_type=\"english\",\n",
    "            vqa_strategy_type=VQAStrategyType.RAG_Q,\n",
    "            prompt_type=RagQPromptType.V1,\n",
    "            relevant_docs_count=1,\n",
    "            doc_splitter_options=DocSplitterOptions(\n",
    "                doc_splitter_type=DocumentSplitterType.PARAGRAPH_SPLITTER,\n",
    "                add_title=False,\n",
    "                token_count=2\n",
    "            )\n",
    "        ),\n",
    "        VQAStrategyDetail(\n",
    "            country=\"spain\",\n",
    "            file_type=\"english\",\n",
    "            vqa_strategy_type=VQAStrategyType.RAG_Q,\n",
    "            prompt_type=RagQPromptType.V1,\n",
    "            relevant_docs_count=1,\n",
    "            doc_splitter_options=DocSplitterOptions(\n",
    "                doc_splitter_type=DocumentSplitterType.PARAGRAPH_SPLITTER,\n",
    "                add_title=False,\n",
    "                token_count=3\n",
    "            )\n",
    "        ),\n",
    "        VQAStrategyDetail(\n",
    "            country=\"spain\",\n",
    "            file_type=\"english\",\n",
    "            vqa_strategy_type=VQAStrategyType.RAG_Q,\n",
    "            prompt_type=RagQPromptType.V1,\n",
    "            relevant_docs_count=1,\n",
    "            doc_splitter_options=DocSplitterOptions(\n",
    "                doc_splitter_type=DocumentSplitterType.PARAGRAPH_SPLITTER,\n",
    "                add_title=False,\n",
    "                token_count=4\n",
    "            )\n",
    "        ),\n",
    "        VQAStrategyDetail(\n",
    "            country=\"spain\",\n",
    "            file_type=\"english\",\n",
    "            vqa_strategy_type=VQAStrategyType.RAG_Q,\n",
    "            prompt_type=RagQPromptType.V1,\n",
    "            relevant_docs_count=1,\n",
    "            doc_splitter_options=DocSplitterOptions(\n",
    "                doc_splitter_type=DocumentSplitterType.RECURSIVE_CHARACTER_SPLITTER,\n",
    "                add_title=False,\n",
    "                token_count=1,\n",
    "                chunk_size=300,\n",
    "                chunk_overlap=0\n",
    "            )\n",
    "        ),\n",
    "        VQAStrategyDetail(\n",
    "            country=\"spain\",\n",
    "            file_type=\"english\",\n",
    "            vqa_strategy_type=VQAStrategyType.RAG_Q,\n",
    "            prompt_type=RagQPromptType.V1,\n",
    "            relevant_docs_count=1,\n",
    "            doc_splitter_options=DocSplitterOptions(\n",
    "                doc_splitter_type=DocumentSplitterType.RECURSIVE_CHARACTER_SPLITTER,\n",
    "                add_title=False,\n",
    "                token_count=1,\n",
    "                chunk_size=600,\n",
    "                chunk_overlap=0\n",
    "            )\n",
    "        ),\n",
    "        VQAStrategyDetail(\n",
    "            country=\"spain\",\n",
    "            file_type=\"english\",\n",
    "            vqa_strategy_type=VQAStrategyType.RAG_Q,\n",
    "            prompt_type=RagQPromptType.V1,\n",
    "            relevant_docs_count=1,\n",
    "            doc_splitter_options=DocSplitterOptions(\n",
    "                doc_splitter_type=DocumentSplitterType.RECURSIVE_CHARACTER_SPLITTER,\n",
    "                add_title=False,\n",
    "                token_count=1,\n",
    "                chunk_size=900,\n",
    "                chunk_overlap=0\n",
    "            )\n",
    "        ),\n",
    "        VQAStrategyDetail(\n",
    "            country=\"spain\",\n",
    "            file_type=\"english\",\n",
    "            vqa_strategy_type=VQAStrategyType.RAG_Q,\n",
    "            prompt_type=RagQPromptType.V1,\n",
    "            relevant_docs_count=1,\n",
    "            doc_splitter_options=DocSplitterOptions(\n",
    "                doc_splitter_type=DocumentSplitterType.RECURSIVE_CHARACTER_SPLITTER,\n",
    "                add_title=False,\n",
    "                token_count=2,\n",
    "                chunk_size=300,\n",
    "                chunk_overlap=0\n",
    "            )\n",
    "        ),\n",
    "        VQAStrategyDetail(\n",
    "            country=\"spain\",\n",
    "            file_type=\"english\",\n",
    "            vqa_strategy_type=VQAStrategyType.RAG_Q,\n",
    "            prompt_type=RagQPromptType.V1,\n",
    "            relevant_docs_count=1,\n",
    "            doc_splitter_options=DocSplitterOptions(\n",
    "                doc_splitter_type=DocumentSplitterType.RECURSIVE_CHARACTER_SPLITTER,\n",
    "                add_title=False,\n",
    "                token_count=2,\n",
    "                chunk_size=600,\n",
    "                chunk_overlap=0\n",
    "            )\n",
    "        ),\n",
    "        VQAStrategyDetail(\n",
    "            country=\"spain\",\n",
    "            file_type=\"english\",\n",
    "            vqa_strategy_type=VQAStrategyType.RAG_Q,\n",
    "            prompt_type=RagQPromptType.V1,\n",
    "            relevant_docs_count=1,\n",
    "            doc_splitter_options=DocSplitterOptions(\n",
    "                doc_splitter_type=DocumentSplitterType.RECURSIVE_CHARACTER_SPLITTER,\n",
    "                add_title=False,\n",
    "                token_count=2,\n",
    "                chunk_size=900,\n",
    "                chunk_overlap=0\n",
    "            )\n",
    "        ),\n",
    "        VQAStrategyDetail(\n",
    "            country=\"spain\",\n",
    "            file_type=\"english\",\n",
    "            vqa_strategy_type=VQAStrategyType.RAG_Q,\n",
    "            prompt_type=RagQPromptType.V1,\n",
    "            relevant_docs_count=1,\n",
    "            doc_splitter_options=DocSplitterOptions(\n",
    "                doc_splitter_type=DocumentSplitterType.SPACY_SENTENCE_SPLITTER,\n",
    "                add_title=False,\n",
    "                token_count=1\n",
    "            )\n",
    "        ),\n",
    "        VQAStrategyDetail(\n",
    "            country=\"spain\",\n",
    "            file_type=\"english\",\n",
    "            vqa_strategy_type=VQAStrategyType.RAG_Q,\n",
    "            prompt_type=RagQPromptType.V1,\n",
    "            relevant_docs_count=1,\n",
    "            doc_splitter_options=DocSplitterOptions(\n",
    "                doc_splitter_type=DocumentSplitterType.SPACY_SENTENCE_SPLITTER,\n",
    "                add_title=False,\n",
    "                token_count=2\n",
    "            )\n",
    "        ),\n",
    "        VQAStrategyDetail(\n",
    "            country=\"spain\",\n",
    "            file_type=\"english\",\n",
    "            vqa_strategy_type=VQAStrategyType.RAG_Q,\n",
    "            prompt_type=RagQPromptType.V1,\n",
    "            relevant_docs_count=1,\n",
    "            doc_splitter_options=DocSplitterOptions(\n",
    "                doc_splitter_type=DocumentSplitterType.SPACY_SENTENCE_SPLITTER,\n",
    "                add_title=False,\n",
    "                token_count=3\n",
    "            )\n",
    "        ),\n",
    "        VQAStrategyDetail(\n",
    "            country=\"spain\",\n",
    "            file_type=\"english\",\n",
    "            vqa_strategy_type=VQAStrategyType.RAG_Q,\n",
    "            prompt_type=RagQPromptType.V1,\n",
    "            relevant_docs_count=1,\n",
    "            doc_splitter_options=DocSplitterOptions(\n",
    "                doc_splitter_type=DocumentSplitterType.SPACY_SENTENCE_SPLITTER,\n",
    "                add_title=False,\n",
    "                token_count=4\n",
    "            )\n",
    "        )\n",
    "    ]\n",
    ")\n",
    "evaluation_results = evaluation_results.fillna(\"-\")\n",
    "evaluation_results"
   ]
  },
  {
   "cell_type": "code",
   "execution_count": 22,
   "metadata": {},
   "outputs": [
    {
     "data": {
      "application/vnd.plotly.v1+json": {
       "config": {
        "plotlyServerURL": "https://plot.ly"
       },
       "data": [
        {
         "cliponaxis": false,
         "customdata": [
          [
           "rag_q",
           "rq_v1",
           "paragraph_splitter",
           false,
           1,
           "-",
           "-"
          ],
          [
           "rag_q",
           "rq_v1",
           "paragraph_splitter",
           false,
           2,
           "-",
           "-"
          ],
          [
           "rag_q",
           "rq_v1",
           "paragraph_splitter",
           false,
           3,
           "-",
           "-"
          ],
          [
           "rag_q",
           "rq_v1",
           "paragraph_splitter",
           false,
           4,
           "-",
           "-"
          ],
          [
           "rag_q",
           "rq_v1",
           "recursive_character_splitter",
           false,
           1,
           300,
           0
          ],
          [
           "rag_q",
           "rq_v1",
           "recursive_character_splitter",
           false,
           1,
           600,
           0
          ],
          [
           "rag_q",
           "rq_v1",
           "recursive_character_splitter",
           false,
           1,
           900,
           0
          ],
          [
           "rag_q",
           "rq_v1",
           "recursive_character_splitter",
           false,
           2,
           300,
           0
          ],
          [
           "rag_q",
           "rq_v1",
           "recursive_character_splitter",
           false,
           2,
           600,
           0
          ],
          [
           "rag_q",
           "rq_v1",
           "recursive_character_splitter",
           false,
           2,
           900,
           0
          ],
          [
           "rag_q",
           "rq_v1",
           "spacy_sentence_splitter",
           false,
           1,
           "-",
           "-"
          ],
          [
           "rag_q",
           "rq_v1",
           "spacy_sentence_splitter",
           false,
           2,
           "-",
           "-"
          ],
          [
           "rag_q",
           "rq_v1",
           "spacy_sentence_splitter",
           false,
           3,
           "-",
           "-"
          ],
          [
           "rag_q",
           "rq_v1",
           "spacy_sentence_splitter",
           false,
           4,
           "-",
           "-"
          ]
         ],
         "hovertemplate": "VQA Strategy Type: %{customdata[0]}<br>Prompt Type: %{customdata[1]}<br>Document Splitter: %{customdata[2]}<br>Add Title: %{customdata[3]}<br>Token Count: %{customdata[4]}<br>Chunk Size: %{customdata[5]}<br>Chunk Overlap: %{customdata[6]}<br>",
         "marker": {
          "color": "royalblue",
          "opacity": 0.8
         },
         "name": "Accuracy",
         "text": [
          0.256,
          0.288,
          0.24,
          0.224,
          0.264,
          0.28,
          0.272,
          0.272,
          0.24,
          0.272,
          0.296,
          0.272,
          0.272,
          0.24
         ],
         "textposition": "outside",
         "texttemplate": "%{y:.1%}",
         "type": "bar",
         "width": 0.4,
         "x": [
          0,
          1,
          2,
          3,
          4,
          5,
          6,
          7,
          8,
          9,
          10,
          11,
          12,
          13
         ],
         "y": [
          0.256,
          0.288,
          0.24,
          0.224,
          0.264,
          0.28,
          0.272,
          0.272,
          0.24,
          0.272,
          0.296,
          0.272,
          0.272,
          0.24
         ]
        },
        {
         "cliponaxis": false,
         "customdata": [
          [
           "rag_q",
           "rq_v1",
           "paragraph_splitter",
           false,
           1,
           "-",
           "-"
          ],
          [
           "rag_q",
           "rq_v1",
           "paragraph_splitter",
           false,
           2,
           "-",
           "-"
          ],
          [
           "rag_q",
           "rq_v1",
           "paragraph_splitter",
           false,
           3,
           "-",
           "-"
          ],
          [
           "rag_q",
           "rq_v1",
           "paragraph_splitter",
           false,
           4,
           "-",
           "-"
          ],
          [
           "rag_q",
           "rq_v1",
           "recursive_character_splitter",
           false,
           1,
           300,
           0
          ],
          [
           "rag_q",
           "rq_v1",
           "recursive_character_splitter",
           false,
           1,
           600,
           0
          ],
          [
           "rag_q",
           "rq_v1",
           "recursive_character_splitter",
           false,
           1,
           900,
           0
          ],
          [
           "rag_q",
           "rq_v1",
           "recursive_character_splitter",
           false,
           2,
           300,
           0
          ],
          [
           "rag_q",
           "rq_v1",
           "recursive_character_splitter",
           false,
           2,
           600,
           0
          ],
          [
           "rag_q",
           "rq_v1",
           "recursive_character_splitter",
           false,
           2,
           900,
           0
          ],
          [
           "rag_q",
           "rq_v1",
           "spacy_sentence_splitter",
           false,
           1,
           "-",
           "-"
          ],
          [
           "rag_q",
           "rq_v1",
           "spacy_sentence_splitter",
           false,
           2,
           "-",
           "-"
          ],
          [
           "rag_q",
           "rq_v1",
           "spacy_sentence_splitter",
           false,
           3,
           "-",
           "-"
          ],
          [
           "rag_q",
           "rq_v1",
           "spacy_sentence_splitter",
           false,
           4,
           "-",
           "-"
          ]
         ],
         "hovertemplate": "VQA Strategy Type: %{customdata[0]}<br>Prompt Type: %{customdata[1]}<br>Document Splitter: %{customdata[2]}<br>Add Title: %{customdata[3]}<br>Token Count: %{customdata[4]}<br>Chunk Size: %{customdata[5]}<br>Chunk Overlap: %{customdata[6]}<br>",
         "marker": {
          "color": "darkorange",
          "opacity": 0.8
         },
         "name": "Well-Formatted Answers",
         "text": [
          1,
          0.984,
          0.976,
          0.936,
          1,
          1,
          1,
          1,
          1,
          1,
          1,
          1,
          1,
          1
         ],
         "textposition": "outside",
         "texttemplate": "%{y:.1%}",
         "type": "bar",
         "width": 0.4,
         "x": [
          0,
          1,
          2,
          3,
          4,
          5,
          6,
          7,
          8,
          9,
          10,
          11,
          12,
          13
         ],
         "y": [
          1,
          0.984,
          0.976,
          0.936,
          1,
          1,
          1,
          1,
          1,
          1,
          1,
          1,
          1,
          1
         ]
        }
       ],
       "layout": {
        "barcornerradius": 15,
        "barmode": "group",
        "font": {
         "color": "black",
         "family": "Arial, sans-serif",
         "size": 14
        },
        "height": 500,
        "template": {
         "data": {
          "bar": [
           {
            "error_x": {
             "color": "#2a3f5f"
            },
            "error_y": {
             "color": "#2a3f5f"
            },
            "marker": {
             "line": {
              "color": "#E5ECF6",
              "width": 0.5
             },
             "pattern": {
              "fillmode": "overlay",
              "size": 10,
              "solidity": 0.2
             }
            },
            "type": "bar"
           }
          ],
          "barpolar": [
           {
            "marker": {
             "line": {
              "color": "#E5ECF6",
              "width": 0.5
             },
             "pattern": {
              "fillmode": "overlay",
              "size": 10,
              "solidity": 0.2
             }
            },
            "type": "barpolar"
           }
          ],
          "carpet": [
           {
            "aaxis": {
             "endlinecolor": "#2a3f5f",
             "gridcolor": "white",
             "linecolor": "white",
             "minorgridcolor": "white",
             "startlinecolor": "#2a3f5f"
            },
            "baxis": {
             "endlinecolor": "#2a3f5f",
             "gridcolor": "white",
             "linecolor": "white",
             "minorgridcolor": "white",
             "startlinecolor": "#2a3f5f"
            },
            "type": "carpet"
           }
          ],
          "choropleth": [
           {
            "colorbar": {
             "outlinewidth": 0,
             "ticks": ""
            },
            "type": "choropleth"
           }
          ],
          "contour": [
           {
            "colorbar": {
             "outlinewidth": 0,
             "ticks": ""
            },
            "colorscale": [
             [
              0,
              "#0d0887"
             ],
             [
              0.1111111111111111,
              "#46039f"
             ],
             [
              0.2222222222222222,
              "#7201a8"
             ],
             [
              0.3333333333333333,
              "#9c179e"
             ],
             [
              0.4444444444444444,
              "#bd3786"
             ],
             [
              0.5555555555555556,
              "#d8576b"
             ],
             [
              0.6666666666666666,
              "#ed7953"
             ],
             [
              0.7777777777777778,
              "#fb9f3a"
             ],
             [
              0.8888888888888888,
              "#fdca26"
             ],
             [
              1,
              "#f0f921"
             ]
            ],
            "type": "contour"
           }
          ],
          "contourcarpet": [
           {
            "colorbar": {
             "outlinewidth": 0,
             "ticks": ""
            },
            "type": "contourcarpet"
           }
          ],
          "heatmap": [
           {
            "colorbar": {
             "outlinewidth": 0,
             "ticks": ""
            },
            "colorscale": [
             [
              0,
              "#0d0887"
             ],
             [
              0.1111111111111111,
              "#46039f"
             ],
             [
              0.2222222222222222,
              "#7201a8"
             ],
             [
              0.3333333333333333,
              "#9c179e"
             ],
             [
              0.4444444444444444,
              "#bd3786"
             ],
             [
              0.5555555555555556,
              "#d8576b"
             ],
             [
              0.6666666666666666,
              "#ed7953"
             ],
             [
              0.7777777777777778,
              "#fb9f3a"
             ],
             [
              0.8888888888888888,
              "#fdca26"
             ],
             [
              1,
              "#f0f921"
             ]
            ],
            "type": "heatmap"
           }
          ],
          "heatmapgl": [
           {
            "colorbar": {
             "outlinewidth": 0,
             "ticks": ""
            },
            "colorscale": [
             [
              0,
              "#0d0887"
             ],
             [
              0.1111111111111111,
              "#46039f"
             ],
             [
              0.2222222222222222,
              "#7201a8"
             ],
             [
              0.3333333333333333,
              "#9c179e"
             ],
             [
              0.4444444444444444,
              "#bd3786"
             ],
             [
              0.5555555555555556,
              "#d8576b"
             ],
             [
              0.6666666666666666,
              "#ed7953"
             ],
             [
              0.7777777777777778,
              "#fb9f3a"
             ],
             [
              0.8888888888888888,
              "#fdca26"
             ],
             [
              1,
              "#f0f921"
             ]
            ],
            "type": "heatmapgl"
           }
          ],
          "histogram": [
           {
            "marker": {
             "pattern": {
              "fillmode": "overlay",
              "size": 10,
              "solidity": 0.2
             }
            },
            "type": "histogram"
           }
          ],
          "histogram2d": [
           {
            "colorbar": {
             "outlinewidth": 0,
             "ticks": ""
            },
            "colorscale": [
             [
              0,
              "#0d0887"
             ],
             [
              0.1111111111111111,
              "#46039f"
             ],
             [
              0.2222222222222222,
              "#7201a8"
             ],
             [
              0.3333333333333333,
              "#9c179e"
             ],
             [
              0.4444444444444444,
              "#bd3786"
             ],
             [
              0.5555555555555556,
              "#d8576b"
             ],
             [
              0.6666666666666666,
              "#ed7953"
             ],
             [
              0.7777777777777778,
              "#fb9f3a"
             ],
             [
              0.8888888888888888,
              "#fdca26"
             ],
             [
              1,
              "#f0f921"
             ]
            ],
            "type": "histogram2d"
           }
          ],
          "histogram2dcontour": [
           {
            "colorbar": {
             "outlinewidth": 0,
             "ticks": ""
            },
            "colorscale": [
             [
              0,
              "#0d0887"
             ],
             [
              0.1111111111111111,
              "#46039f"
             ],
             [
              0.2222222222222222,
              "#7201a8"
             ],
             [
              0.3333333333333333,
              "#9c179e"
             ],
             [
              0.4444444444444444,
              "#bd3786"
             ],
             [
              0.5555555555555556,
              "#d8576b"
             ],
             [
              0.6666666666666666,
              "#ed7953"
             ],
             [
              0.7777777777777778,
              "#fb9f3a"
             ],
             [
              0.8888888888888888,
              "#fdca26"
             ],
             [
              1,
              "#f0f921"
             ]
            ],
            "type": "histogram2dcontour"
           }
          ],
          "mesh3d": [
           {
            "colorbar": {
             "outlinewidth": 0,
             "ticks": ""
            },
            "type": "mesh3d"
           }
          ],
          "parcoords": [
           {
            "line": {
             "colorbar": {
              "outlinewidth": 0,
              "ticks": ""
             }
            },
            "type": "parcoords"
           }
          ],
          "pie": [
           {
            "automargin": true,
            "type": "pie"
           }
          ],
          "scatter": [
           {
            "fillpattern": {
             "fillmode": "overlay",
             "size": 10,
             "solidity": 0.2
            },
            "type": "scatter"
           }
          ],
          "scatter3d": [
           {
            "line": {
             "colorbar": {
              "outlinewidth": 0,
              "ticks": ""
             }
            },
            "marker": {
             "colorbar": {
              "outlinewidth": 0,
              "ticks": ""
             }
            },
            "type": "scatter3d"
           }
          ],
          "scattercarpet": [
           {
            "marker": {
             "colorbar": {
              "outlinewidth": 0,
              "ticks": ""
             }
            },
            "type": "scattercarpet"
           }
          ],
          "scattergeo": [
           {
            "marker": {
             "colorbar": {
              "outlinewidth": 0,
              "ticks": ""
             }
            },
            "type": "scattergeo"
           }
          ],
          "scattergl": [
           {
            "marker": {
             "colorbar": {
              "outlinewidth": 0,
              "ticks": ""
             }
            },
            "type": "scattergl"
           }
          ],
          "scattermapbox": [
           {
            "marker": {
             "colorbar": {
              "outlinewidth": 0,
              "ticks": ""
             }
            },
            "type": "scattermapbox"
           }
          ],
          "scatterpolar": [
           {
            "marker": {
             "colorbar": {
              "outlinewidth": 0,
              "ticks": ""
             }
            },
            "type": "scatterpolar"
           }
          ],
          "scatterpolargl": [
           {
            "marker": {
             "colorbar": {
              "outlinewidth": 0,
              "ticks": ""
             }
            },
            "type": "scatterpolargl"
           }
          ],
          "scatterternary": [
           {
            "marker": {
             "colorbar": {
              "outlinewidth": 0,
              "ticks": ""
             }
            },
            "type": "scatterternary"
           }
          ],
          "surface": [
           {
            "colorbar": {
             "outlinewidth": 0,
             "ticks": ""
            },
            "colorscale": [
             [
              0,
              "#0d0887"
             ],
             [
              0.1111111111111111,
              "#46039f"
             ],
             [
              0.2222222222222222,
              "#7201a8"
             ],
             [
              0.3333333333333333,
              "#9c179e"
             ],
             [
              0.4444444444444444,
              "#bd3786"
             ],
             [
              0.5555555555555556,
              "#d8576b"
             ],
             [
              0.6666666666666666,
              "#ed7953"
             ],
             [
              0.7777777777777778,
              "#fb9f3a"
             ],
             [
              0.8888888888888888,
              "#fdca26"
             ],
             [
              1,
              "#f0f921"
             ]
            ],
            "type": "surface"
           }
          ],
          "table": [
           {
            "cells": {
             "fill": {
              "color": "#EBF0F8"
             },
             "line": {
              "color": "white"
             }
            },
            "header": {
             "fill": {
              "color": "#C8D4E3"
             },
             "line": {
              "color": "white"
             }
            },
            "type": "table"
           }
          ]
         },
         "layout": {
          "annotationdefaults": {
           "arrowcolor": "#2a3f5f",
           "arrowhead": 0,
           "arrowwidth": 1
          },
          "autotypenumbers": "strict",
          "coloraxis": {
           "colorbar": {
            "outlinewidth": 0,
            "ticks": ""
           }
          },
          "colorscale": {
           "diverging": [
            [
             0,
             "#8e0152"
            ],
            [
             0.1,
             "#c51b7d"
            ],
            [
             0.2,
             "#de77ae"
            ],
            [
             0.3,
             "#f1b6da"
            ],
            [
             0.4,
             "#fde0ef"
            ],
            [
             0.5,
             "#f7f7f7"
            ],
            [
             0.6,
             "#e6f5d0"
            ],
            [
             0.7,
             "#b8e186"
            ],
            [
             0.8,
             "#7fbc41"
            ],
            [
             0.9,
             "#4d9221"
            ],
            [
             1,
             "#276419"
            ]
           ],
           "sequential": [
            [
             0,
             "#0d0887"
            ],
            [
             0.1111111111111111,
             "#46039f"
            ],
            [
             0.2222222222222222,
             "#7201a8"
            ],
            [
             0.3333333333333333,
             "#9c179e"
            ],
            [
             0.4444444444444444,
             "#bd3786"
            ],
            [
             0.5555555555555556,
             "#d8576b"
            ],
            [
             0.6666666666666666,
             "#ed7953"
            ],
            [
             0.7777777777777778,
             "#fb9f3a"
            ],
            [
             0.8888888888888888,
             "#fdca26"
            ],
            [
             1,
             "#f0f921"
            ]
           ],
           "sequentialminus": [
            [
             0,
             "#0d0887"
            ],
            [
             0.1111111111111111,
             "#46039f"
            ],
            [
             0.2222222222222222,
             "#7201a8"
            ],
            [
             0.3333333333333333,
             "#9c179e"
            ],
            [
             0.4444444444444444,
             "#bd3786"
            ],
            [
             0.5555555555555556,
             "#d8576b"
            ],
            [
             0.6666666666666666,
             "#ed7953"
            ],
            [
             0.7777777777777778,
             "#fb9f3a"
            ],
            [
             0.8888888888888888,
             "#fdca26"
            ],
            [
             1,
             "#f0f921"
            ]
           ]
          },
          "colorway": [
           "#636efa",
           "#EF553B",
           "#00cc96",
           "#ab63fa",
           "#FFA15A",
           "#19d3f3",
           "#FF6692",
           "#B6E880",
           "#FF97FF",
           "#FECB52"
          ],
          "font": {
           "color": "#2a3f5f"
          },
          "geo": {
           "bgcolor": "white",
           "lakecolor": "white",
           "landcolor": "#E5ECF6",
           "showlakes": true,
           "showland": true,
           "subunitcolor": "white"
          },
          "hoverlabel": {
           "align": "left"
          },
          "hovermode": "closest",
          "mapbox": {
           "style": "light"
          },
          "paper_bgcolor": "white",
          "plot_bgcolor": "#E5ECF6",
          "polar": {
           "angularaxis": {
            "gridcolor": "white",
            "linecolor": "white",
            "ticks": ""
           },
           "bgcolor": "#E5ECF6",
           "radialaxis": {
            "gridcolor": "white",
            "linecolor": "white",
            "ticks": ""
           }
          },
          "scene": {
           "xaxis": {
            "backgroundcolor": "#E5ECF6",
            "gridcolor": "white",
            "gridwidth": 2,
            "linecolor": "white",
            "showbackground": true,
            "ticks": "",
            "zerolinecolor": "white"
           },
           "yaxis": {
            "backgroundcolor": "#E5ECF6",
            "gridcolor": "white",
            "gridwidth": 2,
            "linecolor": "white",
            "showbackground": true,
            "ticks": "",
            "zerolinecolor": "white"
           },
           "zaxis": {
            "backgroundcolor": "#E5ECF6",
            "gridcolor": "white",
            "gridwidth": 2,
            "linecolor": "white",
            "showbackground": true,
            "ticks": "",
            "zerolinecolor": "white"
           }
          },
          "shapedefaults": {
           "line": {
            "color": "#2a3f5f"
           }
          },
          "ternary": {
           "aaxis": {
            "gridcolor": "white",
            "linecolor": "white",
            "ticks": ""
           },
           "baxis": {
            "gridcolor": "white",
            "linecolor": "white",
            "ticks": ""
           },
           "bgcolor": "#E5ECF6",
           "caxis": {
            "gridcolor": "white",
            "linecolor": "white",
            "ticks": ""
           }
          },
          "title": {
           "x": 0.05
          },
          "xaxis": {
           "automargin": true,
           "gridcolor": "white",
           "linecolor": "white",
           "ticks": "",
           "title": {
            "standoff": 15
           },
           "zerolinecolor": "white",
           "zerolinewidth": 2
          },
          "yaxis": {
           "automargin": true,
           "gridcolor": "white",
           "linecolor": "white",
           "ticks": "",
           "title": {
            "standoff": 15
           },
           "zerolinecolor": "white",
           "zerolinewidth": 2
          }
         }
        },
        "title": {
         "font": {
          "color": "black",
          "family": "Arial, sans-serif",
          "size": 22
         },
         "text": "Analysis of LLaVA Model Accuracy Across Different RAG Approaches and Parameter Settings (RDC: 1)",
         "x": 0.5,
         "xanchor": "center"
        },
        "xaxis": {
         "title": {
          "text": "Model Evaluations"
         }
        },
        "yaxis": {
         "range": [
          0,
          1.1
         ],
         "ticktext": [
          "0%",
          "10%",
          "20%",
          "30%",
          "40%",
          "50%",
          "60%",
          "70%",
          "80%",
          "90%",
          "100%"
         ],
         "tickvals": [
          0,
          0.1,
          0.2,
          0.3,
          0.4,
          0.5,
          0.6,
          0.7,
          0.8,
          0.9,
          1
         ],
         "title": {
          "text": "Accuracy"
         }
        }
       }
      }
     },
     "metadata": {},
     "output_type": "display_data"
    }
   ],
   "source": [
    "world_med_qa_v_plot_helpers.display_bar_chart_on_evaluation_results(\n",
    "    evaluation_results=evaluation_results,\n",
    "    title=\"Analysis of LLaVA Model Accuracy Across Different RAG Approaches and Parameter Settings (RDC: 1)\"\n",
    ")"
   ]
  },
  {
   "cell_type": "markdown",
   "metadata": {},
   "source": [
    "### 3.2. Rag Q (Relevant Documents Count: 2)"
   ]
  },
  {
   "cell_type": "code",
   "execution_count": 20,
   "metadata": {},
   "outputs": [
    {
     "ename": "FileNotFoundError",
     "evalue": "[Errno 2] No such file or directory: 'evaluation_results/rag_q/rdc2/spacy_sent_splitting/no_title_tc1/spain_english_rq_v1_evaluation.json'",
     "output_type": "error",
     "traceback": [
      "\u001b[0;31m---------------------------------------------------------------------------\u001b[0m",
      "\u001b[0;31mFileNotFoundError\u001b[0m                         Traceback (most recent call last)",
      "Cell \u001b[0;32mIn[20], line 1\u001b[0m\n\u001b[0;32m----> 1\u001b[0m evaluation_results \u001b[38;5;241m=\u001b[39m \u001b[43mworld_med_qa_v_dataset_management\u001b[49m\u001b[38;5;241;43m.\u001b[39;49m\u001b[43mload_evaluation_results\u001b[49m\u001b[43m(\u001b[49m\n\u001b[1;32m      2\u001b[0m \u001b[43m    \u001b[49m\u001b[43mevaluation_results_folder\u001b[49m\u001b[38;5;241;43m=\u001b[39;49m\u001b[43mRESULTS_DIR\u001b[49m\u001b[43m,\u001b[49m\n\u001b[1;32m      3\u001b[0m \u001b[43m    \u001b[49m\u001b[43mvqa_strategy_details\u001b[49m\u001b[38;5;241;43m=\u001b[39;49m\u001b[43m[\u001b[49m\n\u001b[1;32m      4\u001b[0m \u001b[43m        \u001b[49m\u001b[43mVQAStrategyDetail\u001b[49m\u001b[43m(\u001b[49m\n\u001b[1;32m      5\u001b[0m \u001b[43m            \u001b[49m\u001b[43mcountry\u001b[49m\u001b[38;5;241;43m=\u001b[39;49m\u001b[38;5;124;43m\"\u001b[39;49m\u001b[38;5;124;43mspain\u001b[39;49m\u001b[38;5;124;43m\"\u001b[39;49m\u001b[43m,\u001b[49m\n\u001b[1;32m      6\u001b[0m \u001b[43m            \u001b[49m\u001b[43mfile_type\u001b[49m\u001b[38;5;241;43m=\u001b[39;49m\u001b[38;5;124;43m\"\u001b[39;49m\u001b[38;5;124;43menglish\u001b[39;49m\u001b[38;5;124;43m\"\u001b[39;49m\u001b[43m,\u001b[49m\n\u001b[1;32m      7\u001b[0m \u001b[43m            \u001b[49m\u001b[43mvqa_strategy_type\u001b[49m\u001b[38;5;241;43m=\u001b[39;49m\u001b[43mVQAStrategyType\u001b[49m\u001b[38;5;241;43m.\u001b[39;49m\u001b[43mRAG_Q\u001b[49m\u001b[43m,\u001b[49m\n\u001b[1;32m      8\u001b[0m \u001b[43m            \u001b[49m\u001b[43mprompt_type\u001b[49m\u001b[38;5;241;43m=\u001b[39;49m\u001b[43mRagQPromptType\u001b[49m\u001b[38;5;241;43m.\u001b[39;49m\u001b[43mV1\u001b[49m\u001b[43m,\u001b[49m\n\u001b[1;32m      9\u001b[0m \u001b[43m            \u001b[49m\u001b[43mrelevant_docs_count\u001b[49m\u001b[38;5;241;43m=\u001b[39;49m\u001b[38;5;241;43m2\u001b[39;49m\u001b[43m,\u001b[49m\n\u001b[1;32m     10\u001b[0m \u001b[43m            \u001b[49m\u001b[43mdoc_splitter_options\u001b[49m\u001b[38;5;241;43m=\u001b[39;49m\u001b[43mDocSplitterOptions\u001b[49m\u001b[43m(\u001b[49m\n\u001b[1;32m     11\u001b[0m \u001b[43m                \u001b[49m\u001b[43mdoc_splitter_type\u001b[49m\u001b[38;5;241;43m=\u001b[39;49m\u001b[43mDocumentSplitterType\u001b[49m\u001b[38;5;241;43m.\u001b[39;49m\u001b[43mPARAGRAPH_SPLITTER\u001b[49m\u001b[43m,\u001b[49m\n\u001b[1;32m     12\u001b[0m \u001b[43m                \u001b[49m\u001b[43madd_title\u001b[49m\u001b[38;5;241;43m=\u001b[39;49m\u001b[38;5;28;43;01mFalse\u001b[39;49;00m\u001b[43m,\u001b[49m\n\u001b[1;32m     13\u001b[0m \u001b[43m                \u001b[49m\u001b[43mtoken_count\u001b[49m\u001b[38;5;241;43m=\u001b[39;49m\u001b[38;5;241;43m1\u001b[39;49m\n\u001b[1;32m     14\u001b[0m \u001b[43m            \u001b[49m\u001b[43m)\u001b[49m\n\u001b[1;32m     15\u001b[0m \u001b[43m        \u001b[49m\u001b[43m)\u001b[49m\u001b[43m,\u001b[49m\n\u001b[1;32m     16\u001b[0m \u001b[43m        \u001b[49m\u001b[43mVQAStrategyDetail\u001b[49m\u001b[43m(\u001b[49m\n\u001b[1;32m     17\u001b[0m \u001b[43m            \u001b[49m\u001b[43mcountry\u001b[49m\u001b[38;5;241;43m=\u001b[39;49m\u001b[38;5;124;43m\"\u001b[39;49m\u001b[38;5;124;43mspain\u001b[39;49m\u001b[38;5;124;43m\"\u001b[39;49m\u001b[43m,\u001b[49m\n\u001b[1;32m     18\u001b[0m \u001b[43m            \u001b[49m\u001b[43mfile_type\u001b[49m\u001b[38;5;241;43m=\u001b[39;49m\u001b[38;5;124;43m\"\u001b[39;49m\u001b[38;5;124;43menglish\u001b[39;49m\u001b[38;5;124;43m\"\u001b[39;49m\u001b[43m,\u001b[49m\n\u001b[1;32m     19\u001b[0m \u001b[43m            \u001b[49m\u001b[43mvqa_strategy_type\u001b[49m\u001b[38;5;241;43m=\u001b[39;49m\u001b[43mVQAStrategyType\u001b[49m\u001b[38;5;241;43m.\u001b[39;49m\u001b[43mRAG_Q\u001b[49m\u001b[43m,\u001b[49m\n\u001b[1;32m     20\u001b[0m \u001b[43m            \u001b[49m\u001b[43mprompt_type\u001b[49m\u001b[38;5;241;43m=\u001b[39;49m\u001b[43mRagQPromptType\u001b[49m\u001b[38;5;241;43m.\u001b[39;49m\u001b[43mV1\u001b[49m\u001b[43m,\u001b[49m\n\u001b[1;32m     21\u001b[0m \u001b[43m            \u001b[49m\u001b[43mrelevant_docs_count\u001b[49m\u001b[38;5;241;43m=\u001b[39;49m\u001b[38;5;241;43m2\u001b[39;49m\u001b[43m,\u001b[49m\n\u001b[1;32m     22\u001b[0m \u001b[43m            \u001b[49m\u001b[43mdoc_splitter_options\u001b[49m\u001b[38;5;241;43m=\u001b[39;49m\u001b[43mDocSplitterOptions\u001b[49m\u001b[43m(\u001b[49m\n\u001b[1;32m     23\u001b[0m \u001b[43m                \u001b[49m\u001b[43mdoc_splitter_type\u001b[49m\u001b[38;5;241;43m=\u001b[39;49m\u001b[43mDocumentSplitterType\u001b[49m\u001b[38;5;241;43m.\u001b[39;49m\u001b[43mPARAGRAPH_SPLITTER\u001b[49m\u001b[43m,\u001b[49m\n\u001b[1;32m     24\u001b[0m \u001b[43m                \u001b[49m\u001b[43madd_title\u001b[49m\u001b[38;5;241;43m=\u001b[39;49m\u001b[38;5;28;43;01mFalse\u001b[39;49;00m\u001b[43m,\u001b[49m\n\u001b[1;32m     25\u001b[0m \u001b[43m                \u001b[49m\u001b[43mtoken_count\u001b[49m\u001b[38;5;241;43m=\u001b[39;49m\u001b[38;5;241;43m2\u001b[39;49m\n\u001b[1;32m     26\u001b[0m \u001b[43m            \u001b[49m\u001b[43m)\u001b[49m\n\u001b[1;32m     27\u001b[0m \u001b[43m        \u001b[49m\u001b[43m)\u001b[49m\u001b[43m,\u001b[49m\n\u001b[1;32m     28\u001b[0m \u001b[43m        \u001b[49m\u001b[43mVQAStrategyDetail\u001b[49m\u001b[43m(\u001b[49m\n\u001b[1;32m     29\u001b[0m \u001b[43m            \u001b[49m\u001b[43mcountry\u001b[49m\u001b[38;5;241;43m=\u001b[39;49m\u001b[38;5;124;43m\"\u001b[39;49m\u001b[38;5;124;43mspain\u001b[39;49m\u001b[38;5;124;43m\"\u001b[39;49m\u001b[43m,\u001b[49m\n\u001b[1;32m     30\u001b[0m \u001b[43m            \u001b[49m\u001b[43mfile_type\u001b[49m\u001b[38;5;241;43m=\u001b[39;49m\u001b[38;5;124;43m\"\u001b[39;49m\u001b[38;5;124;43menglish\u001b[39;49m\u001b[38;5;124;43m\"\u001b[39;49m\u001b[43m,\u001b[49m\n\u001b[1;32m     31\u001b[0m \u001b[43m            \u001b[49m\u001b[43mvqa_strategy_type\u001b[49m\u001b[38;5;241;43m=\u001b[39;49m\u001b[43mVQAStrategyType\u001b[49m\u001b[38;5;241;43m.\u001b[39;49m\u001b[43mRAG_Q\u001b[49m\u001b[43m,\u001b[49m\n\u001b[1;32m     32\u001b[0m \u001b[43m            \u001b[49m\u001b[43mprompt_type\u001b[49m\u001b[38;5;241;43m=\u001b[39;49m\u001b[43mRagQPromptType\u001b[49m\u001b[38;5;241;43m.\u001b[39;49m\u001b[43mV1\u001b[49m\u001b[43m,\u001b[49m\n\u001b[1;32m     33\u001b[0m \u001b[43m            \u001b[49m\u001b[43mrelevant_docs_count\u001b[49m\u001b[38;5;241;43m=\u001b[39;49m\u001b[38;5;241;43m2\u001b[39;49m\u001b[43m,\u001b[49m\n\u001b[1;32m     34\u001b[0m \u001b[43m            \u001b[49m\u001b[43mdoc_splitter_options\u001b[49m\u001b[38;5;241;43m=\u001b[39;49m\u001b[43mDocSplitterOptions\u001b[49m\u001b[43m(\u001b[49m\n\u001b[1;32m     35\u001b[0m \u001b[43m                \u001b[49m\u001b[43mdoc_splitter_type\u001b[49m\u001b[38;5;241;43m=\u001b[39;49m\u001b[43mDocumentSplitterType\u001b[49m\u001b[38;5;241;43m.\u001b[39;49m\u001b[43mPARAGRAPH_SPLITTER\u001b[49m\u001b[43m,\u001b[49m\n\u001b[1;32m     36\u001b[0m \u001b[43m                \u001b[49m\u001b[43madd_title\u001b[49m\u001b[38;5;241;43m=\u001b[39;49m\u001b[38;5;28;43;01mFalse\u001b[39;49;00m\u001b[43m,\u001b[49m\n\u001b[1;32m     37\u001b[0m \u001b[43m                \u001b[49m\u001b[43mtoken_count\u001b[49m\u001b[38;5;241;43m=\u001b[39;49m\u001b[38;5;241;43m3\u001b[39;49m\n\u001b[1;32m     38\u001b[0m \u001b[43m            \u001b[49m\u001b[43m)\u001b[49m\n\u001b[1;32m     39\u001b[0m \u001b[43m        \u001b[49m\u001b[43m)\u001b[49m\u001b[43m,\u001b[49m\n\u001b[1;32m     40\u001b[0m \u001b[43m        \u001b[49m\u001b[43mVQAStrategyDetail\u001b[49m\u001b[43m(\u001b[49m\n\u001b[1;32m     41\u001b[0m \u001b[43m            \u001b[49m\u001b[43mcountry\u001b[49m\u001b[38;5;241;43m=\u001b[39;49m\u001b[38;5;124;43m\"\u001b[39;49m\u001b[38;5;124;43mspain\u001b[39;49m\u001b[38;5;124;43m\"\u001b[39;49m\u001b[43m,\u001b[49m\n\u001b[1;32m     42\u001b[0m \u001b[43m            \u001b[49m\u001b[43mfile_type\u001b[49m\u001b[38;5;241;43m=\u001b[39;49m\u001b[38;5;124;43m\"\u001b[39;49m\u001b[38;5;124;43menglish\u001b[39;49m\u001b[38;5;124;43m\"\u001b[39;49m\u001b[43m,\u001b[49m\n\u001b[1;32m     43\u001b[0m \u001b[43m            \u001b[49m\u001b[43mvqa_strategy_type\u001b[49m\u001b[38;5;241;43m=\u001b[39;49m\u001b[43mVQAStrategyType\u001b[49m\u001b[38;5;241;43m.\u001b[39;49m\u001b[43mRAG_Q\u001b[49m\u001b[43m,\u001b[49m\n\u001b[1;32m     44\u001b[0m \u001b[43m            \u001b[49m\u001b[43mprompt_type\u001b[49m\u001b[38;5;241;43m=\u001b[39;49m\u001b[43mRagQPromptType\u001b[49m\u001b[38;5;241;43m.\u001b[39;49m\u001b[43mV1\u001b[49m\u001b[43m,\u001b[49m\n\u001b[1;32m     45\u001b[0m \u001b[43m            \u001b[49m\u001b[43mrelevant_docs_count\u001b[49m\u001b[38;5;241;43m=\u001b[39;49m\u001b[38;5;241;43m2\u001b[39;49m\u001b[43m,\u001b[49m\n\u001b[1;32m     46\u001b[0m \u001b[43m            \u001b[49m\u001b[43mdoc_splitter_options\u001b[49m\u001b[38;5;241;43m=\u001b[39;49m\u001b[43mDocSplitterOptions\u001b[49m\u001b[43m(\u001b[49m\n\u001b[1;32m     47\u001b[0m \u001b[43m                \u001b[49m\u001b[43mdoc_splitter_type\u001b[49m\u001b[38;5;241;43m=\u001b[39;49m\u001b[43mDocumentSplitterType\u001b[49m\u001b[38;5;241;43m.\u001b[39;49m\u001b[43mPARAGRAPH_SPLITTER\u001b[49m\u001b[43m,\u001b[49m\n\u001b[1;32m     48\u001b[0m \u001b[43m                \u001b[49m\u001b[43madd_title\u001b[49m\u001b[38;5;241;43m=\u001b[39;49m\u001b[38;5;28;43;01mFalse\u001b[39;49;00m\u001b[43m,\u001b[49m\n\u001b[1;32m     49\u001b[0m \u001b[43m                \u001b[49m\u001b[43mtoken_count\u001b[49m\u001b[38;5;241;43m=\u001b[39;49m\u001b[38;5;241;43m4\u001b[39;49m\n\u001b[1;32m     50\u001b[0m \u001b[43m            \u001b[49m\u001b[43m)\u001b[49m\n\u001b[1;32m     51\u001b[0m \u001b[43m        \u001b[49m\u001b[43m)\u001b[49m\u001b[43m,\u001b[49m\n\u001b[1;32m     52\u001b[0m \u001b[43m        \u001b[49m\u001b[43mVQAStrategyDetail\u001b[49m\u001b[43m(\u001b[49m\n\u001b[1;32m     53\u001b[0m \u001b[43m            \u001b[49m\u001b[43mcountry\u001b[49m\u001b[38;5;241;43m=\u001b[39;49m\u001b[38;5;124;43m\"\u001b[39;49m\u001b[38;5;124;43mspain\u001b[39;49m\u001b[38;5;124;43m\"\u001b[39;49m\u001b[43m,\u001b[49m\n\u001b[1;32m     54\u001b[0m \u001b[43m            \u001b[49m\u001b[43mfile_type\u001b[49m\u001b[38;5;241;43m=\u001b[39;49m\u001b[38;5;124;43m\"\u001b[39;49m\u001b[38;5;124;43menglish\u001b[39;49m\u001b[38;5;124;43m\"\u001b[39;49m\u001b[43m,\u001b[49m\n\u001b[1;32m     55\u001b[0m \u001b[43m            \u001b[49m\u001b[43mvqa_strategy_type\u001b[49m\u001b[38;5;241;43m=\u001b[39;49m\u001b[43mVQAStrategyType\u001b[49m\u001b[38;5;241;43m.\u001b[39;49m\u001b[43mRAG_Q\u001b[49m\u001b[43m,\u001b[49m\n\u001b[1;32m     56\u001b[0m \u001b[43m            \u001b[49m\u001b[43mprompt_type\u001b[49m\u001b[38;5;241;43m=\u001b[39;49m\u001b[43mRagQPromptType\u001b[49m\u001b[38;5;241;43m.\u001b[39;49m\u001b[43mV1\u001b[49m\u001b[43m,\u001b[49m\n\u001b[1;32m     57\u001b[0m \u001b[43m            \u001b[49m\u001b[43mrelevant_docs_count\u001b[49m\u001b[38;5;241;43m=\u001b[39;49m\u001b[38;5;241;43m2\u001b[39;49m\u001b[43m,\u001b[49m\n\u001b[1;32m     58\u001b[0m \u001b[43m            \u001b[49m\u001b[43mdoc_splitter_options\u001b[49m\u001b[38;5;241;43m=\u001b[39;49m\u001b[43mDocSplitterOptions\u001b[49m\u001b[43m(\u001b[49m\n\u001b[1;32m     59\u001b[0m \u001b[43m                \u001b[49m\u001b[43mdoc_splitter_type\u001b[49m\u001b[38;5;241;43m=\u001b[39;49m\u001b[43mDocumentSplitterType\u001b[49m\u001b[38;5;241;43m.\u001b[39;49m\u001b[43mRECURSIVE_CHARACTER_SPLITTER\u001b[49m\u001b[43m,\u001b[49m\n\u001b[1;32m     60\u001b[0m \u001b[43m                \u001b[49m\u001b[43madd_title\u001b[49m\u001b[38;5;241;43m=\u001b[39;49m\u001b[38;5;28;43;01mFalse\u001b[39;49;00m\u001b[43m,\u001b[49m\n\u001b[1;32m     61\u001b[0m \u001b[43m                \u001b[49m\u001b[43mtoken_count\u001b[49m\u001b[38;5;241;43m=\u001b[39;49m\u001b[38;5;241;43m1\u001b[39;49m\u001b[43m,\u001b[49m\n\u001b[1;32m     62\u001b[0m \u001b[43m                \u001b[49m\u001b[43mchunk_size\u001b[49m\u001b[38;5;241;43m=\u001b[39;49m\u001b[38;5;241;43m300\u001b[39;49m\u001b[43m,\u001b[49m\n\u001b[1;32m     63\u001b[0m \u001b[43m                \u001b[49m\u001b[43mchunk_overlap\u001b[49m\u001b[38;5;241;43m=\u001b[39;49m\u001b[38;5;241;43m0\u001b[39;49m\n\u001b[1;32m     64\u001b[0m \u001b[43m            \u001b[49m\u001b[43m)\u001b[49m\n\u001b[1;32m     65\u001b[0m \u001b[43m        \u001b[49m\u001b[43m)\u001b[49m\u001b[43m,\u001b[49m\n\u001b[1;32m     66\u001b[0m \u001b[43m        \u001b[49m\u001b[43mVQAStrategyDetail\u001b[49m\u001b[43m(\u001b[49m\n\u001b[1;32m     67\u001b[0m \u001b[43m            \u001b[49m\u001b[43mcountry\u001b[49m\u001b[38;5;241;43m=\u001b[39;49m\u001b[38;5;124;43m\"\u001b[39;49m\u001b[38;5;124;43mspain\u001b[39;49m\u001b[38;5;124;43m\"\u001b[39;49m\u001b[43m,\u001b[49m\n\u001b[1;32m     68\u001b[0m \u001b[43m            \u001b[49m\u001b[43mfile_type\u001b[49m\u001b[38;5;241;43m=\u001b[39;49m\u001b[38;5;124;43m\"\u001b[39;49m\u001b[38;5;124;43menglish\u001b[39;49m\u001b[38;5;124;43m\"\u001b[39;49m\u001b[43m,\u001b[49m\n\u001b[1;32m     69\u001b[0m \u001b[43m            \u001b[49m\u001b[43mvqa_strategy_type\u001b[49m\u001b[38;5;241;43m=\u001b[39;49m\u001b[43mVQAStrategyType\u001b[49m\u001b[38;5;241;43m.\u001b[39;49m\u001b[43mRAG_Q\u001b[49m\u001b[43m,\u001b[49m\n\u001b[1;32m     70\u001b[0m \u001b[43m            \u001b[49m\u001b[43mprompt_type\u001b[49m\u001b[38;5;241;43m=\u001b[39;49m\u001b[43mRagQPromptType\u001b[49m\u001b[38;5;241;43m.\u001b[39;49m\u001b[43mV1\u001b[49m\u001b[43m,\u001b[49m\n\u001b[1;32m     71\u001b[0m \u001b[43m            \u001b[49m\u001b[43mrelevant_docs_count\u001b[49m\u001b[38;5;241;43m=\u001b[39;49m\u001b[38;5;241;43m2\u001b[39;49m\u001b[43m,\u001b[49m\n\u001b[1;32m     72\u001b[0m \u001b[43m            \u001b[49m\u001b[43mdoc_splitter_options\u001b[49m\u001b[38;5;241;43m=\u001b[39;49m\u001b[43mDocSplitterOptions\u001b[49m\u001b[43m(\u001b[49m\n\u001b[1;32m     73\u001b[0m \u001b[43m                \u001b[49m\u001b[43mdoc_splitter_type\u001b[49m\u001b[38;5;241;43m=\u001b[39;49m\u001b[43mDocumentSplitterType\u001b[49m\u001b[38;5;241;43m.\u001b[39;49m\u001b[43mRECURSIVE_CHARACTER_SPLITTER\u001b[49m\u001b[43m,\u001b[49m\n\u001b[1;32m     74\u001b[0m \u001b[43m                \u001b[49m\u001b[43madd_title\u001b[49m\u001b[38;5;241;43m=\u001b[39;49m\u001b[38;5;28;43;01mFalse\u001b[39;49;00m\u001b[43m,\u001b[49m\n\u001b[1;32m     75\u001b[0m \u001b[43m                \u001b[49m\u001b[43mtoken_count\u001b[49m\u001b[38;5;241;43m=\u001b[39;49m\u001b[38;5;241;43m1\u001b[39;49m\u001b[43m,\u001b[49m\n\u001b[1;32m     76\u001b[0m \u001b[43m                \u001b[49m\u001b[43mchunk_size\u001b[49m\u001b[38;5;241;43m=\u001b[39;49m\u001b[38;5;241;43m600\u001b[39;49m\u001b[43m,\u001b[49m\n\u001b[1;32m     77\u001b[0m \u001b[43m                \u001b[49m\u001b[43mchunk_overlap\u001b[49m\u001b[38;5;241;43m=\u001b[39;49m\u001b[38;5;241;43m0\u001b[39;49m\n\u001b[1;32m     78\u001b[0m \u001b[43m            \u001b[49m\u001b[43m)\u001b[49m\n\u001b[1;32m     79\u001b[0m \u001b[43m        \u001b[49m\u001b[43m)\u001b[49m\u001b[43m,\u001b[49m\n\u001b[1;32m     80\u001b[0m \u001b[43m        \u001b[49m\u001b[43mVQAStrategyDetail\u001b[49m\u001b[43m(\u001b[49m\n\u001b[1;32m     81\u001b[0m \u001b[43m            \u001b[49m\u001b[43mcountry\u001b[49m\u001b[38;5;241;43m=\u001b[39;49m\u001b[38;5;124;43m\"\u001b[39;49m\u001b[38;5;124;43mspain\u001b[39;49m\u001b[38;5;124;43m\"\u001b[39;49m\u001b[43m,\u001b[49m\n\u001b[1;32m     82\u001b[0m \u001b[43m            \u001b[49m\u001b[43mfile_type\u001b[49m\u001b[38;5;241;43m=\u001b[39;49m\u001b[38;5;124;43m\"\u001b[39;49m\u001b[38;5;124;43menglish\u001b[39;49m\u001b[38;5;124;43m\"\u001b[39;49m\u001b[43m,\u001b[49m\n\u001b[1;32m     83\u001b[0m \u001b[43m            \u001b[49m\u001b[43mvqa_strategy_type\u001b[49m\u001b[38;5;241;43m=\u001b[39;49m\u001b[43mVQAStrategyType\u001b[49m\u001b[38;5;241;43m.\u001b[39;49m\u001b[43mRAG_Q\u001b[49m\u001b[43m,\u001b[49m\n\u001b[1;32m     84\u001b[0m \u001b[43m            \u001b[49m\u001b[43mprompt_type\u001b[49m\u001b[38;5;241;43m=\u001b[39;49m\u001b[43mRagQPromptType\u001b[49m\u001b[38;5;241;43m.\u001b[39;49m\u001b[43mV1\u001b[49m\u001b[43m,\u001b[49m\n\u001b[1;32m     85\u001b[0m \u001b[43m            \u001b[49m\u001b[43mrelevant_docs_count\u001b[49m\u001b[38;5;241;43m=\u001b[39;49m\u001b[38;5;241;43m2\u001b[39;49m\u001b[43m,\u001b[49m\n\u001b[1;32m     86\u001b[0m \u001b[43m            \u001b[49m\u001b[43mdoc_splitter_options\u001b[49m\u001b[38;5;241;43m=\u001b[39;49m\u001b[43mDocSplitterOptions\u001b[49m\u001b[43m(\u001b[49m\n\u001b[1;32m     87\u001b[0m \u001b[43m                \u001b[49m\u001b[43mdoc_splitter_type\u001b[49m\u001b[38;5;241;43m=\u001b[39;49m\u001b[43mDocumentSplitterType\u001b[49m\u001b[38;5;241;43m.\u001b[39;49m\u001b[43mRECURSIVE_CHARACTER_SPLITTER\u001b[49m\u001b[43m,\u001b[49m\n\u001b[1;32m     88\u001b[0m \u001b[43m                \u001b[49m\u001b[43madd_title\u001b[49m\u001b[38;5;241;43m=\u001b[39;49m\u001b[38;5;28;43;01mFalse\u001b[39;49;00m\u001b[43m,\u001b[49m\n\u001b[1;32m     89\u001b[0m \u001b[43m                \u001b[49m\u001b[43mtoken_count\u001b[49m\u001b[38;5;241;43m=\u001b[39;49m\u001b[38;5;241;43m1\u001b[39;49m\u001b[43m,\u001b[49m\n\u001b[1;32m     90\u001b[0m \u001b[43m                \u001b[49m\u001b[43mchunk_size\u001b[49m\u001b[38;5;241;43m=\u001b[39;49m\u001b[38;5;241;43m900\u001b[39;49m\u001b[43m,\u001b[49m\n\u001b[1;32m     91\u001b[0m \u001b[43m                \u001b[49m\u001b[43mchunk_overlap\u001b[49m\u001b[38;5;241;43m=\u001b[39;49m\u001b[38;5;241;43m0\u001b[39;49m\n\u001b[1;32m     92\u001b[0m \u001b[43m            \u001b[49m\u001b[43m)\u001b[49m\n\u001b[1;32m     93\u001b[0m \u001b[43m        \u001b[49m\u001b[43m)\u001b[49m\u001b[43m,\u001b[49m\n\u001b[1;32m     94\u001b[0m \u001b[43m        \u001b[49m\u001b[43mVQAStrategyDetail\u001b[49m\u001b[43m(\u001b[49m\n\u001b[1;32m     95\u001b[0m \u001b[43m            \u001b[49m\u001b[43mcountry\u001b[49m\u001b[38;5;241;43m=\u001b[39;49m\u001b[38;5;124;43m\"\u001b[39;49m\u001b[38;5;124;43mspain\u001b[39;49m\u001b[38;5;124;43m\"\u001b[39;49m\u001b[43m,\u001b[49m\n\u001b[1;32m     96\u001b[0m \u001b[43m            \u001b[49m\u001b[43mfile_type\u001b[49m\u001b[38;5;241;43m=\u001b[39;49m\u001b[38;5;124;43m\"\u001b[39;49m\u001b[38;5;124;43menglish\u001b[39;49m\u001b[38;5;124;43m\"\u001b[39;49m\u001b[43m,\u001b[49m\n\u001b[1;32m     97\u001b[0m \u001b[43m            \u001b[49m\u001b[43mvqa_strategy_type\u001b[49m\u001b[38;5;241;43m=\u001b[39;49m\u001b[43mVQAStrategyType\u001b[49m\u001b[38;5;241;43m.\u001b[39;49m\u001b[43mRAG_Q\u001b[49m\u001b[43m,\u001b[49m\n\u001b[1;32m     98\u001b[0m \u001b[43m            \u001b[49m\u001b[43mprompt_type\u001b[49m\u001b[38;5;241;43m=\u001b[39;49m\u001b[43mRagQPromptType\u001b[49m\u001b[38;5;241;43m.\u001b[39;49m\u001b[43mV1\u001b[49m\u001b[43m,\u001b[49m\n\u001b[1;32m     99\u001b[0m \u001b[43m            \u001b[49m\u001b[43mrelevant_docs_count\u001b[49m\u001b[38;5;241;43m=\u001b[39;49m\u001b[38;5;241;43m2\u001b[39;49m\u001b[43m,\u001b[49m\n\u001b[1;32m    100\u001b[0m \u001b[43m            \u001b[49m\u001b[43mdoc_splitter_options\u001b[49m\u001b[38;5;241;43m=\u001b[39;49m\u001b[43mDocSplitterOptions\u001b[49m\u001b[43m(\u001b[49m\n\u001b[1;32m    101\u001b[0m \u001b[43m                \u001b[49m\u001b[43mdoc_splitter_type\u001b[49m\u001b[38;5;241;43m=\u001b[39;49m\u001b[43mDocumentSplitterType\u001b[49m\u001b[38;5;241;43m.\u001b[39;49m\u001b[43mRECURSIVE_CHARACTER_SPLITTER\u001b[49m\u001b[43m,\u001b[49m\n\u001b[1;32m    102\u001b[0m \u001b[43m                \u001b[49m\u001b[43madd_title\u001b[49m\u001b[38;5;241;43m=\u001b[39;49m\u001b[38;5;28;43;01mFalse\u001b[39;49;00m\u001b[43m,\u001b[49m\n\u001b[1;32m    103\u001b[0m \u001b[43m                \u001b[49m\u001b[43mtoken_count\u001b[49m\u001b[38;5;241;43m=\u001b[39;49m\u001b[38;5;241;43m2\u001b[39;49m\u001b[43m,\u001b[49m\n\u001b[1;32m    104\u001b[0m \u001b[43m                \u001b[49m\u001b[43mchunk_size\u001b[49m\u001b[38;5;241;43m=\u001b[39;49m\u001b[38;5;241;43m300\u001b[39;49m\u001b[43m,\u001b[49m\n\u001b[1;32m    105\u001b[0m \u001b[43m                \u001b[49m\u001b[43mchunk_overlap\u001b[49m\u001b[38;5;241;43m=\u001b[39;49m\u001b[38;5;241;43m0\u001b[39;49m\n\u001b[1;32m    106\u001b[0m \u001b[43m            \u001b[49m\u001b[43m)\u001b[49m\n\u001b[1;32m    107\u001b[0m \u001b[43m        \u001b[49m\u001b[43m)\u001b[49m\u001b[43m,\u001b[49m\n\u001b[1;32m    108\u001b[0m \u001b[43m        \u001b[49m\u001b[43mVQAStrategyDetail\u001b[49m\u001b[43m(\u001b[49m\n\u001b[1;32m    109\u001b[0m \u001b[43m            \u001b[49m\u001b[43mcountry\u001b[49m\u001b[38;5;241;43m=\u001b[39;49m\u001b[38;5;124;43m\"\u001b[39;49m\u001b[38;5;124;43mspain\u001b[39;49m\u001b[38;5;124;43m\"\u001b[39;49m\u001b[43m,\u001b[49m\n\u001b[1;32m    110\u001b[0m \u001b[43m            \u001b[49m\u001b[43mfile_type\u001b[49m\u001b[38;5;241;43m=\u001b[39;49m\u001b[38;5;124;43m\"\u001b[39;49m\u001b[38;5;124;43menglish\u001b[39;49m\u001b[38;5;124;43m\"\u001b[39;49m\u001b[43m,\u001b[49m\n\u001b[1;32m    111\u001b[0m \u001b[43m            \u001b[49m\u001b[43mvqa_strategy_type\u001b[49m\u001b[38;5;241;43m=\u001b[39;49m\u001b[43mVQAStrategyType\u001b[49m\u001b[38;5;241;43m.\u001b[39;49m\u001b[43mRAG_Q\u001b[49m\u001b[43m,\u001b[49m\n\u001b[1;32m    112\u001b[0m \u001b[43m            \u001b[49m\u001b[43mprompt_type\u001b[49m\u001b[38;5;241;43m=\u001b[39;49m\u001b[43mRagQPromptType\u001b[49m\u001b[38;5;241;43m.\u001b[39;49m\u001b[43mV1\u001b[49m\u001b[43m,\u001b[49m\n\u001b[1;32m    113\u001b[0m \u001b[43m            \u001b[49m\u001b[43mrelevant_docs_count\u001b[49m\u001b[38;5;241;43m=\u001b[39;49m\u001b[38;5;241;43m2\u001b[39;49m\u001b[43m,\u001b[49m\n\u001b[1;32m    114\u001b[0m \u001b[43m            \u001b[49m\u001b[43mdoc_splitter_options\u001b[49m\u001b[38;5;241;43m=\u001b[39;49m\u001b[43mDocSplitterOptions\u001b[49m\u001b[43m(\u001b[49m\n\u001b[1;32m    115\u001b[0m \u001b[43m                \u001b[49m\u001b[43mdoc_splitter_type\u001b[49m\u001b[38;5;241;43m=\u001b[39;49m\u001b[43mDocumentSplitterType\u001b[49m\u001b[38;5;241;43m.\u001b[39;49m\u001b[43mRECURSIVE_CHARACTER_SPLITTER\u001b[49m\u001b[43m,\u001b[49m\n\u001b[1;32m    116\u001b[0m \u001b[43m                \u001b[49m\u001b[43madd_title\u001b[49m\u001b[38;5;241;43m=\u001b[39;49m\u001b[38;5;28;43;01mFalse\u001b[39;49;00m\u001b[43m,\u001b[49m\n\u001b[1;32m    117\u001b[0m \u001b[43m                \u001b[49m\u001b[43mtoken_count\u001b[49m\u001b[38;5;241;43m=\u001b[39;49m\u001b[38;5;241;43m2\u001b[39;49m\u001b[43m,\u001b[49m\n\u001b[1;32m    118\u001b[0m \u001b[43m                \u001b[49m\u001b[43mchunk_size\u001b[49m\u001b[38;5;241;43m=\u001b[39;49m\u001b[38;5;241;43m600\u001b[39;49m\u001b[43m,\u001b[49m\n\u001b[1;32m    119\u001b[0m \u001b[43m                \u001b[49m\u001b[43mchunk_overlap\u001b[49m\u001b[38;5;241;43m=\u001b[39;49m\u001b[38;5;241;43m0\u001b[39;49m\n\u001b[1;32m    120\u001b[0m \u001b[43m            \u001b[49m\u001b[43m)\u001b[49m\n\u001b[1;32m    121\u001b[0m \u001b[43m        \u001b[49m\u001b[43m)\u001b[49m\u001b[43m,\u001b[49m\n\u001b[1;32m    122\u001b[0m \u001b[43m        \u001b[49m\u001b[43mVQAStrategyDetail\u001b[49m\u001b[43m(\u001b[49m\n\u001b[1;32m    123\u001b[0m \u001b[43m            \u001b[49m\u001b[43mcountry\u001b[49m\u001b[38;5;241;43m=\u001b[39;49m\u001b[38;5;124;43m\"\u001b[39;49m\u001b[38;5;124;43mspain\u001b[39;49m\u001b[38;5;124;43m\"\u001b[39;49m\u001b[43m,\u001b[49m\n\u001b[1;32m    124\u001b[0m \u001b[43m            \u001b[49m\u001b[43mfile_type\u001b[49m\u001b[38;5;241;43m=\u001b[39;49m\u001b[38;5;124;43m\"\u001b[39;49m\u001b[38;5;124;43menglish\u001b[39;49m\u001b[38;5;124;43m\"\u001b[39;49m\u001b[43m,\u001b[49m\n\u001b[1;32m    125\u001b[0m \u001b[43m            \u001b[49m\u001b[43mvqa_strategy_type\u001b[49m\u001b[38;5;241;43m=\u001b[39;49m\u001b[43mVQAStrategyType\u001b[49m\u001b[38;5;241;43m.\u001b[39;49m\u001b[43mRAG_Q\u001b[49m\u001b[43m,\u001b[49m\n\u001b[1;32m    126\u001b[0m \u001b[43m            \u001b[49m\u001b[43mprompt_type\u001b[49m\u001b[38;5;241;43m=\u001b[39;49m\u001b[43mRagQPromptType\u001b[49m\u001b[38;5;241;43m.\u001b[39;49m\u001b[43mV1\u001b[49m\u001b[43m,\u001b[49m\n\u001b[1;32m    127\u001b[0m \u001b[43m            \u001b[49m\u001b[43mrelevant_docs_count\u001b[49m\u001b[38;5;241;43m=\u001b[39;49m\u001b[38;5;241;43m2\u001b[39;49m\u001b[43m,\u001b[49m\n\u001b[1;32m    128\u001b[0m \u001b[43m            \u001b[49m\u001b[43mdoc_splitter_options\u001b[49m\u001b[38;5;241;43m=\u001b[39;49m\u001b[43mDocSplitterOptions\u001b[49m\u001b[43m(\u001b[49m\n\u001b[1;32m    129\u001b[0m \u001b[43m                \u001b[49m\u001b[43mdoc_splitter_type\u001b[49m\u001b[38;5;241;43m=\u001b[39;49m\u001b[43mDocumentSplitterType\u001b[49m\u001b[38;5;241;43m.\u001b[39;49m\u001b[43mRECURSIVE_CHARACTER_SPLITTER\u001b[49m\u001b[43m,\u001b[49m\n\u001b[1;32m    130\u001b[0m \u001b[43m                \u001b[49m\u001b[43madd_title\u001b[49m\u001b[38;5;241;43m=\u001b[39;49m\u001b[38;5;28;43;01mFalse\u001b[39;49;00m\u001b[43m,\u001b[49m\n\u001b[1;32m    131\u001b[0m \u001b[43m                \u001b[49m\u001b[43mtoken_count\u001b[49m\u001b[38;5;241;43m=\u001b[39;49m\u001b[38;5;241;43m2\u001b[39;49m\u001b[43m,\u001b[49m\n\u001b[1;32m    132\u001b[0m \u001b[43m                \u001b[49m\u001b[43mchunk_size\u001b[49m\u001b[38;5;241;43m=\u001b[39;49m\u001b[38;5;241;43m900\u001b[39;49m\u001b[43m,\u001b[49m\n\u001b[1;32m    133\u001b[0m \u001b[43m                \u001b[49m\u001b[43mchunk_overlap\u001b[49m\u001b[38;5;241;43m=\u001b[39;49m\u001b[38;5;241;43m0\u001b[39;49m\n\u001b[1;32m    134\u001b[0m \u001b[43m            \u001b[49m\u001b[43m)\u001b[49m\n\u001b[1;32m    135\u001b[0m \u001b[43m        \u001b[49m\u001b[43m)\u001b[49m\u001b[43m,\u001b[49m\n\u001b[1;32m    136\u001b[0m \u001b[43m        \u001b[49m\u001b[43mVQAStrategyDetail\u001b[49m\u001b[43m(\u001b[49m\n\u001b[1;32m    137\u001b[0m \u001b[43m            \u001b[49m\u001b[43mcountry\u001b[49m\u001b[38;5;241;43m=\u001b[39;49m\u001b[38;5;124;43m\"\u001b[39;49m\u001b[38;5;124;43mspain\u001b[39;49m\u001b[38;5;124;43m\"\u001b[39;49m\u001b[43m,\u001b[49m\n\u001b[1;32m    138\u001b[0m \u001b[43m            \u001b[49m\u001b[43mfile_type\u001b[49m\u001b[38;5;241;43m=\u001b[39;49m\u001b[38;5;124;43m\"\u001b[39;49m\u001b[38;5;124;43menglish\u001b[39;49m\u001b[38;5;124;43m\"\u001b[39;49m\u001b[43m,\u001b[49m\n\u001b[1;32m    139\u001b[0m \u001b[43m            \u001b[49m\u001b[43mvqa_strategy_type\u001b[49m\u001b[38;5;241;43m=\u001b[39;49m\u001b[43mVQAStrategyType\u001b[49m\u001b[38;5;241;43m.\u001b[39;49m\u001b[43mRAG_Q\u001b[49m\u001b[43m,\u001b[49m\n\u001b[1;32m    140\u001b[0m \u001b[43m            \u001b[49m\u001b[43mprompt_type\u001b[49m\u001b[38;5;241;43m=\u001b[39;49m\u001b[43mRagQPromptType\u001b[49m\u001b[38;5;241;43m.\u001b[39;49m\u001b[43mV1\u001b[49m\u001b[43m,\u001b[49m\n\u001b[1;32m    141\u001b[0m \u001b[43m            \u001b[49m\u001b[43mrelevant_docs_count\u001b[49m\u001b[38;5;241;43m=\u001b[39;49m\u001b[38;5;241;43m2\u001b[39;49m\u001b[43m,\u001b[49m\n\u001b[1;32m    142\u001b[0m \u001b[43m            \u001b[49m\u001b[43mdoc_splitter_options\u001b[49m\u001b[38;5;241;43m=\u001b[39;49m\u001b[43mDocSplitterOptions\u001b[49m\u001b[43m(\u001b[49m\n\u001b[1;32m    143\u001b[0m \u001b[43m                \u001b[49m\u001b[43mdoc_splitter_type\u001b[49m\u001b[38;5;241;43m=\u001b[39;49m\u001b[43mDocumentSplitterType\u001b[49m\u001b[38;5;241;43m.\u001b[39;49m\u001b[43mSPACY_SENTENCE_SPLITTER\u001b[49m\u001b[43m,\u001b[49m\n\u001b[1;32m    144\u001b[0m \u001b[43m                \u001b[49m\u001b[43madd_title\u001b[49m\u001b[38;5;241;43m=\u001b[39;49m\u001b[38;5;28;43;01mFalse\u001b[39;49;00m\u001b[43m,\u001b[49m\n\u001b[1;32m    145\u001b[0m \u001b[43m                \u001b[49m\u001b[43mtoken_count\u001b[49m\u001b[38;5;241;43m=\u001b[39;49m\u001b[38;5;241;43m1\u001b[39;49m\n\u001b[1;32m    146\u001b[0m \u001b[43m            \u001b[49m\u001b[43m)\u001b[49m\n\u001b[1;32m    147\u001b[0m \u001b[43m        \u001b[49m\u001b[43m)\u001b[49m\u001b[43m,\u001b[49m\n\u001b[1;32m    148\u001b[0m \u001b[43m        \u001b[49m\u001b[43mVQAStrategyDetail\u001b[49m\u001b[43m(\u001b[49m\n\u001b[1;32m    149\u001b[0m \u001b[43m            \u001b[49m\u001b[43mcountry\u001b[49m\u001b[38;5;241;43m=\u001b[39;49m\u001b[38;5;124;43m\"\u001b[39;49m\u001b[38;5;124;43mspain\u001b[39;49m\u001b[38;5;124;43m\"\u001b[39;49m\u001b[43m,\u001b[49m\n\u001b[1;32m    150\u001b[0m \u001b[43m            \u001b[49m\u001b[43mfile_type\u001b[49m\u001b[38;5;241;43m=\u001b[39;49m\u001b[38;5;124;43m\"\u001b[39;49m\u001b[38;5;124;43menglish\u001b[39;49m\u001b[38;5;124;43m\"\u001b[39;49m\u001b[43m,\u001b[49m\n\u001b[1;32m    151\u001b[0m \u001b[43m            \u001b[49m\u001b[43mvqa_strategy_type\u001b[49m\u001b[38;5;241;43m=\u001b[39;49m\u001b[43mVQAStrategyType\u001b[49m\u001b[38;5;241;43m.\u001b[39;49m\u001b[43mRAG_Q\u001b[49m\u001b[43m,\u001b[49m\n\u001b[1;32m    152\u001b[0m \u001b[43m            \u001b[49m\u001b[43mprompt_type\u001b[49m\u001b[38;5;241;43m=\u001b[39;49m\u001b[43mRagQPromptType\u001b[49m\u001b[38;5;241;43m.\u001b[39;49m\u001b[43mV1\u001b[49m\u001b[43m,\u001b[49m\n\u001b[1;32m    153\u001b[0m \u001b[43m            \u001b[49m\u001b[43mrelevant_docs_count\u001b[49m\u001b[38;5;241;43m=\u001b[39;49m\u001b[38;5;241;43m2\u001b[39;49m\u001b[43m,\u001b[49m\n\u001b[1;32m    154\u001b[0m \u001b[43m            \u001b[49m\u001b[43mdoc_splitter_options\u001b[49m\u001b[38;5;241;43m=\u001b[39;49m\u001b[43mDocSplitterOptions\u001b[49m\u001b[43m(\u001b[49m\n\u001b[1;32m    155\u001b[0m \u001b[43m                \u001b[49m\u001b[43mdoc_splitter_type\u001b[49m\u001b[38;5;241;43m=\u001b[39;49m\u001b[43mDocumentSplitterType\u001b[49m\u001b[38;5;241;43m.\u001b[39;49m\u001b[43mSPACY_SENTENCE_SPLITTER\u001b[49m\u001b[43m,\u001b[49m\n\u001b[1;32m    156\u001b[0m \u001b[43m                \u001b[49m\u001b[43madd_title\u001b[49m\u001b[38;5;241;43m=\u001b[39;49m\u001b[38;5;28;43;01mFalse\u001b[39;49;00m\u001b[43m,\u001b[49m\n\u001b[1;32m    157\u001b[0m \u001b[43m                \u001b[49m\u001b[43mtoken_count\u001b[49m\u001b[38;5;241;43m=\u001b[39;49m\u001b[38;5;241;43m2\u001b[39;49m\n\u001b[1;32m    158\u001b[0m \u001b[43m            \u001b[49m\u001b[43m)\u001b[49m\n\u001b[1;32m    159\u001b[0m \u001b[43m        \u001b[49m\u001b[43m)\u001b[49m\u001b[43m,\u001b[49m\n\u001b[1;32m    160\u001b[0m \u001b[43m        \u001b[49m\u001b[43mVQAStrategyDetail\u001b[49m\u001b[43m(\u001b[49m\n\u001b[1;32m    161\u001b[0m \u001b[43m            \u001b[49m\u001b[43mcountry\u001b[49m\u001b[38;5;241;43m=\u001b[39;49m\u001b[38;5;124;43m\"\u001b[39;49m\u001b[38;5;124;43mspain\u001b[39;49m\u001b[38;5;124;43m\"\u001b[39;49m\u001b[43m,\u001b[49m\n\u001b[1;32m    162\u001b[0m \u001b[43m            \u001b[49m\u001b[43mfile_type\u001b[49m\u001b[38;5;241;43m=\u001b[39;49m\u001b[38;5;124;43m\"\u001b[39;49m\u001b[38;5;124;43menglish\u001b[39;49m\u001b[38;5;124;43m\"\u001b[39;49m\u001b[43m,\u001b[49m\n\u001b[1;32m    163\u001b[0m \u001b[43m            \u001b[49m\u001b[43mvqa_strategy_type\u001b[49m\u001b[38;5;241;43m=\u001b[39;49m\u001b[43mVQAStrategyType\u001b[49m\u001b[38;5;241;43m.\u001b[39;49m\u001b[43mRAG_Q\u001b[49m\u001b[43m,\u001b[49m\n\u001b[1;32m    164\u001b[0m \u001b[43m            \u001b[49m\u001b[43mprompt_type\u001b[49m\u001b[38;5;241;43m=\u001b[39;49m\u001b[43mRagQPromptType\u001b[49m\u001b[38;5;241;43m.\u001b[39;49m\u001b[43mV1\u001b[49m\u001b[43m,\u001b[49m\n\u001b[1;32m    165\u001b[0m \u001b[43m            \u001b[49m\u001b[43mrelevant_docs_count\u001b[49m\u001b[38;5;241;43m=\u001b[39;49m\u001b[38;5;241;43m2\u001b[39;49m\u001b[43m,\u001b[49m\n\u001b[1;32m    166\u001b[0m \u001b[43m            \u001b[49m\u001b[43mdoc_splitter_options\u001b[49m\u001b[38;5;241;43m=\u001b[39;49m\u001b[43mDocSplitterOptions\u001b[49m\u001b[43m(\u001b[49m\n\u001b[1;32m    167\u001b[0m \u001b[43m                \u001b[49m\u001b[43mdoc_splitter_type\u001b[49m\u001b[38;5;241;43m=\u001b[39;49m\u001b[43mDocumentSplitterType\u001b[49m\u001b[38;5;241;43m.\u001b[39;49m\u001b[43mSPACY_SENTENCE_SPLITTER\u001b[49m\u001b[43m,\u001b[49m\n\u001b[1;32m    168\u001b[0m \u001b[43m                \u001b[49m\u001b[43madd_title\u001b[49m\u001b[38;5;241;43m=\u001b[39;49m\u001b[38;5;28;43;01mFalse\u001b[39;49;00m\u001b[43m,\u001b[49m\n\u001b[1;32m    169\u001b[0m \u001b[43m                \u001b[49m\u001b[43mtoken_count\u001b[49m\u001b[38;5;241;43m=\u001b[39;49m\u001b[38;5;241;43m3\u001b[39;49m\n\u001b[1;32m    170\u001b[0m \u001b[43m            \u001b[49m\u001b[43m)\u001b[49m\n\u001b[1;32m    171\u001b[0m \u001b[43m        \u001b[49m\u001b[43m)\u001b[49m\u001b[43m,\u001b[49m\n\u001b[1;32m    172\u001b[0m \u001b[43m        \u001b[49m\u001b[43mVQAStrategyDetail\u001b[49m\u001b[43m(\u001b[49m\n\u001b[1;32m    173\u001b[0m \u001b[43m            \u001b[49m\u001b[43mcountry\u001b[49m\u001b[38;5;241;43m=\u001b[39;49m\u001b[38;5;124;43m\"\u001b[39;49m\u001b[38;5;124;43mspain\u001b[39;49m\u001b[38;5;124;43m\"\u001b[39;49m\u001b[43m,\u001b[49m\n\u001b[1;32m    174\u001b[0m \u001b[43m            \u001b[49m\u001b[43mfile_type\u001b[49m\u001b[38;5;241;43m=\u001b[39;49m\u001b[38;5;124;43m\"\u001b[39;49m\u001b[38;5;124;43menglish\u001b[39;49m\u001b[38;5;124;43m\"\u001b[39;49m\u001b[43m,\u001b[49m\n\u001b[1;32m    175\u001b[0m \u001b[43m            \u001b[49m\u001b[43mvqa_strategy_type\u001b[49m\u001b[38;5;241;43m=\u001b[39;49m\u001b[43mVQAStrategyType\u001b[49m\u001b[38;5;241;43m.\u001b[39;49m\u001b[43mRAG_Q\u001b[49m\u001b[43m,\u001b[49m\n\u001b[1;32m    176\u001b[0m \u001b[43m            \u001b[49m\u001b[43mprompt_type\u001b[49m\u001b[38;5;241;43m=\u001b[39;49m\u001b[43mRagQPromptType\u001b[49m\u001b[38;5;241;43m.\u001b[39;49m\u001b[43mV1\u001b[49m\u001b[43m,\u001b[49m\n\u001b[1;32m    177\u001b[0m \u001b[43m            \u001b[49m\u001b[43mrelevant_docs_count\u001b[49m\u001b[38;5;241;43m=\u001b[39;49m\u001b[38;5;241;43m2\u001b[39;49m\u001b[43m,\u001b[49m\n\u001b[1;32m    178\u001b[0m \u001b[43m            \u001b[49m\u001b[43mdoc_splitter_options\u001b[49m\u001b[38;5;241;43m=\u001b[39;49m\u001b[43mDocSplitterOptions\u001b[49m\u001b[43m(\u001b[49m\n\u001b[1;32m    179\u001b[0m \u001b[43m                \u001b[49m\u001b[43mdoc_splitter_type\u001b[49m\u001b[38;5;241;43m=\u001b[39;49m\u001b[43mDocumentSplitterType\u001b[49m\u001b[38;5;241;43m.\u001b[39;49m\u001b[43mSPACY_SENTENCE_SPLITTER\u001b[49m\u001b[43m,\u001b[49m\n\u001b[1;32m    180\u001b[0m \u001b[43m                \u001b[49m\u001b[43madd_title\u001b[49m\u001b[38;5;241;43m=\u001b[39;49m\u001b[38;5;28;43;01mFalse\u001b[39;49;00m\u001b[43m,\u001b[49m\n\u001b[1;32m    181\u001b[0m \u001b[43m                \u001b[49m\u001b[43mtoken_count\u001b[49m\u001b[38;5;241;43m=\u001b[39;49m\u001b[38;5;241;43m4\u001b[39;49m\n\u001b[1;32m    182\u001b[0m \u001b[43m            \u001b[49m\u001b[43m)\u001b[49m\n\u001b[1;32m    183\u001b[0m \u001b[43m        \u001b[49m\u001b[43m)\u001b[49m\n\u001b[1;32m    184\u001b[0m \u001b[43m    \u001b[49m\u001b[43m]\u001b[49m\n\u001b[1;32m    185\u001b[0m \u001b[43m)\u001b[49m\n\u001b[1;32m    186\u001b[0m evaluation_results \u001b[38;5;241m=\u001b[39m evaluation_results\u001b[38;5;241m.\u001b[39mfillna(\u001b[38;5;124m\"\u001b[39m\u001b[38;5;124m-\u001b[39m\u001b[38;5;124m\"\u001b[39m)\n\u001b[1;32m    187\u001b[0m evaluation_results\n",
      "File \u001b[0;32m~/Documents/TFM/world-med-visual-qa/src/utils/dataset_helpers/world_med_qa_v/dataset_management.py:67\u001b[0m, in \u001b[0;36mload_evaluation_results\u001b[0;34m(evaluation_results_folder, vqa_strategy_details)\u001b[0m\n\u001b[1;32m     63\u001b[0m \u001b[38;5;28;01mfor\u001b[39;00m detail \u001b[38;5;129;01min\u001b[39;00m vqa_strategy_details:\n\u001b[1;32m     64\u001b[0m     evaluation_results_filepath \u001b[38;5;241m=\u001b[39m detail\u001b[38;5;241m.\u001b[39mgenerate_evaluation_results_filepath(\n\u001b[1;32m     65\u001b[0m         evaluation_results_folder\u001b[38;5;241m=\u001b[39mevaluation_results_folder\n\u001b[1;32m     66\u001b[0m     )\n\u001b[0;32m---> 67\u001b[0m     evaluation_metrics \u001b[38;5;241m=\u001b[39m \u001b[43m__load_evaluation_result_from_filepath\u001b[49m\u001b[43m(\u001b[49m\u001b[43mevaluation_results_filepath\u001b[49m\u001b[43m)\u001b[49m\n\u001b[1;32m     68\u001b[0m     evaluation_results\u001b[38;5;241m.\u001b[39mappend({\n\u001b[1;32m     69\u001b[0m         \u001b[38;5;124m\"\u001b[39m\u001b[38;5;124mcountry\u001b[39m\u001b[38;5;124m\"\u001b[39m: detail\u001b[38;5;241m.\u001b[39mcountry,\n\u001b[1;32m     70\u001b[0m         \u001b[38;5;124m\"\u001b[39m\u001b[38;5;124mfile_type\u001b[39m\u001b[38;5;124m\"\u001b[39m: detail\u001b[38;5;241m.\u001b[39mfile_type,\n\u001b[0;32m   (...)\u001b[0m\n\u001b[1;32m     91\u001b[0m         \u001b[38;5;124m\"\u001b[39m\u001b[38;5;124mwell_formatted_answers\u001b[39m\u001b[38;5;124m\"\u001b[39m: evaluation_metrics[\u001b[38;5;124m'\u001b[39m\u001b[38;5;124mpercentage_well_formatted\u001b[39m\u001b[38;5;124m'\u001b[39m]            \n\u001b[1;32m     92\u001b[0m     })\n\u001b[1;32m     94\u001b[0m \u001b[38;5;28;01mreturn\u001b[39;00m pd\u001b[38;5;241m.\u001b[39mDataFrame(evaluation_results)\n",
      "File \u001b[0;32m~/Documents/TFM/world-med-visual-qa/src/utils/dataset_helpers/world_med_qa_v/dataset_management.py:105\u001b[0m, in \u001b[0;36m__load_evaluation_result_from_filepath\u001b[0;34m(evaluation_results_filepath)\u001b[0m\n\u001b[1;32m    102\u001b[0m \u001b[38;5;28;01mdef\u001b[39;00m \u001b[38;5;21m__load_evaluation_result_from_filepath\u001b[39m(\n\u001b[1;32m    103\u001b[0m     evaluation_results_filepath: Path\n\u001b[1;32m    104\u001b[0m ) \u001b[38;5;241m-\u001b[39m\u001b[38;5;241m>\u001b[39m \u001b[38;5;28mdict\u001b[39m:\n\u001b[0;32m--> 105\u001b[0m     \u001b[38;5;28;01mwith\u001b[39;00m \u001b[38;5;28;43mopen\u001b[39;49m\u001b[43m(\u001b[49m\u001b[43mfile\u001b[49m\u001b[38;5;241;43m=\u001b[39;49m\u001b[43mevaluation_results_filepath\u001b[49m\u001b[43m,\u001b[49m\u001b[43m \u001b[49m\u001b[43mmode\u001b[49m\u001b[38;5;241;43m=\u001b[39;49m\u001b[38;5;124;43m'\u001b[39;49m\u001b[38;5;124;43mr\u001b[39;49m\u001b[38;5;124;43m'\u001b[39;49m\u001b[43m,\u001b[49m\u001b[43m \u001b[49m\u001b[43mencoding\u001b[49m\u001b[38;5;241;43m=\u001b[39;49m\u001b[38;5;124;43m'\u001b[39;49m\u001b[38;5;124;43mutf-8\u001b[39;49m\u001b[38;5;124;43m'\u001b[39;49m\u001b[43m)\u001b[49m \u001b[38;5;28;01mas\u001b[39;00m evaluation_file:\n\u001b[1;32m    106\u001b[0m         evaluation_data \u001b[38;5;241m=\u001b[39m json\u001b[38;5;241m.\u001b[39mload(evaluation_file)\n\u001b[1;32m    108\u001b[0m     \u001b[38;5;28;01mreturn\u001b[39;00m evaluation_data\n",
      "\u001b[0;31mFileNotFoundError\u001b[0m: [Errno 2] No such file or directory: 'evaluation_results/rag_q/rdc2/spacy_sent_splitting/no_title_tc1/spain_english_rq_v1_evaluation.json'"
     ]
    }
   ],
   "source": [
    "evaluation_results = world_med_qa_v_dataset_management.load_evaluation_results(\n",
    "    evaluation_results_folder=RESULTS_DIR,\n",
    "    vqa_strategy_details=[\n",
    "        VQAStrategyDetail(\n",
    "            country=\"spain\",\n",
    "            file_type=\"english\",\n",
    "            vqa_strategy_type=VQAStrategyType.RAG_Q,\n",
    "            prompt_type=RagQPromptType.V1,\n",
    "            relevant_docs_count=2,\n",
    "            doc_splitter_options=DocSplitterOptions(\n",
    "                doc_splitter_type=DocumentSplitterType.PARAGRAPH_SPLITTER,\n",
    "                add_title=False,\n",
    "                token_count=1\n",
    "            )\n",
    "        ),\n",
    "        VQAStrategyDetail(\n",
    "            country=\"spain\",\n",
    "            file_type=\"english\",\n",
    "            vqa_strategy_type=VQAStrategyType.RAG_Q,\n",
    "            prompt_type=RagQPromptType.V1,\n",
    "            relevant_docs_count=2,\n",
    "            doc_splitter_options=DocSplitterOptions(\n",
    "                doc_splitter_type=DocumentSplitterType.PARAGRAPH_SPLITTER,\n",
    "                add_title=False,\n",
    "                token_count=2\n",
    "            )\n",
    "        ),\n",
    "        VQAStrategyDetail(\n",
    "            country=\"spain\",\n",
    "            file_type=\"english\",\n",
    "            vqa_strategy_type=VQAStrategyType.RAG_Q,\n",
    "            prompt_type=RagQPromptType.V1,\n",
    "            relevant_docs_count=2,\n",
    "            doc_splitter_options=DocSplitterOptions(\n",
    "                doc_splitter_type=DocumentSplitterType.PARAGRAPH_SPLITTER,\n",
    "                add_title=False,\n",
    "                token_count=3\n",
    "            )\n",
    "        ),\n",
    "        VQAStrategyDetail(\n",
    "            country=\"spain\",\n",
    "            file_type=\"english\",\n",
    "            vqa_strategy_type=VQAStrategyType.RAG_Q,\n",
    "            prompt_type=RagQPromptType.V1,\n",
    "            relevant_docs_count=2,\n",
    "            doc_splitter_options=DocSplitterOptions(\n",
    "                doc_splitter_type=DocumentSplitterType.PARAGRAPH_SPLITTER,\n",
    "                add_title=False,\n",
    "                token_count=4\n",
    "            )\n",
    "        ),\n",
    "        VQAStrategyDetail(\n",
    "            country=\"spain\",\n",
    "            file_type=\"english\",\n",
    "            vqa_strategy_type=VQAStrategyType.RAG_Q,\n",
    "            prompt_type=RagQPromptType.V1,\n",
    "            relevant_docs_count=2,\n",
    "            doc_splitter_options=DocSplitterOptions(\n",
    "                doc_splitter_type=DocumentSplitterType.RECURSIVE_CHARACTER_SPLITTER,\n",
    "                add_title=False,\n",
    "                token_count=1,\n",
    "                chunk_size=300,\n",
    "                chunk_overlap=0\n",
    "            )\n",
    "        ),\n",
    "        VQAStrategyDetail(\n",
    "            country=\"spain\",\n",
    "            file_type=\"english\",\n",
    "            vqa_strategy_type=VQAStrategyType.RAG_Q,\n",
    "            prompt_type=RagQPromptType.V1,\n",
    "            relevant_docs_count=2,\n",
    "            doc_splitter_options=DocSplitterOptions(\n",
    "                doc_splitter_type=DocumentSplitterType.RECURSIVE_CHARACTER_SPLITTER,\n",
    "                add_title=False,\n",
    "                token_count=1,\n",
    "                chunk_size=600,\n",
    "                chunk_overlap=0\n",
    "            )\n",
    "        ),\n",
    "        VQAStrategyDetail(\n",
    "            country=\"spain\",\n",
    "            file_type=\"english\",\n",
    "            vqa_strategy_type=VQAStrategyType.RAG_Q,\n",
    "            prompt_type=RagQPromptType.V1,\n",
    "            relevant_docs_count=2,\n",
    "            doc_splitter_options=DocSplitterOptions(\n",
    "                doc_splitter_type=DocumentSplitterType.RECURSIVE_CHARACTER_SPLITTER,\n",
    "                add_title=False,\n",
    "                token_count=1,\n",
    "                chunk_size=900,\n",
    "                chunk_overlap=0\n",
    "            )\n",
    "        ),\n",
    "        VQAStrategyDetail(\n",
    "            country=\"spain\",\n",
    "            file_type=\"english\",\n",
    "            vqa_strategy_type=VQAStrategyType.RAG_Q,\n",
    "            prompt_type=RagQPromptType.V1,\n",
    "            relevant_docs_count=2,\n",
    "            doc_splitter_options=DocSplitterOptions(\n",
    "                doc_splitter_type=DocumentSplitterType.RECURSIVE_CHARACTER_SPLITTER,\n",
    "                add_title=False,\n",
    "                token_count=2,\n",
    "                chunk_size=300,\n",
    "                chunk_overlap=0\n",
    "            )\n",
    "        ),\n",
    "        VQAStrategyDetail(\n",
    "            country=\"spain\",\n",
    "            file_type=\"english\",\n",
    "            vqa_strategy_type=VQAStrategyType.RAG_Q,\n",
    "            prompt_type=RagQPromptType.V1,\n",
    "            relevant_docs_count=2,\n",
    "            doc_splitter_options=DocSplitterOptions(\n",
    "                doc_splitter_type=DocumentSplitterType.RECURSIVE_CHARACTER_SPLITTER,\n",
    "                add_title=False,\n",
    "                token_count=2,\n",
    "                chunk_size=600,\n",
    "                chunk_overlap=0\n",
    "            )\n",
    "        ),\n",
    "        VQAStrategyDetail(\n",
    "            country=\"spain\",\n",
    "            file_type=\"english\",\n",
    "            vqa_strategy_type=VQAStrategyType.RAG_Q,\n",
    "            prompt_type=RagQPromptType.V1,\n",
    "            relevant_docs_count=2,\n",
    "            doc_splitter_options=DocSplitterOptions(\n",
    "                doc_splitter_type=DocumentSplitterType.RECURSIVE_CHARACTER_SPLITTER,\n",
    "                add_title=False,\n",
    "                token_count=2,\n",
    "                chunk_size=900,\n",
    "                chunk_overlap=0\n",
    "            )\n",
    "        ),\n",
    "        VQAStrategyDetail(\n",
    "            country=\"spain\",\n",
    "            file_type=\"english\",\n",
    "            vqa_strategy_type=VQAStrategyType.RAG_Q,\n",
    "            prompt_type=RagQPromptType.V1,\n",
    "            relevant_docs_count=2,\n",
    "            doc_splitter_options=DocSplitterOptions(\n",
    "                doc_splitter_type=DocumentSplitterType.SPACY_SENTENCE_SPLITTER,\n",
    "                add_title=False,\n",
    "                token_count=1\n",
    "            )\n",
    "        ),\n",
    "        VQAStrategyDetail(\n",
    "            country=\"spain\",\n",
    "            file_type=\"english\",\n",
    "            vqa_strategy_type=VQAStrategyType.RAG_Q,\n",
    "            prompt_type=RagQPromptType.V1,\n",
    "            relevant_docs_count=2,\n",
    "            doc_splitter_options=DocSplitterOptions(\n",
    "                doc_splitter_type=DocumentSplitterType.SPACY_SENTENCE_SPLITTER,\n",
    "                add_title=False,\n",
    "                token_count=2\n",
    "            )\n",
    "        ),\n",
    "        VQAStrategyDetail(\n",
    "            country=\"spain\",\n",
    "            file_type=\"english\",\n",
    "            vqa_strategy_type=VQAStrategyType.RAG_Q,\n",
    "            prompt_type=RagQPromptType.V1,\n",
    "            relevant_docs_count=2,\n",
    "            doc_splitter_options=DocSplitterOptions(\n",
    "                doc_splitter_type=DocumentSplitterType.SPACY_SENTENCE_SPLITTER,\n",
    "                add_title=False,\n",
    "                token_count=3\n",
    "            )\n",
    "        ),\n",
    "        VQAStrategyDetail(\n",
    "            country=\"spain\",\n",
    "            file_type=\"english\",\n",
    "            vqa_strategy_type=VQAStrategyType.RAG_Q,\n",
    "            prompt_type=RagQPromptType.V1,\n",
    "            relevant_docs_count=2,\n",
    "            doc_splitter_options=DocSplitterOptions(\n",
    "                doc_splitter_type=DocumentSplitterType.SPACY_SENTENCE_SPLITTER,\n",
    "                add_title=False,\n",
    "                token_count=4\n",
    "            )\n",
    "        )\n",
    "    ]\n",
    ")\n",
    "evaluation_results = evaluation_results.fillna(\"-\")\n",
    "evaluation_results"
   ]
  },
  {
   "cell_type": "code",
   "execution_count": 13,
   "metadata": {},
   "outputs": [
    {
     "data": {
      "application/vnd.plotly.v1+json": {
       "config": {
        "plotlyServerURL": "https://plot.ly"
       },
       "data": [
        {
         "cliponaxis": false,
         "customdata": [
          [
           "rag_q",
           "rq_v1",
           "par_splitting",
           false,
           1,
           "-",
           "-"
          ],
          [
           "rag_q",
           "rq_v1",
           "par_splitting",
           false,
           2,
           "-",
           "-"
          ],
          [
           "rag_q",
           "rq_v1",
           "par_splitting",
           false,
           3,
           "-",
           "-"
          ],
          [
           "rag_q",
           "rq_v1",
           "par_splitting",
           false,
           4,
           "-",
           "-"
          ],
          [
           "rag_q",
           "rq_v1",
           "rec_char_splitting",
           false,
           1,
           300,
           0
          ],
          [
           "rag_q",
           "rq_v1",
           "rec_char_splitting",
           false,
           1,
           600,
           0
          ],
          [
           "rag_q",
           "rq_v1",
           "rec_char_splitting",
           false,
           1,
           900,
           0
          ],
          [
           "rag_q",
           "rq_v1",
           "rec_char_splitting",
           false,
           2,
           300,
           0
          ],
          [
           "rag_q",
           "rq_v1",
           "rec_char_splitting",
           false,
           2,
           600,
           0
          ],
          [
           "rag_q",
           "rq_v1",
           "rec_char_splitting",
           false,
           2,
           900,
           0
          ],
          [
           "rag_q",
           "rq_v1",
           "spacy_sent_splitting",
           false,
           1,
           "-",
           "-"
          ],
          [
           "rag_q",
           "rq_v1",
           "spacy_sent_splitting",
           false,
           2,
           "-",
           "-"
          ],
          [
           "rag_q",
           "rq_v1",
           "spacy_sent_splitting",
           false,
           3,
           "-",
           "-"
          ],
          [
           "rag_q",
           "rq_v1",
           "spacy_sent_splitting",
           false,
           4,
           "-",
           "-"
          ]
         ],
         "hovertemplate": "VQA Strategy Type: %{customdata[0]}<br>Prompt Type: %{customdata[1]}<br>Document Splitter: %{customdata[2]}<br>Add Title: %{customdata[3]}<br>Token Count: %{customdata[4]}<br>Chunk Size: %{customdata[5]}<br>Chunk Overlap: %{customdata[6]}<br>",
         "marker": {
          "color": "royalblue",
          "opacity": 0.8
         },
         "name": "Accuracy",
         "text": [
          0.24,
          0.184,
          0.176,
          0.152,
          0.272,
          0.288,
          0.248,
          0.288,
          0.272,
          0.248,
          0.264,
          0.272,
          0.272,
          0.264
         ],
         "textposition": "outside",
         "texttemplate": "%{y:.1%}",
         "type": "bar",
         "width": 0.4,
         "x": [
          0,
          1,
          2,
          3,
          4,
          5,
          6,
          7,
          8,
          9,
          10,
          11,
          12,
          13
         ],
         "y": [
          0.24,
          0.184,
          0.176,
          0.152,
          0.272,
          0.288,
          0.248,
          0.288,
          0.272,
          0.248,
          0.264,
          0.272,
          0.272,
          0.264
         ]
        },
        {
         "cliponaxis": false,
         "customdata": [
          [
           "rag_q",
           "rq_v1",
           "par_splitting",
           false,
           1,
           "-",
           "-"
          ],
          [
           "rag_q",
           "rq_v1",
           "par_splitting",
           false,
           2,
           "-",
           "-"
          ],
          [
           "rag_q",
           "rq_v1",
           "par_splitting",
           false,
           3,
           "-",
           "-"
          ],
          [
           "rag_q",
           "rq_v1",
           "par_splitting",
           false,
           4,
           "-",
           "-"
          ],
          [
           "rag_q",
           "rq_v1",
           "rec_char_splitting",
           false,
           1,
           300,
           0
          ],
          [
           "rag_q",
           "rq_v1",
           "rec_char_splitting",
           false,
           1,
           600,
           0
          ],
          [
           "rag_q",
           "rq_v1",
           "rec_char_splitting",
           false,
           1,
           900,
           0
          ],
          [
           "rag_q",
           "rq_v1",
           "rec_char_splitting",
           false,
           2,
           300,
           0
          ],
          [
           "rag_q",
           "rq_v1",
           "rec_char_splitting",
           false,
           2,
           600,
           0
          ],
          [
           "rag_q",
           "rq_v1",
           "rec_char_splitting",
           false,
           2,
           900,
           0
          ],
          [
           "rag_q",
           "rq_v1",
           "spacy_sent_splitting",
           false,
           1,
           "-",
           "-"
          ],
          [
           "rag_q",
           "rq_v1",
           "spacy_sent_splitting",
           false,
           2,
           "-",
           "-"
          ],
          [
           "rag_q",
           "rq_v1",
           "spacy_sent_splitting",
           false,
           3,
           "-",
           "-"
          ],
          [
           "rag_q",
           "rq_v1",
           "spacy_sent_splitting",
           false,
           4,
           "-",
           "-"
          ]
         ],
         "hovertemplate": "VQA Strategy Type: %{customdata[0]}<br>Prompt Type: %{customdata[1]}<br>Document Splitter: %{customdata[2]}<br>Add Title: %{customdata[3]}<br>Token Count: %{customdata[4]}<br>Chunk Size: %{customdata[5]}<br>Chunk Overlap: %{customdata[6]}<br>",
         "marker": {
          "color": "darkorange",
          "opacity": 0.8
         },
         "name": "Well-Formatted Answers",
         "text": [
          0.92,
          0.8,
          0.68,
          0.456,
          1,
          1,
          1,
          1,
          1,
          1,
          1,
          1,
          1,
          1
         ],
         "textposition": "outside",
         "texttemplate": "%{y:.1%}",
         "type": "bar",
         "width": 0.4,
         "x": [
          0,
          1,
          2,
          3,
          4,
          5,
          6,
          7,
          8,
          9,
          10,
          11,
          12,
          13
         ],
         "y": [
          0.92,
          0.8,
          0.68,
          0.456,
          1,
          1,
          1,
          1,
          1,
          1,
          1,
          1,
          1,
          1
         ]
        }
       ],
       "layout": {
        "barcornerradius": 15,
        "barmode": "group",
        "font": {
         "color": "black",
         "family": "Arial, sans-serif",
         "size": 14
        },
        "height": 500,
        "template": {
         "data": {
          "bar": [
           {
            "error_x": {
             "color": "#2a3f5f"
            },
            "error_y": {
             "color": "#2a3f5f"
            },
            "marker": {
             "line": {
              "color": "#E5ECF6",
              "width": 0.5
             },
             "pattern": {
              "fillmode": "overlay",
              "size": 10,
              "solidity": 0.2
             }
            },
            "type": "bar"
           }
          ],
          "barpolar": [
           {
            "marker": {
             "line": {
              "color": "#E5ECF6",
              "width": 0.5
             },
             "pattern": {
              "fillmode": "overlay",
              "size": 10,
              "solidity": 0.2
             }
            },
            "type": "barpolar"
           }
          ],
          "carpet": [
           {
            "aaxis": {
             "endlinecolor": "#2a3f5f",
             "gridcolor": "white",
             "linecolor": "white",
             "minorgridcolor": "white",
             "startlinecolor": "#2a3f5f"
            },
            "baxis": {
             "endlinecolor": "#2a3f5f",
             "gridcolor": "white",
             "linecolor": "white",
             "minorgridcolor": "white",
             "startlinecolor": "#2a3f5f"
            },
            "type": "carpet"
           }
          ],
          "choropleth": [
           {
            "colorbar": {
             "outlinewidth": 0,
             "ticks": ""
            },
            "type": "choropleth"
           }
          ],
          "contour": [
           {
            "colorbar": {
             "outlinewidth": 0,
             "ticks": ""
            },
            "colorscale": [
             [
              0,
              "#0d0887"
             ],
             [
              0.1111111111111111,
              "#46039f"
             ],
             [
              0.2222222222222222,
              "#7201a8"
             ],
             [
              0.3333333333333333,
              "#9c179e"
             ],
             [
              0.4444444444444444,
              "#bd3786"
             ],
             [
              0.5555555555555556,
              "#d8576b"
             ],
             [
              0.6666666666666666,
              "#ed7953"
             ],
             [
              0.7777777777777778,
              "#fb9f3a"
             ],
             [
              0.8888888888888888,
              "#fdca26"
             ],
             [
              1,
              "#f0f921"
             ]
            ],
            "type": "contour"
           }
          ],
          "contourcarpet": [
           {
            "colorbar": {
             "outlinewidth": 0,
             "ticks": ""
            },
            "type": "contourcarpet"
           }
          ],
          "heatmap": [
           {
            "colorbar": {
             "outlinewidth": 0,
             "ticks": ""
            },
            "colorscale": [
             [
              0,
              "#0d0887"
             ],
             [
              0.1111111111111111,
              "#46039f"
             ],
             [
              0.2222222222222222,
              "#7201a8"
             ],
             [
              0.3333333333333333,
              "#9c179e"
             ],
             [
              0.4444444444444444,
              "#bd3786"
             ],
             [
              0.5555555555555556,
              "#d8576b"
             ],
             [
              0.6666666666666666,
              "#ed7953"
             ],
             [
              0.7777777777777778,
              "#fb9f3a"
             ],
             [
              0.8888888888888888,
              "#fdca26"
             ],
             [
              1,
              "#f0f921"
             ]
            ],
            "type": "heatmap"
           }
          ],
          "heatmapgl": [
           {
            "colorbar": {
             "outlinewidth": 0,
             "ticks": ""
            },
            "colorscale": [
             [
              0,
              "#0d0887"
             ],
             [
              0.1111111111111111,
              "#46039f"
             ],
             [
              0.2222222222222222,
              "#7201a8"
             ],
             [
              0.3333333333333333,
              "#9c179e"
             ],
             [
              0.4444444444444444,
              "#bd3786"
             ],
             [
              0.5555555555555556,
              "#d8576b"
             ],
             [
              0.6666666666666666,
              "#ed7953"
             ],
             [
              0.7777777777777778,
              "#fb9f3a"
             ],
             [
              0.8888888888888888,
              "#fdca26"
             ],
             [
              1,
              "#f0f921"
             ]
            ],
            "type": "heatmapgl"
           }
          ],
          "histogram": [
           {
            "marker": {
             "pattern": {
              "fillmode": "overlay",
              "size": 10,
              "solidity": 0.2
             }
            },
            "type": "histogram"
           }
          ],
          "histogram2d": [
           {
            "colorbar": {
             "outlinewidth": 0,
             "ticks": ""
            },
            "colorscale": [
             [
              0,
              "#0d0887"
             ],
             [
              0.1111111111111111,
              "#46039f"
             ],
             [
              0.2222222222222222,
              "#7201a8"
             ],
             [
              0.3333333333333333,
              "#9c179e"
             ],
             [
              0.4444444444444444,
              "#bd3786"
             ],
             [
              0.5555555555555556,
              "#d8576b"
             ],
             [
              0.6666666666666666,
              "#ed7953"
             ],
             [
              0.7777777777777778,
              "#fb9f3a"
             ],
             [
              0.8888888888888888,
              "#fdca26"
             ],
             [
              1,
              "#f0f921"
             ]
            ],
            "type": "histogram2d"
           }
          ],
          "histogram2dcontour": [
           {
            "colorbar": {
             "outlinewidth": 0,
             "ticks": ""
            },
            "colorscale": [
             [
              0,
              "#0d0887"
             ],
             [
              0.1111111111111111,
              "#46039f"
             ],
             [
              0.2222222222222222,
              "#7201a8"
             ],
             [
              0.3333333333333333,
              "#9c179e"
             ],
             [
              0.4444444444444444,
              "#bd3786"
             ],
             [
              0.5555555555555556,
              "#d8576b"
             ],
             [
              0.6666666666666666,
              "#ed7953"
             ],
             [
              0.7777777777777778,
              "#fb9f3a"
             ],
             [
              0.8888888888888888,
              "#fdca26"
             ],
             [
              1,
              "#f0f921"
             ]
            ],
            "type": "histogram2dcontour"
           }
          ],
          "mesh3d": [
           {
            "colorbar": {
             "outlinewidth": 0,
             "ticks": ""
            },
            "type": "mesh3d"
           }
          ],
          "parcoords": [
           {
            "line": {
             "colorbar": {
              "outlinewidth": 0,
              "ticks": ""
             }
            },
            "type": "parcoords"
           }
          ],
          "pie": [
           {
            "automargin": true,
            "type": "pie"
           }
          ],
          "scatter": [
           {
            "fillpattern": {
             "fillmode": "overlay",
             "size": 10,
             "solidity": 0.2
            },
            "type": "scatter"
           }
          ],
          "scatter3d": [
           {
            "line": {
             "colorbar": {
              "outlinewidth": 0,
              "ticks": ""
             }
            },
            "marker": {
             "colorbar": {
              "outlinewidth": 0,
              "ticks": ""
             }
            },
            "type": "scatter3d"
           }
          ],
          "scattercarpet": [
           {
            "marker": {
             "colorbar": {
              "outlinewidth": 0,
              "ticks": ""
             }
            },
            "type": "scattercarpet"
           }
          ],
          "scattergeo": [
           {
            "marker": {
             "colorbar": {
              "outlinewidth": 0,
              "ticks": ""
             }
            },
            "type": "scattergeo"
           }
          ],
          "scattergl": [
           {
            "marker": {
             "colorbar": {
              "outlinewidth": 0,
              "ticks": ""
             }
            },
            "type": "scattergl"
           }
          ],
          "scattermapbox": [
           {
            "marker": {
             "colorbar": {
              "outlinewidth": 0,
              "ticks": ""
             }
            },
            "type": "scattermapbox"
           }
          ],
          "scatterpolar": [
           {
            "marker": {
             "colorbar": {
              "outlinewidth": 0,
              "ticks": ""
             }
            },
            "type": "scatterpolar"
           }
          ],
          "scatterpolargl": [
           {
            "marker": {
             "colorbar": {
              "outlinewidth": 0,
              "ticks": ""
             }
            },
            "type": "scatterpolargl"
           }
          ],
          "scatterternary": [
           {
            "marker": {
             "colorbar": {
              "outlinewidth": 0,
              "ticks": ""
             }
            },
            "type": "scatterternary"
           }
          ],
          "surface": [
           {
            "colorbar": {
             "outlinewidth": 0,
             "ticks": ""
            },
            "colorscale": [
             [
              0,
              "#0d0887"
             ],
             [
              0.1111111111111111,
              "#46039f"
             ],
             [
              0.2222222222222222,
              "#7201a8"
             ],
             [
              0.3333333333333333,
              "#9c179e"
             ],
             [
              0.4444444444444444,
              "#bd3786"
             ],
             [
              0.5555555555555556,
              "#d8576b"
             ],
             [
              0.6666666666666666,
              "#ed7953"
             ],
             [
              0.7777777777777778,
              "#fb9f3a"
             ],
             [
              0.8888888888888888,
              "#fdca26"
             ],
             [
              1,
              "#f0f921"
             ]
            ],
            "type": "surface"
           }
          ],
          "table": [
           {
            "cells": {
             "fill": {
              "color": "#EBF0F8"
             },
             "line": {
              "color": "white"
             }
            },
            "header": {
             "fill": {
              "color": "#C8D4E3"
             },
             "line": {
              "color": "white"
             }
            },
            "type": "table"
           }
          ]
         },
         "layout": {
          "annotationdefaults": {
           "arrowcolor": "#2a3f5f",
           "arrowhead": 0,
           "arrowwidth": 1
          },
          "autotypenumbers": "strict",
          "coloraxis": {
           "colorbar": {
            "outlinewidth": 0,
            "ticks": ""
           }
          },
          "colorscale": {
           "diverging": [
            [
             0,
             "#8e0152"
            ],
            [
             0.1,
             "#c51b7d"
            ],
            [
             0.2,
             "#de77ae"
            ],
            [
             0.3,
             "#f1b6da"
            ],
            [
             0.4,
             "#fde0ef"
            ],
            [
             0.5,
             "#f7f7f7"
            ],
            [
             0.6,
             "#e6f5d0"
            ],
            [
             0.7,
             "#b8e186"
            ],
            [
             0.8,
             "#7fbc41"
            ],
            [
             0.9,
             "#4d9221"
            ],
            [
             1,
             "#276419"
            ]
           ],
           "sequential": [
            [
             0,
             "#0d0887"
            ],
            [
             0.1111111111111111,
             "#46039f"
            ],
            [
             0.2222222222222222,
             "#7201a8"
            ],
            [
             0.3333333333333333,
             "#9c179e"
            ],
            [
             0.4444444444444444,
             "#bd3786"
            ],
            [
             0.5555555555555556,
             "#d8576b"
            ],
            [
             0.6666666666666666,
             "#ed7953"
            ],
            [
             0.7777777777777778,
             "#fb9f3a"
            ],
            [
             0.8888888888888888,
             "#fdca26"
            ],
            [
             1,
             "#f0f921"
            ]
           ],
           "sequentialminus": [
            [
             0,
             "#0d0887"
            ],
            [
             0.1111111111111111,
             "#46039f"
            ],
            [
             0.2222222222222222,
             "#7201a8"
            ],
            [
             0.3333333333333333,
             "#9c179e"
            ],
            [
             0.4444444444444444,
             "#bd3786"
            ],
            [
             0.5555555555555556,
             "#d8576b"
            ],
            [
             0.6666666666666666,
             "#ed7953"
            ],
            [
             0.7777777777777778,
             "#fb9f3a"
            ],
            [
             0.8888888888888888,
             "#fdca26"
            ],
            [
             1,
             "#f0f921"
            ]
           ]
          },
          "colorway": [
           "#636efa",
           "#EF553B",
           "#00cc96",
           "#ab63fa",
           "#FFA15A",
           "#19d3f3",
           "#FF6692",
           "#B6E880",
           "#FF97FF",
           "#FECB52"
          ],
          "font": {
           "color": "#2a3f5f"
          },
          "geo": {
           "bgcolor": "white",
           "lakecolor": "white",
           "landcolor": "#E5ECF6",
           "showlakes": true,
           "showland": true,
           "subunitcolor": "white"
          },
          "hoverlabel": {
           "align": "left"
          },
          "hovermode": "closest",
          "mapbox": {
           "style": "light"
          },
          "paper_bgcolor": "white",
          "plot_bgcolor": "#E5ECF6",
          "polar": {
           "angularaxis": {
            "gridcolor": "white",
            "linecolor": "white",
            "ticks": ""
           },
           "bgcolor": "#E5ECF6",
           "radialaxis": {
            "gridcolor": "white",
            "linecolor": "white",
            "ticks": ""
           }
          },
          "scene": {
           "xaxis": {
            "backgroundcolor": "#E5ECF6",
            "gridcolor": "white",
            "gridwidth": 2,
            "linecolor": "white",
            "showbackground": true,
            "ticks": "",
            "zerolinecolor": "white"
           },
           "yaxis": {
            "backgroundcolor": "#E5ECF6",
            "gridcolor": "white",
            "gridwidth": 2,
            "linecolor": "white",
            "showbackground": true,
            "ticks": "",
            "zerolinecolor": "white"
           },
           "zaxis": {
            "backgroundcolor": "#E5ECF6",
            "gridcolor": "white",
            "gridwidth": 2,
            "linecolor": "white",
            "showbackground": true,
            "ticks": "",
            "zerolinecolor": "white"
           }
          },
          "shapedefaults": {
           "line": {
            "color": "#2a3f5f"
           }
          },
          "ternary": {
           "aaxis": {
            "gridcolor": "white",
            "linecolor": "white",
            "ticks": ""
           },
           "baxis": {
            "gridcolor": "white",
            "linecolor": "white",
            "ticks": ""
           },
           "bgcolor": "#E5ECF6",
           "caxis": {
            "gridcolor": "white",
            "linecolor": "white",
            "ticks": ""
           }
          },
          "title": {
           "x": 0.05
          },
          "xaxis": {
           "automargin": true,
           "gridcolor": "white",
           "linecolor": "white",
           "ticks": "",
           "title": {
            "standoff": 15
           },
           "zerolinecolor": "white",
           "zerolinewidth": 2
          },
          "yaxis": {
           "automargin": true,
           "gridcolor": "white",
           "linecolor": "white",
           "ticks": "",
           "title": {
            "standoff": 15
           },
           "zerolinecolor": "white",
           "zerolinewidth": 2
          }
         }
        },
        "title": {
         "font": {
          "color": "black",
          "family": "Arial, sans-serif",
          "size": 22
         },
         "text": "Analysis of LLaVA Model Accuracy Across Different RAG Approaches and Parameter Settings (RDC: 2)",
         "x": 0.5,
         "xanchor": "center"
        },
        "xaxis": {
         "title": {
          "text": "Model Evaluations"
         }
        },
        "yaxis": {
         "range": [
          0,
          1.1
         ],
         "ticktext": [
          "0%",
          "10%",
          "20%",
          "30%",
          "40%",
          "50%",
          "60%",
          "70%",
          "80%",
          "90%",
          "100%"
         ],
         "tickvals": [
          0,
          0.1,
          0.2,
          0.3,
          0.4,
          0.5,
          0.6,
          0.7,
          0.8,
          0.9,
          1
         ],
         "title": {
          "text": "Accuracy"
         }
        }
       }
      }
     },
     "metadata": {},
     "output_type": "display_data"
    }
   ],
   "source": [
    "world_med_qa_v_plot_helpers.display_bar_chart_on_evaluation_results(\n",
    "    evaluation_results=evaluation_results,\n",
    "    title=\"Analysis of LLaVA Model Accuracy Across Different RAG Approaches and Parameter Settings (RDC: 2)\"\n",
    ")"
   ]
  },
  {
   "cell_type": "markdown",
   "metadata": {},
   "source": [
    "### 3.3. Rag Q (Relevant Documents Count: 3)"
   ]
  },
  {
   "cell_type": "code",
   "execution_count": 19,
   "metadata": {},
   "outputs": [
    {
     "ename": "FileNotFoundError",
     "evalue": "[Errno 2] No such file or directory: 'evaluation_results/rag_q/rdc3/spacy_sent_splitting/no_title_tc1/spain_english_rq_v1_evaluation.json'",
     "output_type": "error",
     "traceback": [
      "\u001b[0;31m---------------------------------------------------------------------------\u001b[0m",
      "\u001b[0;31mFileNotFoundError\u001b[0m                         Traceback (most recent call last)",
      "Cell \u001b[0;32mIn[19], line 1\u001b[0m\n\u001b[0;32m----> 1\u001b[0m evaluation_results \u001b[38;5;241m=\u001b[39m \u001b[43mworld_med_qa_v_dataset_management\u001b[49m\u001b[38;5;241;43m.\u001b[39;49m\u001b[43mload_evaluation_results\u001b[49m\u001b[43m(\u001b[49m\n\u001b[1;32m      2\u001b[0m \u001b[43m    \u001b[49m\u001b[43mevaluation_results_folder\u001b[49m\u001b[38;5;241;43m=\u001b[39;49m\u001b[43mRESULTS_DIR\u001b[49m\u001b[43m,\u001b[49m\n\u001b[1;32m      3\u001b[0m \u001b[43m    \u001b[49m\u001b[43mvqa_strategy_details\u001b[49m\u001b[38;5;241;43m=\u001b[39;49m\u001b[43m[\u001b[49m\n\u001b[1;32m      4\u001b[0m \u001b[43m        \u001b[49m\u001b[43mVQAStrategyDetail\u001b[49m\u001b[43m(\u001b[49m\n\u001b[1;32m      5\u001b[0m \u001b[43m            \u001b[49m\u001b[43mcountry\u001b[49m\u001b[38;5;241;43m=\u001b[39;49m\u001b[38;5;124;43m\"\u001b[39;49m\u001b[38;5;124;43mspain\u001b[39;49m\u001b[38;5;124;43m\"\u001b[39;49m\u001b[43m,\u001b[49m\n\u001b[1;32m      6\u001b[0m \u001b[43m            \u001b[49m\u001b[43mfile_type\u001b[49m\u001b[38;5;241;43m=\u001b[39;49m\u001b[38;5;124;43m\"\u001b[39;49m\u001b[38;5;124;43menglish\u001b[39;49m\u001b[38;5;124;43m\"\u001b[39;49m\u001b[43m,\u001b[49m\n\u001b[1;32m      7\u001b[0m \u001b[43m            \u001b[49m\u001b[43mvqa_strategy_type\u001b[49m\u001b[38;5;241;43m=\u001b[39;49m\u001b[43mVQAStrategyType\u001b[49m\u001b[38;5;241;43m.\u001b[39;49m\u001b[43mRAG_Q\u001b[49m\u001b[43m,\u001b[49m\n\u001b[1;32m      8\u001b[0m \u001b[43m            \u001b[49m\u001b[43mprompt_type\u001b[49m\u001b[38;5;241;43m=\u001b[39;49m\u001b[43mRagQPromptType\u001b[49m\u001b[38;5;241;43m.\u001b[39;49m\u001b[43mV1\u001b[49m\u001b[43m,\u001b[49m\n\u001b[1;32m      9\u001b[0m \u001b[43m            \u001b[49m\u001b[43mrelevant_docs_count\u001b[49m\u001b[38;5;241;43m=\u001b[39;49m\u001b[38;5;241;43m3\u001b[39;49m\u001b[43m,\u001b[49m\n\u001b[1;32m     10\u001b[0m \u001b[43m            \u001b[49m\u001b[43mdoc_splitter_options\u001b[49m\u001b[38;5;241;43m=\u001b[39;49m\u001b[43mDocSplitterOptions\u001b[49m\u001b[43m(\u001b[49m\n\u001b[1;32m     11\u001b[0m \u001b[43m                \u001b[49m\u001b[43mdoc_splitter_type\u001b[49m\u001b[38;5;241;43m=\u001b[39;49m\u001b[43mDocumentSplitterType\u001b[49m\u001b[38;5;241;43m.\u001b[39;49m\u001b[43mPARAGRAPH_SPLITTER\u001b[49m\u001b[43m,\u001b[49m\n\u001b[1;32m     12\u001b[0m \u001b[43m                \u001b[49m\u001b[43madd_title\u001b[49m\u001b[38;5;241;43m=\u001b[39;49m\u001b[38;5;28;43;01mFalse\u001b[39;49;00m\u001b[43m,\u001b[49m\n\u001b[1;32m     13\u001b[0m \u001b[43m                \u001b[49m\u001b[43mtoken_count\u001b[49m\u001b[38;5;241;43m=\u001b[39;49m\u001b[38;5;241;43m1\u001b[39;49m\n\u001b[1;32m     14\u001b[0m \u001b[43m            \u001b[49m\u001b[43m)\u001b[49m\n\u001b[1;32m     15\u001b[0m \u001b[43m        \u001b[49m\u001b[43m)\u001b[49m\u001b[43m,\u001b[49m\n\u001b[1;32m     16\u001b[0m \u001b[43m        \u001b[49m\u001b[43mVQAStrategyDetail\u001b[49m\u001b[43m(\u001b[49m\n\u001b[1;32m     17\u001b[0m \u001b[43m            \u001b[49m\u001b[43mcountry\u001b[49m\u001b[38;5;241;43m=\u001b[39;49m\u001b[38;5;124;43m\"\u001b[39;49m\u001b[38;5;124;43mspain\u001b[39;49m\u001b[38;5;124;43m\"\u001b[39;49m\u001b[43m,\u001b[49m\n\u001b[1;32m     18\u001b[0m \u001b[43m            \u001b[49m\u001b[43mfile_type\u001b[49m\u001b[38;5;241;43m=\u001b[39;49m\u001b[38;5;124;43m\"\u001b[39;49m\u001b[38;5;124;43menglish\u001b[39;49m\u001b[38;5;124;43m\"\u001b[39;49m\u001b[43m,\u001b[49m\n\u001b[1;32m     19\u001b[0m \u001b[43m            \u001b[49m\u001b[43mvqa_strategy_type\u001b[49m\u001b[38;5;241;43m=\u001b[39;49m\u001b[43mVQAStrategyType\u001b[49m\u001b[38;5;241;43m.\u001b[39;49m\u001b[43mRAG_Q\u001b[49m\u001b[43m,\u001b[49m\n\u001b[1;32m     20\u001b[0m \u001b[43m            \u001b[49m\u001b[43mprompt_type\u001b[49m\u001b[38;5;241;43m=\u001b[39;49m\u001b[43mRagQPromptType\u001b[49m\u001b[38;5;241;43m.\u001b[39;49m\u001b[43mV1\u001b[49m\u001b[43m,\u001b[49m\n\u001b[1;32m     21\u001b[0m \u001b[43m            \u001b[49m\u001b[43mrelevant_docs_count\u001b[49m\u001b[38;5;241;43m=\u001b[39;49m\u001b[38;5;241;43m3\u001b[39;49m\u001b[43m,\u001b[49m\n\u001b[1;32m     22\u001b[0m \u001b[43m            \u001b[49m\u001b[43mdoc_splitter_options\u001b[49m\u001b[38;5;241;43m=\u001b[39;49m\u001b[43mDocSplitterOptions\u001b[49m\u001b[43m(\u001b[49m\n\u001b[1;32m     23\u001b[0m \u001b[43m                \u001b[49m\u001b[43mdoc_splitter_type\u001b[49m\u001b[38;5;241;43m=\u001b[39;49m\u001b[43mDocumentSplitterType\u001b[49m\u001b[38;5;241;43m.\u001b[39;49m\u001b[43mPARAGRAPH_SPLITTER\u001b[49m\u001b[43m,\u001b[49m\n\u001b[1;32m     24\u001b[0m \u001b[43m                \u001b[49m\u001b[43madd_title\u001b[49m\u001b[38;5;241;43m=\u001b[39;49m\u001b[38;5;28;43;01mFalse\u001b[39;49;00m\u001b[43m,\u001b[49m\n\u001b[1;32m     25\u001b[0m \u001b[43m                \u001b[49m\u001b[43mtoken_count\u001b[49m\u001b[38;5;241;43m=\u001b[39;49m\u001b[38;5;241;43m2\u001b[39;49m\n\u001b[1;32m     26\u001b[0m \u001b[43m            \u001b[49m\u001b[43m)\u001b[49m\n\u001b[1;32m     27\u001b[0m \u001b[43m        \u001b[49m\u001b[43m)\u001b[49m\u001b[43m,\u001b[49m\n\u001b[1;32m     28\u001b[0m \u001b[43m        \u001b[49m\u001b[43mVQAStrategyDetail\u001b[49m\u001b[43m(\u001b[49m\n\u001b[1;32m     29\u001b[0m \u001b[43m            \u001b[49m\u001b[43mcountry\u001b[49m\u001b[38;5;241;43m=\u001b[39;49m\u001b[38;5;124;43m\"\u001b[39;49m\u001b[38;5;124;43mspain\u001b[39;49m\u001b[38;5;124;43m\"\u001b[39;49m\u001b[43m,\u001b[49m\n\u001b[1;32m     30\u001b[0m \u001b[43m            \u001b[49m\u001b[43mfile_type\u001b[49m\u001b[38;5;241;43m=\u001b[39;49m\u001b[38;5;124;43m\"\u001b[39;49m\u001b[38;5;124;43menglish\u001b[39;49m\u001b[38;5;124;43m\"\u001b[39;49m\u001b[43m,\u001b[49m\n\u001b[1;32m     31\u001b[0m \u001b[43m            \u001b[49m\u001b[43mvqa_strategy_type\u001b[49m\u001b[38;5;241;43m=\u001b[39;49m\u001b[43mVQAStrategyType\u001b[49m\u001b[38;5;241;43m.\u001b[39;49m\u001b[43mRAG_Q\u001b[49m\u001b[43m,\u001b[49m\n\u001b[1;32m     32\u001b[0m \u001b[43m            \u001b[49m\u001b[43mprompt_type\u001b[49m\u001b[38;5;241;43m=\u001b[39;49m\u001b[43mRagQPromptType\u001b[49m\u001b[38;5;241;43m.\u001b[39;49m\u001b[43mV1\u001b[49m\u001b[43m,\u001b[49m\n\u001b[1;32m     33\u001b[0m \u001b[43m            \u001b[49m\u001b[43mrelevant_docs_count\u001b[49m\u001b[38;5;241;43m=\u001b[39;49m\u001b[38;5;241;43m3\u001b[39;49m\u001b[43m,\u001b[49m\n\u001b[1;32m     34\u001b[0m \u001b[43m            \u001b[49m\u001b[43mdoc_splitter_options\u001b[49m\u001b[38;5;241;43m=\u001b[39;49m\u001b[43mDocSplitterOptions\u001b[49m\u001b[43m(\u001b[49m\n\u001b[1;32m     35\u001b[0m \u001b[43m                \u001b[49m\u001b[43mdoc_splitter_type\u001b[49m\u001b[38;5;241;43m=\u001b[39;49m\u001b[43mDocumentSplitterType\u001b[49m\u001b[38;5;241;43m.\u001b[39;49m\u001b[43mPARAGRAPH_SPLITTER\u001b[49m\u001b[43m,\u001b[49m\n\u001b[1;32m     36\u001b[0m \u001b[43m                \u001b[49m\u001b[43madd_title\u001b[49m\u001b[38;5;241;43m=\u001b[39;49m\u001b[38;5;28;43;01mFalse\u001b[39;49;00m\u001b[43m,\u001b[49m\n\u001b[1;32m     37\u001b[0m \u001b[43m                \u001b[49m\u001b[43mtoken_count\u001b[49m\u001b[38;5;241;43m=\u001b[39;49m\u001b[38;5;241;43m3\u001b[39;49m\n\u001b[1;32m     38\u001b[0m \u001b[43m            \u001b[49m\u001b[43m)\u001b[49m\n\u001b[1;32m     39\u001b[0m \u001b[43m        \u001b[49m\u001b[43m)\u001b[49m\u001b[43m,\u001b[49m\n\u001b[1;32m     40\u001b[0m \u001b[43m        \u001b[49m\u001b[43mVQAStrategyDetail\u001b[49m\u001b[43m(\u001b[49m\n\u001b[1;32m     41\u001b[0m \u001b[43m            \u001b[49m\u001b[43mcountry\u001b[49m\u001b[38;5;241;43m=\u001b[39;49m\u001b[38;5;124;43m\"\u001b[39;49m\u001b[38;5;124;43mspain\u001b[39;49m\u001b[38;5;124;43m\"\u001b[39;49m\u001b[43m,\u001b[49m\n\u001b[1;32m     42\u001b[0m \u001b[43m            \u001b[49m\u001b[43mfile_type\u001b[49m\u001b[38;5;241;43m=\u001b[39;49m\u001b[38;5;124;43m\"\u001b[39;49m\u001b[38;5;124;43menglish\u001b[39;49m\u001b[38;5;124;43m\"\u001b[39;49m\u001b[43m,\u001b[49m\n\u001b[1;32m     43\u001b[0m \u001b[43m            \u001b[49m\u001b[43mvqa_strategy_type\u001b[49m\u001b[38;5;241;43m=\u001b[39;49m\u001b[43mVQAStrategyType\u001b[49m\u001b[38;5;241;43m.\u001b[39;49m\u001b[43mRAG_Q\u001b[49m\u001b[43m,\u001b[49m\n\u001b[1;32m     44\u001b[0m \u001b[43m            \u001b[49m\u001b[43mprompt_type\u001b[49m\u001b[38;5;241;43m=\u001b[39;49m\u001b[43mRagQPromptType\u001b[49m\u001b[38;5;241;43m.\u001b[39;49m\u001b[43mV1\u001b[49m\u001b[43m,\u001b[49m\n\u001b[1;32m     45\u001b[0m \u001b[43m            \u001b[49m\u001b[43mrelevant_docs_count\u001b[49m\u001b[38;5;241;43m=\u001b[39;49m\u001b[38;5;241;43m3\u001b[39;49m\u001b[43m,\u001b[49m\n\u001b[1;32m     46\u001b[0m \u001b[43m            \u001b[49m\u001b[43mdoc_splitter_options\u001b[49m\u001b[38;5;241;43m=\u001b[39;49m\u001b[43mDocSplitterOptions\u001b[49m\u001b[43m(\u001b[49m\n\u001b[1;32m     47\u001b[0m \u001b[43m                \u001b[49m\u001b[43mdoc_splitter_type\u001b[49m\u001b[38;5;241;43m=\u001b[39;49m\u001b[43mDocumentSplitterType\u001b[49m\u001b[38;5;241;43m.\u001b[39;49m\u001b[43mPARAGRAPH_SPLITTER\u001b[49m\u001b[43m,\u001b[49m\n\u001b[1;32m     48\u001b[0m \u001b[43m                \u001b[49m\u001b[43madd_title\u001b[49m\u001b[38;5;241;43m=\u001b[39;49m\u001b[38;5;28;43;01mFalse\u001b[39;49;00m\u001b[43m,\u001b[49m\n\u001b[1;32m     49\u001b[0m \u001b[43m                \u001b[49m\u001b[43mtoken_count\u001b[49m\u001b[38;5;241;43m=\u001b[39;49m\u001b[38;5;241;43m4\u001b[39;49m\n\u001b[1;32m     50\u001b[0m \u001b[43m            \u001b[49m\u001b[43m)\u001b[49m\n\u001b[1;32m     51\u001b[0m \u001b[43m        \u001b[49m\u001b[43m)\u001b[49m\u001b[43m,\u001b[49m\n\u001b[1;32m     52\u001b[0m \u001b[43m        \u001b[49m\u001b[43mVQAStrategyDetail\u001b[49m\u001b[43m(\u001b[49m\n\u001b[1;32m     53\u001b[0m \u001b[43m            \u001b[49m\u001b[43mcountry\u001b[49m\u001b[38;5;241;43m=\u001b[39;49m\u001b[38;5;124;43m\"\u001b[39;49m\u001b[38;5;124;43mspain\u001b[39;49m\u001b[38;5;124;43m\"\u001b[39;49m\u001b[43m,\u001b[49m\n\u001b[1;32m     54\u001b[0m \u001b[43m            \u001b[49m\u001b[43mfile_type\u001b[49m\u001b[38;5;241;43m=\u001b[39;49m\u001b[38;5;124;43m\"\u001b[39;49m\u001b[38;5;124;43menglish\u001b[39;49m\u001b[38;5;124;43m\"\u001b[39;49m\u001b[43m,\u001b[49m\n\u001b[1;32m     55\u001b[0m \u001b[43m            \u001b[49m\u001b[43mvqa_strategy_type\u001b[49m\u001b[38;5;241;43m=\u001b[39;49m\u001b[43mVQAStrategyType\u001b[49m\u001b[38;5;241;43m.\u001b[39;49m\u001b[43mRAG_Q\u001b[49m\u001b[43m,\u001b[49m\n\u001b[1;32m     56\u001b[0m \u001b[43m            \u001b[49m\u001b[43mprompt_type\u001b[49m\u001b[38;5;241;43m=\u001b[39;49m\u001b[43mRagQPromptType\u001b[49m\u001b[38;5;241;43m.\u001b[39;49m\u001b[43mV1\u001b[49m\u001b[43m,\u001b[49m\n\u001b[1;32m     57\u001b[0m \u001b[43m            \u001b[49m\u001b[43mrelevant_docs_count\u001b[49m\u001b[38;5;241;43m=\u001b[39;49m\u001b[38;5;241;43m3\u001b[39;49m\u001b[43m,\u001b[49m\n\u001b[1;32m     58\u001b[0m \u001b[43m            \u001b[49m\u001b[43mdoc_splitter_options\u001b[49m\u001b[38;5;241;43m=\u001b[39;49m\u001b[43mDocSplitterOptions\u001b[49m\u001b[43m(\u001b[49m\n\u001b[1;32m     59\u001b[0m \u001b[43m                \u001b[49m\u001b[43mdoc_splitter_type\u001b[49m\u001b[38;5;241;43m=\u001b[39;49m\u001b[43mDocumentSplitterType\u001b[49m\u001b[38;5;241;43m.\u001b[39;49m\u001b[43mRECURSIVE_CHARACTER_SPLITTER\u001b[49m\u001b[43m,\u001b[49m\n\u001b[1;32m     60\u001b[0m \u001b[43m                \u001b[49m\u001b[43madd_title\u001b[49m\u001b[38;5;241;43m=\u001b[39;49m\u001b[38;5;28;43;01mFalse\u001b[39;49;00m\u001b[43m,\u001b[49m\n\u001b[1;32m     61\u001b[0m \u001b[43m                \u001b[49m\u001b[43mtoken_count\u001b[49m\u001b[38;5;241;43m=\u001b[39;49m\u001b[38;5;241;43m1\u001b[39;49m\u001b[43m,\u001b[49m\n\u001b[1;32m     62\u001b[0m \u001b[43m                \u001b[49m\u001b[43mchunk_size\u001b[49m\u001b[38;5;241;43m=\u001b[39;49m\u001b[38;5;241;43m300\u001b[39;49m\u001b[43m,\u001b[49m\n\u001b[1;32m     63\u001b[0m \u001b[43m                \u001b[49m\u001b[43mchunk_overlap\u001b[49m\u001b[38;5;241;43m=\u001b[39;49m\u001b[38;5;241;43m0\u001b[39;49m\n\u001b[1;32m     64\u001b[0m \u001b[43m            \u001b[49m\u001b[43m)\u001b[49m\n\u001b[1;32m     65\u001b[0m \u001b[43m        \u001b[49m\u001b[43m)\u001b[49m\u001b[43m,\u001b[49m\n\u001b[1;32m     66\u001b[0m \u001b[43m        \u001b[49m\u001b[43mVQAStrategyDetail\u001b[49m\u001b[43m(\u001b[49m\n\u001b[1;32m     67\u001b[0m \u001b[43m            \u001b[49m\u001b[43mcountry\u001b[49m\u001b[38;5;241;43m=\u001b[39;49m\u001b[38;5;124;43m\"\u001b[39;49m\u001b[38;5;124;43mspain\u001b[39;49m\u001b[38;5;124;43m\"\u001b[39;49m\u001b[43m,\u001b[49m\n\u001b[1;32m     68\u001b[0m \u001b[43m            \u001b[49m\u001b[43mfile_type\u001b[49m\u001b[38;5;241;43m=\u001b[39;49m\u001b[38;5;124;43m\"\u001b[39;49m\u001b[38;5;124;43menglish\u001b[39;49m\u001b[38;5;124;43m\"\u001b[39;49m\u001b[43m,\u001b[49m\n\u001b[1;32m     69\u001b[0m \u001b[43m            \u001b[49m\u001b[43mvqa_strategy_type\u001b[49m\u001b[38;5;241;43m=\u001b[39;49m\u001b[43mVQAStrategyType\u001b[49m\u001b[38;5;241;43m.\u001b[39;49m\u001b[43mRAG_Q\u001b[49m\u001b[43m,\u001b[49m\n\u001b[1;32m     70\u001b[0m \u001b[43m            \u001b[49m\u001b[43mprompt_type\u001b[49m\u001b[38;5;241;43m=\u001b[39;49m\u001b[43mRagQPromptType\u001b[49m\u001b[38;5;241;43m.\u001b[39;49m\u001b[43mV1\u001b[49m\u001b[43m,\u001b[49m\n\u001b[1;32m     71\u001b[0m \u001b[43m            \u001b[49m\u001b[43mrelevant_docs_count\u001b[49m\u001b[38;5;241;43m=\u001b[39;49m\u001b[38;5;241;43m3\u001b[39;49m\u001b[43m,\u001b[49m\n\u001b[1;32m     72\u001b[0m \u001b[43m            \u001b[49m\u001b[43mdoc_splitter_options\u001b[49m\u001b[38;5;241;43m=\u001b[39;49m\u001b[43mDocSplitterOptions\u001b[49m\u001b[43m(\u001b[49m\n\u001b[1;32m     73\u001b[0m \u001b[43m                \u001b[49m\u001b[43mdoc_splitter_type\u001b[49m\u001b[38;5;241;43m=\u001b[39;49m\u001b[43mDocumentSplitterType\u001b[49m\u001b[38;5;241;43m.\u001b[39;49m\u001b[43mRECURSIVE_CHARACTER_SPLITTER\u001b[49m\u001b[43m,\u001b[49m\n\u001b[1;32m     74\u001b[0m \u001b[43m                \u001b[49m\u001b[43madd_title\u001b[49m\u001b[38;5;241;43m=\u001b[39;49m\u001b[38;5;28;43;01mFalse\u001b[39;49;00m\u001b[43m,\u001b[49m\n\u001b[1;32m     75\u001b[0m \u001b[43m                \u001b[49m\u001b[43mtoken_count\u001b[49m\u001b[38;5;241;43m=\u001b[39;49m\u001b[38;5;241;43m1\u001b[39;49m\u001b[43m,\u001b[49m\n\u001b[1;32m     76\u001b[0m \u001b[43m                \u001b[49m\u001b[43mchunk_size\u001b[49m\u001b[38;5;241;43m=\u001b[39;49m\u001b[38;5;241;43m600\u001b[39;49m\u001b[43m,\u001b[49m\n\u001b[1;32m     77\u001b[0m \u001b[43m                \u001b[49m\u001b[43mchunk_overlap\u001b[49m\u001b[38;5;241;43m=\u001b[39;49m\u001b[38;5;241;43m0\u001b[39;49m\n\u001b[1;32m     78\u001b[0m \u001b[43m            \u001b[49m\u001b[43m)\u001b[49m\n\u001b[1;32m     79\u001b[0m \u001b[43m        \u001b[49m\u001b[43m)\u001b[49m\u001b[43m,\u001b[49m\n\u001b[1;32m     80\u001b[0m \u001b[43m        \u001b[49m\u001b[43mVQAStrategyDetail\u001b[49m\u001b[43m(\u001b[49m\n\u001b[1;32m     81\u001b[0m \u001b[43m            \u001b[49m\u001b[43mcountry\u001b[49m\u001b[38;5;241;43m=\u001b[39;49m\u001b[38;5;124;43m\"\u001b[39;49m\u001b[38;5;124;43mspain\u001b[39;49m\u001b[38;5;124;43m\"\u001b[39;49m\u001b[43m,\u001b[49m\n\u001b[1;32m     82\u001b[0m \u001b[43m            \u001b[49m\u001b[43mfile_type\u001b[49m\u001b[38;5;241;43m=\u001b[39;49m\u001b[38;5;124;43m\"\u001b[39;49m\u001b[38;5;124;43menglish\u001b[39;49m\u001b[38;5;124;43m\"\u001b[39;49m\u001b[43m,\u001b[49m\n\u001b[1;32m     83\u001b[0m \u001b[43m            \u001b[49m\u001b[43mvqa_strategy_type\u001b[49m\u001b[38;5;241;43m=\u001b[39;49m\u001b[43mVQAStrategyType\u001b[49m\u001b[38;5;241;43m.\u001b[39;49m\u001b[43mRAG_Q\u001b[49m\u001b[43m,\u001b[49m\n\u001b[1;32m     84\u001b[0m \u001b[43m            \u001b[49m\u001b[43mprompt_type\u001b[49m\u001b[38;5;241;43m=\u001b[39;49m\u001b[43mRagQPromptType\u001b[49m\u001b[38;5;241;43m.\u001b[39;49m\u001b[43mV1\u001b[49m\u001b[43m,\u001b[49m\n\u001b[1;32m     85\u001b[0m \u001b[43m            \u001b[49m\u001b[43mrelevant_docs_count\u001b[49m\u001b[38;5;241;43m=\u001b[39;49m\u001b[38;5;241;43m3\u001b[39;49m\u001b[43m,\u001b[49m\n\u001b[1;32m     86\u001b[0m \u001b[43m            \u001b[49m\u001b[43mdoc_splitter_options\u001b[49m\u001b[38;5;241;43m=\u001b[39;49m\u001b[43mDocSplitterOptions\u001b[49m\u001b[43m(\u001b[49m\n\u001b[1;32m     87\u001b[0m \u001b[43m                \u001b[49m\u001b[43mdoc_splitter_type\u001b[49m\u001b[38;5;241;43m=\u001b[39;49m\u001b[43mDocumentSplitterType\u001b[49m\u001b[38;5;241;43m.\u001b[39;49m\u001b[43mRECURSIVE_CHARACTER_SPLITTER\u001b[49m\u001b[43m,\u001b[49m\n\u001b[1;32m     88\u001b[0m \u001b[43m                \u001b[49m\u001b[43madd_title\u001b[49m\u001b[38;5;241;43m=\u001b[39;49m\u001b[38;5;28;43;01mFalse\u001b[39;49;00m\u001b[43m,\u001b[49m\n\u001b[1;32m     89\u001b[0m \u001b[43m                \u001b[49m\u001b[43mtoken_count\u001b[49m\u001b[38;5;241;43m=\u001b[39;49m\u001b[38;5;241;43m1\u001b[39;49m\u001b[43m,\u001b[49m\n\u001b[1;32m     90\u001b[0m \u001b[43m                \u001b[49m\u001b[43mchunk_size\u001b[49m\u001b[38;5;241;43m=\u001b[39;49m\u001b[38;5;241;43m900\u001b[39;49m\u001b[43m,\u001b[49m\n\u001b[1;32m     91\u001b[0m \u001b[43m                \u001b[49m\u001b[43mchunk_overlap\u001b[49m\u001b[38;5;241;43m=\u001b[39;49m\u001b[38;5;241;43m0\u001b[39;49m\n\u001b[1;32m     92\u001b[0m \u001b[43m            \u001b[49m\u001b[43m)\u001b[49m\n\u001b[1;32m     93\u001b[0m \u001b[43m        \u001b[49m\u001b[43m)\u001b[49m\u001b[43m,\u001b[49m\n\u001b[1;32m     94\u001b[0m \u001b[43m        \u001b[49m\u001b[43mVQAStrategyDetail\u001b[49m\u001b[43m(\u001b[49m\n\u001b[1;32m     95\u001b[0m \u001b[43m            \u001b[49m\u001b[43mcountry\u001b[49m\u001b[38;5;241;43m=\u001b[39;49m\u001b[38;5;124;43m\"\u001b[39;49m\u001b[38;5;124;43mspain\u001b[39;49m\u001b[38;5;124;43m\"\u001b[39;49m\u001b[43m,\u001b[49m\n\u001b[1;32m     96\u001b[0m \u001b[43m            \u001b[49m\u001b[43mfile_type\u001b[49m\u001b[38;5;241;43m=\u001b[39;49m\u001b[38;5;124;43m\"\u001b[39;49m\u001b[38;5;124;43menglish\u001b[39;49m\u001b[38;5;124;43m\"\u001b[39;49m\u001b[43m,\u001b[49m\n\u001b[1;32m     97\u001b[0m \u001b[43m            \u001b[49m\u001b[43mvqa_strategy_type\u001b[49m\u001b[38;5;241;43m=\u001b[39;49m\u001b[43mVQAStrategyType\u001b[49m\u001b[38;5;241;43m.\u001b[39;49m\u001b[43mRAG_Q\u001b[49m\u001b[43m,\u001b[49m\n\u001b[1;32m     98\u001b[0m \u001b[43m            \u001b[49m\u001b[43mprompt_type\u001b[49m\u001b[38;5;241;43m=\u001b[39;49m\u001b[43mRagQPromptType\u001b[49m\u001b[38;5;241;43m.\u001b[39;49m\u001b[43mV1\u001b[49m\u001b[43m,\u001b[49m\n\u001b[1;32m     99\u001b[0m \u001b[43m            \u001b[49m\u001b[43mrelevant_docs_count\u001b[49m\u001b[38;5;241;43m=\u001b[39;49m\u001b[38;5;241;43m3\u001b[39;49m\u001b[43m,\u001b[49m\n\u001b[1;32m    100\u001b[0m \u001b[43m            \u001b[49m\u001b[43mdoc_splitter_options\u001b[49m\u001b[38;5;241;43m=\u001b[39;49m\u001b[43mDocSplitterOptions\u001b[49m\u001b[43m(\u001b[49m\n\u001b[1;32m    101\u001b[0m \u001b[43m                \u001b[49m\u001b[43mdoc_splitter_type\u001b[49m\u001b[38;5;241;43m=\u001b[39;49m\u001b[43mDocumentSplitterType\u001b[49m\u001b[38;5;241;43m.\u001b[39;49m\u001b[43mRECURSIVE_CHARACTER_SPLITTER\u001b[49m\u001b[43m,\u001b[49m\n\u001b[1;32m    102\u001b[0m \u001b[43m                \u001b[49m\u001b[43madd_title\u001b[49m\u001b[38;5;241;43m=\u001b[39;49m\u001b[38;5;28;43;01mFalse\u001b[39;49;00m\u001b[43m,\u001b[49m\n\u001b[1;32m    103\u001b[0m \u001b[43m                \u001b[49m\u001b[43mtoken_count\u001b[49m\u001b[38;5;241;43m=\u001b[39;49m\u001b[38;5;241;43m2\u001b[39;49m\u001b[43m,\u001b[49m\n\u001b[1;32m    104\u001b[0m \u001b[43m                \u001b[49m\u001b[43mchunk_size\u001b[49m\u001b[38;5;241;43m=\u001b[39;49m\u001b[38;5;241;43m300\u001b[39;49m\u001b[43m,\u001b[49m\n\u001b[1;32m    105\u001b[0m \u001b[43m                \u001b[49m\u001b[43mchunk_overlap\u001b[49m\u001b[38;5;241;43m=\u001b[39;49m\u001b[38;5;241;43m0\u001b[39;49m\n\u001b[1;32m    106\u001b[0m \u001b[43m            \u001b[49m\u001b[43m)\u001b[49m\n\u001b[1;32m    107\u001b[0m \u001b[43m        \u001b[49m\u001b[43m)\u001b[49m\u001b[43m,\u001b[49m\n\u001b[1;32m    108\u001b[0m \u001b[43m        \u001b[49m\u001b[43mVQAStrategyDetail\u001b[49m\u001b[43m(\u001b[49m\n\u001b[1;32m    109\u001b[0m \u001b[43m            \u001b[49m\u001b[43mcountry\u001b[49m\u001b[38;5;241;43m=\u001b[39;49m\u001b[38;5;124;43m\"\u001b[39;49m\u001b[38;5;124;43mspain\u001b[39;49m\u001b[38;5;124;43m\"\u001b[39;49m\u001b[43m,\u001b[49m\n\u001b[1;32m    110\u001b[0m \u001b[43m            \u001b[49m\u001b[43mfile_type\u001b[49m\u001b[38;5;241;43m=\u001b[39;49m\u001b[38;5;124;43m\"\u001b[39;49m\u001b[38;5;124;43menglish\u001b[39;49m\u001b[38;5;124;43m\"\u001b[39;49m\u001b[43m,\u001b[49m\n\u001b[1;32m    111\u001b[0m \u001b[43m            \u001b[49m\u001b[43mvqa_strategy_type\u001b[49m\u001b[38;5;241;43m=\u001b[39;49m\u001b[43mVQAStrategyType\u001b[49m\u001b[38;5;241;43m.\u001b[39;49m\u001b[43mRAG_Q\u001b[49m\u001b[43m,\u001b[49m\n\u001b[1;32m    112\u001b[0m \u001b[43m            \u001b[49m\u001b[43mprompt_type\u001b[49m\u001b[38;5;241;43m=\u001b[39;49m\u001b[43mRagQPromptType\u001b[49m\u001b[38;5;241;43m.\u001b[39;49m\u001b[43mV1\u001b[49m\u001b[43m,\u001b[49m\n\u001b[1;32m    113\u001b[0m \u001b[43m            \u001b[49m\u001b[43mrelevant_docs_count\u001b[49m\u001b[38;5;241;43m=\u001b[39;49m\u001b[38;5;241;43m3\u001b[39;49m\u001b[43m,\u001b[49m\n\u001b[1;32m    114\u001b[0m \u001b[43m            \u001b[49m\u001b[43mdoc_splitter_options\u001b[49m\u001b[38;5;241;43m=\u001b[39;49m\u001b[43mDocSplitterOptions\u001b[49m\u001b[43m(\u001b[49m\n\u001b[1;32m    115\u001b[0m \u001b[43m                \u001b[49m\u001b[43mdoc_splitter_type\u001b[49m\u001b[38;5;241;43m=\u001b[39;49m\u001b[43mDocumentSplitterType\u001b[49m\u001b[38;5;241;43m.\u001b[39;49m\u001b[43mRECURSIVE_CHARACTER_SPLITTER\u001b[49m\u001b[43m,\u001b[49m\n\u001b[1;32m    116\u001b[0m \u001b[43m                \u001b[49m\u001b[43madd_title\u001b[49m\u001b[38;5;241;43m=\u001b[39;49m\u001b[38;5;28;43;01mFalse\u001b[39;49;00m\u001b[43m,\u001b[49m\n\u001b[1;32m    117\u001b[0m \u001b[43m                \u001b[49m\u001b[43mtoken_count\u001b[49m\u001b[38;5;241;43m=\u001b[39;49m\u001b[38;5;241;43m2\u001b[39;49m\u001b[43m,\u001b[49m\n\u001b[1;32m    118\u001b[0m \u001b[43m                \u001b[49m\u001b[43mchunk_size\u001b[49m\u001b[38;5;241;43m=\u001b[39;49m\u001b[38;5;241;43m600\u001b[39;49m\u001b[43m,\u001b[49m\n\u001b[1;32m    119\u001b[0m \u001b[43m                \u001b[49m\u001b[43mchunk_overlap\u001b[49m\u001b[38;5;241;43m=\u001b[39;49m\u001b[38;5;241;43m0\u001b[39;49m\n\u001b[1;32m    120\u001b[0m \u001b[43m            \u001b[49m\u001b[43m)\u001b[49m\n\u001b[1;32m    121\u001b[0m \u001b[43m        \u001b[49m\u001b[43m)\u001b[49m\u001b[43m,\u001b[49m\n\u001b[1;32m    122\u001b[0m \u001b[43m        \u001b[49m\u001b[43mVQAStrategyDetail\u001b[49m\u001b[43m(\u001b[49m\n\u001b[1;32m    123\u001b[0m \u001b[43m            \u001b[49m\u001b[43mcountry\u001b[49m\u001b[38;5;241;43m=\u001b[39;49m\u001b[38;5;124;43m\"\u001b[39;49m\u001b[38;5;124;43mspain\u001b[39;49m\u001b[38;5;124;43m\"\u001b[39;49m\u001b[43m,\u001b[49m\n\u001b[1;32m    124\u001b[0m \u001b[43m            \u001b[49m\u001b[43mfile_type\u001b[49m\u001b[38;5;241;43m=\u001b[39;49m\u001b[38;5;124;43m\"\u001b[39;49m\u001b[38;5;124;43menglish\u001b[39;49m\u001b[38;5;124;43m\"\u001b[39;49m\u001b[43m,\u001b[49m\n\u001b[1;32m    125\u001b[0m \u001b[43m            \u001b[49m\u001b[43mvqa_strategy_type\u001b[49m\u001b[38;5;241;43m=\u001b[39;49m\u001b[43mVQAStrategyType\u001b[49m\u001b[38;5;241;43m.\u001b[39;49m\u001b[43mRAG_Q\u001b[49m\u001b[43m,\u001b[49m\n\u001b[1;32m    126\u001b[0m \u001b[43m            \u001b[49m\u001b[43mprompt_type\u001b[49m\u001b[38;5;241;43m=\u001b[39;49m\u001b[43mRagQPromptType\u001b[49m\u001b[38;5;241;43m.\u001b[39;49m\u001b[43mV1\u001b[49m\u001b[43m,\u001b[49m\n\u001b[1;32m    127\u001b[0m \u001b[43m            \u001b[49m\u001b[43mrelevant_docs_count\u001b[49m\u001b[38;5;241;43m=\u001b[39;49m\u001b[38;5;241;43m3\u001b[39;49m\u001b[43m,\u001b[49m\n\u001b[1;32m    128\u001b[0m \u001b[43m            \u001b[49m\u001b[43mdoc_splitter_options\u001b[49m\u001b[38;5;241;43m=\u001b[39;49m\u001b[43mDocSplitterOptions\u001b[49m\u001b[43m(\u001b[49m\n\u001b[1;32m    129\u001b[0m \u001b[43m                \u001b[49m\u001b[43mdoc_splitter_type\u001b[49m\u001b[38;5;241;43m=\u001b[39;49m\u001b[43mDocumentSplitterType\u001b[49m\u001b[38;5;241;43m.\u001b[39;49m\u001b[43mRECURSIVE_CHARACTER_SPLITTER\u001b[49m\u001b[43m,\u001b[49m\n\u001b[1;32m    130\u001b[0m \u001b[43m                \u001b[49m\u001b[43madd_title\u001b[49m\u001b[38;5;241;43m=\u001b[39;49m\u001b[38;5;28;43;01mFalse\u001b[39;49;00m\u001b[43m,\u001b[49m\n\u001b[1;32m    131\u001b[0m \u001b[43m                \u001b[49m\u001b[43mtoken_count\u001b[49m\u001b[38;5;241;43m=\u001b[39;49m\u001b[38;5;241;43m2\u001b[39;49m\u001b[43m,\u001b[49m\n\u001b[1;32m    132\u001b[0m \u001b[43m                \u001b[49m\u001b[43mchunk_size\u001b[49m\u001b[38;5;241;43m=\u001b[39;49m\u001b[38;5;241;43m900\u001b[39;49m\u001b[43m,\u001b[49m\n\u001b[1;32m    133\u001b[0m \u001b[43m                \u001b[49m\u001b[43mchunk_overlap\u001b[49m\u001b[38;5;241;43m=\u001b[39;49m\u001b[38;5;241;43m0\u001b[39;49m\n\u001b[1;32m    134\u001b[0m \u001b[43m            \u001b[49m\u001b[43m)\u001b[49m\n\u001b[1;32m    135\u001b[0m \u001b[43m        \u001b[49m\u001b[43m)\u001b[49m\u001b[43m,\u001b[49m\n\u001b[1;32m    136\u001b[0m \u001b[43m        \u001b[49m\u001b[43mVQAStrategyDetail\u001b[49m\u001b[43m(\u001b[49m\n\u001b[1;32m    137\u001b[0m \u001b[43m            \u001b[49m\u001b[43mcountry\u001b[49m\u001b[38;5;241;43m=\u001b[39;49m\u001b[38;5;124;43m\"\u001b[39;49m\u001b[38;5;124;43mspain\u001b[39;49m\u001b[38;5;124;43m\"\u001b[39;49m\u001b[43m,\u001b[49m\n\u001b[1;32m    138\u001b[0m \u001b[43m            \u001b[49m\u001b[43mfile_type\u001b[49m\u001b[38;5;241;43m=\u001b[39;49m\u001b[38;5;124;43m\"\u001b[39;49m\u001b[38;5;124;43menglish\u001b[39;49m\u001b[38;5;124;43m\"\u001b[39;49m\u001b[43m,\u001b[49m\n\u001b[1;32m    139\u001b[0m \u001b[43m            \u001b[49m\u001b[43mvqa_strategy_type\u001b[49m\u001b[38;5;241;43m=\u001b[39;49m\u001b[43mVQAStrategyType\u001b[49m\u001b[38;5;241;43m.\u001b[39;49m\u001b[43mRAG_Q\u001b[49m\u001b[43m,\u001b[49m\n\u001b[1;32m    140\u001b[0m \u001b[43m            \u001b[49m\u001b[43mprompt_type\u001b[49m\u001b[38;5;241;43m=\u001b[39;49m\u001b[43mRagQPromptType\u001b[49m\u001b[38;5;241;43m.\u001b[39;49m\u001b[43mV1\u001b[49m\u001b[43m,\u001b[49m\n\u001b[1;32m    141\u001b[0m \u001b[43m            \u001b[49m\u001b[43mrelevant_docs_count\u001b[49m\u001b[38;5;241;43m=\u001b[39;49m\u001b[38;5;241;43m3\u001b[39;49m\u001b[43m,\u001b[49m\n\u001b[1;32m    142\u001b[0m \u001b[43m            \u001b[49m\u001b[43mdoc_splitter_options\u001b[49m\u001b[38;5;241;43m=\u001b[39;49m\u001b[43mDocSplitterOptions\u001b[49m\u001b[43m(\u001b[49m\n\u001b[1;32m    143\u001b[0m \u001b[43m                \u001b[49m\u001b[43mdoc_splitter_type\u001b[49m\u001b[38;5;241;43m=\u001b[39;49m\u001b[43mDocumentSplitterType\u001b[49m\u001b[38;5;241;43m.\u001b[39;49m\u001b[43mSPACY_SENTENCE_SPLITTER\u001b[49m\u001b[43m,\u001b[49m\n\u001b[1;32m    144\u001b[0m \u001b[43m                \u001b[49m\u001b[43madd_title\u001b[49m\u001b[38;5;241;43m=\u001b[39;49m\u001b[38;5;28;43;01mFalse\u001b[39;49;00m\u001b[43m,\u001b[49m\n\u001b[1;32m    145\u001b[0m \u001b[43m                \u001b[49m\u001b[43mtoken_count\u001b[49m\u001b[38;5;241;43m=\u001b[39;49m\u001b[38;5;241;43m1\u001b[39;49m\n\u001b[1;32m    146\u001b[0m \u001b[43m            \u001b[49m\u001b[43m)\u001b[49m\n\u001b[1;32m    147\u001b[0m \u001b[43m        \u001b[49m\u001b[43m)\u001b[49m\u001b[43m,\u001b[49m\n\u001b[1;32m    148\u001b[0m \u001b[43m        \u001b[49m\u001b[43mVQAStrategyDetail\u001b[49m\u001b[43m(\u001b[49m\n\u001b[1;32m    149\u001b[0m \u001b[43m            \u001b[49m\u001b[43mcountry\u001b[49m\u001b[38;5;241;43m=\u001b[39;49m\u001b[38;5;124;43m\"\u001b[39;49m\u001b[38;5;124;43mspain\u001b[39;49m\u001b[38;5;124;43m\"\u001b[39;49m\u001b[43m,\u001b[49m\n\u001b[1;32m    150\u001b[0m \u001b[43m            \u001b[49m\u001b[43mfile_type\u001b[49m\u001b[38;5;241;43m=\u001b[39;49m\u001b[38;5;124;43m\"\u001b[39;49m\u001b[38;5;124;43menglish\u001b[39;49m\u001b[38;5;124;43m\"\u001b[39;49m\u001b[43m,\u001b[49m\n\u001b[1;32m    151\u001b[0m \u001b[43m            \u001b[49m\u001b[43mvqa_strategy_type\u001b[49m\u001b[38;5;241;43m=\u001b[39;49m\u001b[43mVQAStrategyType\u001b[49m\u001b[38;5;241;43m.\u001b[39;49m\u001b[43mRAG_Q\u001b[49m\u001b[43m,\u001b[49m\n\u001b[1;32m    152\u001b[0m \u001b[43m            \u001b[49m\u001b[43mprompt_type\u001b[49m\u001b[38;5;241;43m=\u001b[39;49m\u001b[43mRagQPromptType\u001b[49m\u001b[38;5;241;43m.\u001b[39;49m\u001b[43mV1\u001b[49m\u001b[43m,\u001b[49m\n\u001b[1;32m    153\u001b[0m \u001b[43m            \u001b[49m\u001b[43mrelevant_docs_count\u001b[49m\u001b[38;5;241;43m=\u001b[39;49m\u001b[38;5;241;43m3\u001b[39;49m\u001b[43m,\u001b[49m\n\u001b[1;32m    154\u001b[0m \u001b[43m            \u001b[49m\u001b[43mdoc_splitter_options\u001b[49m\u001b[38;5;241;43m=\u001b[39;49m\u001b[43mDocSplitterOptions\u001b[49m\u001b[43m(\u001b[49m\n\u001b[1;32m    155\u001b[0m \u001b[43m                \u001b[49m\u001b[43mdoc_splitter_type\u001b[49m\u001b[38;5;241;43m=\u001b[39;49m\u001b[43mDocumentSplitterType\u001b[49m\u001b[38;5;241;43m.\u001b[39;49m\u001b[43mSPACY_SENTENCE_SPLITTER\u001b[49m\u001b[43m,\u001b[49m\n\u001b[1;32m    156\u001b[0m \u001b[43m                \u001b[49m\u001b[43madd_title\u001b[49m\u001b[38;5;241;43m=\u001b[39;49m\u001b[38;5;28;43;01mFalse\u001b[39;49;00m\u001b[43m,\u001b[49m\n\u001b[1;32m    157\u001b[0m \u001b[43m                \u001b[49m\u001b[43mtoken_count\u001b[49m\u001b[38;5;241;43m=\u001b[39;49m\u001b[38;5;241;43m2\u001b[39;49m\n\u001b[1;32m    158\u001b[0m \u001b[43m            \u001b[49m\u001b[43m)\u001b[49m\n\u001b[1;32m    159\u001b[0m \u001b[43m        \u001b[49m\u001b[43m)\u001b[49m\u001b[43m,\u001b[49m\n\u001b[1;32m    160\u001b[0m \u001b[43m        \u001b[49m\u001b[43mVQAStrategyDetail\u001b[49m\u001b[43m(\u001b[49m\n\u001b[1;32m    161\u001b[0m \u001b[43m            \u001b[49m\u001b[43mcountry\u001b[49m\u001b[38;5;241;43m=\u001b[39;49m\u001b[38;5;124;43m\"\u001b[39;49m\u001b[38;5;124;43mspain\u001b[39;49m\u001b[38;5;124;43m\"\u001b[39;49m\u001b[43m,\u001b[49m\n\u001b[1;32m    162\u001b[0m \u001b[43m            \u001b[49m\u001b[43mfile_type\u001b[49m\u001b[38;5;241;43m=\u001b[39;49m\u001b[38;5;124;43m\"\u001b[39;49m\u001b[38;5;124;43menglish\u001b[39;49m\u001b[38;5;124;43m\"\u001b[39;49m\u001b[43m,\u001b[49m\n\u001b[1;32m    163\u001b[0m \u001b[43m            \u001b[49m\u001b[43mvqa_strategy_type\u001b[49m\u001b[38;5;241;43m=\u001b[39;49m\u001b[43mVQAStrategyType\u001b[49m\u001b[38;5;241;43m.\u001b[39;49m\u001b[43mRAG_Q\u001b[49m\u001b[43m,\u001b[49m\n\u001b[1;32m    164\u001b[0m \u001b[43m            \u001b[49m\u001b[43mprompt_type\u001b[49m\u001b[38;5;241;43m=\u001b[39;49m\u001b[43mRagQPromptType\u001b[49m\u001b[38;5;241;43m.\u001b[39;49m\u001b[43mV1\u001b[49m\u001b[43m,\u001b[49m\n\u001b[1;32m    165\u001b[0m \u001b[43m            \u001b[49m\u001b[43mrelevant_docs_count\u001b[49m\u001b[38;5;241;43m=\u001b[39;49m\u001b[38;5;241;43m3\u001b[39;49m\u001b[43m,\u001b[49m\n\u001b[1;32m    166\u001b[0m \u001b[43m            \u001b[49m\u001b[43mdoc_splitter_options\u001b[49m\u001b[38;5;241;43m=\u001b[39;49m\u001b[43mDocSplitterOptions\u001b[49m\u001b[43m(\u001b[49m\n\u001b[1;32m    167\u001b[0m \u001b[43m                \u001b[49m\u001b[43mdoc_splitter_type\u001b[49m\u001b[38;5;241;43m=\u001b[39;49m\u001b[43mDocumentSplitterType\u001b[49m\u001b[38;5;241;43m.\u001b[39;49m\u001b[43mSPACY_SENTENCE_SPLITTER\u001b[49m\u001b[43m,\u001b[49m\n\u001b[1;32m    168\u001b[0m \u001b[43m                \u001b[49m\u001b[43madd_title\u001b[49m\u001b[38;5;241;43m=\u001b[39;49m\u001b[38;5;28;43;01mFalse\u001b[39;49;00m\u001b[43m,\u001b[49m\n\u001b[1;32m    169\u001b[0m \u001b[43m                \u001b[49m\u001b[43mtoken_count\u001b[49m\u001b[38;5;241;43m=\u001b[39;49m\u001b[38;5;241;43m3\u001b[39;49m\n\u001b[1;32m    170\u001b[0m \u001b[43m            \u001b[49m\u001b[43m)\u001b[49m\n\u001b[1;32m    171\u001b[0m \u001b[43m        \u001b[49m\u001b[43m)\u001b[49m\u001b[43m,\u001b[49m\n\u001b[1;32m    172\u001b[0m \u001b[43m        \u001b[49m\u001b[43mVQAStrategyDetail\u001b[49m\u001b[43m(\u001b[49m\n\u001b[1;32m    173\u001b[0m \u001b[43m            \u001b[49m\u001b[43mcountry\u001b[49m\u001b[38;5;241;43m=\u001b[39;49m\u001b[38;5;124;43m\"\u001b[39;49m\u001b[38;5;124;43mspain\u001b[39;49m\u001b[38;5;124;43m\"\u001b[39;49m\u001b[43m,\u001b[49m\n\u001b[1;32m    174\u001b[0m \u001b[43m            \u001b[49m\u001b[43mfile_type\u001b[49m\u001b[38;5;241;43m=\u001b[39;49m\u001b[38;5;124;43m\"\u001b[39;49m\u001b[38;5;124;43menglish\u001b[39;49m\u001b[38;5;124;43m\"\u001b[39;49m\u001b[43m,\u001b[49m\n\u001b[1;32m    175\u001b[0m \u001b[43m            \u001b[49m\u001b[43mvqa_strategy_type\u001b[49m\u001b[38;5;241;43m=\u001b[39;49m\u001b[43mVQAStrategyType\u001b[49m\u001b[38;5;241;43m.\u001b[39;49m\u001b[43mRAG_Q\u001b[49m\u001b[43m,\u001b[49m\n\u001b[1;32m    176\u001b[0m \u001b[43m            \u001b[49m\u001b[43mprompt_type\u001b[49m\u001b[38;5;241;43m=\u001b[39;49m\u001b[43mRagQPromptType\u001b[49m\u001b[38;5;241;43m.\u001b[39;49m\u001b[43mV1\u001b[49m\u001b[43m,\u001b[49m\n\u001b[1;32m    177\u001b[0m \u001b[43m            \u001b[49m\u001b[43mrelevant_docs_count\u001b[49m\u001b[38;5;241;43m=\u001b[39;49m\u001b[38;5;241;43m3\u001b[39;49m\u001b[43m,\u001b[49m\n\u001b[1;32m    178\u001b[0m \u001b[43m            \u001b[49m\u001b[43mdoc_splitter_options\u001b[49m\u001b[38;5;241;43m=\u001b[39;49m\u001b[43mDocSplitterOptions\u001b[49m\u001b[43m(\u001b[49m\n\u001b[1;32m    179\u001b[0m \u001b[43m                \u001b[49m\u001b[43mdoc_splitter_type\u001b[49m\u001b[38;5;241;43m=\u001b[39;49m\u001b[43mDocumentSplitterType\u001b[49m\u001b[38;5;241;43m.\u001b[39;49m\u001b[43mSPACY_SENTENCE_SPLITTER\u001b[49m\u001b[43m,\u001b[49m\n\u001b[1;32m    180\u001b[0m \u001b[43m                \u001b[49m\u001b[43madd_title\u001b[49m\u001b[38;5;241;43m=\u001b[39;49m\u001b[38;5;28;43;01mFalse\u001b[39;49;00m\u001b[43m,\u001b[49m\n\u001b[1;32m    181\u001b[0m \u001b[43m                \u001b[49m\u001b[43mtoken_count\u001b[49m\u001b[38;5;241;43m=\u001b[39;49m\u001b[38;5;241;43m4\u001b[39;49m\n\u001b[1;32m    182\u001b[0m \u001b[43m            \u001b[49m\u001b[43m)\u001b[49m\n\u001b[1;32m    183\u001b[0m \u001b[43m        \u001b[49m\u001b[43m)\u001b[49m\n\u001b[1;32m    184\u001b[0m \u001b[43m    \u001b[49m\u001b[43m]\u001b[49m\n\u001b[1;32m    185\u001b[0m \u001b[43m)\u001b[49m\n\u001b[1;32m    186\u001b[0m evaluation_results \u001b[38;5;241m=\u001b[39m evaluation_results\u001b[38;5;241m.\u001b[39mfillna(\u001b[38;5;124m\"\u001b[39m\u001b[38;5;124m-\u001b[39m\u001b[38;5;124m\"\u001b[39m)\n\u001b[1;32m    187\u001b[0m evaluation_results\n",
      "File \u001b[0;32m~/Documents/TFM/world-med-visual-qa/src/utils/dataset_helpers/world_med_qa_v/dataset_management.py:67\u001b[0m, in \u001b[0;36mload_evaluation_results\u001b[0;34m(evaluation_results_folder, vqa_strategy_details)\u001b[0m\n\u001b[1;32m     63\u001b[0m \u001b[38;5;28;01mfor\u001b[39;00m detail \u001b[38;5;129;01min\u001b[39;00m vqa_strategy_details:\n\u001b[1;32m     64\u001b[0m     evaluation_results_filepath \u001b[38;5;241m=\u001b[39m detail\u001b[38;5;241m.\u001b[39mgenerate_evaluation_results_filepath(\n\u001b[1;32m     65\u001b[0m         evaluation_results_folder\u001b[38;5;241m=\u001b[39mevaluation_results_folder\n\u001b[1;32m     66\u001b[0m     )\n\u001b[0;32m---> 67\u001b[0m     evaluation_metrics \u001b[38;5;241m=\u001b[39m \u001b[43m__load_evaluation_result_from_filepath\u001b[49m\u001b[43m(\u001b[49m\u001b[43mevaluation_results_filepath\u001b[49m\u001b[43m)\u001b[49m\n\u001b[1;32m     68\u001b[0m     evaluation_results\u001b[38;5;241m.\u001b[39mappend({\n\u001b[1;32m     69\u001b[0m         \u001b[38;5;124m\"\u001b[39m\u001b[38;5;124mcountry\u001b[39m\u001b[38;5;124m\"\u001b[39m: detail\u001b[38;5;241m.\u001b[39mcountry,\n\u001b[1;32m     70\u001b[0m         \u001b[38;5;124m\"\u001b[39m\u001b[38;5;124mfile_type\u001b[39m\u001b[38;5;124m\"\u001b[39m: detail\u001b[38;5;241m.\u001b[39mfile_type,\n\u001b[0;32m   (...)\u001b[0m\n\u001b[1;32m     91\u001b[0m         \u001b[38;5;124m\"\u001b[39m\u001b[38;5;124mwell_formatted_answers\u001b[39m\u001b[38;5;124m\"\u001b[39m: evaluation_metrics[\u001b[38;5;124m'\u001b[39m\u001b[38;5;124mpercentage_well_formatted\u001b[39m\u001b[38;5;124m'\u001b[39m]            \n\u001b[1;32m     92\u001b[0m     })\n\u001b[1;32m     94\u001b[0m \u001b[38;5;28;01mreturn\u001b[39;00m pd\u001b[38;5;241m.\u001b[39mDataFrame(evaluation_results)\n",
      "File \u001b[0;32m~/Documents/TFM/world-med-visual-qa/src/utils/dataset_helpers/world_med_qa_v/dataset_management.py:105\u001b[0m, in \u001b[0;36m__load_evaluation_result_from_filepath\u001b[0;34m(evaluation_results_filepath)\u001b[0m\n\u001b[1;32m    102\u001b[0m \u001b[38;5;28;01mdef\u001b[39;00m \u001b[38;5;21m__load_evaluation_result_from_filepath\u001b[39m(\n\u001b[1;32m    103\u001b[0m     evaluation_results_filepath: Path\n\u001b[1;32m    104\u001b[0m ) \u001b[38;5;241m-\u001b[39m\u001b[38;5;241m>\u001b[39m \u001b[38;5;28mdict\u001b[39m:\n\u001b[0;32m--> 105\u001b[0m     \u001b[38;5;28;01mwith\u001b[39;00m \u001b[38;5;28;43mopen\u001b[39;49m\u001b[43m(\u001b[49m\u001b[43mfile\u001b[49m\u001b[38;5;241;43m=\u001b[39;49m\u001b[43mevaluation_results_filepath\u001b[49m\u001b[43m,\u001b[49m\u001b[43m \u001b[49m\u001b[43mmode\u001b[49m\u001b[38;5;241;43m=\u001b[39;49m\u001b[38;5;124;43m'\u001b[39;49m\u001b[38;5;124;43mr\u001b[39;49m\u001b[38;5;124;43m'\u001b[39;49m\u001b[43m,\u001b[49m\u001b[43m \u001b[49m\u001b[43mencoding\u001b[49m\u001b[38;5;241;43m=\u001b[39;49m\u001b[38;5;124;43m'\u001b[39;49m\u001b[38;5;124;43mutf-8\u001b[39;49m\u001b[38;5;124;43m'\u001b[39;49m\u001b[43m)\u001b[49m \u001b[38;5;28;01mas\u001b[39;00m evaluation_file:\n\u001b[1;32m    106\u001b[0m         evaluation_data \u001b[38;5;241m=\u001b[39m json\u001b[38;5;241m.\u001b[39mload(evaluation_file)\n\u001b[1;32m    108\u001b[0m     \u001b[38;5;28;01mreturn\u001b[39;00m evaluation_data\n",
      "\u001b[0;31mFileNotFoundError\u001b[0m: [Errno 2] No such file or directory: 'evaluation_results/rag_q/rdc3/spacy_sent_splitting/no_title_tc1/spain_english_rq_v1_evaluation.json'"
     ]
    }
   ],
   "source": [
    "evaluation_results = world_med_qa_v_dataset_management.load_evaluation_results(\n",
    "    evaluation_results_folder=RESULTS_DIR,\n",
    "    vqa_strategy_details=[\n",
    "        VQAStrategyDetail(\n",
    "            country=\"spain\",\n",
    "            file_type=\"english\",\n",
    "            vqa_strategy_type=VQAStrategyType.RAG_Q,\n",
    "            prompt_type=RagQPromptType.V1,\n",
    "            relevant_docs_count=3,\n",
    "            doc_splitter_options=DocSplitterOptions(\n",
    "                doc_splitter_type=DocumentSplitterType.PARAGRAPH_SPLITTER,\n",
    "                add_title=False,\n",
    "                token_count=1\n",
    "            )\n",
    "        ),\n",
    "        VQAStrategyDetail(\n",
    "            country=\"spain\",\n",
    "            file_type=\"english\",\n",
    "            vqa_strategy_type=VQAStrategyType.RAG_Q,\n",
    "            prompt_type=RagQPromptType.V1,\n",
    "            relevant_docs_count=3,\n",
    "            doc_splitter_options=DocSplitterOptions(\n",
    "                doc_splitter_type=DocumentSplitterType.PARAGRAPH_SPLITTER,\n",
    "                add_title=False,\n",
    "                token_count=2\n",
    "            )\n",
    "        ),\n",
    "        VQAStrategyDetail(\n",
    "            country=\"spain\",\n",
    "            file_type=\"english\",\n",
    "            vqa_strategy_type=VQAStrategyType.RAG_Q,\n",
    "            prompt_type=RagQPromptType.V1,\n",
    "            relevant_docs_count=3,\n",
    "            doc_splitter_options=DocSplitterOptions(\n",
    "                doc_splitter_type=DocumentSplitterType.PARAGRAPH_SPLITTER,\n",
    "                add_title=False,\n",
    "                token_count=3\n",
    "            )\n",
    "        ),\n",
    "        VQAStrategyDetail(\n",
    "            country=\"spain\",\n",
    "            file_type=\"english\",\n",
    "            vqa_strategy_type=VQAStrategyType.RAG_Q,\n",
    "            prompt_type=RagQPromptType.V1,\n",
    "            relevant_docs_count=3,\n",
    "            doc_splitter_options=DocSplitterOptions(\n",
    "                doc_splitter_type=DocumentSplitterType.PARAGRAPH_SPLITTER,\n",
    "                add_title=False,\n",
    "                token_count=4\n",
    "            )\n",
    "        ),\n",
    "        VQAStrategyDetail(\n",
    "            country=\"spain\",\n",
    "            file_type=\"english\",\n",
    "            vqa_strategy_type=VQAStrategyType.RAG_Q,\n",
    "            prompt_type=RagQPromptType.V1,\n",
    "            relevant_docs_count=3,\n",
    "            doc_splitter_options=DocSplitterOptions(\n",
    "                doc_splitter_type=DocumentSplitterType.RECURSIVE_CHARACTER_SPLITTER,\n",
    "                add_title=False,\n",
    "                token_count=1,\n",
    "                chunk_size=300,\n",
    "                chunk_overlap=0\n",
    "            )\n",
    "        ),\n",
    "        VQAStrategyDetail(\n",
    "            country=\"spain\",\n",
    "            file_type=\"english\",\n",
    "            vqa_strategy_type=VQAStrategyType.RAG_Q,\n",
    "            prompt_type=RagQPromptType.V1,\n",
    "            relevant_docs_count=3,\n",
    "            doc_splitter_options=DocSplitterOptions(\n",
    "                doc_splitter_type=DocumentSplitterType.RECURSIVE_CHARACTER_SPLITTER,\n",
    "                add_title=False,\n",
    "                token_count=1,\n",
    "                chunk_size=600,\n",
    "                chunk_overlap=0\n",
    "            )\n",
    "        ),\n",
    "        VQAStrategyDetail(\n",
    "            country=\"spain\",\n",
    "            file_type=\"english\",\n",
    "            vqa_strategy_type=VQAStrategyType.RAG_Q,\n",
    "            prompt_type=RagQPromptType.V1,\n",
    "            relevant_docs_count=3,\n",
    "            doc_splitter_options=DocSplitterOptions(\n",
    "                doc_splitter_type=DocumentSplitterType.RECURSIVE_CHARACTER_SPLITTER,\n",
    "                add_title=False,\n",
    "                token_count=1,\n",
    "                chunk_size=900,\n",
    "                chunk_overlap=0\n",
    "            )\n",
    "        ),\n",
    "        VQAStrategyDetail(\n",
    "            country=\"spain\",\n",
    "            file_type=\"english\",\n",
    "            vqa_strategy_type=VQAStrategyType.RAG_Q,\n",
    "            prompt_type=RagQPromptType.V1,\n",
    "            relevant_docs_count=3,\n",
    "            doc_splitter_options=DocSplitterOptions(\n",
    "                doc_splitter_type=DocumentSplitterType.RECURSIVE_CHARACTER_SPLITTER,\n",
    "                add_title=False,\n",
    "                token_count=2,\n",
    "                chunk_size=300,\n",
    "                chunk_overlap=0\n",
    "            )\n",
    "        ),\n",
    "        VQAStrategyDetail(\n",
    "            country=\"spain\",\n",
    "            file_type=\"english\",\n",
    "            vqa_strategy_type=VQAStrategyType.RAG_Q,\n",
    "            prompt_type=RagQPromptType.V1,\n",
    "            relevant_docs_count=3,\n",
    "            doc_splitter_options=DocSplitterOptions(\n",
    "                doc_splitter_type=DocumentSplitterType.RECURSIVE_CHARACTER_SPLITTER,\n",
    "                add_title=False,\n",
    "                token_count=2,\n",
    "                chunk_size=600,\n",
    "                chunk_overlap=0\n",
    "            )\n",
    "        ),\n",
    "        VQAStrategyDetail(\n",
    "            country=\"spain\",\n",
    "            file_type=\"english\",\n",
    "            vqa_strategy_type=VQAStrategyType.RAG_Q,\n",
    "            prompt_type=RagQPromptType.V1,\n",
    "            relevant_docs_count=3,\n",
    "            doc_splitter_options=DocSplitterOptions(\n",
    "                doc_splitter_type=DocumentSplitterType.RECURSIVE_CHARACTER_SPLITTER,\n",
    "                add_title=False,\n",
    "                token_count=2,\n",
    "                chunk_size=900,\n",
    "                chunk_overlap=0\n",
    "            )\n",
    "        ),\n",
    "        VQAStrategyDetail(\n",
    "            country=\"spain\",\n",
    "            file_type=\"english\",\n",
    "            vqa_strategy_type=VQAStrategyType.RAG_Q,\n",
    "            prompt_type=RagQPromptType.V1,\n",
    "            relevant_docs_count=3,\n",
    "            doc_splitter_options=DocSplitterOptions(\n",
    "                doc_splitter_type=DocumentSplitterType.SPACY_SENTENCE_SPLITTER,\n",
    "                add_title=False,\n",
    "                token_count=1\n",
    "            )\n",
    "        ),\n",
    "        VQAStrategyDetail(\n",
    "            country=\"spain\",\n",
    "            file_type=\"english\",\n",
    "            vqa_strategy_type=VQAStrategyType.RAG_Q,\n",
    "            prompt_type=RagQPromptType.V1,\n",
    "            relevant_docs_count=3,\n",
    "            doc_splitter_options=DocSplitterOptions(\n",
    "                doc_splitter_type=DocumentSplitterType.SPACY_SENTENCE_SPLITTER,\n",
    "                add_title=False,\n",
    "                token_count=2\n",
    "            )\n",
    "        ),\n",
    "        VQAStrategyDetail(\n",
    "            country=\"spain\",\n",
    "            file_type=\"english\",\n",
    "            vqa_strategy_type=VQAStrategyType.RAG_Q,\n",
    "            prompt_type=RagQPromptType.V1,\n",
    "            relevant_docs_count=3,\n",
    "            doc_splitter_options=DocSplitterOptions(\n",
    "                doc_splitter_type=DocumentSplitterType.SPACY_SENTENCE_SPLITTER,\n",
    "                add_title=False,\n",
    "                token_count=3\n",
    "            )\n",
    "        ),\n",
    "        VQAStrategyDetail(\n",
    "            country=\"spain\",\n",
    "            file_type=\"english\",\n",
    "            vqa_strategy_type=VQAStrategyType.RAG_Q,\n",
    "            prompt_type=RagQPromptType.V1,\n",
    "            relevant_docs_count=3,\n",
    "            doc_splitter_options=DocSplitterOptions(\n",
    "                doc_splitter_type=DocumentSplitterType.SPACY_SENTENCE_SPLITTER,\n",
    "                add_title=False,\n",
    "                token_count=4\n",
    "            )\n",
    "        )\n",
    "    ]\n",
    ")\n",
    "evaluation_results = evaluation_results.fillna(\"-\")\n",
    "evaluation_results"
   ]
  },
  {
   "cell_type": "code",
   "execution_count": 18,
   "metadata": {},
   "outputs": [
    {
     "data": {
      "application/vnd.plotly.v1+json": {
       "config": {
        "plotlyServerURL": "https://plot.ly"
       },
       "data": [
        {
         "cliponaxis": false,
         "customdata": [
          [
           "rag_q",
           "rq_v1",
           "spacy_sentence_splitter",
           false,
           1,
           "-",
           "-"
          ],
          [
           "rag_q",
           "rq_v2",
           "spacy_sentence_splitter",
           false,
           1,
           "-",
           "-"
          ],
          [
           "rag_q",
           "rq_v3",
           "spacy_sentence_splitter",
           false,
           1,
           "-",
           "-"
          ],
          [
           "rag_q",
           "rq_v4",
           "spacy_sentence_splitter",
           false,
           1,
           "-",
           "-"
          ],
          [
           "rag_q",
           "rq_v1",
           "spacy_sentence_splitter",
           false,
           2,
           "-",
           "-"
          ],
          [
           "rag_q",
           "rq_v2",
           "spacy_sentence_splitter",
           false,
           2,
           "-",
           "-"
          ],
          [
           "rag_q",
           "rq_v3",
           "spacy_sentence_splitter",
           false,
           2,
           "-",
           "-"
          ],
          [
           "rag_q",
           "rq_v4",
           "spacy_sentence_splitter",
           false,
           2,
           "-",
           "-"
          ],
          [
           "rag_q",
           "rq_v1",
           "spacy_sentence_splitter",
           false,
           3,
           "-",
           "-"
          ],
          [
           "rag_q",
           "rq_v2",
           "spacy_sentence_splitter",
           false,
           3,
           "-",
           "-"
          ],
          [
           "rag_q",
           "rq_v3",
           "spacy_sentence_splitter",
           false,
           3,
           "-",
           "-"
          ],
          [
           "rag_q",
           "rq_v4",
           "spacy_sentence_splitter",
           false,
           3,
           "-",
           "-"
          ],
          [
           "rag_q",
           "rq_v1",
           "spacy_sentence_splitter",
           false,
           4,
           "-",
           "-"
          ],
          [
           "rag_q",
           "rq_v2",
           "spacy_sentence_splitter",
           false,
           4,
           "-",
           "-"
          ],
          [
           "rag_q",
           "rq_v3",
           "spacy_sentence_splitter",
           false,
           4,
           "-",
           "-"
          ],
          [
           "rag_q",
           "rq_v4",
           "spacy_sentence_splitter",
           false,
           4,
           "-",
           "-"
          ],
          [
           "rag_q",
           "rq_v1",
           "spacy_sentence_splitter",
           false,
           5,
           "-",
           "-"
          ],
          [
           "rag_q",
           "rq_v2",
           "spacy_sentence_splitter",
           false,
           5,
           "-",
           "-"
          ],
          [
           "rag_q",
           "rq_v3",
           "spacy_sentence_splitter",
           false,
           5,
           "-",
           "-"
          ],
          [
           "rag_q",
           "rq_v4",
           "spacy_sentence_splitter",
           false,
           5,
           "-",
           "-"
          ]
         ],
         "hovertemplate": "VQA Strategy Type: %{customdata[0]}<br>Prompt Type: %{customdata[1]}<br>Document Splitter: %{customdata[2]}<br>Add Title: %{customdata[3]}<br>Token Count: %{customdata[4]}<br>Chunk Size: %{customdata[5]}<br>Chunk Overlap: %{customdata[6]}<br>",
         "marker": {
          "color": "royalblue",
          "opacity": 0.8
         },
         "name": "Accuracy",
         "text": [
          0.296,
          0.28,
          0.28,
          0.296,
          0.272,
          0.272,
          0.272,
          0.24,
          0.272,
          0.288,
          0.288,
          0.304,
          0.24,
          0.256,
          0.272,
          0.248,
          0.256,
          0.256,
          0.264,
          0.264
         ],
         "textposition": "outside",
         "texttemplate": "%{y:.1%}",
         "type": "bar",
         "width": 0.4,
         "x": [
          0,
          1,
          2,
          3,
          4,
          5,
          6,
          7,
          8,
          9,
          10,
          11,
          12,
          13,
          14,
          15,
          16,
          17,
          18,
          19
         ],
         "y": [
          0.296,
          0.28,
          0.28,
          0.296,
          0.272,
          0.272,
          0.272,
          0.24,
          0.272,
          0.288,
          0.288,
          0.304,
          0.24,
          0.256,
          0.272,
          0.248,
          0.256,
          0.256,
          0.264,
          0.264
         ]
        },
        {
         "cliponaxis": false,
         "customdata": [
          [
           "rag_q",
           "rq_v1",
           "spacy_sentence_splitter",
           false,
           1,
           "-",
           "-"
          ],
          [
           "rag_q",
           "rq_v2",
           "spacy_sentence_splitter",
           false,
           1,
           "-",
           "-"
          ],
          [
           "rag_q",
           "rq_v3",
           "spacy_sentence_splitter",
           false,
           1,
           "-",
           "-"
          ],
          [
           "rag_q",
           "rq_v4",
           "spacy_sentence_splitter",
           false,
           1,
           "-",
           "-"
          ],
          [
           "rag_q",
           "rq_v1",
           "spacy_sentence_splitter",
           false,
           2,
           "-",
           "-"
          ],
          [
           "rag_q",
           "rq_v2",
           "spacy_sentence_splitter",
           false,
           2,
           "-",
           "-"
          ],
          [
           "rag_q",
           "rq_v3",
           "spacy_sentence_splitter",
           false,
           2,
           "-",
           "-"
          ],
          [
           "rag_q",
           "rq_v4",
           "spacy_sentence_splitter",
           false,
           2,
           "-",
           "-"
          ],
          [
           "rag_q",
           "rq_v1",
           "spacy_sentence_splitter",
           false,
           3,
           "-",
           "-"
          ],
          [
           "rag_q",
           "rq_v2",
           "spacy_sentence_splitter",
           false,
           3,
           "-",
           "-"
          ],
          [
           "rag_q",
           "rq_v3",
           "spacy_sentence_splitter",
           false,
           3,
           "-",
           "-"
          ],
          [
           "rag_q",
           "rq_v4",
           "spacy_sentence_splitter",
           false,
           3,
           "-",
           "-"
          ],
          [
           "rag_q",
           "rq_v1",
           "spacy_sentence_splitter",
           false,
           4,
           "-",
           "-"
          ],
          [
           "rag_q",
           "rq_v2",
           "spacy_sentence_splitter",
           false,
           4,
           "-",
           "-"
          ],
          [
           "rag_q",
           "rq_v3",
           "spacy_sentence_splitter",
           false,
           4,
           "-",
           "-"
          ],
          [
           "rag_q",
           "rq_v4",
           "spacy_sentence_splitter",
           false,
           4,
           "-",
           "-"
          ],
          [
           "rag_q",
           "rq_v1",
           "spacy_sentence_splitter",
           false,
           5,
           "-",
           "-"
          ],
          [
           "rag_q",
           "rq_v2",
           "spacy_sentence_splitter",
           false,
           5,
           "-",
           "-"
          ],
          [
           "rag_q",
           "rq_v3",
           "spacy_sentence_splitter",
           false,
           5,
           "-",
           "-"
          ],
          [
           "rag_q",
           "rq_v4",
           "spacy_sentence_splitter",
           false,
           5,
           "-",
           "-"
          ]
         ],
         "hovertemplate": "VQA Strategy Type: %{customdata[0]}<br>Prompt Type: %{customdata[1]}<br>Document Splitter: %{customdata[2]}<br>Add Title: %{customdata[3]}<br>Token Count: %{customdata[4]}<br>Chunk Size: %{customdata[5]}<br>Chunk Overlap: %{customdata[6]}<br>",
         "marker": {
          "color": "darkorange",
          "opacity": 0.8
         },
         "name": "Well-Formatted Answers",
         "text": [
          1,
          1,
          1,
          1,
          1,
          1,
          1,
          1,
          1,
          1,
          1,
          1,
          1,
          1,
          1,
          1,
          1,
          1,
          1,
          1
         ],
         "textposition": "outside",
         "texttemplate": "%{y:.1%}",
         "type": "bar",
         "width": 0.4,
         "x": [
          0,
          1,
          2,
          3,
          4,
          5,
          6,
          7,
          8,
          9,
          10,
          11,
          12,
          13,
          14,
          15,
          16,
          17,
          18,
          19
         ],
         "y": [
          1,
          1,
          1,
          1,
          1,
          1,
          1,
          1,
          1,
          1,
          1,
          1,
          1,
          1,
          1,
          1,
          1,
          1,
          1,
          1
         ]
        }
       ],
       "layout": {
        "barcornerradius": 15,
        "barmode": "group",
        "font": {
         "color": "black",
         "family": "Arial, sans-serif",
         "size": 14
        },
        "height": 500,
        "template": {
         "data": {
          "bar": [
           {
            "error_x": {
             "color": "#2a3f5f"
            },
            "error_y": {
             "color": "#2a3f5f"
            },
            "marker": {
             "line": {
              "color": "#E5ECF6",
              "width": 0.5
             },
             "pattern": {
              "fillmode": "overlay",
              "size": 10,
              "solidity": 0.2
             }
            },
            "type": "bar"
           }
          ],
          "barpolar": [
           {
            "marker": {
             "line": {
              "color": "#E5ECF6",
              "width": 0.5
             },
             "pattern": {
              "fillmode": "overlay",
              "size": 10,
              "solidity": 0.2
             }
            },
            "type": "barpolar"
           }
          ],
          "carpet": [
           {
            "aaxis": {
             "endlinecolor": "#2a3f5f",
             "gridcolor": "white",
             "linecolor": "white",
             "minorgridcolor": "white",
             "startlinecolor": "#2a3f5f"
            },
            "baxis": {
             "endlinecolor": "#2a3f5f",
             "gridcolor": "white",
             "linecolor": "white",
             "minorgridcolor": "white",
             "startlinecolor": "#2a3f5f"
            },
            "type": "carpet"
           }
          ],
          "choropleth": [
           {
            "colorbar": {
             "outlinewidth": 0,
             "ticks": ""
            },
            "type": "choropleth"
           }
          ],
          "contour": [
           {
            "colorbar": {
             "outlinewidth": 0,
             "ticks": ""
            },
            "colorscale": [
             [
              0,
              "#0d0887"
             ],
             [
              0.1111111111111111,
              "#46039f"
             ],
             [
              0.2222222222222222,
              "#7201a8"
             ],
             [
              0.3333333333333333,
              "#9c179e"
             ],
             [
              0.4444444444444444,
              "#bd3786"
             ],
             [
              0.5555555555555556,
              "#d8576b"
             ],
             [
              0.6666666666666666,
              "#ed7953"
             ],
             [
              0.7777777777777778,
              "#fb9f3a"
             ],
             [
              0.8888888888888888,
              "#fdca26"
             ],
             [
              1,
              "#f0f921"
             ]
            ],
            "type": "contour"
           }
          ],
          "contourcarpet": [
           {
            "colorbar": {
             "outlinewidth": 0,
             "ticks": ""
            },
            "type": "contourcarpet"
           }
          ],
          "heatmap": [
           {
            "colorbar": {
             "outlinewidth": 0,
             "ticks": ""
            },
            "colorscale": [
             [
              0,
              "#0d0887"
             ],
             [
              0.1111111111111111,
              "#46039f"
             ],
             [
              0.2222222222222222,
              "#7201a8"
             ],
             [
              0.3333333333333333,
              "#9c179e"
             ],
             [
              0.4444444444444444,
              "#bd3786"
             ],
             [
              0.5555555555555556,
              "#d8576b"
             ],
             [
              0.6666666666666666,
              "#ed7953"
             ],
             [
              0.7777777777777778,
              "#fb9f3a"
             ],
             [
              0.8888888888888888,
              "#fdca26"
             ],
             [
              1,
              "#f0f921"
             ]
            ],
            "type": "heatmap"
           }
          ],
          "heatmapgl": [
           {
            "colorbar": {
             "outlinewidth": 0,
             "ticks": ""
            },
            "colorscale": [
             [
              0,
              "#0d0887"
             ],
             [
              0.1111111111111111,
              "#46039f"
             ],
             [
              0.2222222222222222,
              "#7201a8"
             ],
             [
              0.3333333333333333,
              "#9c179e"
             ],
             [
              0.4444444444444444,
              "#bd3786"
             ],
             [
              0.5555555555555556,
              "#d8576b"
             ],
             [
              0.6666666666666666,
              "#ed7953"
             ],
             [
              0.7777777777777778,
              "#fb9f3a"
             ],
             [
              0.8888888888888888,
              "#fdca26"
             ],
             [
              1,
              "#f0f921"
             ]
            ],
            "type": "heatmapgl"
           }
          ],
          "histogram": [
           {
            "marker": {
             "pattern": {
              "fillmode": "overlay",
              "size": 10,
              "solidity": 0.2
             }
            },
            "type": "histogram"
           }
          ],
          "histogram2d": [
           {
            "colorbar": {
             "outlinewidth": 0,
             "ticks": ""
            },
            "colorscale": [
             [
              0,
              "#0d0887"
             ],
             [
              0.1111111111111111,
              "#46039f"
             ],
             [
              0.2222222222222222,
              "#7201a8"
             ],
             [
              0.3333333333333333,
              "#9c179e"
             ],
             [
              0.4444444444444444,
              "#bd3786"
             ],
             [
              0.5555555555555556,
              "#d8576b"
             ],
             [
              0.6666666666666666,
              "#ed7953"
             ],
             [
              0.7777777777777778,
              "#fb9f3a"
             ],
             [
              0.8888888888888888,
              "#fdca26"
             ],
             [
              1,
              "#f0f921"
             ]
            ],
            "type": "histogram2d"
           }
          ],
          "histogram2dcontour": [
           {
            "colorbar": {
             "outlinewidth": 0,
             "ticks": ""
            },
            "colorscale": [
             [
              0,
              "#0d0887"
             ],
             [
              0.1111111111111111,
              "#46039f"
             ],
             [
              0.2222222222222222,
              "#7201a8"
             ],
             [
              0.3333333333333333,
              "#9c179e"
             ],
             [
              0.4444444444444444,
              "#bd3786"
             ],
             [
              0.5555555555555556,
              "#d8576b"
             ],
             [
              0.6666666666666666,
              "#ed7953"
             ],
             [
              0.7777777777777778,
              "#fb9f3a"
             ],
             [
              0.8888888888888888,
              "#fdca26"
             ],
             [
              1,
              "#f0f921"
             ]
            ],
            "type": "histogram2dcontour"
           }
          ],
          "mesh3d": [
           {
            "colorbar": {
             "outlinewidth": 0,
             "ticks": ""
            },
            "type": "mesh3d"
           }
          ],
          "parcoords": [
           {
            "line": {
             "colorbar": {
              "outlinewidth": 0,
              "ticks": ""
             }
            },
            "type": "parcoords"
           }
          ],
          "pie": [
           {
            "automargin": true,
            "type": "pie"
           }
          ],
          "scatter": [
           {
            "fillpattern": {
             "fillmode": "overlay",
             "size": 10,
             "solidity": 0.2
            },
            "type": "scatter"
           }
          ],
          "scatter3d": [
           {
            "line": {
             "colorbar": {
              "outlinewidth": 0,
              "ticks": ""
             }
            },
            "marker": {
             "colorbar": {
              "outlinewidth": 0,
              "ticks": ""
             }
            },
            "type": "scatter3d"
           }
          ],
          "scattercarpet": [
           {
            "marker": {
             "colorbar": {
              "outlinewidth": 0,
              "ticks": ""
             }
            },
            "type": "scattercarpet"
           }
          ],
          "scattergeo": [
           {
            "marker": {
             "colorbar": {
              "outlinewidth": 0,
              "ticks": ""
             }
            },
            "type": "scattergeo"
           }
          ],
          "scattergl": [
           {
            "marker": {
             "colorbar": {
              "outlinewidth": 0,
              "ticks": ""
             }
            },
            "type": "scattergl"
           }
          ],
          "scattermapbox": [
           {
            "marker": {
             "colorbar": {
              "outlinewidth": 0,
              "ticks": ""
             }
            },
            "type": "scattermapbox"
           }
          ],
          "scatterpolar": [
           {
            "marker": {
             "colorbar": {
              "outlinewidth": 0,
              "ticks": ""
             }
            },
            "type": "scatterpolar"
           }
          ],
          "scatterpolargl": [
           {
            "marker": {
             "colorbar": {
              "outlinewidth": 0,
              "ticks": ""
             }
            },
            "type": "scatterpolargl"
           }
          ],
          "scatterternary": [
           {
            "marker": {
             "colorbar": {
              "outlinewidth": 0,
              "ticks": ""
             }
            },
            "type": "scatterternary"
           }
          ],
          "surface": [
           {
            "colorbar": {
             "outlinewidth": 0,
             "ticks": ""
            },
            "colorscale": [
             [
              0,
              "#0d0887"
             ],
             [
              0.1111111111111111,
              "#46039f"
             ],
             [
              0.2222222222222222,
              "#7201a8"
             ],
             [
              0.3333333333333333,
              "#9c179e"
             ],
             [
              0.4444444444444444,
              "#bd3786"
             ],
             [
              0.5555555555555556,
              "#d8576b"
             ],
             [
              0.6666666666666666,
              "#ed7953"
             ],
             [
              0.7777777777777778,
              "#fb9f3a"
             ],
             [
              0.8888888888888888,
              "#fdca26"
             ],
             [
              1,
              "#f0f921"
             ]
            ],
            "type": "surface"
           }
          ],
          "table": [
           {
            "cells": {
             "fill": {
              "color": "#EBF0F8"
             },
             "line": {
              "color": "white"
             }
            },
            "header": {
             "fill": {
              "color": "#C8D4E3"
             },
             "line": {
              "color": "white"
             }
            },
            "type": "table"
           }
          ]
         },
         "layout": {
          "annotationdefaults": {
           "arrowcolor": "#2a3f5f",
           "arrowhead": 0,
           "arrowwidth": 1
          },
          "autotypenumbers": "strict",
          "coloraxis": {
           "colorbar": {
            "outlinewidth": 0,
            "ticks": ""
           }
          },
          "colorscale": {
           "diverging": [
            [
             0,
             "#8e0152"
            ],
            [
             0.1,
             "#c51b7d"
            ],
            [
             0.2,
             "#de77ae"
            ],
            [
             0.3,
             "#f1b6da"
            ],
            [
             0.4,
             "#fde0ef"
            ],
            [
             0.5,
             "#f7f7f7"
            ],
            [
             0.6,
             "#e6f5d0"
            ],
            [
             0.7,
             "#b8e186"
            ],
            [
             0.8,
             "#7fbc41"
            ],
            [
             0.9,
             "#4d9221"
            ],
            [
             1,
             "#276419"
            ]
           ],
           "sequential": [
            [
             0,
             "#0d0887"
            ],
            [
             0.1111111111111111,
             "#46039f"
            ],
            [
             0.2222222222222222,
             "#7201a8"
            ],
            [
             0.3333333333333333,
             "#9c179e"
            ],
            [
             0.4444444444444444,
             "#bd3786"
            ],
            [
             0.5555555555555556,
             "#d8576b"
            ],
            [
             0.6666666666666666,
             "#ed7953"
            ],
            [
             0.7777777777777778,
             "#fb9f3a"
            ],
            [
             0.8888888888888888,
             "#fdca26"
            ],
            [
             1,
             "#f0f921"
            ]
           ],
           "sequentialminus": [
            [
             0,
             "#0d0887"
            ],
            [
             0.1111111111111111,
             "#46039f"
            ],
            [
             0.2222222222222222,
             "#7201a8"
            ],
            [
             0.3333333333333333,
             "#9c179e"
            ],
            [
             0.4444444444444444,
             "#bd3786"
            ],
            [
             0.5555555555555556,
             "#d8576b"
            ],
            [
             0.6666666666666666,
             "#ed7953"
            ],
            [
             0.7777777777777778,
             "#fb9f3a"
            ],
            [
             0.8888888888888888,
             "#fdca26"
            ],
            [
             1,
             "#f0f921"
            ]
           ]
          },
          "colorway": [
           "#636efa",
           "#EF553B",
           "#00cc96",
           "#ab63fa",
           "#FFA15A",
           "#19d3f3",
           "#FF6692",
           "#B6E880",
           "#FF97FF",
           "#FECB52"
          ],
          "font": {
           "color": "#2a3f5f"
          },
          "geo": {
           "bgcolor": "white",
           "lakecolor": "white",
           "landcolor": "#E5ECF6",
           "showlakes": true,
           "showland": true,
           "subunitcolor": "white"
          },
          "hoverlabel": {
           "align": "left"
          },
          "hovermode": "closest",
          "mapbox": {
           "style": "light"
          },
          "paper_bgcolor": "white",
          "plot_bgcolor": "#E5ECF6",
          "polar": {
           "angularaxis": {
            "gridcolor": "white",
            "linecolor": "white",
            "ticks": ""
           },
           "bgcolor": "#E5ECF6",
           "radialaxis": {
            "gridcolor": "white",
            "linecolor": "white",
            "ticks": ""
           }
          },
          "scene": {
           "xaxis": {
            "backgroundcolor": "#E5ECF6",
            "gridcolor": "white",
            "gridwidth": 2,
            "linecolor": "white",
            "showbackground": true,
            "ticks": "",
            "zerolinecolor": "white"
           },
           "yaxis": {
            "backgroundcolor": "#E5ECF6",
            "gridcolor": "white",
            "gridwidth": 2,
            "linecolor": "white",
            "showbackground": true,
            "ticks": "",
            "zerolinecolor": "white"
           },
           "zaxis": {
            "backgroundcolor": "#E5ECF6",
            "gridcolor": "white",
            "gridwidth": 2,
            "linecolor": "white",
            "showbackground": true,
            "ticks": "",
            "zerolinecolor": "white"
           }
          },
          "shapedefaults": {
           "line": {
            "color": "#2a3f5f"
           }
          },
          "ternary": {
           "aaxis": {
            "gridcolor": "white",
            "linecolor": "white",
            "ticks": ""
           },
           "baxis": {
            "gridcolor": "white",
            "linecolor": "white",
            "ticks": ""
           },
           "bgcolor": "#E5ECF6",
           "caxis": {
            "gridcolor": "white",
            "linecolor": "white",
            "ticks": ""
           }
          },
          "title": {
           "x": 0.05
          },
          "xaxis": {
           "automargin": true,
           "gridcolor": "white",
           "linecolor": "white",
           "ticks": "",
           "title": {
            "standoff": 15
           },
           "zerolinecolor": "white",
           "zerolinewidth": 2
          },
          "yaxis": {
           "automargin": true,
           "gridcolor": "white",
           "linecolor": "white",
           "ticks": "",
           "title": {
            "standoff": 15
           },
           "zerolinecolor": "white",
           "zerolinewidth": 2
          }
         }
        },
        "title": {
         "font": {
          "color": "black",
          "family": "Arial, sans-serif",
          "size": 22
         },
         "text": "Analysis of LLaVA Model Accuracy Across Different RAG Approaches and Parameter Settings (RDC: 3)",
         "x": 0.5,
         "xanchor": "center"
        },
        "xaxis": {
         "title": {
          "text": "Model Evaluations"
         }
        },
        "yaxis": {
         "range": [
          0,
          1.1
         ],
         "ticktext": [
          "0%",
          "10%",
          "20%",
          "30%",
          "40%",
          "50%",
          "60%",
          "70%",
          "80%",
          "90%",
          "100%"
         ],
         "tickvals": [
          0,
          0.1,
          0.2,
          0.3,
          0.4,
          0.5,
          0.6,
          0.7,
          0.8,
          0.9,
          1
         ],
         "title": {
          "text": "Accuracy"
         }
        }
       }
      }
     },
     "metadata": {},
     "output_type": "display_data"
    }
   ],
   "source": [
    "world_med_qa_v_plot_helpers.display_bar_chart_on_evaluation_results(\n",
    "    evaluation_results=evaluation_results,\n",
    "    title=\"Analysis of LLaVA Model Accuracy Across Different RAG Approaches and Parameter Settings (RDC: 3)\"\n",
    ")"
   ]
  },
  {
   "cell_type": "markdown",
   "metadata": {},
   "source": [
    "---"
   ]
  },
  {
   "cell_type": "markdown",
   "metadata": {},
   "source": [
    "`spacy_sentence_splitter` seems to output the most consistent results. Hence, we continue experimenting only with this **document splitter**."
   ]
  },
  {
   "cell_type": "markdown",
   "metadata": {},
   "source": [
    "### 3.4. Rag Q "
   ]
  },
  {
   "cell_type": "markdown",
   "metadata": {},
   "source": [
    "- Relevant Documents Count: 1\n",
    "- Document Splitter: spacy_sentence_splitter"
   ]
  },
  {
   "cell_type": "code",
   "execution_count": 15,
   "metadata": {},
   "outputs": [
    {
     "data": {
      "text/html": [
       "<div>\n",
       "<style scoped>\n",
       "    .dataframe tbody tr th:only-of-type {\n",
       "        vertical-align: middle;\n",
       "    }\n",
       "\n",
       "    .dataframe tbody tr th {\n",
       "        vertical-align: top;\n",
       "    }\n",
       "\n",
       "    .dataframe thead th {\n",
       "        text-align: right;\n",
       "    }\n",
       "</style>\n",
       "<table border=\"1\" class=\"dataframe\">\n",
       "  <thead>\n",
       "    <tr style=\"text-align: right;\">\n",
       "      <th></th>\n",
       "      <th>country</th>\n",
       "      <th>file_type</th>\n",
       "      <th>vqa_strategy_type</th>\n",
       "      <th>prompt_type</th>\n",
       "      <th>relevant_docs_count</th>\n",
       "      <th>doc_splitter</th>\n",
       "      <th>add_title</th>\n",
       "      <th>token_count</th>\n",
       "      <th>chunk_size</th>\n",
       "      <th>chunk_overlap</th>\n",
       "      <th>accuracy</th>\n",
       "      <th>well_formatted_answers</th>\n",
       "    </tr>\n",
       "  </thead>\n",
       "  <tbody>\n",
       "    <tr>\n",
       "      <th>0</th>\n",
       "      <td>spain</td>\n",
       "      <td>english</td>\n",
       "      <td>rag_q</td>\n",
       "      <td>rq_v1</td>\n",
       "      <td>1</td>\n",
       "      <td>spacy_sentence_splitter</td>\n",
       "      <td>False</td>\n",
       "      <td>1</td>\n",
       "      <td>-</td>\n",
       "      <td>-</td>\n",
       "      <td>0.296</td>\n",
       "      <td>1.0</td>\n",
       "    </tr>\n",
       "    <tr>\n",
       "      <th>1</th>\n",
       "      <td>spain</td>\n",
       "      <td>english</td>\n",
       "      <td>rag_q</td>\n",
       "      <td>rq_v2</td>\n",
       "      <td>1</td>\n",
       "      <td>spacy_sentence_splitter</td>\n",
       "      <td>False</td>\n",
       "      <td>1</td>\n",
       "      <td>-</td>\n",
       "      <td>-</td>\n",
       "      <td>0.280</td>\n",
       "      <td>1.0</td>\n",
       "    </tr>\n",
       "    <tr>\n",
       "      <th>2</th>\n",
       "      <td>spain</td>\n",
       "      <td>english</td>\n",
       "      <td>rag_q</td>\n",
       "      <td>rq_v3</td>\n",
       "      <td>1</td>\n",
       "      <td>spacy_sentence_splitter</td>\n",
       "      <td>False</td>\n",
       "      <td>1</td>\n",
       "      <td>-</td>\n",
       "      <td>-</td>\n",
       "      <td>0.280</td>\n",
       "      <td>1.0</td>\n",
       "    </tr>\n",
       "    <tr>\n",
       "      <th>3</th>\n",
       "      <td>spain</td>\n",
       "      <td>english</td>\n",
       "      <td>rag_q</td>\n",
       "      <td>rq_v4</td>\n",
       "      <td>1</td>\n",
       "      <td>spacy_sentence_splitter</td>\n",
       "      <td>False</td>\n",
       "      <td>1</td>\n",
       "      <td>-</td>\n",
       "      <td>-</td>\n",
       "      <td>0.296</td>\n",
       "      <td>1.0</td>\n",
       "    </tr>\n",
       "    <tr>\n",
       "      <th>4</th>\n",
       "      <td>spain</td>\n",
       "      <td>english</td>\n",
       "      <td>rag_q</td>\n",
       "      <td>rq_v1</td>\n",
       "      <td>1</td>\n",
       "      <td>spacy_sentence_splitter</td>\n",
       "      <td>False</td>\n",
       "      <td>2</td>\n",
       "      <td>-</td>\n",
       "      <td>-</td>\n",
       "      <td>0.272</td>\n",
       "      <td>1.0</td>\n",
       "    </tr>\n",
       "    <tr>\n",
       "      <th>5</th>\n",
       "      <td>spain</td>\n",
       "      <td>english</td>\n",
       "      <td>rag_q</td>\n",
       "      <td>rq_v2</td>\n",
       "      <td>1</td>\n",
       "      <td>spacy_sentence_splitter</td>\n",
       "      <td>False</td>\n",
       "      <td>2</td>\n",
       "      <td>-</td>\n",
       "      <td>-</td>\n",
       "      <td>0.272</td>\n",
       "      <td>1.0</td>\n",
       "    </tr>\n",
       "    <tr>\n",
       "      <th>6</th>\n",
       "      <td>spain</td>\n",
       "      <td>english</td>\n",
       "      <td>rag_q</td>\n",
       "      <td>rq_v3</td>\n",
       "      <td>1</td>\n",
       "      <td>spacy_sentence_splitter</td>\n",
       "      <td>False</td>\n",
       "      <td>2</td>\n",
       "      <td>-</td>\n",
       "      <td>-</td>\n",
       "      <td>0.272</td>\n",
       "      <td>1.0</td>\n",
       "    </tr>\n",
       "    <tr>\n",
       "      <th>7</th>\n",
       "      <td>spain</td>\n",
       "      <td>english</td>\n",
       "      <td>rag_q</td>\n",
       "      <td>rq_v4</td>\n",
       "      <td>1</td>\n",
       "      <td>spacy_sentence_splitter</td>\n",
       "      <td>False</td>\n",
       "      <td>2</td>\n",
       "      <td>-</td>\n",
       "      <td>-</td>\n",
       "      <td>0.240</td>\n",
       "      <td>1.0</td>\n",
       "    </tr>\n",
       "    <tr>\n",
       "      <th>8</th>\n",
       "      <td>spain</td>\n",
       "      <td>english</td>\n",
       "      <td>rag_q</td>\n",
       "      <td>rq_v1</td>\n",
       "      <td>1</td>\n",
       "      <td>spacy_sentence_splitter</td>\n",
       "      <td>False</td>\n",
       "      <td>3</td>\n",
       "      <td>-</td>\n",
       "      <td>-</td>\n",
       "      <td>0.272</td>\n",
       "      <td>1.0</td>\n",
       "    </tr>\n",
       "    <tr>\n",
       "      <th>9</th>\n",
       "      <td>spain</td>\n",
       "      <td>english</td>\n",
       "      <td>rag_q</td>\n",
       "      <td>rq_v2</td>\n",
       "      <td>1</td>\n",
       "      <td>spacy_sentence_splitter</td>\n",
       "      <td>False</td>\n",
       "      <td>3</td>\n",
       "      <td>-</td>\n",
       "      <td>-</td>\n",
       "      <td>0.288</td>\n",
       "      <td>1.0</td>\n",
       "    </tr>\n",
       "    <tr>\n",
       "      <th>10</th>\n",
       "      <td>spain</td>\n",
       "      <td>english</td>\n",
       "      <td>rag_q</td>\n",
       "      <td>rq_v3</td>\n",
       "      <td>1</td>\n",
       "      <td>spacy_sentence_splitter</td>\n",
       "      <td>False</td>\n",
       "      <td>3</td>\n",
       "      <td>-</td>\n",
       "      <td>-</td>\n",
       "      <td>0.288</td>\n",
       "      <td>1.0</td>\n",
       "    </tr>\n",
       "    <tr>\n",
       "      <th>11</th>\n",
       "      <td>spain</td>\n",
       "      <td>english</td>\n",
       "      <td>rag_q</td>\n",
       "      <td>rq_v4</td>\n",
       "      <td>1</td>\n",
       "      <td>spacy_sentence_splitter</td>\n",
       "      <td>False</td>\n",
       "      <td>3</td>\n",
       "      <td>-</td>\n",
       "      <td>-</td>\n",
       "      <td>0.304</td>\n",
       "      <td>1.0</td>\n",
       "    </tr>\n",
       "    <tr>\n",
       "      <th>12</th>\n",
       "      <td>spain</td>\n",
       "      <td>english</td>\n",
       "      <td>rag_q</td>\n",
       "      <td>rq_v1</td>\n",
       "      <td>1</td>\n",
       "      <td>spacy_sentence_splitter</td>\n",
       "      <td>False</td>\n",
       "      <td>4</td>\n",
       "      <td>-</td>\n",
       "      <td>-</td>\n",
       "      <td>0.240</td>\n",
       "      <td>1.0</td>\n",
       "    </tr>\n",
       "    <tr>\n",
       "      <th>13</th>\n",
       "      <td>spain</td>\n",
       "      <td>english</td>\n",
       "      <td>rag_q</td>\n",
       "      <td>rq_v2</td>\n",
       "      <td>1</td>\n",
       "      <td>spacy_sentence_splitter</td>\n",
       "      <td>False</td>\n",
       "      <td>4</td>\n",
       "      <td>-</td>\n",
       "      <td>-</td>\n",
       "      <td>0.256</td>\n",
       "      <td>1.0</td>\n",
       "    </tr>\n",
       "    <tr>\n",
       "      <th>14</th>\n",
       "      <td>spain</td>\n",
       "      <td>english</td>\n",
       "      <td>rag_q</td>\n",
       "      <td>rq_v3</td>\n",
       "      <td>1</td>\n",
       "      <td>spacy_sentence_splitter</td>\n",
       "      <td>False</td>\n",
       "      <td>4</td>\n",
       "      <td>-</td>\n",
       "      <td>-</td>\n",
       "      <td>0.272</td>\n",
       "      <td>1.0</td>\n",
       "    </tr>\n",
       "    <tr>\n",
       "      <th>15</th>\n",
       "      <td>spain</td>\n",
       "      <td>english</td>\n",
       "      <td>rag_q</td>\n",
       "      <td>rq_v4</td>\n",
       "      <td>1</td>\n",
       "      <td>spacy_sentence_splitter</td>\n",
       "      <td>False</td>\n",
       "      <td>4</td>\n",
       "      <td>-</td>\n",
       "      <td>-</td>\n",
       "      <td>0.248</td>\n",
       "      <td>1.0</td>\n",
       "    </tr>\n",
       "    <tr>\n",
       "      <th>16</th>\n",
       "      <td>spain</td>\n",
       "      <td>english</td>\n",
       "      <td>rag_q</td>\n",
       "      <td>rq_v1</td>\n",
       "      <td>1</td>\n",
       "      <td>spacy_sentence_splitter</td>\n",
       "      <td>False</td>\n",
       "      <td>5</td>\n",
       "      <td>-</td>\n",
       "      <td>-</td>\n",
       "      <td>0.256</td>\n",
       "      <td>1.0</td>\n",
       "    </tr>\n",
       "    <tr>\n",
       "      <th>17</th>\n",
       "      <td>spain</td>\n",
       "      <td>english</td>\n",
       "      <td>rag_q</td>\n",
       "      <td>rq_v2</td>\n",
       "      <td>1</td>\n",
       "      <td>spacy_sentence_splitter</td>\n",
       "      <td>False</td>\n",
       "      <td>5</td>\n",
       "      <td>-</td>\n",
       "      <td>-</td>\n",
       "      <td>0.256</td>\n",
       "      <td>1.0</td>\n",
       "    </tr>\n",
       "    <tr>\n",
       "      <th>18</th>\n",
       "      <td>spain</td>\n",
       "      <td>english</td>\n",
       "      <td>rag_q</td>\n",
       "      <td>rq_v3</td>\n",
       "      <td>1</td>\n",
       "      <td>spacy_sentence_splitter</td>\n",
       "      <td>False</td>\n",
       "      <td>5</td>\n",
       "      <td>-</td>\n",
       "      <td>-</td>\n",
       "      <td>0.264</td>\n",
       "      <td>1.0</td>\n",
       "    </tr>\n",
       "    <tr>\n",
       "      <th>19</th>\n",
       "      <td>spain</td>\n",
       "      <td>english</td>\n",
       "      <td>rag_q</td>\n",
       "      <td>rq_v4</td>\n",
       "      <td>1</td>\n",
       "      <td>spacy_sentence_splitter</td>\n",
       "      <td>False</td>\n",
       "      <td>5</td>\n",
       "      <td>-</td>\n",
       "      <td>-</td>\n",
       "      <td>0.264</td>\n",
       "      <td>1.0</td>\n",
       "    </tr>\n",
       "  </tbody>\n",
       "</table>\n",
       "</div>"
      ],
      "text/plain": [
       "   country file_type vqa_strategy_type prompt_type  relevant_docs_count  \\\n",
       "0    spain   english             rag_q       rq_v1                    1   \n",
       "1    spain   english             rag_q       rq_v2                    1   \n",
       "2    spain   english             rag_q       rq_v3                    1   \n",
       "3    spain   english             rag_q       rq_v4                    1   \n",
       "4    spain   english             rag_q       rq_v1                    1   \n",
       "5    spain   english             rag_q       rq_v2                    1   \n",
       "6    spain   english             rag_q       rq_v3                    1   \n",
       "7    spain   english             rag_q       rq_v4                    1   \n",
       "8    spain   english             rag_q       rq_v1                    1   \n",
       "9    spain   english             rag_q       rq_v2                    1   \n",
       "10   spain   english             rag_q       rq_v3                    1   \n",
       "11   spain   english             rag_q       rq_v4                    1   \n",
       "12   spain   english             rag_q       rq_v1                    1   \n",
       "13   spain   english             rag_q       rq_v2                    1   \n",
       "14   spain   english             rag_q       rq_v3                    1   \n",
       "15   spain   english             rag_q       rq_v4                    1   \n",
       "16   spain   english             rag_q       rq_v1                    1   \n",
       "17   spain   english             rag_q       rq_v2                    1   \n",
       "18   spain   english             rag_q       rq_v3                    1   \n",
       "19   spain   english             rag_q       rq_v4                    1   \n",
       "\n",
       "               doc_splitter  add_title  token_count chunk_size chunk_overlap  \\\n",
       "0   spacy_sentence_splitter      False            1          -             -   \n",
       "1   spacy_sentence_splitter      False            1          -             -   \n",
       "2   spacy_sentence_splitter      False            1          -             -   \n",
       "3   spacy_sentence_splitter      False            1          -             -   \n",
       "4   spacy_sentence_splitter      False            2          -             -   \n",
       "5   spacy_sentence_splitter      False            2          -             -   \n",
       "6   spacy_sentence_splitter      False            2          -             -   \n",
       "7   spacy_sentence_splitter      False            2          -             -   \n",
       "8   spacy_sentence_splitter      False            3          -             -   \n",
       "9   spacy_sentence_splitter      False            3          -             -   \n",
       "10  spacy_sentence_splitter      False            3          -             -   \n",
       "11  spacy_sentence_splitter      False            3          -             -   \n",
       "12  spacy_sentence_splitter      False            4          -             -   \n",
       "13  spacy_sentence_splitter      False            4          -             -   \n",
       "14  spacy_sentence_splitter      False            4          -             -   \n",
       "15  spacy_sentence_splitter      False            4          -             -   \n",
       "16  spacy_sentence_splitter      False            5          -             -   \n",
       "17  spacy_sentence_splitter      False            5          -             -   \n",
       "18  spacy_sentence_splitter      False            5          -             -   \n",
       "19  spacy_sentence_splitter      False            5          -             -   \n",
       "\n",
       "    accuracy  well_formatted_answers  \n",
       "0      0.296                     1.0  \n",
       "1      0.280                     1.0  \n",
       "2      0.280                     1.0  \n",
       "3      0.296                     1.0  \n",
       "4      0.272                     1.0  \n",
       "5      0.272                     1.0  \n",
       "6      0.272                     1.0  \n",
       "7      0.240                     1.0  \n",
       "8      0.272                     1.0  \n",
       "9      0.288                     1.0  \n",
       "10     0.288                     1.0  \n",
       "11     0.304                     1.0  \n",
       "12     0.240                     1.0  \n",
       "13     0.256                     1.0  \n",
       "14     0.272                     1.0  \n",
       "15     0.248                     1.0  \n",
       "16     0.256                     1.0  \n",
       "17     0.256                     1.0  \n",
       "18     0.264                     1.0  \n",
       "19     0.264                     1.0  "
      ]
     },
     "execution_count": 15,
     "metadata": {},
     "output_type": "execute_result"
    }
   ],
   "source": [
    "evaluation_results = world_med_qa_v_dataset_management.load_evaluation_results(\n",
    "    evaluation_results_folder=RESULTS_DIR,\n",
    "    vqa_strategy_details=[\n",
    "        VQAStrategyDetail(\n",
    "            country=\"spain\",\n",
    "            file_type=\"english\",\n",
    "            vqa_strategy_type=VQAStrategyType.RAG_Q,\n",
    "            prompt_type=RagQPromptType.V1,\n",
    "            relevant_docs_count=1,\n",
    "            doc_splitter_options=DocSplitterOptions(\n",
    "                doc_splitter_type=DocumentSplitterType.SPACY_SENTENCE_SPLITTER,\n",
    "                add_title=False,\n",
    "                token_count=1\n",
    "            )\n",
    "        ),\n",
    "        VQAStrategyDetail(\n",
    "            country=\"spain\",\n",
    "            file_type=\"english\",\n",
    "            vqa_strategy_type=VQAStrategyType.RAG_Q,\n",
    "            prompt_type=RagQPromptType.V2,\n",
    "            relevant_docs_count=1,\n",
    "            doc_splitter_options=DocSplitterOptions(\n",
    "                doc_splitter_type=DocumentSplitterType.SPACY_SENTENCE_SPLITTER,\n",
    "                add_title=False,\n",
    "                token_count=1\n",
    "            )\n",
    "        ),\n",
    "        VQAStrategyDetail(\n",
    "            country=\"spain\",\n",
    "            file_type=\"english\",\n",
    "            vqa_strategy_type=VQAStrategyType.RAG_Q,\n",
    "            prompt_type=RagQPromptType.V3,\n",
    "            relevant_docs_count=1,\n",
    "            doc_splitter_options=DocSplitterOptions(\n",
    "                doc_splitter_type=DocumentSplitterType.SPACY_SENTENCE_SPLITTER,\n",
    "                add_title=False,\n",
    "                token_count=1\n",
    "            )\n",
    "        ),\n",
    "        VQAStrategyDetail(\n",
    "            country=\"spain\",\n",
    "            file_type=\"english\",\n",
    "            vqa_strategy_type=VQAStrategyType.RAG_Q,\n",
    "            prompt_type=RagQPromptType.V4,\n",
    "            relevant_docs_count=1,\n",
    "            doc_splitter_options=DocSplitterOptions(\n",
    "                doc_splitter_type=DocumentSplitterType.SPACY_SENTENCE_SPLITTER,\n",
    "                add_title=False,\n",
    "                token_count=1\n",
    "            )\n",
    "        ),\n",
    "        VQAStrategyDetail(\n",
    "            country=\"spain\",\n",
    "            file_type=\"english\",\n",
    "            vqa_strategy_type=VQAStrategyType.RAG_Q,\n",
    "            prompt_type=RagQPromptType.V1,\n",
    "            relevant_docs_count=1,\n",
    "            doc_splitter_options=DocSplitterOptions(\n",
    "                doc_splitter_type=DocumentSplitterType.SPACY_SENTENCE_SPLITTER,\n",
    "                add_title=False,\n",
    "                token_count=2\n",
    "            )\n",
    "        ),\n",
    "        VQAStrategyDetail(\n",
    "            country=\"spain\",\n",
    "            file_type=\"english\",\n",
    "            vqa_strategy_type=VQAStrategyType.RAG_Q,\n",
    "            prompt_type=RagQPromptType.V2,\n",
    "            relevant_docs_count=1,\n",
    "            doc_splitter_options=DocSplitterOptions(\n",
    "                doc_splitter_type=DocumentSplitterType.SPACY_SENTENCE_SPLITTER,\n",
    "                add_title=False,\n",
    "                token_count=2\n",
    "            )\n",
    "        ),\n",
    "        VQAStrategyDetail(\n",
    "            country=\"spain\",\n",
    "            file_type=\"english\",\n",
    "            vqa_strategy_type=VQAStrategyType.RAG_Q,\n",
    "            prompt_type=RagQPromptType.V3,\n",
    "            relevant_docs_count=1,\n",
    "            doc_splitter_options=DocSplitterOptions(\n",
    "                doc_splitter_type=DocumentSplitterType.SPACY_SENTENCE_SPLITTER,\n",
    "                add_title=False,\n",
    "                token_count=2\n",
    "            )\n",
    "        ),\n",
    "        VQAStrategyDetail(\n",
    "            country=\"spain\",\n",
    "            file_type=\"english\",\n",
    "            vqa_strategy_type=VQAStrategyType.RAG_Q,\n",
    "            prompt_type=RagQPromptType.V4,\n",
    "            relevant_docs_count=1,\n",
    "            doc_splitter_options=DocSplitterOptions(\n",
    "                doc_splitter_type=DocumentSplitterType.SPACY_SENTENCE_SPLITTER,\n",
    "                add_title=False,\n",
    "                token_count=2\n",
    "            )\n",
    "        ),\n",
    "        VQAStrategyDetail(\n",
    "            country=\"spain\",\n",
    "            file_type=\"english\",\n",
    "            vqa_strategy_type=VQAStrategyType.RAG_Q,\n",
    "            prompt_type=RagQPromptType.V1,\n",
    "            relevant_docs_count=1,\n",
    "            doc_splitter_options=DocSplitterOptions(\n",
    "                doc_splitter_type=DocumentSplitterType.SPACY_SENTENCE_SPLITTER,\n",
    "                add_title=False,\n",
    "                token_count=3\n",
    "            )\n",
    "        ),\n",
    "        VQAStrategyDetail(\n",
    "            country=\"spain\",\n",
    "            file_type=\"english\",\n",
    "            vqa_strategy_type=VQAStrategyType.RAG_Q,\n",
    "            prompt_type=RagQPromptType.V2,\n",
    "            relevant_docs_count=1,\n",
    "            doc_splitter_options=DocSplitterOptions(\n",
    "                doc_splitter_type=DocumentSplitterType.SPACY_SENTENCE_SPLITTER,\n",
    "                add_title=False,\n",
    "                token_count=3\n",
    "            )\n",
    "        ),\n",
    "        VQAStrategyDetail(\n",
    "            country=\"spain\",\n",
    "            file_type=\"english\",\n",
    "            vqa_strategy_type=VQAStrategyType.RAG_Q,\n",
    "            prompt_type=RagQPromptType.V3,\n",
    "            relevant_docs_count=1,\n",
    "            doc_splitter_options=DocSplitterOptions(\n",
    "                doc_splitter_type=DocumentSplitterType.SPACY_SENTENCE_SPLITTER,\n",
    "                add_title=False,\n",
    "                token_count=3\n",
    "            )\n",
    "        ),\n",
    "        VQAStrategyDetail(\n",
    "            country=\"spain\",\n",
    "            file_type=\"english\",\n",
    "            vqa_strategy_type=VQAStrategyType.RAG_Q,\n",
    "            prompt_type=RagQPromptType.V4,\n",
    "            relevant_docs_count=1,\n",
    "            doc_splitter_options=DocSplitterOptions(\n",
    "                doc_splitter_type=DocumentSplitterType.SPACY_SENTENCE_SPLITTER,\n",
    "                add_title=False,\n",
    "                token_count=3\n",
    "            )\n",
    "        ),\n",
    "        VQAStrategyDetail(\n",
    "            country=\"spain\",\n",
    "            file_type=\"english\",\n",
    "            vqa_strategy_type=VQAStrategyType.RAG_Q,\n",
    "            prompt_type=RagQPromptType.V1,\n",
    "            relevant_docs_count=1,\n",
    "            doc_splitter_options=DocSplitterOptions(\n",
    "                doc_splitter_type=DocumentSplitterType.SPACY_SENTENCE_SPLITTER,\n",
    "                add_title=False,\n",
    "                token_count=4\n",
    "            )\n",
    "        ),\n",
    "        VQAStrategyDetail(\n",
    "            country=\"spain\",\n",
    "            file_type=\"english\",\n",
    "            vqa_strategy_type=VQAStrategyType.RAG_Q,\n",
    "            prompt_type=RagQPromptType.V2,\n",
    "            relevant_docs_count=1,\n",
    "            doc_splitter_options=DocSplitterOptions(\n",
    "                doc_splitter_type=DocumentSplitterType.SPACY_SENTENCE_SPLITTER,\n",
    "                add_title=False,\n",
    "                token_count=4\n",
    "            )\n",
    "        ),\n",
    "        VQAStrategyDetail(\n",
    "            country=\"spain\",\n",
    "            file_type=\"english\",\n",
    "            vqa_strategy_type=VQAStrategyType.RAG_Q,\n",
    "            prompt_type=RagQPromptType.V3,\n",
    "            relevant_docs_count=1,\n",
    "            doc_splitter_options=DocSplitterOptions(\n",
    "                doc_splitter_type=DocumentSplitterType.SPACY_SENTENCE_SPLITTER,\n",
    "                add_title=False,\n",
    "                token_count=4\n",
    "            )\n",
    "        ),\n",
    "        VQAStrategyDetail(\n",
    "            country=\"spain\",\n",
    "            file_type=\"english\",\n",
    "            vqa_strategy_type=VQAStrategyType.RAG_Q,\n",
    "            prompt_type=RagQPromptType.V4,\n",
    "            relevant_docs_count=1,\n",
    "            doc_splitter_options=DocSplitterOptions(\n",
    "                doc_splitter_type=DocumentSplitterType.SPACY_SENTENCE_SPLITTER,\n",
    "                add_title=False,\n",
    "                token_count=4\n",
    "            )\n",
    "        ),\n",
    "        VQAStrategyDetail(\n",
    "            country=\"spain\",\n",
    "            file_type=\"english\",\n",
    "            vqa_strategy_type=VQAStrategyType.RAG_Q,\n",
    "            prompt_type=RagQPromptType.V1,\n",
    "            relevant_docs_count=1,\n",
    "            doc_splitter_options=DocSplitterOptions(\n",
    "                doc_splitter_type=DocumentSplitterType.SPACY_SENTENCE_SPLITTER,\n",
    "                add_title=False,\n",
    "                token_count=5\n",
    "            )\n",
    "        ),\n",
    "        VQAStrategyDetail(\n",
    "            country=\"spain\",\n",
    "            file_type=\"english\",\n",
    "            vqa_strategy_type=VQAStrategyType.RAG_Q,\n",
    "            prompt_type=RagQPromptType.V2,\n",
    "            relevant_docs_count=1,\n",
    "            doc_splitter_options=DocSplitterOptions(\n",
    "                doc_splitter_type=DocumentSplitterType.SPACY_SENTENCE_SPLITTER,\n",
    "                add_title=False,\n",
    "                token_count=5\n",
    "            )\n",
    "        ),\n",
    "        VQAStrategyDetail(\n",
    "            country=\"spain\",\n",
    "            file_type=\"english\",\n",
    "            vqa_strategy_type=VQAStrategyType.RAG_Q,\n",
    "            prompt_type=RagQPromptType.V3,\n",
    "            relevant_docs_count=1,\n",
    "            doc_splitter_options=DocSplitterOptions(\n",
    "                doc_splitter_type=DocumentSplitterType.SPACY_SENTENCE_SPLITTER,\n",
    "                add_title=False,\n",
    "                token_count=5\n",
    "            )\n",
    "        ),\n",
    "        VQAStrategyDetail(\n",
    "            country=\"spain\",\n",
    "            file_type=\"english\",\n",
    "            vqa_strategy_type=VQAStrategyType.RAG_Q,\n",
    "            prompt_type=RagQPromptType.V4,\n",
    "            relevant_docs_count=1,\n",
    "            doc_splitter_options=DocSplitterOptions(\n",
    "                doc_splitter_type=DocumentSplitterType.SPACY_SENTENCE_SPLITTER,\n",
    "                add_title=False,\n",
    "                token_count=5\n",
    "            )\n",
    "        ),\n",
    "    ]\n",
    ")\n",
    "evaluation_results = evaluation_results.fillna(\"-\")\n",
    "evaluation_results"
   ]
  },
  {
   "cell_type": "code",
   "execution_count": 16,
   "metadata": {},
   "outputs": [
    {
     "data": {
      "application/vnd.plotly.v1+json": {
       "config": {
        "plotlyServerURL": "https://plot.ly"
       },
       "data": [
        {
         "cliponaxis": false,
         "customdata": [
          [
           "rag_q",
           "rq_v1",
           "spacy_sentence_splitter",
           false,
           1,
           "-",
           "-"
          ],
          [
           "rag_q",
           "rq_v2",
           "spacy_sentence_splitter",
           false,
           1,
           "-",
           "-"
          ],
          [
           "rag_q",
           "rq_v3",
           "spacy_sentence_splitter",
           false,
           1,
           "-",
           "-"
          ],
          [
           "rag_q",
           "rq_v4",
           "spacy_sentence_splitter",
           false,
           1,
           "-",
           "-"
          ],
          [
           "rag_q",
           "rq_v1",
           "spacy_sentence_splitter",
           false,
           2,
           "-",
           "-"
          ],
          [
           "rag_q",
           "rq_v2",
           "spacy_sentence_splitter",
           false,
           2,
           "-",
           "-"
          ],
          [
           "rag_q",
           "rq_v3",
           "spacy_sentence_splitter",
           false,
           2,
           "-",
           "-"
          ],
          [
           "rag_q",
           "rq_v4",
           "spacy_sentence_splitter",
           false,
           2,
           "-",
           "-"
          ],
          [
           "rag_q",
           "rq_v1",
           "spacy_sentence_splitter",
           false,
           3,
           "-",
           "-"
          ],
          [
           "rag_q",
           "rq_v2",
           "spacy_sentence_splitter",
           false,
           3,
           "-",
           "-"
          ],
          [
           "rag_q",
           "rq_v3",
           "spacy_sentence_splitter",
           false,
           3,
           "-",
           "-"
          ],
          [
           "rag_q",
           "rq_v4",
           "spacy_sentence_splitter",
           false,
           3,
           "-",
           "-"
          ],
          [
           "rag_q",
           "rq_v1",
           "spacy_sentence_splitter",
           false,
           4,
           "-",
           "-"
          ],
          [
           "rag_q",
           "rq_v2",
           "spacy_sentence_splitter",
           false,
           4,
           "-",
           "-"
          ],
          [
           "rag_q",
           "rq_v3",
           "spacy_sentence_splitter",
           false,
           4,
           "-",
           "-"
          ],
          [
           "rag_q",
           "rq_v4",
           "spacy_sentence_splitter",
           false,
           4,
           "-",
           "-"
          ],
          [
           "rag_q",
           "rq_v1",
           "spacy_sentence_splitter",
           false,
           5,
           "-",
           "-"
          ],
          [
           "rag_q",
           "rq_v2",
           "spacy_sentence_splitter",
           false,
           5,
           "-",
           "-"
          ],
          [
           "rag_q",
           "rq_v3",
           "spacy_sentence_splitter",
           false,
           5,
           "-",
           "-"
          ],
          [
           "rag_q",
           "rq_v4",
           "spacy_sentence_splitter",
           false,
           5,
           "-",
           "-"
          ]
         ],
         "hovertemplate": "VQA Strategy Type: %{customdata[0]}<br>Prompt Type: %{customdata[1]}<br>Document Splitter: %{customdata[2]}<br>Add Title: %{customdata[3]}<br>Token Count: %{customdata[4]}<br>Chunk Size: %{customdata[5]}<br>Chunk Overlap: %{customdata[6]}<br>",
         "marker": {
          "color": "royalblue",
          "opacity": 0.8
         },
         "name": "Accuracy",
         "text": [
          0.296,
          0.28,
          0.28,
          0.296,
          0.272,
          0.272,
          0.272,
          0.24,
          0.272,
          0.288,
          0.288,
          0.304,
          0.24,
          0.256,
          0.272,
          0.248,
          0.256,
          0.256,
          0.264,
          0.264
         ],
         "textposition": "outside",
         "texttemplate": "%{y:.1%}",
         "type": "bar",
         "width": 0.4,
         "x": [
          0,
          1,
          2,
          3,
          4,
          5,
          6,
          7,
          8,
          9,
          10,
          11,
          12,
          13,
          14,
          15,
          16,
          17,
          18,
          19
         ],
         "y": [
          0.296,
          0.28,
          0.28,
          0.296,
          0.272,
          0.272,
          0.272,
          0.24,
          0.272,
          0.288,
          0.288,
          0.304,
          0.24,
          0.256,
          0.272,
          0.248,
          0.256,
          0.256,
          0.264,
          0.264
         ]
        },
        {
         "cliponaxis": false,
         "customdata": [
          [
           "rag_q",
           "rq_v1",
           "spacy_sentence_splitter",
           false,
           1,
           "-",
           "-"
          ],
          [
           "rag_q",
           "rq_v2",
           "spacy_sentence_splitter",
           false,
           1,
           "-",
           "-"
          ],
          [
           "rag_q",
           "rq_v3",
           "spacy_sentence_splitter",
           false,
           1,
           "-",
           "-"
          ],
          [
           "rag_q",
           "rq_v4",
           "spacy_sentence_splitter",
           false,
           1,
           "-",
           "-"
          ],
          [
           "rag_q",
           "rq_v1",
           "spacy_sentence_splitter",
           false,
           2,
           "-",
           "-"
          ],
          [
           "rag_q",
           "rq_v2",
           "spacy_sentence_splitter",
           false,
           2,
           "-",
           "-"
          ],
          [
           "rag_q",
           "rq_v3",
           "spacy_sentence_splitter",
           false,
           2,
           "-",
           "-"
          ],
          [
           "rag_q",
           "rq_v4",
           "spacy_sentence_splitter",
           false,
           2,
           "-",
           "-"
          ],
          [
           "rag_q",
           "rq_v1",
           "spacy_sentence_splitter",
           false,
           3,
           "-",
           "-"
          ],
          [
           "rag_q",
           "rq_v2",
           "spacy_sentence_splitter",
           false,
           3,
           "-",
           "-"
          ],
          [
           "rag_q",
           "rq_v3",
           "spacy_sentence_splitter",
           false,
           3,
           "-",
           "-"
          ],
          [
           "rag_q",
           "rq_v4",
           "spacy_sentence_splitter",
           false,
           3,
           "-",
           "-"
          ],
          [
           "rag_q",
           "rq_v1",
           "spacy_sentence_splitter",
           false,
           4,
           "-",
           "-"
          ],
          [
           "rag_q",
           "rq_v2",
           "spacy_sentence_splitter",
           false,
           4,
           "-",
           "-"
          ],
          [
           "rag_q",
           "rq_v3",
           "spacy_sentence_splitter",
           false,
           4,
           "-",
           "-"
          ],
          [
           "rag_q",
           "rq_v4",
           "spacy_sentence_splitter",
           false,
           4,
           "-",
           "-"
          ],
          [
           "rag_q",
           "rq_v1",
           "spacy_sentence_splitter",
           false,
           5,
           "-",
           "-"
          ],
          [
           "rag_q",
           "rq_v2",
           "spacy_sentence_splitter",
           false,
           5,
           "-",
           "-"
          ],
          [
           "rag_q",
           "rq_v3",
           "spacy_sentence_splitter",
           false,
           5,
           "-",
           "-"
          ],
          [
           "rag_q",
           "rq_v4",
           "spacy_sentence_splitter",
           false,
           5,
           "-",
           "-"
          ]
         ],
         "hovertemplate": "VQA Strategy Type: %{customdata[0]}<br>Prompt Type: %{customdata[1]}<br>Document Splitter: %{customdata[2]}<br>Add Title: %{customdata[3]}<br>Token Count: %{customdata[4]}<br>Chunk Size: %{customdata[5]}<br>Chunk Overlap: %{customdata[6]}<br>",
         "marker": {
          "color": "darkorange",
          "opacity": 0.8
         },
         "name": "Well-Formatted Answers",
         "text": [
          1,
          1,
          1,
          1,
          1,
          1,
          1,
          1,
          1,
          1,
          1,
          1,
          1,
          1,
          1,
          1,
          1,
          1,
          1,
          1
         ],
         "textposition": "outside",
         "texttemplate": "%{y:.1%}",
         "type": "bar",
         "width": 0.4,
         "x": [
          0,
          1,
          2,
          3,
          4,
          5,
          6,
          7,
          8,
          9,
          10,
          11,
          12,
          13,
          14,
          15,
          16,
          17,
          18,
          19
         ],
         "y": [
          1,
          1,
          1,
          1,
          1,
          1,
          1,
          1,
          1,
          1,
          1,
          1,
          1,
          1,
          1,
          1,
          1,
          1,
          1,
          1
         ]
        }
       ],
       "layout": {
        "barcornerradius": 15,
        "barmode": "group",
        "font": {
         "color": "black",
         "family": "Arial, sans-serif",
         "size": 14
        },
        "height": 500,
        "template": {
         "data": {
          "bar": [
           {
            "error_x": {
             "color": "#2a3f5f"
            },
            "error_y": {
             "color": "#2a3f5f"
            },
            "marker": {
             "line": {
              "color": "#E5ECF6",
              "width": 0.5
             },
             "pattern": {
              "fillmode": "overlay",
              "size": 10,
              "solidity": 0.2
             }
            },
            "type": "bar"
           }
          ],
          "barpolar": [
           {
            "marker": {
             "line": {
              "color": "#E5ECF6",
              "width": 0.5
             },
             "pattern": {
              "fillmode": "overlay",
              "size": 10,
              "solidity": 0.2
             }
            },
            "type": "barpolar"
           }
          ],
          "carpet": [
           {
            "aaxis": {
             "endlinecolor": "#2a3f5f",
             "gridcolor": "white",
             "linecolor": "white",
             "minorgridcolor": "white",
             "startlinecolor": "#2a3f5f"
            },
            "baxis": {
             "endlinecolor": "#2a3f5f",
             "gridcolor": "white",
             "linecolor": "white",
             "minorgridcolor": "white",
             "startlinecolor": "#2a3f5f"
            },
            "type": "carpet"
           }
          ],
          "choropleth": [
           {
            "colorbar": {
             "outlinewidth": 0,
             "ticks": ""
            },
            "type": "choropleth"
           }
          ],
          "contour": [
           {
            "colorbar": {
             "outlinewidth": 0,
             "ticks": ""
            },
            "colorscale": [
             [
              0,
              "#0d0887"
             ],
             [
              0.1111111111111111,
              "#46039f"
             ],
             [
              0.2222222222222222,
              "#7201a8"
             ],
             [
              0.3333333333333333,
              "#9c179e"
             ],
             [
              0.4444444444444444,
              "#bd3786"
             ],
             [
              0.5555555555555556,
              "#d8576b"
             ],
             [
              0.6666666666666666,
              "#ed7953"
             ],
             [
              0.7777777777777778,
              "#fb9f3a"
             ],
             [
              0.8888888888888888,
              "#fdca26"
             ],
             [
              1,
              "#f0f921"
             ]
            ],
            "type": "contour"
           }
          ],
          "contourcarpet": [
           {
            "colorbar": {
             "outlinewidth": 0,
             "ticks": ""
            },
            "type": "contourcarpet"
           }
          ],
          "heatmap": [
           {
            "colorbar": {
             "outlinewidth": 0,
             "ticks": ""
            },
            "colorscale": [
             [
              0,
              "#0d0887"
             ],
             [
              0.1111111111111111,
              "#46039f"
             ],
             [
              0.2222222222222222,
              "#7201a8"
             ],
             [
              0.3333333333333333,
              "#9c179e"
             ],
             [
              0.4444444444444444,
              "#bd3786"
             ],
             [
              0.5555555555555556,
              "#d8576b"
             ],
             [
              0.6666666666666666,
              "#ed7953"
             ],
             [
              0.7777777777777778,
              "#fb9f3a"
             ],
             [
              0.8888888888888888,
              "#fdca26"
             ],
             [
              1,
              "#f0f921"
             ]
            ],
            "type": "heatmap"
           }
          ],
          "heatmapgl": [
           {
            "colorbar": {
             "outlinewidth": 0,
             "ticks": ""
            },
            "colorscale": [
             [
              0,
              "#0d0887"
             ],
             [
              0.1111111111111111,
              "#46039f"
             ],
             [
              0.2222222222222222,
              "#7201a8"
             ],
             [
              0.3333333333333333,
              "#9c179e"
             ],
             [
              0.4444444444444444,
              "#bd3786"
             ],
             [
              0.5555555555555556,
              "#d8576b"
             ],
             [
              0.6666666666666666,
              "#ed7953"
             ],
             [
              0.7777777777777778,
              "#fb9f3a"
             ],
             [
              0.8888888888888888,
              "#fdca26"
             ],
             [
              1,
              "#f0f921"
             ]
            ],
            "type": "heatmapgl"
           }
          ],
          "histogram": [
           {
            "marker": {
             "pattern": {
              "fillmode": "overlay",
              "size": 10,
              "solidity": 0.2
             }
            },
            "type": "histogram"
           }
          ],
          "histogram2d": [
           {
            "colorbar": {
             "outlinewidth": 0,
             "ticks": ""
            },
            "colorscale": [
             [
              0,
              "#0d0887"
             ],
             [
              0.1111111111111111,
              "#46039f"
             ],
             [
              0.2222222222222222,
              "#7201a8"
             ],
             [
              0.3333333333333333,
              "#9c179e"
             ],
             [
              0.4444444444444444,
              "#bd3786"
             ],
             [
              0.5555555555555556,
              "#d8576b"
             ],
             [
              0.6666666666666666,
              "#ed7953"
             ],
             [
              0.7777777777777778,
              "#fb9f3a"
             ],
             [
              0.8888888888888888,
              "#fdca26"
             ],
             [
              1,
              "#f0f921"
             ]
            ],
            "type": "histogram2d"
           }
          ],
          "histogram2dcontour": [
           {
            "colorbar": {
             "outlinewidth": 0,
             "ticks": ""
            },
            "colorscale": [
             [
              0,
              "#0d0887"
             ],
             [
              0.1111111111111111,
              "#46039f"
             ],
             [
              0.2222222222222222,
              "#7201a8"
             ],
             [
              0.3333333333333333,
              "#9c179e"
             ],
             [
              0.4444444444444444,
              "#bd3786"
             ],
             [
              0.5555555555555556,
              "#d8576b"
             ],
             [
              0.6666666666666666,
              "#ed7953"
             ],
             [
              0.7777777777777778,
              "#fb9f3a"
             ],
             [
              0.8888888888888888,
              "#fdca26"
             ],
             [
              1,
              "#f0f921"
             ]
            ],
            "type": "histogram2dcontour"
           }
          ],
          "mesh3d": [
           {
            "colorbar": {
             "outlinewidth": 0,
             "ticks": ""
            },
            "type": "mesh3d"
           }
          ],
          "parcoords": [
           {
            "line": {
             "colorbar": {
              "outlinewidth": 0,
              "ticks": ""
             }
            },
            "type": "parcoords"
           }
          ],
          "pie": [
           {
            "automargin": true,
            "type": "pie"
           }
          ],
          "scatter": [
           {
            "fillpattern": {
             "fillmode": "overlay",
             "size": 10,
             "solidity": 0.2
            },
            "type": "scatter"
           }
          ],
          "scatter3d": [
           {
            "line": {
             "colorbar": {
              "outlinewidth": 0,
              "ticks": ""
             }
            },
            "marker": {
             "colorbar": {
              "outlinewidth": 0,
              "ticks": ""
             }
            },
            "type": "scatter3d"
           }
          ],
          "scattercarpet": [
           {
            "marker": {
             "colorbar": {
              "outlinewidth": 0,
              "ticks": ""
             }
            },
            "type": "scattercarpet"
           }
          ],
          "scattergeo": [
           {
            "marker": {
             "colorbar": {
              "outlinewidth": 0,
              "ticks": ""
             }
            },
            "type": "scattergeo"
           }
          ],
          "scattergl": [
           {
            "marker": {
             "colorbar": {
              "outlinewidth": 0,
              "ticks": ""
             }
            },
            "type": "scattergl"
           }
          ],
          "scattermapbox": [
           {
            "marker": {
             "colorbar": {
              "outlinewidth": 0,
              "ticks": ""
             }
            },
            "type": "scattermapbox"
           }
          ],
          "scatterpolar": [
           {
            "marker": {
             "colorbar": {
              "outlinewidth": 0,
              "ticks": ""
             }
            },
            "type": "scatterpolar"
           }
          ],
          "scatterpolargl": [
           {
            "marker": {
             "colorbar": {
              "outlinewidth": 0,
              "ticks": ""
             }
            },
            "type": "scatterpolargl"
           }
          ],
          "scatterternary": [
           {
            "marker": {
             "colorbar": {
              "outlinewidth": 0,
              "ticks": ""
             }
            },
            "type": "scatterternary"
           }
          ],
          "surface": [
           {
            "colorbar": {
             "outlinewidth": 0,
             "ticks": ""
            },
            "colorscale": [
             [
              0,
              "#0d0887"
             ],
             [
              0.1111111111111111,
              "#46039f"
             ],
             [
              0.2222222222222222,
              "#7201a8"
             ],
             [
              0.3333333333333333,
              "#9c179e"
             ],
             [
              0.4444444444444444,
              "#bd3786"
             ],
             [
              0.5555555555555556,
              "#d8576b"
             ],
             [
              0.6666666666666666,
              "#ed7953"
             ],
             [
              0.7777777777777778,
              "#fb9f3a"
             ],
             [
              0.8888888888888888,
              "#fdca26"
             ],
             [
              1,
              "#f0f921"
             ]
            ],
            "type": "surface"
           }
          ],
          "table": [
           {
            "cells": {
             "fill": {
              "color": "#EBF0F8"
             },
             "line": {
              "color": "white"
             }
            },
            "header": {
             "fill": {
              "color": "#C8D4E3"
             },
             "line": {
              "color": "white"
             }
            },
            "type": "table"
           }
          ]
         },
         "layout": {
          "annotationdefaults": {
           "arrowcolor": "#2a3f5f",
           "arrowhead": 0,
           "arrowwidth": 1
          },
          "autotypenumbers": "strict",
          "coloraxis": {
           "colorbar": {
            "outlinewidth": 0,
            "ticks": ""
           }
          },
          "colorscale": {
           "diverging": [
            [
             0,
             "#8e0152"
            ],
            [
             0.1,
             "#c51b7d"
            ],
            [
             0.2,
             "#de77ae"
            ],
            [
             0.3,
             "#f1b6da"
            ],
            [
             0.4,
             "#fde0ef"
            ],
            [
             0.5,
             "#f7f7f7"
            ],
            [
             0.6,
             "#e6f5d0"
            ],
            [
             0.7,
             "#b8e186"
            ],
            [
             0.8,
             "#7fbc41"
            ],
            [
             0.9,
             "#4d9221"
            ],
            [
             1,
             "#276419"
            ]
           ],
           "sequential": [
            [
             0,
             "#0d0887"
            ],
            [
             0.1111111111111111,
             "#46039f"
            ],
            [
             0.2222222222222222,
             "#7201a8"
            ],
            [
             0.3333333333333333,
             "#9c179e"
            ],
            [
             0.4444444444444444,
             "#bd3786"
            ],
            [
             0.5555555555555556,
             "#d8576b"
            ],
            [
             0.6666666666666666,
             "#ed7953"
            ],
            [
             0.7777777777777778,
             "#fb9f3a"
            ],
            [
             0.8888888888888888,
             "#fdca26"
            ],
            [
             1,
             "#f0f921"
            ]
           ],
           "sequentialminus": [
            [
             0,
             "#0d0887"
            ],
            [
             0.1111111111111111,
             "#46039f"
            ],
            [
             0.2222222222222222,
             "#7201a8"
            ],
            [
             0.3333333333333333,
             "#9c179e"
            ],
            [
             0.4444444444444444,
             "#bd3786"
            ],
            [
             0.5555555555555556,
             "#d8576b"
            ],
            [
             0.6666666666666666,
             "#ed7953"
            ],
            [
             0.7777777777777778,
             "#fb9f3a"
            ],
            [
             0.8888888888888888,
             "#fdca26"
            ],
            [
             1,
             "#f0f921"
            ]
           ]
          },
          "colorway": [
           "#636efa",
           "#EF553B",
           "#00cc96",
           "#ab63fa",
           "#FFA15A",
           "#19d3f3",
           "#FF6692",
           "#B6E880",
           "#FF97FF",
           "#FECB52"
          ],
          "font": {
           "color": "#2a3f5f"
          },
          "geo": {
           "bgcolor": "white",
           "lakecolor": "white",
           "landcolor": "#E5ECF6",
           "showlakes": true,
           "showland": true,
           "subunitcolor": "white"
          },
          "hoverlabel": {
           "align": "left"
          },
          "hovermode": "closest",
          "mapbox": {
           "style": "light"
          },
          "paper_bgcolor": "white",
          "plot_bgcolor": "#E5ECF6",
          "polar": {
           "angularaxis": {
            "gridcolor": "white",
            "linecolor": "white",
            "ticks": ""
           },
           "bgcolor": "#E5ECF6",
           "radialaxis": {
            "gridcolor": "white",
            "linecolor": "white",
            "ticks": ""
           }
          },
          "scene": {
           "xaxis": {
            "backgroundcolor": "#E5ECF6",
            "gridcolor": "white",
            "gridwidth": 2,
            "linecolor": "white",
            "showbackground": true,
            "ticks": "",
            "zerolinecolor": "white"
           },
           "yaxis": {
            "backgroundcolor": "#E5ECF6",
            "gridcolor": "white",
            "gridwidth": 2,
            "linecolor": "white",
            "showbackground": true,
            "ticks": "",
            "zerolinecolor": "white"
           },
           "zaxis": {
            "backgroundcolor": "#E5ECF6",
            "gridcolor": "white",
            "gridwidth": 2,
            "linecolor": "white",
            "showbackground": true,
            "ticks": "",
            "zerolinecolor": "white"
           }
          },
          "shapedefaults": {
           "line": {
            "color": "#2a3f5f"
           }
          },
          "ternary": {
           "aaxis": {
            "gridcolor": "white",
            "linecolor": "white",
            "ticks": ""
           },
           "baxis": {
            "gridcolor": "white",
            "linecolor": "white",
            "ticks": ""
           },
           "bgcolor": "#E5ECF6",
           "caxis": {
            "gridcolor": "white",
            "linecolor": "white",
            "ticks": ""
           }
          },
          "title": {
           "x": 0.05
          },
          "xaxis": {
           "automargin": true,
           "gridcolor": "white",
           "linecolor": "white",
           "ticks": "",
           "title": {
            "standoff": 15
           },
           "zerolinecolor": "white",
           "zerolinewidth": 2
          },
          "yaxis": {
           "automargin": true,
           "gridcolor": "white",
           "linecolor": "white",
           "ticks": "",
           "title": {
            "standoff": 15
           },
           "zerolinecolor": "white",
           "zerolinewidth": 2
          }
         }
        },
        "title": {
         "font": {
          "color": "black",
          "family": "Arial, sans-serif",
          "size": 22
         },
         "text": "Analysis of LLaVA Model Accuracy Across Different RAG Approaches and Parameter Settings (RDC: 1)",
         "x": 0.5,
         "xanchor": "center"
        },
        "xaxis": {
         "title": {
          "text": "Model Evaluations"
         }
        },
        "yaxis": {
         "range": [
          0,
          1.1
         ],
         "ticktext": [
          "0%",
          "10%",
          "20%",
          "30%",
          "40%",
          "50%",
          "60%",
          "70%",
          "80%",
          "90%",
          "100%"
         ],
         "tickvals": [
          0,
          0.1,
          0.2,
          0.3,
          0.4,
          0.5,
          0.6,
          0.7,
          0.8,
          0.9,
          1
         ],
         "title": {
          "text": "Accuracy"
         }
        }
       }
      }
     },
     "metadata": {},
     "output_type": "display_data"
    }
   ],
   "source": [
    "world_med_qa_v_plot_helpers.display_bar_chart_on_evaluation_results(\n",
    "    evaluation_results=evaluation_results,\n",
    "    title=\"Analysis of LLaVA Model Accuracy Across Different RAG Approaches and Parameter Settings (RDC: 1)\"\n",
    ")"
   ]
  },
  {
   "cell_type": "markdown",
   "metadata": {},
   "source": [
    "- Hacer gráficos más pequeños:\n",
    "  + Fijando:\n",
    "    * vqa_strategy: (e.g. `Rag Q`)\n",
    "    * doc_splitter: (e.g. `spacy_sentence_splitter`)\n",
    "    * add_title: (e.g. `False`)\n",
    "  + Cambiando:\n",
    "    * (en cada gráfico): prompt_type: (e.g. [`rq_v1 - rq_v6`])\n",
    "    * (por columna): token_count: (e.g. [`1 - 5`])\n",
    "    * (por fila): relative_docs_count: (e.g. [`1 - 5`]) "
   ]
  },
  {
   "cell_type": "code",
   "execution_count": 16,
   "metadata": {},
   "outputs": [
    {
     "name": "stdout",
     "output_type": "stream",
     "text": [
      "Invalid VQAStrategyDetail: Invalid combination: VQAStrategyType.ZERO_SHOT with RagQPromptType.V1. 'prompt_type' should be of type ZeroShotPromptType. Skipping...\n",
      "Invalid VQAStrategyDetail: Invalid combination: VQAStrategyType.ZERO_SHOT with RagQPromptType.V1. 'prompt_type' should be of type ZeroShotPromptType. Skipping...\n",
      "Invalid VQAStrategyDetail: Invalid combination: VQAStrategyType.ZERO_SHOT with RagQPromptType.V1. 'prompt_type' should be of type ZeroShotPromptType. Skipping...\n",
      "Invalid VQAStrategyDetail: Invalid combination: VQAStrategyType.ZERO_SHOT with RagQPromptType.V1. 'prompt_type' should be of type ZeroShotPromptType. Skipping...\n",
      "Invalid VQAStrategyDetail: Invalid combination: VQAStrategyType.ZERO_SHOT with RagQPromptType.V1. 'prompt_type' should be of type ZeroShotPromptType. Skipping...\n",
      "Invalid VQAStrategyDetail: Invalid combination: VQAStrategyType.ZERO_SHOT with RagQPromptType.V1. 'prompt_type' should be of type ZeroShotPromptType. Skipping...\n",
      "Invalid VQAStrategyDetail: Invalid combination: VQAStrategyType.ZERO_SHOT with RagQPromptType.V1. 'prompt_type' should be of type ZeroShotPromptType. Skipping...\n",
      "Invalid VQAStrategyDetail: Invalid combination: VQAStrategyType.ZERO_SHOT with RagQPromptType.V1. 'prompt_type' should be of type ZeroShotPromptType. Skipping...\n",
      "Invalid VQAStrategyDetail: Invalid combination: VQAStrategyType.ZERO_SHOT with RagQPromptType.V1. 'prompt_type' should be of type ZeroShotPromptType. Skipping...\n",
      "Invalid VQAStrategyDetail: Invalid combination: VQAStrategyType.ZERO_SHOT with RagQPromptType.V1. 'prompt_type' should be of type ZeroShotPromptType. Skipping...\n",
      "Invalid VQAStrategyDetail: Invalid combination: VQAStrategyType.ZERO_SHOT with RagQPromptType.V1. 'prompt_type' should be of type ZeroShotPromptType. Skipping...\n",
      "Invalid VQAStrategyDetail: Invalid combination: VQAStrategyType.ZERO_SHOT with RagQPromptType.V1. 'prompt_type' should be of type ZeroShotPromptType. Skipping...\n",
      "Invalid VQAStrategyDetail: Invalid combination: VQAStrategyType.ZERO_SHOT with RagQPromptType.V1. 'prompt_type' should be of type ZeroShotPromptType. Skipping...\n",
      "Invalid VQAStrategyDetail: Invalid combination: VQAStrategyType.ZERO_SHOT with RagQPromptType.V1. 'prompt_type' should be of type ZeroShotPromptType. Skipping...\n",
      "Invalid VQAStrategyDetail: Invalid combination: VQAStrategyType.ZERO_SHOT with RagQPromptType.V1. 'prompt_type' should be of type ZeroShotPromptType. Skipping...\n",
      "Invalid VQAStrategyDetail: Invalid combination: VQAStrategyType.ZERO_SHOT with RagQPromptType.V1. 'prompt_type' should be of type ZeroShotPromptType. Skipping...\n",
      "Invalid VQAStrategyDetail: Invalid combination: VQAStrategyType.ZERO_SHOT with RagQPromptType.V1. 'prompt_type' should be of type ZeroShotPromptType. Skipping...\n",
      "Invalid VQAStrategyDetail: Invalid combination: VQAStrategyType.ZERO_SHOT with RagQPromptType.V1. 'prompt_type' should be of type ZeroShotPromptType. Skipping...\n",
      "Invalid VQAStrategyDetail: Invalid combination: VQAStrategyType.ZERO_SHOT with RagQPromptType.V1. 'prompt_type' should be of type ZeroShotPromptType. Skipping...\n",
      "Invalid VQAStrategyDetail: Invalid combination: VQAStrategyType.ZERO_SHOT with RagQPromptType.V1. 'prompt_type' should be of type ZeroShotPromptType. Skipping...\n",
      "Invalid VQAStrategyDetail: Invalid combination: VQAStrategyType.ZERO_SHOT with RagQPromptType.V1. 'prompt_type' should be of type ZeroShotPromptType. Skipping...\n",
      "Invalid VQAStrategyDetail: Invalid combination: VQAStrategyType.ZERO_SHOT with RagQPromptType.V1. 'prompt_type' should be of type ZeroShotPromptType. Skipping...\n",
      "Invalid VQAStrategyDetail: Invalid combination: VQAStrategyType.ZERO_SHOT with RagQPromptType.V1. 'prompt_type' should be of type ZeroShotPromptType. Skipping...\n",
      "Invalid VQAStrategyDetail: Invalid combination: VQAStrategyType.ZERO_SHOT with RagQPromptType.V1. 'prompt_type' should be of type ZeroShotPromptType. Skipping...\n",
      "Invalid VQAStrategyDetail: Invalid combination: VQAStrategyType.ZERO_SHOT with RagQPromptType.V1. 'prompt_type' should be of type ZeroShotPromptType. Skipping...\n",
      "Invalid VQAStrategyDetail: Invalid combination: VQAStrategyType.ZERO_SHOT with RagQPromptType.V1. 'prompt_type' should be of type ZeroShotPromptType. Skipping...\n",
      "Invalid VQAStrategyDetail: Invalid combination: VQAStrategyType.ZERO_SHOT with RagQPromptType.V1. 'prompt_type' should be of type ZeroShotPromptType. Skipping...\n",
      "Invalid VQAStrategyDetail: Invalid combination: VQAStrategyType.ZERO_SHOT with RagQPromptType.V1. 'prompt_type' should be of type ZeroShotPromptType. Skipping...\n",
      "Invalid VQAStrategyDetail: Invalid combination: VQAStrategyType.ZERO_SHOT with RagQPromptType.V1. 'prompt_type' should be of type ZeroShotPromptType. Skipping...\n",
      "Invalid VQAStrategyDetail: Invalid combination: VQAStrategyType.ZERO_SHOT with RagQPromptType.V1. 'prompt_type' should be of type ZeroShotPromptType. Skipping...\n",
      "Invalid VQAStrategyDetail: Invalid combination: VQAStrategyType.ZERO_SHOT with RagQPromptType.V1. 'prompt_type' should be of type ZeroShotPromptType. Skipping...\n",
      "Invalid VQAStrategyDetail: Invalid combination: VQAStrategyType.ZERO_SHOT with RagQPromptType.V1. 'prompt_type' should be of type ZeroShotPromptType. Skipping...\n",
      "Invalid VQAStrategyDetail: Invalid combination: VQAStrategyType.ZERO_SHOT with RagQPromptType.V1. 'prompt_type' should be of type ZeroShotPromptType. Skipping...\n",
      "Invalid VQAStrategyDetail: Invalid combination: VQAStrategyType.ZERO_SHOT with RagQPromptType.V1. 'prompt_type' should be of type ZeroShotPromptType. Skipping...\n",
      "Invalid VQAStrategyDetail: Invalid combination: VQAStrategyType.ZERO_SHOT with RagQPromptType.V1. 'prompt_type' should be of type ZeroShotPromptType. Skipping...\n",
      "Invalid VQAStrategyDetail: Invalid combination: VQAStrategyType.ZERO_SHOT with RagQPromptType.V1. 'prompt_type' should be of type ZeroShotPromptType. Skipping...\n",
      "Invalid VQAStrategyDetail: Invalid combination: VQAStrategyType.ZERO_SHOT with RagQPromptType.V1. 'prompt_type' should be of type ZeroShotPromptType. Skipping...\n",
      "Invalid VQAStrategyDetail: Invalid combination: VQAStrategyType.ZERO_SHOT with RagQPromptType.V1. 'prompt_type' should be of type ZeroShotPromptType. Skipping...\n",
      "Invalid VQAStrategyDetail: Invalid combination: VQAStrategyType.ZERO_SHOT with RagQPromptType.V1. 'prompt_type' should be of type ZeroShotPromptType. Skipping...\n",
      "Invalid VQAStrategyDetail: Invalid combination: VQAStrategyType.ZERO_SHOT with RagQPromptType.V1. 'prompt_type' should be of type ZeroShotPromptType. Skipping...\n",
      "Invalid VQAStrategyDetail: Invalid combination: VQAStrategyType.ZERO_SHOT with RagQPromptType.V1. 'prompt_type' should be of type ZeroShotPromptType. Skipping...\n",
      "Invalid VQAStrategyDetail: Invalid combination: VQAStrategyType.ZERO_SHOT with RagQPromptType.V1. 'prompt_type' should be of type ZeroShotPromptType. Skipping...\n",
      "Invalid VQAStrategyDetail: Invalid combination: VQAStrategyType.ZERO_SHOT with RagQPromptType.V1. 'prompt_type' should be of type ZeroShotPromptType. Skipping...\n",
      "Invalid VQAStrategyDetail: Invalid combination: VQAStrategyType.ZERO_SHOT with RagQPromptType.V1. 'prompt_type' should be of type ZeroShotPromptType. Skipping...\n",
      "Invalid VQAStrategyDetail: Invalid combination: VQAStrategyType.ZERO_SHOT with RagQPromptType.V1. 'prompt_type' should be of type ZeroShotPromptType. Skipping...\n",
      "Invalid VQAStrategyDetail: Invalid combination: VQAStrategyType.ZERO_SHOT with RagQPromptType.V1. 'prompt_type' should be of type ZeroShotPromptType. Skipping...\n",
      "Invalid VQAStrategyDetail: Invalid combination: VQAStrategyType.ZERO_SHOT with RagQPromptType.V1. 'prompt_type' should be of type ZeroShotPromptType. Skipping...\n",
      "Invalid VQAStrategyDetail: Invalid combination: VQAStrategyType.ZERO_SHOT with RagQPromptType.V1. 'prompt_type' should be of type ZeroShotPromptType. Skipping...\n",
      "Invalid VQAStrategyDetail: Invalid combination: VQAStrategyType.ZERO_SHOT with RagQPromptType.V1. 'prompt_type' should be of type ZeroShotPromptType. Skipping...\n",
      "Invalid VQAStrategyDetail: Invalid combination: VQAStrategyType.ZERO_SHOT with RagQPromptType.V1. 'prompt_type' should be of type ZeroShotPromptType. Skipping...\n",
      "Invalid VQAStrategyDetail: Invalid combination: VQAStrategyType.ZERO_SHOT with RagQPromptType.V1. 'prompt_type' should be of type ZeroShotPromptType. Skipping...\n",
      "Invalid VQAStrategyDetail: Invalid combination: VQAStrategyType.ZERO_SHOT with RagQPromptType.V1. 'prompt_type' should be of type ZeroShotPromptType. Skipping...\n",
      "Invalid VQAStrategyDetail: Invalid combination: VQAStrategyType.ZERO_SHOT with RagQPromptType.V1. 'prompt_type' should be of type ZeroShotPromptType. Skipping...\n",
      "Invalid VQAStrategyDetail: Invalid combination: VQAStrategyType.ZERO_SHOT with RagQPromptType.V1. 'prompt_type' should be of type ZeroShotPromptType. Skipping...\n",
      "Invalid VQAStrategyDetail: Invalid combination: VQAStrategyType.ZERO_SHOT with RagQPromptType.V1. 'prompt_type' should be of type ZeroShotPromptType. Skipping...\n",
      "Invalid VQAStrategyDetail: Invalid combination: VQAStrategyType.ZERO_SHOT with RagQPromptType.V1. 'prompt_type' should be of type ZeroShotPromptType. Skipping...\n",
      "Invalid VQAStrategyDetail: Invalid combination: VQAStrategyType.ZERO_SHOT with RagQPromptType.V1. 'prompt_type' should be of type ZeroShotPromptType. Skipping...\n",
      "Invalid VQAStrategyDetail: Invalid combination: VQAStrategyType.ZERO_SHOT with RagQPromptType.V1. 'prompt_type' should be of type ZeroShotPromptType. Skipping...\n",
      "Invalid VQAStrategyDetail: Invalid combination: VQAStrategyType.ZERO_SHOT with RagQPromptType.V1. 'prompt_type' should be of type ZeroShotPromptType. Skipping...\n",
      "Invalid VQAStrategyDetail: Invalid combination: VQAStrategyType.ZERO_SHOT with RagQPromptType.V1. 'prompt_type' should be of type ZeroShotPromptType. Skipping...\n",
      "Invalid VQAStrategyDetail: Invalid combination: VQAStrategyType.ZERO_SHOT with RagQPromptType.V1. 'prompt_type' should be of type ZeroShotPromptType. Skipping...\n",
      "Invalid VQAStrategyDetail: Invalid combination: VQAStrategyType.ZERO_SHOT with RagQPromptType.V1. 'prompt_type' should be of type ZeroShotPromptType. Skipping...\n",
      "Invalid VQAStrategyDetail: Invalid combination: VQAStrategyType.ZERO_SHOT with RagQPromptType.V1. 'prompt_type' should be of type ZeroShotPromptType. Skipping...\n",
      "Invalid VQAStrategyDetail: Invalid combination: VQAStrategyType.ZERO_SHOT with RagQPromptType.V1. 'prompt_type' should be of type ZeroShotPromptType. Skipping...\n",
      "Invalid VQAStrategyDetail: Invalid combination: VQAStrategyType.ZERO_SHOT with RagQPromptType.V1. 'prompt_type' should be of type ZeroShotPromptType. Skipping...\n",
      "Invalid VQAStrategyDetail: Invalid combination: VQAStrategyType.ZERO_SHOT with RagQPromptType.V1. 'prompt_type' should be of type ZeroShotPromptType. Skipping...\n",
      "Invalid VQAStrategyDetail: Invalid combination: VQAStrategyType.ZERO_SHOT with RagQPromptType.V1. 'prompt_type' should be of type ZeroShotPromptType. Skipping...\n",
      "Invalid VQAStrategyDetail: Invalid combination: VQAStrategyType.ZERO_SHOT with RagQPromptType.V1. 'prompt_type' should be of type ZeroShotPromptType. Skipping...\n",
      "Invalid VQAStrategyDetail: Invalid combination: VQAStrategyType.ZERO_SHOT with RagQPromptType.V1. 'prompt_type' should be of type ZeroShotPromptType. Skipping...\n",
      "Invalid VQAStrategyDetail: Invalid combination: VQAStrategyType.ZERO_SHOT with RagQPromptType.V1. 'prompt_type' should be of type ZeroShotPromptType. Skipping...\n",
      "Invalid VQAStrategyDetail: Invalid combination: VQAStrategyType.ZERO_SHOT with RagQPromptType.V1. 'prompt_type' should be of type ZeroShotPromptType. Skipping...\n",
      "Invalid VQAStrategyDetail: Invalid combination: VQAStrategyType.ZERO_SHOT with RagQPromptType.V1. 'prompt_type' should be of type ZeroShotPromptType. Skipping...\n",
      "Invalid VQAStrategyDetail: Invalid combination: VQAStrategyType.ZERO_SHOT with RagQPromptType.V1. 'prompt_type' should be of type ZeroShotPromptType. Skipping...\n",
      "Invalid VQAStrategyDetail: Invalid combination: VQAStrategyType.ZERO_SHOT with RagQPromptType.V1. 'prompt_type' should be of type ZeroShotPromptType. Skipping...\n",
      "Invalid VQAStrategyDetail: Invalid combination: VQAStrategyType.ZERO_SHOT with RagQPromptType.V1. 'prompt_type' should be of type ZeroShotPromptType. Skipping...\n",
      "Invalid VQAStrategyDetail: Invalid combination: VQAStrategyType.ZERO_SHOT with RagQPromptType.V1. 'prompt_type' should be of type ZeroShotPromptType. Skipping...\n",
      "Invalid VQAStrategyDetail: Invalid combination: VQAStrategyType.ZERO_SHOT with RagQPromptType.V1. 'prompt_type' should be of type ZeroShotPromptType. Skipping...\n",
      "Invalid VQAStrategyDetail: Invalid combination: VQAStrategyType.ZERO_SHOT with RagQPromptType.V1. 'prompt_type' should be of type ZeroShotPromptType. Skipping...\n",
      "Invalid VQAStrategyDetail: Invalid combination: VQAStrategyType.ZERO_SHOT with RagQPromptType.V1. 'prompt_type' should be of type ZeroShotPromptType. Skipping...\n",
      "Invalid VQAStrategyDetail: Invalid combination: VQAStrategyType.ZERO_SHOT with RagQPromptType.V1. 'prompt_type' should be of type ZeroShotPromptType. Skipping...\n",
      "Invalid VQAStrategyDetail: Invalid combination: VQAStrategyType.ZERO_SHOT with RagQPromptType.V1. 'prompt_type' should be of type ZeroShotPromptType. Skipping...\n",
      "Invalid VQAStrategyDetail: Invalid combination: VQAStrategyType.ZERO_SHOT with RagQPromptType.V1. 'prompt_type' should be of type ZeroShotPromptType. Skipping...\n",
      "Invalid VQAStrategyDetail: Invalid combination: VQAStrategyType.ZERO_SHOT with RagQPromptType.V1. 'prompt_type' should be of type ZeroShotPromptType. Skipping...\n",
      "Invalid VQAStrategyDetail: Invalid combination: VQAStrategyType.ZERO_SHOT with RagQPromptType.V1. 'prompt_type' should be of type ZeroShotPromptType. Skipping...\n",
      "Invalid VQAStrategyDetail: Invalid combination: VQAStrategyType.ZERO_SHOT with RagQPromptType.V1. 'prompt_type' should be of type ZeroShotPromptType. Skipping...\n",
      "Invalid VQAStrategyDetail: Invalid combination: VQAStrategyType.ZERO_SHOT with RagQPromptType.V1. 'prompt_type' should be of type ZeroShotPromptType. Skipping...\n",
      "Invalid VQAStrategyDetail: Invalid combination: VQAStrategyType.ZERO_SHOT with RagQPromptType.V1. 'prompt_type' should be of type ZeroShotPromptType. Skipping...\n",
      "Invalid VQAStrategyDetail: Invalid combination: VQAStrategyType.ZERO_SHOT with RagQPromptType.V1. 'prompt_type' should be of type ZeroShotPromptType. Skipping...\n",
      "Invalid VQAStrategyDetail: Invalid combination: VQAStrategyType.ZERO_SHOT with RagQPromptType.V1. 'prompt_type' should be of type ZeroShotPromptType. Skipping...\n",
      "Invalid VQAStrategyDetail: Invalid combination: VQAStrategyType.ZERO_SHOT with RagQPromptType.V1. 'prompt_type' should be of type ZeroShotPromptType. Skipping...\n",
      "Invalid VQAStrategyDetail: Invalid combination: VQAStrategyType.ZERO_SHOT with RagQPromptType.V1. 'prompt_type' should be of type ZeroShotPromptType. Skipping...\n",
      "Invalid VQAStrategyDetail: Invalid combination: VQAStrategyType.ZERO_SHOT with RagQPromptType.V1. 'prompt_type' should be of type ZeroShotPromptType. Skipping...\n",
      "Invalid VQAStrategyDetail: Invalid combination: VQAStrategyType.ZERO_SHOT with RagQPromptType.V1. 'prompt_type' should be of type ZeroShotPromptType. Skipping...\n",
      "Invalid VQAStrategyDetail: Invalid combination: VQAStrategyType.ZERO_SHOT with RagQPromptType.V1. 'prompt_type' should be of type ZeroShotPromptType. Skipping...\n",
      "Invalid VQAStrategyDetail: Invalid combination: VQAStrategyType.ZERO_SHOT with RagQPromptType.V1. 'prompt_type' should be of type ZeroShotPromptType. Skipping...\n",
      "Invalid VQAStrategyDetail: Invalid combination: VQAStrategyType.ZERO_SHOT with RagQPromptType.V1. 'prompt_type' should be of type ZeroShotPromptType. Skipping...\n",
      "Invalid VQAStrategyDetail: Invalid combination: VQAStrategyType.ZERO_SHOT with RagQPromptType.V1. 'prompt_type' should be of type ZeroShotPromptType. Skipping...\n",
      "Invalid VQAStrategyDetail: Invalid combination: VQAStrategyType.ZERO_SHOT with RagQPromptType.V1. 'prompt_type' should be of type ZeroShotPromptType. Skipping...\n",
      "Invalid VQAStrategyDetail: Invalid combination: VQAStrategyType.ZERO_SHOT with RagQPromptType.V1. 'prompt_type' should be of type ZeroShotPromptType. Skipping...\n",
      "Invalid VQAStrategyDetail: Invalid combination: VQAStrategyType.ZERO_SHOT with RagQPromptType.V1. 'prompt_type' should be of type ZeroShotPromptType. Skipping...\n",
      "Invalid VQAStrategyDetail: Invalid combination: VQAStrategyType.ZERO_SHOT with RagQPromptType.V1. 'prompt_type' should be of type ZeroShotPromptType. Skipping...\n",
      "Invalid VQAStrategyDetail: Invalid combination: VQAStrategyType.ZERO_SHOT with RagQPromptType.V1. 'prompt_type' should be of type ZeroShotPromptType. Skipping...\n",
      "Invalid VQAStrategyDetail: Invalid combination: VQAStrategyType.ZERO_SHOT with RagQPromptType.V1. 'prompt_type' should be of type ZeroShotPromptType. Skipping...\n",
      "Invalid VQAStrategyDetail: Invalid combination: VQAStrategyType.ZERO_SHOT with RagQPromptType.V1. 'prompt_type' should be of type ZeroShotPromptType. Skipping...\n",
      "Invalid VQAStrategyDetail: Invalid combination: VQAStrategyType.ZERO_SHOT with RagQPromptType.V1. 'prompt_type' should be of type ZeroShotPromptType. Skipping...\n",
      "Invalid VQAStrategyDetail: Invalid combination: VQAStrategyType.ZERO_SHOT with RagQPromptType.V1. 'prompt_type' should be of type ZeroShotPromptType. Skipping...\n",
      "Invalid VQAStrategyDetail: Invalid combination: VQAStrategyType.ZERO_SHOT with RagQPromptType.V1. 'prompt_type' should be of type ZeroShotPromptType. Skipping...\n",
      "Invalid VQAStrategyDetail: Invalid combination: VQAStrategyType.ZERO_SHOT with RagQPromptType.V1. 'prompt_type' should be of type ZeroShotPromptType. Skipping...\n",
      "Invalid VQAStrategyDetail: Invalid combination: VQAStrategyType.ZERO_SHOT with RagQPromptType.V1. 'prompt_type' should be of type ZeroShotPromptType. Skipping...\n",
      "Invalid VQAStrategyDetail: Invalid combination: VQAStrategyType.ZERO_SHOT with RagQPromptType.V1. 'prompt_type' should be of type ZeroShotPromptType. Skipping...\n",
      "Invalid VQAStrategyDetail: Invalid combination: VQAStrategyType.ZERO_SHOT with RagQPromptType.V1. 'prompt_type' should be of type ZeroShotPromptType. Skipping...\n",
      "Invalid VQAStrategyDetail: Invalid combination: VQAStrategyType.ZERO_SHOT with RagQPromptType.V1. 'prompt_type' should be of type ZeroShotPromptType. Skipping...\n",
      "Invalid VQAStrategyDetail: Invalid combination: VQAStrategyType.ZERO_SHOT with RagQPromptType.V2. 'prompt_type' should be of type ZeroShotPromptType. Skipping...\n",
      "Invalid VQAStrategyDetail: Invalid combination: VQAStrategyType.ZERO_SHOT with RagQPromptType.V2. 'prompt_type' should be of type ZeroShotPromptType. Skipping...\n",
      "Invalid VQAStrategyDetail: Invalid combination: VQAStrategyType.ZERO_SHOT with RagQPromptType.V2. 'prompt_type' should be of type ZeroShotPromptType. Skipping...\n",
      "Invalid VQAStrategyDetail: Invalid combination: VQAStrategyType.ZERO_SHOT with RagQPromptType.V2. 'prompt_type' should be of type ZeroShotPromptType. Skipping...\n",
      "Invalid VQAStrategyDetail: Invalid combination: VQAStrategyType.ZERO_SHOT with RagQPromptType.V2. 'prompt_type' should be of type ZeroShotPromptType. Skipping...\n",
      "Invalid VQAStrategyDetail: Invalid combination: VQAStrategyType.ZERO_SHOT with RagQPromptType.V2. 'prompt_type' should be of type ZeroShotPromptType. Skipping...\n",
      "Invalid VQAStrategyDetail: Invalid combination: VQAStrategyType.ZERO_SHOT with RagQPromptType.V2. 'prompt_type' should be of type ZeroShotPromptType. Skipping...\n",
      "Invalid VQAStrategyDetail: Invalid combination: VQAStrategyType.ZERO_SHOT with RagQPromptType.V2. 'prompt_type' should be of type ZeroShotPromptType. Skipping...\n",
      "Invalid VQAStrategyDetail: Invalid combination: VQAStrategyType.ZERO_SHOT with RagQPromptType.V2. 'prompt_type' should be of type ZeroShotPromptType. Skipping...\n",
      "Invalid VQAStrategyDetail: Invalid combination: VQAStrategyType.ZERO_SHOT with RagQPromptType.V2. 'prompt_type' should be of type ZeroShotPromptType. Skipping...\n",
      "Invalid VQAStrategyDetail: Invalid combination: VQAStrategyType.ZERO_SHOT with RagQPromptType.V2. 'prompt_type' should be of type ZeroShotPromptType. Skipping...\n",
      "Invalid VQAStrategyDetail: Invalid combination: VQAStrategyType.ZERO_SHOT with RagQPromptType.V2. 'prompt_type' should be of type ZeroShotPromptType. Skipping...\n",
      "Invalid VQAStrategyDetail: Invalid combination: VQAStrategyType.ZERO_SHOT with RagQPromptType.V2. 'prompt_type' should be of type ZeroShotPromptType. Skipping...\n",
      "Invalid VQAStrategyDetail: Invalid combination: VQAStrategyType.ZERO_SHOT with RagQPromptType.V2. 'prompt_type' should be of type ZeroShotPromptType. Skipping...\n",
      "Invalid VQAStrategyDetail: Invalid combination: VQAStrategyType.ZERO_SHOT with RagQPromptType.V2. 'prompt_type' should be of type ZeroShotPromptType. Skipping...\n",
      "Invalid VQAStrategyDetail: Invalid combination: VQAStrategyType.ZERO_SHOT with RagQPromptType.V2. 'prompt_type' should be of type ZeroShotPromptType. Skipping...\n",
      "Invalid VQAStrategyDetail: Invalid combination: VQAStrategyType.ZERO_SHOT with RagQPromptType.V2. 'prompt_type' should be of type ZeroShotPromptType. Skipping...\n",
      "Invalid VQAStrategyDetail: Invalid combination: VQAStrategyType.ZERO_SHOT with RagQPromptType.V2. 'prompt_type' should be of type ZeroShotPromptType. Skipping...\n",
      "Invalid VQAStrategyDetail: Invalid combination: VQAStrategyType.ZERO_SHOT with RagQPromptType.V2. 'prompt_type' should be of type ZeroShotPromptType. Skipping...\n",
      "Invalid VQAStrategyDetail: Invalid combination: VQAStrategyType.ZERO_SHOT with RagQPromptType.V2. 'prompt_type' should be of type ZeroShotPromptType. Skipping...\n",
      "Invalid VQAStrategyDetail: Invalid combination: VQAStrategyType.ZERO_SHOT with RagQPromptType.V2. 'prompt_type' should be of type ZeroShotPromptType. Skipping...\n",
      "Invalid VQAStrategyDetail: Invalid combination: VQAStrategyType.ZERO_SHOT with RagQPromptType.V2. 'prompt_type' should be of type ZeroShotPromptType. Skipping...\n",
      "Invalid VQAStrategyDetail: Invalid combination: VQAStrategyType.ZERO_SHOT with RagQPromptType.V2. 'prompt_type' should be of type ZeroShotPromptType. Skipping...\n",
      "Invalid VQAStrategyDetail: Invalid combination: VQAStrategyType.ZERO_SHOT with RagQPromptType.V2. 'prompt_type' should be of type ZeroShotPromptType. Skipping...\n",
      "Invalid VQAStrategyDetail: Invalid combination: VQAStrategyType.ZERO_SHOT with RagQPromptType.V2. 'prompt_type' should be of type ZeroShotPromptType. Skipping...\n",
      "Invalid VQAStrategyDetail: Invalid combination: VQAStrategyType.ZERO_SHOT with RagQPromptType.V2. 'prompt_type' should be of type ZeroShotPromptType. Skipping...\n",
      "Invalid VQAStrategyDetail: Invalid combination: VQAStrategyType.ZERO_SHOT with RagQPromptType.V2. 'prompt_type' should be of type ZeroShotPromptType. Skipping...\n",
      "Invalid VQAStrategyDetail: Invalid combination: VQAStrategyType.ZERO_SHOT with RagQPromptType.V2. 'prompt_type' should be of type ZeroShotPromptType. Skipping...\n",
      "Invalid VQAStrategyDetail: Invalid combination: VQAStrategyType.ZERO_SHOT with RagQPromptType.V2. 'prompt_type' should be of type ZeroShotPromptType. Skipping...\n",
      "Invalid VQAStrategyDetail: Invalid combination: VQAStrategyType.ZERO_SHOT with RagQPromptType.V2. 'prompt_type' should be of type ZeroShotPromptType. Skipping...\n",
      "Invalid VQAStrategyDetail: Invalid combination: VQAStrategyType.ZERO_SHOT with RagQPromptType.V2. 'prompt_type' should be of type ZeroShotPromptType. Skipping...\n",
      "Invalid VQAStrategyDetail: Invalid combination: VQAStrategyType.ZERO_SHOT with RagQPromptType.V2. 'prompt_type' should be of type ZeroShotPromptType. Skipping...\n",
      "Invalid VQAStrategyDetail: Invalid combination: VQAStrategyType.ZERO_SHOT with RagQPromptType.V2. 'prompt_type' should be of type ZeroShotPromptType. Skipping...\n",
      "Invalid VQAStrategyDetail: Invalid combination: VQAStrategyType.ZERO_SHOT with RagQPromptType.V2. 'prompt_type' should be of type ZeroShotPromptType. Skipping...\n",
      "Invalid VQAStrategyDetail: Invalid combination: VQAStrategyType.ZERO_SHOT with RagQPromptType.V2. 'prompt_type' should be of type ZeroShotPromptType. Skipping...\n",
      "Invalid VQAStrategyDetail: Invalid combination: VQAStrategyType.ZERO_SHOT with RagQPromptType.V2. 'prompt_type' should be of type ZeroShotPromptType. Skipping...\n",
      "Invalid VQAStrategyDetail: Invalid combination: VQAStrategyType.ZERO_SHOT with RagQPromptType.V2. 'prompt_type' should be of type ZeroShotPromptType. Skipping...\n",
      "Invalid VQAStrategyDetail: Invalid combination: VQAStrategyType.ZERO_SHOT with RagQPromptType.V2. 'prompt_type' should be of type ZeroShotPromptType. Skipping...\n",
      "Invalid VQAStrategyDetail: Invalid combination: VQAStrategyType.ZERO_SHOT with RagQPromptType.V2. 'prompt_type' should be of type ZeroShotPromptType. Skipping...\n",
      "Invalid VQAStrategyDetail: Invalid combination: VQAStrategyType.ZERO_SHOT with RagQPromptType.V2. 'prompt_type' should be of type ZeroShotPromptType. Skipping...\n",
      "Invalid VQAStrategyDetail: Invalid combination: VQAStrategyType.ZERO_SHOT with RagQPromptType.V2. 'prompt_type' should be of type ZeroShotPromptType. Skipping...\n",
      "Invalid VQAStrategyDetail: Invalid combination: VQAStrategyType.ZERO_SHOT with RagQPromptType.V2. 'prompt_type' should be of type ZeroShotPromptType. Skipping...\n",
      "Invalid VQAStrategyDetail: Invalid combination: VQAStrategyType.ZERO_SHOT with RagQPromptType.V2. 'prompt_type' should be of type ZeroShotPromptType. Skipping...\n",
      "Invalid VQAStrategyDetail: Invalid combination: VQAStrategyType.ZERO_SHOT with RagQPromptType.V2. 'prompt_type' should be of type ZeroShotPromptType. Skipping...\n",
      "Invalid VQAStrategyDetail: Invalid combination: VQAStrategyType.ZERO_SHOT with RagQPromptType.V2. 'prompt_type' should be of type ZeroShotPromptType. Skipping...\n",
      "Invalid VQAStrategyDetail: Invalid combination: VQAStrategyType.ZERO_SHOT with RagQPromptType.V2. 'prompt_type' should be of type ZeroShotPromptType. Skipping...\n",
      "Invalid VQAStrategyDetail: Invalid combination: VQAStrategyType.ZERO_SHOT with RagQPromptType.V2. 'prompt_type' should be of type ZeroShotPromptType. Skipping...\n",
      "Invalid VQAStrategyDetail: Invalid combination: VQAStrategyType.ZERO_SHOT with RagQPromptType.V2. 'prompt_type' should be of type ZeroShotPromptType. Skipping...\n",
      "Invalid VQAStrategyDetail: Invalid combination: VQAStrategyType.ZERO_SHOT with RagQPromptType.V2. 'prompt_type' should be of type ZeroShotPromptType. Skipping...\n",
      "Invalid VQAStrategyDetail: Invalid combination: VQAStrategyType.ZERO_SHOT with RagQPromptType.V2. 'prompt_type' should be of type ZeroShotPromptType. Skipping...\n",
      "Invalid VQAStrategyDetail: Invalid combination: VQAStrategyType.ZERO_SHOT with RagQPromptType.V2. 'prompt_type' should be of type ZeroShotPromptType. Skipping...\n",
      "Invalid VQAStrategyDetail: Invalid combination: VQAStrategyType.ZERO_SHOT with RagQPromptType.V2. 'prompt_type' should be of type ZeroShotPromptType. Skipping...\n",
      "Invalid VQAStrategyDetail: Invalid combination: VQAStrategyType.ZERO_SHOT with RagQPromptType.V2. 'prompt_type' should be of type ZeroShotPromptType. Skipping...\n",
      "Invalid VQAStrategyDetail: Invalid combination: VQAStrategyType.ZERO_SHOT with RagQPromptType.V2. 'prompt_type' should be of type ZeroShotPromptType. Skipping...\n",
      "Invalid VQAStrategyDetail: Invalid combination: VQAStrategyType.ZERO_SHOT with RagQPromptType.V2. 'prompt_type' should be of type ZeroShotPromptType. Skipping...\n",
      "Invalid VQAStrategyDetail: Invalid combination: VQAStrategyType.ZERO_SHOT with RagQPromptType.V2. 'prompt_type' should be of type ZeroShotPromptType. Skipping...\n",
      "Invalid VQAStrategyDetail: Invalid combination: VQAStrategyType.ZERO_SHOT with RagQPromptType.V2. 'prompt_type' should be of type ZeroShotPromptType. Skipping...\n",
      "Invalid VQAStrategyDetail: Invalid combination: VQAStrategyType.ZERO_SHOT with RagQPromptType.V2. 'prompt_type' should be of type ZeroShotPromptType. Skipping...\n",
      "Invalid VQAStrategyDetail: Invalid combination: VQAStrategyType.ZERO_SHOT with RagQPromptType.V2. 'prompt_type' should be of type ZeroShotPromptType. Skipping...\n",
      "Invalid VQAStrategyDetail: Invalid combination: VQAStrategyType.ZERO_SHOT with RagQPromptType.V2. 'prompt_type' should be of type ZeroShotPromptType. Skipping...\n",
      "Invalid VQAStrategyDetail: Invalid combination: VQAStrategyType.ZERO_SHOT with RagQPromptType.V2. 'prompt_type' should be of type ZeroShotPromptType. Skipping...\n",
      "Invalid VQAStrategyDetail: Invalid combination: VQAStrategyType.ZERO_SHOT with RagQPromptType.V2. 'prompt_type' should be of type ZeroShotPromptType. Skipping...\n",
      "Invalid VQAStrategyDetail: Invalid combination: VQAStrategyType.ZERO_SHOT with RagQPromptType.V2. 'prompt_type' should be of type ZeroShotPromptType. Skipping...\n",
      "Invalid VQAStrategyDetail: Invalid combination: VQAStrategyType.ZERO_SHOT with RagQPromptType.V2. 'prompt_type' should be of type ZeroShotPromptType. Skipping...\n",
      "Invalid VQAStrategyDetail: Invalid combination: VQAStrategyType.ZERO_SHOT with RagQPromptType.V2. 'prompt_type' should be of type ZeroShotPromptType. Skipping...\n",
      "Invalid VQAStrategyDetail: Invalid combination: VQAStrategyType.ZERO_SHOT with RagQPromptType.V2. 'prompt_type' should be of type ZeroShotPromptType. Skipping...\n",
      "Invalid VQAStrategyDetail: Invalid combination: VQAStrategyType.ZERO_SHOT with RagQPromptType.V2. 'prompt_type' should be of type ZeroShotPromptType. Skipping...\n",
      "Invalid VQAStrategyDetail: Invalid combination: VQAStrategyType.ZERO_SHOT with RagQPromptType.V2. 'prompt_type' should be of type ZeroShotPromptType. Skipping...\n",
      "Invalid VQAStrategyDetail: Invalid combination: VQAStrategyType.ZERO_SHOT with RagQPromptType.V2. 'prompt_type' should be of type ZeroShotPromptType. Skipping...\n",
      "Invalid VQAStrategyDetail: Invalid combination: VQAStrategyType.ZERO_SHOT with RagQPromptType.V2. 'prompt_type' should be of type ZeroShotPromptType. Skipping...\n",
      "Invalid VQAStrategyDetail: Invalid combination: VQAStrategyType.ZERO_SHOT with RagQPromptType.V2. 'prompt_type' should be of type ZeroShotPromptType. Skipping...\n",
      "Invalid VQAStrategyDetail: Invalid combination: VQAStrategyType.ZERO_SHOT with RagQPromptType.V2. 'prompt_type' should be of type ZeroShotPromptType. Skipping...\n",
      "Invalid VQAStrategyDetail: Invalid combination: VQAStrategyType.ZERO_SHOT with RagQPromptType.V2. 'prompt_type' should be of type ZeroShotPromptType. Skipping...\n",
      "Invalid VQAStrategyDetail: Invalid combination: VQAStrategyType.ZERO_SHOT with RagQPromptType.V2. 'prompt_type' should be of type ZeroShotPromptType. Skipping...\n",
      "Invalid VQAStrategyDetail: Invalid combination: VQAStrategyType.ZERO_SHOT with RagQPromptType.V2. 'prompt_type' should be of type ZeroShotPromptType. Skipping...\n",
      "Invalid VQAStrategyDetail: Invalid combination: VQAStrategyType.ZERO_SHOT with RagQPromptType.V2. 'prompt_type' should be of type ZeroShotPromptType. Skipping...\n",
      "Invalid VQAStrategyDetail: Invalid combination: VQAStrategyType.ZERO_SHOT with RagQPromptType.V2. 'prompt_type' should be of type ZeroShotPromptType. Skipping...\n",
      "Invalid VQAStrategyDetail: Invalid combination: VQAStrategyType.ZERO_SHOT with RagQPromptType.V2. 'prompt_type' should be of type ZeroShotPromptType. Skipping...\n",
      "Invalid VQAStrategyDetail: Invalid combination: VQAStrategyType.ZERO_SHOT with RagQPromptType.V2. 'prompt_type' should be of type ZeroShotPromptType. Skipping...\n",
      "Invalid VQAStrategyDetail: Invalid combination: VQAStrategyType.ZERO_SHOT with RagQPromptType.V2. 'prompt_type' should be of type ZeroShotPromptType. Skipping...\n",
      "Invalid VQAStrategyDetail: Invalid combination: VQAStrategyType.ZERO_SHOT with RagQPromptType.V2. 'prompt_type' should be of type ZeroShotPromptType. Skipping...\n",
      "Invalid VQAStrategyDetail: Invalid combination: VQAStrategyType.ZERO_SHOT with RagQPromptType.V2. 'prompt_type' should be of type ZeroShotPromptType. Skipping...\n",
      "Invalid VQAStrategyDetail: Invalid combination: VQAStrategyType.ZERO_SHOT with RagQPromptType.V2. 'prompt_type' should be of type ZeroShotPromptType. Skipping...\n",
      "Invalid VQAStrategyDetail: Invalid combination: VQAStrategyType.ZERO_SHOT with RagQPromptType.V2. 'prompt_type' should be of type ZeroShotPromptType. Skipping...\n",
      "Invalid VQAStrategyDetail: Invalid combination: VQAStrategyType.ZERO_SHOT with RagQPromptType.V2. 'prompt_type' should be of type ZeroShotPromptType. Skipping...\n",
      "Invalid VQAStrategyDetail: Invalid combination: VQAStrategyType.ZERO_SHOT with RagQPromptType.V2. 'prompt_type' should be of type ZeroShotPromptType. Skipping...\n",
      "Invalid VQAStrategyDetail: Invalid combination: VQAStrategyType.ZERO_SHOT with RagQPromptType.V2. 'prompt_type' should be of type ZeroShotPromptType. Skipping...\n",
      "Invalid VQAStrategyDetail: Invalid combination: VQAStrategyType.ZERO_SHOT with RagQPromptType.V2. 'prompt_type' should be of type ZeroShotPromptType. Skipping...\n",
      "Invalid VQAStrategyDetail: Invalid combination: VQAStrategyType.ZERO_SHOT with RagQPromptType.V2. 'prompt_type' should be of type ZeroShotPromptType. Skipping...\n",
      "Invalid VQAStrategyDetail: Invalid combination: VQAStrategyType.ZERO_SHOT with RagQPromptType.V2. 'prompt_type' should be of type ZeroShotPromptType. Skipping...\n",
      "Invalid VQAStrategyDetail: Invalid combination: VQAStrategyType.ZERO_SHOT with RagQPromptType.V2. 'prompt_type' should be of type ZeroShotPromptType. Skipping...\n",
      "Invalid VQAStrategyDetail: Invalid combination: VQAStrategyType.ZERO_SHOT with RagQPromptType.V2. 'prompt_type' should be of type ZeroShotPromptType. Skipping...\n",
      "Invalid VQAStrategyDetail: Invalid combination: VQAStrategyType.ZERO_SHOT with RagQPromptType.V2. 'prompt_type' should be of type ZeroShotPromptType. Skipping...\n",
      "Invalid VQAStrategyDetail: Invalid combination: VQAStrategyType.ZERO_SHOT with RagQPromptType.V2. 'prompt_type' should be of type ZeroShotPromptType. Skipping...\n",
      "Invalid VQAStrategyDetail: Invalid combination: VQAStrategyType.ZERO_SHOT with RagQPromptType.V2. 'prompt_type' should be of type ZeroShotPromptType. Skipping...\n",
      "Invalid VQAStrategyDetail: Invalid combination: VQAStrategyType.ZERO_SHOT with RagQPromptType.V2. 'prompt_type' should be of type ZeroShotPromptType. Skipping...\n",
      "Invalid VQAStrategyDetail: Invalid combination: VQAStrategyType.ZERO_SHOT with RagQPromptType.V2. 'prompt_type' should be of type ZeroShotPromptType. Skipping...\n",
      "Invalid VQAStrategyDetail: Invalid combination: VQAStrategyType.ZERO_SHOT with RagQPromptType.V2. 'prompt_type' should be of type ZeroShotPromptType. Skipping...\n",
      "Invalid VQAStrategyDetail: Invalid combination: VQAStrategyType.ZERO_SHOT with RagQPromptType.V2. 'prompt_type' should be of type ZeroShotPromptType. Skipping...\n",
      "Invalid VQAStrategyDetail: Invalid combination: VQAStrategyType.ZERO_SHOT with RagQPromptType.V2. 'prompt_type' should be of type ZeroShotPromptType. Skipping...\n",
      "Invalid VQAStrategyDetail: Invalid combination: VQAStrategyType.ZERO_SHOT with RagQPromptType.V2. 'prompt_type' should be of type ZeroShotPromptType. Skipping...\n",
      "Invalid VQAStrategyDetail: Invalid combination: VQAStrategyType.ZERO_SHOT with RagQPromptType.V2. 'prompt_type' should be of type ZeroShotPromptType. Skipping...\n",
      "Invalid VQAStrategyDetail: Invalid combination: VQAStrategyType.ZERO_SHOT with RagQPromptType.V2. 'prompt_type' should be of type ZeroShotPromptType. Skipping...\n",
      "Invalid VQAStrategyDetail: Invalid combination: VQAStrategyType.ZERO_SHOT with RagQPromptType.V2. 'prompt_type' should be of type ZeroShotPromptType. Skipping...\n",
      "Invalid VQAStrategyDetail: Invalid combination: VQAStrategyType.ZERO_SHOT with RagQPromptType.V2. 'prompt_type' should be of type ZeroShotPromptType. Skipping...\n",
      "Invalid VQAStrategyDetail: Invalid combination: VQAStrategyType.ZERO_SHOT with RagQPromptType.V2. 'prompt_type' should be of type ZeroShotPromptType. Skipping...\n",
      "Invalid VQAStrategyDetail: Invalid combination: VQAStrategyType.ZERO_SHOT with RagQPromptType.V2. 'prompt_type' should be of type ZeroShotPromptType. Skipping...\n",
      "Invalid VQAStrategyDetail: Invalid combination: VQAStrategyType.ZERO_SHOT with RagQPromptType.V2. 'prompt_type' should be of type ZeroShotPromptType. Skipping...\n",
      "Invalid VQAStrategyDetail: Invalid combination: VQAStrategyType.ZERO_SHOT with RagQPromptType.V2. 'prompt_type' should be of type ZeroShotPromptType. Skipping...\n",
      "Invalid VQAStrategyDetail: Invalid combination: VQAStrategyType.ZERO_SHOT with RagQPromptType.V2. 'prompt_type' should be of type ZeroShotPromptType. Skipping...\n",
      "Invalid VQAStrategyDetail: Invalid combination: VQAStrategyType.ZERO_SHOT with RagQPromptType.V2. 'prompt_type' should be of type ZeroShotPromptType. Skipping...\n",
      "Invalid VQAStrategyDetail: Invalid combination: VQAStrategyType.ZERO_SHOT with RagQPromptType.V2. 'prompt_type' should be of type ZeroShotPromptType. Skipping...\n",
      "Invalid VQAStrategyDetail: Invalid combination: VQAStrategyType.ZERO_SHOT with RagQPromptType.V3. 'prompt_type' should be of type ZeroShotPromptType. Skipping...\n",
      "Invalid VQAStrategyDetail: Invalid combination: VQAStrategyType.ZERO_SHOT with RagQPromptType.V3. 'prompt_type' should be of type ZeroShotPromptType. Skipping...\n",
      "Invalid VQAStrategyDetail: Invalid combination: VQAStrategyType.ZERO_SHOT with RagQPromptType.V3. 'prompt_type' should be of type ZeroShotPromptType. Skipping...\n",
      "Invalid VQAStrategyDetail: Invalid combination: VQAStrategyType.ZERO_SHOT with RagQPromptType.V3. 'prompt_type' should be of type ZeroShotPromptType. Skipping...\n",
      "Invalid VQAStrategyDetail: Invalid combination: VQAStrategyType.ZERO_SHOT with RagQPromptType.V3. 'prompt_type' should be of type ZeroShotPromptType. Skipping...\n",
      "Invalid VQAStrategyDetail: Invalid combination: VQAStrategyType.ZERO_SHOT with RagQPromptType.V3. 'prompt_type' should be of type ZeroShotPromptType. Skipping...\n",
      "Invalid VQAStrategyDetail: Invalid combination: VQAStrategyType.ZERO_SHOT with RagQPromptType.V3. 'prompt_type' should be of type ZeroShotPromptType. Skipping...\n",
      "Invalid VQAStrategyDetail: Invalid combination: VQAStrategyType.ZERO_SHOT with RagQPromptType.V3. 'prompt_type' should be of type ZeroShotPromptType. Skipping...\n",
      "Invalid VQAStrategyDetail: Invalid combination: VQAStrategyType.ZERO_SHOT with RagQPromptType.V3. 'prompt_type' should be of type ZeroShotPromptType. Skipping...\n",
      "Invalid VQAStrategyDetail: Invalid combination: VQAStrategyType.ZERO_SHOT with RagQPromptType.V3. 'prompt_type' should be of type ZeroShotPromptType. Skipping...\n",
      "Invalid VQAStrategyDetail: Invalid combination: VQAStrategyType.ZERO_SHOT with RagQPromptType.V3. 'prompt_type' should be of type ZeroShotPromptType. Skipping...\n",
      "Invalid VQAStrategyDetail: Invalid combination: VQAStrategyType.ZERO_SHOT with RagQPromptType.V3. 'prompt_type' should be of type ZeroShotPromptType. Skipping...\n",
      "Invalid VQAStrategyDetail: Invalid combination: VQAStrategyType.ZERO_SHOT with RagQPromptType.V3. 'prompt_type' should be of type ZeroShotPromptType. Skipping...\n",
      "Invalid VQAStrategyDetail: Invalid combination: VQAStrategyType.ZERO_SHOT with RagQPromptType.V3. 'prompt_type' should be of type ZeroShotPromptType. Skipping...\n",
      "Invalid VQAStrategyDetail: Invalid combination: VQAStrategyType.ZERO_SHOT with RagQPromptType.V3. 'prompt_type' should be of type ZeroShotPromptType. Skipping...\n",
      "Invalid VQAStrategyDetail: Invalid combination: VQAStrategyType.ZERO_SHOT with RagQPromptType.V3. 'prompt_type' should be of type ZeroShotPromptType. Skipping...\n",
      "Invalid VQAStrategyDetail: Invalid combination: VQAStrategyType.ZERO_SHOT with RagQPromptType.V3. 'prompt_type' should be of type ZeroShotPromptType. Skipping...\n",
      "Invalid VQAStrategyDetail: Invalid combination: VQAStrategyType.ZERO_SHOT with RagQPromptType.V3. 'prompt_type' should be of type ZeroShotPromptType. Skipping...\n",
      "Invalid VQAStrategyDetail: Invalid combination: VQAStrategyType.ZERO_SHOT with RagQPromptType.V3. 'prompt_type' should be of type ZeroShotPromptType. Skipping...\n",
      "Invalid VQAStrategyDetail: Invalid combination: VQAStrategyType.ZERO_SHOT with RagQPromptType.V3. 'prompt_type' should be of type ZeroShotPromptType. Skipping...\n",
      "Invalid VQAStrategyDetail: Invalid combination: VQAStrategyType.ZERO_SHOT with RagQPromptType.V3. 'prompt_type' should be of type ZeroShotPromptType. Skipping...\n",
      "Invalid VQAStrategyDetail: Invalid combination: VQAStrategyType.ZERO_SHOT with RagQPromptType.V3. 'prompt_type' should be of type ZeroShotPromptType. Skipping...\n",
      "Invalid VQAStrategyDetail: Invalid combination: VQAStrategyType.ZERO_SHOT with RagQPromptType.V3. 'prompt_type' should be of type ZeroShotPromptType. Skipping...\n",
      "Invalid VQAStrategyDetail: Invalid combination: VQAStrategyType.ZERO_SHOT with RagQPromptType.V3. 'prompt_type' should be of type ZeroShotPromptType. Skipping...\n",
      "Invalid VQAStrategyDetail: Invalid combination: VQAStrategyType.ZERO_SHOT with RagQPromptType.V3. 'prompt_type' should be of type ZeroShotPromptType. Skipping...\n",
      "Invalid VQAStrategyDetail: Invalid combination: VQAStrategyType.ZERO_SHOT with RagQPromptType.V3. 'prompt_type' should be of type ZeroShotPromptType. Skipping...\n",
      "Invalid VQAStrategyDetail: Invalid combination: VQAStrategyType.ZERO_SHOT with RagQPromptType.V3. 'prompt_type' should be of type ZeroShotPromptType. Skipping...\n",
      "Invalid VQAStrategyDetail: Invalid combination: VQAStrategyType.ZERO_SHOT with RagQPromptType.V3. 'prompt_type' should be of type ZeroShotPromptType. Skipping...\n",
      "Invalid VQAStrategyDetail: Invalid combination: VQAStrategyType.ZERO_SHOT with RagQPromptType.V3. 'prompt_type' should be of type ZeroShotPromptType. Skipping...\n",
      "Invalid VQAStrategyDetail: Invalid combination: VQAStrategyType.ZERO_SHOT with RagQPromptType.V3. 'prompt_type' should be of type ZeroShotPromptType. Skipping...\n",
      "Invalid VQAStrategyDetail: Invalid combination: VQAStrategyType.ZERO_SHOT with RagQPromptType.V3. 'prompt_type' should be of type ZeroShotPromptType. Skipping...\n",
      "Invalid VQAStrategyDetail: Invalid combination: VQAStrategyType.ZERO_SHOT with RagQPromptType.V3. 'prompt_type' should be of type ZeroShotPromptType. Skipping...\n",
      "Invalid VQAStrategyDetail: Invalid combination: VQAStrategyType.ZERO_SHOT with RagQPromptType.V3. 'prompt_type' should be of type ZeroShotPromptType. Skipping...\n",
      "Invalid VQAStrategyDetail: Invalid combination: VQAStrategyType.ZERO_SHOT with RagQPromptType.V3. 'prompt_type' should be of type ZeroShotPromptType. Skipping...\n",
      "Invalid VQAStrategyDetail: Invalid combination: VQAStrategyType.ZERO_SHOT with RagQPromptType.V3. 'prompt_type' should be of type ZeroShotPromptType. Skipping...\n",
      "Invalid VQAStrategyDetail: Invalid combination: VQAStrategyType.ZERO_SHOT with RagQPromptType.V3. 'prompt_type' should be of type ZeroShotPromptType. Skipping...\n",
      "Invalid VQAStrategyDetail: Invalid combination: VQAStrategyType.ZERO_SHOT with RagQPromptType.V3. 'prompt_type' should be of type ZeroShotPromptType. Skipping...\n",
      "Invalid VQAStrategyDetail: Invalid combination: VQAStrategyType.ZERO_SHOT with RagQPromptType.V3. 'prompt_type' should be of type ZeroShotPromptType. Skipping...\n",
      "Invalid VQAStrategyDetail: Invalid combination: VQAStrategyType.ZERO_SHOT with RagQPromptType.V3. 'prompt_type' should be of type ZeroShotPromptType. Skipping...\n",
      "Invalid VQAStrategyDetail: Invalid combination: VQAStrategyType.ZERO_SHOT with RagQPromptType.V3. 'prompt_type' should be of type ZeroShotPromptType. Skipping...\n",
      "Invalid VQAStrategyDetail: Invalid combination: VQAStrategyType.ZERO_SHOT with RagQPromptType.V3. 'prompt_type' should be of type ZeroShotPromptType. Skipping...\n",
      "Invalid VQAStrategyDetail: Invalid combination: VQAStrategyType.ZERO_SHOT with RagQPromptType.V3. 'prompt_type' should be of type ZeroShotPromptType. Skipping...\n",
      "Invalid VQAStrategyDetail: Invalid combination: VQAStrategyType.ZERO_SHOT with RagQPromptType.V3. 'prompt_type' should be of type ZeroShotPromptType. Skipping...\n",
      "Invalid VQAStrategyDetail: Invalid combination: VQAStrategyType.ZERO_SHOT with RagQPromptType.V3. 'prompt_type' should be of type ZeroShotPromptType. Skipping...\n",
      "Invalid VQAStrategyDetail: Invalid combination: VQAStrategyType.ZERO_SHOT with RagQPromptType.V3. 'prompt_type' should be of type ZeroShotPromptType. Skipping...\n",
      "Invalid VQAStrategyDetail: Invalid combination: VQAStrategyType.ZERO_SHOT with RagQPromptType.V3. 'prompt_type' should be of type ZeroShotPromptType. Skipping...\n",
      "Invalid VQAStrategyDetail: Invalid combination: VQAStrategyType.ZERO_SHOT with RagQPromptType.V3. 'prompt_type' should be of type ZeroShotPromptType. Skipping...\n",
      "Invalid VQAStrategyDetail: Invalid combination: VQAStrategyType.ZERO_SHOT with RagQPromptType.V3. 'prompt_type' should be of type ZeroShotPromptType. Skipping...\n",
      "Invalid VQAStrategyDetail: Invalid combination: VQAStrategyType.ZERO_SHOT with RagQPromptType.V3. 'prompt_type' should be of type ZeroShotPromptType. Skipping...\n",
      "Invalid VQAStrategyDetail: Invalid combination: VQAStrategyType.ZERO_SHOT with RagQPromptType.V3. 'prompt_type' should be of type ZeroShotPromptType. Skipping...\n",
      "Invalid VQAStrategyDetail: Invalid combination: VQAStrategyType.ZERO_SHOT with RagQPromptType.V3. 'prompt_type' should be of type ZeroShotPromptType. Skipping...\n",
      "Invalid VQAStrategyDetail: Invalid combination: VQAStrategyType.ZERO_SHOT with RagQPromptType.V3. 'prompt_type' should be of type ZeroShotPromptType. Skipping...\n",
      "Invalid VQAStrategyDetail: Invalid combination: VQAStrategyType.ZERO_SHOT with RagQPromptType.V3. 'prompt_type' should be of type ZeroShotPromptType. Skipping...\n",
      "Invalid VQAStrategyDetail: Invalid combination: VQAStrategyType.ZERO_SHOT with RagQPromptType.V3. 'prompt_type' should be of type ZeroShotPromptType. Skipping...\n",
      "Invalid VQAStrategyDetail: Invalid combination: VQAStrategyType.ZERO_SHOT with RagQPromptType.V3. 'prompt_type' should be of type ZeroShotPromptType. Skipping...\n",
      "Invalid VQAStrategyDetail: Invalid combination: VQAStrategyType.ZERO_SHOT with RagQPromptType.V3. 'prompt_type' should be of type ZeroShotPromptType. Skipping...\n",
      "Invalid VQAStrategyDetail: Invalid combination: VQAStrategyType.ZERO_SHOT with RagQPromptType.V3. 'prompt_type' should be of type ZeroShotPromptType. Skipping...\n",
      "Invalid VQAStrategyDetail: Invalid combination: VQAStrategyType.ZERO_SHOT with RagQPromptType.V3. 'prompt_type' should be of type ZeroShotPromptType. Skipping...\n",
      "Invalid VQAStrategyDetail: Invalid combination: VQAStrategyType.ZERO_SHOT with RagQPromptType.V3. 'prompt_type' should be of type ZeroShotPromptType. Skipping...\n",
      "Invalid VQAStrategyDetail: Invalid combination: VQAStrategyType.ZERO_SHOT with RagQPromptType.V3. 'prompt_type' should be of type ZeroShotPromptType. Skipping...\n",
      "Invalid VQAStrategyDetail: Invalid combination: VQAStrategyType.ZERO_SHOT with RagQPromptType.V3. 'prompt_type' should be of type ZeroShotPromptType. Skipping...\n",
      "Invalid VQAStrategyDetail: Invalid combination: VQAStrategyType.ZERO_SHOT with RagQPromptType.V3. 'prompt_type' should be of type ZeroShotPromptType. Skipping...\n",
      "Invalid VQAStrategyDetail: Invalid combination: VQAStrategyType.ZERO_SHOT with RagQPromptType.V3. 'prompt_type' should be of type ZeroShotPromptType. Skipping...\n",
      "Invalid VQAStrategyDetail: Invalid combination: VQAStrategyType.ZERO_SHOT with RagQPromptType.V3. 'prompt_type' should be of type ZeroShotPromptType. Skipping...\n",
      "Invalid VQAStrategyDetail: Invalid combination: VQAStrategyType.ZERO_SHOT with RagQPromptType.V3. 'prompt_type' should be of type ZeroShotPromptType. Skipping...\n",
      "Invalid VQAStrategyDetail: Invalid combination: VQAStrategyType.ZERO_SHOT with RagQPromptType.V3. 'prompt_type' should be of type ZeroShotPromptType. Skipping...\n",
      "Invalid VQAStrategyDetail: Invalid combination: VQAStrategyType.ZERO_SHOT with RagQPromptType.V3. 'prompt_type' should be of type ZeroShotPromptType. Skipping...\n",
      "Invalid VQAStrategyDetail: Invalid combination: VQAStrategyType.ZERO_SHOT with RagQPromptType.V3. 'prompt_type' should be of type ZeroShotPromptType. Skipping...\n",
      "Invalid VQAStrategyDetail: Invalid combination: VQAStrategyType.ZERO_SHOT with RagQPromptType.V3. 'prompt_type' should be of type ZeroShotPromptType. Skipping...\n",
      "Invalid VQAStrategyDetail: Invalid combination: VQAStrategyType.ZERO_SHOT with RagQPromptType.V3. 'prompt_type' should be of type ZeroShotPromptType. Skipping...\n",
      "Invalid VQAStrategyDetail: Invalid combination: VQAStrategyType.ZERO_SHOT with RagQPromptType.V3. 'prompt_type' should be of type ZeroShotPromptType. Skipping...\n",
      "Invalid VQAStrategyDetail: Invalid combination: VQAStrategyType.ZERO_SHOT with RagQPromptType.V3. 'prompt_type' should be of type ZeroShotPromptType. Skipping...\n",
      "Invalid VQAStrategyDetail: Invalid combination: VQAStrategyType.ZERO_SHOT with RagQPromptType.V3. 'prompt_type' should be of type ZeroShotPromptType. Skipping...\n",
      "Invalid VQAStrategyDetail: Invalid combination: VQAStrategyType.ZERO_SHOT with RagQPromptType.V3. 'prompt_type' should be of type ZeroShotPromptType. Skipping...\n",
      "Invalid VQAStrategyDetail: Invalid combination: VQAStrategyType.ZERO_SHOT with RagQPromptType.V3. 'prompt_type' should be of type ZeroShotPromptType. Skipping...\n",
      "Invalid VQAStrategyDetail: Invalid combination: VQAStrategyType.ZERO_SHOT with RagQPromptType.V3. 'prompt_type' should be of type ZeroShotPromptType. Skipping...\n",
      "Invalid VQAStrategyDetail: Invalid combination: VQAStrategyType.ZERO_SHOT with RagQPromptType.V3. 'prompt_type' should be of type ZeroShotPromptType. Skipping...\n",
      "Invalid VQAStrategyDetail: Invalid combination: VQAStrategyType.ZERO_SHOT with RagQPromptType.V3. 'prompt_type' should be of type ZeroShotPromptType. Skipping...\n",
      "Invalid VQAStrategyDetail: Invalid combination: VQAStrategyType.ZERO_SHOT with RagQPromptType.V3. 'prompt_type' should be of type ZeroShotPromptType. Skipping...\n",
      "Invalid VQAStrategyDetail: Invalid combination: VQAStrategyType.ZERO_SHOT with RagQPromptType.V3. 'prompt_type' should be of type ZeroShotPromptType. Skipping...\n",
      "Invalid VQAStrategyDetail: Invalid combination: VQAStrategyType.ZERO_SHOT with RagQPromptType.V3. 'prompt_type' should be of type ZeroShotPromptType. Skipping...\n",
      "Invalid VQAStrategyDetail: Invalid combination: VQAStrategyType.ZERO_SHOT with RagQPromptType.V3. 'prompt_type' should be of type ZeroShotPromptType. Skipping...\n",
      "Invalid VQAStrategyDetail: Invalid combination: VQAStrategyType.ZERO_SHOT with RagQPromptType.V3. 'prompt_type' should be of type ZeroShotPromptType. Skipping...\n",
      "Invalid VQAStrategyDetail: Invalid combination: VQAStrategyType.ZERO_SHOT with RagQPromptType.V3. 'prompt_type' should be of type ZeroShotPromptType. Skipping...\n",
      "Invalid VQAStrategyDetail: Invalid combination: VQAStrategyType.ZERO_SHOT with RagQPromptType.V3. 'prompt_type' should be of type ZeroShotPromptType. Skipping...\n",
      "Invalid VQAStrategyDetail: Invalid combination: VQAStrategyType.ZERO_SHOT with RagQPromptType.V3. 'prompt_type' should be of type ZeroShotPromptType. Skipping...\n",
      "Invalid VQAStrategyDetail: Invalid combination: VQAStrategyType.ZERO_SHOT with RagQPromptType.V3. 'prompt_type' should be of type ZeroShotPromptType. Skipping...\n",
      "Invalid VQAStrategyDetail: Invalid combination: VQAStrategyType.ZERO_SHOT with RagQPromptType.V3. 'prompt_type' should be of type ZeroShotPromptType. Skipping...\n",
      "Invalid VQAStrategyDetail: Invalid combination: VQAStrategyType.ZERO_SHOT with RagQPromptType.V3. 'prompt_type' should be of type ZeroShotPromptType. Skipping...\n",
      "Invalid VQAStrategyDetail: Invalid combination: VQAStrategyType.ZERO_SHOT with RagQPromptType.V3. 'prompt_type' should be of type ZeroShotPromptType. Skipping...\n",
      "Invalid VQAStrategyDetail: Invalid combination: VQAStrategyType.ZERO_SHOT with RagQPromptType.V3. 'prompt_type' should be of type ZeroShotPromptType. Skipping...\n",
      "Invalid VQAStrategyDetail: Invalid combination: VQAStrategyType.ZERO_SHOT with RagQPromptType.V3. 'prompt_type' should be of type ZeroShotPromptType. Skipping...\n",
      "Invalid VQAStrategyDetail: Invalid combination: VQAStrategyType.ZERO_SHOT with RagQPromptType.V3. 'prompt_type' should be of type ZeroShotPromptType. Skipping...\n",
      "Invalid VQAStrategyDetail: Invalid combination: VQAStrategyType.ZERO_SHOT with RagQPromptType.V3. 'prompt_type' should be of type ZeroShotPromptType. Skipping...\n",
      "Invalid VQAStrategyDetail: Invalid combination: VQAStrategyType.ZERO_SHOT with RagQPromptType.V3. 'prompt_type' should be of type ZeroShotPromptType. Skipping...\n",
      "Invalid VQAStrategyDetail: Invalid combination: VQAStrategyType.ZERO_SHOT with RagQPromptType.V3. 'prompt_type' should be of type ZeroShotPromptType. Skipping...\n",
      "Invalid VQAStrategyDetail: Invalid combination: VQAStrategyType.ZERO_SHOT with RagQPromptType.V3. 'prompt_type' should be of type ZeroShotPromptType. Skipping...\n",
      "Invalid VQAStrategyDetail: Invalid combination: VQAStrategyType.ZERO_SHOT with RagQPromptType.V3. 'prompt_type' should be of type ZeroShotPromptType. Skipping...\n",
      "Invalid VQAStrategyDetail: Invalid combination: VQAStrategyType.ZERO_SHOT with RagQPromptType.V3. 'prompt_type' should be of type ZeroShotPromptType. Skipping...\n",
      "Invalid VQAStrategyDetail: Invalid combination: VQAStrategyType.ZERO_SHOT with RagQPromptType.V3. 'prompt_type' should be of type ZeroShotPromptType. Skipping...\n",
      "Invalid VQAStrategyDetail: Invalid combination: VQAStrategyType.ZERO_SHOT with RagQPromptType.V3. 'prompt_type' should be of type ZeroShotPromptType. Skipping...\n",
      "Invalid VQAStrategyDetail: Invalid combination: VQAStrategyType.ZERO_SHOT with RagQPromptType.V3. 'prompt_type' should be of type ZeroShotPromptType. Skipping...\n",
      "Invalid VQAStrategyDetail: Invalid combination: VQAStrategyType.ZERO_SHOT with RagQPromptType.V3. 'prompt_type' should be of type ZeroShotPromptType. Skipping...\n",
      "Invalid VQAStrategyDetail: Invalid combination: VQAStrategyType.ZERO_SHOT with RagQPromptType.V3. 'prompt_type' should be of type ZeroShotPromptType. Skipping...\n",
      "Invalid VQAStrategyDetail: Invalid combination: VQAStrategyType.ZERO_SHOT with RagQPromptType.V3. 'prompt_type' should be of type ZeroShotPromptType. Skipping...\n",
      "Invalid VQAStrategyDetail: Invalid combination: VQAStrategyType.ZERO_SHOT with RagQPromptType.V3. 'prompt_type' should be of type ZeroShotPromptType. Skipping...\n",
      "Invalid VQAStrategyDetail: Invalid combination: VQAStrategyType.ZERO_SHOT with RagQPromptType.V3. 'prompt_type' should be of type ZeroShotPromptType. Skipping...\n",
      "Invalid VQAStrategyDetail: Invalid combination: VQAStrategyType.ZERO_SHOT with RagQPromptType.V3. 'prompt_type' should be of type ZeroShotPromptType. Skipping...\n",
      "Invalid VQAStrategyDetail: Invalid combination: VQAStrategyType.ZERO_SHOT with RagQPromptType.V3. 'prompt_type' should be of type ZeroShotPromptType. Skipping...\n",
      "Invalid VQAStrategyDetail: Invalid combination: VQAStrategyType.ZERO_SHOT with RagQPromptType.V3. 'prompt_type' should be of type ZeroShotPromptType. Skipping...\n",
      "Invalid VQAStrategyDetail: Invalid combination: VQAStrategyType.ZERO_SHOT with RagQPromptType.V3. 'prompt_type' should be of type ZeroShotPromptType. Skipping...\n",
      "Invalid VQAStrategyDetail: Invalid combination: VQAStrategyType.ZERO_SHOT with RagQPromptType.V3. 'prompt_type' should be of type ZeroShotPromptType. Skipping...\n",
      "Invalid VQAStrategyDetail: Invalid combination: VQAStrategyType.ZERO_SHOT with RagQPromptType.V4. 'prompt_type' should be of type ZeroShotPromptType. Skipping...\n",
      "Invalid VQAStrategyDetail: Invalid combination: VQAStrategyType.ZERO_SHOT with RagQPromptType.V4. 'prompt_type' should be of type ZeroShotPromptType. Skipping...\n",
      "Invalid VQAStrategyDetail: Invalid combination: VQAStrategyType.ZERO_SHOT with RagQPromptType.V4. 'prompt_type' should be of type ZeroShotPromptType. Skipping...\n",
      "Invalid VQAStrategyDetail: Invalid combination: VQAStrategyType.ZERO_SHOT with RagQPromptType.V4. 'prompt_type' should be of type ZeroShotPromptType. Skipping...\n",
      "Invalid VQAStrategyDetail: Invalid combination: VQAStrategyType.ZERO_SHOT with RagQPromptType.V4. 'prompt_type' should be of type ZeroShotPromptType. Skipping...\n",
      "Invalid VQAStrategyDetail: Invalid combination: VQAStrategyType.ZERO_SHOT with RagQPromptType.V4. 'prompt_type' should be of type ZeroShotPromptType. Skipping...\n",
      "Invalid VQAStrategyDetail: Invalid combination: VQAStrategyType.ZERO_SHOT with RagQPromptType.V4. 'prompt_type' should be of type ZeroShotPromptType. Skipping...\n",
      "Invalid VQAStrategyDetail: Invalid combination: VQAStrategyType.ZERO_SHOT with RagQPromptType.V4. 'prompt_type' should be of type ZeroShotPromptType. Skipping...\n",
      "Invalid VQAStrategyDetail: Invalid combination: VQAStrategyType.ZERO_SHOT with RagQPromptType.V4. 'prompt_type' should be of type ZeroShotPromptType. Skipping...\n",
      "Invalid VQAStrategyDetail: Invalid combination: VQAStrategyType.ZERO_SHOT with RagQPromptType.V4. 'prompt_type' should be of type ZeroShotPromptType. Skipping...\n",
      "Invalid VQAStrategyDetail: Invalid combination: VQAStrategyType.ZERO_SHOT with RagQPromptType.V4. 'prompt_type' should be of type ZeroShotPromptType. Skipping...\n",
      "Invalid VQAStrategyDetail: Invalid combination: VQAStrategyType.ZERO_SHOT with RagQPromptType.V4. 'prompt_type' should be of type ZeroShotPromptType. Skipping...\n",
      "Invalid VQAStrategyDetail: Invalid combination: VQAStrategyType.ZERO_SHOT with RagQPromptType.V4. 'prompt_type' should be of type ZeroShotPromptType. Skipping...\n",
      "Invalid VQAStrategyDetail: Invalid combination: VQAStrategyType.ZERO_SHOT with RagQPromptType.V4. 'prompt_type' should be of type ZeroShotPromptType. Skipping...\n",
      "Invalid VQAStrategyDetail: Invalid combination: VQAStrategyType.ZERO_SHOT with RagQPromptType.V4. 'prompt_type' should be of type ZeroShotPromptType. Skipping...\n",
      "Invalid VQAStrategyDetail: Invalid combination: VQAStrategyType.ZERO_SHOT with RagQPromptType.V4. 'prompt_type' should be of type ZeroShotPromptType. Skipping...\n",
      "Invalid VQAStrategyDetail: Invalid combination: VQAStrategyType.ZERO_SHOT with RagQPromptType.V4. 'prompt_type' should be of type ZeroShotPromptType. Skipping...\n",
      "Invalid VQAStrategyDetail: Invalid combination: VQAStrategyType.ZERO_SHOT with RagQPromptType.V4. 'prompt_type' should be of type ZeroShotPromptType. Skipping...\n",
      "Invalid VQAStrategyDetail: Invalid combination: VQAStrategyType.ZERO_SHOT with RagQPromptType.V4. 'prompt_type' should be of type ZeroShotPromptType. Skipping...\n",
      "Invalid VQAStrategyDetail: Invalid combination: VQAStrategyType.ZERO_SHOT with RagQPromptType.V4. 'prompt_type' should be of type ZeroShotPromptType. Skipping...\n",
      "Invalid VQAStrategyDetail: Invalid combination: VQAStrategyType.ZERO_SHOT with RagQPromptType.V4. 'prompt_type' should be of type ZeroShotPromptType. Skipping...\n",
      "Invalid VQAStrategyDetail: Invalid combination: VQAStrategyType.ZERO_SHOT with RagQPromptType.V4. 'prompt_type' should be of type ZeroShotPromptType. Skipping...\n",
      "Invalid VQAStrategyDetail: Invalid combination: VQAStrategyType.ZERO_SHOT with RagQPromptType.V4. 'prompt_type' should be of type ZeroShotPromptType. Skipping...\n",
      "Invalid VQAStrategyDetail: Invalid combination: VQAStrategyType.ZERO_SHOT with RagQPromptType.V4. 'prompt_type' should be of type ZeroShotPromptType. Skipping...\n",
      "Invalid VQAStrategyDetail: Invalid combination: VQAStrategyType.ZERO_SHOT with RagQPromptType.V4. 'prompt_type' should be of type ZeroShotPromptType. Skipping...\n",
      "Invalid VQAStrategyDetail: Invalid combination: VQAStrategyType.ZERO_SHOT with RagQPromptType.V4. 'prompt_type' should be of type ZeroShotPromptType. Skipping...\n",
      "Invalid VQAStrategyDetail: Invalid combination: VQAStrategyType.ZERO_SHOT with RagQPromptType.V4. 'prompt_type' should be of type ZeroShotPromptType. Skipping...\n",
      "Invalid VQAStrategyDetail: Invalid combination: VQAStrategyType.ZERO_SHOT with RagQPromptType.V4. 'prompt_type' should be of type ZeroShotPromptType. Skipping...\n",
      "Invalid VQAStrategyDetail: Invalid combination: VQAStrategyType.ZERO_SHOT with RagQPromptType.V4. 'prompt_type' should be of type ZeroShotPromptType. Skipping...\n",
      "Invalid VQAStrategyDetail: Invalid combination: VQAStrategyType.ZERO_SHOT with RagQPromptType.V4. 'prompt_type' should be of type ZeroShotPromptType. Skipping...\n",
      "Invalid VQAStrategyDetail: Invalid combination: VQAStrategyType.ZERO_SHOT with RagQPromptType.V4. 'prompt_type' should be of type ZeroShotPromptType. Skipping...\n",
      "Invalid VQAStrategyDetail: Invalid combination: VQAStrategyType.ZERO_SHOT with RagQPromptType.V4. 'prompt_type' should be of type ZeroShotPromptType. Skipping...\n",
      "Invalid VQAStrategyDetail: Invalid combination: VQAStrategyType.ZERO_SHOT with RagQPromptType.V4. 'prompt_type' should be of type ZeroShotPromptType. Skipping...\n",
      "Invalid VQAStrategyDetail: Invalid combination: VQAStrategyType.ZERO_SHOT with RagQPromptType.V4. 'prompt_type' should be of type ZeroShotPromptType. Skipping...\n",
      "Invalid VQAStrategyDetail: Invalid combination: VQAStrategyType.ZERO_SHOT with RagQPromptType.V4. 'prompt_type' should be of type ZeroShotPromptType. Skipping...\n",
      "Invalid VQAStrategyDetail: Invalid combination: VQAStrategyType.ZERO_SHOT with RagQPromptType.V4. 'prompt_type' should be of type ZeroShotPromptType. Skipping...\n",
      "Invalid VQAStrategyDetail: Invalid combination: VQAStrategyType.ZERO_SHOT with RagQPromptType.V4. 'prompt_type' should be of type ZeroShotPromptType. Skipping...\n",
      "Invalid VQAStrategyDetail: Invalid combination: VQAStrategyType.ZERO_SHOT with RagQPromptType.V4. 'prompt_type' should be of type ZeroShotPromptType. Skipping...\n",
      "Invalid VQAStrategyDetail: Invalid combination: VQAStrategyType.ZERO_SHOT with RagQPromptType.V4. 'prompt_type' should be of type ZeroShotPromptType. Skipping...\n",
      "Invalid VQAStrategyDetail: Invalid combination: VQAStrategyType.ZERO_SHOT with RagQPromptType.V4. 'prompt_type' should be of type ZeroShotPromptType. Skipping...\n",
      "Invalid VQAStrategyDetail: Invalid combination: VQAStrategyType.ZERO_SHOT with RagQPromptType.V4. 'prompt_type' should be of type ZeroShotPromptType. Skipping...\n",
      "Invalid VQAStrategyDetail: Invalid combination: VQAStrategyType.ZERO_SHOT with RagQPromptType.V4. 'prompt_type' should be of type ZeroShotPromptType. Skipping...\n",
      "Invalid VQAStrategyDetail: Invalid combination: VQAStrategyType.ZERO_SHOT with RagQPromptType.V4. 'prompt_type' should be of type ZeroShotPromptType. Skipping...\n",
      "Invalid VQAStrategyDetail: Invalid combination: VQAStrategyType.ZERO_SHOT with RagQPromptType.V4. 'prompt_type' should be of type ZeroShotPromptType. Skipping...\n",
      "Invalid VQAStrategyDetail: Invalid combination: VQAStrategyType.ZERO_SHOT with RagQPromptType.V4. 'prompt_type' should be of type ZeroShotPromptType. Skipping...\n",
      "Invalid VQAStrategyDetail: Invalid combination: VQAStrategyType.ZERO_SHOT with RagQPromptType.V4. 'prompt_type' should be of type ZeroShotPromptType. Skipping...\n",
      "Invalid VQAStrategyDetail: Invalid combination: VQAStrategyType.ZERO_SHOT with RagQPromptType.V4. 'prompt_type' should be of type ZeroShotPromptType. Skipping...\n",
      "Invalid VQAStrategyDetail: Invalid combination: VQAStrategyType.ZERO_SHOT with RagQPromptType.V4. 'prompt_type' should be of type ZeroShotPromptType. Skipping...\n",
      "Invalid VQAStrategyDetail: Invalid combination: VQAStrategyType.ZERO_SHOT with RagQPromptType.V4. 'prompt_type' should be of type ZeroShotPromptType. Skipping...\n",
      "Invalid VQAStrategyDetail: Invalid combination: VQAStrategyType.ZERO_SHOT with RagQPromptType.V4. 'prompt_type' should be of type ZeroShotPromptType. Skipping...\n",
      "Invalid VQAStrategyDetail: Invalid combination: VQAStrategyType.ZERO_SHOT with RagQPromptType.V4. 'prompt_type' should be of type ZeroShotPromptType. Skipping...\n",
      "Invalid VQAStrategyDetail: Invalid combination: VQAStrategyType.ZERO_SHOT with RagQPromptType.V4. 'prompt_type' should be of type ZeroShotPromptType. Skipping...\n",
      "Invalid VQAStrategyDetail: Invalid combination: VQAStrategyType.ZERO_SHOT with RagQPromptType.V4. 'prompt_type' should be of type ZeroShotPromptType. Skipping...\n",
      "Invalid VQAStrategyDetail: Invalid combination: VQAStrategyType.ZERO_SHOT with RagQPromptType.V4. 'prompt_type' should be of type ZeroShotPromptType. Skipping...\n",
      "Invalid VQAStrategyDetail: Invalid combination: VQAStrategyType.ZERO_SHOT with RagQPromptType.V4. 'prompt_type' should be of type ZeroShotPromptType. Skipping...\n",
      "Invalid VQAStrategyDetail: Invalid combination: VQAStrategyType.ZERO_SHOT with RagQPromptType.V4. 'prompt_type' should be of type ZeroShotPromptType. Skipping...\n",
      "Invalid VQAStrategyDetail: Invalid combination: VQAStrategyType.ZERO_SHOT with RagQPromptType.V4. 'prompt_type' should be of type ZeroShotPromptType. Skipping...\n",
      "Invalid VQAStrategyDetail: Invalid combination: VQAStrategyType.ZERO_SHOT with RagQPromptType.V4. 'prompt_type' should be of type ZeroShotPromptType. Skipping...\n",
      "Invalid VQAStrategyDetail: Invalid combination: VQAStrategyType.ZERO_SHOT with RagQPromptType.V4. 'prompt_type' should be of type ZeroShotPromptType. Skipping...\n",
      "Invalid VQAStrategyDetail: Invalid combination: VQAStrategyType.ZERO_SHOT with RagQPromptType.V4. 'prompt_type' should be of type ZeroShotPromptType. Skipping...\n",
      "Invalid VQAStrategyDetail: Invalid combination: VQAStrategyType.ZERO_SHOT with RagQPromptType.V4. 'prompt_type' should be of type ZeroShotPromptType. Skipping...\n",
      "Invalid VQAStrategyDetail: Invalid combination: VQAStrategyType.ZERO_SHOT with RagQPromptType.V4. 'prompt_type' should be of type ZeroShotPromptType. Skipping...\n",
      "Invalid VQAStrategyDetail: Invalid combination: VQAStrategyType.ZERO_SHOT with RagQPromptType.V4. 'prompt_type' should be of type ZeroShotPromptType. Skipping...\n",
      "Invalid VQAStrategyDetail: Invalid combination: VQAStrategyType.ZERO_SHOT with RagQPromptType.V4. 'prompt_type' should be of type ZeroShotPromptType. Skipping...\n",
      "Invalid VQAStrategyDetail: Invalid combination: VQAStrategyType.ZERO_SHOT with RagQPromptType.V4. 'prompt_type' should be of type ZeroShotPromptType. Skipping...\n",
      "Invalid VQAStrategyDetail: Invalid combination: VQAStrategyType.ZERO_SHOT with RagQPromptType.V4. 'prompt_type' should be of type ZeroShotPromptType. Skipping...\n",
      "Invalid VQAStrategyDetail: Invalid combination: VQAStrategyType.ZERO_SHOT with RagQPromptType.V4. 'prompt_type' should be of type ZeroShotPromptType. Skipping...\n",
      "Invalid VQAStrategyDetail: Invalid combination: VQAStrategyType.ZERO_SHOT with RagQPromptType.V4. 'prompt_type' should be of type ZeroShotPromptType. Skipping...\n",
      "Invalid VQAStrategyDetail: Invalid combination: VQAStrategyType.ZERO_SHOT with RagQPromptType.V4. 'prompt_type' should be of type ZeroShotPromptType. Skipping...\n",
      "Invalid VQAStrategyDetail: Invalid combination: VQAStrategyType.ZERO_SHOT with RagQPromptType.V4. 'prompt_type' should be of type ZeroShotPromptType. Skipping...\n",
      "Invalid VQAStrategyDetail: Invalid combination: VQAStrategyType.ZERO_SHOT with RagQPromptType.V4. 'prompt_type' should be of type ZeroShotPromptType. Skipping...\n",
      "Invalid VQAStrategyDetail: Invalid combination: VQAStrategyType.ZERO_SHOT with RagQPromptType.V4. 'prompt_type' should be of type ZeroShotPromptType. Skipping...\n",
      "Invalid VQAStrategyDetail: Invalid combination: VQAStrategyType.ZERO_SHOT with RagQPromptType.V4. 'prompt_type' should be of type ZeroShotPromptType. Skipping...\n",
      "Invalid VQAStrategyDetail: Invalid combination: VQAStrategyType.ZERO_SHOT with RagQPromptType.V4. 'prompt_type' should be of type ZeroShotPromptType. Skipping...\n",
      "Invalid VQAStrategyDetail: Invalid combination: VQAStrategyType.ZERO_SHOT with RagQPromptType.V4. 'prompt_type' should be of type ZeroShotPromptType. Skipping...\n",
      "Invalid VQAStrategyDetail: Invalid combination: VQAStrategyType.ZERO_SHOT with RagQPromptType.V4. 'prompt_type' should be of type ZeroShotPromptType. Skipping...\n",
      "Invalid VQAStrategyDetail: Invalid combination: VQAStrategyType.ZERO_SHOT with RagQPromptType.V4. 'prompt_type' should be of type ZeroShotPromptType. Skipping...\n",
      "Invalid VQAStrategyDetail: Invalid combination: VQAStrategyType.ZERO_SHOT with RagQPromptType.V4. 'prompt_type' should be of type ZeroShotPromptType. Skipping...\n",
      "Invalid VQAStrategyDetail: Invalid combination: VQAStrategyType.ZERO_SHOT with RagQPromptType.V4. 'prompt_type' should be of type ZeroShotPromptType. Skipping...\n",
      "Invalid VQAStrategyDetail: Invalid combination: VQAStrategyType.ZERO_SHOT with RagQPromptType.V4. 'prompt_type' should be of type ZeroShotPromptType. Skipping...\n",
      "Invalid VQAStrategyDetail: Invalid combination: VQAStrategyType.ZERO_SHOT with RagQPromptType.V4. 'prompt_type' should be of type ZeroShotPromptType. Skipping...\n",
      "Invalid VQAStrategyDetail: Invalid combination: VQAStrategyType.ZERO_SHOT with RagQPromptType.V4. 'prompt_type' should be of type ZeroShotPromptType. Skipping...\n",
      "Invalid VQAStrategyDetail: Invalid combination: VQAStrategyType.ZERO_SHOT with RagQPromptType.V4. 'prompt_type' should be of type ZeroShotPromptType. Skipping...\n",
      "Invalid VQAStrategyDetail: Invalid combination: VQAStrategyType.ZERO_SHOT with RagQPromptType.V4. 'prompt_type' should be of type ZeroShotPromptType. Skipping...\n",
      "Invalid VQAStrategyDetail: Invalid combination: VQAStrategyType.ZERO_SHOT with RagQPromptType.V4. 'prompt_type' should be of type ZeroShotPromptType. Skipping...\n",
      "Invalid VQAStrategyDetail: Invalid combination: VQAStrategyType.ZERO_SHOT with RagQPromptType.V4. 'prompt_type' should be of type ZeroShotPromptType. Skipping...\n",
      "Invalid VQAStrategyDetail: Invalid combination: VQAStrategyType.ZERO_SHOT with RagQPromptType.V4. 'prompt_type' should be of type ZeroShotPromptType. Skipping...\n",
      "Invalid VQAStrategyDetail: Invalid combination: VQAStrategyType.ZERO_SHOT with RagQPromptType.V4. 'prompt_type' should be of type ZeroShotPromptType. Skipping...\n",
      "Invalid VQAStrategyDetail: Invalid combination: VQAStrategyType.ZERO_SHOT with RagQPromptType.V4. 'prompt_type' should be of type ZeroShotPromptType. Skipping...\n",
      "Invalid VQAStrategyDetail: Invalid combination: VQAStrategyType.ZERO_SHOT with RagQPromptType.V4. 'prompt_type' should be of type ZeroShotPromptType. Skipping...\n",
      "Invalid VQAStrategyDetail: Invalid combination: VQAStrategyType.ZERO_SHOT with RagQPromptType.V4. 'prompt_type' should be of type ZeroShotPromptType. Skipping...\n",
      "Invalid VQAStrategyDetail: Invalid combination: VQAStrategyType.ZERO_SHOT with RagQPromptType.V4. 'prompt_type' should be of type ZeroShotPromptType. Skipping...\n",
      "Invalid VQAStrategyDetail: Invalid combination: VQAStrategyType.ZERO_SHOT with RagQPromptType.V4. 'prompt_type' should be of type ZeroShotPromptType. Skipping...\n",
      "Invalid VQAStrategyDetail: Invalid combination: VQAStrategyType.ZERO_SHOT with RagQPromptType.V4. 'prompt_type' should be of type ZeroShotPromptType. Skipping...\n",
      "Invalid VQAStrategyDetail: Invalid combination: VQAStrategyType.ZERO_SHOT with RagQPromptType.V4. 'prompt_type' should be of type ZeroShotPromptType. Skipping...\n",
      "Invalid VQAStrategyDetail: Invalid combination: VQAStrategyType.ZERO_SHOT with RagQPromptType.V4. 'prompt_type' should be of type ZeroShotPromptType. Skipping...\n",
      "Invalid VQAStrategyDetail: Invalid combination: VQAStrategyType.ZERO_SHOT with RagQPromptType.V4. 'prompt_type' should be of type ZeroShotPromptType. Skipping...\n",
      "Invalid VQAStrategyDetail: Invalid combination: VQAStrategyType.ZERO_SHOT with RagQPromptType.V4. 'prompt_type' should be of type ZeroShotPromptType. Skipping...\n",
      "Invalid VQAStrategyDetail: Invalid combination: VQAStrategyType.ZERO_SHOT with RagQPromptType.V4. 'prompt_type' should be of type ZeroShotPromptType. Skipping...\n",
      "Invalid VQAStrategyDetail: Invalid combination: VQAStrategyType.ZERO_SHOT with RagQPromptType.V4. 'prompt_type' should be of type ZeroShotPromptType. Skipping...\n",
      "Invalid VQAStrategyDetail: Invalid combination: VQAStrategyType.ZERO_SHOT with RagQPromptType.V4. 'prompt_type' should be of type ZeroShotPromptType. Skipping...\n",
      "Invalid VQAStrategyDetail: Invalid combination: VQAStrategyType.ZERO_SHOT with RagQPromptType.V4. 'prompt_type' should be of type ZeroShotPromptType. Skipping...\n",
      "Invalid VQAStrategyDetail: Invalid combination: VQAStrategyType.ZERO_SHOT with RagQPromptType.V4. 'prompt_type' should be of type ZeroShotPromptType. Skipping...\n",
      "Invalid VQAStrategyDetail: Invalid combination: VQAStrategyType.ZERO_SHOT with RagQPromptType.V4. 'prompt_type' should be of type ZeroShotPromptType. Skipping...\n",
      "Invalid VQAStrategyDetail: Invalid combination: VQAStrategyType.ZERO_SHOT with RagQPromptType.V4. 'prompt_type' should be of type ZeroShotPromptType. Skipping...\n",
      "Invalid VQAStrategyDetail: Invalid combination: VQAStrategyType.ZERO_SHOT with RagQPromptType.V4. 'prompt_type' should be of type ZeroShotPromptType. Skipping...\n",
      "Invalid VQAStrategyDetail: Invalid combination: VQAStrategyType.ZERO_SHOT with RagQPromptType.V4. 'prompt_type' should be of type ZeroShotPromptType. Skipping...\n",
      "Invalid VQAStrategyDetail: Invalid combination: VQAStrategyType.ZERO_SHOT with RagQPromptType.V4. 'prompt_type' should be of type ZeroShotPromptType. Skipping...\n",
      "Invalid VQAStrategyDetail: Invalid combination: VQAStrategyType.ZERO_SHOT with RagQPromptType.V4. 'prompt_type' should be of type ZeroShotPromptType. Skipping...\n",
      "Invalid VQAStrategyDetail: Invalid combination: VQAStrategyType.ZERO_SHOT with RagQPromptType.V4. 'prompt_type' should be of type ZeroShotPromptType. Skipping...\n",
      "Invalid VQAStrategyDetail: Invalid combination: VQAStrategyType.ZERO_SHOT with RagQPromptType.V4. 'prompt_type' should be of type ZeroShotPromptType. Skipping...\n",
      "Invalid VQAStrategyDetail: Invalid combination: VQAStrategyType.ZERO_SHOT with RagQPromptType.V4. 'prompt_type' should be of type ZeroShotPromptType. Skipping...\n",
      "Invalid VQAStrategyDetail: Invalid combination: VQAStrategyType.ZERO_SHOT with RagQPromptType.V5. 'prompt_type' should be of type ZeroShotPromptType. Skipping...\n",
      "Invalid VQAStrategyDetail: Invalid combination: VQAStrategyType.ZERO_SHOT with RagQPromptType.V5. 'prompt_type' should be of type ZeroShotPromptType. Skipping...\n",
      "Invalid VQAStrategyDetail: Invalid combination: VQAStrategyType.ZERO_SHOT with RagQPromptType.V5. 'prompt_type' should be of type ZeroShotPromptType. Skipping...\n",
      "Invalid VQAStrategyDetail: Invalid combination: VQAStrategyType.ZERO_SHOT with RagQPromptType.V5. 'prompt_type' should be of type ZeroShotPromptType. Skipping...\n",
      "Invalid VQAStrategyDetail: Invalid combination: VQAStrategyType.ZERO_SHOT with RagQPromptType.V5. 'prompt_type' should be of type ZeroShotPromptType. Skipping...\n",
      "Invalid VQAStrategyDetail: Invalid combination: VQAStrategyType.ZERO_SHOT with RagQPromptType.V5. 'prompt_type' should be of type ZeroShotPromptType. Skipping...\n",
      "Invalid VQAStrategyDetail: Invalid combination: VQAStrategyType.ZERO_SHOT with RagQPromptType.V5. 'prompt_type' should be of type ZeroShotPromptType. Skipping...\n",
      "Invalid VQAStrategyDetail: Invalid combination: VQAStrategyType.ZERO_SHOT with RagQPromptType.V5. 'prompt_type' should be of type ZeroShotPromptType. Skipping...\n",
      "Invalid VQAStrategyDetail: Invalid combination: VQAStrategyType.ZERO_SHOT with RagQPromptType.V5. 'prompt_type' should be of type ZeroShotPromptType. Skipping...\n",
      "Invalid VQAStrategyDetail: Invalid combination: VQAStrategyType.ZERO_SHOT with RagQPromptType.V5. 'prompt_type' should be of type ZeroShotPromptType. Skipping...\n",
      "Invalid VQAStrategyDetail: Invalid combination: VQAStrategyType.ZERO_SHOT with RagQPromptType.V5. 'prompt_type' should be of type ZeroShotPromptType. Skipping...\n",
      "Invalid VQAStrategyDetail: Invalid combination: VQAStrategyType.ZERO_SHOT with RagQPromptType.V5. 'prompt_type' should be of type ZeroShotPromptType. Skipping...\n",
      "Invalid VQAStrategyDetail: Invalid combination: VQAStrategyType.ZERO_SHOT with RagQPromptType.V5. 'prompt_type' should be of type ZeroShotPromptType. Skipping...\n",
      "Invalid VQAStrategyDetail: Invalid combination: VQAStrategyType.ZERO_SHOT with RagQPromptType.V5. 'prompt_type' should be of type ZeroShotPromptType. Skipping...\n",
      "Invalid VQAStrategyDetail: Invalid combination: VQAStrategyType.ZERO_SHOT with RagQPromptType.V5. 'prompt_type' should be of type ZeroShotPromptType. Skipping...\n",
      "Invalid VQAStrategyDetail: Invalid combination: VQAStrategyType.ZERO_SHOT with RagQPromptType.V5. 'prompt_type' should be of type ZeroShotPromptType. Skipping...\n",
      "Invalid VQAStrategyDetail: Invalid combination: VQAStrategyType.ZERO_SHOT with RagQPromptType.V5. 'prompt_type' should be of type ZeroShotPromptType. Skipping...\n",
      "Invalid VQAStrategyDetail: Invalid combination: VQAStrategyType.ZERO_SHOT with RagQPromptType.V5. 'prompt_type' should be of type ZeroShotPromptType. Skipping...\n",
      "Invalid VQAStrategyDetail: Invalid combination: VQAStrategyType.ZERO_SHOT with RagQPromptType.V5. 'prompt_type' should be of type ZeroShotPromptType. Skipping...\n",
      "Invalid VQAStrategyDetail: Invalid combination: VQAStrategyType.ZERO_SHOT with RagQPromptType.V5. 'prompt_type' should be of type ZeroShotPromptType. Skipping...\n",
      "Invalid VQAStrategyDetail: Invalid combination: VQAStrategyType.ZERO_SHOT with RagQPromptType.V5. 'prompt_type' should be of type ZeroShotPromptType. Skipping...\n",
      "Invalid VQAStrategyDetail: Invalid combination: VQAStrategyType.ZERO_SHOT with RagQPromptType.V5. 'prompt_type' should be of type ZeroShotPromptType. Skipping...\n",
      "Invalid VQAStrategyDetail: Invalid combination: VQAStrategyType.ZERO_SHOT with RagQPromptType.V5. 'prompt_type' should be of type ZeroShotPromptType. Skipping...\n",
      "Invalid VQAStrategyDetail: Invalid combination: VQAStrategyType.ZERO_SHOT with RagQPromptType.V5. 'prompt_type' should be of type ZeroShotPromptType. Skipping...\n",
      "Invalid VQAStrategyDetail: Invalid combination: VQAStrategyType.ZERO_SHOT with RagQPromptType.V5. 'prompt_type' should be of type ZeroShotPromptType. Skipping...\n",
      "Invalid VQAStrategyDetail: Invalid combination: VQAStrategyType.ZERO_SHOT with RagQPromptType.V5. 'prompt_type' should be of type ZeroShotPromptType. Skipping...\n",
      "Invalid VQAStrategyDetail: Invalid combination: VQAStrategyType.ZERO_SHOT with RagQPromptType.V5. 'prompt_type' should be of type ZeroShotPromptType. Skipping...\n",
      "Invalid VQAStrategyDetail: Invalid combination: VQAStrategyType.ZERO_SHOT with RagQPromptType.V5. 'prompt_type' should be of type ZeroShotPromptType. Skipping...\n",
      "Invalid VQAStrategyDetail: Invalid combination: VQAStrategyType.ZERO_SHOT with RagQPromptType.V5. 'prompt_type' should be of type ZeroShotPromptType. Skipping...\n",
      "Invalid VQAStrategyDetail: Invalid combination: VQAStrategyType.ZERO_SHOT with RagQPromptType.V5. 'prompt_type' should be of type ZeroShotPromptType. Skipping...\n",
      "Invalid VQAStrategyDetail: Invalid combination: VQAStrategyType.ZERO_SHOT with RagQPromptType.V5. 'prompt_type' should be of type ZeroShotPromptType. Skipping...\n",
      "Invalid VQAStrategyDetail: Invalid combination: VQAStrategyType.ZERO_SHOT with RagQPromptType.V5. 'prompt_type' should be of type ZeroShotPromptType. Skipping...\n",
      "Invalid VQAStrategyDetail: Invalid combination: VQAStrategyType.ZERO_SHOT with RagQPromptType.V5. 'prompt_type' should be of type ZeroShotPromptType. Skipping...\n",
      "Invalid VQAStrategyDetail: Invalid combination: VQAStrategyType.ZERO_SHOT with RagQPromptType.V5. 'prompt_type' should be of type ZeroShotPromptType. Skipping...\n",
      "Invalid VQAStrategyDetail: Invalid combination: VQAStrategyType.ZERO_SHOT with RagQPromptType.V5. 'prompt_type' should be of type ZeroShotPromptType. Skipping...\n",
      "Invalid VQAStrategyDetail: Invalid combination: VQAStrategyType.ZERO_SHOT with RagQPromptType.V5. 'prompt_type' should be of type ZeroShotPromptType. Skipping...\n",
      "Invalid VQAStrategyDetail: Invalid combination: VQAStrategyType.ZERO_SHOT with RagQPromptType.V5. 'prompt_type' should be of type ZeroShotPromptType. Skipping...\n",
      "Invalid VQAStrategyDetail: Invalid combination: VQAStrategyType.ZERO_SHOT with RagQPromptType.V5. 'prompt_type' should be of type ZeroShotPromptType. Skipping...\n",
      "Invalid VQAStrategyDetail: Invalid combination: VQAStrategyType.ZERO_SHOT with RagQPromptType.V5. 'prompt_type' should be of type ZeroShotPromptType. Skipping...\n",
      "Invalid VQAStrategyDetail: Invalid combination: VQAStrategyType.ZERO_SHOT with RagQPromptType.V5. 'prompt_type' should be of type ZeroShotPromptType. Skipping...\n",
      "Invalid VQAStrategyDetail: Invalid combination: VQAStrategyType.ZERO_SHOT with RagQPromptType.V5. 'prompt_type' should be of type ZeroShotPromptType. Skipping...\n",
      "Invalid VQAStrategyDetail: Invalid combination: VQAStrategyType.ZERO_SHOT with RagQPromptType.V5. 'prompt_type' should be of type ZeroShotPromptType. Skipping...\n",
      "Invalid VQAStrategyDetail: Invalid combination: VQAStrategyType.ZERO_SHOT with RagQPromptType.V5. 'prompt_type' should be of type ZeroShotPromptType. Skipping...\n",
      "Invalid VQAStrategyDetail: Invalid combination: VQAStrategyType.ZERO_SHOT with RagQPromptType.V5. 'prompt_type' should be of type ZeroShotPromptType. Skipping...\n",
      "Invalid VQAStrategyDetail: Invalid combination: VQAStrategyType.ZERO_SHOT with RagQPromptType.V5. 'prompt_type' should be of type ZeroShotPromptType. Skipping...\n",
      "Invalid VQAStrategyDetail: Invalid combination: VQAStrategyType.ZERO_SHOT with RagQPromptType.V5. 'prompt_type' should be of type ZeroShotPromptType. Skipping...\n",
      "Invalid VQAStrategyDetail: Invalid combination: VQAStrategyType.ZERO_SHOT with RagQPromptType.V5. 'prompt_type' should be of type ZeroShotPromptType. Skipping...\n",
      "Invalid VQAStrategyDetail: Invalid combination: VQAStrategyType.ZERO_SHOT with RagQPromptType.V5. 'prompt_type' should be of type ZeroShotPromptType. Skipping...\n",
      "Invalid VQAStrategyDetail: Invalid combination: VQAStrategyType.ZERO_SHOT with RagQPromptType.V5. 'prompt_type' should be of type ZeroShotPromptType. Skipping...\n",
      "Invalid VQAStrategyDetail: Invalid combination: VQAStrategyType.ZERO_SHOT with RagQPromptType.V5. 'prompt_type' should be of type ZeroShotPromptType. Skipping...\n",
      "Invalid VQAStrategyDetail: Invalid combination: VQAStrategyType.ZERO_SHOT with RagQPromptType.V5. 'prompt_type' should be of type ZeroShotPromptType. Skipping...\n",
      "Invalid VQAStrategyDetail: Invalid combination: VQAStrategyType.ZERO_SHOT with RagQPromptType.V5. 'prompt_type' should be of type ZeroShotPromptType. Skipping...\n",
      "Invalid VQAStrategyDetail: Invalid combination: VQAStrategyType.ZERO_SHOT with RagQPromptType.V5. 'prompt_type' should be of type ZeroShotPromptType. Skipping...\n",
      "Invalid VQAStrategyDetail: Invalid combination: VQAStrategyType.ZERO_SHOT with RagQPromptType.V5. 'prompt_type' should be of type ZeroShotPromptType. Skipping...\n",
      "Invalid VQAStrategyDetail: Invalid combination: VQAStrategyType.ZERO_SHOT with RagQPromptType.V5. 'prompt_type' should be of type ZeroShotPromptType. Skipping...\n",
      "Invalid VQAStrategyDetail: Invalid combination: VQAStrategyType.ZERO_SHOT with RagQPromptType.V5. 'prompt_type' should be of type ZeroShotPromptType. Skipping...\n",
      "Invalid VQAStrategyDetail: Invalid combination: VQAStrategyType.ZERO_SHOT with RagQPromptType.V5. 'prompt_type' should be of type ZeroShotPromptType. Skipping...\n",
      "Invalid VQAStrategyDetail: Invalid combination: VQAStrategyType.ZERO_SHOT with RagQPromptType.V5. 'prompt_type' should be of type ZeroShotPromptType. Skipping...\n",
      "Invalid VQAStrategyDetail: Invalid combination: VQAStrategyType.ZERO_SHOT with RagQPromptType.V5. 'prompt_type' should be of type ZeroShotPromptType. Skipping...\n",
      "Invalid VQAStrategyDetail: Invalid combination: VQAStrategyType.ZERO_SHOT with RagQPromptType.V5. 'prompt_type' should be of type ZeroShotPromptType. Skipping...\n",
      "Invalid VQAStrategyDetail: Invalid combination: VQAStrategyType.ZERO_SHOT with RagQPromptType.V5. 'prompt_type' should be of type ZeroShotPromptType. Skipping...\n",
      "Invalid VQAStrategyDetail: Invalid combination: VQAStrategyType.ZERO_SHOT with RagQPromptType.V5. 'prompt_type' should be of type ZeroShotPromptType. Skipping...\n",
      "Invalid VQAStrategyDetail: Invalid combination: VQAStrategyType.ZERO_SHOT with RagQPromptType.V5. 'prompt_type' should be of type ZeroShotPromptType. Skipping...\n",
      "Invalid VQAStrategyDetail: Invalid combination: VQAStrategyType.ZERO_SHOT with RagQPromptType.V5. 'prompt_type' should be of type ZeroShotPromptType. Skipping...\n",
      "Invalid VQAStrategyDetail: Invalid combination: VQAStrategyType.ZERO_SHOT with RagQPromptType.V5. 'prompt_type' should be of type ZeroShotPromptType. Skipping...\n",
      "Invalid VQAStrategyDetail: Invalid combination: VQAStrategyType.ZERO_SHOT with RagQPromptType.V5. 'prompt_type' should be of type ZeroShotPromptType. Skipping...\n",
      "Invalid VQAStrategyDetail: Invalid combination: VQAStrategyType.ZERO_SHOT with RagQPromptType.V5. 'prompt_type' should be of type ZeroShotPromptType. Skipping...\n",
      "Invalid VQAStrategyDetail: Invalid combination: VQAStrategyType.ZERO_SHOT with RagQPromptType.V5. 'prompt_type' should be of type ZeroShotPromptType. Skipping...\n",
      "Invalid VQAStrategyDetail: Invalid combination: VQAStrategyType.ZERO_SHOT with RagQPromptType.V5. 'prompt_type' should be of type ZeroShotPromptType. Skipping...\n",
      "Invalid VQAStrategyDetail: Invalid combination: VQAStrategyType.ZERO_SHOT with RagQPromptType.V5. 'prompt_type' should be of type ZeroShotPromptType. Skipping...\n",
      "Invalid VQAStrategyDetail: Invalid combination: VQAStrategyType.ZERO_SHOT with RagQPromptType.V5. 'prompt_type' should be of type ZeroShotPromptType. Skipping...\n",
      "Invalid VQAStrategyDetail: Invalid combination: VQAStrategyType.ZERO_SHOT with RagQPromptType.V5. 'prompt_type' should be of type ZeroShotPromptType. Skipping...\n",
      "Invalid VQAStrategyDetail: Invalid combination: VQAStrategyType.ZERO_SHOT with RagQPromptType.V5. 'prompt_type' should be of type ZeroShotPromptType. Skipping...\n",
      "Invalid VQAStrategyDetail: Invalid combination: VQAStrategyType.ZERO_SHOT with RagQPromptType.V5. 'prompt_type' should be of type ZeroShotPromptType. Skipping...\n",
      "Invalid VQAStrategyDetail: Invalid combination: VQAStrategyType.ZERO_SHOT with RagQPromptType.V5. 'prompt_type' should be of type ZeroShotPromptType. Skipping...\n",
      "Invalid VQAStrategyDetail: Invalid combination: VQAStrategyType.ZERO_SHOT with RagQPromptType.V5. 'prompt_type' should be of type ZeroShotPromptType. Skipping...\n",
      "Invalid VQAStrategyDetail: Invalid combination: VQAStrategyType.ZERO_SHOT with RagQPromptType.V5. 'prompt_type' should be of type ZeroShotPromptType. Skipping...\n",
      "Invalid VQAStrategyDetail: Invalid combination: VQAStrategyType.ZERO_SHOT with RagQPromptType.V5. 'prompt_type' should be of type ZeroShotPromptType. Skipping...\n",
      "Invalid VQAStrategyDetail: Invalid combination: VQAStrategyType.ZERO_SHOT with RagQPromptType.V5. 'prompt_type' should be of type ZeroShotPromptType. Skipping...\n",
      "Invalid VQAStrategyDetail: Invalid combination: VQAStrategyType.ZERO_SHOT with RagQPromptType.V5. 'prompt_type' should be of type ZeroShotPromptType. Skipping...\n",
      "Invalid VQAStrategyDetail: Invalid combination: VQAStrategyType.ZERO_SHOT with RagQPromptType.V5. 'prompt_type' should be of type ZeroShotPromptType. Skipping...\n",
      "Invalid VQAStrategyDetail: Invalid combination: VQAStrategyType.ZERO_SHOT with RagQPromptType.V5. 'prompt_type' should be of type ZeroShotPromptType. Skipping...\n",
      "Invalid VQAStrategyDetail: Invalid combination: VQAStrategyType.ZERO_SHOT with RagQPromptType.V5. 'prompt_type' should be of type ZeroShotPromptType. Skipping...\n",
      "Invalid VQAStrategyDetail: Invalid combination: VQAStrategyType.ZERO_SHOT with RagQPromptType.V5. 'prompt_type' should be of type ZeroShotPromptType. Skipping...\n",
      "Invalid VQAStrategyDetail: Invalid combination: VQAStrategyType.ZERO_SHOT with RagQPromptType.V5. 'prompt_type' should be of type ZeroShotPromptType. Skipping...\n",
      "Invalid VQAStrategyDetail: Invalid combination: VQAStrategyType.ZERO_SHOT with RagQPromptType.V5. 'prompt_type' should be of type ZeroShotPromptType. Skipping...\n",
      "Invalid VQAStrategyDetail: Invalid combination: VQAStrategyType.ZERO_SHOT with RagQPromptType.V5. 'prompt_type' should be of type ZeroShotPromptType. Skipping...\n",
      "Invalid VQAStrategyDetail: Invalid combination: VQAStrategyType.ZERO_SHOT with RagQPromptType.V5. 'prompt_type' should be of type ZeroShotPromptType. Skipping...\n",
      "Invalid VQAStrategyDetail: Invalid combination: VQAStrategyType.ZERO_SHOT with RagQPromptType.V5. 'prompt_type' should be of type ZeroShotPromptType. Skipping...\n",
      "Invalid VQAStrategyDetail: Invalid combination: VQAStrategyType.ZERO_SHOT with RagQPromptType.V5. 'prompt_type' should be of type ZeroShotPromptType. Skipping...\n",
      "Invalid VQAStrategyDetail: Invalid combination: VQAStrategyType.ZERO_SHOT with RagQPromptType.V5. 'prompt_type' should be of type ZeroShotPromptType. Skipping...\n",
      "Invalid VQAStrategyDetail: Invalid combination: VQAStrategyType.ZERO_SHOT with RagQPromptType.V5. 'prompt_type' should be of type ZeroShotPromptType. Skipping...\n",
      "Invalid VQAStrategyDetail: Invalid combination: VQAStrategyType.ZERO_SHOT with RagQPromptType.V5. 'prompt_type' should be of type ZeroShotPromptType. Skipping...\n",
      "Invalid VQAStrategyDetail: Invalid combination: VQAStrategyType.ZERO_SHOT with RagQPromptType.V5. 'prompt_type' should be of type ZeroShotPromptType. Skipping...\n",
      "Invalid VQAStrategyDetail: Invalid combination: VQAStrategyType.ZERO_SHOT with RagQPromptType.V5. 'prompt_type' should be of type ZeroShotPromptType. Skipping...\n",
      "Invalid VQAStrategyDetail: Invalid combination: VQAStrategyType.ZERO_SHOT with RagQPromptType.V5. 'prompt_type' should be of type ZeroShotPromptType. Skipping...\n",
      "Invalid VQAStrategyDetail: Invalid combination: VQAStrategyType.ZERO_SHOT with RagQPromptType.V5. 'prompt_type' should be of type ZeroShotPromptType. Skipping...\n",
      "Invalid VQAStrategyDetail: Invalid combination: VQAStrategyType.ZERO_SHOT with RagQPromptType.V5. 'prompt_type' should be of type ZeroShotPromptType. Skipping...\n",
      "Invalid VQAStrategyDetail: Invalid combination: VQAStrategyType.ZERO_SHOT with RagQPromptType.V5. 'prompt_type' should be of type ZeroShotPromptType. Skipping...\n",
      "Invalid VQAStrategyDetail: Invalid combination: VQAStrategyType.ZERO_SHOT with RagQPromptType.V5. 'prompt_type' should be of type ZeroShotPromptType. Skipping...\n",
      "Invalid VQAStrategyDetail: Invalid combination: VQAStrategyType.ZERO_SHOT with RagQPromptType.V5. 'prompt_type' should be of type ZeroShotPromptType. Skipping...\n",
      "Invalid VQAStrategyDetail: Invalid combination: VQAStrategyType.ZERO_SHOT with RagQPromptType.V5. 'prompt_type' should be of type ZeroShotPromptType. Skipping...\n",
      "Invalid VQAStrategyDetail: Invalid combination: VQAStrategyType.ZERO_SHOT with RagQPromptType.V5. 'prompt_type' should be of type ZeroShotPromptType. Skipping...\n",
      "Invalid VQAStrategyDetail: Invalid combination: VQAStrategyType.ZERO_SHOT with RagQPromptType.V5. 'prompt_type' should be of type ZeroShotPromptType. Skipping...\n",
      "Invalid VQAStrategyDetail: Invalid combination: VQAStrategyType.ZERO_SHOT with RagQPromptType.V5. 'prompt_type' should be of type ZeroShotPromptType. Skipping...\n",
      "Invalid VQAStrategyDetail: Invalid combination: VQAStrategyType.ZERO_SHOT with RagQPromptType.V5. 'prompt_type' should be of type ZeroShotPromptType. Skipping...\n",
      "Invalid VQAStrategyDetail: Invalid combination: VQAStrategyType.ZERO_SHOT with RagQPromptType.V5. 'prompt_type' should be of type ZeroShotPromptType. Skipping...\n",
      "Invalid VQAStrategyDetail: Invalid combination: VQAStrategyType.ZERO_SHOT with RagQPromptType.V5. 'prompt_type' should be of type ZeroShotPromptType. Skipping...\n",
      "Invalid VQAStrategyDetail: Invalid combination: VQAStrategyType.ZERO_SHOT with RagQPromptType.V5. 'prompt_type' should be of type ZeroShotPromptType. Skipping...\n",
      "Invalid VQAStrategyDetail: Invalid combination: VQAStrategyType.ZERO_SHOT with RagQPromptType.V5. 'prompt_type' should be of type ZeroShotPromptType. Skipping...\n",
      "Invalid VQAStrategyDetail: Invalid combination: VQAStrategyType.ZERO_SHOT with RagQPromptType.V5. 'prompt_type' should be of type ZeroShotPromptType. Skipping...\n",
      "Invalid VQAStrategyDetail: Invalid combination: VQAStrategyType.ZERO_SHOT with RagQPromptType.V5. 'prompt_type' should be of type ZeroShotPromptType. Skipping...\n",
      "Invalid VQAStrategyDetail: Invalid combination: VQAStrategyType.ZERO_SHOT with RagQPromptType.V6. 'prompt_type' should be of type ZeroShotPromptType. Skipping...\n",
      "Invalid VQAStrategyDetail: Invalid combination: VQAStrategyType.ZERO_SHOT with RagQPromptType.V6. 'prompt_type' should be of type ZeroShotPromptType. Skipping...\n",
      "Invalid VQAStrategyDetail: Invalid combination: VQAStrategyType.ZERO_SHOT with RagQPromptType.V6. 'prompt_type' should be of type ZeroShotPromptType. Skipping...\n",
      "Invalid VQAStrategyDetail: Invalid combination: VQAStrategyType.ZERO_SHOT with RagQPromptType.V6. 'prompt_type' should be of type ZeroShotPromptType. Skipping...\n",
      "Invalid VQAStrategyDetail: Invalid combination: VQAStrategyType.ZERO_SHOT with RagQPromptType.V6. 'prompt_type' should be of type ZeroShotPromptType. Skipping...\n",
      "Invalid VQAStrategyDetail: Invalid combination: VQAStrategyType.ZERO_SHOT with RagQPromptType.V6. 'prompt_type' should be of type ZeroShotPromptType. Skipping...\n",
      "Invalid VQAStrategyDetail: Invalid combination: VQAStrategyType.ZERO_SHOT with RagQPromptType.V6. 'prompt_type' should be of type ZeroShotPromptType. Skipping...\n",
      "Invalid VQAStrategyDetail: Invalid combination: VQAStrategyType.ZERO_SHOT with RagQPromptType.V6. 'prompt_type' should be of type ZeroShotPromptType. Skipping...\n",
      "Invalid VQAStrategyDetail: Invalid combination: VQAStrategyType.ZERO_SHOT with RagQPromptType.V6. 'prompt_type' should be of type ZeroShotPromptType. Skipping...\n",
      "Invalid VQAStrategyDetail: Invalid combination: VQAStrategyType.ZERO_SHOT with RagQPromptType.V6. 'prompt_type' should be of type ZeroShotPromptType. Skipping...\n",
      "Invalid VQAStrategyDetail: Invalid combination: VQAStrategyType.ZERO_SHOT with RagQPromptType.V6. 'prompt_type' should be of type ZeroShotPromptType. Skipping...\n",
      "Invalid VQAStrategyDetail: Invalid combination: VQAStrategyType.ZERO_SHOT with RagQPromptType.V6. 'prompt_type' should be of type ZeroShotPromptType. Skipping...\n",
      "Invalid VQAStrategyDetail: Invalid combination: VQAStrategyType.ZERO_SHOT with RagQPromptType.V6. 'prompt_type' should be of type ZeroShotPromptType. Skipping...\n",
      "Invalid VQAStrategyDetail: Invalid combination: VQAStrategyType.ZERO_SHOT with RagQPromptType.V6. 'prompt_type' should be of type ZeroShotPromptType. Skipping...\n",
      "Invalid VQAStrategyDetail: Invalid combination: VQAStrategyType.ZERO_SHOT with RagQPromptType.V6. 'prompt_type' should be of type ZeroShotPromptType. Skipping...\n",
      "Invalid VQAStrategyDetail: Invalid combination: VQAStrategyType.ZERO_SHOT with RagQPromptType.V6. 'prompt_type' should be of type ZeroShotPromptType. Skipping...\n",
      "Invalid VQAStrategyDetail: Invalid combination: VQAStrategyType.ZERO_SHOT with RagQPromptType.V6. 'prompt_type' should be of type ZeroShotPromptType. Skipping...\n",
      "Invalid VQAStrategyDetail: Invalid combination: VQAStrategyType.ZERO_SHOT with RagQPromptType.V6. 'prompt_type' should be of type ZeroShotPromptType. Skipping...\n",
      "Invalid VQAStrategyDetail: Invalid combination: VQAStrategyType.ZERO_SHOT with RagQPromptType.V6. 'prompt_type' should be of type ZeroShotPromptType. Skipping...\n",
      "Invalid VQAStrategyDetail: Invalid combination: VQAStrategyType.ZERO_SHOT with RagQPromptType.V6. 'prompt_type' should be of type ZeroShotPromptType. Skipping...\n",
      "Invalid VQAStrategyDetail: Invalid combination: VQAStrategyType.ZERO_SHOT with RagQPromptType.V6. 'prompt_type' should be of type ZeroShotPromptType. Skipping...\n",
      "Invalid VQAStrategyDetail: Invalid combination: VQAStrategyType.ZERO_SHOT with RagQPromptType.V6. 'prompt_type' should be of type ZeroShotPromptType. Skipping...\n",
      "Invalid VQAStrategyDetail: Invalid combination: VQAStrategyType.ZERO_SHOT with RagQPromptType.V6. 'prompt_type' should be of type ZeroShotPromptType. Skipping...\n",
      "Invalid VQAStrategyDetail: Invalid combination: VQAStrategyType.ZERO_SHOT with RagQPromptType.V6. 'prompt_type' should be of type ZeroShotPromptType. Skipping...\n",
      "Invalid VQAStrategyDetail: Invalid combination: VQAStrategyType.ZERO_SHOT with RagQPromptType.V6. 'prompt_type' should be of type ZeroShotPromptType. Skipping...\n",
      "Invalid VQAStrategyDetail: Invalid combination: VQAStrategyType.ZERO_SHOT with RagQPromptType.V6. 'prompt_type' should be of type ZeroShotPromptType. Skipping...\n",
      "Invalid VQAStrategyDetail: Invalid combination: VQAStrategyType.ZERO_SHOT with RagQPromptType.V6. 'prompt_type' should be of type ZeroShotPromptType. Skipping...\n",
      "Invalid VQAStrategyDetail: Invalid combination: VQAStrategyType.ZERO_SHOT with RagQPromptType.V6. 'prompt_type' should be of type ZeroShotPromptType. Skipping...\n",
      "Invalid VQAStrategyDetail: Invalid combination: VQAStrategyType.ZERO_SHOT with RagQPromptType.V6. 'prompt_type' should be of type ZeroShotPromptType. Skipping...\n",
      "Invalid VQAStrategyDetail: Invalid combination: VQAStrategyType.ZERO_SHOT with RagQPromptType.V6. 'prompt_type' should be of type ZeroShotPromptType. Skipping...\n",
      "Invalid VQAStrategyDetail: Invalid combination: VQAStrategyType.ZERO_SHOT with RagQPromptType.V6. 'prompt_type' should be of type ZeroShotPromptType. Skipping...\n",
      "Invalid VQAStrategyDetail: Invalid combination: VQAStrategyType.ZERO_SHOT with RagQPromptType.V6. 'prompt_type' should be of type ZeroShotPromptType. Skipping...\n",
      "Invalid VQAStrategyDetail: Invalid combination: VQAStrategyType.ZERO_SHOT with RagQPromptType.V6. 'prompt_type' should be of type ZeroShotPromptType. Skipping...\n",
      "Invalid VQAStrategyDetail: Invalid combination: VQAStrategyType.ZERO_SHOT with RagQPromptType.V6. 'prompt_type' should be of type ZeroShotPromptType. Skipping...\n",
      "Invalid VQAStrategyDetail: Invalid combination: VQAStrategyType.ZERO_SHOT with RagQPromptType.V6. 'prompt_type' should be of type ZeroShotPromptType. Skipping...\n",
      "Invalid VQAStrategyDetail: Invalid combination: VQAStrategyType.ZERO_SHOT with RagQPromptType.V6. 'prompt_type' should be of type ZeroShotPromptType. Skipping...\n",
      "Invalid VQAStrategyDetail: Invalid combination: VQAStrategyType.ZERO_SHOT with RagQPromptType.V6. 'prompt_type' should be of type ZeroShotPromptType. Skipping...\n",
      "Invalid VQAStrategyDetail: Invalid combination: VQAStrategyType.ZERO_SHOT with RagQPromptType.V6. 'prompt_type' should be of type ZeroShotPromptType. Skipping...\n",
      "Invalid VQAStrategyDetail: Invalid combination: VQAStrategyType.ZERO_SHOT with RagQPromptType.V6. 'prompt_type' should be of type ZeroShotPromptType. Skipping...\n",
      "Invalid VQAStrategyDetail: Invalid combination: VQAStrategyType.ZERO_SHOT with RagQPromptType.V6. 'prompt_type' should be of type ZeroShotPromptType. Skipping...\n",
      "Invalid VQAStrategyDetail: Invalid combination: VQAStrategyType.ZERO_SHOT with RagQPromptType.V6. 'prompt_type' should be of type ZeroShotPromptType. Skipping...\n",
      "Invalid VQAStrategyDetail: Invalid combination: VQAStrategyType.ZERO_SHOT with RagQPromptType.V6. 'prompt_type' should be of type ZeroShotPromptType. Skipping...\n",
      "Invalid VQAStrategyDetail: Invalid combination: VQAStrategyType.ZERO_SHOT with RagQPromptType.V6. 'prompt_type' should be of type ZeroShotPromptType. Skipping...\n",
      "Invalid VQAStrategyDetail: Invalid combination: VQAStrategyType.ZERO_SHOT with RagQPromptType.V6. 'prompt_type' should be of type ZeroShotPromptType. Skipping...\n",
      "Invalid VQAStrategyDetail: Invalid combination: VQAStrategyType.ZERO_SHOT with RagQPromptType.V6. 'prompt_type' should be of type ZeroShotPromptType. Skipping...\n",
      "Invalid VQAStrategyDetail: Invalid combination: VQAStrategyType.ZERO_SHOT with RagQPromptType.V6. 'prompt_type' should be of type ZeroShotPromptType. Skipping...\n",
      "Invalid VQAStrategyDetail: Invalid combination: VQAStrategyType.ZERO_SHOT with RagQPromptType.V6. 'prompt_type' should be of type ZeroShotPromptType. Skipping...\n",
      "Invalid VQAStrategyDetail: Invalid combination: VQAStrategyType.ZERO_SHOT with RagQPromptType.V6. 'prompt_type' should be of type ZeroShotPromptType. Skipping...\n",
      "Invalid VQAStrategyDetail: Invalid combination: VQAStrategyType.ZERO_SHOT with RagQPromptType.V6. 'prompt_type' should be of type ZeroShotPromptType. Skipping...\n",
      "Invalid VQAStrategyDetail: Invalid combination: VQAStrategyType.ZERO_SHOT with RagQPromptType.V6. 'prompt_type' should be of type ZeroShotPromptType. Skipping...\n",
      "Invalid VQAStrategyDetail: Invalid combination: VQAStrategyType.ZERO_SHOT with RagQPromptType.V6. 'prompt_type' should be of type ZeroShotPromptType. Skipping...\n",
      "Invalid VQAStrategyDetail: Invalid combination: VQAStrategyType.ZERO_SHOT with RagQPromptType.V6. 'prompt_type' should be of type ZeroShotPromptType. Skipping...\n",
      "Invalid VQAStrategyDetail: Invalid combination: VQAStrategyType.ZERO_SHOT with RagQPromptType.V6. 'prompt_type' should be of type ZeroShotPromptType. Skipping...\n",
      "Invalid VQAStrategyDetail: Invalid combination: VQAStrategyType.ZERO_SHOT with RagQPromptType.V6. 'prompt_type' should be of type ZeroShotPromptType. Skipping...\n",
      "Invalid VQAStrategyDetail: Invalid combination: VQAStrategyType.ZERO_SHOT with RagQPromptType.V6. 'prompt_type' should be of type ZeroShotPromptType. Skipping...\n",
      "Invalid VQAStrategyDetail: Invalid combination: VQAStrategyType.ZERO_SHOT with RagQPromptType.V6. 'prompt_type' should be of type ZeroShotPromptType. Skipping...\n",
      "Invalid VQAStrategyDetail: Invalid combination: VQAStrategyType.ZERO_SHOT with RagQPromptType.V6. 'prompt_type' should be of type ZeroShotPromptType. Skipping...\n",
      "Invalid VQAStrategyDetail: Invalid combination: VQAStrategyType.ZERO_SHOT with RagQPromptType.V6. 'prompt_type' should be of type ZeroShotPromptType. Skipping...\n",
      "Invalid VQAStrategyDetail: Invalid combination: VQAStrategyType.ZERO_SHOT with RagQPromptType.V6. 'prompt_type' should be of type ZeroShotPromptType. Skipping...\n",
      "Invalid VQAStrategyDetail: Invalid combination: VQAStrategyType.ZERO_SHOT with RagQPromptType.V6. 'prompt_type' should be of type ZeroShotPromptType. Skipping...\n",
      "Invalid VQAStrategyDetail: Invalid combination: VQAStrategyType.ZERO_SHOT with RagQPromptType.V6. 'prompt_type' should be of type ZeroShotPromptType. Skipping...\n",
      "Invalid VQAStrategyDetail: Invalid combination: VQAStrategyType.ZERO_SHOT with RagQPromptType.V6. 'prompt_type' should be of type ZeroShotPromptType. Skipping...\n",
      "Invalid VQAStrategyDetail: Invalid combination: VQAStrategyType.ZERO_SHOT with RagQPromptType.V6. 'prompt_type' should be of type ZeroShotPromptType. Skipping...\n",
      "Invalid VQAStrategyDetail: Invalid combination: VQAStrategyType.ZERO_SHOT with RagQPromptType.V6. 'prompt_type' should be of type ZeroShotPromptType. Skipping...\n",
      "Invalid VQAStrategyDetail: Invalid combination: VQAStrategyType.ZERO_SHOT with RagQPromptType.V6. 'prompt_type' should be of type ZeroShotPromptType. Skipping...\n",
      "Invalid VQAStrategyDetail: Invalid combination: VQAStrategyType.ZERO_SHOT with RagQPromptType.V6. 'prompt_type' should be of type ZeroShotPromptType. Skipping...\n",
      "Invalid VQAStrategyDetail: Invalid combination: VQAStrategyType.ZERO_SHOT with RagQPromptType.V6. 'prompt_type' should be of type ZeroShotPromptType. Skipping...\n",
      "Invalid VQAStrategyDetail: Invalid combination: VQAStrategyType.ZERO_SHOT with RagQPromptType.V6. 'prompt_type' should be of type ZeroShotPromptType. Skipping...\n",
      "Invalid VQAStrategyDetail: Invalid combination: VQAStrategyType.ZERO_SHOT with RagQPromptType.V6. 'prompt_type' should be of type ZeroShotPromptType. Skipping...\n",
      "Invalid VQAStrategyDetail: Invalid combination: VQAStrategyType.ZERO_SHOT with RagQPromptType.V6. 'prompt_type' should be of type ZeroShotPromptType. Skipping...\n",
      "Invalid VQAStrategyDetail: Invalid combination: VQAStrategyType.ZERO_SHOT with RagQPromptType.V6. 'prompt_type' should be of type ZeroShotPromptType. Skipping...\n",
      "Invalid VQAStrategyDetail: Invalid combination: VQAStrategyType.ZERO_SHOT with RagQPromptType.V6. 'prompt_type' should be of type ZeroShotPromptType. Skipping...\n",
      "Invalid VQAStrategyDetail: Invalid combination: VQAStrategyType.ZERO_SHOT with RagQPromptType.V6. 'prompt_type' should be of type ZeroShotPromptType. Skipping...\n",
      "Invalid VQAStrategyDetail: Invalid combination: VQAStrategyType.ZERO_SHOT with RagQPromptType.V6. 'prompt_type' should be of type ZeroShotPromptType. Skipping...\n",
      "Invalid VQAStrategyDetail: Invalid combination: VQAStrategyType.ZERO_SHOT with RagQPromptType.V6. 'prompt_type' should be of type ZeroShotPromptType. Skipping...\n",
      "Invalid VQAStrategyDetail: Invalid combination: VQAStrategyType.ZERO_SHOT with RagQPromptType.V6. 'prompt_type' should be of type ZeroShotPromptType. Skipping...\n",
      "Invalid VQAStrategyDetail: Invalid combination: VQAStrategyType.ZERO_SHOT with RagQPromptType.V6. 'prompt_type' should be of type ZeroShotPromptType. Skipping...\n",
      "Invalid VQAStrategyDetail: Invalid combination: VQAStrategyType.ZERO_SHOT with RagQPromptType.V6. 'prompt_type' should be of type ZeroShotPromptType. Skipping...\n",
      "Invalid VQAStrategyDetail: Invalid combination: VQAStrategyType.ZERO_SHOT with RagQPromptType.V6. 'prompt_type' should be of type ZeroShotPromptType. Skipping...\n",
      "Invalid VQAStrategyDetail: Invalid combination: VQAStrategyType.ZERO_SHOT with RagQPromptType.V6. 'prompt_type' should be of type ZeroShotPromptType. Skipping...\n",
      "Invalid VQAStrategyDetail: Invalid combination: VQAStrategyType.ZERO_SHOT with RagQPromptType.V6. 'prompt_type' should be of type ZeroShotPromptType. Skipping...\n",
      "Invalid VQAStrategyDetail: Invalid combination: VQAStrategyType.ZERO_SHOT with RagQPromptType.V6. 'prompt_type' should be of type ZeroShotPromptType. Skipping...\n",
      "Invalid VQAStrategyDetail: Invalid combination: VQAStrategyType.ZERO_SHOT with RagQPromptType.V6. 'prompt_type' should be of type ZeroShotPromptType. Skipping...\n",
      "Invalid VQAStrategyDetail: Invalid combination: VQAStrategyType.ZERO_SHOT with RagQPromptType.V6. 'prompt_type' should be of type ZeroShotPromptType. Skipping...\n",
      "Invalid VQAStrategyDetail: Invalid combination: VQAStrategyType.ZERO_SHOT with RagQPromptType.V6. 'prompt_type' should be of type ZeroShotPromptType. Skipping...\n",
      "Invalid VQAStrategyDetail: Invalid combination: VQAStrategyType.ZERO_SHOT with RagQPromptType.V6. 'prompt_type' should be of type ZeroShotPromptType. Skipping...\n",
      "Invalid VQAStrategyDetail: Invalid combination: VQAStrategyType.ZERO_SHOT with RagQPromptType.V6. 'prompt_type' should be of type ZeroShotPromptType. Skipping...\n",
      "Invalid VQAStrategyDetail: Invalid combination: VQAStrategyType.ZERO_SHOT with RagQPromptType.V6. 'prompt_type' should be of type ZeroShotPromptType. Skipping...\n",
      "Invalid VQAStrategyDetail: Invalid combination: VQAStrategyType.ZERO_SHOT with RagQPromptType.V6. 'prompt_type' should be of type ZeroShotPromptType. Skipping...\n",
      "Invalid VQAStrategyDetail: Invalid combination: VQAStrategyType.ZERO_SHOT with RagQPromptType.V6. 'prompt_type' should be of type ZeroShotPromptType. Skipping...\n",
      "Invalid VQAStrategyDetail: Invalid combination: VQAStrategyType.ZERO_SHOT with RagQPromptType.V6. 'prompt_type' should be of type ZeroShotPromptType. Skipping...\n",
      "Invalid VQAStrategyDetail: Invalid combination: VQAStrategyType.ZERO_SHOT with RagQPromptType.V6. 'prompt_type' should be of type ZeroShotPromptType. Skipping...\n",
      "Invalid VQAStrategyDetail: Invalid combination: VQAStrategyType.ZERO_SHOT with RagQPromptType.V6. 'prompt_type' should be of type ZeroShotPromptType. Skipping...\n",
      "Invalid VQAStrategyDetail: Invalid combination: VQAStrategyType.ZERO_SHOT with RagQPromptType.V6. 'prompt_type' should be of type ZeroShotPromptType. Skipping...\n",
      "Invalid VQAStrategyDetail: Invalid combination: VQAStrategyType.ZERO_SHOT with RagQPromptType.V6. 'prompt_type' should be of type ZeroShotPromptType. Skipping...\n",
      "Invalid VQAStrategyDetail: Invalid combination: VQAStrategyType.ZERO_SHOT with RagQPromptType.V6. 'prompt_type' should be of type ZeroShotPromptType. Skipping...\n",
      "Invalid VQAStrategyDetail: Invalid combination: VQAStrategyType.ZERO_SHOT with RagQPromptType.V6. 'prompt_type' should be of type ZeroShotPromptType. Skipping...\n",
      "Invalid VQAStrategyDetail: Invalid combination: VQAStrategyType.ZERO_SHOT with RagQPromptType.V6. 'prompt_type' should be of type ZeroShotPromptType. Skipping...\n",
      "Invalid VQAStrategyDetail: Invalid combination: VQAStrategyType.ZERO_SHOT with RagQPromptType.V6. 'prompt_type' should be of type ZeroShotPromptType. Skipping...\n",
      "Invalid VQAStrategyDetail: Invalid combination: VQAStrategyType.ZERO_SHOT with RagQPromptType.V6. 'prompt_type' should be of type ZeroShotPromptType. Skipping...\n",
      "Invalid VQAStrategyDetail: Invalid combination: VQAStrategyType.ZERO_SHOT with RagQPromptType.V6. 'prompt_type' should be of type ZeroShotPromptType. Skipping...\n",
      "Invalid VQAStrategyDetail: Invalid combination: VQAStrategyType.ZERO_SHOT with RagQPromptType.V6. 'prompt_type' should be of type ZeroShotPromptType. Skipping...\n",
      "Invalid VQAStrategyDetail: Invalid combination: VQAStrategyType.ZERO_SHOT with RagQPromptType.V6. 'prompt_type' should be of type ZeroShotPromptType. Skipping...\n",
      "Invalid VQAStrategyDetail: Invalid combination: VQAStrategyType.ZERO_SHOT with RagQPromptType.V6. 'prompt_type' should be of type ZeroShotPromptType. Skipping...\n",
      "Invalid VQAStrategyDetail: Invalid combination: VQAStrategyType.ZERO_SHOT with RagQPromptType.V6. 'prompt_type' should be of type ZeroShotPromptType. Skipping...\n",
      "Invalid VQAStrategyDetail: Invalid combination: VQAStrategyType.ZERO_SHOT with RagQPromptType.V6. 'prompt_type' should be of type ZeroShotPromptType. Skipping...\n",
      "Invalid VQAStrategyDetail: Invalid combination: VQAStrategyType.ZERO_SHOT with RagQPromptType.V6. 'prompt_type' should be of type ZeroShotPromptType. Skipping...\n",
      "Invalid VQAStrategyDetail: Invalid combination: VQAStrategyType.ZERO_SHOT with RagQPromptType.V6. 'prompt_type' should be of type ZeroShotPromptType. Skipping...\n",
      "Invalid VQAStrategyDetail: Invalid combination: VQAStrategyType.ZERO_SHOT with RagQPromptType.V6. 'prompt_type' should be of type ZeroShotPromptType. Skipping...\n",
      "Invalid VQAStrategyDetail: Invalid combination: VQAStrategyType.ZERO_SHOT with RagQPromptType.V6. 'prompt_type' should be of type ZeroShotPromptType. Skipping...\n",
      "Invalid VQAStrategyDetail: Invalid combination: VQAStrategyType.ZERO_SHOT with RagQPromptType.V6. 'prompt_type' should be of type ZeroShotPromptType. Skipping...\n",
      "Invalid VQAStrategyDetail: Invalid combination: VQAStrategyType.ZERO_SHOT with RagQPromptType.V6. 'prompt_type' should be of type ZeroShotPromptType. Skipping...\n",
      "Invalid VQAStrategyDetail: If 'vqa_strategy_type' is of type VQAStrategyType.ZERO_SHOT, 'doc_splitter_options' must be None. Skipping...\n",
      "Invalid VQAStrategyDetail: If 'vqa_strategy_type' is of type VQAStrategyType.ZERO_SHOT, 'doc_splitter_options' must be None. Skipping...\n",
      "Invalid VQAStrategyDetail: If 'vqa_strategy_type' is of type VQAStrategyType.ZERO_SHOT, 'doc_splitter_options' must be None. Skipping...\n",
      "Invalid VQAStrategyDetail: If 'vqa_strategy_type' is of type VQAStrategyType.ZERO_SHOT, 'doc_splitter_options' must be None. Skipping...\n",
      "Invalid VQAStrategyDetail: If 'vqa_strategy_type' is of type VQAStrategyType.ZERO_SHOT, 'doc_splitter_options' must be None. Skipping...\n",
      "Invalid VQAStrategyDetail: If 'vqa_strategy_type' is of type VQAStrategyType.ZERO_SHOT, 'doc_splitter_options' must be None. Skipping...\n",
      "Invalid VQAStrategyDetail: If 'vqa_strategy_type' is of type VQAStrategyType.ZERO_SHOT, 'doc_splitter_options' must be None. Skipping...\n",
      "Invalid VQAStrategyDetail: If 'vqa_strategy_type' is of type VQAStrategyType.ZERO_SHOT, 'doc_splitter_options' must be None. Skipping...\n",
      "Invalid VQAStrategyDetail: If 'vqa_strategy_type' is of type VQAStrategyType.ZERO_SHOT, 'doc_splitter_options' must be None. Skipping...\n",
      "Invalid VQAStrategyDetail: If 'vqa_strategy_type' is of type VQAStrategyType.ZERO_SHOT, 'doc_splitter_options' must be None. Skipping...\n",
      "Invalid VQAStrategyDetail: If 'vqa_strategy_type' is of type VQAStrategyType.ZERO_SHOT, 'doc_splitter_options' must be None. Skipping...\n",
      "Invalid VQAStrategyDetail: If 'vqa_strategy_type' is of type VQAStrategyType.ZERO_SHOT, 'doc_splitter_options' must be None. Skipping...\n",
      "Invalid VQAStrategyDetail: If 'vqa_strategy_type' is of type VQAStrategyType.ZERO_SHOT, 'doc_splitter_options' must be None. Skipping...\n",
      "Invalid VQAStrategyDetail: If 'vqa_strategy_type' is of type VQAStrategyType.ZERO_SHOT, 'doc_splitter_options' must be None. Skipping...\n",
      "Invalid VQAStrategyDetail: If 'vqa_strategy_type' is of type VQAStrategyType.ZERO_SHOT, 'doc_splitter_options' must be None. Skipping...\n",
      "Invalid VQAStrategyDetail: If 'vqa_strategy_type' is of type VQAStrategyType.ZERO_SHOT, 'doc_splitter_options' must be None. Skipping...\n",
      "Invalid VQAStrategyDetail: If 'vqa_strategy_type' is of type VQAStrategyType.ZERO_SHOT, 'doc_splitter_options' must be None. Skipping...\n",
      "Invalid VQAStrategyDetail: If 'vqa_strategy_type' is of type VQAStrategyType.ZERO_SHOT, 'doc_splitter_options' must be None. Skipping...\n",
      "Invalid VQAStrategyDetail: If 'vqa_strategy_type' is of type VQAStrategyType.ZERO_SHOT, 'doc_splitter_options' must be None. Skipping...\n",
      "Invalid VQAStrategyDetail: If 'vqa_strategy_type' is of type VQAStrategyType.ZERO_SHOT, 'doc_splitter_options' must be None. Skipping...\n",
      "Invalid VQAStrategyDetail: If 'vqa_strategy_type' is of type VQAStrategyType.ZERO_SHOT, 'doc_splitter_options' must be None. Skipping...\n",
      "Invalid VQAStrategyDetail: If 'vqa_strategy_type' is of type VQAStrategyType.ZERO_SHOT, 'doc_splitter_options' must be None. Skipping...\n",
      "Invalid VQAStrategyDetail: If 'vqa_strategy_type' is of type VQAStrategyType.ZERO_SHOT, 'doc_splitter_options' must be None. Skipping...\n",
      "Invalid VQAStrategyDetail: If 'vqa_strategy_type' is of type VQAStrategyType.ZERO_SHOT, 'doc_splitter_options' must be None. Skipping...\n",
      "Invalid VQAStrategyDetail: If 'vqa_strategy_type' is of type VQAStrategyType.ZERO_SHOT, 'doc_splitter_options' must be None. Skipping...\n",
      "Invalid VQAStrategyDetail: If 'vqa_strategy_type' is of type VQAStrategyType.ZERO_SHOT, 'doc_splitter_options' must be None. Skipping...\n",
      "Invalid VQAStrategyDetail: If 'vqa_strategy_type' is of type VQAStrategyType.ZERO_SHOT, 'doc_splitter_options' must be None. Skipping...\n",
      "Invalid VQAStrategyDetail: If 'vqa_strategy_type' is of type VQAStrategyType.ZERO_SHOT, 'relevant_docs_count' must be None. Skipping...\n",
      "Invalid VQAStrategyDetail: If 'vqa_strategy_type' is of type VQAStrategyType.ZERO_SHOT, 'relevant_docs_count' must be None. Skipping...\n",
      "Invalid VQAStrategyDetail: If 'vqa_strategy_type' is of type VQAStrategyType.ZERO_SHOT, 'relevant_docs_count' must be None. Skipping...\n",
      "Invalid VQAStrategyDetail: If 'vqa_strategy_type' is of type VQAStrategyType.ZERO_SHOT, 'relevant_docs_count' must be None. Skipping...\n",
      "Invalid VQAStrategyDetail: If 'vqa_strategy_type' is of type VQAStrategyType.ZERO_SHOT, 'relevant_docs_count' must be None. Skipping...\n",
      "Invalid VQAStrategyDetail: If 'vqa_strategy_type' is of type VQAStrategyType.ZERO_SHOT, 'relevant_docs_count' must be None. Skipping...\n",
      "Invalid VQAStrategyDetail: If 'vqa_strategy_type' is of type VQAStrategyType.ZERO_SHOT, 'relevant_docs_count' must be None. Skipping...\n",
      "Invalid VQAStrategyDetail: If 'vqa_strategy_type' is of type VQAStrategyType.ZERO_SHOT, 'relevant_docs_count' must be None. Skipping...\n",
      "Invalid VQAStrategyDetail: If 'vqa_strategy_type' is of type VQAStrategyType.ZERO_SHOT, 'relevant_docs_count' must be None. Skipping...\n",
      "Invalid VQAStrategyDetail: If 'vqa_strategy_type' is of type VQAStrategyType.ZERO_SHOT, 'relevant_docs_count' must be None. Skipping...\n",
      "Invalid VQAStrategyDetail: If 'vqa_strategy_type' is of type VQAStrategyType.ZERO_SHOT, 'relevant_docs_count' must be None. Skipping...\n",
      "Invalid VQAStrategyDetail: If 'vqa_strategy_type' is of type VQAStrategyType.ZERO_SHOT, 'relevant_docs_count' must be None. Skipping...\n",
      "Invalid VQAStrategyDetail: If 'vqa_strategy_type' is of type VQAStrategyType.ZERO_SHOT, 'relevant_docs_count' must be None. Skipping...\n",
      "Invalid VQAStrategyDetail: If 'vqa_strategy_type' is of type VQAStrategyType.ZERO_SHOT, 'relevant_docs_count' must be None. Skipping...\n",
      "Invalid VQAStrategyDetail: If 'vqa_strategy_type' is of type VQAStrategyType.ZERO_SHOT, 'relevant_docs_count' must be None. Skipping...\n",
      "Invalid VQAStrategyDetail: If 'vqa_strategy_type' is of type VQAStrategyType.ZERO_SHOT, 'relevant_docs_count' must be None. Skipping...\n",
      "Invalid VQAStrategyDetail: If 'vqa_strategy_type' is of type VQAStrategyType.ZERO_SHOT, 'relevant_docs_count' must be None. Skipping...\n",
      "Invalid VQAStrategyDetail: If 'vqa_strategy_type' is of type VQAStrategyType.ZERO_SHOT, 'relevant_docs_count' must be None. Skipping...\n",
      "Invalid VQAStrategyDetail: If 'vqa_strategy_type' is of type VQAStrategyType.ZERO_SHOT, 'relevant_docs_count' must be None. Skipping...\n",
      "Invalid VQAStrategyDetail: If 'vqa_strategy_type' is of type VQAStrategyType.ZERO_SHOT, 'relevant_docs_count' must be None. Skipping...\n",
      "Invalid VQAStrategyDetail: If 'vqa_strategy_type' is of type VQAStrategyType.ZERO_SHOT, 'relevant_docs_count' must be None. Skipping...\n",
      "Invalid VQAStrategyDetail: If 'vqa_strategy_type' is of type VQAStrategyType.ZERO_SHOT, 'relevant_docs_count' must be None. Skipping...\n",
      "Invalid VQAStrategyDetail: If 'vqa_strategy_type' is of type VQAStrategyType.ZERO_SHOT, 'relevant_docs_count' must be None. Skipping...\n",
      "Invalid VQAStrategyDetail: If 'vqa_strategy_type' is of type VQAStrategyType.ZERO_SHOT, 'relevant_docs_count' must be None. Skipping...\n",
      "Invalid VQAStrategyDetail: If 'vqa_strategy_type' is of type VQAStrategyType.ZERO_SHOT, 'relevant_docs_count' must be None. Skipping...\n",
      "Invalid VQAStrategyDetail: If 'vqa_strategy_type' is of type VQAStrategyType.ZERO_SHOT, 'relevant_docs_count' must be None. Skipping...\n",
      "Invalid VQAStrategyDetail: If 'vqa_strategy_type' is of type VQAStrategyType.ZERO_SHOT, 'relevant_docs_count' must be None. Skipping...\n",
      "Invalid VQAStrategyDetail: If 'vqa_strategy_type' is of type VQAStrategyType.ZERO_SHOT, 'relevant_docs_count' must be None. Skipping...\n",
      "Invalid VQAStrategyDetail: If 'vqa_strategy_type' is of type VQAStrategyType.ZERO_SHOT, 'relevant_docs_count' must be None. Skipping...\n",
      "Invalid VQAStrategyDetail: If 'vqa_strategy_type' is of type VQAStrategyType.ZERO_SHOT, 'relevant_docs_count' must be None. Skipping...\n",
      "Invalid VQAStrategyDetail: If 'vqa_strategy_type' is of type VQAStrategyType.ZERO_SHOT, 'relevant_docs_count' must be None. Skipping...\n",
      "Invalid VQAStrategyDetail: If 'vqa_strategy_type' is of type VQAStrategyType.ZERO_SHOT, 'relevant_docs_count' must be None. Skipping...\n",
      "Invalid VQAStrategyDetail: If 'vqa_strategy_type' is of type VQAStrategyType.ZERO_SHOT, 'relevant_docs_count' must be None. Skipping...\n",
      "Invalid VQAStrategyDetail: If 'vqa_strategy_type' is of type VQAStrategyType.ZERO_SHOT, 'relevant_docs_count' must be None. Skipping...\n",
      "Invalid VQAStrategyDetail: If 'vqa_strategy_type' is of type VQAStrategyType.ZERO_SHOT, 'relevant_docs_count' must be None. Skipping...\n",
      "Invalid VQAStrategyDetail: If 'vqa_strategy_type' is of type VQAStrategyType.ZERO_SHOT, 'relevant_docs_count' must be None. Skipping...\n",
      "Invalid VQAStrategyDetail: If 'vqa_strategy_type' is of type VQAStrategyType.ZERO_SHOT, 'relevant_docs_count' must be None. Skipping...\n",
      "Invalid VQAStrategyDetail: If 'vqa_strategy_type' is of type VQAStrategyType.ZERO_SHOT, 'relevant_docs_count' must be None. Skipping...\n",
      "Invalid VQAStrategyDetail: If 'vqa_strategy_type' is of type VQAStrategyType.ZERO_SHOT, 'relevant_docs_count' must be None. Skipping...\n",
      "Invalid VQAStrategyDetail: If 'vqa_strategy_type' is of type VQAStrategyType.ZERO_SHOT, 'relevant_docs_count' must be None. Skipping...\n",
      "Invalid VQAStrategyDetail: If 'vqa_strategy_type' is of type VQAStrategyType.ZERO_SHOT, 'relevant_docs_count' must be None. Skipping...\n",
      "Invalid VQAStrategyDetail: If 'vqa_strategy_type' is of type VQAStrategyType.ZERO_SHOT, 'relevant_docs_count' must be None. Skipping...\n",
      "Invalid VQAStrategyDetail: If 'vqa_strategy_type' is of type VQAStrategyType.ZERO_SHOT, 'relevant_docs_count' must be None. Skipping...\n",
      "Invalid VQAStrategyDetail: If 'vqa_strategy_type' is of type VQAStrategyType.ZERO_SHOT, 'relevant_docs_count' must be None. Skipping...\n",
      "Invalid VQAStrategyDetail: If 'vqa_strategy_type' is of type VQAStrategyType.ZERO_SHOT, 'relevant_docs_count' must be None. Skipping...\n",
      "Invalid VQAStrategyDetail: If 'vqa_strategy_type' is of type VQAStrategyType.ZERO_SHOT, 'relevant_docs_count' must be None. Skipping...\n",
      "Invalid VQAStrategyDetail: If 'vqa_strategy_type' is of type VQAStrategyType.ZERO_SHOT, 'relevant_docs_count' must be None. Skipping...\n",
      "Invalid VQAStrategyDetail: If 'vqa_strategy_type' is of type VQAStrategyType.ZERO_SHOT, 'relevant_docs_count' must be None. Skipping...\n",
      "Invalid VQAStrategyDetail: If 'vqa_strategy_type' is of type VQAStrategyType.ZERO_SHOT, 'relevant_docs_count' must be None. Skipping...\n",
      "Invalid VQAStrategyDetail: If 'vqa_strategy_type' is of type VQAStrategyType.ZERO_SHOT, 'relevant_docs_count' must be None. Skipping...\n",
      "Invalid VQAStrategyDetail: If 'vqa_strategy_type' is of type VQAStrategyType.ZERO_SHOT, 'relevant_docs_count' must be None. Skipping...\n",
      "Invalid VQAStrategyDetail: If 'vqa_strategy_type' is of type VQAStrategyType.ZERO_SHOT, 'relevant_docs_count' must be None. Skipping...\n",
      "Invalid VQAStrategyDetail: If 'vqa_strategy_type' is of type VQAStrategyType.ZERO_SHOT, 'relevant_docs_count' must be None. Skipping...\n",
      "Invalid VQAStrategyDetail: If 'vqa_strategy_type' is of type VQAStrategyType.ZERO_SHOT, 'relevant_docs_count' must be None. Skipping...\n",
      "Invalid VQAStrategyDetail: If 'vqa_strategy_type' is of type VQAStrategyType.ZERO_SHOT, 'relevant_docs_count' must be None. Skipping...\n",
      "Invalid VQAStrategyDetail: If 'vqa_strategy_type' is of type VQAStrategyType.ZERO_SHOT, 'relevant_docs_count' must be None. Skipping...\n",
      "Invalid VQAStrategyDetail: If 'vqa_strategy_type' is of type VQAStrategyType.ZERO_SHOT, 'relevant_docs_count' must be None. Skipping...\n",
      "Invalid VQAStrategyDetail: If 'vqa_strategy_type' is of type VQAStrategyType.ZERO_SHOT, 'relevant_docs_count' must be None. Skipping...\n",
      "Invalid VQAStrategyDetail: If 'vqa_strategy_type' is of type VQAStrategyType.ZERO_SHOT, 'relevant_docs_count' must be None. Skipping...\n",
      "Invalid VQAStrategyDetail: If 'vqa_strategy_type' is of type VQAStrategyType.ZERO_SHOT, 'relevant_docs_count' must be None. Skipping...\n",
      "Invalid VQAStrategyDetail: If 'vqa_strategy_type' is of type VQAStrategyType.ZERO_SHOT, 'relevant_docs_count' must be None. Skipping...\n",
      "Invalid VQAStrategyDetail: If 'vqa_strategy_type' is of type VQAStrategyType.ZERO_SHOT, 'relevant_docs_count' must be None. Skipping...\n",
      "Invalid VQAStrategyDetail: If 'vqa_strategy_type' is of type VQAStrategyType.ZERO_SHOT, 'relevant_docs_count' must be None. Skipping...\n",
      "Invalid VQAStrategyDetail: If 'vqa_strategy_type' is of type VQAStrategyType.ZERO_SHOT, 'relevant_docs_count' must be None. Skipping...\n",
      "Invalid VQAStrategyDetail: If 'vqa_strategy_type' is of type VQAStrategyType.ZERO_SHOT, 'relevant_docs_count' must be None. Skipping...\n",
      "Invalid VQAStrategyDetail: If 'vqa_strategy_type' is of type VQAStrategyType.ZERO_SHOT, 'relevant_docs_count' must be None. Skipping...\n",
      "Invalid VQAStrategyDetail: If 'vqa_strategy_type' is of type VQAStrategyType.ZERO_SHOT, 'relevant_docs_count' must be None. Skipping...\n",
      "Invalid VQAStrategyDetail: If 'vqa_strategy_type' is of type VQAStrategyType.ZERO_SHOT, 'relevant_docs_count' must be None. Skipping...\n",
      "Invalid VQAStrategyDetail: If 'vqa_strategy_type' is of type VQAStrategyType.ZERO_SHOT, 'relevant_docs_count' must be None. Skipping...\n",
      "Invalid VQAStrategyDetail: If 'vqa_strategy_type' is of type VQAStrategyType.ZERO_SHOT, 'relevant_docs_count' must be None. Skipping...\n",
      "Invalid VQAStrategyDetail: If 'vqa_strategy_type' is of type VQAStrategyType.ZERO_SHOT, 'relevant_docs_count' must be None. Skipping...\n",
      "Invalid VQAStrategyDetail: If 'vqa_strategy_type' is of type VQAStrategyType.ZERO_SHOT, 'relevant_docs_count' must be None. Skipping...\n",
      "Invalid VQAStrategyDetail: If 'vqa_strategy_type' is of type VQAStrategyType.ZERO_SHOT, 'relevant_docs_count' must be None. Skipping...\n",
      "Invalid VQAStrategyDetail: If 'vqa_strategy_type' is of type VQAStrategyType.ZERO_SHOT, 'relevant_docs_count' must be None. Skipping...\n",
      "Invalid VQAStrategyDetail: If 'vqa_strategy_type' is of type VQAStrategyType.ZERO_SHOT, 'relevant_docs_count' must be None. Skipping...\n",
      "Invalid VQAStrategyDetail: If 'vqa_strategy_type' is of type VQAStrategyType.ZERO_SHOT, 'relevant_docs_count' must be None. Skipping...\n",
      "Invalid VQAStrategyDetail: If 'vqa_strategy_type' is of type VQAStrategyType.ZERO_SHOT, 'relevant_docs_count' must be None. Skipping...\n",
      "Invalid VQAStrategyDetail: If 'vqa_strategy_type' is of type VQAStrategyType.ZERO_SHOT, 'relevant_docs_count' must be None. Skipping...\n",
      "Invalid VQAStrategyDetail: If 'vqa_strategy_type' is of type VQAStrategyType.ZERO_SHOT, 'relevant_docs_count' must be None. Skipping...\n",
      "Invalid VQAStrategyDetail: If 'vqa_strategy_type' is of type VQAStrategyType.ZERO_SHOT, 'relevant_docs_count' must be None. Skipping...\n",
      "Invalid VQAStrategyDetail: If 'vqa_strategy_type' is of type VQAStrategyType.ZERO_SHOT, 'relevant_docs_count' must be None. Skipping...\n",
      "Invalid VQAStrategyDetail: If 'vqa_strategy_type' is of type VQAStrategyType.ZERO_SHOT, 'relevant_docs_count' must be None. Skipping...\n",
      "Invalid VQAStrategyDetail: If 'vqa_strategy_type' is of type VQAStrategyType.ZERO_SHOT, 'relevant_docs_count' must be None. Skipping...\n",
      "Invalid VQAStrategyDetail: If 'vqa_strategy_type' is of type VQAStrategyType.ZERO_SHOT, 'relevant_docs_count' must be None. Skipping...\n",
      "Invalid VQAStrategyDetail: If 'vqa_strategy_type' is of type VQAStrategyType.ZERO_SHOT, 'doc_splitter_options' must be None. Skipping...\n",
      "Invalid VQAStrategyDetail: If 'vqa_strategy_type' is of type VQAStrategyType.ZERO_SHOT, 'doc_splitter_options' must be None. Skipping...\n",
      "Invalid VQAStrategyDetail: If 'vqa_strategy_type' is of type VQAStrategyType.ZERO_SHOT, 'doc_splitter_options' must be None. Skipping...\n",
      "Invalid VQAStrategyDetail: If 'vqa_strategy_type' is of type VQAStrategyType.ZERO_SHOT, 'doc_splitter_options' must be None. Skipping...\n",
      "Invalid VQAStrategyDetail: If 'vqa_strategy_type' is of type VQAStrategyType.ZERO_SHOT, 'doc_splitter_options' must be None. Skipping...\n",
      "Invalid VQAStrategyDetail: If 'vqa_strategy_type' is of type VQAStrategyType.ZERO_SHOT, 'doc_splitter_options' must be None. Skipping...\n",
      "Invalid VQAStrategyDetail: If 'vqa_strategy_type' is of type VQAStrategyType.ZERO_SHOT, 'doc_splitter_options' must be None. Skipping...\n",
      "Invalid VQAStrategyDetail: If 'vqa_strategy_type' is of type VQAStrategyType.ZERO_SHOT, 'doc_splitter_options' must be None. Skipping...\n",
      "Invalid VQAStrategyDetail: If 'vqa_strategy_type' is of type VQAStrategyType.ZERO_SHOT, 'doc_splitter_options' must be None. Skipping...\n",
      "Invalid VQAStrategyDetail: If 'vqa_strategy_type' is of type VQAStrategyType.ZERO_SHOT, 'doc_splitter_options' must be None. Skipping...\n",
      "Invalid VQAStrategyDetail: If 'vqa_strategy_type' is of type VQAStrategyType.ZERO_SHOT, 'doc_splitter_options' must be None. Skipping...\n",
      "Invalid VQAStrategyDetail: If 'vqa_strategy_type' is of type VQAStrategyType.ZERO_SHOT, 'doc_splitter_options' must be None. Skipping...\n",
      "Invalid VQAStrategyDetail: If 'vqa_strategy_type' is of type VQAStrategyType.ZERO_SHOT, 'doc_splitter_options' must be None. Skipping...\n",
      "Invalid VQAStrategyDetail: If 'vqa_strategy_type' is of type VQAStrategyType.ZERO_SHOT, 'doc_splitter_options' must be None. Skipping...\n",
      "Invalid VQAStrategyDetail: If 'vqa_strategy_type' is of type VQAStrategyType.ZERO_SHOT, 'doc_splitter_options' must be None. Skipping...\n",
      "Invalid VQAStrategyDetail: If 'vqa_strategy_type' is of type VQAStrategyType.ZERO_SHOT, 'doc_splitter_options' must be None. Skipping...\n",
      "Invalid VQAStrategyDetail: If 'vqa_strategy_type' is of type VQAStrategyType.ZERO_SHOT, 'doc_splitter_options' must be None. Skipping...\n",
      "Invalid VQAStrategyDetail: If 'vqa_strategy_type' is of type VQAStrategyType.ZERO_SHOT, 'doc_splitter_options' must be None. Skipping...\n",
      "Invalid VQAStrategyDetail: If 'vqa_strategy_type' is of type VQAStrategyType.ZERO_SHOT, 'doc_splitter_options' must be None. Skipping...\n",
      "Invalid VQAStrategyDetail: If 'vqa_strategy_type' is of type VQAStrategyType.ZERO_SHOT, 'doc_splitter_options' must be None. Skipping...\n",
      "Invalid VQAStrategyDetail: If 'vqa_strategy_type' is of type VQAStrategyType.ZERO_SHOT, 'doc_splitter_options' must be None. Skipping...\n",
      "Invalid VQAStrategyDetail: If 'vqa_strategy_type' is of type VQAStrategyType.ZERO_SHOT, 'doc_splitter_options' must be None. Skipping...\n",
      "Invalid VQAStrategyDetail: If 'vqa_strategy_type' is of type VQAStrategyType.ZERO_SHOT, 'doc_splitter_options' must be None. Skipping...\n",
      "Invalid VQAStrategyDetail: If 'vqa_strategy_type' is of type VQAStrategyType.ZERO_SHOT, 'doc_splitter_options' must be None. Skipping...\n",
      "Invalid VQAStrategyDetail: If 'vqa_strategy_type' is of type VQAStrategyType.ZERO_SHOT, 'doc_splitter_options' must be None. Skipping...\n",
      "Invalid VQAStrategyDetail: If 'vqa_strategy_type' is of type VQAStrategyType.ZERO_SHOT, 'doc_splitter_options' must be None. Skipping...\n",
      "Invalid VQAStrategyDetail: If 'vqa_strategy_type' is of type VQAStrategyType.ZERO_SHOT, 'doc_splitter_options' must be None. Skipping...\n",
      "Invalid VQAStrategyDetail: If 'vqa_strategy_type' is of type VQAStrategyType.ZERO_SHOT, 'relevant_docs_count' must be None. Skipping...\n",
      "Invalid VQAStrategyDetail: If 'vqa_strategy_type' is of type VQAStrategyType.ZERO_SHOT, 'relevant_docs_count' must be None. Skipping...\n",
      "Invalid VQAStrategyDetail: If 'vqa_strategy_type' is of type VQAStrategyType.ZERO_SHOT, 'relevant_docs_count' must be None. Skipping...\n",
      "Invalid VQAStrategyDetail: If 'vqa_strategy_type' is of type VQAStrategyType.ZERO_SHOT, 'relevant_docs_count' must be None. Skipping...\n",
      "Invalid VQAStrategyDetail: If 'vqa_strategy_type' is of type VQAStrategyType.ZERO_SHOT, 'relevant_docs_count' must be None. Skipping...\n",
      "Invalid VQAStrategyDetail: If 'vqa_strategy_type' is of type VQAStrategyType.ZERO_SHOT, 'relevant_docs_count' must be None. Skipping...\n",
      "Invalid VQAStrategyDetail: If 'vqa_strategy_type' is of type VQAStrategyType.ZERO_SHOT, 'relevant_docs_count' must be None. Skipping...\n",
      "Invalid VQAStrategyDetail: If 'vqa_strategy_type' is of type VQAStrategyType.ZERO_SHOT, 'relevant_docs_count' must be None. Skipping...\n",
      "Invalid VQAStrategyDetail: If 'vqa_strategy_type' is of type VQAStrategyType.ZERO_SHOT, 'relevant_docs_count' must be None. Skipping...\n",
      "Invalid VQAStrategyDetail: If 'vqa_strategy_type' is of type VQAStrategyType.ZERO_SHOT, 'relevant_docs_count' must be None. Skipping...\n",
      "Invalid VQAStrategyDetail: If 'vqa_strategy_type' is of type VQAStrategyType.ZERO_SHOT, 'relevant_docs_count' must be None. Skipping...\n",
      "Invalid VQAStrategyDetail: If 'vqa_strategy_type' is of type VQAStrategyType.ZERO_SHOT, 'relevant_docs_count' must be None. Skipping...\n",
      "Invalid VQAStrategyDetail: If 'vqa_strategy_type' is of type VQAStrategyType.ZERO_SHOT, 'relevant_docs_count' must be None. Skipping...\n",
      "Invalid VQAStrategyDetail: If 'vqa_strategy_type' is of type VQAStrategyType.ZERO_SHOT, 'relevant_docs_count' must be None. Skipping...\n",
      "Invalid VQAStrategyDetail: If 'vqa_strategy_type' is of type VQAStrategyType.ZERO_SHOT, 'relevant_docs_count' must be None. Skipping...\n",
      "Invalid VQAStrategyDetail: If 'vqa_strategy_type' is of type VQAStrategyType.ZERO_SHOT, 'relevant_docs_count' must be None. Skipping...\n",
      "Invalid VQAStrategyDetail: If 'vqa_strategy_type' is of type VQAStrategyType.ZERO_SHOT, 'relevant_docs_count' must be None. Skipping...\n",
      "Invalid VQAStrategyDetail: If 'vqa_strategy_type' is of type VQAStrategyType.ZERO_SHOT, 'relevant_docs_count' must be None. Skipping...\n",
      "Invalid VQAStrategyDetail: If 'vqa_strategy_type' is of type VQAStrategyType.ZERO_SHOT, 'relevant_docs_count' must be None. Skipping...\n",
      "Invalid VQAStrategyDetail: If 'vqa_strategy_type' is of type VQAStrategyType.ZERO_SHOT, 'relevant_docs_count' must be None. Skipping...\n",
      "Invalid VQAStrategyDetail: If 'vqa_strategy_type' is of type VQAStrategyType.ZERO_SHOT, 'relevant_docs_count' must be None. Skipping...\n",
      "Invalid VQAStrategyDetail: If 'vqa_strategy_type' is of type VQAStrategyType.ZERO_SHOT, 'relevant_docs_count' must be None. Skipping...\n",
      "Invalid VQAStrategyDetail: If 'vqa_strategy_type' is of type VQAStrategyType.ZERO_SHOT, 'relevant_docs_count' must be None. Skipping...\n",
      "Invalid VQAStrategyDetail: If 'vqa_strategy_type' is of type VQAStrategyType.ZERO_SHOT, 'relevant_docs_count' must be None. Skipping...\n",
      "Invalid VQAStrategyDetail: If 'vqa_strategy_type' is of type VQAStrategyType.ZERO_SHOT, 'relevant_docs_count' must be None. Skipping...\n",
      "Invalid VQAStrategyDetail: If 'vqa_strategy_type' is of type VQAStrategyType.ZERO_SHOT, 'relevant_docs_count' must be None. Skipping...\n",
      "Invalid VQAStrategyDetail: If 'vqa_strategy_type' is of type VQAStrategyType.ZERO_SHOT, 'relevant_docs_count' must be None. Skipping...\n",
      "Invalid VQAStrategyDetail: If 'vqa_strategy_type' is of type VQAStrategyType.ZERO_SHOT, 'relevant_docs_count' must be None. Skipping...\n",
      "Invalid VQAStrategyDetail: If 'vqa_strategy_type' is of type VQAStrategyType.ZERO_SHOT, 'relevant_docs_count' must be None. Skipping...\n",
      "Invalid VQAStrategyDetail: If 'vqa_strategy_type' is of type VQAStrategyType.ZERO_SHOT, 'relevant_docs_count' must be None. Skipping...\n",
      "Invalid VQAStrategyDetail: If 'vqa_strategy_type' is of type VQAStrategyType.ZERO_SHOT, 'relevant_docs_count' must be None. Skipping...\n",
      "Invalid VQAStrategyDetail: If 'vqa_strategy_type' is of type VQAStrategyType.ZERO_SHOT, 'relevant_docs_count' must be None. Skipping...\n",
      "Invalid VQAStrategyDetail: If 'vqa_strategy_type' is of type VQAStrategyType.ZERO_SHOT, 'relevant_docs_count' must be None. Skipping...\n",
      "Invalid VQAStrategyDetail: If 'vqa_strategy_type' is of type VQAStrategyType.ZERO_SHOT, 'relevant_docs_count' must be None. Skipping...\n",
      "Invalid VQAStrategyDetail: If 'vqa_strategy_type' is of type VQAStrategyType.ZERO_SHOT, 'relevant_docs_count' must be None. Skipping...\n",
      "Invalid VQAStrategyDetail: If 'vqa_strategy_type' is of type VQAStrategyType.ZERO_SHOT, 'relevant_docs_count' must be None. Skipping...\n",
      "Invalid VQAStrategyDetail: If 'vqa_strategy_type' is of type VQAStrategyType.ZERO_SHOT, 'relevant_docs_count' must be None. Skipping...\n",
      "Invalid VQAStrategyDetail: If 'vqa_strategy_type' is of type VQAStrategyType.ZERO_SHOT, 'relevant_docs_count' must be None. Skipping...\n",
      "Invalid VQAStrategyDetail: If 'vqa_strategy_type' is of type VQAStrategyType.ZERO_SHOT, 'relevant_docs_count' must be None. Skipping...\n",
      "Invalid VQAStrategyDetail: If 'vqa_strategy_type' is of type VQAStrategyType.ZERO_SHOT, 'relevant_docs_count' must be None. Skipping...\n",
      "Invalid VQAStrategyDetail: If 'vqa_strategy_type' is of type VQAStrategyType.ZERO_SHOT, 'relevant_docs_count' must be None. Skipping...\n",
      "Invalid VQAStrategyDetail: If 'vqa_strategy_type' is of type VQAStrategyType.ZERO_SHOT, 'relevant_docs_count' must be None. Skipping...\n",
      "Invalid VQAStrategyDetail: If 'vqa_strategy_type' is of type VQAStrategyType.ZERO_SHOT, 'relevant_docs_count' must be None. Skipping...\n",
      "Invalid VQAStrategyDetail: If 'vqa_strategy_type' is of type VQAStrategyType.ZERO_SHOT, 'relevant_docs_count' must be None. Skipping...\n",
      "Invalid VQAStrategyDetail: If 'vqa_strategy_type' is of type VQAStrategyType.ZERO_SHOT, 'relevant_docs_count' must be None. Skipping...\n",
      "Invalid VQAStrategyDetail: If 'vqa_strategy_type' is of type VQAStrategyType.ZERO_SHOT, 'relevant_docs_count' must be None. Skipping...\n",
      "Invalid VQAStrategyDetail: If 'vqa_strategy_type' is of type VQAStrategyType.ZERO_SHOT, 'relevant_docs_count' must be None. Skipping...\n",
      "Invalid VQAStrategyDetail: If 'vqa_strategy_type' is of type VQAStrategyType.ZERO_SHOT, 'relevant_docs_count' must be None. Skipping...\n",
      "Invalid VQAStrategyDetail: If 'vqa_strategy_type' is of type VQAStrategyType.ZERO_SHOT, 'relevant_docs_count' must be None. Skipping...\n",
      "Invalid VQAStrategyDetail: If 'vqa_strategy_type' is of type VQAStrategyType.ZERO_SHOT, 'relevant_docs_count' must be None. Skipping...\n",
      "Invalid VQAStrategyDetail: If 'vqa_strategy_type' is of type VQAStrategyType.ZERO_SHOT, 'relevant_docs_count' must be None. Skipping...\n",
      "Invalid VQAStrategyDetail: If 'vqa_strategy_type' is of type VQAStrategyType.ZERO_SHOT, 'relevant_docs_count' must be None. Skipping...\n",
      "Invalid VQAStrategyDetail: If 'vqa_strategy_type' is of type VQAStrategyType.ZERO_SHOT, 'relevant_docs_count' must be None. Skipping...\n",
      "Invalid VQAStrategyDetail: If 'vqa_strategy_type' is of type VQAStrategyType.ZERO_SHOT, 'relevant_docs_count' must be None. Skipping...\n",
      "Invalid VQAStrategyDetail: If 'vqa_strategy_type' is of type VQAStrategyType.ZERO_SHOT, 'relevant_docs_count' must be None. Skipping...\n",
      "Invalid VQAStrategyDetail: If 'vqa_strategy_type' is of type VQAStrategyType.ZERO_SHOT, 'relevant_docs_count' must be None. Skipping...\n",
      "Invalid VQAStrategyDetail: If 'vqa_strategy_type' is of type VQAStrategyType.ZERO_SHOT, 'relevant_docs_count' must be None. Skipping...\n",
      "Invalid VQAStrategyDetail: If 'vqa_strategy_type' is of type VQAStrategyType.ZERO_SHOT, 'relevant_docs_count' must be None. Skipping...\n",
      "Invalid VQAStrategyDetail: If 'vqa_strategy_type' is of type VQAStrategyType.ZERO_SHOT, 'relevant_docs_count' must be None. Skipping...\n",
      "Invalid VQAStrategyDetail: If 'vqa_strategy_type' is of type VQAStrategyType.ZERO_SHOT, 'relevant_docs_count' must be None. Skipping...\n",
      "Invalid VQAStrategyDetail: If 'vqa_strategy_type' is of type VQAStrategyType.ZERO_SHOT, 'relevant_docs_count' must be None. Skipping...\n",
      "Invalid VQAStrategyDetail: If 'vqa_strategy_type' is of type VQAStrategyType.ZERO_SHOT, 'relevant_docs_count' must be None. Skipping...\n",
      "Invalid VQAStrategyDetail: If 'vqa_strategy_type' is of type VQAStrategyType.ZERO_SHOT, 'relevant_docs_count' must be None. Skipping...\n",
      "Invalid VQAStrategyDetail: If 'vqa_strategy_type' is of type VQAStrategyType.ZERO_SHOT, 'relevant_docs_count' must be None. Skipping...\n",
      "Invalid VQAStrategyDetail: If 'vqa_strategy_type' is of type VQAStrategyType.ZERO_SHOT, 'relevant_docs_count' must be None. Skipping...\n",
      "Invalid VQAStrategyDetail: If 'vqa_strategy_type' is of type VQAStrategyType.ZERO_SHOT, 'relevant_docs_count' must be None. Skipping...\n",
      "Invalid VQAStrategyDetail: If 'vqa_strategy_type' is of type VQAStrategyType.ZERO_SHOT, 'relevant_docs_count' must be None. Skipping...\n",
      "Invalid VQAStrategyDetail: If 'vqa_strategy_type' is of type VQAStrategyType.ZERO_SHOT, 'relevant_docs_count' must be None. Skipping...\n",
      "Invalid VQAStrategyDetail: If 'vqa_strategy_type' is of type VQAStrategyType.ZERO_SHOT, 'relevant_docs_count' must be None. Skipping...\n",
      "Invalid VQAStrategyDetail: If 'vqa_strategy_type' is of type VQAStrategyType.ZERO_SHOT, 'relevant_docs_count' must be None. Skipping...\n",
      "Invalid VQAStrategyDetail: If 'vqa_strategy_type' is of type VQAStrategyType.ZERO_SHOT, 'relevant_docs_count' must be None. Skipping...\n",
      "Invalid VQAStrategyDetail: If 'vqa_strategy_type' is of type VQAStrategyType.ZERO_SHOT, 'relevant_docs_count' must be None. Skipping...\n",
      "Invalid VQAStrategyDetail: If 'vqa_strategy_type' is of type VQAStrategyType.ZERO_SHOT, 'relevant_docs_count' must be None. Skipping...\n",
      "Invalid VQAStrategyDetail: If 'vqa_strategy_type' is of type VQAStrategyType.ZERO_SHOT, 'relevant_docs_count' must be None. Skipping...\n",
      "Invalid VQAStrategyDetail: If 'vqa_strategy_type' is of type VQAStrategyType.ZERO_SHOT, 'relevant_docs_count' must be None. Skipping...\n",
      "Invalid VQAStrategyDetail: If 'vqa_strategy_type' is of type VQAStrategyType.ZERO_SHOT, 'relevant_docs_count' must be None. Skipping...\n",
      "Invalid VQAStrategyDetail: If 'vqa_strategy_type' is of type VQAStrategyType.ZERO_SHOT, 'relevant_docs_count' must be None. Skipping...\n",
      "Invalid VQAStrategyDetail: If 'vqa_strategy_type' is of type VQAStrategyType.ZERO_SHOT, 'relevant_docs_count' must be None. Skipping...\n",
      "Invalid VQAStrategyDetail: If 'vqa_strategy_type' is of type VQAStrategyType.ZERO_SHOT, 'relevant_docs_count' must be None. Skipping...\n",
      "Invalid VQAStrategyDetail: If 'vqa_strategy_type' is of type VQAStrategyType.ZERO_SHOT, 'relevant_docs_count' must be None. Skipping...\n",
      "Invalid VQAStrategyDetail: If 'vqa_strategy_type' is of type VQAStrategyType.ZERO_SHOT, 'relevant_docs_count' must be None. Skipping...\n",
      "Invalid VQAStrategyDetail: If 'vqa_strategy_type' is of type VQAStrategyType.ZERO_SHOT, 'relevant_docs_count' must be None. Skipping...\n",
      "Invalid VQAStrategyDetail: If 'vqa_strategy_type' is of type VQAStrategyType.ZERO_SHOT, 'relevant_docs_count' must be None. Skipping...\n",
      "Invalid VQAStrategyDetail: If 'vqa_strategy_type' is of type VQAStrategyType.ZERO_SHOT, 'relevant_docs_count' must be None. Skipping...\n",
      "Invalid VQAStrategyDetail: If 'vqa_strategy_type' is of type VQAStrategyType.ZERO_SHOT, 'doc_splitter_options' must be None. Skipping...\n",
      "Invalid VQAStrategyDetail: If 'vqa_strategy_type' is of type VQAStrategyType.ZERO_SHOT, 'doc_splitter_options' must be None. Skipping...\n",
      "Invalid VQAStrategyDetail: If 'vqa_strategy_type' is of type VQAStrategyType.ZERO_SHOT, 'doc_splitter_options' must be None. Skipping...\n",
      "Invalid VQAStrategyDetail: If 'vqa_strategy_type' is of type VQAStrategyType.ZERO_SHOT, 'doc_splitter_options' must be None. Skipping...\n",
      "Invalid VQAStrategyDetail: If 'vqa_strategy_type' is of type VQAStrategyType.ZERO_SHOT, 'doc_splitter_options' must be None. Skipping...\n",
      "Invalid VQAStrategyDetail: If 'vqa_strategy_type' is of type VQAStrategyType.ZERO_SHOT, 'doc_splitter_options' must be None. Skipping...\n",
      "Invalid VQAStrategyDetail: If 'vqa_strategy_type' is of type VQAStrategyType.ZERO_SHOT, 'doc_splitter_options' must be None. Skipping...\n",
      "Invalid VQAStrategyDetail: If 'vqa_strategy_type' is of type VQAStrategyType.ZERO_SHOT, 'doc_splitter_options' must be None. Skipping...\n",
      "Invalid VQAStrategyDetail: If 'vqa_strategy_type' is of type VQAStrategyType.ZERO_SHOT, 'doc_splitter_options' must be None. Skipping...\n",
      "Invalid VQAStrategyDetail: If 'vqa_strategy_type' is of type VQAStrategyType.ZERO_SHOT, 'doc_splitter_options' must be None. Skipping...\n",
      "Invalid VQAStrategyDetail: If 'vqa_strategy_type' is of type VQAStrategyType.ZERO_SHOT, 'doc_splitter_options' must be None. Skipping...\n",
      "Invalid VQAStrategyDetail: If 'vqa_strategy_type' is of type VQAStrategyType.ZERO_SHOT, 'doc_splitter_options' must be None. Skipping...\n",
      "Invalid VQAStrategyDetail: If 'vqa_strategy_type' is of type VQAStrategyType.ZERO_SHOT, 'doc_splitter_options' must be None. Skipping...\n",
      "Invalid VQAStrategyDetail: If 'vqa_strategy_type' is of type VQAStrategyType.ZERO_SHOT, 'doc_splitter_options' must be None. Skipping...\n",
      "Invalid VQAStrategyDetail: If 'vqa_strategy_type' is of type VQAStrategyType.ZERO_SHOT, 'doc_splitter_options' must be None. Skipping...\n",
      "Invalid VQAStrategyDetail: If 'vqa_strategy_type' is of type VQAStrategyType.ZERO_SHOT, 'doc_splitter_options' must be None. Skipping...\n",
      "Invalid VQAStrategyDetail: If 'vqa_strategy_type' is of type VQAStrategyType.ZERO_SHOT, 'doc_splitter_options' must be None. Skipping...\n",
      "Invalid VQAStrategyDetail: If 'vqa_strategy_type' is of type VQAStrategyType.ZERO_SHOT, 'doc_splitter_options' must be None. Skipping...\n",
      "Invalid VQAStrategyDetail: If 'vqa_strategy_type' is of type VQAStrategyType.ZERO_SHOT, 'doc_splitter_options' must be None. Skipping...\n",
      "Invalid VQAStrategyDetail: If 'vqa_strategy_type' is of type VQAStrategyType.ZERO_SHOT, 'doc_splitter_options' must be None. Skipping...\n",
      "Invalid VQAStrategyDetail: If 'vqa_strategy_type' is of type VQAStrategyType.ZERO_SHOT, 'doc_splitter_options' must be None. Skipping...\n",
      "Invalid VQAStrategyDetail: If 'vqa_strategy_type' is of type VQAStrategyType.ZERO_SHOT, 'doc_splitter_options' must be None. Skipping...\n",
      "Invalid VQAStrategyDetail: If 'vqa_strategy_type' is of type VQAStrategyType.ZERO_SHOT, 'doc_splitter_options' must be None. Skipping...\n",
      "Invalid VQAStrategyDetail: If 'vqa_strategy_type' is of type VQAStrategyType.ZERO_SHOT, 'doc_splitter_options' must be None. Skipping...\n",
      "Invalid VQAStrategyDetail: If 'vqa_strategy_type' is of type VQAStrategyType.ZERO_SHOT, 'doc_splitter_options' must be None. Skipping...\n",
      "Invalid VQAStrategyDetail: If 'vqa_strategy_type' is of type VQAStrategyType.ZERO_SHOT, 'doc_splitter_options' must be None. Skipping...\n",
      "Invalid VQAStrategyDetail: If 'vqa_strategy_type' is of type VQAStrategyType.ZERO_SHOT, 'doc_splitter_options' must be None. Skipping...\n",
      "Invalid VQAStrategyDetail: If 'vqa_strategy_type' is of type VQAStrategyType.ZERO_SHOT, 'relevant_docs_count' must be None. Skipping...\n",
      "Invalid VQAStrategyDetail: If 'vqa_strategy_type' is of type VQAStrategyType.ZERO_SHOT, 'relevant_docs_count' must be None. Skipping...\n",
      "Invalid VQAStrategyDetail: If 'vqa_strategy_type' is of type VQAStrategyType.ZERO_SHOT, 'relevant_docs_count' must be None. Skipping...\n",
      "Invalid VQAStrategyDetail: If 'vqa_strategy_type' is of type VQAStrategyType.ZERO_SHOT, 'relevant_docs_count' must be None. Skipping...\n",
      "Invalid VQAStrategyDetail: If 'vqa_strategy_type' is of type VQAStrategyType.ZERO_SHOT, 'relevant_docs_count' must be None. Skipping...\n",
      "Invalid VQAStrategyDetail: If 'vqa_strategy_type' is of type VQAStrategyType.ZERO_SHOT, 'relevant_docs_count' must be None. Skipping...\n",
      "Invalid VQAStrategyDetail: If 'vqa_strategy_type' is of type VQAStrategyType.ZERO_SHOT, 'relevant_docs_count' must be None. Skipping...\n",
      "Invalid VQAStrategyDetail: If 'vqa_strategy_type' is of type VQAStrategyType.ZERO_SHOT, 'relevant_docs_count' must be None. Skipping...\n",
      "Invalid VQAStrategyDetail: If 'vqa_strategy_type' is of type VQAStrategyType.ZERO_SHOT, 'relevant_docs_count' must be None. Skipping...\n",
      "Invalid VQAStrategyDetail: If 'vqa_strategy_type' is of type VQAStrategyType.ZERO_SHOT, 'relevant_docs_count' must be None. Skipping...\n",
      "Invalid VQAStrategyDetail: If 'vqa_strategy_type' is of type VQAStrategyType.ZERO_SHOT, 'relevant_docs_count' must be None. Skipping...\n",
      "Invalid VQAStrategyDetail: If 'vqa_strategy_type' is of type VQAStrategyType.ZERO_SHOT, 'relevant_docs_count' must be None. Skipping...\n",
      "Invalid VQAStrategyDetail: If 'vqa_strategy_type' is of type VQAStrategyType.ZERO_SHOT, 'relevant_docs_count' must be None. Skipping...\n",
      "Invalid VQAStrategyDetail: If 'vqa_strategy_type' is of type VQAStrategyType.ZERO_SHOT, 'relevant_docs_count' must be None. Skipping...\n",
      "Invalid VQAStrategyDetail: If 'vqa_strategy_type' is of type VQAStrategyType.ZERO_SHOT, 'relevant_docs_count' must be None. Skipping...\n",
      "Invalid VQAStrategyDetail: If 'vqa_strategy_type' is of type VQAStrategyType.ZERO_SHOT, 'relevant_docs_count' must be None. Skipping...\n",
      "Invalid VQAStrategyDetail: If 'vqa_strategy_type' is of type VQAStrategyType.ZERO_SHOT, 'relevant_docs_count' must be None. Skipping...\n",
      "Invalid VQAStrategyDetail: If 'vqa_strategy_type' is of type VQAStrategyType.ZERO_SHOT, 'relevant_docs_count' must be None. Skipping...\n",
      "Invalid VQAStrategyDetail: If 'vqa_strategy_type' is of type VQAStrategyType.ZERO_SHOT, 'relevant_docs_count' must be None. Skipping...\n",
      "Invalid VQAStrategyDetail: If 'vqa_strategy_type' is of type VQAStrategyType.ZERO_SHOT, 'relevant_docs_count' must be None. Skipping...\n",
      "Invalid VQAStrategyDetail: If 'vqa_strategy_type' is of type VQAStrategyType.ZERO_SHOT, 'relevant_docs_count' must be None. Skipping...\n",
      "Invalid VQAStrategyDetail: If 'vqa_strategy_type' is of type VQAStrategyType.ZERO_SHOT, 'relevant_docs_count' must be None. Skipping...\n",
      "Invalid VQAStrategyDetail: If 'vqa_strategy_type' is of type VQAStrategyType.ZERO_SHOT, 'relevant_docs_count' must be None. Skipping...\n",
      "Invalid VQAStrategyDetail: If 'vqa_strategy_type' is of type VQAStrategyType.ZERO_SHOT, 'relevant_docs_count' must be None. Skipping...\n",
      "Invalid VQAStrategyDetail: If 'vqa_strategy_type' is of type VQAStrategyType.ZERO_SHOT, 'relevant_docs_count' must be None. Skipping...\n",
      "Invalid VQAStrategyDetail: If 'vqa_strategy_type' is of type VQAStrategyType.ZERO_SHOT, 'relevant_docs_count' must be None. Skipping...\n",
      "Invalid VQAStrategyDetail: If 'vqa_strategy_type' is of type VQAStrategyType.ZERO_SHOT, 'relevant_docs_count' must be None. Skipping...\n",
      "Invalid VQAStrategyDetail: If 'vqa_strategy_type' is of type VQAStrategyType.ZERO_SHOT, 'relevant_docs_count' must be None. Skipping...\n",
      "Invalid VQAStrategyDetail: If 'vqa_strategy_type' is of type VQAStrategyType.ZERO_SHOT, 'relevant_docs_count' must be None. Skipping...\n",
      "Invalid VQAStrategyDetail: If 'vqa_strategy_type' is of type VQAStrategyType.ZERO_SHOT, 'relevant_docs_count' must be None. Skipping...\n",
      "Invalid VQAStrategyDetail: If 'vqa_strategy_type' is of type VQAStrategyType.ZERO_SHOT, 'relevant_docs_count' must be None. Skipping...\n",
      "Invalid VQAStrategyDetail: If 'vqa_strategy_type' is of type VQAStrategyType.ZERO_SHOT, 'relevant_docs_count' must be None. Skipping...\n",
      "Invalid VQAStrategyDetail: If 'vqa_strategy_type' is of type VQAStrategyType.ZERO_SHOT, 'relevant_docs_count' must be None. Skipping...\n",
      "Invalid VQAStrategyDetail: If 'vqa_strategy_type' is of type VQAStrategyType.ZERO_SHOT, 'relevant_docs_count' must be None. Skipping...\n",
      "Invalid VQAStrategyDetail: If 'vqa_strategy_type' is of type VQAStrategyType.ZERO_SHOT, 'relevant_docs_count' must be None. Skipping...\n",
      "Invalid VQAStrategyDetail: If 'vqa_strategy_type' is of type VQAStrategyType.ZERO_SHOT, 'relevant_docs_count' must be None. Skipping...\n",
      "Invalid VQAStrategyDetail: If 'vqa_strategy_type' is of type VQAStrategyType.ZERO_SHOT, 'relevant_docs_count' must be None. Skipping...\n",
      "Invalid VQAStrategyDetail: If 'vqa_strategy_type' is of type VQAStrategyType.ZERO_SHOT, 'relevant_docs_count' must be None. Skipping...\n",
      "Invalid VQAStrategyDetail: If 'vqa_strategy_type' is of type VQAStrategyType.ZERO_SHOT, 'relevant_docs_count' must be None. Skipping...\n",
      "Invalid VQAStrategyDetail: If 'vqa_strategy_type' is of type VQAStrategyType.ZERO_SHOT, 'relevant_docs_count' must be None. Skipping...\n",
      "Invalid VQAStrategyDetail: If 'vqa_strategy_type' is of type VQAStrategyType.ZERO_SHOT, 'relevant_docs_count' must be None. Skipping...\n",
      "Invalid VQAStrategyDetail: If 'vqa_strategy_type' is of type VQAStrategyType.ZERO_SHOT, 'relevant_docs_count' must be None. Skipping...\n",
      "Invalid VQAStrategyDetail: If 'vqa_strategy_type' is of type VQAStrategyType.ZERO_SHOT, 'relevant_docs_count' must be None. Skipping...\n",
      "Invalid VQAStrategyDetail: If 'vqa_strategy_type' is of type VQAStrategyType.ZERO_SHOT, 'relevant_docs_count' must be None. Skipping...\n",
      "Invalid VQAStrategyDetail: If 'vqa_strategy_type' is of type VQAStrategyType.ZERO_SHOT, 'relevant_docs_count' must be None. Skipping...\n",
      "Invalid VQAStrategyDetail: If 'vqa_strategy_type' is of type VQAStrategyType.ZERO_SHOT, 'relevant_docs_count' must be None. Skipping...\n",
      "Invalid VQAStrategyDetail: If 'vqa_strategy_type' is of type VQAStrategyType.ZERO_SHOT, 'relevant_docs_count' must be None. Skipping...\n",
      "Invalid VQAStrategyDetail: If 'vqa_strategy_type' is of type VQAStrategyType.ZERO_SHOT, 'relevant_docs_count' must be None. Skipping...\n",
      "Invalid VQAStrategyDetail: If 'vqa_strategy_type' is of type VQAStrategyType.ZERO_SHOT, 'relevant_docs_count' must be None. Skipping...\n",
      "Invalid VQAStrategyDetail: If 'vqa_strategy_type' is of type VQAStrategyType.ZERO_SHOT, 'relevant_docs_count' must be None. Skipping...\n",
      "Invalid VQAStrategyDetail: If 'vqa_strategy_type' is of type VQAStrategyType.ZERO_SHOT, 'relevant_docs_count' must be None. Skipping...\n",
      "Invalid VQAStrategyDetail: If 'vqa_strategy_type' is of type VQAStrategyType.ZERO_SHOT, 'relevant_docs_count' must be None. Skipping...\n",
      "Invalid VQAStrategyDetail: If 'vqa_strategy_type' is of type VQAStrategyType.ZERO_SHOT, 'relevant_docs_count' must be None. Skipping...\n",
      "Invalid VQAStrategyDetail: If 'vqa_strategy_type' is of type VQAStrategyType.ZERO_SHOT, 'relevant_docs_count' must be None. Skipping...\n",
      "Invalid VQAStrategyDetail: If 'vqa_strategy_type' is of type VQAStrategyType.ZERO_SHOT, 'relevant_docs_count' must be None. Skipping...\n",
      "Invalid VQAStrategyDetail: If 'vqa_strategy_type' is of type VQAStrategyType.ZERO_SHOT, 'relevant_docs_count' must be None. Skipping...\n",
      "Invalid VQAStrategyDetail: If 'vqa_strategy_type' is of type VQAStrategyType.ZERO_SHOT, 'relevant_docs_count' must be None. Skipping...\n",
      "Invalid VQAStrategyDetail: If 'vqa_strategy_type' is of type VQAStrategyType.ZERO_SHOT, 'relevant_docs_count' must be None. Skipping...\n",
      "Invalid VQAStrategyDetail: If 'vqa_strategy_type' is of type VQAStrategyType.ZERO_SHOT, 'relevant_docs_count' must be None. Skipping...\n",
      "Invalid VQAStrategyDetail: If 'vqa_strategy_type' is of type VQAStrategyType.ZERO_SHOT, 'relevant_docs_count' must be None. Skipping...\n",
      "Invalid VQAStrategyDetail: If 'vqa_strategy_type' is of type VQAStrategyType.ZERO_SHOT, 'relevant_docs_count' must be None. Skipping...\n",
      "Invalid VQAStrategyDetail: If 'vqa_strategy_type' is of type VQAStrategyType.ZERO_SHOT, 'relevant_docs_count' must be None. Skipping...\n",
      "Invalid VQAStrategyDetail: If 'vqa_strategy_type' is of type VQAStrategyType.ZERO_SHOT, 'relevant_docs_count' must be None. Skipping...\n",
      "Invalid VQAStrategyDetail: If 'vqa_strategy_type' is of type VQAStrategyType.ZERO_SHOT, 'relevant_docs_count' must be None. Skipping...\n",
      "Invalid VQAStrategyDetail: If 'vqa_strategy_type' is of type VQAStrategyType.ZERO_SHOT, 'relevant_docs_count' must be None. Skipping...\n",
      "Invalid VQAStrategyDetail: If 'vqa_strategy_type' is of type VQAStrategyType.ZERO_SHOT, 'relevant_docs_count' must be None. Skipping...\n",
      "Invalid VQAStrategyDetail: If 'vqa_strategy_type' is of type VQAStrategyType.ZERO_SHOT, 'relevant_docs_count' must be None. Skipping...\n",
      "Invalid VQAStrategyDetail: If 'vqa_strategy_type' is of type VQAStrategyType.ZERO_SHOT, 'relevant_docs_count' must be None. Skipping...\n",
      "Invalid VQAStrategyDetail: If 'vqa_strategy_type' is of type VQAStrategyType.ZERO_SHOT, 'relevant_docs_count' must be None. Skipping...\n",
      "Invalid VQAStrategyDetail: If 'vqa_strategy_type' is of type VQAStrategyType.ZERO_SHOT, 'relevant_docs_count' must be None. Skipping...\n",
      "Invalid VQAStrategyDetail: If 'vqa_strategy_type' is of type VQAStrategyType.ZERO_SHOT, 'relevant_docs_count' must be None. Skipping...\n",
      "Invalid VQAStrategyDetail: If 'vqa_strategy_type' is of type VQAStrategyType.ZERO_SHOT, 'relevant_docs_count' must be None. Skipping...\n",
      "Invalid VQAStrategyDetail: If 'vqa_strategy_type' is of type VQAStrategyType.ZERO_SHOT, 'relevant_docs_count' must be None. Skipping...\n",
      "Invalid VQAStrategyDetail: If 'vqa_strategy_type' is of type VQAStrategyType.ZERO_SHOT, 'relevant_docs_count' must be None. Skipping...\n",
      "Invalid VQAStrategyDetail: If 'vqa_strategy_type' is of type VQAStrategyType.ZERO_SHOT, 'relevant_docs_count' must be None. Skipping...\n",
      "Invalid VQAStrategyDetail: If 'vqa_strategy_type' is of type VQAStrategyType.ZERO_SHOT, 'relevant_docs_count' must be None. Skipping...\n",
      "Invalid VQAStrategyDetail: If 'vqa_strategy_type' is of type VQAStrategyType.ZERO_SHOT, 'relevant_docs_count' must be None. Skipping...\n",
      "Invalid VQAStrategyDetail: If 'vqa_strategy_type' is of type VQAStrategyType.ZERO_SHOT, 'relevant_docs_count' must be None. Skipping...\n",
      "Invalid VQAStrategyDetail: If 'vqa_strategy_type' is of type VQAStrategyType.ZERO_SHOT, 'relevant_docs_count' must be None. Skipping...\n",
      "Invalid VQAStrategyDetail: If 'vqa_strategy_type' is of type VQAStrategyType.ZERO_SHOT, 'relevant_docs_count' must be None. Skipping...\n",
      "Invalid VQAStrategyDetail: If 'vqa_strategy_type' is of type VQAStrategyType.ZERO_SHOT, 'relevant_docs_count' must be None. Skipping...\n",
      "Invalid VQAStrategyDetail: If 'vqa_strategy_type' is of type VQAStrategyType.ZERO_SHOT, 'relevant_docs_count' must be None. Skipping...\n",
      "Invalid VQAStrategyDetail: If 'vqa_strategy_type' is of type VQAStrategyType.ZERO_SHOT, 'relevant_docs_count' must be None. Skipping...\n",
      "Invalid VQAStrategyDetail: If 'vqa_strategy_type' is of type VQAStrategyType.ZERO_SHOT, 'relevant_docs_count' must be None. Skipping...\n",
      "Invalid VQAStrategyDetail: If 'vqa_strategy_type' is of type VQAStrategyType.RAG_Q, 'relevant_docs_count' cannot be None. Skipping...\n",
      "Invalid VQAStrategyDetail: If 'vqa_strategy_type' is of type VQAStrategyType.RAG_Q, 'relevant_docs_count' cannot be None. Skipping...\n",
      "Invalid VQAStrategyDetail: If 'vqa_strategy_type' is of type VQAStrategyType.RAG_Q, 'relevant_docs_count' cannot be None. Skipping...\n",
      "Invalid VQAStrategyDetail: If 'vqa_strategy_type' is of type VQAStrategyType.RAG_Q, 'relevant_docs_count' cannot be None. Skipping...\n",
      "Invalid VQAStrategyDetail: If 'vqa_strategy_type' is of type VQAStrategyType.RAG_Q, 'relevant_docs_count' cannot be None. Skipping...\n",
      "Invalid VQAStrategyDetail: If 'vqa_strategy_type' is of type VQAStrategyType.RAG_Q, 'relevant_docs_count' cannot be None. Skipping...\n",
      "Invalid VQAStrategyDetail: If 'vqa_strategy_type' is of type VQAStrategyType.RAG_Q, 'relevant_docs_count' cannot be None. Skipping...\n",
      "Invalid VQAStrategyDetail: If 'vqa_strategy_type' is of type VQAStrategyType.RAG_Q, 'relevant_docs_count' cannot be None. Skipping...\n",
      "Invalid VQAStrategyDetail: If 'vqa_strategy_type' is of type VQAStrategyType.RAG_Q, 'relevant_docs_count' cannot be None. Skipping...\n",
      "Invalid VQAStrategyDetail: If 'vqa_strategy_type' is of type VQAStrategyType.RAG_Q, 'relevant_docs_count' cannot be None. Skipping...\n",
      "Invalid VQAStrategyDetail: If 'vqa_strategy_type' is of type VQAStrategyType.RAG_Q, 'relevant_docs_count' cannot be None. Skipping...\n",
      "Invalid VQAStrategyDetail: If 'vqa_strategy_type' is of type VQAStrategyType.RAG_Q, 'relevant_docs_count' cannot be None. Skipping...\n",
      "Invalid VQAStrategyDetail: If 'vqa_strategy_type' is of type VQAStrategyType.RAG_Q, 'relevant_docs_count' cannot be None. Skipping...\n",
      "Invalid VQAStrategyDetail: If 'vqa_strategy_type' is of type VQAStrategyType.RAG_Q, 'relevant_docs_count' cannot be None. Skipping...\n",
      "Invalid VQAStrategyDetail: If 'vqa_strategy_type' is of type VQAStrategyType.RAG_Q, 'relevant_docs_count' cannot be None. Skipping...\n",
      "Invalid VQAStrategyDetail: If 'vqa_strategy_type' is of type VQAStrategyType.RAG_Q, 'relevant_docs_count' cannot be None. Skipping...\n",
      "Invalid VQAStrategyDetail: If 'vqa_strategy_type' is of type VQAStrategyType.RAG_Q, 'relevant_docs_count' cannot be None. Skipping...\n",
      "Invalid VQAStrategyDetail: If 'vqa_strategy_type' is of type VQAStrategyType.RAG_Q, 'relevant_docs_count' cannot be None. Skipping...\n",
      "Invalid VQAStrategyDetail: If 'vqa_strategy_type' is of type VQAStrategyType.RAG_Q, 'relevant_docs_count' cannot be None. Skipping...\n",
      "Invalid VQAStrategyDetail: If 'vqa_strategy_type' is of type VQAStrategyType.RAG_Q, 'relevant_docs_count' cannot be None. Skipping...\n",
      "Invalid VQAStrategyDetail: If 'vqa_strategy_type' is of type VQAStrategyType.RAG_Q, 'relevant_docs_count' cannot be None. Skipping...\n",
      "Invalid VQAStrategyDetail: If 'vqa_strategy_type' is of type VQAStrategyType.RAG_Q, 'relevant_docs_count' cannot be None. Skipping...\n",
      "Invalid VQAStrategyDetail: If 'vqa_strategy_type' is of type VQAStrategyType.RAG_Q, 'relevant_docs_count' cannot be None. Skipping...\n",
      "Invalid VQAStrategyDetail: If 'vqa_strategy_type' is of type VQAStrategyType.RAG_Q, 'relevant_docs_count' cannot be None. Skipping...\n",
      "Invalid VQAStrategyDetail: If 'vqa_strategy_type' is of type VQAStrategyType.RAG_Q, 'relevant_docs_count' cannot be None. Skipping...\n",
      "Invalid VQAStrategyDetail: If 'vqa_strategy_type' is of type VQAStrategyType.RAG_Q, 'relevant_docs_count' cannot be None. Skipping...\n",
      "Invalid VQAStrategyDetail: If 'vqa_strategy_type' is of type VQAStrategyType.RAG_Q, 'relevant_docs_count' cannot be None. Skipping...\n",
      "Invalid VQAStrategyDetail: If 'vqa_strategy_type' is of type VQAStrategyType.RAG_Q, 'relevant_docs_count' cannot be None. Skipping...\n",
      "Invalid VQAStrategyDetail: 'doc_splitter_type' has not been set up correctly. If 'doc_splitter_type' is of type DocumentSplitterType.PARAGRAPH_SPLITTER, 'chunk_size' and 'chunk_overlap' must be None. Skipping...\n",
      "Invalid VQAStrategyDetail: 'doc_splitter_type' has not been set up correctly. If 'doc_splitter_type' is of type DocumentSplitterType.PARAGRAPH_SPLITTER, 'chunk_size' and 'chunk_overlap' must be None. Skipping...\n",
      "Invalid VQAStrategyDetail: 'doc_splitter_type' has not been set up correctly. If 'doc_splitter_type' is of type DocumentSplitterType.PARAGRAPH_SPLITTER, 'chunk_size' and 'chunk_overlap' must be None. Skipping...\n",
      "Invalid VQAStrategyDetail: 'doc_splitter_type' has not been set up correctly. If 'doc_splitter_type' is of type DocumentSplitterType.PARAGRAPH_SPLITTER, 'chunk_size' and 'chunk_overlap' must be None. Skipping...\n",
      "Invalid VQAStrategyDetail: 'doc_splitter_type' has not been set up correctly. If 'doc_splitter_type' is of type DocumentSplitterType.PARAGRAPH_SPLITTER, 'chunk_size' and 'chunk_overlap' must be None. Skipping...\n",
      "Invalid VQAStrategyDetail: 'doc_splitter_type' has not been set up correctly. If 'doc_splitter_type' is of type DocumentSplitterType.PARAGRAPH_SPLITTER, 'chunk_size' and 'chunk_overlap' must be None. Skipping...\n",
      "Invalid VQAStrategyDetail: 'doc_splitter_type' has not been set up correctly. If 'doc_splitter_type' is of type DocumentSplitterType.PARAGRAPH_SPLITTER, 'chunk_size' and 'chunk_overlap' must be None. Skipping...\n",
      "Invalid VQAStrategyDetail: 'doc_splitter_type' has not been set up correctly. If 'doc_splitter_type' is of type DocumentSplitterType.PARAGRAPH_SPLITTER, 'chunk_size' and 'chunk_overlap' must be None. Skipping...\n",
      "Invalid VQAStrategyDetail: 'doc_splitter_type' has not been set up correctly. If 'doc_splitter_type' is of type DocumentSplitterType.RECURSIVE_CHARACTER_SPLITTER, 'chunk_size' and 'chunk_overlap' cannot be None. Skipping...\n",
      "Invalid VQAStrategyDetail: 'doc_splitter_type' has not been set up correctly. If 'doc_splitter_type' is of type DocumentSplitterType.RECURSIVE_CHARACTER_SPLITTER, 'chunk_size' and 'chunk_overlap' cannot be None. Skipping...\n",
      "Invalid VQAStrategyDetail: 'doc_splitter_type' has not been set up correctly. If 'doc_splitter_type' is of type DocumentSplitterType.RECURSIVE_CHARACTER_SPLITTER, 'chunk_size' and 'chunk_overlap' cannot be None. Skipping...\n",
      "Invalid VQAStrategyDetail: 'doc_splitter_type' has not been set up correctly. If 'doc_splitter_type' is of type DocumentSplitterType.RECURSIVE_CHARACTER_SPLITTER, 'chunk_size' and 'chunk_overlap' cannot be None. Skipping...\n",
      "Invalid VQAStrategyDetail: 'doc_splitter_type' has not been set up correctly. If 'doc_splitter_type' is of type DocumentSplitterType.RECURSIVE_CHARACTER_SPLITTER, 'chunk_size' and 'chunk_overlap' cannot be None. Skipping...\n",
      "Invalid VQAStrategyDetail: 'doc_splitter_type' has not been set up correctly. If 'doc_splitter_type' is of type DocumentSplitterType.SPACY_SENTENCE_SPLITTER, 'chunk_size' and 'chunk_overlap' must be None. Skipping...\n",
      "Invalid VQAStrategyDetail: 'doc_splitter_type' has not been set up correctly. If 'doc_splitter_type' is of type DocumentSplitterType.SPACY_SENTENCE_SPLITTER, 'chunk_size' and 'chunk_overlap' must be None. Skipping...\n",
      "Invalid VQAStrategyDetail: 'doc_splitter_type' has not been set up correctly. If 'doc_splitter_type' is of type DocumentSplitterType.SPACY_SENTENCE_SPLITTER, 'chunk_size' and 'chunk_overlap' must be None. Skipping...\n",
      "Invalid VQAStrategyDetail: 'doc_splitter_type' has not been set up correctly. If 'doc_splitter_type' is of type DocumentSplitterType.SPACY_SENTENCE_SPLITTER, 'chunk_size' and 'chunk_overlap' must be None. Skipping...\n",
      "Invalid VQAStrategyDetail: 'doc_splitter_type' has not been set up correctly. If 'doc_splitter_type' is of type DocumentSplitterType.SPACY_SENTENCE_SPLITTER, 'chunk_size' and 'chunk_overlap' must be None. Skipping...\n",
      "Invalid VQAStrategyDetail: 'doc_splitter_type' has not been set up correctly. If 'doc_splitter_type' is of type DocumentSplitterType.SPACY_SENTENCE_SPLITTER, 'chunk_size' and 'chunk_overlap' must be None. Skipping...\n",
      "Invalid VQAStrategyDetail: 'doc_splitter_type' has not been set up correctly. If 'doc_splitter_type' is of type DocumentSplitterType.SPACY_SENTENCE_SPLITTER, 'chunk_size' and 'chunk_overlap' must be None. Skipping...\n",
      "Invalid VQAStrategyDetail: 'doc_splitter_type' has not been set up correctly. If 'doc_splitter_type' is of type DocumentSplitterType.SPACY_SENTENCE_SPLITTER, 'chunk_size' and 'chunk_overlap' must be None. Skipping...\n",
      "Invalid VQAStrategyDetail: 'doc_splitter_type' has not been set up correctly. If 'doc_splitter_type' is of type DocumentSplitterType.PARAGRAPH_SPLITTER, 'chunk_size' and 'chunk_overlap' must be None. Skipping...\n",
      "Invalid VQAStrategyDetail: 'doc_splitter_type' has not been set up correctly. If 'doc_splitter_type' is of type DocumentSplitterType.PARAGRAPH_SPLITTER, 'chunk_size' and 'chunk_overlap' must be None. Skipping...\n",
      "Invalid VQAStrategyDetail: 'doc_splitter_type' has not been set up correctly. If 'doc_splitter_type' is of type DocumentSplitterType.PARAGRAPH_SPLITTER, 'chunk_size' and 'chunk_overlap' must be None. Skipping...\n",
      "Invalid VQAStrategyDetail: 'doc_splitter_type' has not been set up correctly. If 'doc_splitter_type' is of type DocumentSplitterType.PARAGRAPH_SPLITTER, 'chunk_size' and 'chunk_overlap' must be None. Skipping...\n",
      "Invalid VQAStrategyDetail: 'doc_splitter_type' has not been set up correctly. If 'doc_splitter_type' is of type DocumentSplitterType.PARAGRAPH_SPLITTER, 'chunk_size' and 'chunk_overlap' must be None. Skipping...\n",
      "Invalid VQAStrategyDetail: 'doc_splitter_type' has not been set up correctly. If 'doc_splitter_type' is of type DocumentSplitterType.PARAGRAPH_SPLITTER, 'chunk_size' and 'chunk_overlap' must be None. Skipping...\n",
      "Invalid VQAStrategyDetail: 'doc_splitter_type' has not been set up correctly. If 'doc_splitter_type' is of type DocumentSplitterType.PARAGRAPH_SPLITTER, 'chunk_size' and 'chunk_overlap' must be None. Skipping...\n",
      "Invalid VQAStrategyDetail: 'doc_splitter_type' has not been set up correctly. If 'doc_splitter_type' is of type DocumentSplitterType.PARAGRAPH_SPLITTER, 'chunk_size' and 'chunk_overlap' must be None. Skipping...\n",
      "Invalid VQAStrategyDetail: 'doc_splitter_type' has not been set up correctly. If 'doc_splitter_type' is of type DocumentSplitterType.RECURSIVE_CHARACTER_SPLITTER, 'chunk_size' and 'chunk_overlap' cannot be None. Skipping...\n",
      "Invalid VQAStrategyDetail: 'doc_splitter_type' has not been set up correctly. If 'doc_splitter_type' is of type DocumentSplitterType.RECURSIVE_CHARACTER_SPLITTER, 'chunk_size' and 'chunk_overlap' cannot be None. Skipping...\n",
      "Invalid VQAStrategyDetail: 'doc_splitter_type' has not been set up correctly. If 'doc_splitter_type' is of type DocumentSplitterType.RECURSIVE_CHARACTER_SPLITTER, 'chunk_size' and 'chunk_overlap' cannot be None. Skipping...\n",
      "Invalid VQAStrategyDetail: 'doc_splitter_type' has not been set up correctly. If 'doc_splitter_type' is of type DocumentSplitterType.RECURSIVE_CHARACTER_SPLITTER, 'chunk_size' and 'chunk_overlap' cannot be None. Skipping...\n",
      "Invalid VQAStrategyDetail: 'doc_splitter_type' has not been set up correctly. If 'doc_splitter_type' is of type DocumentSplitterType.RECURSIVE_CHARACTER_SPLITTER, 'chunk_size' and 'chunk_overlap' cannot be None. Skipping...\n",
      "Invalid VQAStrategyDetail: 'doc_splitter_type' has not been set up correctly. If 'doc_splitter_type' is of type DocumentSplitterType.SPACY_SENTENCE_SPLITTER, 'chunk_size' and 'chunk_overlap' must be None. Skipping...\n",
      "Invalid VQAStrategyDetail: 'doc_splitter_type' has not been set up correctly. If 'doc_splitter_type' is of type DocumentSplitterType.SPACY_SENTENCE_SPLITTER, 'chunk_size' and 'chunk_overlap' must be None. Skipping...\n",
      "Invalid VQAStrategyDetail: 'doc_splitter_type' has not been set up correctly. If 'doc_splitter_type' is of type DocumentSplitterType.SPACY_SENTENCE_SPLITTER, 'chunk_size' and 'chunk_overlap' must be None. Skipping...\n",
      "Invalid VQAStrategyDetail: 'doc_splitter_type' has not been set up correctly. If 'doc_splitter_type' is of type DocumentSplitterType.SPACY_SENTENCE_SPLITTER, 'chunk_size' and 'chunk_overlap' must be None. Skipping...\n",
      "Invalid VQAStrategyDetail: 'doc_splitter_type' has not been set up correctly. If 'doc_splitter_type' is of type DocumentSplitterType.SPACY_SENTENCE_SPLITTER, 'chunk_size' and 'chunk_overlap' must be None. Skipping...\n",
      "Invalid VQAStrategyDetail: 'doc_splitter_type' has not been set up correctly. If 'doc_splitter_type' is of type DocumentSplitterType.SPACY_SENTENCE_SPLITTER, 'chunk_size' and 'chunk_overlap' must be None. Skipping...\n",
      "Invalid VQAStrategyDetail: 'doc_splitter_type' has not been set up correctly. If 'doc_splitter_type' is of type DocumentSplitterType.SPACY_SENTENCE_SPLITTER, 'chunk_size' and 'chunk_overlap' must be None. Skipping...\n",
      "Invalid VQAStrategyDetail: 'doc_splitter_type' has not been set up correctly. If 'doc_splitter_type' is of type DocumentSplitterType.SPACY_SENTENCE_SPLITTER, 'chunk_size' and 'chunk_overlap' must be None. Skipping...\n",
      "Invalid VQAStrategyDetail: 'doc_splitter_type' has not been set up correctly. If 'doc_splitter_type' is of type DocumentSplitterType.PARAGRAPH_SPLITTER, 'chunk_size' and 'chunk_overlap' must be None. Skipping...\n",
      "Invalid VQAStrategyDetail: 'doc_splitter_type' has not been set up correctly. If 'doc_splitter_type' is of type DocumentSplitterType.PARAGRAPH_SPLITTER, 'chunk_size' and 'chunk_overlap' must be None. Skipping...\n",
      "Invalid VQAStrategyDetail: 'doc_splitter_type' has not been set up correctly. If 'doc_splitter_type' is of type DocumentSplitterType.PARAGRAPH_SPLITTER, 'chunk_size' and 'chunk_overlap' must be None. Skipping...\n",
      "Invalid VQAStrategyDetail: 'doc_splitter_type' has not been set up correctly. If 'doc_splitter_type' is of type DocumentSplitterType.PARAGRAPH_SPLITTER, 'chunk_size' and 'chunk_overlap' must be None. Skipping...\n",
      "Invalid VQAStrategyDetail: 'doc_splitter_type' has not been set up correctly. If 'doc_splitter_type' is of type DocumentSplitterType.PARAGRAPH_SPLITTER, 'chunk_size' and 'chunk_overlap' must be None. Skipping...\n",
      "Invalid VQAStrategyDetail: 'doc_splitter_type' has not been set up correctly. If 'doc_splitter_type' is of type DocumentSplitterType.PARAGRAPH_SPLITTER, 'chunk_size' and 'chunk_overlap' must be None. Skipping...\n",
      "Invalid VQAStrategyDetail: 'doc_splitter_type' has not been set up correctly. If 'doc_splitter_type' is of type DocumentSplitterType.PARAGRAPH_SPLITTER, 'chunk_size' and 'chunk_overlap' must be None. Skipping...\n",
      "Invalid VQAStrategyDetail: 'doc_splitter_type' has not been set up correctly. If 'doc_splitter_type' is of type DocumentSplitterType.PARAGRAPH_SPLITTER, 'chunk_size' and 'chunk_overlap' must be None. Skipping...\n",
      "Invalid VQAStrategyDetail: 'doc_splitter_type' has not been set up correctly. If 'doc_splitter_type' is of type DocumentSplitterType.RECURSIVE_CHARACTER_SPLITTER, 'chunk_size' and 'chunk_overlap' cannot be None. Skipping...\n",
      "Invalid VQAStrategyDetail: 'doc_splitter_type' has not been set up correctly. If 'doc_splitter_type' is of type DocumentSplitterType.RECURSIVE_CHARACTER_SPLITTER, 'chunk_size' and 'chunk_overlap' cannot be None. Skipping...\n",
      "Invalid VQAStrategyDetail: 'doc_splitter_type' has not been set up correctly. If 'doc_splitter_type' is of type DocumentSplitterType.RECURSIVE_CHARACTER_SPLITTER, 'chunk_size' and 'chunk_overlap' cannot be None. Skipping...\n",
      "Invalid VQAStrategyDetail: 'doc_splitter_type' has not been set up correctly. If 'doc_splitter_type' is of type DocumentSplitterType.RECURSIVE_CHARACTER_SPLITTER, 'chunk_size' and 'chunk_overlap' cannot be None. Skipping...\n",
      "Invalid VQAStrategyDetail: 'doc_splitter_type' has not been set up correctly. If 'doc_splitter_type' is of type DocumentSplitterType.RECURSIVE_CHARACTER_SPLITTER, 'chunk_size' and 'chunk_overlap' cannot be None. Skipping...\n",
      "Invalid VQAStrategyDetail: 'doc_splitter_type' has not been set up correctly. If 'doc_splitter_type' is of type DocumentSplitterType.SPACY_SENTENCE_SPLITTER, 'chunk_size' and 'chunk_overlap' must be None. Skipping...\n",
      "Invalid VQAStrategyDetail: 'doc_splitter_type' has not been set up correctly. If 'doc_splitter_type' is of type DocumentSplitterType.SPACY_SENTENCE_SPLITTER, 'chunk_size' and 'chunk_overlap' must be None. Skipping...\n",
      "Invalid VQAStrategyDetail: 'doc_splitter_type' has not been set up correctly. If 'doc_splitter_type' is of type DocumentSplitterType.SPACY_SENTENCE_SPLITTER, 'chunk_size' and 'chunk_overlap' must be None. Skipping...\n",
      "Invalid VQAStrategyDetail: 'doc_splitter_type' has not been set up correctly. If 'doc_splitter_type' is of type DocumentSplitterType.SPACY_SENTENCE_SPLITTER, 'chunk_size' and 'chunk_overlap' must be None. Skipping...\n",
      "Invalid VQAStrategyDetail: 'doc_splitter_type' has not been set up correctly. If 'doc_splitter_type' is of type DocumentSplitterType.SPACY_SENTENCE_SPLITTER, 'chunk_size' and 'chunk_overlap' must be None. Skipping...\n",
      "Invalid VQAStrategyDetail: 'doc_splitter_type' has not been set up correctly. If 'doc_splitter_type' is of type DocumentSplitterType.SPACY_SENTENCE_SPLITTER, 'chunk_size' and 'chunk_overlap' must be None. Skipping...\n",
      "Invalid VQAStrategyDetail: 'doc_splitter_type' has not been set up correctly. If 'doc_splitter_type' is of type DocumentSplitterType.SPACY_SENTENCE_SPLITTER, 'chunk_size' and 'chunk_overlap' must be None. Skipping...\n",
      "Invalid VQAStrategyDetail: 'doc_splitter_type' has not been set up correctly. If 'doc_splitter_type' is of type DocumentSplitterType.SPACY_SENTENCE_SPLITTER, 'chunk_size' and 'chunk_overlap' must be None. Skipping...\n",
      "Invalid VQAStrategyDetail: If 'vqa_strategy_type' is of type VQAStrategyType.RAG_Q, 'relevant_docs_count' cannot be None. Skipping...\n",
      "Invalid VQAStrategyDetail: If 'vqa_strategy_type' is of type VQAStrategyType.RAG_Q, 'relevant_docs_count' cannot be None. Skipping...\n",
      "Invalid VQAStrategyDetail: If 'vqa_strategy_type' is of type VQAStrategyType.RAG_Q, 'relevant_docs_count' cannot be None. Skipping...\n",
      "Invalid VQAStrategyDetail: If 'vqa_strategy_type' is of type VQAStrategyType.RAG_Q, 'relevant_docs_count' cannot be None. Skipping...\n",
      "Invalid VQAStrategyDetail: If 'vqa_strategy_type' is of type VQAStrategyType.RAG_Q, 'relevant_docs_count' cannot be None. Skipping...\n",
      "Invalid VQAStrategyDetail: If 'vqa_strategy_type' is of type VQAStrategyType.RAG_Q, 'relevant_docs_count' cannot be None. Skipping...\n",
      "Invalid VQAStrategyDetail: If 'vqa_strategy_type' is of type VQAStrategyType.RAG_Q, 'relevant_docs_count' cannot be None. Skipping...\n",
      "Invalid VQAStrategyDetail: If 'vqa_strategy_type' is of type VQAStrategyType.RAG_Q, 'relevant_docs_count' cannot be None. Skipping...\n",
      "Invalid VQAStrategyDetail: If 'vqa_strategy_type' is of type VQAStrategyType.RAG_Q, 'relevant_docs_count' cannot be None. Skipping...\n",
      "Invalid VQAStrategyDetail: If 'vqa_strategy_type' is of type VQAStrategyType.RAG_Q, 'relevant_docs_count' cannot be None. Skipping...\n",
      "Invalid VQAStrategyDetail: If 'vqa_strategy_type' is of type VQAStrategyType.RAG_Q, 'relevant_docs_count' cannot be None. Skipping...\n",
      "Invalid VQAStrategyDetail: If 'vqa_strategy_type' is of type VQAStrategyType.RAG_Q, 'relevant_docs_count' cannot be None. Skipping...\n",
      "Invalid VQAStrategyDetail: If 'vqa_strategy_type' is of type VQAStrategyType.RAG_Q, 'relevant_docs_count' cannot be None. Skipping...\n",
      "Invalid VQAStrategyDetail: If 'vqa_strategy_type' is of type VQAStrategyType.RAG_Q, 'relevant_docs_count' cannot be None. Skipping...\n",
      "Invalid VQAStrategyDetail: If 'vqa_strategy_type' is of type VQAStrategyType.RAG_Q, 'relevant_docs_count' cannot be None. Skipping...\n",
      "Invalid VQAStrategyDetail: If 'vqa_strategy_type' is of type VQAStrategyType.RAG_Q, 'relevant_docs_count' cannot be None. Skipping...\n",
      "Invalid VQAStrategyDetail: If 'vqa_strategy_type' is of type VQAStrategyType.RAG_Q, 'relevant_docs_count' cannot be None. Skipping...\n",
      "Invalid VQAStrategyDetail: If 'vqa_strategy_type' is of type VQAStrategyType.RAG_Q, 'relevant_docs_count' cannot be None. Skipping...\n",
      "Invalid VQAStrategyDetail: If 'vqa_strategy_type' is of type VQAStrategyType.RAG_Q, 'relevant_docs_count' cannot be None. Skipping...\n",
      "Invalid VQAStrategyDetail: If 'vqa_strategy_type' is of type VQAStrategyType.RAG_Q, 'relevant_docs_count' cannot be None. Skipping...\n",
      "Invalid VQAStrategyDetail: If 'vqa_strategy_type' is of type VQAStrategyType.RAG_Q, 'relevant_docs_count' cannot be None. Skipping...\n",
      "Invalid VQAStrategyDetail: If 'vqa_strategy_type' is of type VQAStrategyType.RAG_Q, 'relevant_docs_count' cannot be None. Skipping...\n",
      "Invalid VQAStrategyDetail: If 'vqa_strategy_type' is of type VQAStrategyType.RAG_Q, 'relevant_docs_count' cannot be None. Skipping...\n",
      "Invalid VQAStrategyDetail: If 'vqa_strategy_type' is of type VQAStrategyType.RAG_Q, 'relevant_docs_count' cannot be None. Skipping...\n",
      "Invalid VQAStrategyDetail: If 'vqa_strategy_type' is of type VQAStrategyType.RAG_Q, 'relevant_docs_count' cannot be None. Skipping...\n",
      "Invalid VQAStrategyDetail: If 'vqa_strategy_type' is of type VQAStrategyType.RAG_Q, 'relevant_docs_count' cannot be None. Skipping...\n",
      "Invalid VQAStrategyDetail: If 'vqa_strategy_type' is of type VQAStrategyType.RAG_Q, 'relevant_docs_count' cannot be None. Skipping...\n",
      "Invalid VQAStrategyDetail: If 'vqa_strategy_type' is of type VQAStrategyType.RAG_Q, 'relevant_docs_count' cannot be None. Skipping...\n",
      "Invalid VQAStrategyDetail: 'doc_splitter_type' has not been set up correctly. If 'doc_splitter_type' is of type DocumentSplitterType.PARAGRAPH_SPLITTER, 'chunk_size' and 'chunk_overlap' must be None. Skipping...\n",
      "Invalid VQAStrategyDetail: 'doc_splitter_type' has not been set up correctly. If 'doc_splitter_type' is of type DocumentSplitterType.PARAGRAPH_SPLITTER, 'chunk_size' and 'chunk_overlap' must be None. Skipping...\n",
      "Invalid VQAStrategyDetail: 'doc_splitter_type' has not been set up correctly. If 'doc_splitter_type' is of type DocumentSplitterType.PARAGRAPH_SPLITTER, 'chunk_size' and 'chunk_overlap' must be None. Skipping...\n",
      "Invalid VQAStrategyDetail: 'doc_splitter_type' has not been set up correctly. If 'doc_splitter_type' is of type DocumentSplitterType.PARAGRAPH_SPLITTER, 'chunk_size' and 'chunk_overlap' must be None. Skipping...\n",
      "Invalid VQAStrategyDetail: 'doc_splitter_type' has not been set up correctly. If 'doc_splitter_type' is of type DocumentSplitterType.PARAGRAPH_SPLITTER, 'chunk_size' and 'chunk_overlap' must be None. Skipping...\n",
      "Invalid VQAStrategyDetail: 'doc_splitter_type' has not been set up correctly. If 'doc_splitter_type' is of type DocumentSplitterType.PARAGRAPH_SPLITTER, 'chunk_size' and 'chunk_overlap' must be None. Skipping...\n",
      "Invalid VQAStrategyDetail: 'doc_splitter_type' has not been set up correctly. If 'doc_splitter_type' is of type DocumentSplitterType.PARAGRAPH_SPLITTER, 'chunk_size' and 'chunk_overlap' must be None. Skipping...\n",
      "Invalid VQAStrategyDetail: 'doc_splitter_type' has not been set up correctly. If 'doc_splitter_type' is of type DocumentSplitterType.PARAGRAPH_SPLITTER, 'chunk_size' and 'chunk_overlap' must be None. Skipping...\n",
      "Invalid VQAStrategyDetail: 'doc_splitter_type' has not been set up correctly. If 'doc_splitter_type' is of type DocumentSplitterType.RECURSIVE_CHARACTER_SPLITTER, 'chunk_size' and 'chunk_overlap' cannot be None. Skipping...\n",
      "Invalid VQAStrategyDetail: 'doc_splitter_type' has not been set up correctly. If 'doc_splitter_type' is of type DocumentSplitterType.RECURSIVE_CHARACTER_SPLITTER, 'chunk_size' and 'chunk_overlap' cannot be None. Skipping...\n",
      "Invalid VQAStrategyDetail: 'doc_splitter_type' has not been set up correctly. If 'doc_splitter_type' is of type DocumentSplitterType.RECURSIVE_CHARACTER_SPLITTER, 'chunk_size' and 'chunk_overlap' cannot be None. Skipping...\n",
      "Invalid VQAStrategyDetail: 'doc_splitter_type' has not been set up correctly. If 'doc_splitter_type' is of type DocumentSplitterType.RECURSIVE_CHARACTER_SPLITTER, 'chunk_size' and 'chunk_overlap' cannot be None. Skipping...\n",
      "Invalid VQAStrategyDetail: 'doc_splitter_type' has not been set up correctly. If 'doc_splitter_type' is of type DocumentSplitterType.RECURSIVE_CHARACTER_SPLITTER, 'chunk_size' and 'chunk_overlap' cannot be None. Skipping...\n",
      "Invalid VQAStrategyDetail: 'doc_splitter_type' has not been set up correctly. If 'doc_splitter_type' is of type DocumentSplitterType.SPACY_SENTENCE_SPLITTER, 'chunk_size' and 'chunk_overlap' must be None. Skipping...\n",
      "Invalid VQAStrategyDetail: 'doc_splitter_type' has not been set up correctly. If 'doc_splitter_type' is of type DocumentSplitterType.SPACY_SENTENCE_SPLITTER, 'chunk_size' and 'chunk_overlap' must be None. Skipping...\n",
      "Invalid VQAStrategyDetail: 'doc_splitter_type' has not been set up correctly. If 'doc_splitter_type' is of type DocumentSplitterType.SPACY_SENTENCE_SPLITTER, 'chunk_size' and 'chunk_overlap' must be None. Skipping...\n",
      "Invalid VQAStrategyDetail: 'doc_splitter_type' has not been set up correctly. If 'doc_splitter_type' is of type DocumentSplitterType.SPACY_SENTENCE_SPLITTER, 'chunk_size' and 'chunk_overlap' must be None. Skipping...\n",
      "Invalid VQAStrategyDetail: 'doc_splitter_type' has not been set up correctly. If 'doc_splitter_type' is of type DocumentSplitterType.SPACY_SENTENCE_SPLITTER, 'chunk_size' and 'chunk_overlap' must be None. Skipping...\n",
      "Invalid VQAStrategyDetail: 'doc_splitter_type' has not been set up correctly. If 'doc_splitter_type' is of type DocumentSplitterType.SPACY_SENTENCE_SPLITTER, 'chunk_size' and 'chunk_overlap' must be None. Skipping...\n",
      "Invalid VQAStrategyDetail: 'doc_splitter_type' has not been set up correctly. If 'doc_splitter_type' is of type DocumentSplitterType.SPACY_SENTENCE_SPLITTER, 'chunk_size' and 'chunk_overlap' must be None. Skipping...\n",
      "Invalid VQAStrategyDetail: 'doc_splitter_type' has not been set up correctly. If 'doc_splitter_type' is of type DocumentSplitterType.SPACY_SENTENCE_SPLITTER, 'chunk_size' and 'chunk_overlap' must be None. Skipping...\n",
      "Invalid VQAStrategyDetail: 'doc_splitter_type' has not been set up correctly. If 'doc_splitter_type' is of type DocumentSplitterType.PARAGRAPH_SPLITTER, 'chunk_size' and 'chunk_overlap' must be None. Skipping...\n",
      "Invalid VQAStrategyDetail: 'doc_splitter_type' has not been set up correctly. If 'doc_splitter_type' is of type DocumentSplitterType.PARAGRAPH_SPLITTER, 'chunk_size' and 'chunk_overlap' must be None. Skipping...\n",
      "Invalid VQAStrategyDetail: 'doc_splitter_type' has not been set up correctly. If 'doc_splitter_type' is of type DocumentSplitterType.PARAGRAPH_SPLITTER, 'chunk_size' and 'chunk_overlap' must be None. Skipping...\n",
      "Invalid VQAStrategyDetail: 'doc_splitter_type' has not been set up correctly. If 'doc_splitter_type' is of type DocumentSplitterType.PARAGRAPH_SPLITTER, 'chunk_size' and 'chunk_overlap' must be None. Skipping...\n",
      "Invalid VQAStrategyDetail: 'doc_splitter_type' has not been set up correctly. If 'doc_splitter_type' is of type DocumentSplitterType.PARAGRAPH_SPLITTER, 'chunk_size' and 'chunk_overlap' must be None. Skipping...\n",
      "Invalid VQAStrategyDetail: 'doc_splitter_type' has not been set up correctly. If 'doc_splitter_type' is of type DocumentSplitterType.PARAGRAPH_SPLITTER, 'chunk_size' and 'chunk_overlap' must be None. Skipping...\n",
      "Invalid VQAStrategyDetail: 'doc_splitter_type' has not been set up correctly. If 'doc_splitter_type' is of type DocumentSplitterType.PARAGRAPH_SPLITTER, 'chunk_size' and 'chunk_overlap' must be None. Skipping...\n",
      "Invalid VQAStrategyDetail: 'doc_splitter_type' has not been set up correctly. If 'doc_splitter_type' is of type DocumentSplitterType.PARAGRAPH_SPLITTER, 'chunk_size' and 'chunk_overlap' must be None. Skipping...\n",
      "Invalid VQAStrategyDetail: 'doc_splitter_type' has not been set up correctly. If 'doc_splitter_type' is of type DocumentSplitterType.RECURSIVE_CHARACTER_SPLITTER, 'chunk_size' and 'chunk_overlap' cannot be None. Skipping...\n",
      "Invalid VQAStrategyDetail: 'doc_splitter_type' has not been set up correctly. If 'doc_splitter_type' is of type DocumentSplitterType.RECURSIVE_CHARACTER_SPLITTER, 'chunk_size' and 'chunk_overlap' cannot be None. Skipping...\n",
      "Invalid VQAStrategyDetail: 'doc_splitter_type' has not been set up correctly. If 'doc_splitter_type' is of type DocumentSplitterType.RECURSIVE_CHARACTER_SPLITTER, 'chunk_size' and 'chunk_overlap' cannot be None. Skipping...\n",
      "Invalid VQAStrategyDetail: 'doc_splitter_type' has not been set up correctly. If 'doc_splitter_type' is of type DocumentSplitterType.RECURSIVE_CHARACTER_SPLITTER, 'chunk_size' and 'chunk_overlap' cannot be None. Skipping...\n",
      "Invalid VQAStrategyDetail: 'doc_splitter_type' has not been set up correctly. If 'doc_splitter_type' is of type DocumentSplitterType.RECURSIVE_CHARACTER_SPLITTER, 'chunk_size' and 'chunk_overlap' cannot be None. Skipping...\n",
      "Invalid VQAStrategyDetail: 'doc_splitter_type' has not been set up correctly. If 'doc_splitter_type' is of type DocumentSplitterType.SPACY_SENTENCE_SPLITTER, 'chunk_size' and 'chunk_overlap' must be None. Skipping...\n",
      "Invalid VQAStrategyDetail: 'doc_splitter_type' has not been set up correctly. If 'doc_splitter_type' is of type DocumentSplitterType.SPACY_SENTENCE_SPLITTER, 'chunk_size' and 'chunk_overlap' must be None. Skipping...\n",
      "Invalid VQAStrategyDetail: 'doc_splitter_type' has not been set up correctly. If 'doc_splitter_type' is of type DocumentSplitterType.SPACY_SENTENCE_SPLITTER, 'chunk_size' and 'chunk_overlap' must be None. Skipping...\n",
      "Invalid VQAStrategyDetail: 'doc_splitter_type' has not been set up correctly. If 'doc_splitter_type' is of type DocumentSplitterType.SPACY_SENTENCE_SPLITTER, 'chunk_size' and 'chunk_overlap' must be None. Skipping...\n",
      "Invalid VQAStrategyDetail: 'doc_splitter_type' has not been set up correctly. If 'doc_splitter_type' is of type DocumentSplitterType.SPACY_SENTENCE_SPLITTER, 'chunk_size' and 'chunk_overlap' must be None. Skipping...\n",
      "Invalid VQAStrategyDetail: 'doc_splitter_type' has not been set up correctly. If 'doc_splitter_type' is of type DocumentSplitterType.SPACY_SENTENCE_SPLITTER, 'chunk_size' and 'chunk_overlap' must be None. Skipping...\n",
      "Invalid VQAStrategyDetail: 'doc_splitter_type' has not been set up correctly. If 'doc_splitter_type' is of type DocumentSplitterType.SPACY_SENTENCE_SPLITTER, 'chunk_size' and 'chunk_overlap' must be None. Skipping...\n",
      "Invalid VQAStrategyDetail: 'doc_splitter_type' has not been set up correctly. If 'doc_splitter_type' is of type DocumentSplitterType.SPACY_SENTENCE_SPLITTER, 'chunk_size' and 'chunk_overlap' must be None. Skipping...\n",
      "Invalid VQAStrategyDetail: 'doc_splitter_type' has not been set up correctly. If 'doc_splitter_type' is of type DocumentSplitterType.PARAGRAPH_SPLITTER, 'chunk_size' and 'chunk_overlap' must be None. Skipping...\n",
      "Invalid VQAStrategyDetail: 'doc_splitter_type' has not been set up correctly. If 'doc_splitter_type' is of type DocumentSplitterType.PARAGRAPH_SPLITTER, 'chunk_size' and 'chunk_overlap' must be None. Skipping...\n",
      "Invalid VQAStrategyDetail: 'doc_splitter_type' has not been set up correctly. If 'doc_splitter_type' is of type DocumentSplitterType.PARAGRAPH_SPLITTER, 'chunk_size' and 'chunk_overlap' must be None. Skipping...\n",
      "Invalid VQAStrategyDetail: 'doc_splitter_type' has not been set up correctly. If 'doc_splitter_type' is of type DocumentSplitterType.PARAGRAPH_SPLITTER, 'chunk_size' and 'chunk_overlap' must be None. Skipping...\n",
      "Invalid VQAStrategyDetail: 'doc_splitter_type' has not been set up correctly. If 'doc_splitter_type' is of type DocumentSplitterType.PARAGRAPH_SPLITTER, 'chunk_size' and 'chunk_overlap' must be None. Skipping...\n",
      "Invalid VQAStrategyDetail: 'doc_splitter_type' has not been set up correctly. If 'doc_splitter_type' is of type DocumentSplitterType.PARAGRAPH_SPLITTER, 'chunk_size' and 'chunk_overlap' must be None. Skipping...\n",
      "Invalid VQAStrategyDetail: 'doc_splitter_type' has not been set up correctly. If 'doc_splitter_type' is of type DocumentSplitterType.PARAGRAPH_SPLITTER, 'chunk_size' and 'chunk_overlap' must be None. Skipping...\n",
      "Invalid VQAStrategyDetail: 'doc_splitter_type' has not been set up correctly. If 'doc_splitter_type' is of type DocumentSplitterType.PARAGRAPH_SPLITTER, 'chunk_size' and 'chunk_overlap' must be None. Skipping...\n",
      "Invalid VQAStrategyDetail: 'doc_splitter_type' has not been set up correctly. If 'doc_splitter_type' is of type DocumentSplitterType.RECURSIVE_CHARACTER_SPLITTER, 'chunk_size' and 'chunk_overlap' cannot be None. Skipping...\n",
      "Invalid VQAStrategyDetail: 'doc_splitter_type' has not been set up correctly. If 'doc_splitter_type' is of type DocumentSplitterType.RECURSIVE_CHARACTER_SPLITTER, 'chunk_size' and 'chunk_overlap' cannot be None. Skipping...\n",
      "Invalid VQAStrategyDetail: 'doc_splitter_type' has not been set up correctly. If 'doc_splitter_type' is of type DocumentSplitterType.RECURSIVE_CHARACTER_SPLITTER, 'chunk_size' and 'chunk_overlap' cannot be None. Skipping...\n",
      "Invalid VQAStrategyDetail: 'doc_splitter_type' has not been set up correctly. If 'doc_splitter_type' is of type DocumentSplitterType.RECURSIVE_CHARACTER_SPLITTER, 'chunk_size' and 'chunk_overlap' cannot be None. Skipping...\n",
      "Invalid VQAStrategyDetail: 'doc_splitter_type' has not been set up correctly. If 'doc_splitter_type' is of type DocumentSplitterType.RECURSIVE_CHARACTER_SPLITTER, 'chunk_size' and 'chunk_overlap' cannot be None. Skipping...\n",
      "Invalid VQAStrategyDetail: 'doc_splitter_type' has not been set up correctly. If 'doc_splitter_type' is of type DocumentSplitterType.SPACY_SENTENCE_SPLITTER, 'chunk_size' and 'chunk_overlap' must be None. Skipping...\n",
      "Invalid VQAStrategyDetail: 'doc_splitter_type' has not been set up correctly. If 'doc_splitter_type' is of type DocumentSplitterType.SPACY_SENTENCE_SPLITTER, 'chunk_size' and 'chunk_overlap' must be None. Skipping...\n",
      "Invalid VQAStrategyDetail: 'doc_splitter_type' has not been set up correctly. If 'doc_splitter_type' is of type DocumentSplitterType.SPACY_SENTENCE_SPLITTER, 'chunk_size' and 'chunk_overlap' must be None. Skipping...\n",
      "Invalid VQAStrategyDetail: 'doc_splitter_type' has not been set up correctly. If 'doc_splitter_type' is of type DocumentSplitterType.SPACY_SENTENCE_SPLITTER, 'chunk_size' and 'chunk_overlap' must be None. Skipping...\n",
      "Invalid VQAStrategyDetail: 'doc_splitter_type' has not been set up correctly. If 'doc_splitter_type' is of type DocumentSplitterType.SPACY_SENTENCE_SPLITTER, 'chunk_size' and 'chunk_overlap' must be None. Skipping...\n",
      "Invalid VQAStrategyDetail: 'doc_splitter_type' has not been set up correctly. If 'doc_splitter_type' is of type DocumentSplitterType.SPACY_SENTENCE_SPLITTER, 'chunk_size' and 'chunk_overlap' must be None. Skipping...\n",
      "Invalid VQAStrategyDetail: 'doc_splitter_type' has not been set up correctly. If 'doc_splitter_type' is of type DocumentSplitterType.SPACY_SENTENCE_SPLITTER, 'chunk_size' and 'chunk_overlap' must be None. Skipping...\n",
      "Invalid VQAStrategyDetail: 'doc_splitter_type' has not been set up correctly. If 'doc_splitter_type' is of type DocumentSplitterType.SPACY_SENTENCE_SPLITTER, 'chunk_size' and 'chunk_overlap' must be None. Skipping...\n",
      "Invalid VQAStrategyDetail: If 'vqa_strategy_type' is of type VQAStrategyType.RAG_Q, 'relevant_docs_count' cannot be None. Skipping...\n",
      "Invalid VQAStrategyDetail: If 'vqa_strategy_type' is of type VQAStrategyType.RAG_Q, 'relevant_docs_count' cannot be None. Skipping...\n",
      "Invalid VQAStrategyDetail: If 'vqa_strategy_type' is of type VQAStrategyType.RAG_Q, 'relevant_docs_count' cannot be None. Skipping...\n",
      "Invalid VQAStrategyDetail: If 'vqa_strategy_type' is of type VQAStrategyType.RAG_Q, 'relevant_docs_count' cannot be None. Skipping...\n",
      "Invalid VQAStrategyDetail: If 'vqa_strategy_type' is of type VQAStrategyType.RAG_Q, 'relevant_docs_count' cannot be None. Skipping...\n",
      "Invalid VQAStrategyDetail: If 'vqa_strategy_type' is of type VQAStrategyType.RAG_Q, 'relevant_docs_count' cannot be None. Skipping...\n",
      "Invalid VQAStrategyDetail: If 'vqa_strategy_type' is of type VQAStrategyType.RAG_Q, 'relevant_docs_count' cannot be None. Skipping...\n",
      "Invalid VQAStrategyDetail: If 'vqa_strategy_type' is of type VQAStrategyType.RAG_Q, 'relevant_docs_count' cannot be None. Skipping...\n",
      "Invalid VQAStrategyDetail: If 'vqa_strategy_type' is of type VQAStrategyType.RAG_Q, 'relevant_docs_count' cannot be None. Skipping...\n",
      "Invalid VQAStrategyDetail: If 'vqa_strategy_type' is of type VQAStrategyType.RAG_Q, 'relevant_docs_count' cannot be None. Skipping...\n",
      "Invalid VQAStrategyDetail: If 'vqa_strategy_type' is of type VQAStrategyType.RAG_Q, 'relevant_docs_count' cannot be None. Skipping...\n",
      "Invalid VQAStrategyDetail: If 'vqa_strategy_type' is of type VQAStrategyType.RAG_Q, 'relevant_docs_count' cannot be None. Skipping...\n",
      "Invalid VQAStrategyDetail: If 'vqa_strategy_type' is of type VQAStrategyType.RAG_Q, 'relevant_docs_count' cannot be None. Skipping...\n",
      "Invalid VQAStrategyDetail: If 'vqa_strategy_type' is of type VQAStrategyType.RAG_Q, 'relevant_docs_count' cannot be None. Skipping...\n",
      "Invalid VQAStrategyDetail: If 'vqa_strategy_type' is of type VQAStrategyType.RAG_Q, 'relevant_docs_count' cannot be None. Skipping...\n",
      "Invalid VQAStrategyDetail: If 'vqa_strategy_type' is of type VQAStrategyType.RAG_Q, 'relevant_docs_count' cannot be None. Skipping...\n",
      "Invalid VQAStrategyDetail: If 'vqa_strategy_type' is of type VQAStrategyType.RAG_Q, 'relevant_docs_count' cannot be None. Skipping...\n",
      "Invalid VQAStrategyDetail: If 'vqa_strategy_type' is of type VQAStrategyType.RAG_Q, 'relevant_docs_count' cannot be None. Skipping...\n",
      "Invalid VQAStrategyDetail: If 'vqa_strategy_type' is of type VQAStrategyType.RAG_Q, 'relevant_docs_count' cannot be None. Skipping...\n",
      "Invalid VQAStrategyDetail: If 'vqa_strategy_type' is of type VQAStrategyType.RAG_Q, 'relevant_docs_count' cannot be None. Skipping...\n",
      "Invalid VQAStrategyDetail: If 'vqa_strategy_type' is of type VQAStrategyType.RAG_Q, 'relevant_docs_count' cannot be None. Skipping...\n",
      "Invalid VQAStrategyDetail: If 'vqa_strategy_type' is of type VQAStrategyType.RAG_Q, 'relevant_docs_count' cannot be None. Skipping...\n",
      "Invalid VQAStrategyDetail: If 'vqa_strategy_type' is of type VQAStrategyType.RAG_Q, 'relevant_docs_count' cannot be None. Skipping...\n",
      "Invalid VQAStrategyDetail: If 'vqa_strategy_type' is of type VQAStrategyType.RAG_Q, 'relevant_docs_count' cannot be None. Skipping...\n",
      "Invalid VQAStrategyDetail: If 'vqa_strategy_type' is of type VQAStrategyType.RAG_Q, 'relevant_docs_count' cannot be None. Skipping...\n",
      "Invalid VQAStrategyDetail: If 'vqa_strategy_type' is of type VQAStrategyType.RAG_Q, 'relevant_docs_count' cannot be None. Skipping...\n",
      "Invalid VQAStrategyDetail: If 'vqa_strategy_type' is of type VQAStrategyType.RAG_Q, 'relevant_docs_count' cannot be None. Skipping...\n",
      "Invalid VQAStrategyDetail: If 'vqa_strategy_type' is of type VQAStrategyType.RAG_Q, 'relevant_docs_count' cannot be None. Skipping...\n",
      "Invalid VQAStrategyDetail: 'doc_splitter_type' has not been set up correctly. If 'doc_splitter_type' is of type DocumentSplitterType.PARAGRAPH_SPLITTER, 'chunk_size' and 'chunk_overlap' must be None. Skipping...\n",
      "Invalid VQAStrategyDetail: 'doc_splitter_type' has not been set up correctly. If 'doc_splitter_type' is of type DocumentSplitterType.PARAGRAPH_SPLITTER, 'chunk_size' and 'chunk_overlap' must be None. Skipping...\n",
      "Invalid VQAStrategyDetail: 'doc_splitter_type' has not been set up correctly. If 'doc_splitter_type' is of type DocumentSplitterType.PARAGRAPH_SPLITTER, 'chunk_size' and 'chunk_overlap' must be None. Skipping...\n",
      "Invalid VQAStrategyDetail: 'doc_splitter_type' has not been set up correctly. If 'doc_splitter_type' is of type DocumentSplitterType.PARAGRAPH_SPLITTER, 'chunk_size' and 'chunk_overlap' must be None. Skipping...\n",
      "Invalid VQAStrategyDetail: 'doc_splitter_type' has not been set up correctly. If 'doc_splitter_type' is of type DocumentSplitterType.PARAGRAPH_SPLITTER, 'chunk_size' and 'chunk_overlap' must be None. Skipping...\n",
      "Invalid VQAStrategyDetail: 'doc_splitter_type' has not been set up correctly. If 'doc_splitter_type' is of type DocumentSplitterType.PARAGRAPH_SPLITTER, 'chunk_size' and 'chunk_overlap' must be None. Skipping...\n",
      "Invalid VQAStrategyDetail: 'doc_splitter_type' has not been set up correctly. If 'doc_splitter_type' is of type DocumentSplitterType.PARAGRAPH_SPLITTER, 'chunk_size' and 'chunk_overlap' must be None. Skipping...\n",
      "Invalid VQAStrategyDetail: 'doc_splitter_type' has not been set up correctly. If 'doc_splitter_type' is of type DocumentSplitterType.PARAGRAPH_SPLITTER, 'chunk_size' and 'chunk_overlap' must be None. Skipping...\n",
      "Invalid VQAStrategyDetail: 'doc_splitter_type' has not been set up correctly. If 'doc_splitter_type' is of type DocumentSplitterType.RECURSIVE_CHARACTER_SPLITTER, 'chunk_size' and 'chunk_overlap' cannot be None. Skipping...\n",
      "Invalid VQAStrategyDetail: 'doc_splitter_type' has not been set up correctly. If 'doc_splitter_type' is of type DocumentSplitterType.RECURSIVE_CHARACTER_SPLITTER, 'chunk_size' and 'chunk_overlap' cannot be None. Skipping...\n",
      "Invalid VQAStrategyDetail: 'doc_splitter_type' has not been set up correctly. If 'doc_splitter_type' is of type DocumentSplitterType.RECURSIVE_CHARACTER_SPLITTER, 'chunk_size' and 'chunk_overlap' cannot be None. Skipping...\n",
      "Invalid VQAStrategyDetail: 'doc_splitter_type' has not been set up correctly. If 'doc_splitter_type' is of type DocumentSplitterType.RECURSIVE_CHARACTER_SPLITTER, 'chunk_size' and 'chunk_overlap' cannot be None. Skipping...\n",
      "Invalid VQAStrategyDetail: 'doc_splitter_type' has not been set up correctly. If 'doc_splitter_type' is of type DocumentSplitterType.RECURSIVE_CHARACTER_SPLITTER, 'chunk_size' and 'chunk_overlap' cannot be None. Skipping...\n",
      "Invalid VQAStrategyDetail: 'doc_splitter_type' has not been set up correctly. If 'doc_splitter_type' is of type DocumentSplitterType.SPACY_SENTENCE_SPLITTER, 'chunk_size' and 'chunk_overlap' must be None. Skipping...\n",
      "Invalid VQAStrategyDetail: 'doc_splitter_type' has not been set up correctly. If 'doc_splitter_type' is of type DocumentSplitterType.SPACY_SENTENCE_SPLITTER, 'chunk_size' and 'chunk_overlap' must be None. Skipping...\n",
      "Invalid VQAStrategyDetail: 'doc_splitter_type' has not been set up correctly. If 'doc_splitter_type' is of type DocumentSplitterType.SPACY_SENTENCE_SPLITTER, 'chunk_size' and 'chunk_overlap' must be None. Skipping...\n",
      "Invalid VQAStrategyDetail: 'doc_splitter_type' has not been set up correctly. If 'doc_splitter_type' is of type DocumentSplitterType.SPACY_SENTENCE_SPLITTER, 'chunk_size' and 'chunk_overlap' must be None. Skipping...\n",
      "Invalid VQAStrategyDetail: 'doc_splitter_type' has not been set up correctly. If 'doc_splitter_type' is of type DocumentSplitterType.SPACY_SENTENCE_SPLITTER, 'chunk_size' and 'chunk_overlap' must be None. Skipping...\n",
      "Invalid VQAStrategyDetail: 'doc_splitter_type' has not been set up correctly. If 'doc_splitter_type' is of type DocumentSplitterType.SPACY_SENTENCE_SPLITTER, 'chunk_size' and 'chunk_overlap' must be None. Skipping...\n",
      "Invalid VQAStrategyDetail: 'doc_splitter_type' has not been set up correctly. If 'doc_splitter_type' is of type DocumentSplitterType.SPACY_SENTENCE_SPLITTER, 'chunk_size' and 'chunk_overlap' must be None. Skipping...\n",
      "Invalid VQAStrategyDetail: 'doc_splitter_type' has not been set up correctly. If 'doc_splitter_type' is of type DocumentSplitterType.SPACY_SENTENCE_SPLITTER, 'chunk_size' and 'chunk_overlap' must be None. Skipping...\n",
      "Invalid VQAStrategyDetail: 'doc_splitter_type' has not been set up correctly. If 'doc_splitter_type' is of type DocumentSplitterType.PARAGRAPH_SPLITTER, 'chunk_size' and 'chunk_overlap' must be None. Skipping...\n",
      "Invalid VQAStrategyDetail: 'doc_splitter_type' has not been set up correctly. If 'doc_splitter_type' is of type DocumentSplitterType.PARAGRAPH_SPLITTER, 'chunk_size' and 'chunk_overlap' must be None. Skipping...\n",
      "Invalid VQAStrategyDetail: 'doc_splitter_type' has not been set up correctly. If 'doc_splitter_type' is of type DocumentSplitterType.PARAGRAPH_SPLITTER, 'chunk_size' and 'chunk_overlap' must be None. Skipping...\n",
      "Invalid VQAStrategyDetail: 'doc_splitter_type' has not been set up correctly. If 'doc_splitter_type' is of type DocumentSplitterType.PARAGRAPH_SPLITTER, 'chunk_size' and 'chunk_overlap' must be None. Skipping...\n",
      "Invalid VQAStrategyDetail: 'doc_splitter_type' has not been set up correctly. If 'doc_splitter_type' is of type DocumentSplitterType.PARAGRAPH_SPLITTER, 'chunk_size' and 'chunk_overlap' must be None. Skipping...\n",
      "Invalid VQAStrategyDetail: 'doc_splitter_type' has not been set up correctly. If 'doc_splitter_type' is of type DocumentSplitterType.PARAGRAPH_SPLITTER, 'chunk_size' and 'chunk_overlap' must be None. Skipping...\n",
      "Invalid VQAStrategyDetail: 'doc_splitter_type' has not been set up correctly. If 'doc_splitter_type' is of type DocumentSplitterType.PARAGRAPH_SPLITTER, 'chunk_size' and 'chunk_overlap' must be None. Skipping...\n",
      "Invalid VQAStrategyDetail: 'doc_splitter_type' has not been set up correctly. If 'doc_splitter_type' is of type DocumentSplitterType.PARAGRAPH_SPLITTER, 'chunk_size' and 'chunk_overlap' must be None. Skipping...\n",
      "Invalid VQAStrategyDetail: 'doc_splitter_type' has not been set up correctly. If 'doc_splitter_type' is of type DocumentSplitterType.RECURSIVE_CHARACTER_SPLITTER, 'chunk_size' and 'chunk_overlap' cannot be None. Skipping...\n",
      "Invalid VQAStrategyDetail: 'doc_splitter_type' has not been set up correctly. If 'doc_splitter_type' is of type DocumentSplitterType.RECURSIVE_CHARACTER_SPLITTER, 'chunk_size' and 'chunk_overlap' cannot be None. Skipping...\n",
      "Invalid VQAStrategyDetail: 'doc_splitter_type' has not been set up correctly. If 'doc_splitter_type' is of type DocumentSplitterType.RECURSIVE_CHARACTER_SPLITTER, 'chunk_size' and 'chunk_overlap' cannot be None. Skipping...\n",
      "Invalid VQAStrategyDetail: 'doc_splitter_type' has not been set up correctly. If 'doc_splitter_type' is of type DocumentSplitterType.RECURSIVE_CHARACTER_SPLITTER, 'chunk_size' and 'chunk_overlap' cannot be None. Skipping...\n",
      "Invalid VQAStrategyDetail: 'doc_splitter_type' has not been set up correctly. If 'doc_splitter_type' is of type DocumentSplitterType.RECURSIVE_CHARACTER_SPLITTER, 'chunk_size' and 'chunk_overlap' cannot be None. Skipping...\n",
      "Invalid VQAStrategyDetail: 'doc_splitter_type' has not been set up correctly. If 'doc_splitter_type' is of type DocumentSplitterType.SPACY_SENTENCE_SPLITTER, 'chunk_size' and 'chunk_overlap' must be None. Skipping...\n",
      "Invalid VQAStrategyDetail: 'doc_splitter_type' has not been set up correctly. If 'doc_splitter_type' is of type DocumentSplitterType.SPACY_SENTENCE_SPLITTER, 'chunk_size' and 'chunk_overlap' must be None. Skipping...\n",
      "Invalid VQAStrategyDetail: 'doc_splitter_type' has not been set up correctly. If 'doc_splitter_type' is of type DocumentSplitterType.SPACY_SENTENCE_SPLITTER, 'chunk_size' and 'chunk_overlap' must be None. Skipping...\n",
      "Invalid VQAStrategyDetail: 'doc_splitter_type' has not been set up correctly. If 'doc_splitter_type' is of type DocumentSplitterType.SPACY_SENTENCE_SPLITTER, 'chunk_size' and 'chunk_overlap' must be None. Skipping...\n",
      "Invalid VQAStrategyDetail: 'doc_splitter_type' has not been set up correctly. If 'doc_splitter_type' is of type DocumentSplitterType.SPACY_SENTENCE_SPLITTER, 'chunk_size' and 'chunk_overlap' must be None. Skipping...\n",
      "Invalid VQAStrategyDetail: 'doc_splitter_type' has not been set up correctly. If 'doc_splitter_type' is of type DocumentSplitterType.SPACY_SENTENCE_SPLITTER, 'chunk_size' and 'chunk_overlap' must be None. Skipping...\n",
      "Invalid VQAStrategyDetail: 'doc_splitter_type' has not been set up correctly. If 'doc_splitter_type' is of type DocumentSplitterType.SPACY_SENTENCE_SPLITTER, 'chunk_size' and 'chunk_overlap' must be None. Skipping...\n",
      "Invalid VQAStrategyDetail: 'doc_splitter_type' has not been set up correctly. If 'doc_splitter_type' is of type DocumentSplitterType.SPACY_SENTENCE_SPLITTER, 'chunk_size' and 'chunk_overlap' must be None. Skipping...\n",
      "Invalid VQAStrategyDetail: 'doc_splitter_type' has not been set up correctly. If 'doc_splitter_type' is of type DocumentSplitterType.PARAGRAPH_SPLITTER, 'chunk_size' and 'chunk_overlap' must be None. Skipping...\n",
      "Invalid VQAStrategyDetail: 'doc_splitter_type' has not been set up correctly. If 'doc_splitter_type' is of type DocumentSplitterType.PARAGRAPH_SPLITTER, 'chunk_size' and 'chunk_overlap' must be None. Skipping...\n",
      "Invalid VQAStrategyDetail: 'doc_splitter_type' has not been set up correctly. If 'doc_splitter_type' is of type DocumentSplitterType.PARAGRAPH_SPLITTER, 'chunk_size' and 'chunk_overlap' must be None. Skipping...\n",
      "Invalid VQAStrategyDetail: 'doc_splitter_type' has not been set up correctly. If 'doc_splitter_type' is of type DocumentSplitterType.PARAGRAPH_SPLITTER, 'chunk_size' and 'chunk_overlap' must be None. Skipping...\n",
      "Invalid VQAStrategyDetail: 'doc_splitter_type' has not been set up correctly. If 'doc_splitter_type' is of type DocumentSplitterType.PARAGRAPH_SPLITTER, 'chunk_size' and 'chunk_overlap' must be None. Skipping...\n",
      "Invalid VQAStrategyDetail: 'doc_splitter_type' has not been set up correctly. If 'doc_splitter_type' is of type DocumentSplitterType.PARAGRAPH_SPLITTER, 'chunk_size' and 'chunk_overlap' must be None. Skipping...\n",
      "Invalid VQAStrategyDetail: 'doc_splitter_type' has not been set up correctly. If 'doc_splitter_type' is of type DocumentSplitterType.PARAGRAPH_SPLITTER, 'chunk_size' and 'chunk_overlap' must be None. Skipping...\n",
      "Invalid VQAStrategyDetail: 'doc_splitter_type' has not been set up correctly. If 'doc_splitter_type' is of type DocumentSplitterType.PARAGRAPH_SPLITTER, 'chunk_size' and 'chunk_overlap' must be None. Skipping...\n",
      "Invalid VQAStrategyDetail: 'doc_splitter_type' has not been set up correctly. If 'doc_splitter_type' is of type DocumentSplitterType.RECURSIVE_CHARACTER_SPLITTER, 'chunk_size' and 'chunk_overlap' cannot be None. Skipping...\n",
      "Invalid VQAStrategyDetail: 'doc_splitter_type' has not been set up correctly. If 'doc_splitter_type' is of type DocumentSplitterType.RECURSIVE_CHARACTER_SPLITTER, 'chunk_size' and 'chunk_overlap' cannot be None. Skipping...\n",
      "Invalid VQAStrategyDetail: 'doc_splitter_type' has not been set up correctly. If 'doc_splitter_type' is of type DocumentSplitterType.RECURSIVE_CHARACTER_SPLITTER, 'chunk_size' and 'chunk_overlap' cannot be None. Skipping...\n",
      "Invalid VQAStrategyDetail: 'doc_splitter_type' has not been set up correctly. If 'doc_splitter_type' is of type DocumentSplitterType.RECURSIVE_CHARACTER_SPLITTER, 'chunk_size' and 'chunk_overlap' cannot be None. Skipping...\n",
      "Invalid VQAStrategyDetail: 'doc_splitter_type' has not been set up correctly. If 'doc_splitter_type' is of type DocumentSplitterType.RECURSIVE_CHARACTER_SPLITTER, 'chunk_size' and 'chunk_overlap' cannot be None. Skipping...\n",
      "Invalid VQAStrategyDetail: 'doc_splitter_type' has not been set up correctly. If 'doc_splitter_type' is of type DocumentSplitterType.SPACY_SENTENCE_SPLITTER, 'chunk_size' and 'chunk_overlap' must be None. Skipping...\n",
      "Invalid VQAStrategyDetail: 'doc_splitter_type' has not been set up correctly. If 'doc_splitter_type' is of type DocumentSplitterType.SPACY_SENTENCE_SPLITTER, 'chunk_size' and 'chunk_overlap' must be None. Skipping...\n",
      "Invalid VQAStrategyDetail: 'doc_splitter_type' has not been set up correctly. If 'doc_splitter_type' is of type DocumentSplitterType.SPACY_SENTENCE_SPLITTER, 'chunk_size' and 'chunk_overlap' must be None. Skipping...\n",
      "Invalid VQAStrategyDetail: 'doc_splitter_type' has not been set up correctly. If 'doc_splitter_type' is of type DocumentSplitterType.SPACY_SENTENCE_SPLITTER, 'chunk_size' and 'chunk_overlap' must be None. Skipping...\n",
      "Invalid VQAStrategyDetail: 'doc_splitter_type' has not been set up correctly. If 'doc_splitter_type' is of type DocumentSplitterType.SPACY_SENTENCE_SPLITTER, 'chunk_size' and 'chunk_overlap' must be None. Skipping...\n",
      "Invalid VQAStrategyDetail: 'doc_splitter_type' has not been set up correctly. If 'doc_splitter_type' is of type DocumentSplitterType.SPACY_SENTENCE_SPLITTER, 'chunk_size' and 'chunk_overlap' must be None. Skipping...\n",
      "Invalid VQAStrategyDetail: 'doc_splitter_type' has not been set up correctly. If 'doc_splitter_type' is of type DocumentSplitterType.SPACY_SENTENCE_SPLITTER, 'chunk_size' and 'chunk_overlap' must be None. Skipping...\n",
      "Invalid VQAStrategyDetail: 'doc_splitter_type' has not been set up correctly. If 'doc_splitter_type' is of type DocumentSplitterType.SPACY_SENTENCE_SPLITTER, 'chunk_size' and 'chunk_overlap' must be None. Skipping...\n",
      "Invalid VQAStrategyDetail: If 'vqa_strategy_type' is of type VQAStrategyType.RAG_Q, 'relevant_docs_count' cannot be None. Skipping...\n",
      "Invalid VQAStrategyDetail: If 'vqa_strategy_type' is of type VQAStrategyType.RAG_Q, 'relevant_docs_count' cannot be None. Skipping...\n",
      "Invalid VQAStrategyDetail: If 'vqa_strategy_type' is of type VQAStrategyType.RAG_Q, 'relevant_docs_count' cannot be None. Skipping...\n",
      "Invalid VQAStrategyDetail: If 'vqa_strategy_type' is of type VQAStrategyType.RAG_Q, 'relevant_docs_count' cannot be None. Skipping...\n",
      "Invalid VQAStrategyDetail: If 'vqa_strategy_type' is of type VQAStrategyType.RAG_Q, 'relevant_docs_count' cannot be None. Skipping...\n",
      "Invalid VQAStrategyDetail: If 'vqa_strategy_type' is of type VQAStrategyType.RAG_Q, 'relevant_docs_count' cannot be None. Skipping...\n",
      "Invalid VQAStrategyDetail: If 'vqa_strategy_type' is of type VQAStrategyType.RAG_Q, 'relevant_docs_count' cannot be None. Skipping...\n",
      "Invalid VQAStrategyDetail: If 'vqa_strategy_type' is of type VQAStrategyType.RAG_Q, 'relevant_docs_count' cannot be None. Skipping...\n",
      "Invalid VQAStrategyDetail: If 'vqa_strategy_type' is of type VQAStrategyType.RAG_Q, 'relevant_docs_count' cannot be None. Skipping...\n",
      "Invalid VQAStrategyDetail: If 'vqa_strategy_type' is of type VQAStrategyType.RAG_Q, 'relevant_docs_count' cannot be None. Skipping...\n",
      "Invalid VQAStrategyDetail: If 'vqa_strategy_type' is of type VQAStrategyType.RAG_Q, 'relevant_docs_count' cannot be None. Skipping...\n",
      "Invalid VQAStrategyDetail: If 'vqa_strategy_type' is of type VQAStrategyType.RAG_Q, 'relevant_docs_count' cannot be None. Skipping...\n",
      "Invalid VQAStrategyDetail: If 'vqa_strategy_type' is of type VQAStrategyType.RAG_Q, 'relevant_docs_count' cannot be None. Skipping...\n",
      "Invalid VQAStrategyDetail: If 'vqa_strategy_type' is of type VQAStrategyType.RAG_Q, 'relevant_docs_count' cannot be None. Skipping...\n",
      "Invalid VQAStrategyDetail: If 'vqa_strategy_type' is of type VQAStrategyType.RAG_Q, 'relevant_docs_count' cannot be None. Skipping...\n",
      "Invalid VQAStrategyDetail: If 'vqa_strategy_type' is of type VQAStrategyType.RAG_Q, 'relevant_docs_count' cannot be None. Skipping...\n",
      "Invalid VQAStrategyDetail: If 'vqa_strategy_type' is of type VQAStrategyType.RAG_Q, 'relevant_docs_count' cannot be None. Skipping...\n",
      "Invalid VQAStrategyDetail: If 'vqa_strategy_type' is of type VQAStrategyType.RAG_Q, 'relevant_docs_count' cannot be None. Skipping...\n",
      "Invalid VQAStrategyDetail: If 'vqa_strategy_type' is of type VQAStrategyType.RAG_Q, 'relevant_docs_count' cannot be None. Skipping...\n",
      "Invalid VQAStrategyDetail: If 'vqa_strategy_type' is of type VQAStrategyType.RAG_Q, 'relevant_docs_count' cannot be None. Skipping...\n",
      "Invalid VQAStrategyDetail: If 'vqa_strategy_type' is of type VQAStrategyType.RAG_Q, 'relevant_docs_count' cannot be None. Skipping...\n",
      "Invalid VQAStrategyDetail: If 'vqa_strategy_type' is of type VQAStrategyType.RAG_Q, 'relevant_docs_count' cannot be None. Skipping...\n",
      "Invalid VQAStrategyDetail: If 'vqa_strategy_type' is of type VQAStrategyType.RAG_Q, 'relevant_docs_count' cannot be None. Skipping...\n",
      "Invalid VQAStrategyDetail: If 'vqa_strategy_type' is of type VQAStrategyType.RAG_Q, 'relevant_docs_count' cannot be None. Skipping...\n",
      "Invalid VQAStrategyDetail: If 'vqa_strategy_type' is of type VQAStrategyType.RAG_Q, 'relevant_docs_count' cannot be None. Skipping...\n",
      "Invalid VQAStrategyDetail: If 'vqa_strategy_type' is of type VQAStrategyType.RAG_Q, 'relevant_docs_count' cannot be None. Skipping...\n",
      "Invalid VQAStrategyDetail: If 'vqa_strategy_type' is of type VQAStrategyType.RAG_Q, 'relevant_docs_count' cannot be None. Skipping...\n",
      "Invalid VQAStrategyDetail: If 'vqa_strategy_type' is of type VQAStrategyType.RAG_Q, 'relevant_docs_count' cannot be None. Skipping...\n",
      "Invalid VQAStrategyDetail: 'doc_splitter_type' has not been set up correctly. If 'doc_splitter_type' is of type DocumentSplitterType.PARAGRAPH_SPLITTER, 'chunk_size' and 'chunk_overlap' must be None. Skipping...\n",
      "Invalid VQAStrategyDetail: 'doc_splitter_type' has not been set up correctly. If 'doc_splitter_type' is of type DocumentSplitterType.PARAGRAPH_SPLITTER, 'chunk_size' and 'chunk_overlap' must be None. Skipping...\n",
      "Invalid VQAStrategyDetail: 'doc_splitter_type' has not been set up correctly. If 'doc_splitter_type' is of type DocumentSplitterType.PARAGRAPH_SPLITTER, 'chunk_size' and 'chunk_overlap' must be None. Skipping...\n",
      "Invalid VQAStrategyDetail: 'doc_splitter_type' has not been set up correctly. If 'doc_splitter_type' is of type DocumentSplitterType.PARAGRAPH_SPLITTER, 'chunk_size' and 'chunk_overlap' must be None. Skipping...\n",
      "Invalid VQAStrategyDetail: 'doc_splitter_type' has not been set up correctly. If 'doc_splitter_type' is of type DocumentSplitterType.PARAGRAPH_SPLITTER, 'chunk_size' and 'chunk_overlap' must be None. Skipping...\n",
      "Invalid VQAStrategyDetail: 'doc_splitter_type' has not been set up correctly. If 'doc_splitter_type' is of type DocumentSplitterType.PARAGRAPH_SPLITTER, 'chunk_size' and 'chunk_overlap' must be None. Skipping...\n",
      "Invalid VQAStrategyDetail: 'doc_splitter_type' has not been set up correctly. If 'doc_splitter_type' is of type DocumentSplitterType.PARAGRAPH_SPLITTER, 'chunk_size' and 'chunk_overlap' must be None. Skipping...\n",
      "Invalid VQAStrategyDetail: 'doc_splitter_type' has not been set up correctly. If 'doc_splitter_type' is of type DocumentSplitterType.PARAGRAPH_SPLITTER, 'chunk_size' and 'chunk_overlap' must be None. Skipping...\n",
      "Invalid VQAStrategyDetail: 'doc_splitter_type' has not been set up correctly. If 'doc_splitter_type' is of type DocumentSplitterType.RECURSIVE_CHARACTER_SPLITTER, 'chunk_size' and 'chunk_overlap' cannot be None. Skipping...\n",
      "Invalid VQAStrategyDetail: 'doc_splitter_type' has not been set up correctly. If 'doc_splitter_type' is of type DocumentSplitterType.RECURSIVE_CHARACTER_SPLITTER, 'chunk_size' and 'chunk_overlap' cannot be None. Skipping...\n",
      "Invalid VQAStrategyDetail: 'doc_splitter_type' has not been set up correctly. If 'doc_splitter_type' is of type DocumentSplitterType.RECURSIVE_CHARACTER_SPLITTER, 'chunk_size' and 'chunk_overlap' cannot be None. Skipping...\n",
      "Invalid VQAStrategyDetail: 'doc_splitter_type' has not been set up correctly. If 'doc_splitter_type' is of type DocumentSplitterType.RECURSIVE_CHARACTER_SPLITTER, 'chunk_size' and 'chunk_overlap' cannot be None. Skipping...\n",
      "Invalid VQAStrategyDetail: 'doc_splitter_type' has not been set up correctly. If 'doc_splitter_type' is of type DocumentSplitterType.RECURSIVE_CHARACTER_SPLITTER, 'chunk_size' and 'chunk_overlap' cannot be None. Skipping...\n",
      "Invalid VQAStrategyDetail: 'doc_splitter_type' has not been set up correctly. If 'doc_splitter_type' is of type DocumentSplitterType.SPACY_SENTENCE_SPLITTER, 'chunk_size' and 'chunk_overlap' must be None. Skipping...\n",
      "Invalid VQAStrategyDetail: 'doc_splitter_type' has not been set up correctly. If 'doc_splitter_type' is of type DocumentSplitterType.SPACY_SENTENCE_SPLITTER, 'chunk_size' and 'chunk_overlap' must be None. Skipping...\n",
      "Invalid VQAStrategyDetail: 'doc_splitter_type' has not been set up correctly. If 'doc_splitter_type' is of type DocumentSplitterType.SPACY_SENTENCE_SPLITTER, 'chunk_size' and 'chunk_overlap' must be None. Skipping...\n",
      "Invalid VQAStrategyDetail: 'doc_splitter_type' has not been set up correctly. If 'doc_splitter_type' is of type DocumentSplitterType.SPACY_SENTENCE_SPLITTER, 'chunk_size' and 'chunk_overlap' must be None. Skipping...\n",
      "Invalid VQAStrategyDetail: 'doc_splitter_type' has not been set up correctly. If 'doc_splitter_type' is of type DocumentSplitterType.SPACY_SENTENCE_SPLITTER, 'chunk_size' and 'chunk_overlap' must be None. Skipping...\n",
      "Invalid VQAStrategyDetail: 'doc_splitter_type' has not been set up correctly. If 'doc_splitter_type' is of type DocumentSplitterType.SPACY_SENTENCE_SPLITTER, 'chunk_size' and 'chunk_overlap' must be None. Skipping...\n",
      "Invalid VQAStrategyDetail: 'doc_splitter_type' has not been set up correctly. If 'doc_splitter_type' is of type DocumentSplitterType.SPACY_SENTENCE_SPLITTER, 'chunk_size' and 'chunk_overlap' must be None. Skipping...\n",
      "Invalid VQAStrategyDetail: 'doc_splitter_type' has not been set up correctly. If 'doc_splitter_type' is of type DocumentSplitterType.SPACY_SENTENCE_SPLITTER, 'chunk_size' and 'chunk_overlap' must be None. Skipping...\n",
      "Invalid VQAStrategyDetail: 'doc_splitter_type' has not been set up correctly. If 'doc_splitter_type' is of type DocumentSplitterType.PARAGRAPH_SPLITTER, 'chunk_size' and 'chunk_overlap' must be None. Skipping...\n",
      "Invalid VQAStrategyDetail: 'doc_splitter_type' has not been set up correctly. If 'doc_splitter_type' is of type DocumentSplitterType.PARAGRAPH_SPLITTER, 'chunk_size' and 'chunk_overlap' must be None. Skipping...\n",
      "Invalid VQAStrategyDetail: 'doc_splitter_type' has not been set up correctly. If 'doc_splitter_type' is of type DocumentSplitterType.PARAGRAPH_SPLITTER, 'chunk_size' and 'chunk_overlap' must be None. Skipping...\n",
      "Invalid VQAStrategyDetail: 'doc_splitter_type' has not been set up correctly. If 'doc_splitter_type' is of type DocumentSplitterType.PARAGRAPH_SPLITTER, 'chunk_size' and 'chunk_overlap' must be None. Skipping...\n",
      "Invalid VQAStrategyDetail: 'doc_splitter_type' has not been set up correctly. If 'doc_splitter_type' is of type DocumentSplitterType.PARAGRAPH_SPLITTER, 'chunk_size' and 'chunk_overlap' must be None. Skipping...\n",
      "Invalid VQAStrategyDetail: 'doc_splitter_type' has not been set up correctly. If 'doc_splitter_type' is of type DocumentSplitterType.PARAGRAPH_SPLITTER, 'chunk_size' and 'chunk_overlap' must be None. Skipping...\n",
      "Invalid VQAStrategyDetail: 'doc_splitter_type' has not been set up correctly. If 'doc_splitter_type' is of type DocumentSplitterType.PARAGRAPH_SPLITTER, 'chunk_size' and 'chunk_overlap' must be None. Skipping...\n",
      "Invalid VQAStrategyDetail: 'doc_splitter_type' has not been set up correctly. If 'doc_splitter_type' is of type DocumentSplitterType.PARAGRAPH_SPLITTER, 'chunk_size' and 'chunk_overlap' must be None. Skipping...\n",
      "Invalid VQAStrategyDetail: 'doc_splitter_type' has not been set up correctly. If 'doc_splitter_type' is of type DocumentSplitterType.RECURSIVE_CHARACTER_SPLITTER, 'chunk_size' and 'chunk_overlap' cannot be None. Skipping...\n",
      "Invalid VQAStrategyDetail: 'doc_splitter_type' has not been set up correctly. If 'doc_splitter_type' is of type DocumentSplitterType.RECURSIVE_CHARACTER_SPLITTER, 'chunk_size' and 'chunk_overlap' cannot be None. Skipping...\n",
      "Invalid VQAStrategyDetail: 'doc_splitter_type' has not been set up correctly. If 'doc_splitter_type' is of type DocumentSplitterType.RECURSIVE_CHARACTER_SPLITTER, 'chunk_size' and 'chunk_overlap' cannot be None. Skipping...\n",
      "Invalid VQAStrategyDetail: 'doc_splitter_type' has not been set up correctly. If 'doc_splitter_type' is of type DocumentSplitterType.RECURSIVE_CHARACTER_SPLITTER, 'chunk_size' and 'chunk_overlap' cannot be None. Skipping...\n",
      "Invalid VQAStrategyDetail: 'doc_splitter_type' has not been set up correctly. If 'doc_splitter_type' is of type DocumentSplitterType.RECURSIVE_CHARACTER_SPLITTER, 'chunk_size' and 'chunk_overlap' cannot be None. Skipping...\n",
      "Invalid VQAStrategyDetail: 'doc_splitter_type' has not been set up correctly. If 'doc_splitter_type' is of type DocumentSplitterType.SPACY_SENTENCE_SPLITTER, 'chunk_size' and 'chunk_overlap' must be None. Skipping...\n",
      "Invalid VQAStrategyDetail: 'doc_splitter_type' has not been set up correctly. If 'doc_splitter_type' is of type DocumentSplitterType.SPACY_SENTENCE_SPLITTER, 'chunk_size' and 'chunk_overlap' must be None. Skipping...\n",
      "Invalid VQAStrategyDetail: 'doc_splitter_type' has not been set up correctly. If 'doc_splitter_type' is of type DocumentSplitterType.SPACY_SENTENCE_SPLITTER, 'chunk_size' and 'chunk_overlap' must be None. Skipping...\n",
      "Invalid VQAStrategyDetail: 'doc_splitter_type' has not been set up correctly. If 'doc_splitter_type' is of type DocumentSplitterType.SPACY_SENTENCE_SPLITTER, 'chunk_size' and 'chunk_overlap' must be None. Skipping...\n",
      "Invalid VQAStrategyDetail: 'doc_splitter_type' has not been set up correctly. If 'doc_splitter_type' is of type DocumentSplitterType.SPACY_SENTENCE_SPLITTER, 'chunk_size' and 'chunk_overlap' must be None. Skipping...\n",
      "Invalid VQAStrategyDetail: 'doc_splitter_type' has not been set up correctly. If 'doc_splitter_type' is of type DocumentSplitterType.SPACY_SENTENCE_SPLITTER, 'chunk_size' and 'chunk_overlap' must be None. Skipping...\n",
      "Invalid VQAStrategyDetail: 'doc_splitter_type' has not been set up correctly. If 'doc_splitter_type' is of type DocumentSplitterType.SPACY_SENTENCE_SPLITTER, 'chunk_size' and 'chunk_overlap' must be None. Skipping...\n",
      "Invalid VQAStrategyDetail: 'doc_splitter_type' has not been set up correctly. If 'doc_splitter_type' is of type DocumentSplitterType.SPACY_SENTENCE_SPLITTER, 'chunk_size' and 'chunk_overlap' must be None. Skipping...\n",
      "Invalid VQAStrategyDetail: 'doc_splitter_type' has not been set up correctly. If 'doc_splitter_type' is of type DocumentSplitterType.PARAGRAPH_SPLITTER, 'chunk_size' and 'chunk_overlap' must be None. Skipping...\n",
      "Invalid VQAStrategyDetail: 'doc_splitter_type' has not been set up correctly. If 'doc_splitter_type' is of type DocumentSplitterType.PARAGRAPH_SPLITTER, 'chunk_size' and 'chunk_overlap' must be None. Skipping...\n",
      "Invalid VQAStrategyDetail: 'doc_splitter_type' has not been set up correctly. If 'doc_splitter_type' is of type DocumentSplitterType.PARAGRAPH_SPLITTER, 'chunk_size' and 'chunk_overlap' must be None. Skipping...\n",
      "Invalid VQAStrategyDetail: 'doc_splitter_type' has not been set up correctly. If 'doc_splitter_type' is of type DocumentSplitterType.PARAGRAPH_SPLITTER, 'chunk_size' and 'chunk_overlap' must be None. Skipping...\n",
      "Invalid VQAStrategyDetail: 'doc_splitter_type' has not been set up correctly. If 'doc_splitter_type' is of type DocumentSplitterType.PARAGRAPH_SPLITTER, 'chunk_size' and 'chunk_overlap' must be None. Skipping...\n",
      "Invalid VQAStrategyDetail: 'doc_splitter_type' has not been set up correctly. If 'doc_splitter_type' is of type DocumentSplitterType.PARAGRAPH_SPLITTER, 'chunk_size' and 'chunk_overlap' must be None. Skipping...\n",
      "Invalid VQAStrategyDetail: 'doc_splitter_type' has not been set up correctly. If 'doc_splitter_type' is of type DocumentSplitterType.PARAGRAPH_SPLITTER, 'chunk_size' and 'chunk_overlap' must be None. Skipping...\n",
      "Invalid VQAStrategyDetail: 'doc_splitter_type' has not been set up correctly. If 'doc_splitter_type' is of type DocumentSplitterType.PARAGRAPH_SPLITTER, 'chunk_size' and 'chunk_overlap' must be None. Skipping...\n",
      "Invalid VQAStrategyDetail: 'doc_splitter_type' has not been set up correctly. If 'doc_splitter_type' is of type DocumentSplitterType.RECURSIVE_CHARACTER_SPLITTER, 'chunk_size' and 'chunk_overlap' cannot be None. Skipping...\n",
      "Invalid VQAStrategyDetail: 'doc_splitter_type' has not been set up correctly. If 'doc_splitter_type' is of type DocumentSplitterType.RECURSIVE_CHARACTER_SPLITTER, 'chunk_size' and 'chunk_overlap' cannot be None. Skipping...\n",
      "Invalid VQAStrategyDetail: 'doc_splitter_type' has not been set up correctly. If 'doc_splitter_type' is of type DocumentSplitterType.RECURSIVE_CHARACTER_SPLITTER, 'chunk_size' and 'chunk_overlap' cannot be None. Skipping...\n",
      "Invalid VQAStrategyDetail: 'doc_splitter_type' has not been set up correctly. If 'doc_splitter_type' is of type DocumentSplitterType.RECURSIVE_CHARACTER_SPLITTER, 'chunk_size' and 'chunk_overlap' cannot be None. Skipping...\n",
      "Invalid VQAStrategyDetail: 'doc_splitter_type' has not been set up correctly. If 'doc_splitter_type' is of type DocumentSplitterType.RECURSIVE_CHARACTER_SPLITTER, 'chunk_size' and 'chunk_overlap' cannot be None. Skipping...\n",
      "Invalid VQAStrategyDetail: 'doc_splitter_type' has not been set up correctly. If 'doc_splitter_type' is of type DocumentSplitterType.SPACY_SENTENCE_SPLITTER, 'chunk_size' and 'chunk_overlap' must be None. Skipping...\n",
      "Invalid VQAStrategyDetail: 'doc_splitter_type' has not been set up correctly. If 'doc_splitter_type' is of type DocumentSplitterType.SPACY_SENTENCE_SPLITTER, 'chunk_size' and 'chunk_overlap' must be None. Skipping...\n",
      "Invalid VQAStrategyDetail: 'doc_splitter_type' has not been set up correctly. If 'doc_splitter_type' is of type DocumentSplitterType.SPACY_SENTENCE_SPLITTER, 'chunk_size' and 'chunk_overlap' must be None. Skipping...\n",
      "Invalid VQAStrategyDetail: 'doc_splitter_type' has not been set up correctly. If 'doc_splitter_type' is of type DocumentSplitterType.SPACY_SENTENCE_SPLITTER, 'chunk_size' and 'chunk_overlap' must be None. Skipping...\n",
      "Invalid VQAStrategyDetail: 'doc_splitter_type' has not been set up correctly. If 'doc_splitter_type' is of type DocumentSplitterType.SPACY_SENTENCE_SPLITTER, 'chunk_size' and 'chunk_overlap' must be None. Skipping...\n",
      "Invalid VQAStrategyDetail: 'doc_splitter_type' has not been set up correctly. If 'doc_splitter_type' is of type DocumentSplitterType.SPACY_SENTENCE_SPLITTER, 'chunk_size' and 'chunk_overlap' must be None. Skipping...\n",
      "Invalid VQAStrategyDetail: 'doc_splitter_type' has not been set up correctly. If 'doc_splitter_type' is of type DocumentSplitterType.SPACY_SENTENCE_SPLITTER, 'chunk_size' and 'chunk_overlap' must be None. Skipping...\n",
      "Invalid VQAStrategyDetail: 'doc_splitter_type' has not been set up correctly. If 'doc_splitter_type' is of type DocumentSplitterType.SPACY_SENTENCE_SPLITTER, 'chunk_size' and 'chunk_overlap' must be None. Skipping...\n",
      "Invalid VQAStrategyDetail: If 'vqa_strategy_type' is of type VQAStrategyType.RAG_Q, 'relevant_docs_count' cannot be None. Skipping...\n",
      "Invalid VQAStrategyDetail: If 'vqa_strategy_type' is of type VQAStrategyType.RAG_Q, 'relevant_docs_count' cannot be None. Skipping...\n",
      "Invalid VQAStrategyDetail: If 'vqa_strategy_type' is of type VQAStrategyType.RAG_Q, 'relevant_docs_count' cannot be None. Skipping...\n",
      "Invalid VQAStrategyDetail: If 'vqa_strategy_type' is of type VQAStrategyType.RAG_Q, 'relevant_docs_count' cannot be None. Skipping...\n",
      "Invalid VQAStrategyDetail: If 'vqa_strategy_type' is of type VQAStrategyType.RAG_Q, 'relevant_docs_count' cannot be None. Skipping...\n",
      "Invalid VQAStrategyDetail: If 'vqa_strategy_type' is of type VQAStrategyType.RAG_Q, 'relevant_docs_count' cannot be None. Skipping...\n",
      "Invalid VQAStrategyDetail: If 'vqa_strategy_type' is of type VQAStrategyType.RAG_Q, 'relevant_docs_count' cannot be None. Skipping...\n",
      "Invalid VQAStrategyDetail: If 'vqa_strategy_type' is of type VQAStrategyType.RAG_Q, 'relevant_docs_count' cannot be None. Skipping...\n",
      "Invalid VQAStrategyDetail: If 'vqa_strategy_type' is of type VQAStrategyType.RAG_Q, 'relevant_docs_count' cannot be None. Skipping...\n",
      "Invalid VQAStrategyDetail: If 'vqa_strategy_type' is of type VQAStrategyType.RAG_Q, 'relevant_docs_count' cannot be None. Skipping...\n",
      "Invalid VQAStrategyDetail: If 'vqa_strategy_type' is of type VQAStrategyType.RAG_Q, 'relevant_docs_count' cannot be None. Skipping...\n",
      "Invalid VQAStrategyDetail: If 'vqa_strategy_type' is of type VQAStrategyType.RAG_Q, 'relevant_docs_count' cannot be None. Skipping...\n",
      "Invalid VQAStrategyDetail: If 'vqa_strategy_type' is of type VQAStrategyType.RAG_Q, 'relevant_docs_count' cannot be None. Skipping...\n",
      "Invalid VQAStrategyDetail: If 'vqa_strategy_type' is of type VQAStrategyType.RAG_Q, 'relevant_docs_count' cannot be None. Skipping...\n",
      "Invalid VQAStrategyDetail: If 'vqa_strategy_type' is of type VQAStrategyType.RAG_Q, 'relevant_docs_count' cannot be None. Skipping...\n",
      "Invalid VQAStrategyDetail: If 'vqa_strategy_type' is of type VQAStrategyType.RAG_Q, 'relevant_docs_count' cannot be None. Skipping...\n",
      "Invalid VQAStrategyDetail: If 'vqa_strategy_type' is of type VQAStrategyType.RAG_Q, 'relevant_docs_count' cannot be None. Skipping...\n",
      "Invalid VQAStrategyDetail: If 'vqa_strategy_type' is of type VQAStrategyType.RAG_Q, 'relevant_docs_count' cannot be None. Skipping...\n",
      "Invalid VQAStrategyDetail: If 'vqa_strategy_type' is of type VQAStrategyType.RAG_Q, 'relevant_docs_count' cannot be None. Skipping...\n",
      "Invalid VQAStrategyDetail: If 'vqa_strategy_type' is of type VQAStrategyType.RAG_Q, 'relevant_docs_count' cannot be None. Skipping...\n",
      "Invalid VQAStrategyDetail: If 'vqa_strategy_type' is of type VQAStrategyType.RAG_Q, 'relevant_docs_count' cannot be None. Skipping...\n",
      "Invalid VQAStrategyDetail: If 'vqa_strategy_type' is of type VQAStrategyType.RAG_Q, 'relevant_docs_count' cannot be None. Skipping...\n",
      "Invalid VQAStrategyDetail: If 'vqa_strategy_type' is of type VQAStrategyType.RAG_Q, 'relevant_docs_count' cannot be None. Skipping...\n",
      "Invalid VQAStrategyDetail: If 'vqa_strategy_type' is of type VQAStrategyType.RAG_Q, 'relevant_docs_count' cannot be None. Skipping...\n",
      "Invalid VQAStrategyDetail: If 'vqa_strategy_type' is of type VQAStrategyType.RAG_Q, 'relevant_docs_count' cannot be None. Skipping...\n",
      "Invalid VQAStrategyDetail: If 'vqa_strategy_type' is of type VQAStrategyType.RAG_Q, 'relevant_docs_count' cannot be None. Skipping...\n",
      "Invalid VQAStrategyDetail: If 'vqa_strategy_type' is of type VQAStrategyType.RAG_Q, 'relevant_docs_count' cannot be None. Skipping...\n",
      "Invalid VQAStrategyDetail: If 'vqa_strategy_type' is of type VQAStrategyType.RAG_Q, 'relevant_docs_count' cannot be None. Skipping...\n",
      "Invalid VQAStrategyDetail: 'doc_splitter_type' has not been set up correctly. If 'doc_splitter_type' is of type DocumentSplitterType.PARAGRAPH_SPLITTER, 'chunk_size' and 'chunk_overlap' must be None. Skipping...\n",
      "Invalid VQAStrategyDetail: 'doc_splitter_type' has not been set up correctly. If 'doc_splitter_type' is of type DocumentSplitterType.PARAGRAPH_SPLITTER, 'chunk_size' and 'chunk_overlap' must be None. Skipping...\n",
      "Invalid VQAStrategyDetail: 'doc_splitter_type' has not been set up correctly. If 'doc_splitter_type' is of type DocumentSplitterType.PARAGRAPH_SPLITTER, 'chunk_size' and 'chunk_overlap' must be None. Skipping...\n",
      "Invalid VQAStrategyDetail: 'doc_splitter_type' has not been set up correctly. If 'doc_splitter_type' is of type DocumentSplitterType.PARAGRAPH_SPLITTER, 'chunk_size' and 'chunk_overlap' must be None. Skipping...\n",
      "Invalid VQAStrategyDetail: 'doc_splitter_type' has not been set up correctly. If 'doc_splitter_type' is of type DocumentSplitterType.PARAGRAPH_SPLITTER, 'chunk_size' and 'chunk_overlap' must be None. Skipping...\n",
      "Invalid VQAStrategyDetail: 'doc_splitter_type' has not been set up correctly. If 'doc_splitter_type' is of type DocumentSplitterType.PARAGRAPH_SPLITTER, 'chunk_size' and 'chunk_overlap' must be None. Skipping...\n",
      "Invalid VQAStrategyDetail: 'doc_splitter_type' has not been set up correctly. If 'doc_splitter_type' is of type DocumentSplitterType.PARAGRAPH_SPLITTER, 'chunk_size' and 'chunk_overlap' must be None. Skipping...\n",
      "Invalid VQAStrategyDetail: 'doc_splitter_type' has not been set up correctly. If 'doc_splitter_type' is of type DocumentSplitterType.PARAGRAPH_SPLITTER, 'chunk_size' and 'chunk_overlap' must be None. Skipping...\n",
      "Invalid VQAStrategyDetail: 'doc_splitter_type' has not been set up correctly. If 'doc_splitter_type' is of type DocumentSplitterType.RECURSIVE_CHARACTER_SPLITTER, 'chunk_size' and 'chunk_overlap' cannot be None. Skipping...\n",
      "Invalid VQAStrategyDetail: 'doc_splitter_type' has not been set up correctly. If 'doc_splitter_type' is of type DocumentSplitterType.RECURSIVE_CHARACTER_SPLITTER, 'chunk_size' and 'chunk_overlap' cannot be None. Skipping...\n",
      "Invalid VQAStrategyDetail: 'doc_splitter_type' has not been set up correctly. If 'doc_splitter_type' is of type DocumentSplitterType.RECURSIVE_CHARACTER_SPLITTER, 'chunk_size' and 'chunk_overlap' cannot be None. Skipping...\n",
      "Invalid VQAStrategyDetail: 'doc_splitter_type' has not been set up correctly. If 'doc_splitter_type' is of type DocumentSplitterType.RECURSIVE_CHARACTER_SPLITTER, 'chunk_size' and 'chunk_overlap' cannot be None. Skipping...\n",
      "Invalid VQAStrategyDetail: 'doc_splitter_type' has not been set up correctly. If 'doc_splitter_type' is of type DocumentSplitterType.RECURSIVE_CHARACTER_SPLITTER, 'chunk_size' and 'chunk_overlap' cannot be None. Skipping...\n",
      "Invalid VQAStrategyDetail: 'doc_splitter_type' has not been set up correctly. If 'doc_splitter_type' is of type DocumentSplitterType.SPACY_SENTENCE_SPLITTER, 'chunk_size' and 'chunk_overlap' must be None. Skipping...\n",
      "Invalid VQAStrategyDetail: 'doc_splitter_type' has not been set up correctly. If 'doc_splitter_type' is of type DocumentSplitterType.SPACY_SENTENCE_SPLITTER, 'chunk_size' and 'chunk_overlap' must be None. Skipping...\n",
      "Invalid VQAStrategyDetail: 'doc_splitter_type' has not been set up correctly. If 'doc_splitter_type' is of type DocumentSplitterType.SPACY_SENTENCE_SPLITTER, 'chunk_size' and 'chunk_overlap' must be None. Skipping...\n",
      "Invalid VQAStrategyDetail: 'doc_splitter_type' has not been set up correctly. If 'doc_splitter_type' is of type DocumentSplitterType.SPACY_SENTENCE_SPLITTER, 'chunk_size' and 'chunk_overlap' must be None. Skipping...\n",
      "Invalid VQAStrategyDetail: 'doc_splitter_type' has not been set up correctly. If 'doc_splitter_type' is of type DocumentSplitterType.SPACY_SENTENCE_SPLITTER, 'chunk_size' and 'chunk_overlap' must be None. Skipping...\n",
      "Invalid VQAStrategyDetail: 'doc_splitter_type' has not been set up correctly. If 'doc_splitter_type' is of type DocumentSplitterType.SPACY_SENTENCE_SPLITTER, 'chunk_size' and 'chunk_overlap' must be None. Skipping...\n",
      "Invalid VQAStrategyDetail: 'doc_splitter_type' has not been set up correctly. If 'doc_splitter_type' is of type DocumentSplitterType.SPACY_SENTENCE_SPLITTER, 'chunk_size' and 'chunk_overlap' must be None. Skipping...\n",
      "Invalid VQAStrategyDetail: 'doc_splitter_type' has not been set up correctly. If 'doc_splitter_type' is of type DocumentSplitterType.SPACY_SENTENCE_SPLITTER, 'chunk_size' and 'chunk_overlap' must be None. Skipping...\n",
      "Invalid VQAStrategyDetail: 'doc_splitter_type' has not been set up correctly. If 'doc_splitter_type' is of type DocumentSplitterType.PARAGRAPH_SPLITTER, 'chunk_size' and 'chunk_overlap' must be None. Skipping...\n",
      "Invalid VQAStrategyDetail: 'doc_splitter_type' has not been set up correctly. If 'doc_splitter_type' is of type DocumentSplitterType.PARAGRAPH_SPLITTER, 'chunk_size' and 'chunk_overlap' must be None. Skipping...\n",
      "Invalid VQAStrategyDetail: 'doc_splitter_type' has not been set up correctly. If 'doc_splitter_type' is of type DocumentSplitterType.PARAGRAPH_SPLITTER, 'chunk_size' and 'chunk_overlap' must be None. Skipping...\n",
      "Invalid VQAStrategyDetail: 'doc_splitter_type' has not been set up correctly. If 'doc_splitter_type' is of type DocumentSplitterType.PARAGRAPH_SPLITTER, 'chunk_size' and 'chunk_overlap' must be None. Skipping...\n",
      "Invalid VQAStrategyDetail: 'doc_splitter_type' has not been set up correctly. If 'doc_splitter_type' is of type DocumentSplitterType.PARAGRAPH_SPLITTER, 'chunk_size' and 'chunk_overlap' must be None. Skipping...\n",
      "Invalid VQAStrategyDetail: 'doc_splitter_type' has not been set up correctly. If 'doc_splitter_type' is of type DocumentSplitterType.PARAGRAPH_SPLITTER, 'chunk_size' and 'chunk_overlap' must be None. Skipping...\n",
      "Invalid VQAStrategyDetail: 'doc_splitter_type' has not been set up correctly. If 'doc_splitter_type' is of type DocumentSplitterType.PARAGRAPH_SPLITTER, 'chunk_size' and 'chunk_overlap' must be None. Skipping...\n",
      "Invalid VQAStrategyDetail: 'doc_splitter_type' has not been set up correctly. If 'doc_splitter_type' is of type DocumentSplitterType.PARAGRAPH_SPLITTER, 'chunk_size' and 'chunk_overlap' must be None. Skipping...\n",
      "Invalid VQAStrategyDetail: 'doc_splitter_type' has not been set up correctly. If 'doc_splitter_type' is of type DocumentSplitterType.RECURSIVE_CHARACTER_SPLITTER, 'chunk_size' and 'chunk_overlap' cannot be None. Skipping...\n",
      "Invalid VQAStrategyDetail: 'doc_splitter_type' has not been set up correctly. If 'doc_splitter_type' is of type DocumentSplitterType.RECURSIVE_CHARACTER_SPLITTER, 'chunk_size' and 'chunk_overlap' cannot be None. Skipping...\n",
      "Invalid VQAStrategyDetail: 'doc_splitter_type' has not been set up correctly. If 'doc_splitter_type' is of type DocumentSplitterType.RECURSIVE_CHARACTER_SPLITTER, 'chunk_size' and 'chunk_overlap' cannot be None. Skipping...\n",
      "Invalid VQAStrategyDetail: 'doc_splitter_type' has not been set up correctly. If 'doc_splitter_type' is of type DocumentSplitterType.RECURSIVE_CHARACTER_SPLITTER, 'chunk_size' and 'chunk_overlap' cannot be None. Skipping...\n",
      "Invalid VQAStrategyDetail: 'doc_splitter_type' has not been set up correctly. If 'doc_splitter_type' is of type DocumentSplitterType.RECURSIVE_CHARACTER_SPLITTER, 'chunk_size' and 'chunk_overlap' cannot be None. Skipping...\n",
      "Invalid VQAStrategyDetail: 'doc_splitter_type' has not been set up correctly. If 'doc_splitter_type' is of type DocumentSplitterType.SPACY_SENTENCE_SPLITTER, 'chunk_size' and 'chunk_overlap' must be None. Skipping...\n",
      "Invalid VQAStrategyDetail: 'doc_splitter_type' has not been set up correctly. If 'doc_splitter_type' is of type DocumentSplitterType.SPACY_SENTENCE_SPLITTER, 'chunk_size' and 'chunk_overlap' must be None. Skipping...\n",
      "Invalid VQAStrategyDetail: 'doc_splitter_type' has not been set up correctly. If 'doc_splitter_type' is of type DocumentSplitterType.SPACY_SENTENCE_SPLITTER, 'chunk_size' and 'chunk_overlap' must be None. Skipping...\n",
      "Invalid VQAStrategyDetail: 'doc_splitter_type' has not been set up correctly. If 'doc_splitter_type' is of type DocumentSplitterType.SPACY_SENTENCE_SPLITTER, 'chunk_size' and 'chunk_overlap' must be None. Skipping...\n",
      "Invalid VQAStrategyDetail: 'doc_splitter_type' has not been set up correctly. If 'doc_splitter_type' is of type DocumentSplitterType.SPACY_SENTENCE_SPLITTER, 'chunk_size' and 'chunk_overlap' must be None. Skipping...\n",
      "Invalid VQAStrategyDetail: 'doc_splitter_type' has not been set up correctly. If 'doc_splitter_type' is of type DocumentSplitterType.SPACY_SENTENCE_SPLITTER, 'chunk_size' and 'chunk_overlap' must be None. Skipping...\n",
      "Invalid VQAStrategyDetail: 'doc_splitter_type' has not been set up correctly. If 'doc_splitter_type' is of type DocumentSplitterType.SPACY_SENTENCE_SPLITTER, 'chunk_size' and 'chunk_overlap' must be None. Skipping...\n",
      "Invalid VQAStrategyDetail: 'doc_splitter_type' has not been set up correctly. If 'doc_splitter_type' is of type DocumentSplitterType.SPACY_SENTENCE_SPLITTER, 'chunk_size' and 'chunk_overlap' must be None. Skipping...\n",
      "Invalid VQAStrategyDetail: 'doc_splitter_type' has not been set up correctly. If 'doc_splitter_type' is of type DocumentSplitterType.PARAGRAPH_SPLITTER, 'chunk_size' and 'chunk_overlap' must be None. Skipping...\n",
      "Invalid VQAStrategyDetail: 'doc_splitter_type' has not been set up correctly. If 'doc_splitter_type' is of type DocumentSplitterType.PARAGRAPH_SPLITTER, 'chunk_size' and 'chunk_overlap' must be None. Skipping...\n",
      "Invalid VQAStrategyDetail: 'doc_splitter_type' has not been set up correctly. If 'doc_splitter_type' is of type DocumentSplitterType.PARAGRAPH_SPLITTER, 'chunk_size' and 'chunk_overlap' must be None. Skipping...\n",
      "Invalid VQAStrategyDetail: 'doc_splitter_type' has not been set up correctly. If 'doc_splitter_type' is of type DocumentSplitterType.PARAGRAPH_SPLITTER, 'chunk_size' and 'chunk_overlap' must be None. Skipping...\n",
      "Invalid VQAStrategyDetail: 'doc_splitter_type' has not been set up correctly. If 'doc_splitter_type' is of type DocumentSplitterType.PARAGRAPH_SPLITTER, 'chunk_size' and 'chunk_overlap' must be None. Skipping...\n",
      "Invalid VQAStrategyDetail: 'doc_splitter_type' has not been set up correctly. If 'doc_splitter_type' is of type DocumentSplitterType.PARAGRAPH_SPLITTER, 'chunk_size' and 'chunk_overlap' must be None. Skipping...\n",
      "Invalid VQAStrategyDetail: 'doc_splitter_type' has not been set up correctly. If 'doc_splitter_type' is of type DocumentSplitterType.PARAGRAPH_SPLITTER, 'chunk_size' and 'chunk_overlap' must be None. Skipping...\n",
      "Invalid VQAStrategyDetail: 'doc_splitter_type' has not been set up correctly. If 'doc_splitter_type' is of type DocumentSplitterType.PARAGRAPH_SPLITTER, 'chunk_size' and 'chunk_overlap' must be None. Skipping...\n",
      "Invalid VQAStrategyDetail: 'doc_splitter_type' has not been set up correctly. If 'doc_splitter_type' is of type DocumentSplitterType.RECURSIVE_CHARACTER_SPLITTER, 'chunk_size' and 'chunk_overlap' cannot be None. Skipping...\n",
      "Invalid VQAStrategyDetail: 'doc_splitter_type' has not been set up correctly. If 'doc_splitter_type' is of type DocumentSplitterType.RECURSIVE_CHARACTER_SPLITTER, 'chunk_size' and 'chunk_overlap' cannot be None. Skipping...\n",
      "Invalid VQAStrategyDetail: 'doc_splitter_type' has not been set up correctly. If 'doc_splitter_type' is of type DocumentSplitterType.RECURSIVE_CHARACTER_SPLITTER, 'chunk_size' and 'chunk_overlap' cannot be None. Skipping...\n",
      "Invalid VQAStrategyDetail: 'doc_splitter_type' has not been set up correctly. If 'doc_splitter_type' is of type DocumentSplitterType.RECURSIVE_CHARACTER_SPLITTER, 'chunk_size' and 'chunk_overlap' cannot be None. Skipping...\n",
      "Invalid VQAStrategyDetail: 'doc_splitter_type' has not been set up correctly. If 'doc_splitter_type' is of type DocumentSplitterType.RECURSIVE_CHARACTER_SPLITTER, 'chunk_size' and 'chunk_overlap' cannot be None. Skipping...\n",
      "Invalid VQAStrategyDetail: 'doc_splitter_type' has not been set up correctly. If 'doc_splitter_type' is of type DocumentSplitterType.SPACY_SENTENCE_SPLITTER, 'chunk_size' and 'chunk_overlap' must be None. Skipping...\n",
      "Invalid VQAStrategyDetail: 'doc_splitter_type' has not been set up correctly. If 'doc_splitter_type' is of type DocumentSplitterType.SPACY_SENTENCE_SPLITTER, 'chunk_size' and 'chunk_overlap' must be None. Skipping...\n",
      "Invalid VQAStrategyDetail: 'doc_splitter_type' has not been set up correctly. If 'doc_splitter_type' is of type DocumentSplitterType.SPACY_SENTENCE_SPLITTER, 'chunk_size' and 'chunk_overlap' must be None. Skipping...\n",
      "Invalid VQAStrategyDetail: 'doc_splitter_type' has not been set up correctly. If 'doc_splitter_type' is of type DocumentSplitterType.SPACY_SENTENCE_SPLITTER, 'chunk_size' and 'chunk_overlap' must be None. Skipping...\n",
      "Invalid VQAStrategyDetail: 'doc_splitter_type' has not been set up correctly. If 'doc_splitter_type' is of type DocumentSplitterType.SPACY_SENTENCE_SPLITTER, 'chunk_size' and 'chunk_overlap' must be None. Skipping...\n",
      "Invalid VQAStrategyDetail: 'doc_splitter_type' has not been set up correctly. If 'doc_splitter_type' is of type DocumentSplitterType.SPACY_SENTENCE_SPLITTER, 'chunk_size' and 'chunk_overlap' must be None. Skipping...\n",
      "Invalid VQAStrategyDetail: 'doc_splitter_type' has not been set up correctly. If 'doc_splitter_type' is of type DocumentSplitterType.SPACY_SENTENCE_SPLITTER, 'chunk_size' and 'chunk_overlap' must be None. Skipping...\n",
      "Invalid VQAStrategyDetail: 'doc_splitter_type' has not been set up correctly. If 'doc_splitter_type' is of type DocumentSplitterType.SPACY_SENTENCE_SPLITTER, 'chunk_size' and 'chunk_overlap' must be None. Skipping...\n",
      "Invalid VQAStrategyDetail: If 'vqa_strategy_type' is of type VQAStrategyType.RAG_Q, 'relevant_docs_count' cannot be None. Skipping...\n",
      "Invalid VQAStrategyDetail: If 'vqa_strategy_type' is of type VQAStrategyType.RAG_Q, 'relevant_docs_count' cannot be None. Skipping...\n",
      "Invalid VQAStrategyDetail: If 'vqa_strategy_type' is of type VQAStrategyType.RAG_Q, 'relevant_docs_count' cannot be None. Skipping...\n",
      "Invalid VQAStrategyDetail: If 'vqa_strategy_type' is of type VQAStrategyType.RAG_Q, 'relevant_docs_count' cannot be None. Skipping...\n",
      "Invalid VQAStrategyDetail: If 'vqa_strategy_type' is of type VQAStrategyType.RAG_Q, 'relevant_docs_count' cannot be None. Skipping...\n",
      "Invalid VQAStrategyDetail: If 'vqa_strategy_type' is of type VQAStrategyType.RAG_Q, 'relevant_docs_count' cannot be None. Skipping...\n",
      "Invalid VQAStrategyDetail: If 'vqa_strategy_type' is of type VQAStrategyType.RAG_Q, 'relevant_docs_count' cannot be None. Skipping...\n",
      "Invalid VQAStrategyDetail: If 'vqa_strategy_type' is of type VQAStrategyType.RAG_Q, 'relevant_docs_count' cannot be None. Skipping...\n",
      "Invalid VQAStrategyDetail: If 'vqa_strategy_type' is of type VQAStrategyType.RAG_Q, 'relevant_docs_count' cannot be None. Skipping...\n",
      "Invalid VQAStrategyDetail: If 'vqa_strategy_type' is of type VQAStrategyType.RAG_Q, 'relevant_docs_count' cannot be None. Skipping...\n",
      "Invalid VQAStrategyDetail: If 'vqa_strategy_type' is of type VQAStrategyType.RAG_Q, 'relevant_docs_count' cannot be None. Skipping...\n",
      "Invalid VQAStrategyDetail: If 'vqa_strategy_type' is of type VQAStrategyType.RAG_Q, 'relevant_docs_count' cannot be None. Skipping...\n",
      "Invalid VQAStrategyDetail: If 'vqa_strategy_type' is of type VQAStrategyType.RAG_Q, 'relevant_docs_count' cannot be None. Skipping...\n",
      "Invalid VQAStrategyDetail: If 'vqa_strategy_type' is of type VQAStrategyType.RAG_Q, 'relevant_docs_count' cannot be None. Skipping...\n",
      "Invalid VQAStrategyDetail: If 'vqa_strategy_type' is of type VQAStrategyType.RAG_Q, 'relevant_docs_count' cannot be None. Skipping...\n",
      "Invalid VQAStrategyDetail: If 'vqa_strategy_type' is of type VQAStrategyType.RAG_Q, 'relevant_docs_count' cannot be None. Skipping...\n",
      "Invalid VQAStrategyDetail: If 'vqa_strategy_type' is of type VQAStrategyType.RAG_Q, 'relevant_docs_count' cannot be None. Skipping...\n",
      "Invalid VQAStrategyDetail: If 'vqa_strategy_type' is of type VQAStrategyType.RAG_Q, 'relevant_docs_count' cannot be None. Skipping...\n",
      "Invalid VQAStrategyDetail: If 'vqa_strategy_type' is of type VQAStrategyType.RAG_Q, 'relevant_docs_count' cannot be None. Skipping...\n",
      "Invalid VQAStrategyDetail: If 'vqa_strategy_type' is of type VQAStrategyType.RAG_Q, 'relevant_docs_count' cannot be None. Skipping...\n",
      "Invalid VQAStrategyDetail: If 'vqa_strategy_type' is of type VQAStrategyType.RAG_Q, 'relevant_docs_count' cannot be None. Skipping...\n",
      "Invalid VQAStrategyDetail: If 'vqa_strategy_type' is of type VQAStrategyType.RAG_Q, 'relevant_docs_count' cannot be None. Skipping...\n",
      "Invalid VQAStrategyDetail: If 'vqa_strategy_type' is of type VQAStrategyType.RAG_Q, 'relevant_docs_count' cannot be None. Skipping...\n",
      "Invalid VQAStrategyDetail: If 'vqa_strategy_type' is of type VQAStrategyType.RAG_Q, 'relevant_docs_count' cannot be None. Skipping...\n",
      "Invalid VQAStrategyDetail: If 'vqa_strategy_type' is of type VQAStrategyType.RAG_Q, 'relevant_docs_count' cannot be None. Skipping...\n",
      "Invalid VQAStrategyDetail: If 'vqa_strategy_type' is of type VQAStrategyType.RAG_Q, 'relevant_docs_count' cannot be None. Skipping...\n",
      "Invalid VQAStrategyDetail: If 'vqa_strategy_type' is of type VQAStrategyType.RAG_Q, 'relevant_docs_count' cannot be None. Skipping...\n",
      "Invalid VQAStrategyDetail: If 'vqa_strategy_type' is of type VQAStrategyType.RAG_Q, 'relevant_docs_count' cannot be None. Skipping...\n",
      "Invalid VQAStrategyDetail: 'doc_splitter_type' has not been set up correctly. If 'doc_splitter_type' is of type DocumentSplitterType.PARAGRAPH_SPLITTER, 'chunk_size' and 'chunk_overlap' must be None. Skipping...\n",
      "Invalid VQAStrategyDetail: 'doc_splitter_type' has not been set up correctly. If 'doc_splitter_type' is of type DocumentSplitterType.PARAGRAPH_SPLITTER, 'chunk_size' and 'chunk_overlap' must be None. Skipping...\n",
      "Invalid VQAStrategyDetail: 'doc_splitter_type' has not been set up correctly. If 'doc_splitter_type' is of type DocumentSplitterType.PARAGRAPH_SPLITTER, 'chunk_size' and 'chunk_overlap' must be None. Skipping...\n",
      "Invalid VQAStrategyDetail: 'doc_splitter_type' has not been set up correctly. If 'doc_splitter_type' is of type DocumentSplitterType.PARAGRAPH_SPLITTER, 'chunk_size' and 'chunk_overlap' must be None. Skipping...\n",
      "Invalid VQAStrategyDetail: 'doc_splitter_type' has not been set up correctly. If 'doc_splitter_type' is of type DocumentSplitterType.PARAGRAPH_SPLITTER, 'chunk_size' and 'chunk_overlap' must be None. Skipping...\n",
      "Invalid VQAStrategyDetail: 'doc_splitter_type' has not been set up correctly. If 'doc_splitter_type' is of type DocumentSplitterType.PARAGRAPH_SPLITTER, 'chunk_size' and 'chunk_overlap' must be None. Skipping...\n",
      "Invalid VQAStrategyDetail: 'doc_splitter_type' has not been set up correctly. If 'doc_splitter_type' is of type DocumentSplitterType.PARAGRAPH_SPLITTER, 'chunk_size' and 'chunk_overlap' must be None. Skipping...\n",
      "Invalid VQAStrategyDetail: 'doc_splitter_type' has not been set up correctly. If 'doc_splitter_type' is of type DocumentSplitterType.PARAGRAPH_SPLITTER, 'chunk_size' and 'chunk_overlap' must be None. Skipping...\n",
      "Invalid VQAStrategyDetail: 'doc_splitter_type' has not been set up correctly. If 'doc_splitter_type' is of type DocumentSplitterType.RECURSIVE_CHARACTER_SPLITTER, 'chunk_size' and 'chunk_overlap' cannot be None. Skipping...\n",
      "Invalid VQAStrategyDetail: 'doc_splitter_type' has not been set up correctly. If 'doc_splitter_type' is of type DocumentSplitterType.RECURSIVE_CHARACTER_SPLITTER, 'chunk_size' and 'chunk_overlap' cannot be None. Skipping...\n",
      "Invalid VQAStrategyDetail: 'doc_splitter_type' has not been set up correctly. If 'doc_splitter_type' is of type DocumentSplitterType.RECURSIVE_CHARACTER_SPLITTER, 'chunk_size' and 'chunk_overlap' cannot be None. Skipping...\n",
      "Invalid VQAStrategyDetail: 'doc_splitter_type' has not been set up correctly. If 'doc_splitter_type' is of type DocumentSplitterType.RECURSIVE_CHARACTER_SPLITTER, 'chunk_size' and 'chunk_overlap' cannot be None. Skipping...\n",
      "Invalid VQAStrategyDetail: 'doc_splitter_type' has not been set up correctly. If 'doc_splitter_type' is of type DocumentSplitterType.RECURSIVE_CHARACTER_SPLITTER, 'chunk_size' and 'chunk_overlap' cannot be None. Skipping...\n",
      "Invalid VQAStrategyDetail: 'doc_splitter_type' has not been set up correctly. If 'doc_splitter_type' is of type DocumentSplitterType.SPACY_SENTENCE_SPLITTER, 'chunk_size' and 'chunk_overlap' must be None. Skipping...\n",
      "Invalid VQAStrategyDetail: 'doc_splitter_type' has not been set up correctly. If 'doc_splitter_type' is of type DocumentSplitterType.SPACY_SENTENCE_SPLITTER, 'chunk_size' and 'chunk_overlap' must be None. Skipping...\n",
      "Invalid VQAStrategyDetail: 'doc_splitter_type' has not been set up correctly. If 'doc_splitter_type' is of type DocumentSplitterType.SPACY_SENTENCE_SPLITTER, 'chunk_size' and 'chunk_overlap' must be None. Skipping...\n",
      "Invalid VQAStrategyDetail: 'doc_splitter_type' has not been set up correctly. If 'doc_splitter_type' is of type DocumentSplitterType.SPACY_SENTENCE_SPLITTER, 'chunk_size' and 'chunk_overlap' must be None. Skipping...\n",
      "Invalid VQAStrategyDetail: 'doc_splitter_type' has not been set up correctly. If 'doc_splitter_type' is of type DocumentSplitterType.SPACY_SENTENCE_SPLITTER, 'chunk_size' and 'chunk_overlap' must be None. Skipping...\n",
      "Invalid VQAStrategyDetail: 'doc_splitter_type' has not been set up correctly. If 'doc_splitter_type' is of type DocumentSplitterType.SPACY_SENTENCE_SPLITTER, 'chunk_size' and 'chunk_overlap' must be None. Skipping...\n",
      "Invalid VQAStrategyDetail: 'doc_splitter_type' has not been set up correctly. If 'doc_splitter_type' is of type DocumentSplitterType.SPACY_SENTENCE_SPLITTER, 'chunk_size' and 'chunk_overlap' must be None. Skipping...\n",
      "Invalid VQAStrategyDetail: 'doc_splitter_type' has not been set up correctly. If 'doc_splitter_type' is of type DocumentSplitterType.SPACY_SENTENCE_SPLITTER, 'chunk_size' and 'chunk_overlap' must be None. Skipping...\n",
      "Invalid VQAStrategyDetail: 'doc_splitter_type' has not been set up correctly. If 'doc_splitter_type' is of type DocumentSplitterType.PARAGRAPH_SPLITTER, 'chunk_size' and 'chunk_overlap' must be None. Skipping...\n",
      "Invalid VQAStrategyDetail: 'doc_splitter_type' has not been set up correctly. If 'doc_splitter_type' is of type DocumentSplitterType.PARAGRAPH_SPLITTER, 'chunk_size' and 'chunk_overlap' must be None. Skipping...\n",
      "Invalid VQAStrategyDetail: 'doc_splitter_type' has not been set up correctly. If 'doc_splitter_type' is of type DocumentSplitterType.PARAGRAPH_SPLITTER, 'chunk_size' and 'chunk_overlap' must be None. Skipping...\n",
      "Invalid VQAStrategyDetail: 'doc_splitter_type' has not been set up correctly. If 'doc_splitter_type' is of type DocumentSplitterType.PARAGRAPH_SPLITTER, 'chunk_size' and 'chunk_overlap' must be None. Skipping...\n",
      "Invalid VQAStrategyDetail: 'doc_splitter_type' has not been set up correctly. If 'doc_splitter_type' is of type DocumentSplitterType.PARAGRAPH_SPLITTER, 'chunk_size' and 'chunk_overlap' must be None. Skipping...\n",
      "Invalid VQAStrategyDetail: 'doc_splitter_type' has not been set up correctly. If 'doc_splitter_type' is of type DocumentSplitterType.PARAGRAPH_SPLITTER, 'chunk_size' and 'chunk_overlap' must be None. Skipping...\n",
      "Invalid VQAStrategyDetail: 'doc_splitter_type' has not been set up correctly. If 'doc_splitter_type' is of type DocumentSplitterType.PARAGRAPH_SPLITTER, 'chunk_size' and 'chunk_overlap' must be None. Skipping...\n",
      "Invalid VQAStrategyDetail: 'doc_splitter_type' has not been set up correctly. If 'doc_splitter_type' is of type DocumentSplitterType.PARAGRAPH_SPLITTER, 'chunk_size' and 'chunk_overlap' must be None. Skipping...\n",
      "Invalid VQAStrategyDetail: 'doc_splitter_type' has not been set up correctly. If 'doc_splitter_type' is of type DocumentSplitterType.RECURSIVE_CHARACTER_SPLITTER, 'chunk_size' and 'chunk_overlap' cannot be None. Skipping...\n",
      "Invalid VQAStrategyDetail: 'doc_splitter_type' has not been set up correctly. If 'doc_splitter_type' is of type DocumentSplitterType.RECURSIVE_CHARACTER_SPLITTER, 'chunk_size' and 'chunk_overlap' cannot be None. Skipping...\n",
      "Invalid VQAStrategyDetail: 'doc_splitter_type' has not been set up correctly. If 'doc_splitter_type' is of type DocumentSplitterType.RECURSIVE_CHARACTER_SPLITTER, 'chunk_size' and 'chunk_overlap' cannot be None. Skipping...\n",
      "Invalid VQAStrategyDetail: 'doc_splitter_type' has not been set up correctly. If 'doc_splitter_type' is of type DocumentSplitterType.RECURSIVE_CHARACTER_SPLITTER, 'chunk_size' and 'chunk_overlap' cannot be None. Skipping...\n",
      "Invalid VQAStrategyDetail: 'doc_splitter_type' has not been set up correctly. If 'doc_splitter_type' is of type DocumentSplitterType.RECURSIVE_CHARACTER_SPLITTER, 'chunk_size' and 'chunk_overlap' cannot be None. Skipping...\n",
      "Invalid VQAStrategyDetail: 'doc_splitter_type' has not been set up correctly. If 'doc_splitter_type' is of type DocumentSplitterType.SPACY_SENTENCE_SPLITTER, 'chunk_size' and 'chunk_overlap' must be None. Skipping...\n",
      "Invalid VQAStrategyDetail: 'doc_splitter_type' has not been set up correctly. If 'doc_splitter_type' is of type DocumentSplitterType.SPACY_SENTENCE_SPLITTER, 'chunk_size' and 'chunk_overlap' must be None. Skipping...\n",
      "Invalid VQAStrategyDetail: 'doc_splitter_type' has not been set up correctly. If 'doc_splitter_type' is of type DocumentSplitterType.SPACY_SENTENCE_SPLITTER, 'chunk_size' and 'chunk_overlap' must be None. Skipping...\n",
      "Invalid VQAStrategyDetail: 'doc_splitter_type' has not been set up correctly. If 'doc_splitter_type' is of type DocumentSplitterType.SPACY_SENTENCE_SPLITTER, 'chunk_size' and 'chunk_overlap' must be None. Skipping...\n",
      "Invalid VQAStrategyDetail: 'doc_splitter_type' has not been set up correctly. If 'doc_splitter_type' is of type DocumentSplitterType.SPACY_SENTENCE_SPLITTER, 'chunk_size' and 'chunk_overlap' must be None. Skipping...\n",
      "Invalid VQAStrategyDetail: 'doc_splitter_type' has not been set up correctly. If 'doc_splitter_type' is of type DocumentSplitterType.SPACY_SENTENCE_SPLITTER, 'chunk_size' and 'chunk_overlap' must be None. Skipping...\n",
      "Invalid VQAStrategyDetail: 'doc_splitter_type' has not been set up correctly. If 'doc_splitter_type' is of type DocumentSplitterType.SPACY_SENTENCE_SPLITTER, 'chunk_size' and 'chunk_overlap' must be None. Skipping...\n",
      "Invalid VQAStrategyDetail: 'doc_splitter_type' has not been set up correctly. If 'doc_splitter_type' is of type DocumentSplitterType.SPACY_SENTENCE_SPLITTER, 'chunk_size' and 'chunk_overlap' must be None. Skipping...\n",
      "Invalid VQAStrategyDetail: 'doc_splitter_type' has not been set up correctly. If 'doc_splitter_type' is of type DocumentSplitterType.PARAGRAPH_SPLITTER, 'chunk_size' and 'chunk_overlap' must be None. Skipping...\n",
      "Invalid VQAStrategyDetail: 'doc_splitter_type' has not been set up correctly. If 'doc_splitter_type' is of type DocumentSplitterType.PARAGRAPH_SPLITTER, 'chunk_size' and 'chunk_overlap' must be None. Skipping...\n",
      "Invalid VQAStrategyDetail: 'doc_splitter_type' has not been set up correctly. If 'doc_splitter_type' is of type DocumentSplitterType.PARAGRAPH_SPLITTER, 'chunk_size' and 'chunk_overlap' must be None. Skipping...\n",
      "Invalid VQAStrategyDetail: 'doc_splitter_type' has not been set up correctly. If 'doc_splitter_type' is of type DocumentSplitterType.PARAGRAPH_SPLITTER, 'chunk_size' and 'chunk_overlap' must be None. Skipping...\n",
      "Invalid VQAStrategyDetail: 'doc_splitter_type' has not been set up correctly. If 'doc_splitter_type' is of type DocumentSplitterType.PARAGRAPH_SPLITTER, 'chunk_size' and 'chunk_overlap' must be None. Skipping...\n",
      "Invalid VQAStrategyDetail: 'doc_splitter_type' has not been set up correctly. If 'doc_splitter_type' is of type DocumentSplitterType.PARAGRAPH_SPLITTER, 'chunk_size' and 'chunk_overlap' must be None. Skipping...\n",
      "Invalid VQAStrategyDetail: 'doc_splitter_type' has not been set up correctly. If 'doc_splitter_type' is of type DocumentSplitterType.PARAGRAPH_SPLITTER, 'chunk_size' and 'chunk_overlap' must be None. Skipping...\n",
      "Invalid VQAStrategyDetail: 'doc_splitter_type' has not been set up correctly. If 'doc_splitter_type' is of type DocumentSplitterType.PARAGRAPH_SPLITTER, 'chunk_size' and 'chunk_overlap' must be None. Skipping...\n",
      "Invalid VQAStrategyDetail: 'doc_splitter_type' has not been set up correctly. If 'doc_splitter_type' is of type DocumentSplitterType.RECURSIVE_CHARACTER_SPLITTER, 'chunk_size' and 'chunk_overlap' cannot be None. Skipping...\n",
      "Invalid VQAStrategyDetail: 'doc_splitter_type' has not been set up correctly. If 'doc_splitter_type' is of type DocumentSplitterType.RECURSIVE_CHARACTER_SPLITTER, 'chunk_size' and 'chunk_overlap' cannot be None. Skipping...\n",
      "Invalid VQAStrategyDetail: 'doc_splitter_type' has not been set up correctly. If 'doc_splitter_type' is of type DocumentSplitterType.RECURSIVE_CHARACTER_SPLITTER, 'chunk_size' and 'chunk_overlap' cannot be None. Skipping...\n",
      "Invalid VQAStrategyDetail: 'doc_splitter_type' has not been set up correctly. If 'doc_splitter_type' is of type DocumentSplitterType.RECURSIVE_CHARACTER_SPLITTER, 'chunk_size' and 'chunk_overlap' cannot be None. Skipping...\n",
      "Invalid VQAStrategyDetail: 'doc_splitter_type' has not been set up correctly. If 'doc_splitter_type' is of type DocumentSplitterType.RECURSIVE_CHARACTER_SPLITTER, 'chunk_size' and 'chunk_overlap' cannot be None. Skipping...\n",
      "Invalid VQAStrategyDetail: 'doc_splitter_type' has not been set up correctly. If 'doc_splitter_type' is of type DocumentSplitterType.SPACY_SENTENCE_SPLITTER, 'chunk_size' and 'chunk_overlap' must be None. Skipping...\n",
      "Invalid VQAStrategyDetail: 'doc_splitter_type' has not been set up correctly. If 'doc_splitter_type' is of type DocumentSplitterType.SPACY_SENTENCE_SPLITTER, 'chunk_size' and 'chunk_overlap' must be None. Skipping...\n",
      "Invalid VQAStrategyDetail: 'doc_splitter_type' has not been set up correctly. If 'doc_splitter_type' is of type DocumentSplitterType.SPACY_SENTENCE_SPLITTER, 'chunk_size' and 'chunk_overlap' must be None. Skipping...\n",
      "Invalid VQAStrategyDetail: 'doc_splitter_type' has not been set up correctly. If 'doc_splitter_type' is of type DocumentSplitterType.SPACY_SENTENCE_SPLITTER, 'chunk_size' and 'chunk_overlap' must be None. Skipping...\n",
      "Invalid VQAStrategyDetail: 'doc_splitter_type' has not been set up correctly. If 'doc_splitter_type' is of type DocumentSplitterType.SPACY_SENTENCE_SPLITTER, 'chunk_size' and 'chunk_overlap' must be None. Skipping...\n",
      "Invalid VQAStrategyDetail: 'doc_splitter_type' has not been set up correctly. If 'doc_splitter_type' is of type DocumentSplitterType.SPACY_SENTENCE_SPLITTER, 'chunk_size' and 'chunk_overlap' must be None. Skipping...\n",
      "Invalid VQAStrategyDetail: 'doc_splitter_type' has not been set up correctly. If 'doc_splitter_type' is of type DocumentSplitterType.SPACY_SENTENCE_SPLITTER, 'chunk_size' and 'chunk_overlap' must be None. Skipping...\n",
      "Invalid VQAStrategyDetail: 'doc_splitter_type' has not been set up correctly. If 'doc_splitter_type' is of type DocumentSplitterType.SPACY_SENTENCE_SPLITTER, 'chunk_size' and 'chunk_overlap' must be None. Skipping...\n",
      "Invalid VQAStrategyDetail: Invalid combination: VQAStrategyType.RAG_Q with ZeroShotPromptType.V1. 'prompt_type' should be of type RagQPromptType. Skipping...\n",
      "Invalid VQAStrategyDetail: Invalid combination: VQAStrategyType.RAG_Q with ZeroShotPromptType.V1. 'prompt_type' should be of type RagQPromptType. Skipping...\n",
      "Invalid VQAStrategyDetail: Invalid combination: VQAStrategyType.RAG_Q with ZeroShotPromptType.V1. 'prompt_type' should be of type RagQPromptType. Skipping...\n",
      "Invalid VQAStrategyDetail: Invalid combination: VQAStrategyType.RAG_Q with ZeroShotPromptType.V1. 'prompt_type' should be of type RagQPromptType. Skipping...\n",
      "Invalid VQAStrategyDetail: Invalid combination: VQAStrategyType.RAG_Q with ZeroShotPromptType.V1. 'prompt_type' should be of type RagQPromptType. Skipping...\n",
      "Invalid VQAStrategyDetail: Invalid combination: VQAStrategyType.RAG_Q with ZeroShotPromptType.V1. 'prompt_type' should be of type RagQPromptType. Skipping...\n",
      "Invalid VQAStrategyDetail: Invalid combination: VQAStrategyType.RAG_Q with ZeroShotPromptType.V1. 'prompt_type' should be of type RagQPromptType. Skipping...\n",
      "Invalid VQAStrategyDetail: Invalid combination: VQAStrategyType.RAG_Q with ZeroShotPromptType.V1. 'prompt_type' should be of type RagQPromptType. Skipping...\n",
      "Invalid VQAStrategyDetail: Invalid combination: VQAStrategyType.RAG_Q with ZeroShotPromptType.V1. 'prompt_type' should be of type RagQPromptType. Skipping...\n",
      "Invalid VQAStrategyDetail: Invalid combination: VQAStrategyType.RAG_Q with ZeroShotPromptType.V1. 'prompt_type' should be of type RagQPromptType. Skipping...\n",
      "Invalid VQAStrategyDetail: Invalid combination: VQAStrategyType.RAG_Q with ZeroShotPromptType.V1. 'prompt_type' should be of type RagQPromptType. Skipping...\n",
      "Invalid VQAStrategyDetail: Invalid combination: VQAStrategyType.RAG_Q with ZeroShotPromptType.V1. 'prompt_type' should be of type RagQPromptType. Skipping...\n",
      "Invalid VQAStrategyDetail: Invalid combination: VQAStrategyType.RAG_Q with ZeroShotPromptType.V1. 'prompt_type' should be of type RagQPromptType. Skipping...\n",
      "Invalid VQAStrategyDetail: Invalid combination: VQAStrategyType.RAG_Q with ZeroShotPromptType.V1. 'prompt_type' should be of type RagQPromptType. Skipping...\n",
      "Invalid VQAStrategyDetail: Invalid combination: VQAStrategyType.RAG_Q with ZeroShotPromptType.V1. 'prompt_type' should be of type RagQPromptType. Skipping...\n",
      "Invalid VQAStrategyDetail: Invalid combination: VQAStrategyType.RAG_Q with ZeroShotPromptType.V1. 'prompt_type' should be of type RagQPromptType. Skipping...\n",
      "Invalid VQAStrategyDetail: Invalid combination: VQAStrategyType.RAG_Q with ZeroShotPromptType.V1. 'prompt_type' should be of type RagQPromptType. Skipping...\n",
      "Invalid VQAStrategyDetail: Invalid combination: VQAStrategyType.RAG_Q with ZeroShotPromptType.V1. 'prompt_type' should be of type RagQPromptType. Skipping...\n",
      "Invalid VQAStrategyDetail: Invalid combination: VQAStrategyType.RAG_Q with ZeroShotPromptType.V1. 'prompt_type' should be of type RagQPromptType. Skipping...\n",
      "Invalid VQAStrategyDetail: Invalid combination: VQAStrategyType.RAG_Q with ZeroShotPromptType.V1. 'prompt_type' should be of type RagQPromptType. Skipping...\n",
      "Invalid VQAStrategyDetail: Invalid combination: VQAStrategyType.RAG_Q with ZeroShotPromptType.V1. 'prompt_type' should be of type RagQPromptType. Skipping...\n",
      "Invalid VQAStrategyDetail: Invalid combination: VQAStrategyType.RAG_Q with ZeroShotPromptType.V1. 'prompt_type' should be of type RagQPromptType. Skipping...\n",
      "Invalid VQAStrategyDetail: Invalid combination: VQAStrategyType.RAG_Q with ZeroShotPromptType.V1. 'prompt_type' should be of type RagQPromptType. Skipping...\n",
      "Invalid VQAStrategyDetail: Invalid combination: VQAStrategyType.RAG_Q with ZeroShotPromptType.V1. 'prompt_type' should be of type RagQPromptType. Skipping...\n",
      "Invalid VQAStrategyDetail: Invalid combination: VQAStrategyType.RAG_Q with ZeroShotPromptType.V1. 'prompt_type' should be of type RagQPromptType. Skipping...\n",
      "Invalid VQAStrategyDetail: Invalid combination: VQAStrategyType.RAG_Q with ZeroShotPromptType.V1. 'prompt_type' should be of type RagQPromptType. Skipping...\n",
      "Invalid VQAStrategyDetail: Invalid combination: VQAStrategyType.RAG_Q with ZeroShotPromptType.V1. 'prompt_type' should be of type RagQPromptType. Skipping...\n",
      "Invalid VQAStrategyDetail: Invalid combination: VQAStrategyType.RAG_Q with ZeroShotPromptType.V1. 'prompt_type' should be of type RagQPromptType. Skipping...\n",
      "Invalid VQAStrategyDetail: Invalid combination: VQAStrategyType.RAG_Q with ZeroShotPromptType.V1. 'prompt_type' should be of type RagQPromptType. Skipping...\n",
      "Invalid VQAStrategyDetail: Invalid combination: VQAStrategyType.RAG_Q with ZeroShotPromptType.V1. 'prompt_type' should be of type RagQPromptType. Skipping...\n",
      "Invalid VQAStrategyDetail: Invalid combination: VQAStrategyType.RAG_Q with ZeroShotPromptType.V1. 'prompt_type' should be of type RagQPromptType. Skipping...\n",
      "Invalid VQAStrategyDetail: Invalid combination: VQAStrategyType.RAG_Q with ZeroShotPromptType.V1. 'prompt_type' should be of type RagQPromptType. Skipping...\n",
      "Invalid VQAStrategyDetail: Invalid combination: VQAStrategyType.RAG_Q with ZeroShotPromptType.V1. 'prompt_type' should be of type RagQPromptType. Skipping...\n",
      "Invalid VQAStrategyDetail: Invalid combination: VQAStrategyType.RAG_Q with ZeroShotPromptType.V1. 'prompt_type' should be of type RagQPromptType. Skipping...\n",
      "Invalid VQAStrategyDetail: Invalid combination: VQAStrategyType.RAG_Q with ZeroShotPromptType.V1. 'prompt_type' should be of type RagQPromptType. Skipping...\n",
      "Invalid VQAStrategyDetail: Invalid combination: VQAStrategyType.RAG_Q with ZeroShotPromptType.V1. 'prompt_type' should be of type RagQPromptType. Skipping...\n",
      "Invalid VQAStrategyDetail: Invalid combination: VQAStrategyType.RAG_Q with ZeroShotPromptType.V1. 'prompt_type' should be of type RagQPromptType. Skipping...\n",
      "Invalid VQAStrategyDetail: Invalid combination: VQAStrategyType.RAG_Q with ZeroShotPromptType.V1. 'prompt_type' should be of type RagQPromptType. Skipping...\n",
      "Invalid VQAStrategyDetail: Invalid combination: VQAStrategyType.RAG_Q with ZeroShotPromptType.V1. 'prompt_type' should be of type RagQPromptType. Skipping...\n",
      "Invalid VQAStrategyDetail: Invalid combination: VQAStrategyType.RAG_Q with ZeroShotPromptType.V1. 'prompt_type' should be of type RagQPromptType. Skipping...\n",
      "Invalid VQAStrategyDetail: Invalid combination: VQAStrategyType.RAG_Q with ZeroShotPromptType.V1. 'prompt_type' should be of type RagQPromptType. Skipping...\n",
      "Invalid VQAStrategyDetail: Invalid combination: VQAStrategyType.RAG_Q with ZeroShotPromptType.V1. 'prompt_type' should be of type RagQPromptType. Skipping...\n",
      "Invalid VQAStrategyDetail: Invalid combination: VQAStrategyType.RAG_Q with ZeroShotPromptType.V1. 'prompt_type' should be of type RagQPromptType. Skipping...\n",
      "Invalid VQAStrategyDetail: Invalid combination: VQAStrategyType.RAG_Q with ZeroShotPromptType.V1. 'prompt_type' should be of type RagQPromptType. Skipping...\n",
      "Invalid VQAStrategyDetail: Invalid combination: VQAStrategyType.RAG_Q with ZeroShotPromptType.V1. 'prompt_type' should be of type RagQPromptType. Skipping...\n",
      "Invalid VQAStrategyDetail: Invalid combination: VQAStrategyType.RAG_Q with ZeroShotPromptType.V1. 'prompt_type' should be of type RagQPromptType. Skipping...\n",
      "Invalid VQAStrategyDetail: Invalid combination: VQAStrategyType.RAG_Q with ZeroShotPromptType.V1. 'prompt_type' should be of type RagQPromptType. Skipping...\n",
      "Invalid VQAStrategyDetail: Invalid combination: VQAStrategyType.RAG_Q with ZeroShotPromptType.V1. 'prompt_type' should be of type RagQPromptType. Skipping...\n",
      "Invalid VQAStrategyDetail: Invalid combination: VQAStrategyType.RAG_Q with ZeroShotPromptType.V1. 'prompt_type' should be of type RagQPromptType. Skipping...\n",
      "Invalid VQAStrategyDetail: Invalid combination: VQAStrategyType.RAG_Q with ZeroShotPromptType.V1. 'prompt_type' should be of type RagQPromptType. Skipping...\n",
      "Invalid VQAStrategyDetail: Invalid combination: VQAStrategyType.RAG_Q with ZeroShotPromptType.V1. 'prompt_type' should be of type RagQPromptType. Skipping...\n",
      "Invalid VQAStrategyDetail: Invalid combination: VQAStrategyType.RAG_Q with ZeroShotPromptType.V1. 'prompt_type' should be of type RagQPromptType. Skipping...\n",
      "Invalid VQAStrategyDetail: Invalid combination: VQAStrategyType.RAG_Q with ZeroShotPromptType.V1. 'prompt_type' should be of type RagQPromptType. Skipping...\n",
      "Invalid VQAStrategyDetail: Invalid combination: VQAStrategyType.RAG_Q with ZeroShotPromptType.V1. 'prompt_type' should be of type RagQPromptType. Skipping...\n",
      "Invalid VQAStrategyDetail: Invalid combination: VQAStrategyType.RAG_Q with ZeroShotPromptType.V1. 'prompt_type' should be of type RagQPromptType. Skipping...\n",
      "Invalid VQAStrategyDetail: Invalid combination: VQAStrategyType.RAG_Q with ZeroShotPromptType.V1. 'prompt_type' should be of type RagQPromptType. Skipping...\n",
      "Invalid VQAStrategyDetail: Invalid combination: VQAStrategyType.RAG_Q with ZeroShotPromptType.V1. 'prompt_type' should be of type RagQPromptType. Skipping...\n",
      "Invalid VQAStrategyDetail: Invalid combination: VQAStrategyType.RAG_Q with ZeroShotPromptType.V1. 'prompt_type' should be of type RagQPromptType. Skipping...\n",
      "Invalid VQAStrategyDetail: Invalid combination: VQAStrategyType.RAG_Q with ZeroShotPromptType.V1. 'prompt_type' should be of type RagQPromptType. Skipping...\n",
      "Invalid VQAStrategyDetail: Invalid combination: VQAStrategyType.RAG_Q with ZeroShotPromptType.V1. 'prompt_type' should be of type RagQPromptType. Skipping...\n",
      "Invalid VQAStrategyDetail: Invalid combination: VQAStrategyType.RAG_Q with ZeroShotPromptType.V1. 'prompt_type' should be of type RagQPromptType. Skipping...\n",
      "Invalid VQAStrategyDetail: Invalid combination: VQAStrategyType.RAG_Q with ZeroShotPromptType.V1. 'prompt_type' should be of type RagQPromptType. Skipping...\n",
      "Invalid VQAStrategyDetail: Invalid combination: VQAStrategyType.RAG_Q with ZeroShotPromptType.V1. 'prompt_type' should be of type RagQPromptType. Skipping...\n",
      "Invalid VQAStrategyDetail: Invalid combination: VQAStrategyType.RAG_Q with ZeroShotPromptType.V1. 'prompt_type' should be of type RagQPromptType. Skipping...\n",
      "Invalid VQAStrategyDetail: Invalid combination: VQAStrategyType.RAG_Q with ZeroShotPromptType.V1. 'prompt_type' should be of type RagQPromptType. Skipping...\n",
      "Invalid VQAStrategyDetail: Invalid combination: VQAStrategyType.RAG_Q with ZeroShotPromptType.V1. 'prompt_type' should be of type RagQPromptType. Skipping...\n",
      "Invalid VQAStrategyDetail: Invalid combination: VQAStrategyType.RAG_Q with ZeroShotPromptType.V1. 'prompt_type' should be of type RagQPromptType. Skipping...\n",
      "Invalid VQAStrategyDetail: Invalid combination: VQAStrategyType.RAG_Q with ZeroShotPromptType.V1. 'prompt_type' should be of type RagQPromptType. Skipping...\n",
      "Invalid VQAStrategyDetail: Invalid combination: VQAStrategyType.RAG_Q with ZeroShotPromptType.V1. 'prompt_type' should be of type RagQPromptType. Skipping...\n",
      "Invalid VQAStrategyDetail: Invalid combination: VQAStrategyType.RAG_Q with ZeroShotPromptType.V1. 'prompt_type' should be of type RagQPromptType. Skipping...\n",
      "Invalid VQAStrategyDetail: Invalid combination: VQAStrategyType.RAG_Q with ZeroShotPromptType.V1. 'prompt_type' should be of type RagQPromptType. Skipping...\n",
      "Invalid VQAStrategyDetail: Invalid combination: VQAStrategyType.RAG_Q with ZeroShotPromptType.V1. 'prompt_type' should be of type RagQPromptType. Skipping...\n",
      "Invalid VQAStrategyDetail: Invalid combination: VQAStrategyType.RAG_Q with ZeroShotPromptType.V1. 'prompt_type' should be of type RagQPromptType. Skipping...\n",
      "Invalid VQAStrategyDetail: Invalid combination: VQAStrategyType.RAG_Q with ZeroShotPromptType.V1. 'prompt_type' should be of type RagQPromptType. Skipping...\n",
      "Invalid VQAStrategyDetail: Invalid combination: VQAStrategyType.RAG_Q with ZeroShotPromptType.V1. 'prompt_type' should be of type RagQPromptType. Skipping...\n",
      "Invalid VQAStrategyDetail: Invalid combination: VQAStrategyType.RAG_Q with ZeroShotPromptType.V1. 'prompt_type' should be of type RagQPromptType. Skipping...\n",
      "Invalid VQAStrategyDetail: Invalid combination: VQAStrategyType.RAG_Q with ZeroShotPromptType.V1. 'prompt_type' should be of type RagQPromptType. Skipping...\n",
      "Invalid VQAStrategyDetail: Invalid combination: VQAStrategyType.RAG_Q with ZeroShotPromptType.V1. 'prompt_type' should be of type RagQPromptType. Skipping...\n",
      "Invalid VQAStrategyDetail: Invalid combination: VQAStrategyType.RAG_Q with ZeroShotPromptType.V1. 'prompt_type' should be of type RagQPromptType. Skipping...\n",
      "Invalid VQAStrategyDetail: Invalid combination: VQAStrategyType.RAG_Q with ZeroShotPromptType.V1. 'prompt_type' should be of type RagQPromptType. Skipping...\n",
      "Invalid VQAStrategyDetail: Invalid combination: VQAStrategyType.RAG_Q with ZeroShotPromptType.V1. 'prompt_type' should be of type RagQPromptType. Skipping...\n",
      "Invalid VQAStrategyDetail: Invalid combination: VQAStrategyType.RAG_Q with ZeroShotPromptType.V1. 'prompt_type' should be of type RagQPromptType. Skipping...\n",
      "Invalid VQAStrategyDetail: Invalid combination: VQAStrategyType.RAG_Q with ZeroShotPromptType.V1. 'prompt_type' should be of type RagQPromptType. Skipping...\n",
      "Invalid VQAStrategyDetail: Invalid combination: VQAStrategyType.RAG_Q with ZeroShotPromptType.V1. 'prompt_type' should be of type RagQPromptType. Skipping...\n",
      "Invalid VQAStrategyDetail: Invalid combination: VQAStrategyType.RAG_Q with ZeroShotPromptType.V1. 'prompt_type' should be of type RagQPromptType. Skipping...\n",
      "Invalid VQAStrategyDetail: Invalid combination: VQAStrategyType.RAG_Q with ZeroShotPromptType.V1. 'prompt_type' should be of type RagQPromptType. Skipping...\n",
      "Invalid VQAStrategyDetail: Invalid combination: VQAStrategyType.RAG_Q with ZeroShotPromptType.V1. 'prompt_type' should be of type RagQPromptType. Skipping...\n",
      "Invalid VQAStrategyDetail: Invalid combination: VQAStrategyType.RAG_Q with ZeroShotPromptType.V1. 'prompt_type' should be of type RagQPromptType. Skipping...\n",
      "Invalid VQAStrategyDetail: Invalid combination: VQAStrategyType.RAG_Q with ZeroShotPromptType.V1. 'prompt_type' should be of type RagQPromptType. Skipping...\n",
      "Invalid VQAStrategyDetail: Invalid combination: VQAStrategyType.RAG_Q with ZeroShotPromptType.V1. 'prompt_type' should be of type RagQPromptType. Skipping...\n",
      "Invalid VQAStrategyDetail: Invalid combination: VQAStrategyType.RAG_Q with ZeroShotPromptType.V1. 'prompt_type' should be of type RagQPromptType. Skipping...\n",
      "Invalid VQAStrategyDetail: Invalid combination: VQAStrategyType.RAG_Q with ZeroShotPromptType.V1. 'prompt_type' should be of type RagQPromptType. Skipping...\n",
      "Invalid VQAStrategyDetail: Invalid combination: VQAStrategyType.RAG_Q with ZeroShotPromptType.V1. 'prompt_type' should be of type RagQPromptType. Skipping...\n",
      "Invalid VQAStrategyDetail: Invalid combination: VQAStrategyType.RAG_Q with ZeroShotPromptType.V1. 'prompt_type' should be of type RagQPromptType. Skipping...\n",
      "Invalid VQAStrategyDetail: Invalid combination: VQAStrategyType.RAG_Q with ZeroShotPromptType.V1. 'prompt_type' should be of type RagQPromptType. Skipping...\n",
      "Invalid VQAStrategyDetail: Invalid combination: VQAStrategyType.RAG_Q with ZeroShotPromptType.V1. 'prompt_type' should be of type RagQPromptType. Skipping...\n",
      "Invalid VQAStrategyDetail: Invalid combination: VQAStrategyType.RAG_Q with ZeroShotPromptType.V1. 'prompt_type' should be of type RagQPromptType. Skipping...\n",
      "Invalid VQAStrategyDetail: Invalid combination: VQAStrategyType.RAG_Q with ZeroShotPromptType.V1. 'prompt_type' should be of type RagQPromptType. Skipping...\n",
      "Invalid VQAStrategyDetail: Invalid combination: VQAStrategyType.RAG_Q with ZeroShotPromptType.V1. 'prompt_type' should be of type RagQPromptType. Skipping...\n",
      "Invalid VQAStrategyDetail: Invalid combination: VQAStrategyType.RAG_Q with ZeroShotPromptType.V1. 'prompt_type' should be of type RagQPromptType. Skipping...\n",
      "Invalid VQAStrategyDetail: Invalid combination: VQAStrategyType.RAG_Q with ZeroShotPromptType.V1. 'prompt_type' should be of type RagQPromptType. Skipping...\n",
      "Invalid VQAStrategyDetail: Invalid combination: VQAStrategyType.RAG_Q with ZeroShotPromptType.V1. 'prompt_type' should be of type RagQPromptType. Skipping...\n",
      "Invalid VQAStrategyDetail: Invalid combination: VQAStrategyType.RAG_Q with ZeroShotPromptType.V1. 'prompt_type' should be of type RagQPromptType. Skipping...\n",
      "Invalid VQAStrategyDetail: Invalid combination: VQAStrategyType.RAG_Q with ZeroShotPromptType.V1. 'prompt_type' should be of type RagQPromptType. Skipping...\n",
      "Invalid VQAStrategyDetail: Invalid combination: VQAStrategyType.RAG_Q with ZeroShotPromptType.V1. 'prompt_type' should be of type RagQPromptType. Skipping...\n",
      "Invalid VQAStrategyDetail: Invalid combination: VQAStrategyType.RAG_Q with ZeroShotPromptType.V1. 'prompt_type' should be of type RagQPromptType. Skipping...\n",
      "Invalid VQAStrategyDetail: Invalid combination: VQAStrategyType.RAG_Q with ZeroShotPromptType.V1. 'prompt_type' should be of type RagQPromptType. Skipping...\n",
      "Invalid VQAStrategyDetail: Invalid combination: VQAStrategyType.RAG_Q with ZeroShotPromptType.V1. 'prompt_type' should be of type RagQPromptType. Skipping...\n",
      "Invalid VQAStrategyDetail: Invalid combination: VQAStrategyType.RAG_Q with ZeroShotPromptType.V1. 'prompt_type' should be of type RagQPromptType. Skipping...\n",
      "Invalid VQAStrategyDetail: Invalid combination: VQAStrategyType.RAG_Q with ZeroShotPromptType.V1. 'prompt_type' should be of type RagQPromptType. Skipping...\n",
      "Invalid VQAStrategyDetail: Invalid combination: VQAStrategyType.RAG_Q with ZeroShotPromptType.V1. 'prompt_type' should be of type RagQPromptType. Skipping...\n",
      "Invalid VQAStrategyDetail: Invalid combination: VQAStrategyType.RAG_Q with ZeroShotPromptType.V1. 'prompt_type' should be of type RagQPromptType. Skipping...\n",
      "Invalid VQAStrategyDetail: Invalid combination: VQAStrategyType.RAG_Q with ZeroShotPromptType.V2. 'prompt_type' should be of type RagQPromptType. Skipping...\n",
      "Invalid VQAStrategyDetail: Invalid combination: VQAStrategyType.RAG_Q with ZeroShotPromptType.V2. 'prompt_type' should be of type RagQPromptType. Skipping...\n",
      "Invalid VQAStrategyDetail: Invalid combination: VQAStrategyType.RAG_Q with ZeroShotPromptType.V2. 'prompt_type' should be of type RagQPromptType. Skipping...\n",
      "Invalid VQAStrategyDetail: Invalid combination: VQAStrategyType.RAG_Q with ZeroShotPromptType.V2. 'prompt_type' should be of type RagQPromptType. Skipping...\n",
      "Invalid VQAStrategyDetail: Invalid combination: VQAStrategyType.RAG_Q with ZeroShotPromptType.V2. 'prompt_type' should be of type RagQPromptType. Skipping...\n",
      "Invalid VQAStrategyDetail: Invalid combination: VQAStrategyType.RAG_Q with ZeroShotPromptType.V2. 'prompt_type' should be of type RagQPromptType. Skipping...\n",
      "Invalid VQAStrategyDetail: Invalid combination: VQAStrategyType.RAG_Q with ZeroShotPromptType.V2. 'prompt_type' should be of type RagQPromptType. Skipping...\n",
      "Invalid VQAStrategyDetail: Invalid combination: VQAStrategyType.RAG_Q with ZeroShotPromptType.V2. 'prompt_type' should be of type RagQPromptType. Skipping...\n",
      "Invalid VQAStrategyDetail: Invalid combination: VQAStrategyType.RAG_Q with ZeroShotPromptType.V2. 'prompt_type' should be of type RagQPromptType. Skipping...\n",
      "Invalid VQAStrategyDetail: Invalid combination: VQAStrategyType.RAG_Q with ZeroShotPromptType.V2. 'prompt_type' should be of type RagQPromptType. Skipping...\n",
      "Invalid VQAStrategyDetail: Invalid combination: VQAStrategyType.RAG_Q with ZeroShotPromptType.V2. 'prompt_type' should be of type RagQPromptType. Skipping...\n",
      "Invalid VQAStrategyDetail: Invalid combination: VQAStrategyType.RAG_Q with ZeroShotPromptType.V2. 'prompt_type' should be of type RagQPromptType. Skipping...\n",
      "Invalid VQAStrategyDetail: Invalid combination: VQAStrategyType.RAG_Q with ZeroShotPromptType.V2. 'prompt_type' should be of type RagQPromptType. Skipping...\n",
      "Invalid VQAStrategyDetail: Invalid combination: VQAStrategyType.RAG_Q with ZeroShotPromptType.V2. 'prompt_type' should be of type RagQPromptType. Skipping...\n",
      "Invalid VQAStrategyDetail: Invalid combination: VQAStrategyType.RAG_Q with ZeroShotPromptType.V2. 'prompt_type' should be of type RagQPromptType. Skipping...\n",
      "Invalid VQAStrategyDetail: Invalid combination: VQAStrategyType.RAG_Q with ZeroShotPromptType.V2. 'prompt_type' should be of type RagQPromptType. Skipping...\n",
      "Invalid VQAStrategyDetail: Invalid combination: VQAStrategyType.RAG_Q with ZeroShotPromptType.V2. 'prompt_type' should be of type RagQPromptType. Skipping...\n",
      "Invalid VQAStrategyDetail: Invalid combination: VQAStrategyType.RAG_Q with ZeroShotPromptType.V2. 'prompt_type' should be of type RagQPromptType. Skipping...\n",
      "Invalid VQAStrategyDetail: Invalid combination: VQAStrategyType.RAG_Q with ZeroShotPromptType.V2. 'prompt_type' should be of type RagQPromptType. Skipping...\n",
      "Invalid VQAStrategyDetail: Invalid combination: VQAStrategyType.RAG_Q with ZeroShotPromptType.V2. 'prompt_type' should be of type RagQPromptType. Skipping...\n",
      "Invalid VQAStrategyDetail: Invalid combination: VQAStrategyType.RAG_Q with ZeroShotPromptType.V2. 'prompt_type' should be of type RagQPromptType. Skipping...\n",
      "Invalid VQAStrategyDetail: Invalid combination: VQAStrategyType.RAG_Q with ZeroShotPromptType.V2. 'prompt_type' should be of type RagQPromptType. Skipping...\n",
      "Invalid VQAStrategyDetail: Invalid combination: VQAStrategyType.RAG_Q with ZeroShotPromptType.V2. 'prompt_type' should be of type RagQPromptType. Skipping...\n",
      "Invalid VQAStrategyDetail: Invalid combination: VQAStrategyType.RAG_Q with ZeroShotPromptType.V2. 'prompt_type' should be of type RagQPromptType. Skipping...\n",
      "Invalid VQAStrategyDetail: Invalid combination: VQAStrategyType.RAG_Q with ZeroShotPromptType.V2. 'prompt_type' should be of type RagQPromptType. Skipping...\n",
      "Invalid VQAStrategyDetail: Invalid combination: VQAStrategyType.RAG_Q with ZeroShotPromptType.V2. 'prompt_type' should be of type RagQPromptType. Skipping...\n",
      "Invalid VQAStrategyDetail: Invalid combination: VQAStrategyType.RAG_Q with ZeroShotPromptType.V2. 'prompt_type' should be of type RagQPromptType. Skipping...\n",
      "Invalid VQAStrategyDetail: Invalid combination: VQAStrategyType.RAG_Q with ZeroShotPromptType.V2. 'prompt_type' should be of type RagQPromptType. Skipping...\n",
      "Invalid VQAStrategyDetail: Invalid combination: VQAStrategyType.RAG_Q with ZeroShotPromptType.V2. 'prompt_type' should be of type RagQPromptType. Skipping...\n",
      "Invalid VQAStrategyDetail: Invalid combination: VQAStrategyType.RAG_Q with ZeroShotPromptType.V2. 'prompt_type' should be of type RagQPromptType. Skipping...\n",
      "Invalid VQAStrategyDetail: Invalid combination: VQAStrategyType.RAG_Q with ZeroShotPromptType.V2. 'prompt_type' should be of type RagQPromptType. Skipping...\n",
      "Invalid VQAStrategyDetail: Invalid combination: VQAStrategyType.RAG_Q with ZeroShotPromptType.V2. 'prompt_type' should be of type RagQPromptType. Skipping...\n",
      "Invalid VQAStrategyDetail: Invalid combination: VQAStrategyType.RAG_Q with ZeroShotPromptType.V2. 'prompt_type' should be of type RagQPromptType. Skipping...\n",
      "Invalid VQAStrategyDetail: Invalid combination: VQAStrategyType.RAG_Q with ZeroShotPromptType.V2. 'prompt_type' should be of type RagQPromptType. Skipping...\n",
      "Invalid VQAStrategyDetail: Invalid combination: VQAStrategyType.RAG_Q with ZeroShotPromptType.V2. 'prompt_type' should be of type RagQPromptType. Skipping...\n",
      "Invalid VQAStrategyDetail: Invalid combination: VQAStrategyType.RAG_Q with ZeroShotPromptType.V2. 'prompt_type' should be of type RagQPromptType. Skipping...\n",
      "Invalid VQAStrategyDetail: Invalid combination: VQAStrategyType.RAG_Q with ZeroShotPromptType.V2. 'prompt_type' should be of type RagQPromptType. Skipping...\n",
      "Invalid VQAStrategyDetail: Invalid combination: VQAStrategyType.RAG_Q with ZeroShotPromptType.V2. 'prompt_type' should be of type RagQPromptType. Skipping...\n",
      "Invalid VQAStrategyDetail: Invalid combination: VQAStrategyType.RAG_Q with ZeroShotPromptType.V2. 'prompt_type' should be of type RagQPromptType. Skipping...\n",
      "Invalid VQAStrategyDetail: Invalid combination: VQAStrategyType.RAG_Q with ZeroShotPromptType.V2. 'prompt_type' should be of type RagQPromptType. Skipping...\n",
      "Invalid VQAStrategyDetail: Invalid combination: VQAStrategyType.RAG_Q with ZeroShotPromptType.V2. 'prompt_type' should be of type RagQPromptType. Skipping...\n",
      "Invalid VQAStrategyDetail: Invalid combination: VQAStrategyType.RAG_Q with ZeroShotPromptType.V2. 'prompt_type' should be of type RagQPromptType. Skipping...\n",
      "Invalid VQAStrategyDetail: Invalid combination: VQAStrategyType.RAG_Q with ZeroShotPromptType.V2. 'prompt_type' should be of type RagQPromptType. Skipping...\n",
      "Invalid VQAStrategyDetail: Invalid combination: VQAStrategyType.RAG_Q with ZeroShotPromptType.V2. 'prompt_type' should be of type RagQPromptType. Skipping...\n",
      "Invalid VQAStrategyDetail: Invalid combination: VQAStrategyType.RAG_Q with ZeroShotPromptType.V2. 'prompt_type' should be of type RagQPromptType. Skipping...\n",
      "Invalid VQAStrategyDetail: Invalid combination: VQAStrategyType.RAG_Q with ZeroShotPromptType.V2. 'prompt_type' should be of type RagQPromptType. Skipping...\n",
      "Invalid VQAStrategyDetail: Invalid combination: VQAStrategyType.RAG_Q with ZeroShotPromptType.V2. 'prompt_type' should be of type RagQPromptType. Skipping...\n",
      "Invalid VQAStrategyDetail: Invalid combination: VQAStrategyType.RAG_Q with ZeroShotPromptType.V2. 'prompt_type' should be of type RagQPromptType. Skipping...\n",
      "Invalid VQAStrategyDetail: Invalid combination: VQAStrategyType.RAG_Q with ZeroShotPromptType.V2. 'prompt_type' should be of type RagQPromptType. Skipping...\n",
      "Invalid VQAStrategyDetail: Invalid combination: VQAStrategyType.RAG_Q with ZeroShotPromptType.V2. 'prompt_type' should be of type RagQPromptType. Skipping...\n",
      "Invalid VQAStrategyDetail: Invalid combination: VQAStrategyType.RAG_Q with ZeroShotPromptType.V2. 'prompt_type' should be of type RagQPromptType. Skipping...\n",
      "Invalid VQAStrategyDetail: Invalid combination: VQAStrategyType.RAG_Q with ZeroShotPromptType.V2. 'prompt_type' should be of type RagQPromptType. Skipping...\n",
      "Invalid VQAStrategyDetail: Invalid combination: VQAStrategyType.RAG_Q with ZeroShotPromptType.V2. 'prompt_type' should be of type RagQPromptType. Skipping...\n",
      "Invalid VQAStrategyDetail: Invalid combination: VQAStrategyType.RAG_Q with ZeroShotPromptType.V2. 'prompt_type' should be of type RagQPromptType. Skipping...\n",
      "Invalid VQAStrategyDetail: Invalid combination: VQAStrategyType.RAG_Q with ZeroShotPromptType.V2. 'prompt_type' should be of type RagQPromptType. Skipping...\n",
      "Invalid VQAStrategyDetail: Invalid combination: VQAStrategyType.RAG_Q with ZeroShotPromptType.V2. 'prompt_type' should be of type RagQPromptType. Skipping...\n",
      "Invalid VQAStrategyDetail: Invalid combination: VQAStrategyType.RAG_Q with ZeroShotPromptType.V2. 'prompt_type' should be of type RagQPromptType. Skipping...\n",
      "Invalid VQAStrategyDetail: Invalid combination: VQAStrategyType.RAG_Q with ZeroShotPromptType.V2. 'prompt_type' should be of type RagQPromptType. Skipping...\n",
      "Invalid VQAStrategyDetail: Invalid combination: VQAStrategyType.RAG_Q with ZeroShotPromptType.V2. 'prompt_type' should be of type RagQPromptType. Skipping...\n",
      "Invalid VQAStrategyDetail: Invalid combination: VQAStrategyType.RAG_Q with ZeroShotPromptType.V2. 'prompt_type' should be of type RagQPromptType. Skipping...\n",
      "Invalid VQAStrategyDetail: Invalid combination: VQAStrategyType.RAG_Q with ZeroShotPromptType.V2. 'prompt_type' should be of type RagQPromptType. Skipping...\n",
      "Invalid VQAStrategyDetail: Invalid combination: VQAStrategyType.RAG_Q with ZeroShotPromptType.V2. 'prompt_type' should be of type RagQPromptType. Skipping...\n",
      "Invalid VQAStrategyDetail: Invalid combination: VQAStrategyType.RAG_Q with ZeroShotPromptType.V2. 'prompt_type' should be of type RagQPromptType. Skipping...\n",
      "Invalid VQAStrategyDetail: Invalid combination: VQAStrategyType.RAG_Q with ZeroShotPromptType.V2. 'prompt_type' should be of type RagQPromptType. Skipping...\n",
      "Invalid VQAStrategyDetail: Invalid combination: VQAStrategyType.RAG_Q with ZeroShotPromptType.V2. 'prompt_type' should be of type RagQPromptType. Skipping...\n",
      "Invalid VQAStrategyDetail: Invalid combination: VQAStrategyType.RAG_Q with ZeroShotPromptType.V2. 'prompt_type' should be of type RagQPromptType. Skipping...\n",
      "Invalid VQAStrategyDetail: Invalid combination: VQAStrategyType.RAG_Q with ZeroShotPromptType.V2. 'prompt_type' should be of type RagQPromptType. Skipping...\n",
      "Invalid VQAStrategyDetail: Invalid combination: VQAStrategyType.RAG_Q with ZeroShotPromptType.V2. 'prompt_type' should be of type RagQPromptType. Skipping...\n",
      "Invalid VQAStrategyDetail: Invalid combination: VQAStrategyType.RAG_Q with ZeroShotPromptType.V2. 'prompt_type' should be of type RagQPromptType. Skipping...\n",
      "Invalid VQAStrategyDetail: Invalid combination: VQAStrategyType.RAG_Q with ZeroShotPromptType.V2. 'prompt_type' should be of type RagQPromptType. Skipping...\n",
      "Invalid VQAStrategyDetail: Invalid combination: VQAStrategyType.RAG_Q with ZeroShotPromptType.V2. 'prompt_type' should be of type RagQPromptType. Skipping...\n",
      "Invalid VQAStrategyDetail: Invalid combination: VQAStrategyType.RAG_Q with ZeroShotPromptType.V2. 'prompt_type' should be of type RagQPromptType. Skipping...\n",
      "Invalid VQAStrategyDetail: Invalid combination: VQAStrategyType.RAG_Q with ZeroShotPromptType.V2. 'prompt_type' should be of type RagQPromptType. Skipping...\n",
      "Invalid VQAStrategyDetail: Invalid combination: VQAStrategyType.RAG_Q with ZeroShotPromptType.V2. 'prompt_type' should be of type RagQPromptType. Skipping...\n",
      "Invalid VQAStrategyDetail: Invalid combination: VQAStrategyType.RAG_Q with ZeroShotPromptType.V2. 'prompt_type' should be of type RagQPromptType. Skipping...\n",
      "Invalid VQAStrategyDetail: Invalid combination: VQAStrategyType.RAG_Q with ZeroShotPromptType.V2. 'prompt_type' should be of type RagQPromptType. Skipping...\n",
      "Invalid VQAStrategyDetail: Invalid combination: VQAStrategyType.RAG_Q with ZeroShotPromptType.V2. 'prompt_type' should be of type RagQPromptType. Skipping...\n",
      "Invalid VQAStrategyDetail: Invalid combination: VQAStrategyType.RAG_Q with ZeroShotPromptType.V2. 'prompt_type' should be of type RagQPromptType. Skipping...\n",
      "Invalid VQAStrategyDetail: Invalid combination: VQAStrategyType.RAG_Q with ZeroShotPromptType.V2. 'prompt_type' should be of type RagQPromptType. Skipping...\n",
      "Invalid VQAStrategyDetail: Invalid combination: VQAStrategyType.RAG_Q with ZeroShotPromptType.V2. 'prompt_type' should be of type RagQPromptType. Skipping...\n",
      "Invalid VQAStrategyDetail: Invalid combination: VQAStrategyType.RAG_Q with ZeroShotPromptType.V2. 'prompt_type' should be of type RagQPromptType. Skipping...\n",
      "Invalid VQAStrategyDetail: Invalid combination: VQAStrategyType.RAG_Q with ZeroShotPromptType.V2. 'prompt_type' should be of type RagQPromptType. Skipping...\n",
      "Invalid VQAStrategyDetail: Invalid combination: VQAStrategyType.RAG_Q with ZeroShotPromptType.V2. 'prompt_type' should be of type RagQPromptType. Skipping...\n",
      "Invalid VQAStrategyDetail: Invalid combination: VQAStrategyType.RAG_Q with ZeroShotPromptType.V2. 'prompt_type' should be of type RagQPromptType. Skipping...\n",
      "Invalid VQAStrategyDetail: Invalid combination: VQAStrategyType.RAG_Q with ZeroShotPromptType.V2. 'prompt_type' should be of type RagQPromptType. Skipping...\n",
      "Invalid VQAStrategyDetail: Invalid combination: VQAStrategyType.RAG_Q with ZeroShotPromptType.V2. 'prompt_type' should be of type RagQPromptType. Skipping...\n",
      "Invalid VQAStrategyDetail: Invalid combination: VQAStrategyType.RAG_Q with ZeroShotPromptType.V2. 'prompt_type' should be of type RagQPromptType. Skipping...\n",
      "Invalid VQAStrategyDetail: Invalid combination: VQAStrategyType.RAG_Q with ZeroShotPromptType.V2. 'prompt_type' should be of type RagQPromptType. Skipping...\n",
      "Invalid VQAStrategyDetail: Invalid combination: VQAStrategyType.RAG_Q with ZeroShotPromptType.V2. 'prompt_type' should be of type RagQPromptType. Skipping...\n",
      "Invalid VQAStrategyDetail: Invalid combination: VQAStrategyType.RAG_Q with ZeroShotPromptType.V2. 'prompt_type' should be of type RagQPromptType. Skipping...\n",
      "Invalid VQAStrategyDetail: Invalid combination: VQAStrategyType.RAG_Q with ZeroShotPromptType.V2. 'prompt_type' should be of type RagQPromptType. Skipping...\n",
      "Invalid VQAStrategyDetail: Invalid combination: VQAStrategyType.RAG_Q with ZeroShotPromptType.V2. 'prompt_type' should be of type RagQPromptType. Skipping...\n",
      "Invalid VQAStrategyDetail: Invalid combination: VQAStrategyType.RAG_Q with ZeroShotPromptType.V2. 'prompt_type' should be of type RagQPromptType. Skipping...\n",
      "Invalid VQAStrategyDetail: Invalid combination: VQAStrategyType.RAG_Q with ZeroShotPromptType.V2. 'prompt_type' should be of type RagQPromptType. Skipping...\n",
      "Invalid VQAStrategyDetail: Invalid combination: VQAStrategyType.RAG_Q with ZeroShotPromptType.V2. 'prompt_type' should be of type RagQPromptType. Skipping...\n",
      "Invalid VQAStrategyDetail: Invalid combination: VQAStrategyType.RAG_Q with ZeroShotPromptType.V2. 'prompt_type' should be of type RagQPromptType. Skipping...\n",
      "Invalid VQAStrategyDetail: Invalid combination: VQAStrategyType.RAG_Q with ZeroShotPromptType.V2. 'prompt_type' should be of type RagQPromptType. Skipping...\n",
      "Invalid VQAStrategyDetail: Invalid combination: VQAStrategyType.RAG_Q with ZeroShotPromptType.V2. 'prompt_type' should be of type RagQPromptType. Skipping...\n",
      "Invalid VQAStrategyDetail: Invalid combination: VQAStrategyType.RAG_Q with ZeroShotPromptType.V2. 'prompt_type' should be of type RagQPromptType. Skipping...\n",
      "Invalid VQAStrategyDetail: Invalid combination: VQAStrategyType.RAG_Q with ZeroShotPromptType.V2. 'prompt_type' should be of type RagQPromptType. Skipping...\n",
      "Invalid VQAStrategyDetail: Invalid combination: VQAStrategyType.RAG_Q with ZeroShotPromptType.V2. 'prompt_type' should be of type RagQPromptType. Skipping...\n",
      "Invalid VQAStrategyDetail: Invalid combination: VQAStrategyType.RAG_Q with ZeroShotPromptType.V2. 'prompt_type' should be of type RagQPromptType. Skipping...\n",
      "Invalid VQAStrategyDetail: Invalid combination: VQAStrategyType.RAG_Q with ZeroShotPromptType.V2. 'prompt_type' should be of type RagQPromptType. Skipping...\n",
      "Invalid VQAStrategyDetail: Invalid combination: VQAStrategyType.RAG_Q with ZeroShotPromptType.V2. 'prompt_type' should be of type RagQPromptType. Skipping...\n",
      "Invalid VQAStrategyDetail: Invalid combination: VQAStrategyType.RAG_Q with ZeroShotPromptType.V2. 'prompt_type' should be of type RagQPromptType. Skipping...\n",
      "Invalid VQAStrategyDetail: Invalid combination: VQAStrategyType.RAG_Q with ZeroShotPromptType.V2. 'prompt_type' should be of type RagQPromptType. Skipping...\n",
      "Invalid VQAStrategyDetail: Invalid combination: VQAStrategyType.RAG_Q with ZeroShotPromptType.V2. 'prompt_type' should be of type RagQPromptType. Skipping...\n",
      "Invalid VQAStrategyDetail: Invalid combination: VQAStrategyType.RAG_Q with ZeroShotPromptType.V2. 'prompt_type' should be of type RagQPromptType. Skipping...\n",
      "Invalid VQAStrategyDetail: Invalid combination: VQAStrategyType.RAG_Q with ZeroShotPromptType.V2. 'prompt_type' should be of type RagQPromptType. Skipping...\n",
      "Invalid VQAStrategyDetail: Invalid combination: VQAStrategyType.RAG_Q with ZeroShotPromptType.V2. 'prompt_type' should be of type RagQPromptType. Skipping...\n",
      "Invalid VQAStrategyDetail: Invalid combination: VQAStrategyType.RAG_Q with ZeroShotPromptType.V2. 'prompt_type' should be of type RagQPromptType. Skipping...\n",
      "Invalid VQAStrategyDetail: Invalid combination: VQAStrategyType.RAG_Q with ZeroShotPromptType.V2. 'prompt_type' should be of type RagQPromptType. Skipping...\n",
      "Invalid VQAStrategyDetail: Invalid combination: VQAStrategyType.RAG_Q with ZeroShotPromptType.V3. 'prompt_type' should be of type RagQPromptType. Skipping...\n",
      "Invalid VQAStrategyDetail: Invalid combination: VQAStrategyType.RAG_Q with ZeroShotPromptType.V3. 'prompt_type' should be of type RagQPromptType. Skipping...\n",
      "Invalid VQAStrategyDetail: Invalid combination: VQAStrategyType.RAG_Q with ZeroShotPromptType.V3. 'prompt_type' should be of type RagQPromptType. Skipping...\n",
      "Invalid VQAStrategyDetail: Invalid combination: VQAStrategyType.RAG_Q with ZeroShotPromptType.V3. 'prompt_type' should be of type RagQPromptType. Skipping...\n",
      "Invalid VQAStrategyDetail: Invalid combination: VQAStrategyType.RAG_Q with ZeroShotPromptType.V3. 'prompt_type' should be of type RagQPromptType. Skipping...\n",
      "Invalid VQAStrategyDetail: Invalid combination: VQAStrategyType.RAG_Q with ZeroShotPromptType.V3. 'prompt_type' should be of type RagQPromptType. Skipping...\n",
      "Invalid VQAStrategyDetail: Invalid combination: VQAStrategyType.RAG_Q with ZeroShotPromptType.V3. 'prompt_type' should be of type RagQPromptType. Skipping...\n",
      "Invalid VQAStrategyDetail: Invalid combination: VQAStrategyType.RAG_Q with ZeroShotPromptType.V3. 'prompt_type' should be of type RagQPromptType. Skipping...\n",
      "Invalid VQAStrategyDetail: Invalid combination: VQAStrategyType.RAG_Q with ZeroShotPromptType.V3. 'prompt_type' should be of type RagQPromptType. Skipping...\n",
      "Invalid VQAStrategyDetail: Invalid combination: VQAStrategyType.RAG_Q with ZeroShotPromptType.V3. 'prompt_type' should be of type RagQPromptType. Skipping...\n",
      "Invalid VQAStrategyDetail: Invalid combination: VQAStrategyType.RAG_Q with ZeroShotPromptType.V3. 'prompt_type' should be of type RagQPromptType. Skipping...\n",
      "Invalid VQAStrategyDetail: Invalid combination: VQAStrategyType.RAG_Q with ZeroShotPromptType.V3. 'prompt_type' should be of type RagQPromptType. Skipping...\n",
      "Invalid VQAStrategyDetail: Invalid combination: VQAStrategyType.RAG_Q with ZeroShotPromptType.V3. 'prompt_type' should be of type RagQPromptType. Skipping...\n",
      "Invalid VQAStrategyDetail: Invalid combination: VQAStrategyType.RAG_Q with ZeroShotPromptType.V3. 'prompt_type' should be of type RagQPromptType. Skipping...\n",
      "Invalid VQAStrategyDetail: Invalid combination: VQAStrategyType.RAG_Q with ZeroShotPromptType.V3. 'prompt_type' should be of type RagQPromptType. Skipping...\n",
      "Invalid VQAStrategyDetail: Invalid combination: VQAStrategyType.RAG_Q with ZeroShotPromptType.V3. 'prompt_type' should be of type RagQPromptType. Skipping...\n",
      "Invalid VQAStrategyDetail: Invalid combination: VQAStrategyType.RAG_Q with ZeroShotPromptType.V3. 'prompt_type' should be of type RagQPromptType. Skipping...\n",
      "Invalid VQAStrategyDetail: Invalid combination: VQAStrategyType.RAG_Q with ZeroShotPromptType.V3. 'prompt_type' should be of type RagQPromptType. Skipping...\n",
      "Invalid VQAStrategyDetail: Invalid combination: VQAStrategyType.RAG_Q with ZeroShotPromptType.V3. 'prompt_type' should be of type RagQPromptType. Skipping...\n",
      "Invalid VQAStrategyDetail: Invalid combination: VQAStrategyType.RAG_Q with ZeroShotPromptType.V3. 'prompt_type' should be of type RagQPromptType. Skipping...\n",
      "Invalid VQAStrategyDetail: Invalid combination: VQAStrategyType.RAG_Q with ZeroShotPromptType.V3. 'prompt_type' should be of type RagQPromptType. Skipping...\n",
      "Invalid VQAStrategyDetail: Invalid combination: VQAStrategyType.RAG_Q with ZeroShotPromptType.V3. 'prompt_type' should be of type RagQPromptType. Skipping...\n",
      "Invalid VQAStrategyDetail: Invalid combination: VQAStrategyType.RAG_Q with ZeroShotPromptType.V3. 'prompt_type' should be of type RagQPromptType. Skipping...\n",
      "Invalid VQAStrategyDetail: Invalid combination: VQAStrategyType.RAG_Q with ZeroShotPromptType.V3. 'prompt_type' should be of type RagQPromptType. Skipping...\n",
      "Invalid VQAStrategyDetail: Invalid combination: VQAStrategyType.RAG_Q with ZeroShotPromptType.V3. 'prompt_type' should be of type RagQPromptType. Skipping...\n",
      "Invalid VQAStrategyDetail: Invalid combination: VQAStrategyType.RAG_Q with ZeroShotPromptType.V3. 'prompt_type' should be of type RagQPromptType. Skipping...\n",
      "Invalid VQAStrategyDetail: Invalid combination: VQAStrategyType.RAG_Q with ZeroShotPromptType.V3. 'prompt_type' should be of type RagQPromptType. Skipping...\n",
      "Invalid VQAStrategyDetail: Invalid combination: VQAStrategyType.RAG_Q with ZeroShotPromptType.V3. 'prompt_type' should be of type RagQPromptType. Skipping...\n",
      "Invalid VQAStrategyDetail: Invalid combination: VQAStrategyType.RAG_Q with ZeroShotPromptType.V3. 'prompt_type' should be of type RagQPromptType. Skipping...\n",
      "Invalid VQAStrategyDetail: Invalid combination: VQAStrategyType.RAG_Q with ZeroShotPromptType.V3. 'prompt_type' should be of type RagQPromptType. Skipping...\n",
      "Invalid VQAStrategyDetail: Invalid combination: VQAStrategyType.RAG_Q with ZeroShotPromptType.V3. 'prompt_type' should be of type RagQPromptType. Skipping...\n",
      "Invalid VQAStrategyDetail: Invalid combination: VQAStrategyType.RAG_Q with ZeroShotPromptType.V3. 'prompt_type' should be of type RagQPromptType. Skipping...\n",
      "Invalid VQAStrategyDetail: Invalid combination: VQAStrategyType.RAG_Q with ZeroShotPromptType.V3. 'prompt_type' should be of type RagQPromptType. Skipping...\n",
      "Invalid VQAStrategyDetail: Invalid combination: VQAStrategyType.RAG_Q with ZeroShotPromptType.V3. 'prompt_type' should be of type RagQPromptType. Skipping...\n",
      "Invalid VQAStrategyDetail: Invalid combination: VQAStrategyType.RAG_Q with ZeroShotPromptType.V3. 'prompt_type' should be of type RagQPromptType. Skipping...\n",
      "Invalid VQAStrategyDetail: Invalid combination: VQAStrategyType.RAG_Q with ZeroShotPromptType.V3. 'prompt_type' should be of type RagQPromptType. Skipping...\n",
      "Invalid VQAStrategyDetail: Invalid combination: VQAStrategyType.RAG_Q with ZeroShotPromptType.V3. 'prompt_type' should be of type RagQPromptType. Skipping...\n",
      "Invalid VQAStrategyDetail: Invalid combination: VQAStrategyType.RAG_Q with ZeroShotPromptType.V3. 'prompt_type' should be of type RagQPromptType. Skipping...\n",
      "Invalid VQAStrategyDetail: Invalid combination: VQAStrategyType.RAG_Q with ZeroShotPromptType.V3. 'prompt_type' should be of type RagQPromptType. Skipping...\n",
      "Invalid VQAStrategyDetail: Invalid combination: VQAStrategyType.RAG_Q with ZeroShotPromptType.V3. 'prompt_type' should be of type RagQPromptType. Skipping...\n",
      "Invalid VQAStrategyDetail: Invalid combination: VQAStrategyType.RAG_Q with ZeroShotPromptType.V3. 'prompt_type' should be of type RagQPromptType. Skipping...\n",
      "Invalid VQAStrategyDetail: Invalid combination: VQAStrategyType.RAG_Q with ZeroShotPromptType.V3. 'prompt_type' should be of type RagQPromptType. Skipping...\n",
      "Invalid VQAStrategyDetail: Invalid combination: VQAStrategyType.RAG_Q with ZeroShotPromptType.V3. 'prompt_type' should be of type RagQPromptType. Skipping...\n",
      "Invalid VQAStrategyDetail: Invalid combination: VQAStrategyType.RAG_Q with ZeroShotPromptType.V3. 'prompt_type' should be of type RagQPromptType. Skipping...\n",
      "Invalid VQAStrategyDetail: Invalid combination: VQAStrategyType.RAG_Q with ZeroShotPromptType.V3. 'prompt_type' should be of type RagQPromptType. Skipping...\n",
      "Invalid VQAStrategyDetail: Invalid combination: VQAStrategyType.RAG_Q with ZeroShotPromptType.V3. 'prompt_type' should be of type RagQPromptType. Skipping...\n",
      "Invalid VQAStrategyDetail: Invalid combination: VQAStrategyType.RAG_Q with ZeroShotPromptType.V3. 'prompt_type' should be of type RagQPromptType. Skipping...\n",
      "Invalid VQAStrategyDetail: Invalid combination: VQAStrategyType.RAG_Q with ZeroShotPromptType.V3. 'prompt_type' should be of type RagQPromptType. Skipping...\n",
      "Invalid VQAStrategyDetail: Invalid combination: VQAStrategyType.RAG_Q with ZeroShotPromptType.V3. 'prompt_type' should be of type RagQPromptType. Skipping...\n",
      "Invalid VQAStrategyDetail: Invalid combination: VQAStrategyType.RAG_Q with ZeroShotPromptType.V3. 'prompt_type' should be of type RagQPromptType. Skipping...\n",
      "Invalid VQAStrategyDetail: Invalid combination: VQAStrategyType.RAG_Q with ZeroShotPromptType.V3. 'prompt_type' should be of type RagQPromptType. Skipping...\n",
      "Invalid VQAStrategyDetail: Invalid combination: VQAStrategyType.RAG_Q with ZeroShotPromptType.V3. 'prompt_type' should be of type RagQPromptType. Skipping...\n",
      "Invalid VQAStrategyDetail: Invalid combination: VQAStrategyType.RAG_Q with ZeroShotPromptType.V3. 'prompt_type' should be of type RagQPromptType. Skipping...\n",
      "Invalid VQAStrategyDetail: Invalid combination: VQAStrategyType.RAG_Q with ZeroShotPromptType.V3. 'prompt_type' should be of type RagQPromptType. Skipping...\n",
      "Invalid VQAStrategyDetail: Invalid combination: VQAStrategyType.RAG_Q with ZeroShotPromptType.V3. 'prompt_type' should be of type RagQPromptType. Skipping...\n",
      "Invalid VQAStrategyDetail: Invalid combination: VQAStrategyType.RAG_Q with ZeroShotPromptType.V3. 'prompt_type' should be of type RagQPromptType. Skipping...\n",
      "Invalid VQAStrategyDetail: Invalid combination: VQAStrategyType.RAG_Q with ZeroShotPromptType.V3. 'prompt_type' should be of type RagQPromptType. Skipping...\n",
      "Invalid VQAStrategyDetail: Invalid combination: VQAStrategyType.RAG_Q with ZeroShotPromptType.V3. 'prompt_type' should be of type RagQPromptType. Skipping...\n",
      "Invalid VQAStrategyDetail: Invalid combination: VQAStrategyType.RAG_Q with ZeroShotPromptType.V3. 'prompt_type' should be of type RagQPromptType. Skipping...\n",
      "Invalid VQAStrategyDetail: Invalid combination: VQAStrategyType.RAG_Q with ZeroShotPromptType.V3. 'prompt_type' should be of type RagQPromptType. Skipping...\n",
      "Invalid VQAStrategyDetail: Invalid combination: VQAStrategyType.RAG_Q with ZeroShotPromptType.V3. 'prompt_type' should be of type RagQPromptType. Skipping...\n",
      "Invalid VQAStrategyDetail: Invalid combination: VQAStrategyType.RAG_Q with ZeroShotPromptType.V3. 'prompt_type' should be of type RagQPromptType. Skipping...\n",
      "Invalid VQAStrategyDetail: Invalid combination: VQAStrategyType.RAG_Q with ZeroShotPromptType.V3. 'prompt_type' should be of type RagQPromptType. Skipping...\n",
      "Invalid VQAStrategyDetail: Invalid combination: VQAStrategyType.RAG_Q with ZeroShotPromptType.V3. 'prompt_type' should be of type RagQPromptType. Skipping...\n",
      "Invalid VQAStrategyDetail: Invalid combination: VQAStrategyType.RAG_Q with ZeroShotPromptType.V3. 'prompt_type' should be of type RagQPromptType. Skipping...\n",
      "Invalid VQAStrategyDetail: Invalid combination: VQAStrategyType.RAG_Q with ZeroShotPromptType.V3. 'prompt_type' should be of type RagQPromptType. Skipping...\n",
      "Invalid VQAStrategyDetail: Invalid combination: VQAStrategyType.RAG_Q with ZeroShotPromptType.V3. 'prompt_type' should be of type RagQPromptType. Skipping...\n",
      "Invalid VQAStrategyDetail: Invalid combination: VQAStrategyType.RAG_Q with ZeroShotPromptType.V3. 'prompt_type' should be of type RagQPromptType. Skipping...\n",
      "Invalid VQAStrategyDetail: Invalid combination: VQAStrategyType.RAG_Q with ZeroShotPromptType.V3. 'prompt_type' should be of type RagQPromptType. Skipping...\n",
      "Invalid VQAStrategyDetail: Invalid combination: VQAStrategyType.RAG_Q with ZeroShotPromptType.V3. 'prompt_type' should be of type RagQPromptType. Skipping...\n",
      "Invalid VQAStrategyDetail: Invalid combination: VQAStrategyType.RAG_Q with ZeroShotPromptType.V3. 'prompt_type' should be of type RagQPromptType. Skipping...\n",
      "Invalid VQAStrategyDetail: Invalid combination: VQAStrategyType.RAG_Q with ZeroShotPromptType.V3. 'prompt_type' should be of type RagQPromptType. Skipping...\n",
      "Invalid VQAStrategyDetail: Invalid combination: VQAStrategyType.RAG_Q with ZeroShotPromptType.V3. 'prompt_type' should be of type RagQPromptType. Skipping...\n",
      "Invalid VQAStrategyDetail: Invalid combination: VQAStrategyType.RAG_Q with ZeroShotPromptType.V3. 'prompt_type' should be of type RagQPromptType. Skipping...\n",
      "Invalid VQAStrategyDetail: Invalid combination: VQAStrategyType.RAG_Q with ZeroShotPromptType.V3. 'prompt_type' should be of type RagQPromptType. Skipping...\n",
      "Invalid VQAStrategyDetail: Invalid combination: VQAStrategyType.RAG_Q with ZeroShotPromptType.V3. 'prompt_type' should be of type RagQPromptType. Skipping...\n",
      "Invalid VQAStrategyDetail: Invalid combination: VQAStrategyType.RAG_Q with ZeroShotPromptType.V3. 'prompt_type' should be of type RagQPromptType. Skipping...\n",
      "Invalid VQAStrategyDetail: Invalid combination: VQAStrategyType.RAG_Q with ZeroShotPromptType.V3. 'prompt_type' should be of type RagQPromptType. Skipping...\n",
      "Invalid VQAStrategyDetail: Invalid combination: VQAStrategyType.RAG_Q with ZeroShotPromptType.V3. 'prompt_type' should be of type RagQPromptType. Skipping...\n",
      "Invalid VQAStrategyDetail: Invalid combination: VQAStrategyType.RAG_Q with ZeroShotPromptType.V3. 'prompt_type' should be of type RagQPromptType. Skipping...\n",
      "Invalid VQAStrategyDetail: Invalid combination: VQAStrategyType.RAG_Q with ZeroShotPromptType.V3. 'prompt_type' should be of type RagQPromptType. Skipping...\n",
      "Invalid VQAStrategyDetail: Invalid combination: VQAStrategyType.RAG_Q with ZeroShotPromptType.V3. 'prompt_type' should be of type RagQPromptType. Skipping...\n",
      "Invalid VQAStrategyDetail: Invalid combination: VQAStrategyType.RAG_Q with ZeroShotPromptType.V3. 'prompt_type' should be of type RagQPromptType. Skipping...\n",
      "Invalid VQAStrategyDetail: Invalid combination: VQAStrategyType.RAG_Q with ZeroShotPromptType.V3. 'prompt_type' should be of type RagQPromptType. Skipping...\n",
      "Invalid VQAStrategyDetail: Invalid combination: VQAStrategyType.RAG_Q with ZeroShotPromptType.V3. 'prompt_type' should be of type RagQPromptType. Skipping...\n",
      "Invalid VQAStrategyDetail: Invalid combination: VQAStrategyType.RAG_Q with ZeroShotPromptType.V3. 'prompt_type' should be of type RagQPromptType. Skipping...\n",
      "Invalid VQAStrategyDetail: Invalid combination: VQAStrategyType.RAG_Q with ZeroShotPromptType.V3. 'prompt_type' should be of type RagQPromptType. Skipping...\n",
      "Invalid VQAStrategyDetail: Invalid combination: VQAStrategyType.RAG_Q with ZeroShotPromptType.V3. 'prompt_type' should be of type RagQPromptType. Skipping...\n",
      "Invalid VQAStrategyDetail: Invalid combination: VQAStrategyType.RAG_Q with ZeroShotPromptType.V3. 'prompt_type' should be of type RagQPromptType. Skipping...\n",
      "Invalid VQAStrategyDetail: Invalid combination: VQAStrategyType.RAG_Q with ZeroShotPromptType.V3. 'prompt_type' should be of type RagQPromptType. Skipping...\n",
      "Invalid VQAStrategyDetail: Invalid combination: VQAStrategyType.RAG_Q with ZeroShotPromptType.V3. 'prompt_type' should be of type RagQPromptType. Skipping...\n",
      "Invalid VQAStrategyDetail: Invalid combination: VQAStrategyType.RAG_Q with ZeroShotPromptType.V3. 'prompt_type' should be of type RagQPromptType. Skipping...\n",
      "Invalid VQAStrategyDetail: Invalid combination: VQAStrategyType.RAG_Q with ZeroShotPromptType.V3. 'prompt_type' should be of type RagQPromptType. Skipping...\n",
      "Invalid VQAStrategyDetail: Invalid combination: VQAStrategyType.RAG_Q with ZeroShotPromptType.V3. 'prompt_type' should be of type RagQPromptType. Skipping...\n",
      "Invalid VQAStrategyDetail: Invalid combination: VQAStrategyType.RAG_Q with ZeroShotPromptType.V3. 'prompt_type' should be of type RagQPromptType. Skipping...\n",
      "Invalid VQAStrategyDetail: Invalid combination: VQAStrategyType.RAG_Q with ZeroShotPromptType.V3. 'prompt_type' should be of type RagQPromptType. Skipping...\n",
      "Invalid VQAStrategyDetail: Invalid combination: VQAStrategyType.RAG_Q with ZeroShotPromptType.V3. 'prompt_type' should be of type RagQPromptType. Skipping...\n",
      "Invalid VQAStrategyDetail: Invalid combination: VQAStrategyType.RAG_Q with ZeroShotPromptType.V3. 'prompt_type' should be of type RagQPromptType. Skipping...\n",
      "Invalid VQAStrategyDetail: Invalid combination: VQAStrategyType.RAG_Q with ZeroShotPromptType.V3. 'prompt_type' should be of type RagQPromptType. Skipping...\n",
      "Invalid VQAStrategyDetail: Invalid combination: VQAStrategyType.RAG_Q with ZeroShotPromptType.V3. 'prompt_type' should be of type RagQPromptType. Skipping...\n",
      "Invalid VQAStrategyDetail: Invalid combination: VQAStrategyType.RAG_Q with ZeroShotPromptType.V3. 'prompt_type' should be of type RagQPromptType. Skipping...\n",
      "Invalid VQAStrategyDetail: Invalid combination: VQAStrategyType.RAG_Q with ZeroShotPromptType.V3. 'prompt_type' should be of type RagQPromptType. Skipping...\n",
      "Invalid VQAStrategyDetail: Invalid combination: VQAStrategyType.RAG_Q with ZeroShotPromptType.V3. 'prompt_type' should be of type RagQPromptType. Skipping...\n",
      "Invalid VQAStrategyDetail: Invalid combination: VQAStrategyType.RAG_Q with ZeroShotPromptType.V3. 'prompt_type' should be of type RagQPromptType. Skipping...\n",
      "Invalid VQAStrategyDetail: Invalid combination: VQAStrategyType.RAG_Q with ZeroShotPromptType.V3. 'prompt_type' should be of type RagQPromptType. Skipping...\n",
      "Invalid VQAStrategyDetail: Invalid combination: VQAStrategyType.RAG_Q with ZeroShotPromptType.V3. 'prompt_type' should be of type RagQPromptType. Skipping...\n",
      "Invalid VQAStrategyDetail: Invalid combination: VQAStrategyType.RAG_Q with ZeroShotPromptType.V3. 'prompt_type' should be of type RagQPromptType. Skipping...\n",
      "Invalid VQAStrategyDetail: Invalid combination: VQAStrategyType.RAG_Q with ZeroShotPromptType.V3. 'prompt_type' should be of type RagQPromptType. Skipping...\n",
      "Invalid VQAStrategyDetail: Invalid combination: VQAStrategyType.RAG_Q with ZeroShotPromptType.V3. 'prompt_type' should be of type RagQPromptType. Skipping...\n",
      "Invalid VQAStrategyDetail: Invalid combination: VQAStrategyType.RAG_Q with ZeroShotPromptType.V3. 'prompt_type' should be of type RagQPromptType. Skipping...\n",
      "Invalid VQAStrategyDetail: Invalid combination: VQAStrategyType.RAG_Q with ZeroShotPromptType.V3. 'prompt_type' should be of type RagQPromptType. Skipping...\n",
      "Invalid VQAStrategyDetail: Invalid combination: VQAStrategyType.RAG_Q with ZeroShotPromptType.V3. 'prompt_type' should be of type RagQPromptType. Skipping...\n",
      "1 --> VQAStrategyDetail(country='spain', file_type='english', vqa_strategy_type=<VQAStrategyType.ZERO_SHOT: 'zero_shot'>, prompt_type=<ZeroShotPromptType.V1: 'zs_v1'>, relevant_docs_count=None, doc_splitter_options=None)\n",
      "2 --> VQAStrategyDetail(country='spain', file_type='english', vqa_strategy_type=<VQAStrategyType.ZERO_SHOT: 'zero_shot'>, prompt_type=<ZeroShotPromptType.V2: 'zs_v2'>, relevant_docs_count=None, doc_splitter_options=None)\n",
      "3 --> VQAStrategyDetail(country='spain', file_type='english', vqa_strategy_type=<VQAStrategyType.ZERO_SHOT: 'zero_shot'>, prompt_type=<ZeroShotPromptType.V3: 'zs_v3'>, relevant_docs_count=None, doc_splitter_options=None)\n",
      "4 --> VQAStrategyDetail(country='spain', file_type='english', vqa_strategy_type=<VQAStrategyType.RAG_Q: 'rag_q'>, prompt_type=<RagQPromptType.V1: 'rq_v1'>, relevant_docs_count=1, doc_splitter_options=None)\n",
      "5 --> VQAStrategyDetail(country='spain', file_type='english', vqa_strategy_type=<VQAStrategyType.RAG_Q: 'rag_q'>, prompt_type=<RagQPromptType.V1: 'rq_v1'>, relevant_docs_count=1, doc_splitter_options=DocSplitterOptions(doc_splitter_type=<DocumentSplitterType.PARAGRAPH_SPLITTER: 'paragraph_splitter'>, token_count=1, add_title=False, chunk_size=None, chunk_overlap=None))\n",
      "6 --> VQAStrategyDetail(country='spain', file_type='english', vqa_strategy_type=<VQAStrategyType.RAG_Q: 'rag_q'>, prompt_type=<RagQPromptType.V1: 'rq_v1'>, relevant_docs_count=1, doc_splitter_options=DocSplitterOptions(doc_splitter_type=<DocumentSplitterType.RECURSIVE_CHARACTER_SPLITTER: 'recursive_character_splitter'>, token_count=1, add_title=False, chunk_size=12, chunk_overlap=2))\n",
      "7 --> VQAStrategyDetail(country='spain', file_type='english', vqa_strategy_type=<VQAStrategyType.RAG_Q: 'rag_q'>, prompt_type=<RagQPromptType.V1: 'rq_v1'>, relevant_docs_count=1, doc_splitter_options=DocSplitterOptions(doc_splitter_type=<DocumentSplitterType.RECURSIVE_CHARACTER_SPLITTER: 'recursive_character_splitter'>, token_count=1, add_title=False, chunk_size=12, chunk_overlap=6))\n",
      "8 --> VQAStrategyDetail(country='spain', file_type='english', vqa_strategy_type=<VQAStrategyType.RAG_Q: 'rag_q'>, prompt_type=<RagQPromptType.V1: 'rq_v1'>, relevant_docs_count=1, doc_splitter_options=DocSplitterOptions(doc_splitter_type=<DocumentSplitterType.RECURSIVE_CHARACTER_SPLITTER: 'recursive_character_splitter'>, token_count=1, add_title=False, chunk_size=24, chunk_overlap=2))\n",
      "9 --> VQAStrategyDetail(country='spain', file_type='english', vqa_strategy_type=<VQAStrategyType.RAG_Q: 'rag_q'>, prompt_type=<RagQPromptType.V1: 'rq_v1'>, relevant_docs_count=1, doc_splitter_options=DocSplitterOptions(doc_splitter_type=<DocumentSplitterType.RECURSIVE_CHARACTER_SPLITTER: 'recursive_character_splitter'>, token_count=1, add_title=False, chunk_size=24, chunk_overlap=6))\n",
      "10 --> VQAStrategyDetail(country='spain', file_type='english', vqa_strategy_type=<VQAStrategyType.RAG_Q: 'rag_q'>, prompt_type=<RagQPromptType.V1: 'rq_v1'>, relevant_docs_count=1, doc_splitter_options=DocSplitterOptions(doc_splitter_type=<DocumentSplitterType.SPACY_SENTENCE_SPLITTER: 'spacy_sentence_splitter'>, token_count=1, add_title=False, chunk_size=None, chunk_overlap=None))\n",
      "11 --> VQAStrategyDetail(country='spain', file_type='english', vqa_strategy_type=<VQAStrategyType.RAG_Q: 'rag_q'>, prompt_type=<RagQPromptType.V1: 'rq_v1'>, relevant_docs_count=2, doc_splitter_options=None)\n",
      "12 --> VQAStrategyDetail(country='spain', file_type='english', vqa_strategy_type=<VQAStrategyType.RAG_Q: 'rag_q'>, prompt_type=<RagQPromptType.V1: 'rq_v1'>, relevant_docs_count=2, doc_splitter_options=DocSplitterOptions(doc_splitter_type=<DocumentSplitterType.PARAGRAPH_SPLITTER: 'paragraph_splitter'>, token_count=1, add_title=False, chunk_size=None, chunk_overlap=None))\n",
      "13 --> VQAStrategyDetail(country='spain', file_type='english', vqa_strategy_type=<VQAStrategyType.RAG_Q: 'rag_q'>, prompt_type=<RagQPromptType.V1: 'rq_v1'>, relevant_docs_count=2, doc_splitter_options=DocSplitterOptions(doc_splitter_type=<DocumentSplitterType.RECURSIVE_CHARACTER_SPLITTER: 'recursive_character_splitter'>, token_count=1, add_title=False, chunk_size=12, chunk_overlap=2))\n",
      "14 --> VQAStrategyDetail(country='spain', file_type='english', vqa_strategy_type=<VQAStrategyType.RAG_Q: 'rag_q'>, prompt_type=<RagQPromptType.V1: 'rq_v1'>, relevant_docs_count=2, doc_splitter_options=DocSplitterOptions(doc_splitter_type=<DocumentSplitterType.RECURSIVE_CHARACTER_SPLITTER: 'recursive_character_splitter'>, token_count=1, add_title=False, chunk_size=12, chunk_overlap=6))\n",
      "15 --> VQAStrategyDetail(country='spain', file_type='english', vqa_strategy_type=<VQAStrategyType.RAG_Q: 'rag_q'>, prompt_type=<RagQPromptType.V1: 'rq_v1'>, relevant_docs_count=2, doc_splitter_options=DocSplitterOptions(doc_splitter_type=<DocumentSplitterType.RECURSIVE_CHARACTER_SPLITTER: 'recursive_character_splitter'>, token_count=1, add_title=False, chunk_size=24, chunk_overlap=2))\n",
      "16 --> VQAStrategyDetail(country='spain', file_type='english', vqa_strategy_type=<VQAStrategyType.RAG_Q: 'rag_q'>, prompt_type=<RagQPromptType.V1: 'rq_v1'>, relevant_docs_count=2, doc_splitter_options=DocSplitterOptions(doc_splitter_type=<DocumentSplitterType.RECURSIVE_CHARACTER_SPLITTER: 'recursive_character_splitter'>, token_count=1, add_title=False, chunk_size=24, chunk_overlap=6))\n",
      "17 --> VQAStrategyDetail(country='spain', file_type='english', vqa_strategy_type=<VQAStrategyType.RAG_Q: 'rag_q'>, prompt_type=<RagQPromptType.V1: 'rq_v1'>, relevant_docs_count=2, doc_splitter_options=DocSplitterOptions(doc_splitter_type=<DocumentSplitterType.SPACY_SENTENCE_SPLITTER: 'spacy_sentence_splitter'>, token_count=1, add_title=False, chunk_size=None, chunk_overlap=None))\n",
      "18 --> VQAStrategyDetail(country='spain', file_type='english', vqa_strategy_type=<VQAStrategyType.RAG_Q: 'rag_q'>, prompt_type=<RagQPromptType.V1: 'rq_v1'>, relevant_docs_count=3, doc_splitter_options=None)\n",
      "19 --> VQAStrategyDetail(country='spain', file_type='english', vqa_strategy_type=<VQAStrategyType.RAG_Q: 'rag_q'>, prompt_type=<RagQPromptType.V1: 'rq_v1'>, relevant_docs_count=3, doc_splitter_options=DocSplitterOptions(doc_splitter_type=<DocumentSplitterType.PARAGRAPH_SPLITTER: 'paragraph_splitter'>, token_count=1, add_title=False, chunk_size=None, chunk_overlap=None))\n",
      "20 --> VQAStrategyDetail(country='spain', file_type='english', vqa_strategy_type=<VQAStrategyType.RAG_Q: 'rag_q'>, prompt_type=<RagQPromptType.V1: 'rq_v1'>, relevant_docs_count=3, doc_splitter_options=DocSplitterOptions(doc_splitter_type=<DocumentSplitterType.RECURSIVE_CHARACTER_SPLITTER: 'recursive_character_splitter'>, token_count=1, add_title=False, chunk_size=12, chunk_overlap=2))\n",
      "21 --> VQAStrategyDetail(country='spain', file_type='english', vqa_strategy_type=<VQAStrategyType.RAG_Q: 'rag_q'>, prompt_type=<RagQPromptType.V1: 'rq_v1'>, relevant_docs_count=3, doc_splitter_options=DocSplitterOptions(doc_splitter_type=<DocumentSplitterType.RECURSIVE_CHARACTER_SPLITTER: 'recursive_character_splitter'>, token_count=1, add_title=False, chunk_size=12, chunk_overlap=6))\n",
      "22 --> VQAStrategyDetail(country='spain', file_type='english', vqa_strategy_type=<VQAStrategyType.RAG_Q: 'rag_q'>, prompt_type=<RagQPromptType.V1: 'rq_v1'>, relevant_docs_count=3, doc_splitter_options=DocSplitterOptions(doc_splitter_type=<DocumentSplitterType.RECURSIVE_CHARACTER_SPLITTER: 'recursive_character_splitter'>, token_count=1, add_title=False, chunk_size=24, chunk_overlap=2))\n",
      "23 --> VQAStrategyDetail(country='spain', file_type='english', vqa_strategy_type=<VQAStrategyType.RAG_Q: 'rag_q'>, prompt_type=<RagQPromptType.V1: 'rq_v1'>, relevant_docs_count=3, doc_splitter_options=DocSplitterOptions(doc_splitter_type=<DocumentSplitterType.RECURSIVE_CHARACTER_SPLITTER: 'recursive_character_splitter'>, token_count=1, add_title=False, chunk_size=24, chunk_overlap=6))\n",
      "24 --> VQAStrategyDetail(country='spain', file_type='english', vqa_strategy_type=<VQAStrategyType.RAG_Q: 'rag_q'>, prompt_type=<RagQPromptType.V1: 'rq_v1'>, relevant_docs_count=3, doc_splitter_options=DocSplitterOptions(doc_splitter_type=<DocumentSplitterType.SPACY_SENTENCE_SPLITTER: 'spacy_sentence_splitter'>, token_count=1, add_title=False, chunk_size=None, chunk_overlap=None))\n",
      "25 --> VQAStrategyDetail(country='spain', file_type='english', vqa_strategy_type=<VQAStrategyType.RAG_Q: 'rag_q'>, prompt_type=<RagQPromptType.V2: 'rq_v2'>, relevant_docs_count=1, doc_splitter_options=None)\n",
      "26 --> VQAStrategyDetail(country='spain', file_type='english', vqa_strategy_type=<VQAStrategyType.RAG_Q: 'rag_q'>, prompt_type=<RagQPromptType.V2: 'rq_v2'>, relevant_docs_count=1, doc_splitter_options=DocSplitterOptions(doc_splitter_type=<DocumentSplitterType.PARAGRAPH_SPLITTER: 'paragraph_splitter'>, token_count=1, add_title=False, chunk_size=None, chunk_overlap=None))\n",
      "27 --> VQAStrategyDetail(country='spain', file_type='english', vqa_strategy_type=<VQAStrategyType.RAG_Q: 'rag_q'>, prompt_type=<RagQPromptType.V2: 'rq_v2'>, relevant_docs_count=1, doc_splitter_options=DocSplitterOptions(doc_splitter_type=<DocumentSplitterType.RECURSIVE_CHARACTER_SPLITTER: 'recursive_character_splitter'>, token_count=1, add_title=False, chunk_size=12, chunk_overlap=2))\n",
      "28 --> VQAStrategyDetail(country='spain', file_type='english', vqa_strategy_type=<VQAStrategyType.RAG_Q: 'rag_q'>, prompt_type=<RagQPromptType.V2: 'rq_v2'>, relevant_docs_count=1, doc_splitter_options=DocSplitterOptions(doc_splitter_type=<DocumentSplitterType.RECURSIVE_CHARACTER_SPLITTER: 'recursive_character_splitter'>, token_count=1, add_title=False, chunk_size=12, chunk_overlap=6))\n",
      "29 --> VQAStrategyDetail(country='spain', file_type='english', vqa_strategy_type=<VQAStrategyType.RAG_Q: 'rag_q'>, prompt_type=<RagQPromptType.V2: 'rq_v2'>, relevant_docs_count=1, doc_splitter_options=DocSplitterOptions(doc_splitter_type=<DocumentSplitterType.RECURSIVE_CHARACTER_SPLITTER: 'recursive_character_splitter'>, token_count=1, add_title=False, chunk_size=24, chunk_overlap=2))\n",
      "30 --> VQAStrategyDetail(country='spain', file_type='english', vqa_strategy_type=<VQAStrategyType.RAG_Q: 'rag_q'>, prompt_type=<RagQPromptType.V2: 'rq_v2'>, relevant_docs_count=1, doc_splitter_options=DocSplitterOptions(doc_splitter_type=<DocumentSplitterType.RECURSIVE_CHARACTER_SPLITTER: 'recursive_character_splitter'>, token_count=1, add_title=False, chunk_size=24, chunk_overlap=6))\n",
      "31 --> VQAStrategyDetail(country='spain', file_type='english', vqa_strategy_type=<VQAStrategyType.RAG_Q: 'rag_q'>, prompt_type=<RagQPromptType.V2: 'rq_v2'>, relevant_docs_count=1, doc_splitter_options=DocSplitterOptions(doc_splitter_type=<DocumentSplitterType.SPACY_SENTENCE_SPLITTER: 'spacy_sentence_splitter'>, token_count=1, add_title=False, chunk_size=None, chunk_overlap=None))\n",
      "32 --> VQAStrategyDetail(country='spain', file_type='english', vqa_strategy_type=<VQAStrategyType.RAG_Q: 'rag_q'>, prompt_type=<RagQPromptType.V2: 'rq_v2'>, relevant_docs_count=2, doc_splitter_options=None)\n",
      "33 --> VQAStrategyDetail(country='spain', file_type='english', vqa_strategy_type=<VQAStrategyType.RAG_Q: 'rag_q'>, prompt_type=<RagQPromptType.V2: 'rq_v2'>, relevant_docs_count=2, doc_splitter_options=DocSplitterOptions(doc_splitter_type=<DocumentSplitterType.PARAGRAPH_SPLITTER: 'paragraph_splitter'>, token_count=1, add_title=False, chunk_size=None, chunk_overlap=None))\n",
      "34 --> VQAStrategyDetail(country='spain', file_type='english', vqa_strategy_type=<VQAStrategyType.RAG_Q: 'rag_q'>, prompt_type=<RagQPromptType.V2: 'rq_v2'>, relevant_docs_count=2, doc_splitter_options=DocSplitterOptions(doc_splitter_type=<DocumentSplitterType.RECURSIVE_CHARACTER_SPLITTER: 'recursive_character_splitter'>, token_count=1, add_title=False, chunk_size=12, chunk_overlap=2))\n",
      "35 --> VQAStrategyDetail(country='spain', file_type='english', vqa_strategy_type=<VQAStrategyType.RAG_Q: 'rag_q'>, prompt_type=<RagQPromptType.V2: 'rq_v2'>, relevant_docs_count=2, doc_splitter_options=DocSplitterOptions(doc_splitter_type=<DocumentSplitterType.RECURSIVE_CHARACTER_SPLITTER: 'recursive_character_splitter'>, token_count=1, add_title=False, chunk_size=12, chunk_overlap=6))\n",
      "36 --> VQAStrategyDetail(country='spain', file_type='english', vqa_strategy_type=<VQAStrategyType.RAG_Q: 'rag_q'>, prompt_type=<RagQPromptType.V2: 'rq_v2'>, relevant_docs_count=2, doc_splitter_options=DocSplitterOptions(doc_splitter_type=<DocumentSplitterType.RECURSIVE_CHARACTER_SPLITTER: 'recursive_character_splitter'>, token_count=1, add_title=False, chunk_size=24, chunk_overlap=2))\n",
      "37 --> VQAStrategyDetail(country='spain', file_type='english', vqa_strategy_type=<VQAStrategyType.RAG_Q: 'rag_q'>, prompt_type=<RagQPromptType.V2: 'rq_v2'>, relevant_docs_count=2, doc_splitter_options=DocSplitterOptions(doc_splitter_type=<DocumentSplitterType.RECURSIVE_CHARACTER_SPLITTER: 'recursive_character_splitter'>, token_count=1, add_title=False, chunk_size=24, chunk_overlap=6))\n",
      "38 --> VQAStrategyDetail(country='spain', file_type='english', vqa_strategy_type=<VQAStrategyType.RAG_Q: 'rag_q'>, prompt_type=<RagQPromptType.V2: 'rq_v2'>, relevant_docs_count=2, doc_splitter_options=DocSplitterOptions(doc_splitter_type=<DocumentSplitterType.SPACY_SENTENCE_SPLITTER: 'spacy_sentence_splitter'>, token_count=1, add_title=False, chunk_size=None, chunk_overlap=None))\n",
      "39 --> VQAStrategyDetail(country='spain', file_type='english', vqa_strategy_type=<VQAStrategyType.RAG_Q: 'rag_q'>, prompt_type=<RagQPromptType.V2: 'rq_v2'>, relevant_docs_count=3, doc_splitter_options=None)\n",
      "40 --> VQAStrategyDetail(country='spain', file_type='english', vqa_strategy_type=<VQAStrategyType.RAG_Q: 'rag_q'>, prompt_type=<RagQPromptType.V2: 'rq_v2'>, relevant_docs_count=3, doc_splitter_options=DocSplitterOptions(doc_splitter_type=<DocumentSplitterType.PARAGRAPH_SPLITTER: 'paragraph_splitter'>, token_count=1, add_title=False, chunk_size=None, chunk_overlap=None))\n",
      "41 --> VQAStrategyDetail(country='spain', file_type='english', vqa_strategy_type=<VQAStrategyType.RAG_Q: 'rag_q'>, prompt_type=<RagQPromptType.V2: 'rq_v2'>, relevant_docs_count=3, doc_splitter_options=DocSplitterOptions(doc_splitter_type=<DocumentSplitterType.RECURSIVE_CHARACTER_SPLITTER: 'recursive_character_splitter'>, token_count=1, add_title=False, chunk_size=12, chunk_overlap=2))\n",
      "42 --> VQAStrategyDetail(country='spain', file_type='english', vqa_strategy_type=<VQAStrategyType.RAG_Q: 'rag_q'>, prompt_type=<RagQPromptType.V2: 'rq_v2'>, relevant_docs_count=3, doc_splitter_options=DocSplitterOptions(doc_splitter_type=<DocumentSplitterType.RECURSIVE_CHARACTER_SPLITTER: 'recursive_character_splitter'>, token_count=1, add_title=False, chunk_size=12, chunk_overlap=6))\n",
      "43 --> VQAStrategyDetail(country='spain', file_type='english', vqa_strategy_type=<VQAStrategyType.RAG_Q: 'rag_q'>, prompt_type=<RagQPromptType.V2: 'rq_v2'>, relevant_docs_count=3, doc_splitter_options=DocSplitterOptions(doc_splitter_type=<DocumentSplitterType.RECURSIVE_CHARACTER_SPLITTER: 'recursive_character_splitter'>, token_count=1, add_title=False, chunk_size=24, chunk_overlap=2))\n",
      "44 --> VQAStrategyDetail(country='spain', file_type='english', vqa_strategy_type=<VQAStrategyType.RAG_Q: 'rag_q'>, prompt_type=<RagQPromptType.V2: 'rq_v2'>, relevant_docs_count=3, doc_splitter_options=DocSplitterOptions(doc_splitter_type=<DocumentSplitterType.RECURSIVE_CHARACTER_SPLITTER: 'recursive_character_splitter'>, token_count=1, add_title=False, chunk_size=24, chunk_overlap=6))\n",
      "45 --> VQAStrategyDetail(country='spain', file_type='english', vqa_strategy_type=<VQAStrategyType.RAG_Q: 'rag_q'>, prompt_type=<RagQPromptType.V2: 'rq_v2'>, relevant_docs_count=3, doc_splitter_options=DocSplitterOptions(doc_splitter_type=<DocumentSplitterType.SPACY_SENTENCE_SPLITTER: 'spacy_sentence_splitter'>, token_count=1, add_title=False, chunk_size=None, chunk_overlap=None))\n",
      "46 --> VQAStrategyDetail(country='spain', file_type='english', vqa_strategy_type=<VQAStrategyType.RAG_Q: 'rag_q'>, prompt_type=<RagQPromptType.V3: 'rq_v3'>, relevant_docs_count=1, doc_splitter_options=None)\n",
      "47 --> VQAStrategyDetail(country='spain', file_type='english', vqa_strategy_type=<VQAStrategyType.RAG_Q: 'rag_q'>, prompt_type=<RagQPromptType.V3: 'rq_v3'>, relevant_docs_count=1, doc_splitter_options=DocSplitterOptions(doc_splitter_type=<DocumentSplitterType.PARAGRAPH_SPLITTER: 'paragraph_splitter'>, token_count=1, add_title=False, chunk_size=None, chunk_overlap=None))\n",
      "48 --> VQAStrategyDetail(country='spain', file_type='english', vqa_strategy_type=<VQAStrategyType.RAG_Q: 'rag_q'>, prompt_type=<RagQPromptType.V3: 'rq_v3'>, relevant_docs_count=1, doc_splitter_options=DocSplitterOptions(doc_splitter_type=<DocumentSplitterType.RECURSIVE_CHARACTER_SPLITTER: 'recursive_character_splitter'>, token_count=1, add_title=False, chunk_size=12, chunk_overlap=2))\n",
      "49 --> VQAStrategyDetail(country='spain', file_type='english', vqa_strategy_type=<VQAStrategyType.RAG_Q: 'rag_q'>, prompt_type=<RagQPromptType.V3: 'rq_v3'>, relevant_docs_count=1, doc_splitter_options=DocSplitterOptions(doc_splitter_type=<DocumentSplitterType.RECURSIVE_CHARACTER_SPLITTER: 'recursive_character_splitter'>, token_count=1, add_title=False, chunk_size=12, chunk_overlap=6))\n",
      "50 --> VQAStrategyDetail(country='spain', file_type='english', vqa_strategy_type=<VQAStrategyType.RAG_Q: 'rag_q'>, prompt_type=<RagQPromptType.V3: 'rq_v3'>, relevant_docs_count=1, doc_splitter_options=DocSplitterOptions(doc_splitter_type=<DocumentSplitterType.RECURSIVE_CHARACTER_SPLITTER: 'recursive_character_splitter'>, token_count=1, add_title=False, chunk_size=24, chunk_overlap=2))\n",
      "51 --> VQAStrategyDetail(country='spain', file_type='english', vqa_strategy_type=<VQAStrategyType.RAG_Q: 'rag_q'>, prompt_type=<RagQPromptType.V3: 'rq_v3'>, relevant_docs_count=1, doc_splitter_options=DocSplitterOptions(doc_splitter_type=<DocumentSplitterType.RECURSIVE_CHARACTER_SPLITTER: 'recursive_character_splitter'>, token_count=1, add_title=False, chunk_size=24, chunk_overlap=6))\n",
      "52 --> VQAStrategyDetail(country='spain', file_type='english', vqa_strategy_type=<VQAStrategyType.RAG_Q: 'rag_q'>, prompt_type=<RagQPromptType.V3: 'rq_v3'>, relevant_docs_count=1, doc_splitter_options=DocSplitterOptions(doc_splitter_type=<DocumentSplitterType.SPACY_SENTENCE_SPLITTER: 'spacy_sentence_splitter'>, token_count=1, add_title=False, chunk_size=None, chunk_overlap=None))\n",
      "53 --> VQAStrategyDetail(country='spain', file_type='english', vqa_strategy_type=<VQAStrategyType.RAG_Q: 'rag_q'>, prompt_type=<RagQPromptType.V3: 'rq_v3'>, relevant_docs_count=2, doc_splitter_options=None)\n",
      "54 --> VQAStrategyDetail(country='spain', file_type='english', vqa_strategy_type=<VQAStrategyType.RAG_Q: 'rag_q'>, prompt_type=<RagQPromptType.V3: 'rq_v3'>, relevant_docs_count=2, doc_splitter_options=DocSplitterOptions(doc_splitter_type=<DocumentSplitterType.PARAGRAPH_SPLITTER: 'paragraph_splitter'>, token_count=1, add_title=False, chunk_size=None, chunk_overlap=None))\n",
      "55 --> VQAStrategyDetail(country='spain', file_type='english', vqa_strategy_type=<VQAStrategyType.RAG_Q: 'rag_q'>, prompt_type=<RagQPromptType.V3: 'rq_v3'>, relevant_docs_count=2, doc_splitter_options=DocSplitterOptions(doc_splitter_type=<DocumentSplitterType.RECURSIVE_CHARACTER_SPLITTER: 'recursive_character_splitter'>, token_count=1, add_title=False, chunk_size=12, chunk_overlap=2))\n",
      "56 --> VQAStrategyDetail(country='spain', file_type='english', vqa_strategy_type=<VQAStrategyType.RAG_Q: 'rag_q'>, prompt_type=<RagQPromptType.V3: 'rq_v3'>, relevant_docs_count=2, doc_splitter_options=DocSplitterOptions(doc_splitter_type=<DocumentSplitterType.RECURSIVE_CHARACTER_SPLITTER: 'recursive_character_splitter'>, token_count=1, add_title=False, chunk_size=12, chunk_overlap=6))\n",
      "57 --> VQAStrategyDetail(country='spain', file_type='english', vqa_strategy_type=<VQAStrategyType.RAG_Q: 'rag_q'>, prompt_type=<RagQPromptType.V3: 'rq_v3'>, relevant_docs_count=2, doc_splitter_options=DocSplitterOptions(doc_splitter_type=<DocumentSplitterType.RECURSIVE_CHARACTER_SPLITTER: 'recursive_character_splitter'>, token_count=1, add_title=False, chunk_size=24, chunk_overlap=2))\n",
      "58 --> VQAStrategyDetail(country='spain', file_type='english', vqa_strategy_type=<VQAStrategyType.RAG_Q: 'rag_q'>, prompt_type=<RagQPromptType.V3: 'rq_v3'>, relevant_docs_count=2, doc_splitter_options=DocSplitterOptions(doc_splitter_type=<DocumentSplitterType.RECURSIVE_CHARACTER_SPLITTER: 'recursive_character_splitter'>, token_count=1, add_title=False, chunk_size=24, chunk_overlap=6))\n",
      "59 --> VQAStrategyDetail(country='spain', file_type='english', vqa_strategy_type=<VQAStrategyType.RAG_Q: 'rag_q'>, prompt_type=<RagQPromptType.V3: 'rq_v3'>, relevant_docs_count=2, doc_splitter_options=DocSplitterOptions(doc_splitter_type=<DocumentSplitterType.SPACY_SENTENCE_SPLITTER: 'spacy_sentence_splitter'>, token_count=1, add_title=False, chunk_size=None, chunk_overlap=None))\n",
      "60 --> VQAStrategyDetail(country='spain', file_type='english', vqa_strategy_type=<VQAStrategyType.RAG_Q: 'rag_q'>, prompt_type=<RagQPromptType.V3: 'rq_v3'>, relevant_docs_count=3, doc_splitter_options=None)\n",
      "61 --> VQAStrategyDetail(country='spain', file_type='english', vqa_strategy_type=<VQAStrategyType.RAG_Q: 'rag_q'>, prompt_type=<RagQPromptType.V3: 'rq_v3'>, relevant_docs_count=3, doc_splitter_options=DocSplitterOptions(doc_splitter_type=<DocumentSplitterType.PARAGRAPH_SPLITTER: 'paragraph_splitter'>, token_count=1, add_title=False, chunk_size=None, chunk_overlap=None))\n",
      "62 --> VQAStrategyDetail(country='spain', file_type='english', vqa_strategy_type=<VQAStrategyType.RAG_Q: 'rag_q'>, prompt_type=<RagQPromptType.V3: 'rq_v3'>, relevant_docs_count=3, doc_splitter_options=DocSplitterOptions(doc_splitter_type=<DocumentSplitterType.RECURSIVE_CHARACTER_SPLITTER: 'recursive_character_splitter'>, token_count=1, add_title=False, chunk_size=12, chunk_overlap=2))\n",
      "63 --> VQAStrategyDetail(country='spain', file_type='english', vqa_strategy_type=<VQAStrategyType.RAG_Q: 'rag_q'>, prompt_type=<RagQPromptType.V3: 'rq_v3'>, relevant_docs_count=3, doc_splitter_options=DocSplitterOptions(doc_splitter_type=<DocumentSplitterType.RECURSIVE_CHARACTER_SPLITTER: 'recursive_character_splitter'>, token_count=1, add_title=False, chunk_size=12, chunk_overlap=6))\n",
      "64 --> VQAStrategyDetail(country='spain', file_type='english', vqa_strategy_type=<VQAStrategyType.RAG_Q: 'rag_q'>, prompt_type=<RagQPromptType.V3: 'rq_v3'>, relevant_docs_count=3, doc_splitter_options=DocSplitterOptions(doc_splitter_type=<DocumentSplitterType.RECURSIVE_CHARACTER_SPLITTER: 'recursive_character_splitter'>, token_count=1, add_title=False, chunk_size=24, chunk_overlap=2))\n",
      "65 --> VQAStrategyDetail(country='spain', file_type='english', vqa_strategy_type=<VQAStrategyType.RAG_Q: 'rag_q'>, prompt_type=<RagQPromptType.V3: 'rq_v3'>, relevant_docs_count=3, doc_splitter_options=DocSplitterOptions(doc_splitter_type=<DocumentSplitterType.RECURSIVE_CHARACTER_SPLITTER: 'recursive_character_splitter'>, token_count=1, add_title=False, chunk_size=24, chunk_overlap=6))\n",
      "66 --> VQAStrategyDetail(country='spain', file_type='english', vqa_strategy_type=<VQAStrategyType.RAG_Q: 'rag_q'>, prompt_type=<RagQPromptType.V3: 'rq_v3'>, relevant_docs_count=3, doc_splitter_options=DocSplitterOptions(doc_splitter_type=<DocumentSplitterType.SPACY_SENTENCE_SPLITTER: 'spacy_sentence_splitter'>, token_count=1, add_title=False, chunk_size=None, chunk_overlap=None))\n",
      "67 --> VQAStrategyDetail(country='spain', file_type='english', vqa_strategy_type=<VQAStrategyType.RAG_Q: 'rag_q'>, prompt_type=<RagQPromptType.V4: 'rq_v4'>, relevant_docs_count=1, doc_splitter_options=None)\n",
      "68 --> VQAStrategyDetail(country='spain', file_type='english', vqa_strategy_type=<VQAStrategyType.RAG_Q: 'rag_q'>, prompt_type=<RagQPromptType.V4: 'rq_v4'>, relevant_docs_count=1, doc_splitter_options=DocSplitterOptions(doc_splitter_type=<DocumentSplitterType.PARAGRAPH_SPLITTER: 'paragraph_splitter'>, token_count=1, add_title=False, chunk_size=None, chunk_overlap=None))\n",
      "69 --> VQAStrategyDetail(country='spain', file_type='english', vqa_strategy_type=<VQAStrategyType.RAG_Q: 'rag_q'>, prompt_type=<RagQPromptType.V4: 'rq_v4'>, relevant_docs_count=1, doc_splitter_options=DocSplitterOptions(doc_splitter_type=<DocumentSplitterType.RECURSIVE_CHARACTER_SPLITTER: 'recursive_character_splitter'>, token_count=1, add_title=False, chunk_size=12, chunk_overlap=2))\n",
      "70 --> VQAStrategyDetail(country='spain', file_type='english', vqa_strategy_type=<VQAStrategyType.RAG_Q: 'rag_q'>, prompt_type=<RagQPromptType.V4: 'rq_v4'>, relevant_docs_count=1, doc_splitter_options=DocSplitterOptions(doc_splitter_type=<DocumentSplitterType.RECURSIVE_CHARACTER_SPLITTER: 'recursive_character_splitter'>, token_count=1, add_title=False, chunk_size=12, chunk_overlap=6))\n",
      "71 --> VQAStrategyDetail(country='spain', file_type='english', vqa_strategy_type=<VQAStrategyType.RAG_Q: 'rag_q'>, prompt_type=<RagQPromptType.V4: 'rq_v4'>, relevant_docs_count=1, doc_splitter_options=DocSplitterOptions(doc_splitter_type=<DocumentSplitterType.RECURSIVE_CHARACTER_SPLITTER: 'recursive_character_splitter'>, token_count=1, add_title=False, chunk_size=24, chunk_overlap=2))\n",
      "72 --> VQAStrategyDetail(country='spain', file_type='english', vqa_strategy_type=<VQAStrategyType.RAG_Q: 'rag_q'>, prompt_type=<RagQPromptType.V4: 'rq_v4'>, relevant_docs_count=1, doc_splitter_options=DocSplitterOptions(doc_splitter_type=<DocumentSplitterType.RECURSIVE_CHARACTER_SPLITTER: 'recursive_character_splitter'>, token_count=1, add_title=False, chunk_size=24, chunk_overlap=6))\n",
      "73 --> VQAStrategyDetail(country='spain', file_type='english', vqa_strategy_type=<VQAStrategyType.RAG_Q: 'rag_q'>, prompt_type=<RagQPromptType.V4: 'rq_v4'>, relevant_docs_count=1, doc_splitter_options=DocSplitterOptions(doc_splitter_type=<DocumentSplitterType.SPACY_SENTENCE_SPLITTER: 'spacy_sentence_splitter'>, token_count=1, add_title=False, chunk_size=None, chunk_overlap=None))\n",
      "74 --> VQAStrategyDetail(country='spain', file_type='english', vqa_strategy_type=<VQAStrategyType.RAG_Q: 'rag_q'>, prompt_type=<RagQPromptType.V4: 'rq_v4'>, relevant_docs_count=2, doc_splitter_options=None)\n",
      "75 --> VQAStrategyDetail(country='spain', file_type='english', vqa_strategy_type=<VQAStrategyType.RAG_Q: 'rag_q'>, prompt_type=<RagQPromptType.V4: 'rq_v4'>, relevant_docs_count=2, doc_splitter_options=DocSplitterOptions(doc_splitter_type=<DocumentSplitterType.PARAGRAPH_SPLITTER: 'paragraph_splitter'>, token_count=1, add_title=False, chunk_size=None, chunk_overlap=None))\n",
      "76 --> VQAStrategyDetail(country='spain', file_type='english', vqa_strategy_type=<VQAStrategyType.RAG_Q: 'rag_q'>, prompt_type=<RagQPromptType.V4: 'rq_v4'>, relevant_docs_count=2, doc_splitter_options=DocSplitterOptions(doc_splitter_type=<DocumentSplitterType.RECURSIVE_CHARACTER_SPLITTER: 'recursive_character_splitter'>, token_count=1, add_title=False, chunk_size=12, chunk_overlap=2))\n",
      "77 --> VQAStrategyDetail(country='spain', file_type='english', vqa_strategy_type=<VQAStrategyType.RAG_Q: 'rag_q'>, prompt_type=<RagQPromptType.V4: 'rq_v4'>, relevant_docs_count=2, doc_splitter_options=DocSplitterOptions(doc_splitter_type=<DocumentSplitterType.RECURSIVE_CHARACTER_SPLITTER: 'recursive_character_splitter'>, token_count=1, add_title=False, chunk_size=12, chunk_overlap=6))\n",
      "78 --> VQAStrategyDetail(country='spain', file_type='english', vqa_strategy_type=<VQAStrategyType.RAG_Q: 'rag_q'>, prompt_type=<RagQPromptType.V4: 'rq_v4'>, relevant_docs_count=2, doc_splitter_options=DocSplitterOptions(doc_splitter_type=<DocumentSplitterType.RECURSIVE_CHARACTER_SPLITTER: 'recursive_character_splitter'>, token_count=1, add_title=False, chunk_size=24, chunk_overlap=2))\n",
      "79 --> VQAStrategyDetail(country='spain', file_type='english', vqa_strategy_type=<VQAStrategyType.RAG_Q: 'rag_q'>, prompt_type=<RagQPromptType.V4: 'rq_v4'>, relevant_docs_count=2, doc_splitter_options=DocSplitterOptions(doc_splitter_type=<DocumentSplitterType.RECURSIVE_CHARACTER_SPLITTER: 'recursive_character_splitter'>, token_count=1, add_title=False, chunk_size=24, chunk_overlap=6))\n",
      "80 --> VQAStrategyDetail(country='spain', file_type='english', vqa_strategy_type=<VQAStrategyType.RAG_Q: 'rag_q'>, prompt_type=<RagQPromptType.V4: 'rq_v4'>, relevant_docs_count=2, doc_splitter_options=DocSplitterOptions(doc_splitter_type=<DocumentSplitterType.SPACY_SENTENCE_SPLITTER: 'spacy_sentence_splitter'>, token_count=1, add_title=False, chunk_size=None, chunk_overlap=None))\n",
      "81 --> VQAStrategyDetail(country='spain', file_type='english', vqa_strategy_type=<VQAStrategyType.RAG_Q: 'rag_q'>, prompt_type=<RagQPromptType.V4: 'rq_v4'>, relevant_docs_count=3, doc_splitter_options=None)\n",
      "82 --> VQAStrategyDetail(country='spain', file_type='english', vqa_strategy_type=<VQAStrategyType.RAG_Q: 'rag_q'>, prompt_type=<RagQPromptType.V4: 'rq_v4'>, relevant_docs_count=3, doc_splitter_options=DocSplitterOptions(doc_splitter_type=<DocumentSplitterType.PARAGRAPH_SPLITTER: 'paragraph_splitter'>, token_count=1, add_title=False, chunk_size=None, chunk_overlap=None))\n",
      "83 --> VQAStrategyDetail(country='spain', file_type='english', vqa_strategy_type=<VQAStrategyType.RAG_Q: 'rag_q'>, prompt_type=<RagQPromptType.V4: 'rq_v4'>, relevant_docs_count=3, doc_splitter_options=DocSplitterOptions(doc_splitter_type=<DocumentSplitterType.RECURSIVE_CHARACTER_SPLITTER: 'recursive_character_splitter'>, token_count=1, add_title=False, chunk_size=12, chunk_overlap=2))\n",
      "84 --> VQAStrategyDetail(country='spain', file_type='english', vqa_strategy_type=<VQAStrategyType.RAG_Q: 'rag_q'>, prompt_type=<RagQPromptType.V4: 'rq_v4'>, relevant_docs_count=3, doc_splitter_options=DocSplitterOptions(doc_splitter_type=<DocumentSplitterType.RECURSIVE_CHARACTER_SPLITTER: 'recursive_character_splitter'>, token_count=1, add_title=False, chunk_size=12, chunk_overlap=6))\n",
      "85 --> VQAStrategyDetail(country='spain', file_type='english', vqa_strategy_type=<VQAStrategyType.RAG_Q: 'rag_q'>, prompt_type=<RagQPromptType.V4: 'rq_v4'>, relevant_docs_count=3, doc_splitter_options=DocSplitterOptions(doc_splitter_type=<DocumentSplitterType.RECURSIVE_CHARACTER_SPLITTER: 'recursive_character_splitter'>, token_count=1, add_title=False, chunk_size=24, chunk_overlap=2))\n",
      "86 --> VQAStrategyDetail(country='spain', file_type='english', vqa_strategy_type=<VQAStrategyType.RAG_Q: 'rag_q'>, prompt_type=<RagQPromptType.V4: 'rq_v4'>, relevant_docs_count=3, doc_splitter_options=DocSplitterOptions(doc_splitter_type=<DocumentSplitterType.RECURSIVE_CHARACTER_SPLITTER: 'recursive_character_splitter'>, token_count=1, add_title=False, chunk_size=24, chunk_overlap=6))\n",
      "87 --> VQAStrategyDetail(country='spain', file_type='english', vqa_strategy_type=<VQAStrategyType.RAG_Q: 'rag_q'>, prompt_type=<RagQPromptType.V4: 'rq_v4'>, relevant_docs_count=3, doc_splitter_options=DocSplitterOptions(doc_splitter_type=<DocumentSplitterType.SPACY_SENTENCE_SPLITTER: 'spacy_sentence_splitter'>, token_count=1, add_title=False, chunk_size=None, chunk_overlap=None))\n",
      "88 --> VQAStrategyDetail(country='spain', file_type='english', vqa_strategy_type=<VQAStrategyType.RAG_Q: 'rag_q'>, prompt_type=<RagQPromptType.V5: 'rq_v5'>, relevant_docs_count=1, doc_splitter_options=None)\n",
      "89 --> VQAStrategyDetail(country='spain', file_type='english', vqa_strategy_type=<VQAStrategyType.RAG_Q: 'rag_q'>, prompt_type=<RagQPromptType.V5: 'rq_v5'>, relevant_docs_count=1, doc_splitter_options=DocSplitterOptions(doc_splitter_type=<DocumentSplitterType.PARAGRAPH_SPLITTER: 'paragraph_splitter'>, token_count=1, add_title=False, chunk_size=None, chunk_overlap=None))\n",
      "90 --> VQAStrategyDetail(country='spain', file_type='english', vqa_strategy_type=<VQAStrategyType.RAG_Q: 'rag_q'>, prompt_type=<RagQPromptType.V5: 'rq_v5'>, relevant_docs_count=1, doc_splitter_options=DocSplitterOptions(doc_splitter_type=<DocumentSplitterType.RECURSIVE_CHARACTER_SPLITTER: 'recursive_character_splitter'>, token_count=1, add_title=False, chunk_size=12, chunk_overlap=2))\n",
      "91 --> VQAStrategyDetail(country='spain', file_type='english', vqa_strategy_type=<VQAStrategyType.RAG_Q: 'rag_q'>, prompt_type=<RagQPromptType.V5: 'rq_v5'>, relevant_docs_count=1, doc_splitter_options=DocSplitterOptions(doc_splitter_type=<DocumentSplitterType.RECURSIVE_CHARACTER_SPLITTER: 'recursive_character_splitter'>, token_count=1, add_title=False, chunk_size=12, chunk_overlap=6))\n",
      "92 --> VQAStrategyDetail(country='spain', file_type='english', vqa_strategy_type=<VQAStrategyType.RAG_Q: 'rag_q'>, prompt_type=<RagQPromptType.V5: 'rq_v5'>, relevant_docs_count=1, doc_splitter_options=DocSplitterOptions(doc_splitter_type=<DocumentSplitterType.RECURSIVE_CHARACTER_SPLITTER: 'recursive_character_splitter'>, token_count=1, add_title=False, chunk_size=24, chunk_overlap=2))\n",
      "93 --> VQAStrategyDetail(country='spain', file_type='english', vqa_strategy_type=<VQAStrategyType.RAG_Q: 'rag_q'>, prompt_type=<RagQPromptType.V5: 'rq_v5'>, relevant_docs_count=1, doc_splitter_options=DocSplitterOptions(doc_splitter_type=<DocumentSplitterType.RECURSIVE_CHARACTER_SPLITTER: 'recursive_character_splitter'>, token_count=1, add_title=False, chunk_size=24, chunk_overlap=6))\n",
      "94 --> VQAStrategyDetail(country='spain', file_type='english', vqa_strategy_type=<VQAStrategyType.RAG_Q: 'rag_q'>, prompt_type=<RagQPromptType.V5: 'rq_v5'>, relevant_docs_count=1, doc_splitter_options=DocSplitterOptions(doc_splitter_type=<DocumentSplitterType.SPACY_SENTENCE_SPLITTER: 'spacy_sentence_splitter'>, token_count=1, add_title=False, chunk_size=None, chunk_overlap=None))\n",
      "95 --> VQAStrategyDetail(country='spain', file_type='english', vqa_strategy_type=<VQAStrategyType.RAG_Q: 'rag_q'>, prompt_type=<RagQPromptType.V5: 'rq_v5'>, relevant_docs_count=2, doc_splitter_options=None)\n",
      "96 --> VQAStrategyDetail(country='spain', file_type='english', vqa_strategy_type=<VQAStrategyType.RAG_Q: 'rag_q'>, prompt_type=<RagQPromptType.V5: 'rq_v5'>, relevant_docs_count=2, doc_splitter_options=DocSplitterOptions(doc_splitter_type=<DocumentSplitterType.PARAGRAPH_SPLITTER: 'paragraph_splitter'>, token_count=1, add_title=False, chunk_size=None, chunk_overlap=None))\n",
      "97 --> VQAStrategyDetail(country='spain', file_type='english', vqa_strategy_type=<VQAStrategyType.RAG_Q: 'rag_q'>, prompt_type=<RagQPromptType.V5: 'rq_v5'>, relevant_docs_count=2, doc_splitter_options=DocSplitterOptions(doc_splitter_type=<DocumentSplitterType.RECURSIVE_CHARACTER_SPLITTER: 'recursive_character_splitter'>, token_count=1, add_title=False, chunk_size=12, chunk_overlap=2))\n",
      "98 --> VQAStrategyDetail(country='spain', file_type='english', vqa_strategy_type=<VQAStrategyType.RAG_Q: 'rag_q'>, prompt_type=<RagQPromptType.V5: 'rq_v5'>, relevant_docs_count=2, doc_splitter_options=DocSplitterOptions(doc_splitter_type=<DocumentSplitterType.RECURSIVE_CHARACTER_SPLITTER: 'recursive_character_splitter'>, token_count=1, add_title=False, chunk_size=12, chunk_overlap=6))\n",
      "99 --> VQAStrategyDetail(country='spain', file_type='english', vqa_strategy_type=<VQAStrategyType.RAG_Q: 'rag_q'>, prompt_type=<RagQPromptType.V5: 'rq_v5'>, relevant_docs_count=2, doc_splitter_options=DocSplitterOptions(doc_splitter_type=<DocumentSplitterType.RECURSIVE_CHARACTER_SPLITTER: 'recursive_character_splitter'>, token_count=1, add_title=False, chunk_size=24, chunk_overlap=2))\n",
      "100 --> VQAStrategyDetail(country='spain', file_type='english', vqa_strategy_type=<VQAStrategyType.RAG_Q: 'rag_q'>, prompt_type=<RagQPromptType.V5: 'rq_v5'>, relevant_docs_count=2, doc_splitter_options=DocSplitterOptions(doc_splitter_type=<DocumentSplitterType.RECURSIVE_CHARACTER_SPLITTER: 'recursive_character_splitter'>, token_count=1, add_title=False, chunk_size=24, chunk_overlap=6))\n",
      "101 --> VQAStrategyDetail(country='spain', file_type='english', vqa_strategy_type=<VQAStrategyType.RAG_Q: 'rag_q'>, prompt_type=<RagQPromptType.V5: 'rq_v5'>, relevant_docs_count=2, doc_splitter_options=DocSplitterOptions(doc_splitter_type=<DocumentSplitterType.SPACY_SENTENCE_SPLITTER: 'spacy_sentence_splitter'>, token_count=1, add_title=False, chunk_size=None, chunk_overlap=None))\n",
      "102 --> VQAStrategyDetail(country='spain', file_type='english', vqa_strategy_type=<VQAStrategyType.RAG_Q: 'rag_q'>, prompt_type=<RagQPromptType.V5: 'rq_v5'>, relevant_docs_count=3, doc_splitter_options=None)\n",
      "103 --> VQAStrategyDetail(country='spain', file_type='english', vqa_strategy_type=<VQAStrategyType.RAG_Q: 'rag_q'>, prompt_type=<RagQPromptType.V5: 'rq_v5'>, relevant_docs_count=3, doc_splitter_options=DocSplitterOptions(doc_splitter_type=<DocumentSplitterType.PARAGRAPH_SPLITTER: 'paragraph_splitter'>, token_count=1, add_title=False, chunk_size=None, chunk_overlap=None))\n",
      "104 --> VQAStrategyDetail(country='spain', file_type='english', vqa_strategy_type=<VQAStrategyType.RAG_Q: 'rag_q'>, prompt_type=<RagQPromptType.V5: 'rq_v5'>, relevant_docs_count=3, doc_splitter_options=DocSplitterOptions(doc_splitter_type=<DocumentSplitterType.RECURSIVE_CHARACTER_SPLITTER: 'recursive_character_splitter'>, token_count=1, add_title=False, chunk_size=12, chunk_overlap=2))\n",
      "105 --> VQAStrategyDetail(country='spain', file_type='english', vqa_strategy_type=<VQAStrategyType.RAG_Q: 'rag_q'>, prompt_type=<RagQPromptType.V5: 'rq_v5'>, relevant_docs_count=3, doc_splitter_options=DocSplitterOptions(doc_splitter_type=<DocumentSplitterType.RECURSIVE_CHARACTER_SPLITTER: 'recursive_character_splitter'>, token_count=1, add_title=False, chunk_size=12, chunk_overlap=6))\n",
      "106 --> VQAStrategyDetail(country='spain', file_type='english', vqa_strategy_type=<VQAStrategyType.RAG_Q: 'rag_q'>, prompt_type=<RagQPromptType.V5: 'rq_v5'>, relevant_docs_count=3, doc_splitter_options=DocSplitterOptions(doc_splitter_type=<DocumentSplitterType.RECURSIVE_CHARACTER_SPLITTER: 'recursive_character_splitter'>, token_count=1, add_title=False, chunk_size=24, chunk_overlap=2))\n",
      "107 --> VQAStrategyDetail(country='spain', file_type='english', vqa_strategy_type=<VQAStrategyType.RAG_Q: 'rag_q'>, prompt_type=<RagQPromptType.V5: 'rq_v5'>, relevant_docs_count=3, doc_splitter_options=DocSplitterOptions(doc_splitter_type=<DocumentSplitterType.RECURSIVE_CHARACTER_SPLITTER: 'recursive_character_splitter'>, token_count=1, add_title=False, chunk_size=24, chunk_overlap=6))\n",
      "108 --> VQAStrategyDetail(country='spain', file_type='english', vqa_strategy_type=<VQAStrategyType.RAG_Q: 'rag_q'>, prompt_type=<RagQPromptType.V5: 'rq_v5'>, relevant_docs_count=3, doc_splitter_options=DocSplitterOptions(doc_splitter_type=<DocumentSplitterType.SPACY_SENTENCE_SPLITTER: 'spacy_sentence_splitter'>, token_count=1, add_title=False, chunk_size=None, chunk_overlap=None))\n",
      "109 --> VQAStrategyDetail(country='spain', file_type='english', vqa_strategy_type=<VQAStrategyType.RAG_Q: 'rag_q'>, prompt_type=<RagQPromptType.V6: 'rq_v6'>, relevant_docs_count=1, doc_splitter_options=None)\n",
      "110 --> VQAStrategyDetail(country='spain', file_type='english', vqa_strategy_type=<VQAStrategyType.RAG_Q: 'rag_q'>, prompt_type=<RagQPromptType.V6: 'rq_v6'>, relevant_docs_count=1, doc_splitter_options=DocSplitterOptions(doc_splitter_type=<DocumentSplitterType.PARAGRAPH_SPLITTER: 'paragraph_splitter'>, token_count=1, add_title=False, chunk_size=None, chunk_overlap=None))\n",
      "111 --> VQAStrategyDetail(country='spain', file_type='english', vqa_strategy_type=<VQAStrategyType.RAG_Q: 'rag_q'>, prompt_type=<RagQPromptType.V6: 'rq_v6'>, relevant_docs_count=1, doc_splitter_options=DocSplitterOptions(doc_splitter_type=<DocumentSplitterType.RECURSIVE_CHARACTER_SPLITTER: 'recursive_character_splitter'>, token_count=1, add_title=False, chunk_size=12, chunk_overlap=2))\n",
      "112 --> VQAStrategyDetail(country='spain', file_type='english', vqa_strategy_type=<VQAStrategyType.RAG_Q: 'rag_q'>, prompt_type=<RagQPromptType.V6: 'rq_v6'>, relevant_docs_count=1, doc_splitter_options=DocSplitterOptions(doc_splitter_type=<DocumentSplitterType.RECURSIVE_CHARACTER_SPLITTER: 'recursive_character_splitter'>, token_count=1, add_title=False, chunk_size=12, chunk_overlap=6))\n",
      "113 --> VQAStrategyDetail(country='spain', file_type='english', vqa_strategy_type=<VQAStrategyType.RAG_Q: 'rag_q'>, prompt_type=<RagQPromptType.V6: 'rq_v6'>, relevant_docs_count=1, doc_splitter_options=DocSplitterOptions(doc_splitter_type=<DocumentSplitterType.RECURSIVE_CHARACTER_SPLITTER: 'recursive_character_splitter'>, token_count=1, add_title=False, chunk_size=24, chunk_overlap=2))\n",
      "114 --> VQAStrategyDetail(country='spain', file_type='english', vqa_strategy_type=<VQAStrategyType.RAG_Q: 'rag_q'>, prompt_type=<RagQPromptType.V6: 'rq_v6'>, relevant_docs_count=1, doc_splitter_options=DocSplitterOptions(doc_splitter_type=<DocumentSplitterType.RECURSIVE_CHARACTER_SPLITTER: 'recursive_character_splitter'>, token_count=1, add_title=False, chunk_size=24, chunk_overlap=6))\n",
      "115 --> VQAStrategyDetail(country='spain', file_type='english', vqa_strategy_type=<VQAStrategyType.RAG_Q: 'rag_q'>, prompt_type=<RagQPromptType.V6: 'rq_v6'>, relevant_docs_count=1, doc_splitter_options=DocSplitterOptions(doc_splitter_type=<DocumentSplitterType.SPACY_SENTENCE_SPLITTER: 'spacy_sentence_splitter'>, token_count=1, add_title=False, chunk_size=None, chunk_overlap=None))\n",
      "116 --> VQAStrategyDetail(country='spain', file_type='english', vqa_strategy_type=<VQAStrategyType.RAG_Q: 'rag_q'>, prompt_type=<RagQPromptType.V6: 'rq_v6'>, relevant_docs_count=2, doc_splitter_options=None)\n",
      "117 --> VQAStrategyDetail(country='spain', file_type='english', vqa_strategy_type=<VQAStrategyType.RAG_Q: 'rag_q'>, prompt_type=<RagQPromptType.V6: 'rq_v6'>, relevant_docs_count=2, doc_splitter_options=DocSplitterOptions(doc_splitter_type=<DocumentSplitterType.PARAGRAPH_SPLITTER: 'paragraph_splitter'>, token_count=1, add_title=False, chunk_size=None, chunk_overlap=None))\n",
      "118 --> VQAStrategyDetail(country='spain', file_type='english', vqa_strategy_type=<VQAStrategyType.RAG_Q: 'rag_q'>, prompt_type=<RagQPromptType.V6: 'rq_v6'>, relevant_docs_count=2, doc_splitter_options=DocSplitterOptions(doc_splitter_type=<DocumentSplitterType.RECURSIVE_CHARACTER_SPLITTER: 'recursive_character_splitter'>, token_count=1, add_title=False, chunk_size=12, chunk_overlap=2))\n",
      "119 --> VQAStrategyDetail(country='spain', file_type='english', vqa_strategy_type=<VQAStrategyType.RAG_Q: 'rag_q'>, prompt_type=<RagQPromptType.V6: 'rq_v6'>, relevant_docs_count=2, doc_splitter_options=DocSplitterOptions(doc_splitter_type=<DocumentSplitterType.RECURSIVE_CHARACTER_SPLITTER: 'recursive_character_splitter'>, token_count=1, add_title=False, chunk_size=12, chunk_overlap=6))\n",
      "120 --> VQAStrategyDetail(country='spain', file_type='english', vqa_strategy_type=<VQAStrategyType.RAG_Q: 'rag_q'>, prompt_type=<RagQPromptType.V6: 'rq_v6'>, relevant_docs_count=2, doc_splitter_options=DocSplitterOptions(doc_splitter_type=<DocumentSplitterType.RECURSIVE_CHARACTER_SPLITTER: 'recursive_character_splitter'>, token_count=1, add_title=False, chunk_size=24, chunk_overlap=2))\n",
      "121 --> VQAStrategyDetail(country='spain', file_type='english', vqa_strategy_type=<VQAStrategyType.RAG_Q: 'rag_q'>, prompt_type=<RagQPromptType.V6: 'rq_v6'>, relevant_docs_count=2, doc_splitter_options=DocSplitterOptions(doc_splitter_type=<DocumentSplitterType.RECURSIVE_CHARACTER_SPLITTER: 'recursive_character_splitter'>, token_count=1, add_title=False, chunk_size=24, chunk_overlap=6))\n",
      "122 --> VQAStrategyDetail(country='spain', file_type='english', vqa_strategy_type=<VQAStrategyType.RAG_Q: 'rag_q'>, prompt_type=<RagQPromptType.V6: 'rq_v6'>, relevant_docs_count=2, doc_splitter_options=DocSplitterOptions(doc_splitter_type=<DocumentSplitterType.SPACY_SENTENCE_SPLITTER: 'spacy_sentence_splitter'>, token_count=1, add_title=False, chunk_size=None, chunk_overlap=None))\n",
      "123 --> VQAStrategyDetail(country='spain', file_type='english', vqa_strategy_type=<VQAStrategyType.RAG_Q: 'rag_q'>, prompt_type=<RagQPromptType.V6: 'rq_v6'>, relevant_docs_count=3, doc_splitter_options=None)\n",
      "124 --> VQAStrategyDetail(country='spain', file_type='english', vqa_strategy_type=<VQAStrategyType.RAG_Q: 'rag_q'>, prompt_type=<RagQPromptType.V6: 'rq_v6'>, relevant_docs_count=3, doc_splitter_options=DocSplitterOptions(doc_splitter_type=<DocumentSplitterType.PARAGRAPH_SPLITTER: 'paragraph_splitter'>, token_count=1, add_title=False, chunk_size=None, chunk_overlap=None))\n",
      "125 --> VQAStrategyDetail(country='spain', file_type='english', vqa_strategy_type=<VQAStrategyType.RAG_Q: 'rag_q'>, prompt_type=<RagQPromptType.V6: 'rq_v6'>, relevant_docs_count=3, doc_splitter_options=DocSplitterOptions(doc_splitter_type=<DocumentSplitterType.RECURSIVE_CHARACTER_SPLITTER: 'recursive_character_splitter'>, token_count=1, add_title=False, chunk_size=12, chunk_overlap=2))\n",
      "126 --> VQAStrategyDetail(country='spain', file_type='english', vqa_strategy_type=<VQAStrategyType.RAG_Q: 'rag_q'>, prompt_type=<RagQPromptType.V6: 'rq_v6'>, relevant_docs_count=3, doc_splitter_options=DocSplitterOptions(doc_splitter_type=<DocumentSplitterType.RECURSIVE_CHARACTER_SPLITTER: 'recursive_character_splitter'>, token_count=1, add_title=False, chunk_size=12, chunk_overlap=6))\n",
      "127 --> VQAStrategyDetail(country='spain', file_type='english', vqa_strategy_type=<VQAStrategyType.RAG_Q: 'rag_q'>, prompt_type=<RagQPromptType.V6: 'rq_v6'>, relevant_docs_count=3, doc_splitter_options=DocSplitterOptions(doc_splitter_type=<DocumentSplitterType.RECURSIVE_CHARACTER_SPLITTER: 'recursive_character_splitter'>, token_count=1, add_title=False, chunk_size=24, chunk_overlap=2))\n",
      "128 --> VQAStrategyDetail(country='spain', file_type='english', vqa_strategy_type=<VQAStrategyType.RAG_Q: 'rag_q'>, prompt_type=<RagQPromptType.V6: 'rq_v6'>, relevant_docs_count=3, doc_splitter_options=DocSplitterOptions(doc_splitter_type=<DocumentSplitterType.RECURSIVE_CHARACTER_SPLITTER: 'recursive_character_splitter'>, token_count=1, add_title=False, chunk_size=24, chunk_overlap=6))\n",
      "129 --> VQAStrategyDetail(country='spain', file_type='english', vqa_strategy_type=<VQAStrategyType.RAG_Q: 'rag_q'>, prompt_type=<RagQPromptType.V6: 'rq_v6'>, relevant_docs_count=3, doc_splitter_options=DocSplitterOptions(doc_splitter_type=<DocumentSplitterType.SPACY_SENTENCE_SPLITTER: 'spacy_sentence_splitter'>, token_count=1, add_title=False, chunk_size=None, chunk_overlap=None))\n"
     ]
    },
    {
     "data": {
      "text/plain": [
       "[VQAStrategyDetail(country='spain', file_type='english', vqa_strategy_type=<VQAStrategyType.ZERO_SHOT: 'zero_shot'>, prompt_type=<ZeroShotPromptType.V1: 'zs_v1'>, relevant_docs_count=None, doc_splitter_options=None),\n",
       " VQAStrategyDetail(country='spain', file_type='english', vqa_strategy_type=<VQAStrategyType.ZERO_SHOT: 'zero_shot'>, prompt_type=<ZeroShotPromptType.V2: 'zs_v2'>, relevant_docs_count=None, doc_splitter_options=None),\n",
       " VQAStrategyDetail(country='spain', file_type='english', vqa_strategy_type=<VQAStrategyType.ZERO_SHOT: 'zero_shot'>, prompt_type=<ZeroShotPromptType.V3: 'zs_v3'>, relevant_docs_count=None, doc_splitter_options=None),\n",
       " VQAStrategyDetail(country='spain', file_type='english', vqa_strategy_type=<VQAStrategyType.RAG_Q: 'rag_q'>, prompt_type=<RagQPromptType.V1: 'rq_v1'>, relevant_docs_count=1, doc_splitter_options=None),\n",
       " VQAStrategyDetail(country='spain', file_type='english', vqa_strategy_type=<VQAStrategyType.RAG_Q: 'rag_q'>, prompt_type=<RagQPromptType.V1: 'rq_v1'>, relevant_docs_count=1, doc_splitter_options=DocSplitterOptions(doc_splitter_type=<DocumentSplitterType.PARAGRAPH_SPLITTER: 'paragraph_splitter'>, token_count=1, add_title=False, chunk_size=None, chunk_overlap=None)),\n",
       " VQAStrategyDetail(country='spain', file_type='english', vqa_strategy_type=<VQAStrategyType.RAG_Q: 'rag_q'>, prompt_type=<RagQPromptType.V1: 'rq_v1'>, relevant_docs_count=1, doc_splitter_options=DocSplitterOptions(doc_splitter_type=<DocumentSplitterType.RECURSIVE_CHARACTER_SPLITTER: 'recursive_character_splitter'>, token_count=1, add_title=False, chunk_size=12, chunk_overlap=2)),\n",
       " VQAStrategyDetail(country='spain', file_type='english', vqa_strategy_type=<VQAStrategyType.RAG_Q: 'rag_q'>, prompt_type=<RagQPromptType.V1: 'rq_v1'>, relevant_docs_count=1, doc_splitter_options=DocSplitterOptions(doc_splitter_type=<DocumentSplitterType.RECURSIVE_CHARACTER_SPLITTER: 'recursive_character_splitter'>, token_count=1, add_title=False, chunk_size=12, chunk_overlap=6)),\n",
       " VQAStrategyDetail(country='spain', file_type='english', vqa_strategy_type=<VQAStrategyType.RAG_Q: 'rag_q'>, prompt_type=<RagQPromptType.V1: 'rq_v1'>, relevant_docs_count=1, doc_splitter_options=DocSplitterOptions(doc_splitter_type=<DocumentSplitterType.RECURSIVE_CHARACTER_SPLITTER: 'recursive_character_splitter'>, token_count=1, add_title=False, chunk_size=24, chunk_overlap=2)),\n",
       " VQAStrategyDetail(country='spain', file_type='english', vqa_strategy_type=<VQAStrategyType.RAG_Q: 'rag_q'>, prompt_type=<RagQPromptType.V1: 'rq_v1'>, relevant_docs_count=1, doc_splitter_options=DocSplitterOptions(doc_splitter_type=<DocumentSplitterType.RECURSIVE_CHARACTER_SPLITTER: 'recursive_character_splitter'>, token_count=1, add_title=False, chunk_size=24, chunk_overlap=6)),\n",
       " VQAStrategyDetail(country='spain', file_type='english', vqa_strategy_type=<VQAStrategyType.RAG_Q: 'rag_q'>, prompt_type=<RagQPromptType.V1: 'rq_v1'>, relevant_docs_count=1, doc_splitter_options=DocSplitterOptions(doc_splitter_type=<DocumentSplitterType.SPACY_SENTENCE_SPLITTER: 'spacy_sentence_splitter'>, token_count=1, add_title=False, chunk_size=None, chunk_overlap=None)),\n",
       " VQAStrategyDetail(country='spain', file_type='english', vqa_strategy_type=<VQAStrategyType.RAG_Q: 'rag_q'>, prompt_type=<RagQPromptType.V1: 'rq_v1'>, relevant_docs_count=2, doc_splitter_options=None),\n",
       " VQAStrategyDetail(country='spain', file_type='english', vqa_strategy_type=<VQAStrategyType.RAG_Q: 'rag_q'>, prompt_type=<RagQPromptType.V1: 'rq_v1'>, relevant_docs_count=2, doc_splitter_options=DocSplitterOptions(doc_splitter_type=<DocumentSplitterType.PARAGRAPH_SPLITTER: 'paragraph_splitter'>, token_count=1, add_title=False, chunk_size=None, chunk_overlap=None)),\n",
       " VQAStrategyDetail(country='spain', file_type='english', vqa_strategy_type=<VQAStrategyType.RAG_Q: 'rag_q'>, prompt_type=<RagQPromptType.V1: 'rq_v1'>, relevant_docs_count=2, doc_splitter_options=DocSplitterOptions(doc_splitter_type=<DocumentSplitterType.RECURSIVE_CHARACTER_SPLITTER: 'recursive_character_splitter'>, token_count=1, add_title=False, chunk_size=12, chunk_overlap=2)),\n",
       " VQAStrategyDetail(country='spain', file_type='english', vqa_strategy_type=<VQAStrategyType.RAG_Q: 'rag_q'>, prompt_type=<RagQPromptType.V1: 'rq_v1'>, relevant_docs_count=2, doc_splitter_options=DocSplitterOptions(doc_splitter_type=<DocumentSplitterType.RECURSIVE_CHARACTER_SPLITTER: 'recursive_character_splitter'>, token_count=1, add_title=False, chunk_size=12, chunk_overlap=6)),\n",
       " VQAStrategyDetail(country='spain', file_type='english', vqa_strategy_type=<VQAStrategyType.RAG_Q: 'rag_q'>, prompt_type=<RagQPromptType.V1: 'rq_v1'>, relevant_docs_count=2, doc_splitter_options=DocSplitterOptions(doc_splitter_type=<DocumentSplitterType.RECURSIVE_CHARACTER_SPLITTER: 'recursive_character_splitter'>, token_count=1, add_title=False, chunk_size=24, chunk_overlap=2)),\n",
       " VQAStrategyDetail(country='spain', file_type='english', vqa_strategy_type=<VQAStrategyType.RAG_Q: 'rag_q'>, prompt_type=<RagQPromptType.V1: 'rq_v1'>, relevant_docs_count=2, doc_splitter_options=DocSplitterOptions(doc_splitter_type=<DocumentSplitterType.RECURSIVE_CHARACTER_SPLITTER: 'recursive_character_splitter'>, token_count=1, add_title=False, chunk_size=24, chunk_overlap=6)),\n",
       " VQAStrategyDetail(country='spain', file_type='english', vqa_strategy_type=<VQAStrategyType.RAG_Q: 'rag_q'>, prompt_type=<RagQPromptType.V1: 'rq_v1'>, relevant_docs_count=2, doc_splitter_options=DocSplitterOptions(doc_splitter_type=<DocumentSplitterType.SPACY_SENTENCE_SPLITTER: 'spacy_sentence_splitter'>, token_count=1, add_title=False, chunk_size=None, chunk_overlap=None)),\n",
       " VQAStrategyDetail(country='spain', file_type='english', vqa_strategy_type=<VQAStrategyType.RAG_Q: 'rag_q'>, prompt_type=<RagQPromptType.V1: 'rq_v1'>, relevant_docs_count=3, doc_splitter_options=None),\n",
       " VQAStrategyDetail(country='spain', file_type='english', vqa_strategy_type=<VQAStrategyType.RAG_Q: 'rag_q'>, prompt_type=<RagQPromptType.V1: 'rq_v1'>, relevant_docs_count=3, doc_splitter_options=DocSplitterOptions(doc_splitter_type=<DocumentSplitterType.PARAGRAPH_SPLITTER: 'paragraph_splitter'>, token_count=1, add_title=False, chunk_size=None, chunk_overlap=None)),\n",
       " VQAStrategyDetail(country='spain', file_type='english', vqa_strategy_type=<VQAStrategyType.RAG_Q: 'rag_q'>, prompt_type=<RagQPromptType.V1: 'rq_v1'>, relevant_docs_count=3, doc_splitter_options=DocSplitterOptions(doc_splitter_type=<DocumentSplitterType.RECURSIVE_CHARACTER_SPLITTER: 'recursive_character_splitter'>, token_count=1, add_title=False, chunk_size=12, chunk_overlap=2)),\n",
       " VQAStrategyDetail(country='spain', file_type='english', vqa_strategy_type=<VQAStrategyType.RAG_Q: 'rag_q'>, prompt_type=<RagQPromptType.V1: 'rq_v1'>, relevant_docs_count=3, doc_splitter_options=DocSplitterOptions(doc_splitter_type=<DocumentSplitterType.RECURSIVE_CHARACTER_SPLITTER: 'recursive_character_splitter'>, token_count=1, add_title=False, chunk_size=12, chunk_overlap=6)),\n",
       " VQAStrategyDetail(country='spain', file_type='english', vqa_strategy_type=<VQAStrategyType.RAG_Q: 'rag_q'>, prompt_type=<RagQPromptType.V1: 'rq_v1'>, relevant_docs_count=3, doc_splitter_options=DocSplitterOptions(doc_splitter_type=<DocumentSplitterType.RECURSIVE_CHARACTER_SPLITTER: 'recursive_character_splitter'>, token_count=1, add_title=False, chunk_size=24, chunk_overlap=2)),\n",
       " VQAStrategyDetail(country='spain', file_type='english', vqa_strategy_type=<VQAStrategyType.RAG_Q: 'rag_q'>, prompt_type=<RagQPromptType.V1: 'rq_v1'>, relevant_docs_count=3, doc_splitter_options=DocSplitterOptions(doc_splitter_type=<DocumentSplitterType.RECURSIVE_CHARACTER_SPLITTER: 'recursive_character_splitter'>, token_count=1, add_title=False, chunk_size=24, chunk_overlap=6)),\n",
       " VQAStrategyDetail(country='spain', file_type='english', vqa_strategy_type=<VQAStrategyType.RAG_Q: 'rag_q'>, prompt_type=<RagQPromptType.V1: 'rq_v1'>, relevant_docs_count=3, doc_splitter_options=DocSplitterOptions(doc_splitter_type=<DocumentSplitterType.SPACY_SENTENCE_SPLITTER: 'spacy_sentence_splitter'>, token_count=1, add_title=False, chunk_size=None, chunk_overlap=None)),\n",
       " VQAStrategyDetail(country='spain', file_type='english', vqa_strategy_type=<VQAStrategyType.RAG_Q: 'rag_q'>, prompt_type=<RagQPromptType.V2: 'rq_v2'>, relevant_docs_count=1, doc_splitter_options=None),\n",
       " VQAStrategyDetail(country='spain', file_type='english', vqa_strategy_type=<VQAStrategyType.RAG_Q: 'rag_q'>, prompt_type=<RagQPromptType.V2: 'rq_v2'>, relevant_docs_count=1, doc_splitter_options=DocSplitterOptions(doc_splitter_type=<DocumentSplitterType.PARAGRAPH_SPLITTER: 'paragraph_splitter'>, token_count=1, add_title=False, chunk_size=None, chunk_overlap=None)),\n",
       " VQAStrategyDetail(country='spain', file_type='english', vqa_strategy_type=<VQAStrategyType.RAG_Q: 'rag_q'>, prompt_type=<RagQPromptType.V2: 'rq_v2'>, relevant_docs_count=1, doc_splitter_options=DocSplitterOptions(doc_splitter_type=<DocumentSplitterType.RECURSIVE_CHARACTER_SPLITTER: 'recursive_character_splitter'>, token_count=1, add_title=False, chunk_size=12, chunk_overlap=2)),\n",
       " VQAStrategyDetail(country='spain', file_type='english', vqa_strategy_type=<VQAStrategyType.RAG_Q: 'rag_q'>, prompt_type=<RagQPromptType.V2: 'rq_v2'>, relevant_docs_count=1, doc_splitter_options=DocSplitterOptions(doc_splitter_type=<DocumentSplitterType.RECURSIVE_CHARACTER_SPLITTER: 'recursive_character_splitter'>, token_count=1, add_title=False, chunk_size=12, chunk_overlap=6)),\n",
       " VQAStrategyDetail(country='spain', file_type='english', vqa_strategy_type=<VQAStrategyType.RAG_Q: 'rag_q'>, prompt_type=<RagQPromptType.V2: 'rq_v2'>, relevant_docs_count=1, doc_splitter_options=DocSplitterOptions(doc_splitter_type=<DocumentSplitterType.RECURSIVE_CHARACTER_SPLITTER: 'recursive_character_splitter'>, token_count=1, add_title=False, chunk_size=24, chunk_overlap=2)),\n",
       " VQAStrategyDetail(country='spain', file_type='english', vqa_strategy_type=<VQAStrategyType.RAG_Q: 'rag_q'>, prompt_type=<RagQPromptType.V2: 'rq_v2'>, relevant_docs_count=1, doc_splitter_options=DocSplitterOptions(doc_splitter_type=<DocumentSplitterType.RECURSIVE_CHARACTER_SPLITTER: 'recursive_character_splitter'>, token_count=1, add_title=False, chunk_size=24, chunk_overlap=6)),\n",
       " VQAStrategyDetail(country='spain', file_type='english', vqa_strategy_type=<VQAStrategyType.RAG_Q: 'rag_q'>, prompt_type=<RagQPromptType.V2: 'rq_v2'>, relevant_docs_count=1, doc_splitter_options=DocSplitterOptions(doc_splitter_type=<DocumentSplitterType.SPACY_SENTENCE_SPLITTER: 'spacy_sentence_splitter'>, token_count=1, add_title=False, chunk_size=None, chunk_overlap=None)),\n",
       " VQAStrategyDetail(country='spain', file_type='english', vqa_strategy_type=<VQAStrategyType.RAG_Q: 'rag_q'>, prompt_type=<RagQPromptType.V2: 'rq_v2'>, relevant_docs_count=2, doc_splitter_options=None),\n",
       " VQAStrategyDetail(country='spain', file_type='english', vqa_strategy_type=<VQAStrategyType.RAG_Q: 'rag_q'>, prompt_type=<RagQPromptType.V2: 'rq_v2'>, relevant_docs_count=2, doc_splitter_options=DocSplitterOptions(doc_splitter_type=<DocumentSplitterType.PARAGRAPH_SPLITTER: 'paragraph_splitter'>, token_count=1, add_title=False, chunk_size=None, chunk_overlap=None)),\n",
       " VQAStrategyDetail(country='spain', file_type='english', vqa_strategy_type=<VQAStrategyType.RAG_Q: 'rag_q'>, prompt_type=<RagQPromptType.V2: 'rq_v2'>, relevant_docs_count=2, doc_splitter_options=DocSplitterOptions(doc_splitter_type=<DocumentSplitterType.RECURSIVE_CHARACTER_SPLITTER: 'recursive_character_splitter'>, token_count=1, add_title=False, chunk_size=12, chunk_overlap=2)),\n",
       " VQAStrategyDetail(country='spain', file_type='english', vqa_strategy_type=<VQAStrategyType.RAG_Q: 'rag_q'>, prompt_type=<RagQPromptType.V2: 'rq_v2'>, relevant_docs_count=2, doc_splitter_options=DocSplitterOptions(doc_splitter_type=<DocumentSplitterType.RECURSIVE_CHARACTER_SPLITTER: 'recursive_character_splitter'>, token_count=1, add_title=False, chunk_size=12, chunk_overlap=6)),\n",
       " VQAStrategyDetail(country='spain', file_type='english', vqa_strategy_type=<VQAStrategyType.RAG_Q: 'rag_q'>, prompt_type=<RagQPromptType.V2: 'rq_v2'>, relevant_docs_count=2, doc_splitter_options=DocSplitterOptions(doc_splitter_type=<DocumentSplitterType.RECURSIVE_CHARACTER_SPLITTER: 'recursive_character_splitter'>, token_count=1, add_title=False, chunk_size=24, chunk_overlap=2)),\n",
       " VQAStrategyDetail(country='spain', file_type='english', vqa_strategy_type=<VQAStrategyType.RAG_Q: 'rag_q'>, prompt_type=<RagQPromptType.V2: 'rq_v2'>, relevant_docs_count=2, doc_splitter_options=DocSplitterOptions(doc_splitter_type=<DocumentSplitterType.RECURSIVE_CHARACTER_SPLITTER: 'recursive_character_splitter'>, token_count=1, add_title=False, chunk_size=24, chunk_overlap=6)),\n",
       " VQAStrategyDetail(country='spain', file_type='english', vqa_strategy_type=<VQAStrategyType.RAG_Q: 'rag_q'>, prompt_type=<RagQPromptType.V2: 'rq_v2'>, relevant_docs_count=2, doc_splitter_options=DocSplitterOptions(doc_splitter_type=<DocumentSplitterType.SPACY_SENTENCE_SPLITTER: 'spacy_sentence_splitter'>, token_count=1, add_title=False, chunk_size=None, chunk_overlap=None)),\n",
       " VQAStrategyDetail(country='spain', file_type='english', vqa_strategy_type=<VQAStrategyType.RAG_Q: 'rag_q'>, prompt_type=<RagQPromptType.V2: 'rq_v2'>, relevant_docs_count=3, doc_splitter_options=None),\n",
       " VQAStrategyDetail(country='spain', file_type='english', vqa_strategy_type=<VQAStrategyType.RAG_Q: 'rag_q'>, prompt_type=<RagQPromptType.V2: 'rq_v2'>, relevant_docs_count=3, doc_splitter_options=DocSplitterOptions(doc_splitter_type=<DocumentSplitterType.PARAGRAPH_SPLITTER: 'paragraph_splitter'>, token_count=1, add_title=False, chunk_size=None, chunk_overlap=None)),\n",
       " VQAStrategyDetail(country='spain', file_type='english', vqa_strategy_type=<VQAStrategyType.RAG_Q: 'rag_q'>, prompt_type=<RagQPromptType.V2: 'rq_v2'>, relevant_docs_count=3, doc_splitter_options=DocSplitterOptions(doc_splitter_type=<DocumentSplitterType.RECURSIVE_CHARACTER_SPLITTER: 'recursive_character_splitter'>, token_count=1, add_title=False, chunk_size=12, chunk_overlap=2)),\n",
       " VQAStrategyDetail(country='spain', file_type='english', vqa_strategy_type=<VQAStrategyType.RAG_Q: 'rag_q'>, prompt_type=<RagQPromptType.V2: 'rq_v2'>, relevant_docs_count=3, doc_splitter_options=DocSplitterOptions(doc_splitter_type=<DocumentSplitterType.RECURSIVE_CHARACTER_SPLITTER: 'recursive_character_splitter'>, token_count=1, add_title=False, chunk_size=12, chunk_overlap=6)),\n",
       " VQAStrategyDetail(country='spain', file_type='english', vqa_strategy_type=<VQAStrategyType.RAG_Q: 'rag_q'>, prompt_type=<RagQPromptType.V2: 'rq_v2'>, relevant_docs_count=3, doc_splitter_options=DocSplitterOptions(doc_splitter_type=<DocumentSplitterType.RECURSIVE_CHARACTER_SPLITTER: 'recursive_character_splitter'>, token_count=1, add_title=False, chunk_size=24, chunk_overlap=2)),\n",
       " VQAStrategyDetail(country='spain', file_type='english', vqa_strategy_type=<VQAStrategyType.RAG_Q: 'rag_q'>, prompt_type=<RagQPromptType.V2: 'rq_v2'>, relevant_docs_count=3, doc_splitter_options=DocSplitterOptions(doc_splitter_type=<DocumentSplitterType.RECURSIVE_CHARACTER_SPLITTER: 'recursive_character_splitter'>, token_count=1, add_title=False, chunk_size=24, chunk_overlap=6)),\n",
       " VQAStrategyDetail(country='spain', file_type='english', vqa_strategy_type=<VQAStrategyType.RAG_Q: 'rag_q'>, prompt_type=<RagQPromptType.V2: 'rq_v2'>, relevant_docs_count=3, doc_splitter_options=DocSplitterOptions(doc_splitter_type=<DocumentSplitterType.SPACY_SENTENCE_SPLITTER: 'spacy_sentence_splitter'>, token_count=1, add_title=False, chunk_size=None, chunk_overlap=None)),\n",
       " VQAStrategyDetail(country='spain', file_type='english', vqa_strategy_type=<VQAStrategyType.RAG_Q: 'rag_q'>, prompt_type=<RagQPromptType.V3: 'rq_v3'>, relevant_docs_count=1, doc_splitter_options=None),\n",
       " VQAStrategyDetail(country='spain', file_type='english', vqa_strategy_type=<VQAStrategyType.RAG_Q: 'rag_q'>, prompt_type=<RagQPromptType.V3: 'rq_v3'>, relevant_docs_count=1, doc_splitter_options=DocSplitterOptions(doc_splitter_type=<DocumentSplitterType.PARAGRAPH_SPLITTER: 'paragraph_splitter'>, token_count=1, add_title=False, chunk_size=None, chunk_overlap=None)),\n",
       " VQAStrategyDetail(country='spain', file_type='english', vqa_strategy_type=<VQAStrategyType.RAG_Q: 'rag_q'>, prompt_type=<RagQPromptType.V3: 'rq_v3'>, relevant_docs_count=1, doc_splitter_options=DocSplitterOptions(doc_splitter_type=<DocumentSplitterType.RECURSIVE_CHARACTER_SPLITTER: 'recursive_character_splitter'>, token_count=1, add_title=False, chunk_size=12, chunk_overlap=2)),\n",
       " VQAStrategyDetail(country='spain', file_type='english', vqa_strategy_type=<VQAStrategyType.RAG_Q: 'rag_q'>, prompt_type=<RagQPromptType.V3: 'rq_v3'>, relevant_docs_count=1, doc_splitter_options=DocSplitterOptions(doc_splitter_type=<DocumentSplitterType.RECURSIVE_CHARACTER_SPLITTER: 'recursive_character_splitter'>, token_count=1, add_title=False, chunk_size=12, chunk_overlap=6)),\n",
       " VQAStrategyDetail(country='spain', file_type='english', vqa_strategy_type=<VQAStrategyType.RAG_Q: 'rag_q'>, prompt_type=<RagQPromptType.V3: 'rq_v3'>, relevant_docs_count=1, doc_splitter_options=DocSplitterOptions(doc_splitter_type=<DocumentSplitterType.RECURSIVE_CHARACTER_SPLITTER: 'recursive_character_splitter'>, token_count=1, add_title=False, chunk_size=24, chunk_overlap=2)),\n",
       " VQAStrategyDetail(country='spain', file_type='english', vqa_strategy_type=<VQAStrategyType.RAG_Q: 'rag_q'>, prompt_type=<RagQPromptType.V3: 'rq_v3'>, relevant_docs_count=1, doc_splitter_options=DocSplitterOptions(doc_splitter_type=<DocumentSplitterType.RECURSIVE_CHARACTER_SPLITTER: 'recursive_character_splitter'>, token_count=1, add_title=False, chunk_size=24, chunk_overlap=6)),\n",
       " VQAStrategyDetail(country='spain', file_type='english', vqa_strategy_type=<VQAStrategyType.RAG_Q: 'rag_q'>, prompt_type=<RagQPromptType.V3: 'rq_v3'>, relevant_docs_count=1, doc_splitter_options=DocSplitterOptions(doc_splitter_type=<DocumentSplitterType.SPACY_SENTENCE_SPLITTER: 'spacy_sentence_splitter'>, token_count=1, add_title=False, chunk_size=None, chunk_overlap=None)),\n",
       " VQAStrategyDetail(country='spain', file_type='english', vqa_strategy_type=<VQAStrategyType.RAG_Q: 'rag_q'>, prompt_type=<RagQPromptType.V3: 'rq_v3'>, relevant_docs_count=2, doc_splitter_options=None),\n",
       " VQAStrategyDetail(country='spain', file_type='english', vqa_strategy_type=<VQAStrategyType.RAG_Q: 'rag_q'>, prompt_type=<RagQPromptType.V3: 'rq_v3'>, relevant_docs_count=2, doc_splitter_options=DocSplitterOptions(doc_splitter_type=<DocumentSplitterType.PARAGRAPH_SPLITTER: 'paragraph_splitter'>, token_count=1, add_title=False, chunk_size=None, chunk_overlap=None)),\n",
       " VQAStrategyDetail(country='spain', file_type='english', vqa_strategy_type=<VQAStrategyType.RAG_Q: 'rag_q'>, prompt_type=<RagQPromptType.V3: 'rq_v3'>, relevant_docs_count=2, doc_splitter_options=DocSplitterOptions(doc_splitter_type=<DocumentSplitterType.RECURSIVE_CHARACTER_SPLITTER: 'recursive_character_splitter'>, token_count=1, add_title=False, chunk_size=12, chunk_overlap=2)),\n",
       " VQAStrategyDetail(country='spain', file_type='english', vqa_strategy_type=<VQAStrategyType.RAG_Q: 'rag_q'>, prompt_type=<RagQPromptType.V3: 'rq_v3'>, relevant_docs_count=2, doc_splitter_options=DocSplitterOptions(doc_splitter_type=<DocumentSplitterType.RECURSIVE_CHARACTER_SPLITTER: 'recursive_character_splitter'>, token_count=1, add_title=False, chunk_size=12, chunk_overlap=6)),\n",
       " VQAStrategyDetail(country='spain', file_type='english', vqa_strategy_type=<VQAStrategyType.RAG_Q: 'rag_q'>, prompt_type=<RagQPromptType.V3: 'rq_v3'>, relevant_docs_count=2, doc_splitter_options=DocSplitterOptions(doc_splitter_type=<DocumentSplitterType.RECURSIVE_CHARACTER_SPLITTER: 'recursive_character_splitter'>, token_count=1, add_title=False, chunk_size=24, chunk_overlap=2)),\n",
       " VQAStrategyDetail(country='spain', file_type='english', vqa_strategy_type=<VQAStrategyType.RAG_Q: 'rag_q'>, prompt_type=<RagQPromptType.V3: 'rq_v3'>, relevant_docs_count=2, doc_splitter_options=DocSplitterOptions(doc_splitter_type=<DocumentSplitterType.RECURSIVE_CHARACTER_SPLITTER: 'recursive_character_splitter'>, token_count=1, add_title=False, chunk_size=24, chunk_overlap=6)),\n",
       " VQAStrategyDetail(country='spain', file_type='english', vqa_strategy_type=<VQAStrategyType.RAG_Q: 'rag_q'>, prompt_type=<RagQPromptType.V3: 'rq_v3'>, relevant_docs_count=2, doc_splitter_options=DocSplitterOptions(doc_splitter_type=<DocumentSplitterType.SPACY_SENTENCE_SPLITTER: 'spacy_sentence_splitter'>, token_count=1, add_title=False, chunk_size=None, chunk_overlap=None)),\n",
       " VQAStrategyDetail(country='spain', file_type='english', vqa_strategy_type=<VQAStrategyType.RAG_Q: 'rag_q'>, prompt_type=<RagQPromptType.V3: 'rq_v3'>, relevant_docs_count=3, doc_splitter_options=None),\n",
       " VQAStrategyDetail(country='spain', file_type='english', vqa_strategy_type=<VQAStrategyType.RAG_Q: 'rag_q'>, prompt_type=<RagQPromptType.V3: 'rq_v3'>, relevant_docs_count=3, doc_splitter_options=DocSplitterOptions(doc_splitter_type=<DocumentSplitterType.PARAGRAPH_SPLITTER: 'paragraph_splitter'>, token_count=1, add_title=False, chunk_size=None, chunk_overlap=None)),\n",
       " VQAStrategyDetail(country='spain', file_type='english', vqa_strategy_type=<VQAStrategyType.RAG_Q: 'rag_q'>, prompt_type=<RagQPromptType.V3: 'rq_v3'>, relevant_docs_count=3, doc_splitter_options=DocSplitterOptions(doc_splitter_type=<DocumentSplitterType.RECURSIVE_CHARACTER_SPLITTER: 'recursive_character_splitter'>, token_count=1, add_title=False, chunk_size=12, chunk_overlap=2)),\n",
       " VQAStrategyDetail(country='spain', file_type='english', vqa_strategy_type=<VQAStrategyType.RAG_Q: 'rag_q'>, prompt_type=<RagQPromptType.V3: 'rq_v3'>, relevant_docs_count=3, doc_splitter_options=DocSplitterOptions(doc_splitter_type=<DocumentSplitterType.RECURSIVE_CHARACTER_SPLITTER: 'recursive_character_splitter'>, token_count=1, add_title=False, chunk_size=12, chunk_overlap=6)),\n",
       " VQAStrategyDetail(country='spain', file_type='english', vqa_strategy_type=<VQAStrategyType.RAG_Q: 'rag_q'>, prompt_type=<RagQPromptType.V3: 'rq_v3'>, relevant_docs_count=3, doc_splitter_options=DocSplitterOptions(doc_splitter_type=<DocumentSplitterType.RECURSIVE_CHARACTER_SPLITTER: 'recursive_character_splitter'>, token_count=1, add_title=False, chunk_size=24, chunk_overlap=2)),\n",
       " VQAStrategyDetail(country='spain', file_type='english', vqa_strategy_type=<VQAStrategyType.RAG_Q: 'rag_q'>, prompt_type=<RagQPromptType.V3: 'rq_v3'>, relevant_docs_count=3, doc_splitter_options=DocSplitterOptions(doc_splitter_type=<DocumentSplitterType.RECURSIVE_CHARACTER_SPLITTER: 'recursive_character_splitter'>, token_count=1, add_title=False, chunk_size=24, chunk_overlap=6)),\n",
       " VQAStrategyDetail(country='spain', file_type='english', vqa_strategy_type=<VQAStrategyType.RAG_Q: 'rag_q'>, prompt_type=<RagQPromptType.V3: 'rq_v3'>, relevant_docs_count=3, doc_splitter_options=DocSplitterOptions(doc_splitter_type=<DocumentSplitterType.SPACY_SENTENCE_SPLITTER: 'spacy_sentence_splitter'>, token_count=1, add_title=False, chunk_size=None, chunk_overlap=None)),\n",
       " VQAStrategyDetail(country='spain', file_type='english', vqa_strategy_type=<VQAStrategyType.RAG_Q: 'rag_q'>, prompt_type=<RagQPromptType.V4: 'rq_v4'>, relevant_docs_count=1, doc_splitter_options=None),\n",
       " VQAStrategyDetail(country='spain', file_type='english', vqa_strategy_type=<VQAStrategyType.RAG_Q: 'rag_q'>, prompt_type=<RagQPromptType.V4: 'rq_v4'>, relevant_docs_count=1, doc_splitter_options=DocSplitterOptions(doc_splitter_type=<DocumentSplitterType.PARAGRAPH_SPLITTER: 'paragraph_splitter'>, token_count=1, add_title=False, chunk_size=None, chunk_overlap=None)),\n",
       " VQAStrategyDetail(country='spain', file_type='english', vqa_strategy_type=<VQAStrategyType.RAG_Q: 'rag_q'>, prompt_type=<RagQPromptType.V4: 'rq_v4'>, relevant_docs_count=1, doc_splitter_options=DocSplitterOptions(doc_splitter_type=<DocumentSplitterType.RECURSIVE_CHARACTER_SPLITTER: 'recursive_character_splitter'>, token_count=1, add_title=False, chunk_size=12, chunk_overlap=2)),\n",
       " VQAStrategyDetail(country='spain', file_type='english', vqa_strategy_type=<VQAStrategyType.RAG_Q: 'rag_q'>, prompt_type=<RagQPromptType.V4: 'rq_v4'>, relevant_docs_count=1, doc_splitter_options=DocSplitterOptions(doc_splitter_type=<DocumentSplitterType.RECURSIVE_CHARACTER_SPLITTER: 'recursive_character_splitter'>, token_count=1, add_title=False, chunk_size=12, chunk_overlap=6)),\n",
       " VQAStrategyDetail(country='spain', file_type='english', vqa_strategy_type=<VQAStrategyType.RAG_Q: 'rag_q'>, prompt_type=<RagQPromptType.V4: 'rq_v4'>, relevant_docs_count=1, doc_splitter_options=DocSplitterOptions(doc_splitter_type=<DocumentSplitterType.RECURSIVE_CHARACTER_SPLITTER: 'recursive_character_splitter'>, token_count=1, add_title=False, chunk_size=24, chunk_overlap=2)),\n",
       " VQAStrategyDetail(country='spain', file_type='english', vqa_strategy_type=<VQAStrategyType.RAG_Q: 'rag_q'>, prompt_type=<RagQPromptType.V4: 'rq_v4'>, relevant_docs_count=1, doc_splitter_options=DocSplitterOptions(doc_splitter_type=<DocumentSplitterType.RECURSIVE_CHARACTER_SPLITTER: 'recursive_character_splitter'>, token_count=1, add_title=False, chunk_size=24, chunk_overlap=6)),\n",
       " VQAStrategyDetail(country='spain', file_type='english', vqa_strategy_type=<VQAStrategyType.RAG_Q: 'rag_q'>, prompt_type=<RagQPromptType.V4: 'rq_v4'>, relevant_docs_count=1, doc_splitter_options=DocSplitterOptions(doc_splitter_type=<DocumentSplitterType.SPACY_SENTENCE_SPLITTER: 'spacy_sentence_splitter'>, token_count=1, add_title=False, chunk_size=None, chunk_overlap=None)),\n",
       " VQAStrategyDetail(country='spain', file_type='english', vqa_strategy_type=<VQAStrategyType.RAG_Q: 'rag_q'>, prompt_type=<RagQPromptType.V4: 'rq_v4'>, relevant_docs_count=2, doc_splitter_options=None),\n",
       " VQAStrategyDetail(country='spain', file_type='english', vqa_strategy_type=<VQAStrategyType.RAG_Q: 'rag_q'>, prompt_type=<RagQPromptType.V4: 'rq_v4'>, relevant_docs_count=2, doc_splitter_options=DocSplitterOptions(doc_splitter_type=<DocumentSplitterType.PARAGRAPH_SPLITTER: 'paragraph_splitter'>, token_count=1, add_title=False, chunk_size=None, chunk_overlap=None)),\n",
       " VQAStrategyDetail(country='spain', file_type='english', vqa_strategy_type=<VQAStrategyType.RAG_Q: 'rag_q'>, prompt_type=<RagQPromptType.V4: 'rq_v4'>, relevant_docs_count=2, doc_splitter_options=DocSplitterOptions(doc_splitter_type=<DocumentSplitterType.RECURSIVE_CHARACTER_SPLITTER: 'recursive_character_splitter'>, token_count=1, add_title=False, chunk_size=12, chunk_overlap=2)),\n",
       " VQAStrategyDetail(country='spain', file_type='english', vqa_strategy_type=<VQAStrategyType.RAG_Q: 'rag_q'>, prompt_type=<RagQPromptType.V4: 'rq_v4'>, relevant_docs_count=2, doc_splitter_options=DocSplitterOptions(doc_splitter_type=<DocumentSplitterType.RECURSIVE_CHARACTER_SPLITTER: 'recursive_character_splitter'>, token_count=1, add_title=False, chunk_size=12, chunk_overlap=6)),\n",
       " VQAStrategyDetail(country='spain', file_type='english', vqa_strategy_type=<VQAStrategyType.RAG_Q: 'rag_q'>, prompt_type=<RagQPromptType.V4: 'rq_v4'>, relevant_docs_count=2, doc_splitter_options=DocSplitterOptions(doc_splitter_type=<DocumentSplitterType.RECURSIVE_CHARACTER_SPLITTER: 'recursive_character_splitter'>, token_count=1, add_title=False, chunk_size=24, chunk_overlap=2)),\n",
       " VQAStrategyDetail(country='spain', file_type='english', vqa_strategy_type=<VQAStrategyType.RAG_Q: 'rag_q'>, prompt_type=<RagQPromptType.V4: 'rq_v4'>, relevant_docs_count=2, doc_splitter_options=DocSplitterOptions(doc_splitter_type=<DocumentSplitterType.RECURSIVE_CHARACTER_SPLITTER: 'recursive_character_splitter'>, token_count=1, add_title=False, chunk_size=24, chunk_overlap=6)),\n",
       " VQAStrategyDetail(country='spain', file_type='english', vqa_strategy_type=<VQAStrategyType.RAG_Q: 'rag_q'>, prompt_type=<RagQPromptType.V4: 'rq_v4'>, relevant_docs_count=2, doc_splitter_options=DocSplitterOptions(doc_splitter_type=<DocumentSplitterType.SPACY_SENTENCE_SPLITTER: 'spacy_sentence_splitter'>, token_count=1, add_title=False, chunk_size=None, chunk_overlap=None)),\n",
       " VQAStrategyDetail(country='spain', file_type='english', vqa_strategy_type=<VQAStrategyType.RAG_Q: 'rag_q'>, prompt_type=<RagQPromptType.V4: 'rq_v4'>, relevant_docs_count=3, doc_splitter_options=None),\n",
       " VQAStrategyDetail(country='spain', file_type='english', vqa_strategy_type=<VQAStrategyType.RAG_Q: 'rag_q'>, prompt_type=<RagQPromptType.V4: 'rq_v4'>, relevant_docs_count=3, doc_splitter_options=DocSplitterOptions(doc_splitter_type=<DocumentSplitterType.PARAGRAPH_SPLITTER: 'paragraph_splitter'>, token_count=1, add_title=False, chunk_size=None, chunk_overlap=None)),\n",
       " VQAStrategyDetail(country='spain', file_type='english', vqa_strategy_type=<VQAStrategyType.RAG_Q: 'rag_q'>, prompt_type=<RagQPromptType.V4: 'rq_v4'>, relevant_docs_count=3, doc_splitter_options=DocSplitterOptions(doc_splitter_type=<DocumentSplitterType.RECURSIVE_CHARACTER_SPLITTER: 'recursive_character_splitter'>, token_count=1, add_title=False, chunk_size=12, chunk_overlap=2)),\n",
       " VQAStrategyDetail(country='spain', file_type='english', vqa_strategy_type=<VQAStrategyType.RAG_Q: 'rag_q'>, prompt_type=<RagQPromptType.V4: 'rq_v4'>, relevant_docs_count=3, doc_splitter_options=DocSplitterOptions(doc_splitter_type=<DocumentSplitterType.RECURSIVE_CHARACTER_SPLITTER: 'recursive_character_splitter'>, token_count=1, add_title=False, chunk_size=12, chunk_overlap=6)),\n",
       " VQAStrategyDetail(country='spain', file_type='english', vqa_strategy_type=<VQAStrategyType.RAG_Q: 'rag_q'>, prompt_type=<RagQPromptType.V4: 'rq_v4'>, relevant_docs_count=3, doc_splitter_options=DocSplitterOptions(doc_splitter_type=<DocumentSplitterType.RECURSIVE_CHARACTER_SPLITTER: 'recursive_character_splitter'>, token_count=1, add_title=False, chunk_size=24, chunk_overlap=2)),\n",
       " VQAStrategyDetail(country='spain', file_type='english', vqa_strategy_type=<VQAStrategyType.RAG_Q: 'rag_q'>, prompt_type=<RagQPromptType.V4: 'rq_v4'>, relevant_docs_count=3, doc_splitter_options=DocSplitterOptions(doc_splitter_type=<DocumentSplitterType.RECURSIVE_CHARACTER_SPLITTER: 'recursive_character_splitter'>, token_count=1, add_title=False, chunk_size=24, chunk_overlap=6)),\n",
       " VQAStrategyDetail(country='spain', file_type='english', vqa_strategy_type=<VQAStrategyType.RAG_Q: 'rag_q'>, prompt_type=<RagQPromptType.V4: 'rq_v4'>, relevant_docs_count=3, doc_splitter_options=DocSplitterOptions(doc_splitter_type=<DocumentSplitterType.SPACY_SENTENCE_SPLITTER: 'spacy_sentence_splitter'>, token_count=1, add_title=False, chunk_size=None, chunk_overlap=None)),\n",
       " VQAStrategyDetail(country='spain', file_type='english', vqa_strategy_type=<VQAStrategyType.RAG_Q: 'rag_q'>, prompt_type=<RagQPromptType.V5: 'rq_v5'>, relevant_docs_count=1, doc_splitter_options=None),\n",
       " VQAStrategyDetail(country='spain', file_type='english', vqa_strategy_type=<VQAStrategyType.RAG_Q: 'rag_q'>, prompt_type=<RagQPromptType.V5: 'rq_v5'>, relevant_docs_count=1, doc_splitter_options=DocSplitterOptions(doc_splitter_type=<DocumentSplitterType.PARAGRAPH_SPLITTER: 'paragraph_splitter'>, token_count=1, add_title=False, chunk_size=None, chunk_overlap=None)),\n",
       " VQAStrategyDetail(country='spain', file_type='english', vqa_strategy_type=<VQAStrategyType.RAG_Q: 'rag_q'>, prompt_type=<RagQPromptType.V5: 'rq_v5'>, relevant_docs_count=1, doc_splitter_options=DocSplitterOptions(doc_splitter_type=<DocumentSplitterType.RECURSIVE_CHARACTER_SPLITTER: 'recursive_character_splitter'>, token_count=1, add_title=False, chunk_size=12, chunk_overlap=2)),\n",
       " VQAStrategyDetail(country='spain', file_type='english', vqa_strategy_type=<VQAStrategyType.RAG_Q: 'rag_q'>, prompt_type=<RagQPromptType.V5: 'rq_v5'>, relevant_docs_count=1, doc_splitter_options=DocSplitterOptions(doc_splitter_type=<DocumentSplitterType.RECURSIVE_CHARACTER_SPLITTER: 'recursive_character_splitter'>, token_count=1, add_title=False, chunk_size=12, chunk_overlap=6)),\n",
       " VQAStrategyDetail(country='spain', file_type='english', vqa_strategy_type=<VQAStrategyType.RAG_Q: 'rag_q'>, prompt_type=<RagQPromptType.V5: 'rq_v5'>, relevant_docs_count=1, doc_splitter_options=DocSplitterOptions(doc_splitter_type=<DocumentSplitterType.RECURSIVE_CHARACTER_SPLITTER: 'recursive_character_splitter'>, token_count=1, add_title=False, chunk_size=24, chunk_overlap=2)),\n",
       " VQAStrategyDetail(country='spain', file_type='english', vqa_strategy_type=<VQAStrategyType.RAG_Q: 'rag_q'>, prompt_type=<RagQPromptType.V5: 'rq_v5'>, relevant_docs_count=1, doc_splitter_options=DocSplitterOptions(doc_splitter_type=<DocumentSplitterType.RECURSIVE_CHARACTER_SPLITTER: 'recursive_character_splitter'>, token_count=1, add_title=False, chunk_size=24, chunk_overlap=6)),\n",
       " VQAStrategyDetail(country='spain', file_type='english', vqa_strategy_type=<VQAStrategyType.RAG_Q: 'rag_q'>, prompt_type=<RagQPromptType.V5: 'rq_v5'>, relevant_docs_count=1, doc_splitter_options=DocSplitterOptions(doc_splitter_type=<DocumentSplitterType.SPACY_SENTENCE_SPLITTER: 'spacy_sentence_splitter'>, token_count=1, add_title=False, chunk_size=None, chunk_overlap=None)),\n",
       " VQAStrategyDetail(country='spain', file_type='english', vqa_strategy_type=<VQAStrategyType.RAG_Q: 'rag_q'>, prompt_type=<RagQPromptType.V5: 'rq_v5'>, relevant_docs_count=2, doc_splitter_options=None),\n",
       " VQAStrategyDetail(country='spain', file_type='english', vqa_strategy_type=<VQAStrategyType.RAG_Q: 'rag_q'>, prompt_type=<RagQPromptType.V5: 'rq_v5'>, relevant_docs_count=2, doc_splitter_options=DocSplitterOptions(doc_splitter_type=<DocumentSplitterType.PARAGRAPH_SPLITTER: 'paragraph_splitter'>, token_count=1, add_title=False, chunk_size=None, chunk_overlap=None)),\n",
       " VQAStrategyDetail(country='spain', file_type='english', vqa_strategy_type=<VQAStrategyType.RAG_Q: 'rag_q'>, prompt_type=<RagQPromptType.V5: 'rq_v5'>, relevant_docs_count=2, doc_splitter_options=DocSplitterOptions(doc_splitter_type=<DocumentSplitterType.RECURSIVE_CHARACTER_SPLITTER: 'recursive_character_splitter'>, token_count=1, add_title=False, chunk_size=12, chunk_overlap=2)),\n",
       " VQAStrategyDetail(country='spain', file_type='english', vqa_strategy_type=<VQAStrategyType.RAG_Q: 'rag_q'>, prompt_type=<RagQPromptType.V5: 'rq_v5'>, relevant_docs_count=2, doc_splitter_options=DocSplitterOptions(doc_splitter_type=<DocumentSplitterType.RECURSIVE_CHARACTER_SPLITTER: 'recursive_character_splitter'>, token_count=1, add_title=False, chunk_size=12, chunk_overlap=6)),\n",
       " VQAStrategyDetail(country='spain', file_type='english', vqa_strategy_type=<VQAStrategyType.RAG_Q: 'rag_q'>, prompt_type=<RagQPromptType.V5: 'rq_v5'>, relevant_docs_count=2, doc_splitter_options=DocSplitterOptions(doc_splitter_type=<DocumentSplitterType.RECURSIVE_CHARACTER_SPLITTER: 'recursive_character_splitter'>, token_count=1, add_title=False, chunk_size=24, chunk_overlap=2)),\n",
       " VQAStrategyDetail(country='spain', file_type='english', vqa_strategy_type=<VQAStrategyType.RAG_Q: 'rag_q'>, prompt_type=<RagQPromptType.V5: 'rq_v5'>, relevant_docs_count=2, doc_splitter_options=DocSplitterOptions(doc_splitter_type=<DocumentSplitterType.RECURSIVE_CHARACTER_SPLITTER: 'recursive_character_splitter'>, token_count=1, add_title=False, chunk_size=24, chunk_overlap=6)),\n",
       " VQAStrategyDetail(country='spain', file_type='english', vqa_strategy_type=<VQAStrategyType.RAG_Q: 'rag_q'>, prompt_type=<RagQPromptType.V5: 'rq_v5'>, relevant_docs_count=2, doc_splitter_options=DocSplitterOptions(doc_splitter_type=<DocumentSplitterType.SPACY_SENTENCE_SPLITTER: 'spacy_sentence_splitter'>, token_count=1, add_title=False, chunk_size=None, chunk_overlap=None)),\n",
       " VQAStrategyDetail(country='spain', file_type='english', vqa_strategy_type=<VQAStrategyType.RAG_Q: 'rag_q'>, prompt_type=<RagQPromptType.V5: 'rq_v5'>, relevant_docs_count=3, doc_splitter_options=None),\n",
       " VQAStrategyDetail(country='spain', file_type='english', vqa_strategy_type=<VQAStrategyType.RAG_Q: 'rag_q'>, prompt_type=<RagQPromptType.V5: 'rq_v5'>, relevant_docs_count=3, doc_splitter_options=DocSplitterOptions(doc_splitter_type=<DocumentSplitterType.PARAGRAPH_SPLITTER: 'paragraph_splitter'>, token_count=1, add_title=False, chunk_size=None, chunk_overlap=None)),\n",
       " VQAStrategyDetail(country='spain', file_type='english', vqa_strategy_type=<VQAStrategyType.RAG_Q: 'rag_q'>, prompt_type=<RagQPromptType.V5: 'rq_v5'>, relevant_docs_count=3, doc_splitter_options=DocSplitterOptions(doc_splitter_type=<DocumentSplitterType.RECURSIVE_CHARACTER_SPLITTER: 'recursive_character_splitter'>, token_count=1, add_title=False, chunk_size=12, chunk_overlap=2)),\n",
       " VQAStrategyDetail(country='spain', file_type='english', vqa_strategy_type=<VQAStrategyType.RAG_Q: 'rag_q'>, prompt_type=<RagQPromptType.V5: 'rq_v5'>, relevant_docs_count=3, doc_splitter_options=DocSplitterOptions(doc_splitter_type=<DocumentSplitterType.RECURSIVE_CHARACTER_SPLITTER: 'recursive_character_splitter'>, token_count=1, add_title=False, chunk_size=12, chunk_overlap=6)),\n",
       " VQAStrategyDetail(country='spain', file_type='english', vqa_strategy_type=<VQAStrategyType.RAG_Q: 'rag_q'>, prompt_type=<RagQPromptType.V5: 'rq_v5'>, relevant_docs_count=3, doc_splitter_options=DocSplitterOptions(doc_splitter_type=<DocumentSplitterType.RECURSIVE_CHARACTER_SPLITTER: 'recursive_character_splitter'>, token_count=1, add_title=False, chunk_size=24, chunk_overlap=2)),\n",
       " VQAStrategyDetail(country='spain', file_type='english', vqa_strategy_type=<VQAStrategyType.RAG_Q: 'rag_q'>, prompt_type=<RagQPromptType.V5: 'rq_v5'>, relevant_docs_count=3, doc_splitter_options=DocSplitterOptions(doc_splitter_type=<DocumentSplitterType.RECURSIVE_CHARACTER_SPLITTER: 'recursive_character_splitter'>, token_count=1, add_title=False, chunk_size=24, chunk_overlap=6)),\n",
       " VQAStrategyDetail(country='spain', file_type='english', vqa_strategy_type=<VQAStrategyType.RAG_Q: 'rag_q'>, prompt_type=<RagQPromptType.V5: 'rq_v5'>, relevant_docs_count=3, doc_splitter_options=DocSplitterOptions(doc_splitter_type=<DocumentSplitterType.SPACY_SENTENCE_SPLITTER: 'spacy_sentence_splitter'>, token_count=1, add_title=False, chunk_size=None, chunk_overlap=None)),\n",
       " VQAStrategyDetail(country='spain', file_type='english', vqa_strategy_type=<VQAStrategyType.RAG_Q: 'rag_q'>, prompt_type=<RagQPromptType.V6: 'rq_v6'>, relevant_docs_count=1, doc_splitter_options=None),\n",
       " VQAStrategyDetail(country='spain', file_type='english', vqa_strategy_type=<VQAStrategyType.RAG_Q: 'rag_q'>, prompt_type=<RagQPromptType.V6: 'rq_v6'>, relevant_docs_count=1, doc_splitter_options=DocSplitterOptions(doc_splitter_type=<DocumentSplitterType.PARAGRAPH_SPLITTER: 'paragraph_splitter'>, token_count=1, add_title=False, chunk_size=None, chunk_overlap=None)),\n",
       " VQAStrategyDetail(country='spain', file_type='english', vqa_strategy_type=<VQAStrategyType.RAG_Q: 'rag_q'>, prompt_type=<RagQPromptType.V6: 'rq_v6'>, relevant_docs_count=1, doc_splitter_options=DocSplitterOptions(doc_splitter_type=<DocumentSplitterType.RECURSIVE_CHARACTER_SPLITTER: 'recursive_character_splitter'>, token_count=1, add_title=False, chunk_size=12, chunk_overlap=2)),\n",
       " VQAStrategyDetail(country='spain', file_type='english', vqa_strategy_type=<VQAStrategyType.RAG_Q: 'rag_q'>, prompt_type=<RagQPromptType.V6: 'rq_v6'>, relevant_docs_count=1, doc_splitter_options=DocSplitterOptions(doc_splitter_type=<DocumentSplitterType.RECURSIVE_CHARACTER_SPLITTER: 'recursive_character_splitter'>, token_count=1, add_title=False, chunk_size=12, chunk_overlap=6)),\n",
       " VQAStrategyDetail(country='spain', file_type='english', vqa_strategy_type=<VQAStrategyType.RAG_Q: 'rag_q'>, prompt_type=<RagQPromptType.V6: 'rq_v6'>, relevant_docs_count=1, doc_splitter_options=DocSplitterOptions(doc_splitter_type=<DocumentSplitterType.RECURSIVE_CHARACTER_SPLITTER: 'recursive_character_splitter'>, token_count=1, add_title=False, chunk_size=24, chunk_overlap=2)),\n",
       " VQAStrategyDetail(country='spain', file_type='english', vqa_strategy_type=<VQAStrategyType.RAG_Q: 'rag_q'>, prompt_type=<RagQPromptType.V6: 'rq_v6'>, relevant_docs_count=1, doc_splitter_options=DocSplitterOptions(doc_splitter_type=<DocumentSplitterType.RECURSIVE_CHARACTER_SPLITTER: 'recursive_character_splitter'>, token_count=1, add_title=False, chunk_size=24, chunk_overlap=6)),\n",
       " VQAStrategyDetail(country='spain', file_type='english', vqa_strategy_type=<VQAStrategyType.RAG_Q: 'rag_q'>, prompt_type=<RagQPromptType.V6: 'rq_v6'>, relevant_docs_count=1, doc_splitter_options=DocSplitterOptions(doc_splitter_type=<DocumentSplitterType.SPACY_SENTENCE_SPLITTER: 'spacy_sentence_splitter'>, token_count=1, add_title=False, chunk_size=None, chunk_overlap=None)),\n",
       " VQAStrategyDetail(country='spain', file_type='english', vqa_strategy_type=<VQAStrategyType.RAG_Q: 'rag_q'>, prompt_type=<RagQPromptType.V6: 'rq_v6'>, relevant_docs_count=2, doc_splitter_options=None),\n",
       " VQAStrategyDetail(country='spain', file_type='english', vqa_strategy_type=<VQAStrategyType.RAG_Q: 'rag_q'>, prompt_type=<RagQPromptType.V6: 'rq_v6'>, relevant_docs_count=2, doc_splitter_options=DocSplitterOptions(doc_splitter_type=<DocumentSplitterType.PARAGRAPH_SPLITTER: 'paragraph_splitter'>, token_count=1, add_title=False, chunk_size=None, chunk_overlap=None)),\n",
       " VQAStrategyDetail(country='spain', file_type='english', vqa_strategy_type=<VQAStrategyType.RAG_Q: 'rag_q'>, prompt_type=<RagQPromptType.V6: 'rq_v6'>, relevant_docs_count=2, doc_splitter_options=DocSplitterOptions(doc_splitter_type=<DocumentSplitterType.RECURSIVE_CHARACTER_SPLITTER: 'recursive_character_splitter'>, token_count=1, add_title=False, chunk_size=12, chunk_overlap=2)),\n",
       " VQAStrategyDetail(country='spain', file_type='english', vqa_strategy_type=<VQAStrategyType.RAG_Q: 'rag_q'>, prompt_type=<RagQPromptType.V6: 'rq_v6'>, relevant_docs_count=2, doc_splitter_options=DocSplitterOptions(doc_splitter_type=<DocumentSplitterType.RECURSIVE_CHARACTER_SPLITTER: 'recursive_character_splitter'>, token_count=1, add_title=False, chunk_size=12, chunk_overlap=6)),\n",
       " VQAStrategyDetail(country='spain', file_type='english', vqa_strategy_type=<VQAStrategyType.RAG_Q: 'rag_q'>, prompt_type=<RagQPromptType.V6: 'rq_v6'>, relevant_docs_count=2, doc_splitter_options=DocSplitterOptions(doc_splitter_type=<DocumentSplitterType.RECURSIVE_CHARACTER_SPLITTER: 'recursive_character_splitter'>, token_count=1, add_title=False, chunk_size=24, chunk_overlap=2)),\n",
       " VQAStrategyDetail(country='spain', file_type='english', vqa_strategy_type=<VQAStrategyType.RAG_Q: 'rag_q'>, prompt_type=<RagQPromptType.V6: 'rq_v6'>, relevant_docs_count=2, doc_splitter_options=DocSplitterOptions(doc_splitter_type=<DocumentSplitterType.RECURSIVE_CHARACTER_SPLITTER: 'recursive_character_splitter'>, token_count=1, add_title=False, chunk_size=24, chunk_overlap=6)),\n",
       " VQAStrategyDetail(country='spain', file_type='english', vqa_strategy_type=<VQAStrategyType.RAG_Q: 'rag_q'>, prompt_type=<RagQPromptType.V6: 'rq_v6'>, relevant_docs_count=2, doc_splitter_options=DocSplitterOptions(doc_splitter_type=<DocumentSplitterType.SPACY_SENTENCE_SPLITTER: 'spacy_sentence_splitter'>, token_count=1, add_title=False, chunk_size=None, chunk_overlap=None)),\n",
       " VQAStrategyDetail(country='spain', file_type='english', vqa_strategy_type=<VQAStrategyType.RAG_Q: 'rag_q'>, prompt_type=<RagQPromptType.V6: 'rq_v6'>, relevant_docs_count=3, doc_splitter_options=None),\n",
       " VQAStrategyDetail(country='spain', file_type='english', vqa_strategy_type=<VQAStrategyType.RAG_Q: 'rag_q'>, prompt_type=<RagQPromptType.V6: 'rq_v6'>, relevant_docs_count=3, doc_splitter_options=DocSplitterOptions(doc_splitter_type=<DocumentSplitterType.PARAGRAPH_SPLITTER: 'paragraph_splitter'>, token_count=1, add_title=False, chunk_size=None, chunk_overlap=None)),\n",
       " VQAStrategyDetail(country='spain', file_type='english', vqa_strategy_type=<VQAStrategyType.RAG_Q: 'rag_q'>, prompt_type=<RagQPromptType.V6: 'rq_v6'>, relevant_docs_count=3, doc_splitter_options=DocSplitterOptions(doc_splitter_type=<DocumentSplitterType.RECURSIVE_CHARACTER_SPLITTER: 'recursive_character_splitter'>, token_count=1, add_title=False, chunk_size=12, chunk_overlap=2)),\n",
       " VQAStrategyDetail(country='spain', file_type='english', vqa_strategy_type=<VQAStrategyType.RAG_Q: 'rag_q'>, prompt_type=<RagQPromptType.V6: 'rq_v6'>, relevant_docs_count=3, doc_splitter_options=DocSplitterOptions(doc_splitter_type=<DocumentSplitterType.RECURSIVE_CHARACTER_SPLITTER: 'recursive_character_splitter'>, token_count=1, add_title=False, chunk_size=12, chunk_overlap=6)),\n",
       " VQAStrategyDetail(country='spain', file_type='english', vqa_strategy_type=<VQAStrategyType.RAG_Q: 'rag_q'>, prompt_type=<RagQPromptType.V6: 'rq_v6'>, relevant_docs_count=3, doc_splitter_options=DocSplitterOptions(doc_splitter_type=<DocumentSplitterType.RECURSIVE_CHARACTER_SPLITTER: 'recursive_character_splitter'>, token_count=1, add_title=False, chunk_size=24, chunk_overlap=2)),\n",
       " VQAStrategyDetail(country='spain', file_type='english', vqa_strategy_type=<VQAStrategyType.RAG_Q: 'rag_q'>, prompt_type=<RagQPromptType.V6: 'rq_v6'>, relevant_docs_count=3, doc_splitter_options=DocSplitterOptions(doc_splitter_type=<DocumentSplitterType.RECURSIVE_CHARACTER_SPLITTER: 'recursive_character_splitter'>, token_count=1, add_title=False, chunk_size=24, chunk_overlap=6)),\n",
       " VQAStrategyDetail(country='spain', file_type='english', vqa_strategy_type=<VQAStrategyType.RAG_Q: 'rag_q'>, prompt_type=<RagQPromptType.V6: 'rq_v6'>, relevant_docs_count=3, doc_splitter_options=DocSplitterOptions(doc_splitter_type=<DocumentSplitterType.SPACY_SENTENCE_SPLITTER: 'spacy_sentence_splitter'>, token_count=1, add_title=False, chunk_size=None, chunk_overlap=None))]"
      ]
     },
     "execution_count": 16,
     "metadata": {},
     "output_type": "execute_result"
    }
   ],
   "source": [
    "a = GeneralVQAStrategiesDetails(\n",
    "    countries=[\"spain\"],\n",
    "    file_types=[\"english\"],\n",
    "    vqa_strategy_types=[VQAStrategyType.ZERO_SHOT, VQAStrategyType.RAG_Q],\n",
    "    prompt_types=list(RagQPromptType) + list(ZeroShotPromptType),\n",
    "    relevant_docs_count=[None, 1, 2, 3],\n",
    "    doc_splitter_options=[\n",
    "        None,\n",
    "        GeneralDocSplitterOptions(\n",
    "            doc_splitter_types=[DocumentSplitterType.PARAGRAPH_SPLITTER, DocumentSplitterType.RECURSIVE_CHARACTER_SPLITTER, DocumentSplitterType.SPACY_SENTENCE_SPLITTER],\n",
    "            token_counts=[1],\n",
    "            add_titles=[False],\n",
    "            chunk_sizes=[None, 12, 24],\n",
    "            chunk_overlaps=[None, 2, 6]\n",
    "        )\n",
    "    ]\n",
    ")\n",
    "a.get_possible_vqa_strategy_details()"
   ]
  },
  {
   "cell_type": "code",
   "execution_count": 18,
   "metadata": {},
   "outputs": [
    {
     "name": "stdout",
     "output_type": "stream",
     "text": [
      "1 --> VQAStrategyDetail(country='spain', file_type='english', vqa_strategy_type=<VQAStrategyType.RAG_Q: 'rag_q'>, prompt_type=<RagQPromptType.V1: 'rq_v1'>, relevant_docs_count=1, doc_splitter_options=DocSplitterOptions(doc_splitter_type=<DocumentSplitterType.SPACY_SENTENCE_SPLITTER: 'spacy_sentence_splitter'>, token_count=1, add_title=False, chunk_size=None, chunk_overlap=None))\n",
      "2 --> VQAStrategyDetail(country='spain', file_type='english', vqa_strategy_type=<VQAStrategyType.RAG_Q: 'rag_q'>, prompt_type=<RagQPromptType.V1: 'rq_v1'>, relevant_docs_count=1, doc_splitter_options=DocSplitterOptions(doc_splitter_type=<DocumentSplitterType.SPACY_SENTENCE_SPLITTER: 'spacy_sentence_splitter'>, token_count=2, add_title=False, chunk_size=None, chunk_overlap=None))\n",
      "3 --> VQAStrategyDetail(country='spain', file_type='english', vqa_strategy_type=<VQAStrategyType.RAG_Q: 'rag_q'>, prompt_type=<RagQPromptType.V1: 'rq_v1'>, relevant_docs_count=1, doc_splitter_options=DocSplitterOptions(doc_splitter_type=<DocumentSplitterType.SPACY_SENTENCE_SPLITTER: 'spacy_sentence_splitter'>, token_count=3, add_title=False, chunk_size=None, chunk_overlap=None))\n",
      "4 --> VQAStrategyDetail(country='spain', file_type='english', vqa_strategy_type=<VQAStrategyType.RAG_Q: 'rag_q'>, prompt_type=<RagQPromptType.V1: 'rq_v1'>, relevant_docs_count=1, doc_splitter_options=DocSplitterOptions(doc_splitter_type=<DocumentSplitterType.SPACY_SENTENCE_SPLITTER: 'spacy_sentence_splitter'>, token_count=4, add_title=False, chunk_size=None, chunk_overlap=None))\n",
      "5 --> VQAStrategyDetail(country='spain', file_type='english', vqa_strategy_type=<VQAStrategyType.RAG_Q: 'rag_q'>, prompt_type=<RagQPromptType.V1: 'rq_v1'>, relevant_docs_count=1, doc_splitter_options=DocSplitterOptions(doc_splitter_type=<DocumentSplitterType.SPACY_SENTENCE_SPLITTER: 'spacy_sentence_splitter'>, token_count=5, add_title=False, chunk_size=None, chunk_overlap=None))\n",
      "6 --> VQAStrategyDetail(country='spain', file_type='english', vqa_strategy_type=<VQAStrategyType.RAG_Q: 'rag_q'>, prompt_type=<RagQPromptType.V2: 'rq_v2'>, relevant_docs_count=1, doc_splitter_options=DocSplitterOptions(doc_splitter_type=<DocumentSplitterType.SPACY_SENTENCE_SPLITTER: 'spacy_sentence_splitter'>, token_count=1, add_title=False, chunk_size=None, chunk_overlap=None))\n",
      "7 --> VQAStrategyDetail(country='spain', file_type='english', vqa_strategy_type=<VQAStrategyType.RAG_Q: 'rag_q'>, prompt_type=<RagQPromptType.V2: 'rq_v2'>, relevant_docs_count=1, doc_splitter_options=DocSplitterOptions(doc_splitter_type=<DocumentSplitterType.SPACY_SENTENCE_SPLITTER: 'spacy_sentence_splitter'>, token_count=2, add_title=False, chunk_size=None, chunk_overlap=None))\n",
      "8 --> VQAStrategyDetail(country='spain', file_type='english', vqa_strategy_type=<VQAStrategyType.RAG_Q: 'rag_q'>, prompt_type=<RagQPromptType.V2: 'rq_v2'>, relevant_docs_count=1, doc_splitter_options=DocSplitterOptions(doc_splitter_type=<DocumentSplitterType.SPACY_SENTENCE_SPLITTER: 'spacy_sentence_splitter'>, token_count=3, add_title=False, chunk_size=None, chunk_overlap=None))\n",
      "9 --> VQAStrategyDetail(country='spain', file_type='english', vqa_strategy_type=<VQAStrategyType.RAG_Q: 'rag_q'>, prompt_type=<RagQPromptType.V2: 'rq_v2'>, relevant_docs_count=1, doc_splitter_options=DocSplitterOptions(doc_splitter_type=<DocumentSplitterType.SPACY_SENTENCE_SPLITTER: 'spacy_sentence_splitter'>, token_count=4, add_title=False, chunk_size=None, chunk_overlap=None))\n",
      "10 --> VQAStrategyDetail(country='spain', file_type='english', vqa_strategy_type=<VQAStrategyType.RAG_Q: 'rag_q'>, prompt_type=<RagQPromptType.V2: 'rq_v2'>, relevant_docs_count=1, doc_splitter_options=DocSplitterOptions(doc_splitter_type=<DocumentSplitterType.SPACY_SENTENCE_SPLITTER: 'spacy_sentence_splitter'>, token_count=5, add_title=False, chunk_size=None, chunk_overlap=None))\n",
      "11 --> VQAStrategyDetail(country='spain', file_type='english', vqa_strategy_type=<VQAStrategyType.RAG_Q: 'rag_q'>, prompt_type=<RagQPromptType.V3: 'rq_v3'>, relevant_docs_count=1, doc_splitter_options=DocSplitterOptions(doc_splitter_type=<DocumentSplitterType.SPACY_SENTENCE_SPLITTER: 'spacy_sentence_splitter'>, token_count=1, add_title=False, chunk_size=None, chunk_overlap=None))\n",
      "12 --> VQAStrategyDetail(country='spain', file_type='english', vqa_strategy_type=<VQAStrategyType.RAG_Q: 'rag_q'>, prompt_type=<RagQPromptType.V3: 'rq_v3'>, relevant_docs_count=1, doc_splitter_options=DocSplitterOptions(doc_splitter_type=<DocumentSplitterType.SPACY_SENTENCE_SPLITTER: 'spacy_sentence_splitter'>, token_count=2, add_title=False, chunk_size=None, chunk_overlap=None))\n",
      "13 --> VQAStrategyDetail(country='spain', file_type='english', vqa_strategy_type=<VQAStrategyType.RAG_Q: 'rag_q'>, prompt_type=<RagQPromptType.V3: 'rq_v3'>, relevant_docs_count=1, doc_splitter_options=DocSplitterOptions(doc_splitter_type=<DocumentSplitterType.SPACY_SENTENCE_SPLITTER: 'spacy_sentence_splitter'>, token_count=3, add_title=False, chunk_size=None, chunk_overlap=None))\n",
      "14 --> VQAStrategyDetail(country='spain', file_type='english', vqa_strategy_type=<VQAStrategyType.RAG_Q: 'rag_q'>, prompt_type=<RagQPromptType.V3: 'rq_v3'>, relevant_docs_count=1, doc_splitter_options=DocSplitterOptions(doc_splitter_type=<DocumentSplitterType.SPACY_SENTENCE_SPLITTER: 'spacy_sentence_splitter'>, token_count=4, add_title=False, chunk_size=None, chunk_overlap=None))\n",
      "15 --> VQAStrategyDetail(country='spain', file_type='english', vqa_strategy_type=<VQAStrategyType.RAG_Q: 'rag_q'>, prompt_type=<RagQPromptType.V3: 'rq_v3'>, relevant_docs_count=1, doc_splitter_options=DocSplitterOptions(doc_splitter_type=<DocumentSplitterType.SPACY_SENTENCE_SPLITTER: 'spacy_sentence_splitter'>, token_count=5, add_title=False, chunk_size=None, chunk_overlap=None))\n",
      "16 --> VQAStrategyDetail(country='spain', file_type='english', vqa_strategy_type=<VQAStrategyType.RAG_Q: 'rag_q'>, prompt_type=<RagQPromptType.V4: 'rq_v4'>, relevant_docs_count=1, doc_splitter_options=DocSplitterOptions(doc_splitter_type=<DocumentSplitterType.SPACY_SENTENCE_SPLITTER: 'spacy_sentence_splitter'>, token_count=1, add_title=False, chunk_size=None, chunk_overlap=None))\n",
      "17 --> VQAStrategyDetail(country='spain', file_type='english', vqa_strategy_type=<VQAStrategyType.RAG_Q: 'rag_q'>, prompt_type=<RagQPromptType.V4: 'rq_v4'>, relevant_docs_count=1, doc_splitter_options=DocSplitterOptions(doc_splitter_type=<DocumentSplitterType.SPACY_SENTENCE_SPLITTER: 'spacy_sentence_splitter'>, token_count=2, add_title=False, chunk_size=None, chunk_overlap=None))\n",
      "18 --> VQAStrategyDetail(country='spain', file_type='english', vqa_strategy_type=<VQAStrategyType.RAG_Q: 'rag_q'>, prompt_type=<RagQPromptType.V4: 'rq_v4'>, relevant_docs_count=1, doc_splitter_options=DocSplitterOptions(doc_splitter_type=<DocumentSplitterType.SPACY_SENTENCE_SPLITTER: 'spacy_sentence_splitter'>, token_count=3, add_title=False, chunk_size=None, chunk_overlap=None))\n",
      "19 --> VQAStrategyDetail(country='spain', file_type='english', vqa_strategy_type=<VQAStrategyType.RAG_Q: 'rag_q'>, prompt_type=<RagQPromptType.V4: 'rq_v4'>, relevant_docs_count=1, doc_splitter_options=DocSplitterOptions(doc_splitter_type=<DocumentSplitterType.SPACY_SENTENCE_SPLITTER: 'spacy_sentence_splitter'>, token_count=4, add_title=False, chunk_size=None, chunk_overlap=None))\n",
      "20 --> VQAStrategyDetail(country='spain', file_type='english', vqa_strategy_type=<VQAStrategyType.RAG_Q: 'rag_q'>, prompt_type=<RagQPromptType.V4: 'rq_v4'>, relevant_docs_count=1, doc_splitter_options=DocSplitterOptions(doc_splitter_type=<DocumentSplitterType.SPACY_SENTENCE_SPLITTER: 'spacy_sentence_splitter'>, token_count=5, add_title=False, chunk_size=None, chunk_overlap=None))\n",
      "21 --> VQAStrategyDetail(country='spain', file_type='english', vqa_strategy_type=<VQAStrategyType.RAG_Q: 'rag_q'>, prompt_type=<RagQPromptType.V5: 'rq_v5'>, relevant_docs_count=1, doc_splitter_options=DocSplitterOptions(doc_splitter_type=<DocumentSplitterType.SPACY_SENTENCE_SPLITTER: 'spacy_sentence_splitter'>, token_count=1, add_title=False, chunk_size=None, chunk_overlap=None))\n",
      "22 --> VQAStrategyDetail(country='spain', file_type='english', vqa_strategy_type=<VQAStrategyType.RAG_Q: 'rag_q'>, prompt_type=<RagQPromptType.V5: 'rq_v5'>, relevant_docs_count=1, doc_splitter_options=DocSplitterOptions(doc_splitter_type=<DocumentSplitterType.SPACY_SENTENCE_SPLITTER: 'spacy_sentence_splitter'>, token_count=2, add_title=False, chunk_size=None, chunk_overlap=None))\n",
      "23 --> VQAStrategyDetail(country='spain', file_type='english', vqa_strategy_type=<VQAStrategyType.RAG_Q: 'rag_q'>, prompt_type=<RagQPromptType.V5: 'rq_v5'>, relevant_docs_count=1, doc_splitter_options=DocSplitterOptions(doc_splitter_type=<DocumentSplitterType.SPACY_SENTENCE_SPLITTER: 'spacy_sentence_splitter'>, token_count=3, add_title=False, chunk_size=None, chunk_overlap=None))\n",
      "24 --> VQAStrategyDetail(country='spain', file_type='english', vqa_strategy_type=<VQAStrategyType.RAG_Q: 'rag_q'>, prompt_type=<RagQPromptType.V5: 'rq_v5'>, relevant_docs_count=1, doc_splitter_options=DocSplitterOptions(doc_splitter_type=<DocumentSplitterType.SPACY_SENTENCE_SPLITTER: 'spacy_sentence_splitter'>, token_count=4, add_title=False, chunk_size=None, chunk_overlap=None))\n",
      "25 --> VQAStrategyDetail(country='spain', file_type='english', vqa_strategy_type=<VQAStrategyType.RAG_Q: 'rag_q'>, prompt_type=<RagQPromptType.V5: 'rq_v5'>, relevant_docs_count=1, doc_splitter_options=DocSplitterOptions(doc_splitter_type=<DocumentSplitterType.SPACY_SENTENCE_SPLITTER: 'spacy_sentence_splitter'>, token_count=5, add_title=False, chunk_size=None, chunk_overlap=None))\n",
      "26 --> VQAStrategyDetail(country='spain', file_type='english', vqa_strategy_type=<VQAStrategyType.RAG_Q: 'rag_q'>, prompt_type=<RagQPromptType.V6: 'rq_v6'>, relevant_docs_count=1, doc_splitter_options=DocSplitterOptions(doc_splitter_type=<DocumentSplitterType.SPACY_SENTENCE_SPLITTER: 'spacy_sentence_splitter'>, token_count=1, add_title=False, chunk_size=None, chunk_overlap=None))\n",
      "27 --> VQAStrategyDetail(country='spain', file_type='english', vqa_strategy_type=<VQAStrategyType.RAG_Q: 'rag_q'>, prompt_type=<RagQPromptType.V6: 'rq_v6'>, relevant_docs_count=1, doc_splitter_options=DocSplitterOptions(doc_splitter_type=<DocumentSplitterType.SPACY_SENTENCE_SPLITTER: 'spacy_sentence_splitter'>, token_count=2, add_title=False, chunk_size=None, chunk_overlap=None))\n",
      "28 --> VQAStrategyDetail(country='spain', file_type='english', vqa_strategy_type=<VQAStrategyType.RAG_Q: 'rag_q'>, prompt_type=<RagQPromptType.V6: 'rq_v6'>, relevant_docs_count=1, doc_splitter_options=DocSplitterOptions(doc_splitter_type=<DocumentSplitterType.SPACY_SENTENCE_SPLITTER: 'spacy_sentence_splitter'>, token_count=3, add_title=False, chunk_size=None, chunk_overlap=None))\n",
      "29 --> VQAStrategyDetail(country='spain', file_type='english', vqa_strategy_type=<VQAStrategyType.RAG_Q: 'rag_q'>, prompt_type=<RagQPromptType.V6: 'rq_v6'>, relevant_docs_count=1, doc_splitter_options=DocSplitterOptions(doc_splitter_type=<DocumentSplitterType.SPACY_SENTENCE_SPLITTER: 'spacy_sentence_splitter'>, token_count=4, add_title=False, chunk_size=None, chunk_overlap=None))\n",
      "30 --> VQAStrategyDetail(country='spain', file_type='english', vqa_strategy_type=<VQAStrategyType.RAG_Q: 'rag_q'>, prompt_type=<RagQPromptType.V6: 'rq_v6'>, relevant_docs_count=1, doc_splitter_options=DocSplitterOptions(doc_splitter_type=<DocumentSplitterType.SPACY_SENTENCE_SPLITTER: 'spacy_sentence_splitter'>, token_count=5, add_title=False, chunk_size=None, chunk_overlap=None))\n"
     ]
    },
    {
     "ename": "FileNotFoundError",
     "evalue": "[Errno 2] No such file or directory: 'evaluation_results/rag_q/rdc1/spacy_sent_splitting/tc1_no_title/spain_english_rq_v1_evaluation.json'",
     "output_type": "error",
     "traceback": [
      "\u001b[0;31m---------------------------------------------------------------------------\u001b[0m",
      "\u001b[0;31mFileNotFoundError\u001b[0m                         Traceback (most recent call last)",
      "Cell \u001b[0;32mIn[18], line 1\u001b[0m\n\u001b[0;32m----> 1\u001b[0m evaluation_results \u001b[38;5;241m=\u001b[39m \u001b[43mworld_med_qa_v_dataset_management\u001b[49m\u001b[38;5;241;43m.\u001b[39;49m\u001b[43mload_evaluation_results\u001b[49m\u001b[43m(\u001b[49m\n\u001b[1;32m      2\u001b[0m \u001b[43m    \u001b[49m\u001b[43mevaluation_results_folder\u001b[49m\u001b[38;5;241;43m=\u001b[39;49m\u001b[43mRESULTS_DIR\u001b[49m\u001b[43m,\u001b[49m\n\u001b[1;32m      3\u001b[0m \u001b[43m    \u001b[49m\u001b[43mvqa_strategy_details\u001b[49m\u001b[38;5;241;43m=\u001b[39;49m\u001b[43mGeneralVQAStrategiesDetails\u001b[49m\u001b[43m(\u001b[49m\n\u001b[1;32m      4\u001b[0m \u001b[43m        \u001b[49m\u001b[43mcountries\u001b[49m\u001b[38;5;241;43m=\u001b[39;49m\u001b[43m[\u001b[49m\u001b[38;5;124;43m\"\u001b[39;49m\u001b[38;5;124;43mspain\u001b[39;49m\u001b[38;5;124;43m\"\u001b[39;49m\u001b[43m]\u001b[49m\u001b[43m,\u001b[49m\n\u001b[1;32m      5\u001b[0m \u001b[43m        \u001b[49m\u001b[43mfile_types\u001b[49m\u001b[38;5;241;43m=\u001b[39;49m\u001b[43m[\u001b[49m\u001b[38;5;124;43m\"\u001b[39;49m\u001b[38;5;124;43menglish\u001b[39;49m\u001b[38;5;124;43m\"\u001b[39;49m\u001b[43m]\u001b[49m\u001b[43m,\u001b[49m\n\u001b[1;32m      6\u001b[0m \u001b[43m        \u001b[49m\u001b[43mvqa_strategy_types\u001b[49m\u001b[38;5;241;43m=\u001b[39;49m\u001b[43m[\u001b[49m\u001b[43mVQAStrategyType\u001b[49m\u001b[38;5;241;43m.\u001b[39;49m\u001b[43mRAG_Q\u001b[49m\u001b[43m]\u001b[49m\u001b[43m,\u001b[49m\n\u001b[1;32m      7\u001b[0m \u001b[43m        \u001b[49m\u001b[43mprompt_types\u001b[49m\u001b[38;5;241;43m=\u001b[39;49m\u001b[38;5;28;43mlist\u001b[39;49m\u001b[43m(\u001b[49m\u001b[43mRagQPromptType\u001b[49m\u001b[43m)\u001b[49m\u001b[43m,\u001b[49m\n\u001b[1;32m      8\u001b[0m \u001b[43m        \u001b[49m\u001b[43mrelevant_docs_count\u001b[49m\u001b[38;5;241;43m=\u001b[39;49m\u001b[43m[\u001b[49m\u001b[38;5;241;43m1\u001b[39;49m\u001b[43m]\u001b[49m\u001b[43m,\u001b[49m\n\u001b[1;32m      9\u001b[0m \u001b[43m        \u001b[49m\u001b[43mdoc_splitter_options\u001b[49m\u001b[38;5;241;43m=\u001b[39;49m\u001b[43m[\u001b[49m\n\u001b[1;32m     10\u001b[0m \u001b[43m            \u001b[49m\u001b[43mGeneralDocSplitterOptions\u001b[49m\u001b[43m(\u001b[49m\n\u001b[1;32m     11\u001b[0m \u001b[43m                \u001b[49m\u001b[43mdoc_splitter_types\u001b[49m\u001b[38;5;241;43m=\u001b[39;49m\u001b[43m[\u001b[49m\u001b[43mDocumentSplitterType\u001b[49m\u001b[38;5;241;43m.\u001b[39;49m\u001b[43mSPACY_SENTENCE_SPLITTER\u001b[49m\u001b[43m]\u001b[49m\u001b[43m,\u001b[49m\n\u001b[1;32m     12\u001b[0m \u001b[43m                \u001b[49m\u001b[43madd_titles\u001b[49m\u001b[38;5;241;43m=\u001b[39;49m\u001b[43m[\u001b[49m\u001b[38;5;28;43;01mFalse\u001b[39;49;00m\u001b[43m]\u001b[49m\u001b[43m,\u001b[49m\n\u001b[1;32m     13\u001b[0m \u001b[43m                \u001b[49m\u001b[43mtoken_counts\u001b[49m\u001b[38;5;241;43m=\u001b[39;49m\u001b[43m[\u001b[49m\u001b[38;5;241;43m1\u001b[39;49m\u001b[43m,\u001b[49m\u001b[43m \u001b[49m\u001b[38;5;241;43m2\u001b[39;49m\u001b[43m,\u001b[49m\u001b[43m \u001b[49m\u001b[38;5;241;43m3\u001b[39;49m\u001b[43m,\u001b[49m\u001b[43m \u001b[49m\u001b[38;5;241;43m4\u001b[39;49m\u001b[43m,\u001b[49m\u001b[43m \u001b[49m\u001b[38;5;241;43m5\u001b[39;49m\u001b[43m]\u001b[49m\u001b[43m,\u001b[49m\n\u001b[1;32m     14\u001b[0m \u001b[43m                \u001b[49m\u001b[43mchunk_sizes\u001b[49m\u001b[38;5;241;43m=\u001b[39;49m\u001b[43m[\u001b[49m\u001b[38;5;28;43;01mNone\u001b[39;49;00m\u001b[43m]\u001b[49m\u001b[43m,\u001b[49m\n\u001b[1;32m     15\u001b[0m \u001b[43m                \u001b[49m\u001b[43mchunk_overlaps\u001b[49m\u001b[38;5;241;43m=\u001b[39;49m\u001b[43m[\u001b[49m\u001b[38;5;28;43;01mNone\u001b[39;49;00m\u001b[43m]\u001b[49m\n\u001b[1;32m     16\u001b[0m \u001b[43m            \u001b[49m\u001b[43m)\u001b[49m\n\u001b[1;32m     17\u001b[0m \u001b[43m        \u001b[49m\u001b[43m]\u001b[49m\n\u001b[1;32m     18\u001b[0m \u001b[43m    \u001b[49m\u001b[43m)\u001b[49m\u001b[38;5;241;43m.\u001b[39;49m\u001b[43mget_possible_vqa_strategy_details\u001b[49m\u001b[43m(\u001b[49m\u001b[43m)\u001b[49m\n\u001b[1;32m     19\u001b[0m \u001b[43m)\u001b[49m\n\u001b[1;32m     20\u001b[0m evaluation_results\n",
      "File \u001b[0;32m~/Documents/TFM/world-med-visual-qa/src/utils/dataset_helpers/world_med_qa_v/dataset_management.py:67\u001b[0m, in \u001b[0;36mload_evaluation_results\u001b[0;34m(evaluation_results_folder, vqa_strategy_details)\u001b[0m\n\u001b[1;32m     63\u001b[0m \u001b[38;5;28;01mfor\u001b[39;00m detail \u001b[38;5;129;01min\u001b[39;00m vqa_strategy_details:\n\u001b[1;32m     64\u001b[0m     evaluation_results_filepath \u001b[38;5;241m=\u001b[39m detail\u001b[38;5;241m.\u001b[39mgenerate_evaluation_results_filepath(\n\u001b[1;32m     65\u001b[0m         evaluation_results_folder\u001b[38;5;241m=\u001b[39mevaluation_results_folder\n\u001b[1;32m     66\u001b[0m     )\n\u001b[0;32m---> 67\u001b[0m     evaluation_metrics \u001b[38;5;241m=\u001b[39m \u001b[43m__load_evaluation_result_from_filepath\u001b[49m\u001b[43m(\u001b[49m\u001b[43mevaluation_results_filepath\u001b[49m\u001b[43m)\u001b[49m\n\u001b[1;32m     68\u001b[0m     evaluation_results\u001b[38;5;241m.\u001b[39mappend({\n\u001b[1;32m     69\u001b[0m         \u001b[38;5;124m\"\u001b[39m\u001b[38;5;124mcountry\u001b[39m\u001b[38;5;124m\"\u001b[39m: detail\u001b[38;5;241m.\u001b[39mcountry,\n\u001b[1;32m     70\u001b[0m         \u001b[38;5;124m\"\u001b[39m\u001b[38;5;124mfile_type\u001b[39m\u001b[38;5;124m\"\u001b[39m: detail\u001b[38;5;241m.\u001b[39mfile_type,\n\u001b[0;32m   (...)\u001b[0m\n\u001b[1;32m     91\u001b[0m         \u001b[38;5;124m\"\u001b[39m\u001b[38;5;124mwell_formatted_answers\u001b[39m\u001b[38;5;124m\"\u001b[39m: evaluation_metrics[\u001b[38;5;124m'\u001b[39m\u001b[38;5;124mpercentage_well_formatted\u001b[39m\u001b[38;5;124m'\u001b[39m]            \n\u001b[1;32m     92\u001b[0m     })\n\u001b[1;32m     94\u001b[0m \u001b[38;5;28;01mreturn\u001b[39;00m pd\u001b[38;5;241m.\u001b[39mDataFrame(evaluation_results)\n",
      "File \u001b[0;32m~/Documents/TFM/world-med-visual-qa/src/utils/dataset_helpers/world_med_qa_v/dataset_management.py:105\u001b[0m, in \u001b[0;36m__load_evaluation_result_from_filepath\u001b[0;34m(evaluation_results_filepath)\u001b[0m\n\u001b[1;32m    102\u001b[0m \u001b[38;5;28;01mdef\u001b[39;00m \u001b[38;5;21m__load_evaluation_result_from_filepath\u001b[39m(\n\u001b[1;32m    103\u001b[0m     evaluation_results_filepath: Path\n\u001b[1;32m    104\u001b[0m ) \u001b[38;5;241m-\u001b[39m\u001b[38;5;241m>\u001b[39m \u001b[38;5;28mdict\u001b[39m:\n\u001b[0;32m--> 105\u001b[0m     \u001b[38;5;28;01mwith\u001b[39;00m \u001b[38;5;28;43mopen\u001b[39;49m\u001b[43m(\u001b[49m\u001b[43mfile\u001b[49m\u001b[38;5;241;43m=\u001b[39;49m\u001b[43mevaluation_results_filepath\u001b[49m\u001b[43m,\u001b[49m\u001b[43m \u001b[49m\u001b[43mmode\u001b[49m\u001b[38;5;241;43m=\u001b[39;49m\u001b[38;5;124;43m'\u001b[39;49m\u001b[38;5;124;43mr\u001b[39;49m\u001b[38;5;124;43m'\u001b[39;49m\u001b[43m,\u001b[49m\u001b[43m \u001b[49m\u001b[43mencoding\u001b[49m\u001b[38;5;241;43m=\u001b[39;49m\u001b[38;5;124;43m'\u001b[39;49m\u001b[38;5;124;43mutf-8\u001b[39;49m\u001b[38;5;124;43m'\u001b[39;49m\u001b[43m)\u001b[49m \u001b[38;5;28;01mas\u001b[39;00m evaluation_file:\n\u001b[1;32m    106\u001b[0m         evaluation_data \u001b[38;5;241m=\u001b[39m json\u001b[38;5;241m.\u001b[39mload(evaluation_file)\n\u001b[1;32m    108\u001b[0m     \u001b[38;5;28;01mreturn\u001b[39;00m evaluation_data\n",
      "\u001b[0;31mFileNotFoundError\u001b[0m: [Errno 2] No such file or directory: 'evaluation_results/rag_q/rdc1/spacy_sent_splitting/tc1_no_title/spain_english_rq_v1_evaluation.json'"
     ]
    }
   ],
   "source": [
    "evaluation_results = world_med_qa_v_dataset_management.load_evaluation_results(\n",
    "    evaluation_results_folder=RESULTS_DIR,\n",
    "    vqa_strategy_details=GeneralVQAStrategiesDetails(\n",
    "        countries=[\"spain\"],\n",
    "        file_types=[\"english\"],\n",
    "        vqa_strategy_types=[VQAStrategyType.RAG_Q],\n",
    "        prompt_types=list(RagQPromptType),\n",
    "        relevant_docs_count=[1],\n",
    "        doc_splitter_options=[\n",
    "            GeneralDocSplitterOptions(\n",
    "                doc_splitter_types=[DocumentSplitterType.SPACY_SENTENCE_SPLITTER],\n",
    "                add_titles=[False],\n",
    "                token_counts=[1, 2, 3, 4, 5],\n",
    "                chunk_sizes=[None],\n",
    "                chunk_overlaps=[None]\n",
    "            )\n",
    "        ]\n",
    "    ).get_possible_vqa_strategy_details()\n",
    ")\n",
    "evaluation_results"
   ]
  },
  {
   "cell_type": "code",
   "execution_count": 79,
   "metadata": {},
   "outputs": [],
   "source": [
    "# evaluation_results = world_med_qa_v_dataset_management.load_evaluation_results(\n",
    "#     evaluation_results_folder=RESULTS_DIR,\n",
    "#     vqa_strategy_details=[\n",
    "#         VQAStrategyDetail(\n",
    "#             country=\"spain\",\n",
    "#             file_type=\"english\",\n",
    "#             vqa_strategy_type=VQAStrategyType.RAG_Q,\n",
    "#             prompt_type=RagQPromptType.V1,\n",
    "#             relevant_docs_count=1,\n",
    "#             doc_splitter_options=DocSplitterOptions(\n",
    "#                 doc_splitter_type=DocumentSplitterType.SPACY_SENTENCE_SPLITTER,\n",
    "#                 add_title=False,\n",
    "#                 token_count=1\n",
    "#             )\n",
    "#         ),\n",
    "#         VQAStrategyDetail(\n",
    "#             country=\"spain\",\n",
    "#             file_type=\"english\",\n",
    "#             vqa_strategy_type=VQAStrategyType.RAG_Q,\n",
    "#             prompt_type=RagQPromptType.V2,\n",
    "#             relevant_docs_count=1,\n",
    "#             doc_splitter_options=DocSplitterOptions(\n",
    "#                 doc_splitter_type=DocumentSplitterType.SPACY_SENTENCE_SPLITTER,\n",
    "#                 add_title=False,\n",
    "#                 token_count=1\n",
    "#             )\n",
    "#         ),\n",
    "#         VQAStrategyDetail(\n",
    "#             country=\"spain\",\n",
    "#             file_type=\"english\",\n",
    "#             vqa_strategy_type=VQAStrategyType.RAG_Q,\n",
    "#             prompt_type=RagQPromptType.V3,\n",
    "#             relevant_docs_count=1,\n",
    "#             doc_splitter_options=DocSplitterOptions(\n",
    "#                 doc_splitter_type=DocumentSplitterType.SPACY_SENTENCE_SPLITTER,\n",
    "#                 add_title=False,\n",
    "#                 token_count=1\n",
    "#             )\n",
    "#         ),\n",
    "#         VQAStrategyDetail(\n",
    "#             country=\"spain\",\n",
    "#             file_type=\"english\",\n",
    "#             vqa_strategy_type=VQAStrategyType.RAG_Q,\n",
    "#             prompt_type=RagQPromptType.V4,\n",
    "#             relevant_docs_count=1,\n",
    "#             doc_splitter_options=DocSplitterOptions(\n",
    "#                 doc_splitter_type=DocumentSplitterType.SPACY_SENTENCE_SPLITTER,\n",
    "#                 add_title=False,\n",
    "#                 token_count=1\n",
    "#             )\n",
    "#         ),\n",
    "#         VQAStrategyDetail(\n",
    "#             country=\"spain\",\n",
    "#             file_type=\"english\",\n",
    "#             vqa_strategy_type=VQAStrategyType.RAG_Q,\n",
    "#             prompt_type=RagQPromptType.V5,\n",
    "#             relevant_docs_count=1,\n",
    "#             doc_splitter_options=DocSplitterOptions(\n",
    "#                 doc_splitter_type=DocumentSplitterType.SPACY_SENTENCE_SPLITTER,\n",
    "#                 add_title=False,\n",
    "#                 token_count=1\n",
    "#             )\n",
    "#         ),\n",
    "#         VQAStrategyDetail(\n",
    "#             country=\"spain\",\n",
    "#             file_type=\"english\",\n",
    "#             vqa_strategy_type=VQAStrategyType.RAG_Q,\n",
    "#             prompt_type=RagQPromptType.V6,\n",
    "#             relevant_docs_count=1,\n",
    "#             doc_splitter_options=DocSplitterOptions(\n",
    "#                 doc_splitter_type=DocumentSplitterType.SPACY_SENTENCE_SPLITTER,\n",
    "#                 add_title=False,\n",
    "#                 token_count=1\n",
    "#             )\n",
    "#         ),\n",
    "#         VQAStrategyDetail(\n",
    "#             country=\"spain\",\n",
    "#             file_type=\"english\",\n",
    "#             vqa_strategy_type=VQAStrategyType.RAG_Q,\n",
    "#             prompt_type=RagQPromptType.V1,\n",
    "#             relevant_docs_count=1,\n",
    "#             doc_splitter_options=DocSplitterOptions(\n",
    "#                 doc_splitter_type=DocumentSplitterType.SPACY_SENTENCE_SPLITTER,\n",
    "#                 add_title=False,\n",
    "#                 token_count=2\n",
    "#             )\n",
    "#         ),\n",
    "#         VQAStrategyDetail(\n",
    "#             country=\"spain\",\n",
    "#             file_type=\"english\",\n",
    "#             vqa_strategy_type=VQAStrategyType.RAG_Q,\n",
    "#             prompt_type=RagQPromptType.V2,\n",
    "#             relevant_docs_count=1,\n",
    "#             doc_splitter_options=DocSplitterOptions(\n",
    "#                 doc_splitter_type=DocumentSplitterType.SPACY_SENTENCE_SPLITTER,\n",
    "#                 add_title=False,\n",
    "#                 token_count=2\n",
    "#             )\n",
    "#         ),\n",
    "#         VQAStrategyDetail(\n",
    "#             country=\"spain\",\n",
    "#             file_type=\"english\",\n",
    "#             vqa_strategy_type=VQAStrategyType.RAG_Q,\n",
    "#             prompt_type=RagQPromptType.V3,\n",
    "#             relevant_docs_count=1,\n",
    "#             doc_splitter_options=DocSplitterOptions(\n",
    "#                 doc_splitter_type=DocumentSplitterType.SPACY_SENTENCE_SPLITTER,\n",
    "#                 add_title=False,\n",
    "#                 token_count=2\n",
    "#             )\n",
    "#         ),\n",
    "#         VQAStrategyDetail(\n",
    "#             country=\"spain\",\n",
    "#             file_type=\"english\",\n",
    "#             vqa_strategy_type=VQAStrategyType.RAG_Q,\n",
    "#             prompt_type=RagQPromptType.V4,\n",
    "#             relevant_docs_count=1,\n",
    "#             doc_splitter_options=DocSplitterOptions(\n",
    "#                 doc_splitter_type=DocumentSplitterType.SPACY_SENTENCE_SPLITTER,\n",
    "#                 add_title=False,\n",
    "#                 token_count=2\n",
    "#             )\n",
    "#         ),\n",
    "#         VQAStrategyDetail(\n",
    "#             country=\"spain\",\n",
    "#             file_type=\"english\",\n",
    "#             vqa_strategy_type=VQAStrategyType.RAG_Q,\n",
    "#             prompt_type=RagQPromptType.V5,\n",
    "#             relevant_docs_count=1,\n",
    "#             doc_splitter_options=DocSplitterOptions(\n",
    "#                 doc_splitter_type=DocumentSplitterType.SPACY_SENTENCE_SPLITTER,\n",
    "#                 add_title=False,\n",
    "#                 token_count=2\n",
    "#             )\n",
    "#         ),\n",
    "#         VQAStrategyDetail(\n",
    "#             country=\"spain\",\n",
    "#             file_type=\"english\",\n",
    "#             vqa_strategy_type=VQAStrategyType.RAG_Q,\n",
    "#             prompt_type=RagQPromptType.V6,\n",
    "#             relevant_docs_count=1,\n",
    "#             doc_splitter_options=DocSplitterOptions(\n",
    "#                 doc_splitter_type=DocumentSplitterType.SPACY_SENTENCE_SPLITTER,\n",
    "#                 add_title=False,\n",
    "#                 token_count=2\n",
    "#             )\n",
    "#         ),\n",
    "#         VQAStrategyDetail(\n",
    "#             country=\"spain\",\n",
    "#             file_type=\"english\",\n",
    "#             vqa_strategy_type=VQAStrategyType.RAG_Q,\n",
    "#             prompt_type=RagQPromptType.V1,\n",
    "#             relevant_docs_count=1,\n",
    "#             doc_splitter_options=DocSplitterOptions(\n",
    "#                 doc_splitter_type=DocumentSplitterType.SPACY_SENTENCE_SPLITTER,\n",
    "#                 add_title=False,\n",
    "#                 token_count=3\n",
    "#             )\n",
    "#         ),\n",
    "#         VQAStrategyDetail(\n",
    "#             country=\"spain\",\n",
    "#             file_type=\"english\",\n",
    "#             vqa_strategy_type=VQAStrategyType.RAG_Q,\n",
    "#             prompt_type=RagQPromptType.V2,\n",
    "#             relevant_docs_count=1,\n",
    "#             doc_splitter_options=DocSplitterOptions(\n",
    "#                 doc_splitter_type=DocumentSplitterType.SPACY_SENTENCE_SPLITTER,\n",
    "#                 add_title=False,\n",
    "#                 token_count=3\n",
    "#             )\n",
    "#         ),\n",
    "#         VQAStrategyDetail(\n",
    "#             country=\"spain\",\n",
    "#             file_type=\"english\",\n",
    "#             vqa_strategy_type=VQAStrategyType.RAG_Q,\n",
    "#             prompt_type=RagQPromptType.V3,\n",
    "#             relevant_docs_count=1,\n",
    "#             doc_splitter_options=DocSplitterOptions(\n",
    "#                 doc_splitter_type=DocumentSplitterType.SPACY_SENTENCE_SPLITTER,\n",
    "#                 add_title=False,\n",
    "#                 token_count=3\n",
    "#             )\n",
    "#         ),\n",
    "#         VQAStrategyDetail(\n",
    "#             country=\"spain\",\n",
    "#             file_type=\"english\",\n",
    "#             vqa_strategy_type=VQAStrategyType.RAG_Q,\n",
    "#             prompt_type=RagQPromptType.V4,\n",
    "#             relevant_docs_count=1,\n",
    "#             doc_splitter_options=DocSplitterOptions(\n",
    "#                 doc_splitter_type=DocumentSplitterType.SPACY_SENTENCE_SPLITTER,\n",
    "#                 add_title=False,\n",
    "#                 token_count=3\n",
    "#             )\n",
    "#         ),\n",
    "#         VQAStrategyDetail(\n",
    "#             country=\"spain\",\n",
    "#             file_type=\"english\",\n",
    "#             vqa_strategy_type=VQAStrategyType.RAG_Q,\n",
    "#             prompt_type=RagQPromptType.V5,\n",
    "#             relevant_docs_count=1,\n",
    "#             doc_splitter_options=DocSplitterOptions(\n",
    "#                 doc_splitter_type=DocumentSplitterType.SPACY_SENTENCE_SPLITTER,\n",
    "#                 add_title=False,\n",
    "#                 token_count=3\n",
    "#             )\n",
    "#         ),\n",
    "#         VQAStrategyDetail(\n",
    "#             country=\"spain\",\n",
    "#             file_type=\"english\",\n",
    "#             vqa_strategy_type=VQAStrategyType.RAG_Q,\n",
    "#             prompt_type=RagQPromptType.V6,\n",
    "#             relevant_docs_count=1,\n",
    "#             doc_splitter_options=DocSplitterOptions(\n",
    "#                 doc_splitter_type=DocumentSplitterType.SPACY_SENTENCE_SPLITTER,\n",
    "#                 add_title=False,\n",
    "#                 token_count=3\n",
    "#             )\n",
    "#         ),\n",
    "#         VQAStrategyDetail(\n",
    "#             country=\"spain\",\n",
    "#             file_type=\"english\",\n",
    "#             vqa_strategy_type=VQAStrategyType.RAG_Q,\n",
    "#             prompt_type=RagQPromptType.V1,\n",
    "#             relevant_docs_count=1,\n",
    "#             doc_splitter_options=DocSplitterOptions(\n",
    "#                 doc_splitter_type=DocumentSplitterType.SPACY_SENTENCE_SPLITTER,\n",
    "#                 add_title=False,\n",
    "#                 token_count=4\n",
    "#             )\n",
    "#         ),\n",
    "#         VQAStrategyDetail(\n",
    "#             country=\"spain\",\n",
    "#             file_type=\"english\",\n",
    "#             vqa_strategy_type=VQAStrategyType.RAG_Q,\n",
    "#             prompt_type=RagQPromptType.V2,\n",
    "#             relevant_docs_count=1,\n",
    "#             doc_splitter_options=DocSplitterOptions(\n",
    "#                 doc_splitter_type=DocumentSplitterType.SPACY_SENTENCE_SPLITTER,\n",
    "#                 add_title=False,\n",
    "#                 token_count=4\n",
    "#             )\n",
    "#         ),\n",
    "#         VQAStrategyDetail(\n",
    "#             country=\"spain\",\n",
    "#             file_type=\"english\",\n",
    "#             vqa_strategy_type=VQAStrategyType.RAG_Q,\n",
    "#             prompt_type=RagQPromptType.V3,\n",
    "#             relevant_docs_count=1,\n",
    "#             doc_splitter_options=DocSplitterOptions(\n",
    "#                 doc_splitter_type=DocumentSplitterType.SPACY_SENTENCE_SPLITTER,\n",
    "#                 add_title=False,\n",
    "#                 token_count=4\n",
    "#             )\n",
    "#         ),\n",
    "#         VQAStrategyDetail(\n",
    "#             country=\"spain\",\n",
    "#             file_type=\"english\",\n",
    "#             vqa_strategy_type=VQAStrategyType.RAG_Q,\n",
    "#             prompt_type=RagQPromptType.V4,\n",
    "#             relevant_docs_count=1,\n",
    "#             doc_splitter_options=DocSplitterOptions(\n",
    "#                 doc_splitter_type=DocumentSplitterType.SPACY_SENTENCE_SPLITTER,\n",
    "#                 add_title=False,\n",
    "#                 token_count=4\n",
    "#             )\n",
    "#         ),\n",
    "#         VQAStrategyDetail(\n",
    "#             country=\"spain\",\n",
    "#             file_type=\"english\",\n",
    "#             vqa_strategy_type=VQAStrategyType.RAG_Q,\n",
    "#             prompt_type=RagQPromptType.V5,\n",
    "#             relevant_docs_count=1,\n",
    "#             doc_splitter_options=DocSplitterOptions(\n",
    "#                 doc_splitter_type=DocumentSplitterType.SPACY_SENTENCE_SPLITTER,\n",
    "#                 add_title=False,\n",
    "#                 token_count=4\n",
    "#             )\n",
    "#         ),\n",
    "#         VQAStrategyDetail(\n",
    "#             country=\"spain\",\n",
    "#             file_type=\"english\",\n",
    "#             vqa_strategy_type=VQAStrategyType.RAG_Q,\n",
    "#             prompt_type=RagQPromptType.V6,\n",
    "#             relevant_docs_count=1,\n",
    "#             doc_splitter_options=DocSplitterOptions(\n",
    "#                 doc_splitter_type=DocumentSplitterType.SPACY_SENTENCE_SPLITTER,\n",
    "#                 add_title=False,\n",
    "#                 token_count=4\n",
    "#             )\n",
    "#         ),\n",
    "#         VQAStrategyDetail(\n",
    "#             country=\"spain\",\n",
    "#             file_type=\"english\",\n",
    "#             vqa_strategy_type=VQAStrategyType.RAG_Q,\n",
    "#             prompt_type=RagQPromptType.V1,\n",
    "#             relevant_docs_count=1,\n",
    "#             doc_splitter_options=DocSplitterOptions(\n",
    "#                 doc_splitter_type=DocumentSplitterType.SPACY_SENTENCE_SPLITTER,\n",
    "#                 add_title=False,\n",
    "#                 token_count=5\n",
    "#             )\n",
    "#         ),\n",
    "#         VQAStrategyDetail(\n",
    "#             country=\"spain\",\n",
    "#             file_type=\"english\",\n",
    "#             vqa_strategy_type=VQAStrategyType.RAG_Q,\n",
    "#             prompt_type=RagQPromptType.V2,\n",
    "#             relevant_docs_count=1,\n",
    "#             doc_splitter_options=DocSplitterOptions(\n",
    "#                 doc_splitter_type=DocumentSplitterType.SPACY_SENTENCE_SPLITTER,\n",
    "#                 add_title=False,\n",
    "#                 token_count=5\n",
    "#             )\n",
    "#         ),\n",
    "#         VQAStrategyDetail(\n",
    "#             country=\"spain\",\n",
    "#             file_type=\"english\",\n",
    "#             vqa_strategy_type=VQAStrategyType.RAG_Q,\n",
    "#             prompt_type=RagQPromptType.V3,\n",
    "#             relevant_docs_count=1,\n",
    "#             doc_splitter_options=DocSplitterOptions(\n",
    "#                 doc_splitter_type=DocumentSplitterType.SPACY_SENTENCE_SPLITTER,\n",
    "#                 add_title=False,\n",
    "#                 token_count=5\n",
    "#             )\n",
    "#         ),\n",
    "#         VQAStrategyDetail(\n",
    "#             country=\"spain\",\n",
    "#             file_type=\"english\",\n",
    "#             vqa_strategy_type=VQAStrategyType.RAG_Q,\n",
    "#             prompt_type=RagQPromptType.V4,\n",
    "#             relevant_docs_count=1,\n",
    "#             doc_splitter_options=DocSplitterOptions(\n",
    "#                 doc_splitter_type=DocumentSplitterType.SPACY_SENTENCE_SPLITTER,\n",
    "#                 add_title=False,\n",
    "#                 token_count=5\n",
    "#             )\n",
    "#         ),\n",
    "#         VQAStrategyDetail(\n",
    "#             country=\"spain\",\n",
    "#             file_type=\"english\",\n",
    "#             vqa_strategy_type=VQAStrategyType.RAG_Q,\n",
    "#             prompt_type=RagQPromptType.V5,\n",
    "#             relevant_docs_count=1,\n",
    "#             doc_splitter_options=DocSplitterOptions(\n",
    "#                 doc_splitter_type=DocumentSplitterType.SPACY_SENTENCE_SPLITTER,\n",
    "#                 add_title=False,\n",
    "#                 token_count=5\n",
    "#             )\n",
    "#         ),\n",
    "#         VQAStrategyDetail(\n",
    "#             country=\"spain\",\n",
    "#             file_type=\"english\",\n",
    "#             vqa_strategy_type=VQAStrategyType.RAG_Q,\n",
    "#             prompt_type=RagQPromptType.V6,\n",
    "#             relevant_docs_count=1,\n",
    "#             doc_splitter_options=DocSplitterOptions(\n",
    "#                 doc_splitter_type=DocumentSplitterType.SPACY_SENTENCE_SPLITTER,\n",
    "#                 add_title=False,\n",
    "#                 token_count=5\n",
    "#             )\n",
    "#         )\n",
    "#     ]\n",
    "# )\n",
    "# evaluation_results = evaluation_results.fillna(\"-\")\n",
    "# evaluation_results"
   ]
  },
  {
   "cell_type": "code",
   "execution_count": 13,
   "metadata": {},
   "outputs": [
    {
     "data": {
      "application/vnd.plotly.v1+json": {
       "config": {
        "plotlyServerURL": "https://plot.ly"
       },
       "data": [
        {
         "hovertemplate": "Accuracy: %{y:.1%}<br>Prompt type: %{x}",
         "marker": {
          "cmax": 1,
          "cmin": 0,
          "color": [
           0.296,
           0.28,
           0.28,
           0.296,
           0.28,
           0.288
          ],
          "colorbar": {
           "thickness": 20,
           "tickformat": ".0%",
           "tickvals": [
            0,
            0.2,
            0.4,
            0.6,
            0.8,
            1
           ],
           "title": {
            "text": "Accuracy"
           }
          },
          "colorscale": [
           [
            0,
            "rgb(3, 35, 51)"
           ],
           [
            0.09090909090909091,
            "rgb(13, 48, 100)"
           ],
           [
            0.18181818181818182,
            "rgb(53, 50, 155)"
           ],
           [
            0.2727272727272727,
            "rgb(93, 62, 153)"
           ],
           [
            0.36363636363636365,
            "rgb(126, 77, 143)"
           ],
           [
            0.45454545454545453,
            "rgb(158, 89, 135)"
           ],
           [
            0.5454545454545454,
            "rgb(193, 100, 121)"
           ],
           [
            0.6363636363636364,
            "rgb(225, 113, 97)"
           ],
           [
            0.7272727272727273,
            "rgb(246, 139, 69)"
           ],
           [
            0.8181818181818182,
            "rgb(251, 173, 60)"
           ],
           [
            0.9090909090909091,
            "rgb(246, 211, 70)"
           ],
           [
            1,
            "rgb(231, 250, 90)"
           ]
          ]
         },
         "name": "rdc1_tc1",
         "type": "bar",
         "x": [
          "rq_v1",
          "rq_v2",
          "rq_v3",
          "rq_v4",
          "rq_v5",
          "rq_v6"
         ],
         "xaxis": "x",
         "y": [
          0.296,
          0.28,
          0.28,
          0.296,
          0.28,
          0.288
         ],
         "yaxis": "y"
        },
        {
         "hovertemplate": "Well-Formatted Answers: %{y:.1%}<br>Prompt type: %{x}",
         "marker": {
          "cmax": 1,
          "cmin": 0,
          "color": [
           1,
           1,
           1,
           1,
           1,
           1
          ],
          "colorbar": {
           "thickness": 20,
           "tickformat": ".0%",
           "tickvals": [
            0,
            0.2,
            0.4,
            0.6,
            0.8,
            1
           ],
           "title": {
            "text": "Accuracy"
           }
          },
          "colorscale": [
           [
            0,
            "rgb(3, 35, 51)"
           ],
           [
            0.09090909090909091,
            "rgb(13, 48, 100)"
           ],
           [
            0.18181818181818182,
            "rgb(53, 50, 155)"
           ],
           [
            0.2727272727272727,
            "rgb(93, 62, 153)"
           ],
           [
            0.36363636363636365,
            "rgb(126, 77, 143)"
           ],
           [
            0.45454545454545453,
            "rgb(158, 89, 135)"
           ],
           [
            0.5454545454545454,
            "rgb(193, 100, 121)"
           ],
           [
            0.6363636363636364,
            "rgb(225, 113, 97)"
           ],
           [
            0.7272727272727273,
            "rgb(246, 139, 69)"
           ],
           [
            0.8181818181818182,
            "rgb(251, 173, 60)"
           ],
           [
            0.9090909090909091,
            "rgb(246, 211, 70)"
           ],
           [
            1,
            "rgb(231, 250, 90)"
           ]
          ]
         },
         "name": "rdc1_tc1",
         "type": "bar",
         "x": [
          "rq_v1",
          "rq_v2",
          "rq_v3",
          "rq_v4",
          "rq_v5",
          "rq_v6"
         ],
         "xaxis": "x",
         "y": [
          1,
          1,
          1,
          1,
          1,
          1
         ],
         "yaxis": "y"
        },
        {
         "hovertemplate": "Accuracy: %{y:.1%}<br>Prompt type: %{x}",
         "marker": {
          "cmax": 1,
          "cmin": 0,
          "color": [
           0.272,
           0.272,
           0.272,
           0.24,
           0.272,
           0.288
          ],
          "colorbar": {
           "thickness": 20,
           "tickformat": ".0%",
           "tickvals": [
            0,
            0.2,
            0.4,
            0.6,
            0.8,
            1
           ],
           "title": {
            "text": "Accuracy"
           }
          },
          "colorscale": [
           [
            0,
            "rgb(3, 35, 51)"
           ],
           [
            0.09090909090909091,
            "rgb(13, 48, 100)"
           ],
           [
            0.18181818181818182,
            "rgb(53, 50, 155)"
           ],
           [
            0.2727272727272727,
            "rgb(93, 62, 153)"
           ],
           [
            0.36363636363636365,
            "rgb(126, 77, 143)"
           ],
           [
            0.45454545454545453,
            "rgb(158, 89, 135)"
           ],
           [
            0.5454545454545454,
            "rgb(193, 100, 121)"
           ],
           [
            0.6363636363636364,
            "rgb(225, 113, 97)"
           ],
           [
            0.7272727272727273,
            "rgb(246, 139, 69)"
           ],
           [
            0.8181818181818182,
            "rgb(251, 173, 60)"
           ],
           [
            0.9090909090909091,
            "rgb(246, 211, 70)"
           ],
           [
            1,
            "rgb(231, 250, 90)"
           ]
          ]
         },
         "name": "rdc1_tc2",
         "type": "bar",
         "x": [
          "rq_v1",
          "rq_v2",
          "rq_v3",
          "rq_v4",
          "rq_v5",
          "rq_v6"
         ],
         "xaxis": "x2",
         "y": [
          0.272,
          0.272,
          0.272,
          0.24,
          0.272,
          0.288
         ],
         "yaxis": "y2"
        },
        {
         "hovertemplate": "Well-Formatted Answers: %{y:.1%}<br>Prompt type: %{x}",
         "marker": {
          "cmax": 1,
          "cmin": 0,
          "color": [
           1,
           1,
           1,
           1,
           1,
           1
          ],
          "colorbar": {
           "thickness": 20,
           "tickformat": ".0%",
           "tickvals": [
            0,
            0.2,
            0.4,
            0.6,
            0.8,
            1
           ],
           "title": {
            "text": "Accuracy"
           }
          },
          "colorscale": [
           [
            0,
            "rgb(3, 35, 51)"
           ],
           [
            0.09090909090909091,
            "rgb(13, 48, 100)"
           ],
           [
            0.18181818181818182,
            "rgb(53, 50, 155)"
           ],
           [
            0.2727272727272727,
            "rgb(93, 62, 153)"
           ],
           [
            0.36363636363636365,
            "rgb(126, 77, 143)"
           ],
           [
            0.45454545454545453,
            "rgb(158, 89, 135)"
           ],
           [
            0.5454545454545454,
            "rgb(193, 100, 121)"
           ],
           [
            0.6363636363636364,
            "rgb(225, 113, 97)"
           ],
           [
            0.7272727272727273,
            "rgb(246, 139, 69)"
           ],
           [
            0.8181818181818182,
            "rgb(251, 173, 60)"
           ],
           [
            0.9090909090909091,
            "rgb(246, 211, 70)"
           ],
           [
            1,
            "rgb(231, 250, 90)"
           ]
          ]
         },
         "name": "rdc1_tc2",
         "type": "bar",
         "x": [
          "rq_v1",
          "rq_v2",
          "rq_v3",
          "rq_v4",
          "rq_v5",
          "rq_v6"
         ],
         "xaxis": "x2",
         "y": [
          1,
          1,
          1,
          1,
          1,
          1
         ],
         "yaxis": "y2"
        },
        {
         "hovertemplate": "Accuracy: %{y:.1%}<br>Prompt type: %{x}",
         "marker": {
          "cmax": 1,
          "cmin": 0,
          "color": [
           0.272,
           0.288,
           0.288,
           0.304,
           0.272,
           0.288
          ],
          "colorbar": {
           "thickness": 20,
           "tickformat": ".0%",
           "tickvals": [
            0,
            0.2,
            0.4,
            0.6,
            0.8,
            1
           ],
           "title": {
            "text": "Accuracy"
           }
          },
          "colorscale": [
           [
            0,
            "rgb(3, 35, 51)"
           ],
           [
            0.09090909090909091,
            "rgb(13, 48, 100)"
           ],
           [
            0.18181818181818182,
            "rgb(53, 50, 155)"
           ],
           [
            0.2727272727272727,
            "rgb(93, 62, 153)"
           ],
           [
            0.36363636363636365,
            "rgb(126, 77, 143)"
           ],
           [
            0.45454545454545453,
            "rgb(158, 89, 135)"
           ],
           [
            0.5454545454545454,
            "rgb(193, 100, 121)"
           ],
           [
            0.6363636363636364,
            "rgb(225, 113, 97)"
           ],
           [
            0.7272727272727273,
            "rgb(246, 139, 69)"
           ],
           [
            0.8181818181818182,
            "rgb(251, 173, 60)"
           ],
           [
            0.9090909090909091,
            "rgb(246, 211, 70)"
           ],
           [
            1,
            "rgb(231, 250, 90)"
           ]
          ]
         },
         "name": "rdc1_tc3",
         "type": "bar",
         "x": [
          "rq_v1",
          "rq_v2",
          "rq_v3",
          "rq_v4",
          "rq_v5",
          "rq_v6"
         ],
         "xaxis": "x3",
         "y": [
          0.272,
          0.288,
          0.288,
          0.304,
          0.272,
          0.288
         ],
         "yaxis": "y3"
        },
        {
         "hovertemplate": "Well-Formatted Answers: %{y:.1%}<br>Prompt type: %{x}",
         "marker": {
          "cmax": 1,
          "cmin": 0,
          "color": [
           1,
           1,
           1,
           1,
           1,
           1
          ],
          "colorbar": {
           "thickness": 20,
           "tickformat": ".0%",
           "tickvals": [
            0,
            0.2,
            0.4,
            0.6,
            0.8,
            1
           ],
           "title": {
            "text": "Accuracy"
           }
          },
          "colorscale": [
           [
            0,
            "rgb(3, 35, 51)"
           ],
           [
            0.09090909090909091,
            "rgb(13, 48, 100)"
           ],
           [
            0.18181818181818182,
            "rgb(53, 50, 155)"
           ],
           [
            0.2727272727272727,
            "rgb(93, 62, 153)"
           ],
           [
            0.36363636363636365,
            "rgb(126, 77, 143)"
           ],
           [
            0.45454545454545453,
            "rgb(158, 89, 135)"
           ],
           [
            0.5454545454545454,
            "rgb(193, 100, 121)"
           ],
           [
            0.6363636363636364,
            "rgb(225, 113, 97)"
           ],
           [
            0.7272727272727273,
            "rgb(246, 139, 69)"
           ],
           [
            0.8181818181818182,
            "rgb(251, 173, 60)"
           ],
           [
            0.9090909090909091,
            "rgb(246, 211, 70)"
           ],
           [
            1,
            "rgb(231, 250, 90)"
           ]
          ]
         },
         "name": "rdc1_tc3",
         "type": "bar",
         "x": [
          "rq_v1",
          "rq_v2",
          "rq_v3",
          "rq_v4",
          "rq_v5",
          "rq_v6"
         ],
         "xaxis": "x3",
         "y": [
          1,
          1,
          1,
          1,
          1,
          1
         ],
         "yaxis": "y3"
        },
        {
         "hovertemplate": "Accuracy: %{y:.1%}<br>Prompt type: %{x}",
         "marker": {
          "cmax": 1,
          "cmin": 0,
          "color": [
           0.24,
           0.256,
           0.272,
           0.248,
           0.272,
           0.296
          ],
          "colorbar": {
           "thickness": 20,
           "tickformat": ".0%",
           "tickvals": [
            0,
            0.2,
            0.4,
            0.6,
            0.8,
            1
           ],
           "title": {
            "text": "Accuracy"
           }
          },
          "colorscale": [
           [
            0,
            "rgb(3, 35, 51)"
           ],
           [
            0.09090909090909091,
            "rgb(13, 48, 100)"
           ],
           [
            0.18181818181818182,
            "rgb(53, 50, 155)"
           ],
           [
            0.2727272727272727,
            "rgb(93, 62, 153)"
           ],
           [
            0.36363636363636365,
            "rgb(126, 77, 143)"
           ],
           [
            0.45454545454545453,
            "rgb(158, 89, 135)"
           ],
           [
            0.5454545454545454,
            "rgb(193, 100, 121)"
           ],
           [
            0.6363636363636364,
            "rgb(225, 113, 97)"
           ],
           [
            0.7272727272727273,
            "rgb(246, 139, 69)"
           ],
           [
            0.8181818181818182,
            "rgb(251, 173, 60)"
           ],
           [
            0.9090909090909091,
            "rgb(246, 211, 70)"
           ],
           [
            1,
            "rgb(231, 250, 90)"
           ]
          ]
         },
         "name": "rdc1_tc4",
         "type": "bar",
         "x": [
          "rq_v1",
          "rq_v2",
          "rq_v3",
          "rq_v4",
          "rq_v5",
          "rq_v6"
         ],
         "xaxis": "x4",
         "y": [
          0.24,
          0.256,
          0.272,
          0.248,
          0.272,
          0.296
         ],
         "yaxis": "y4"
        },
        {
         "hovertemplate": "Well-Formatted Answers: %{y:.1%}<br>Prompt type: %{x}",
         "marker": {
          "cmax": 1,
          "cmin": 0,
          "color": [
           1,
           1,
           1,
           1,
           1,
           1
          ],
          "colorbar": {
           "thickness": 20,
           "tickformat": ".0%",
           "tickvals": [
            0,
            0.2,
            0.4,
            0.6,
            0.8,
            1
           ],
           "title": {
            "text": "Accuracy"
           }
          },
          "colorscale": [
           [
            0,
            "rgb(3, 35, 51)"
           ],
           [
            0.09090909090909091,
            "rgb(13, 48, 100)"
           ],
           [
            0.18181818181818182,
            "rgb(53, 50, 155)"
           ],
           [
            0.2727272727272727,
            "rgb(93, 62, 153)"
           ],
           [
            0.36363636363636365,
            "rgb(126, 77, 143)"
           ],
           [
            0.45454545454545453,
            "rgb(158, 89, 135)"
           ],
           [
            0.5454545454545454,
            "rgb(193, 100, 121)"
           ],
           [
            0.6363636363636364,
            "rgb(225, 113, 97)"
           ],
           [
            0.7272727272727273,
            "rgb(246, 139, 69)"
           ],
           [
            0.8181818181818182,
            "rgb(251, 173, 60)"
           ],
           [
            0.9090909090909091,
            "rgb(246, 211, 70)"
           ],
           [
            1,
            "rgb(231, 250, 90)"
           ]
          ]
         },
         "name": "rdc1_tc4",
         "type": "bar",
         "x": [
          "rq_v1",
          "rq_v2",
          "rq_v3",
          "rq_v4",
          "rq_v5",
          "rq_v6"
         ],
         "xaxis": "x4",
         "y": [
          1,
          1,
          1,
          1,
          1,
          1
         ],
         "yaxis": "y4"
        },
        {
         "hovertemplate": "Accuracy: %{y:.1%}<br>Prompt type: %{x}",
         "marker": {
          "cmax": 1,
          "cmin": 0,
          "color": [
           0.256,
           0.256,
           0.264,
           0.264,
           0.28,
           0.288
          ],
          "colorbar": {
           "thickness": 20,
           "tickformat": ".0%",
           "tickvals": [
            0,
            0.2,
            0.4,
            0.6,
            0.8,
            1
           ],
           "title": {
            "text": "Accuracy"
           }
          },
          "colorscale": [
           [
            0,
            "rgb(3, 35, 51)"
           ],
           [
            0.09090909090909091,
            "rgb(13, 48, 100)"
           ],
           [
            0.18181818181818182,
            "rgb(53, 50, 155)"
           ],
           [
            0.2727272727272727,
            "rgb(93, 62, 153)"
           ],
           [
            0.36363636363636365,
            "rgb(126, 77, 143)"
           ],
           [
            0.45454545454545453,
            "rgb(158, 89, 135)"
           ],
           [
            0.5454545454545454,
            "rgb(193, 100, 121)"
           ],
           [
            0.6363636363636364,
            "rgb(225, 113, 97)"
           ],
           [
            0.7272727272727273,
            "rgb(246, 139, 69)"
           ],
           [
            0.8181818181818182,
            "rgb(251, 173, 60)"
           ],
           [
            0.9090909090909091,
            "rgb(246, 211, 70)"
           ],
           [
            1,
            "rgb(231, 250, 90)"
           ]
          ]
         },
         "name": "rdc1_tc5",
         "type": "bar",
         "x": [
          "rq_v1",
          "rq_v2",
          "rq_v3",
          "rq_v4",
          "rq_v5",
          "rq_v6"
         ],
         "xaxis": "x5",
         "y": [
          0.256,
          0.256,
          0.264,
          0.264,
          0.28,
          0.288
         ],
         "yaxis": "y5"
        },
        {
         "hovertemplate": "Well-Formatted Answers: %{y:.1%}<br>Prompt type: %{x}",
         "marker": {
          "cmax": 1,
          "cmin": 0,
          "color": [
           1,
           1,
           1,
           1,
           1,
           1
          ],
          "colorbar": {
           "thickness": 20,
           "tickformat": ".0%",
           "tickvals": [
            0,
            0.2,
            0.4,
            0.6,
            0.8,
            1
           ],
           "title": {
            "text": "Accuracy"
           }
          },
          "colorscale": [
           [
            0,
            "rgb(3, 35, 51)"
           ],
           [
            0.09090909090909091,
            "rgb(13, 48, 100)"
           ],
           [
            0.18181818181818182,
            "rgb(53, 50, 155)"
           ],
           [
            0.2727272727272727,
            "rgb(93, 62, 153)"
           ],
           [
            0.36363636363636365,
            "rgb(126, 77, 143)"
           ],
           [
            0.45454545454545453,
            "rgb(158, 89, 135)"
           ],
           [
            0.5454545454545454,
            "rgb(193, 100, 121)"
           ],
           [
            0.6363636363636364,
            "rgb(225, 113, 97)"
           ],
           [
            0.7272727272727273,
            "rgb(246, 139, 69)"
           ],
           [
            0.8181818181818182,
            "rgb(251, 173, 60)"
           ],
           [
            0.9090909090909091,
            "rgb(246, 211, 70)"
           ],
           [
            1,
            "rgb(231, 250, 90)"
           ]
          ]
         },
         "name": "rdc1_tc5",
         "type": "bar",
         "x": [
          "rq_v1",
          "rq_v2",
          "rq_v3",
          "rq_v4",
          "rq_v5",
          "rq_v6"
         ],
         "xaxis": "x5",
         "y": [
          1,
          1,
          1,
          1,
          1,
          1
         ],
         "yaxis": "y5"
        }
       ],
       "layout": {
        "annotations": [
         {
          "font": {
           "size": 16
          },
          "showarrow": false,
          "text": "rdc1_tc1",
          "x": 0.06,
          "xanchor": "center",
          "xref": "paper",
          "y": 1,
          "yanchor": "bottom",
          "yref": "paper",
          "yshift": 10
         },
         {
          "font": {
           "size": 16
          },
          "showarrow": false,
          "text": "rdc1_tc2",
          "x": 0.27999999999999997,
          "xanchor": "center",
          "xref": "paper",
          "y": 1,
          "yanchor": "bottom",
          "yref": "paper",
          "yshift": 10
         },
         {
          "font": {
           "size": 16
          },
          "showarrow": false,
          "text": "rdc1_tc3",
          "x": 0.5,
          "xanchor": "center",
          "xref": "paper",
          "y": 1,
          "yanchor": "bottom",
          "yref": "paper",
          "yshift": 10
         },
         {
          "font": {
           "size": 16
          },
          "showarrow": false,
          "text": "rdc1_tc4",
          "x": 0.72,
          "xanchor": "center",
          "xref": "paper",
          "y": 1,
          "yanchor": "bottom",
          "yref": "paper",
          "yshift": 10
         },
         {
          "font": {
           "size": 16
          },
          "showarrow": false,
          "text": "rdc1_tc5",
          "x": 0.94,
          "xanchor": "center",
          "xref": "paper",
          "y": 1,
          "yanchor": "bottom",
          "yref": "paper",
          "yshift": 10
         }
        ],
        "barmode": "group",
        "font": {
         "color": "black",
         "family": "Arial, sans-serif",
         "size": 14
        },
        "height": 400,
        "margin": {
         "b": 50,
         "l": 50,
         "r": 100,
         "t": 120
        },
        "showlegend": false,
        "template": {
         "data": {
          "bar": [
           {
            "error_x": {
             "color": "#2a3f5f"
            },
            "error_y": {
             "color": "#2a3f5f"
            },
            "marker": {
             "line": {
              "color": "#E5ECF6",
              "width": 0.5
             },
             "pattern": {
              "fillmode": "overlay",
              "size": 10,
              "solidity": 0.2
             }
            },
            "type": "bar"
           }
          ],
          "barpolar": [
           {
            "marker": {
             "line": {
              "color": "#E5ECF6",
              "width": 0.5
             },
             "pattern": {
              "fillmode": "overlay",
              "size": 10,
              "solidity": 0.2
             }
            },
            "type": "barpolar"
           }
          ],
          "carpet": [
           {
            "aaxis": {
             "endlinecolor": "#2a3f5f",
             "gridcolor": "white",
             "linecolor": "white",
             "minorgridcolor": "white",
             "startlinecolor": "#2a3f5f"
            },
            "baxis": {
             "endlinecolor": "#2a3f5f",
             "gridcolor": "white",
             "linecolor": "white",
             "minorgridcolor": "white",
             "startlinecolor": "#2a3f5f"
            },
            "type": "carpet"
           }
          ],
          "choropleth": [
           {
            "colorbar": {
             "outlinewidth": 0,
             "ticks": ""
            },
            "type": "choropleth"
           }
          ],
          "contour": [
           {
            "colorbar": {
             "outlinewidth": 0,
             "ticks": ""
            },
            "colorscale": [
             [
              0,
              "#0d0887"
             ],
             [
              0.1111111111111111,
              "#46039f"
             ],
             [
              0.2222222222222222,
              "#7201a8"
             ],
             [
              0.3333333333333333,
              "#9c179e"
             ],
             [
              0.4444444444444444,
              "#bd3786"
             ],
             [
              0.5555555555555556,
              "#d8576b"
             ],
             [
              0.6666666666666666,
              "#ed7953"
             ],
             [
              0.7777777777777778,
              "#fb9f3a"
             ],
             [
              0.8888888888888888,
              "#fdca26"
             ],
             [
              1,
              "#f0f921"
             ]
            ],
            "type": "contour"
           }
          ],
          "contourcarpet": [
           {
            "colorbar": {
             "outlinewidth": 0,
             "ticks": ""
            },
            "type": "contourcarpet"
           }
          ],
          "heatmap": [
           {
            "colorbar": {
             "outlinewidth": 0,
             "ticks": ""
            },
            "colorscale": [
             [
              0,
              "#0d0887"
             ],
             [
              0.1111111111111111,
              "#46039f"
             ],
             [
              0.2222222222222222,
              "#7201a8"
             ],
             [
              0.3333333333333333,
              "#9c179e"
             ],
             [
              0.4444444444444444,
              "#bd3786"
             ],
             [
              0.5555555555555556,
              "#d8576b"
             ],
             [
              0.6666666666666666,
              "#ed7953"
             ],
             [
              0.7777777777777778,
              "#fb9f3a"
             ],
             [
              0.8888888888888888,
              "#fdca26"
             ],
             [
              1,
              "#f0f921"
             ]
            ],
            "type": "heatmap"
           }
          ],
          "heatmapgl": [
           {
            "colorbar": {
             "outlinewidth": 0,
             "ticks": ""
            },
            "colorscale": [
             [
              0,
              "#0d0887"
             ],
             [
              0.1111111111111111,
              "#46039f"
             ],
             [
              0.2222222222222222,
              "#7201a8"
             ],
             [
              0.3333333333333333,
              "#9c179e"
             ],
             [
              0.4444444444444444,
              "#bd3786"
             ],
             [
              0.5555555555555556,
              "#d8576b"
             ],
             [
              0.6666666666666666,
              "#ed7953"
             ],
             [
              0.7777777777777778,
              "#fb9f3a"
             ],
             [
              0.8888888888888888,
              "#fdca26"
             ],
             [
              1,
              "#f0f921"
             ]
            ],
            "type": "heatmapgl"
           }
          ],
          "histogram": [
           {
            "marker": {
             "pattern": {
              "fillmode": "overlay",
              "size": 10,
              "solidity": 0.2
             }
            },
            "type": "histogram"
           }
          ],
          "histogram2d": [
           {
            "colorbar": {
             "outlinewidth": 0,
             "ticks": ""
            },
            "colorscale": [
             [
              0,
              "#0d0887"
             ],
             [
              0.1111111111111111,
              "#46039f"
             ],
             [
              0.2222222222222222,
              "#7201a8"
             ],
             [
              0.3333333333333333,
              "#9c179e"
             ],
             [
              0.4444444444444444,
              "#bd3786"
             ],
             [
              0.5555555555555556,
              "#d8576b"
             ],
             [
              0.6666666666666666,
              "#ed7953"
             ],
             [
              0.7777777777777778,
              "#fb9f3a"
             ],
             [
              0.8888888888888888,
              "#fdca26"
             ],
             [
              1,
              "#f0f921"
             ]
            ],
            "type": "histogram2d"
           }
          ],
          "histogram2dcontour": [
           {
            "colorbar": {
             "outlinewidth": 0,
             "ticks": ""
            },
            "colorscale": [
             [
              0,
              "#0d0887"
             ],
             [
              0.1111111111111111,
              "#46039f"
             ],
             [
              0.2222222222222222,
              "#7201a8"
             ],
             [
              0.3333333333333333,
              "#9c179e"
             ],
             [
              0.4444444444444444,
              "#bd3786"
             ],
             [
              0.5555555555555556,
              "#d8576b"
             ],
             [
              0.6666666666666666,
              "#ed7953"
             ],
             [
              0.7777777777777778,
              "#fb9f3a"
             ],
             [
              0.8888888888888888,
              "#fdca26"
             ],
             [
              1,
              "#f0f921"
             ]
            ],
            "type": "histogram2dcontour"
           }
          ],
          "mesh3d": [
           {
            "colorbar": {
             "outlinewidth": 0,
             "ticks": ""
            },
            "type": "mesh3d"
           }
          ],
          "parcoords": [
           {
            "line": {
             "colorbar": {
              "outlinewidth": 0,
              "ticks": ""
             }
            },
            "type": "parcoords"
           }
          ],
          "pie": [
           {
            "automargin": true,
            "type": "pie"
           }
          ],
          "scatter": [
           {
            "fillpattern": {
             "fillmode": "overlay",
             "size": 10,
             "solidity": 0.2
            },
            "type": "scatter"
           }
          ],
          "scatter3d": [
           {
            "line": {
             "colorbar": {
              "outlinewidth": 0,
              "ticks": ""
             }
            },
            "marker": {
             "colorbar": {
              "outlinewidth": 0,
              "ticks": ""
             }
            },
            "type": "scatter3d"
           }
          ],
          "scattercarpet": [
           {
            "marker": {
             "colorbar": {
              "outlinewidth": 0,
              "ticks": ""
             }
            },
            "type": "scattercarpet"
           }
          ],
          "scattergeo": [
           {
            "marker": {
             "colorbar": {
              "outlinewidth": 0,
              "ticks": ""
             }
            },
            "type": "scattergeo"
           }
          ],
          "scattergl": [
           {
            "marker": {
             "colorbar": {
              "outlinewidth": 0,
              "ticks": ""
             }
            },
            "type": "scattergl"
           }
          ],
          "scattermapbox": [
           {
            "marker": {
             "colorbar": {
              "outlinewidth": 0,
              "ticks": ""
             }
            },
            "type": "scattermapbox"
           }
          ],
          "scatterpolar": [
           {
            "marker": {
             "colorbar": {
              "outlinewidth": 0,
              "ticks": ""
             }
            },
            "type": "scatterpolar"
           }
          ],
          "scatterpolargl": [
           {
            "marker": {
             "colorbar": {
              "outlinewidth": 0,
              "ticks": ""
             }
            },
            "type": "scatterpolargl"
           }
          ],
          "scatterternary": [
           {
            "marker": {
             "colorbar": {
              "outlinewidth": 0,
              "ticks": ""
             }
            },
            "type": "scatterternary"
           }
          ],
          "surface": [
           {
            "colorbar": {
             "outlinewidth": 0,
             "ticks": ""
            },
            "colorscale": [
             [
              0,
              "#0d0887"
             ],
             [
              0.1111111111111111,
              "#46039f"
             ],
             [
              0.2222222222222222,
              "#7201a8"
             ],
             [
              0.3333333333333333,
              "#9c179e"
             ],
             [
              0.4444444444444444,
              "#bd3786"
             ],
             [
              0.5555555555555556,
              "#d8576b"
             ],
             [
              0.6666666666666666,
              "#ed7953"
             ],
             [
              0.7777777777777778,
              "#fb9f3a"
             ],
             [
              0.8888888888888888,
              "#fdca26"
             ],
             [
              1,
              "#f0f921"
             ]
            ],
            "type": "surface"
           }
          ],
          "table": [
           {
            "cells": {
             "fill": {
              "color": "#EBF0F8"
             },
             "line": {
              "color": "white"
             }
            },
            "header": {
             "fill": {
              "color": "#C8D4E3"
             },
             "line": {
              "color": "white"
             }
            },
            "type": "table"
           }
          ]
         },
         "layout": {
          "annotationdefaults": {
           "arrowcolor": "#2a3f5f",
           "arrowhead": 0,
           "arrowwidth": 1
          },
          "autotypenumbers": "strict",
          "coloraxis": {
           "colorbar": {
            "outlinewidth": 0,
            "ticks": ""
           }
          },
          "colorscale": {
           "diverging": [
            [
             0,
             "#8e0152"
            ],
            [
             0.1,
             "#c51b7d"
            ],
            [
             0.2,
             "#de77ae"
            ],
            [
             0.3,
             "#f1b6da"
            ],
            [
             0.4,
             "#fde0ef"
            ],
            [
             0.5,
             "#f7f7f7"
            ],
            [
             0.6,
             "#e6f5d0"
            ],
            [
             0.7,
             "#b8e186"
            ],
            [
             0.8,
             "#7fbc41"
            ],
            [
             0.9,
             "#4d9221"
            ],
            [
             1,
             "#276419"
            ]
           ],
           "sequential": [
            [
             0,
             "#0d0887"
            ],
            [
             0.1111111111111111,
             "#46039f"
            ],
            [
             0.2222222222222222,
             "#7201a8"
            ],
            [
             0.3333333333333333,
             "#9c179e"
            ],
            [
             0.4444444444444444,
             "#bd3786"
            ],
            [
             0.5555555555555556,
             "#d8576b"
            ],
            [
             0.6666666666666666,
             "#ed7953"
            ],
            [
             0.7777777777777778,
             "#fb9f3a"
            ],
            [
             0.8888888888888888,
             "#fdca26"
            ],
            [
             1,
             "#f0f921"
            ]
           ],
           "sequentialminus": [
            [
             0,
             "#0d0887"
            ],
            [
             0.1111111111111111,
             "#46039f"
            ],
            [
             0.2222222222222222,
             "#7201a8"
            ],
            [
             0.3333333333333333,
             "#9c179e"
            ],
            [
             0.4444444444444444,
             "#bd3786"
            ],
            [
             0.5555555555555556,
             "#d8576b"
            ],
            [
             0.6666666666666666,
             "#ed7953"
            ],
            [
             0.7777777777777778,
             "#fb9f3a"
            ],
            [
             0.8888888888888888,
             "#fdca26"
            ],
            [
             1,
             "#f0f921"
            ]
           ]
          },
          "colorway": [
           "#636efa",
           "#EF553B",
           "#00cc96",
           "#ab63fa",
           "#FFA15A",
           "#19d3f3",
           "#FF6692",
           "#B6E880",
           "#FF97FF",
           "#FECB52"
          ],
          "font": {
           "color": "#2a3f5f"
          },
          "geo": {
           "bgcolor": "white",
           "lakecolor": "white",
           "landcolor": "#E5ECF6",
           "showlakes": true,
           "showland": true,
           "subunitcolor": "white"
          },
          "hoverlabel": {
           "align": "left"
          },
          "hovermode": "closest",
          "mapbox": {
           "style": "light"
          },
          "paper_bgcolor": "white",
          "plot_bgcolor": "#E5ECF6",
          "polar": {
           "angularaxis": {
            "gridcolor": "white",
            "linecolor": "white",
            "ticks": ""
           },
           "bgcolor": "#E5ECF6",
           "radialaxis": {
            "gridcolor": "white",
            "linecolor": "white",
            "ticks": ""
           }
          },
          "scene": {
           "xaxis": {
            "backgroundcolor": "#E5ECF6",
            "gridcolor": "white",
            "gridwidth": 2,
            "linecolor": "white",
            "showbackground": true,
            "ticks": "",
            "zerolinecolor": "white"
           },
           "yaxis": {
            "backgroundcolor": "#E5ECF6",
            "gridcolor": "white",
            "gridwidth": 2,
            "linecolor": "white",
            "showbackground": true,
            "ticks": "",
            "zerolinecolor": "white"
           },
           "zaxis": {
            "backgroundcolor": "#E5ECF6",
            "gridcolor": "white",
            "gridwidth": 2,
            "linecolor": "white",
            "showbackground": true,
            "ticks": "",
            "zerolinecolor": "white"
           }
          },
          "shapedefaults": {
           "line": {
            "color": "#2a3f5f"
           }
          },
          "ternary": {
           "aaxis": {
            "gridcolor": "white",
            "linecolor": "white",
            "ticks": ""
           },
           "baxis": {
            "gridcolor": "white",
            "linecolor": "white",
            "ticks": ""
           },
           "bgcolor": "#E5ECF6",
           "caxis": {
            "gridcolor": "white",
            "linecolor": "white",
            "ticks": ""
           }
          },
          "title": {
           "x": 0.05
          },
          "xaxis": {
           "automargin": true,
           "gridcolor": "white",
           "linecolor": "white",
           "ticks": "",
           "title": {
            "standoff": 15
           },
           "zerolinecolor": "white",
           "zerolinewidth": 2
          },
          "yaxis": {
           "automargin": true,
           "gridcolor": "white",
           "linecolor": "white",
           "ticks": "",
           "title": {
            "standoff": 15
           },
           "zerolinecolor": "white",
           "zerolinewidth": 2
          }
         }
        },
        "title": {
         "font": {
          "color": "black",
          "family": "Arial, sans-serif",
          "size": 22
         },
         "pad": {
          "b": 30
         },
         "text": "Analysis of LLaVA Model Accuracy Across Different RAG Approaches and Parameter Settings",
         "x": 0.5,
         "xanchor": "center"
        },
        "width": 1450,
        "xaxis": {
         "anchor": "y",
         "domain": [
          0,
          0.12
         ],
         "title": {
          "text": "Prompt type"
         }
        },
        "xaxis2": {
         "anchor": "y2",
         "domain": [
          0.22,
          0.33999999999999997
         ],
         "title": {
          "text": "Prompt type"
         }
        },
        "xaxis3": {
         "anchor": "y3",
         "domain": [
          0.44,
          0.56
         ],
         "title": {
          "text": "Prompt type"
         }
        },
        "xaxis4": {
         "anchor": "y4",
         "domain": [
          0.66,
          0.78
         ],
         "title": {
          "text": "Prompt type"
         }
        },
        "xaxis5": {
         "anchor": "y5",
         "domain": [
          0.88,
          1
         ],
         "title": {
          "text": "Prompt type"
         }
        },
        "yaxis": {
         "anchor": "x",
         "domain": [
          0,
          1
         ],
         "range": [
          0,
          1
         ],
         "tickformat": ".0%",
         "tickvals": [
          0,
          0.1,
          0.2,
          0.3,
          0.4,
          0.5,
          0.6,
          0.7,
          0.8,
          0.9,
          1
         ],
         "title": {
          "text": "Accuracy"
         }
        },
        "yaxis2": {
         "anchor": "x2",
         "domain": [
          0,
          1
         ],
         "range": [
          0,
          1
         ],
         "tickformat": ".0%",
         "tickvals": [
          0,
          0.1,
          0.2,
          0.3,
          0.4,
          0.5,
          0.6,
          0.7,
          0.8,
          0.9,
          1
         ],
         "title": {
          "text": "Accuracy"
         }
        },
        "yaxis3": {
         "anchor": "x3",
         "domain": [
          0,
          1
         ],
         "range": [
          0,
          1
         ],
         "tickformat": ".0%",
         "tickvals": [
          0,
          0.1,
          0.2,
          0.3,
          0.4,
          0.5,
          0.6,
          0.7,
          0.8,
          0.9,
          1
         ],
         "title": {
          "text": "Accuracy"
         }
        },
        "yaxis4": {
         "anchor": "x4",
         "domain": [
          0,
          1
         ],
         "range": [
          0,
          1
         ],
         "tickformat": ".0%",
         "tickvals": [
          0,
          0.1,
          0.2,
          0.3,
          0.4,
          0.5,
          0.6,
          0.7,
          0.8,
          0.9,
          1
         ],
         "title": {
          "text": "Accuracy"
         }
        },
        "yaxis5": {
         "anchor": "x5",
         "domain": [
          0,
          1
         ],
         "range": [
          0,
          1
         ],
         "tickformat": ".0%",
         "tickvals": [
          0,
          0.1,
          0.2,
          0.3,
          0.4,
          0.5,
          0.6,
          0.7,
          0.8,
          0.9,
          1
         ],
         "title": {
          "text": "Accuracy"
         }
        }
       }
      }
     },
     "metadata": {},
     "output_type": "display_data"
    }
   ],
   "source": [
    "world_med_qa_v_plot_helpers.plot_rag_q_evaluation_results_by_groups(\n",
    "    title=\"Analysis of LLaVA Model Accuracy Across Different RAG Approaches and Parameter Settings\",\n",
    "    evaluation_results=evaluation_results,\n",
    "    row_variable='relevant_docs_count',\n",
    "    column_variable='token_count',\n",
    "    bar_graph_variable='prompt_type'\n",
    ")"
   ]
  },
  {
   "cell_type": "markdown",
   "metadata": {},
   "source": [
    "- 'rdc1_tc3' -> rq_v4 (el que mejor resultado da).\n",
    "- Hacer lo mismo con Q+As (5 rags) (con pregunta y sin pregunta) --> DECIDIMOS LA MEJOR FORMA DE HACER IR  [SACAMOS OTRAS 2 LÍNEAS DE GRÁFICOS]\n",
    "- Partir de este y hacer experimentos (2, 3, 4, 5 dokumentu)\n",
    "\n",
    "BLOQUE RAG:\n",
    "\n",
    "A: <RAG> ... </RAG> <br>\n",
    "B: <RAG> ... </RAG> <br>\n",
    "C: <RAG> ... </RAG> <br>\n",
    "D: <RAG> ... </RAG> <br>"
   ]
  },
  {
   "cell_type": "code",
   "execution_count": 14,
   "metadata": {},
   "outputs": [
    {
     "data": {
      "application/vnd.plotly.v1+json": {
       "config": {
        "plotlyServerURL": "https://plot.ly"
       },
       "data": [
        {
         "hovertemplate": "Accuracy: %{y:.1%}<br>Token count: %{x}",
         "marker": {
          "cmax": 1,
          "cmin": 0,
          "color": [
           0.296,
           0.272,
           0.272,
           0.24,
           0.256
          ],
          "colorbar": {
           "thickness": 20,
           "tickformat": ".0%",
           "tickvals": [
            0,
            0.2,
            0.4,
            0.6,
            0.8,
            1
           ],
           "title": {
            "text": "Accuracy"
           }
          },
          "colorscale": [
           [
            0,
            "rgb(3, 35, 51)"
           ],
           [
            0.09090909090909091,
            "rgb(13, 48, 100)"
           ],
           [
            0.18181818181818182,
            "rgb(53, 50, 155)"
           ],
           [
            0.2727272727272727,
            "rgb(93, 62, 153)"
           ],
           [
            0.36363636363636365,
            "rgb(126, 77, 143)"
           ],
           [
            0.45454545454545453,
            "rgb(158, 89, 135)"
           ],
           [
            0.5454545454545454,
            "rgb(193, 100, 121)"
           ],
           [
            0.6363636363636364,
            "rgb(225, 113, 97)"
           ],
           [
            0.7272727272727273,
            "rgb(246, 139, 69)"
           ],
           [
            0.8181818181818182,
            "rgb(251, 173, 60)"
           ],
           [
            0.9090909090909091,
            "rgb(246, 211, 70)"
           ],
           [
            1,
            "rgb(231, 250, 90)"
           ]
          ]
         },
         "name": "rdc1_ptrq_v1",
         "type": "bar",
         "x": [
          1,
          2,
          3,
          4,
          5
         ],
         "xaxis": "x",
         "y": [
          0.296,
          0.272,
          0.272,
          0.24,
          0.256
         ],
         "yaxis": "y"
        },
        {
         "hovertemplate": "Well-Formatted Answers: %{y:.1%}<br>Token count: %{x}",
         "marker": {
          "cmax": 1,
          "cmin": 0,
          "color": [
           1,
           1,
           1,
           1,
           1
          ],
          "colorbar": {
           "thickness": 20,
           "tickformat": ".0%",
           "tickvals": [
            0,
            0.2,
            0.4,
            0.6,
            0.8,
            1
           ],
           "title": {
            "text": "Accuracy"
           }
          },
          "colorscale": [
           [
            0,
            "rgb(3, 35, 51)"
           ],
           [
            0.09090909090909091,
            "rgb(13, 48, 100)"
           ],
           [
            0.18181818181818182,
            "rgb(53, 50, 155)"
           ],
           [
            0.2727272727272727,
            "rgb(93, 62, 153)"
           ],
           [
            0.36363636363636365,
            "rgb(126, 77, 143)"
           ],
           [
            0.45454545454545453,
            "rgb(158, 89, 135)"
           ],
           [
            0.5454545454545454,
            "rgb(193, 100, 121)"
           ],
           [
            0.6363636363636364,
            "rgb(225, 113, 97)"
           ],
           [
            0.7272727272727273,
            "rgb(246, 139, 69)"
           ],
           [
            0.8181818181818182,
            "rgb(251, 173, 60)"
           ],
           [
            0.9090909090909091,
            "rgb(246, 211, 70)"
           ],
           [
            1,
            "rgb(231, 250, 90)"
           ]
          ]
         },
         "name": "rdc1_ptrq_v1",
         "type": "bar",
         "x": [
          1,
          2,
          3,
          4,
          5
         ],
         "xaxis": "x",
         "y": [
          1,
          1,
          1,
          1,
          1
         ],
         "yaxis": "y"
        },
        {
         "hovertemplate": "Accuracy: %{y:.1%}<br>Token count: %{x}",
         "marker": {
          "cmax": 1,
          "cmin": 0,
          "color": [
           0.28,
           0.272,
           0.288,
           0.256,
           0.256
          ],
          "colorbar": {
           "thickness": 20,
           "tickformat": ".0%",
           "tickvals": [
            0,
            0.2,
            0.4,
            0.6,
            0.8,
            1
           ],
           "title": {
            "text": "Accuracy"
           }
          },
          "colorscale": [
           [
            0,
            "rgb(3, 35, 51)"
           ],
           [
            0.09090909090909091,
            "rgb(13, 48, 100)"
           ],
           [
            0.18181818181818182,
            "rgb(53, 50, 155)"
           ],
           [
            0.2727272727272727,
            "rgb(93, 62, 153)"
           ],
           [
            0.36363636363636365,
            "rgb(126, 77, 143)"
           ],
           [
            0.45454545454545453,
            "rgb(158, 89, 135)"
           ],
           [
            0.5454545454545454,
            "rgb(193, 100, 121)"
           ],
           [
            0.6363636363636364,
            "rgb(225, 113, 97)"
           ],
           [
            0.7272727272727273,
            "rgb(246, 139, 69)"
           ],
           [
            0.8181818181818182,
            "rgb(251, 173, 60)"
           ],
           [
            0.9090909090909091,
            "rgb(246, 211, 70)"
           ],
           [
            1,
            "rgb(231, 250, 90)"
           ]
          ]
         },
         "name": "rdc1_ptrq_v2",
         "type": "bar",
         "x": [
          1,
          2,
          3,
          4,
          5
         ],
         "xaxis": "x2",
         "y": [
          0.28,
          0.272,
          0.288,
          0.256,
          0.256
         ],
         "yaxis": "y2"
        },
        {
         "hovertemplate": "Well-Formatted Answers: %{y:.1%}<br>Token count: %{x}",
         "marker": {
          "cmax": 1,
          "cmin": 0,
          "color": [
           1,
           1,
           1,
           1,
           1
          ],
          "colorbar": {
           "thickness": 20,
           "tickformat": ".0%",
           "tickvals": [
            0,
            0.2,
            0.4,
            0.6,
            0.8,
            1
           ],
           "title": {
            "text": "Accuracy"
           }
          },
          "colorscale": [
           [
            0,
            "rgb(3, 35, 51)"
           ],
           [
            0.09090909090909091,
            "rgb(13, 48, 100)"
           ],
           [
            0.18181818181818182,
            "rgb(53, 50, 155)"
           ],
           [
            0.2727272727272727,
            "rgb(93, 62, 153)"
           ],
           [
            0.36363636363636365,
            "rgb(126, 77, 143)"
           ],
           [
            0.45454545454545453,
            "rgb(158, 89, 135)"
           ],
           [
            0.5454545454545454,
            "rgb(193, 100, 121)"
           ],
           [
            0.6363636363636364,
            "rgb(225, 113, 97)"
           ],
           [
            0.7272727272727273,
            "rgb(246, 139, 69)"
           ],
           [
            0.8181818181818182,
            "rgb(251, 173, 60)"
           ],
           [
            0.9090909090909091,
            "rgb(246, 211, 70)"
           ],
           [
            1,
            "rgb(231, 250, 90)"
           ]
          ]
         },
         "name": "rdc1_ptrq_v2",
         "type": "bar",
         "x": [
          1,
          2,
          3,
          4,
          5
         ],
         "xaxis": "x2",
         "y": [
          1,
          1,
          1,
          1,
          1
         ],
         "yaxis": "y2"
        },
        {
         "hovertemplate": "Accuracy: %{y:.1%}<br>Token count: %{x}",
         "marker": {
          "cmax": 1,
          "cmin": 0,
          "color": [
           0.28,
           0.272,
           0.288,
           0.272,
           0.264
          ],
          "colorbar": {
           "thickness": 20,
           "tickformat": ".0%",
           "tickvals": [
            0,
            0.2,
            0.4,
            0.6,
            0.8,
            1
           ],
           "title": {
            "text": "Accuracy"
           }
          },
          "colorscale": [
           [
            0,
            "rgb(3, 35, 51)"
           ],
           [
            0.09090909090909091,
            "rgb(13, 48, 100)"
           ],
           [
            0.18181818181818182,
            "rgb(53, 50, 155)"
           ],
           [
            0.2727272727272727,
            "rgb(93, 62, 153)"
           ],
           [
            0.36363636363636365,
            "rgb(126, 77, 143)"
           ],
           [
            0.45454545454545453,
            "rgb(158, 89, 135)"
           ],
           [
            0.5454545454545454,
            "rgb(193, 100, 121)"
           ],
           [
            0.6363636363636364,
            "rgb(225, 113, 97)"
           ],
           [
            0.7272727272727273,
            "rgb(246, 139, 69)"
           ],
           [
            0.8181818181818182,
            "rgb(251, 173, 60)"
           ],
           [
            0.9090909090909091,
            "rgb(246, 211, 70)"
           ],
           [
            1,
            "rgb(231, 250, 90)"
           ]
          ]
         },
         "name": "rdc1_ptrq_v3",
         "type": "bar",
         "x": [
          1,
          2,
          3,
          4,
          5
         ],
         "xaxis": "x3",
         "y": [
          0.28,
          0.272,
          0.288,
          0.272,
          0.264
         ],
         "yaxis": "y3"
        },
        {
         "hovertemplate": "Well-Formatted Answers: %{y:.1%}<br>Token count: %{x}",
         "marker": {
          "cmax": 1,
          "cmin": 0,
          "color": [
           1,
           1,
           1,
           1,
           1
          ],
          "colorbar": {
           "thickness": 20,
           "tickformat": ".0%",
           "tickvals": [
            0,
            0.2,
            0.4,
            0.6,
            0.8,
            1
           ],
           "title": {
            "text": "Accuracy"
           }
          },
          "colorscale": [
           [
            0,
            "rgb(3, 35, 51)"
           ],
           [
            0.09090909090909091,
            "rgb(13, 48, 100)"
           ],
           [
            0.18181818181818182,
            "rgb(53, 50, 155)"
           ],
           [
            0.2727272727272727,
            "rgb(93, 62, 153)"
           ],
           [
            0.36363636363636365,
            "rgb(126, 77, 143)"
           ],
           [
            0.45454545454545453,
            "rgb(158, 89, 135)"
           ],
           [
            0.5454545454545454,
            "rgb(193, 100, 121)"
           ],
           [
            0.6363636363636364,
            "rgb(225, 113, 97)"
           ],
           [
            0.7272727272727273,
            "rgb(246, 139, 69)"
           ],
           [
            0.8181818181818182,
            "rgb(251, 173, 60)"
           ],
           [
            0.9090909090909091,
            "rgb(246, 211, 70)"
           ],
           [
            1,
            "rgb(231, 250, 90)"
           ]
          ]
         },
         "name": "rdc1_ptrq_v3",
         "type": "bar",
         "x": [
          1,
          2,
          3,
          4,
          5
         ],
         "xaxis": "x3",
         "y": [
          1,
          1,
          1,
          1,
          1
         ],
         "yaxis": "y3"
        },
        {
         "hovertemplate": "Accuracy: %{y:.1%}<br>Token count: %{x}",
         "marker": {
          "cmax": 1,
          "cmin": 0,
          "color": [
           0.296,
           0.24,
           0.304,
           0.248,
           0.264
          ],
          "colorbar": {
           "thickness": 20,
           "tickformat": ".0%",
           "tickvals": [
            0,
            0.2,
            0.4,
            0.6,
            0.8,
            1
           ],
           "title": {
            "text": "Accuracy"
           }
          },
          "colorscale": [
           [
            0,
            "rgb(3, 35, 51)"
           ],
           [
            0.09090909090909091,
            "rgb(13, 48, 100)"
           ],
           [
            0.18181818181818182,
            "rgb(53, 50, 155)"
           ],
           [
            0.2727272727272727,
            "rgb(93, 62, 153)"
           ],
           [
            0.36363636363636365,
            "rgb(126, 77, 143)"
           ],
           [
            0.45454545454545453,
            "rgb(158, 89, 135)"
           ],
           [
            0.5454545454545454,
            "rgb(193, 100, 121)"
           ],
           [
            0.6363636363636364,
            "rgb(225, 113, 97)"
           ],
           [
            0.7272727272727273,
            "rgb(246, 139, 69)"
           ],
           [
            0.8181818181818182,
            "rgb(251, 173, 60)"
           ],
           [
            0.9090909090909091,
            "rgb(246, 211, 70)"
           ],
           [
            1,
            "rgb(231, 250, 90)"
           ]
          ]
         },
         "name": "rdc1_ptrq_v4",
         "type": "bar",
         "x": [
          1,
          2,
          3,
          4,
          5
         ],
         "xaxis": "x4",
         "y": [
          0.296,
          0.24,
          0.304,
          0.248,
          0.264
         ],
         "yaxis": "y4"
        },
        {
         "hovertemplate": "Well-Formatted Answers: %{y:.1%}<br>Token count: %{x}",
         "marker": {
          "cmax": 1,
          "cmin": 0,
          "color": [
           1,
           1,
           1,
           1,
           1
          ],
          "colorbar": {
           "thickness": 20,
           "tickformat": ".0%",
           "tickvals": [
            0,
            0.2,
            0.4,
            0.6,
            0.8,
            1
           ],
           "title": {
            "text": "Accuracy"
           }
          },
          "colorscale": [
           [
            0,
            "rgb(3, 35, 51)"
           ],
           [
            0.09090909090909091,
            "rgb(13, 48, 100)"
           ],
           [
            0.18181818181818182,
            "rgb(53, 50, 155)"
           ],
           [
            0.2727272727272727,
            "rgb(93, 62, 153)"
           ],
           [
            0.36363636363636365,
            "rgb(126, 77, 143)"
           ],
           [
            0.45454545454545453,
            "rgb(158, 89, 135)"
           ],
           [
            0.5454545454545454,
            "rgb(193, 100, 121)"
           ],
           [
            0.6363636363636364,
            "rgb(225, 113, 97)"
           ],
           [
            0.7272727272727273,
            "rgb(246, 139, 69)"
           ],
           [
            0.8181818181818182,
            "rgb(251, 173, 60)"
           ],
           [
            0.9090909090909091,
            "rgb(246, 211, 70)"
           ],
           [
            1,
            "rgb(231, 250, 90)"
           ]
          ]
         },
         "name": "rdc1_ptrq_v4",
         "type": "bar",
         "x": [
          1,
          2,
          3,
          4,
          5
         ],
         "xaxis": "x4",
         "y": [
          1,
          1,
          1,
          1,
          1
         ],
         "yaxis": "y4"
        },
        {
         "hovertemplate": "Accuracy: %{y:.1%}<br>Token count: %{x}",
         "marker": {
          "cmax": 1,
          "cmin": 0,
          "color": [
           0.28,
           0.272,
           0.272,
           0.272,
           0.28
          ],
          "colorbar": {
           "thickness": 20,
           "tickformat": ".0%",
           "tickvals": [
            0,
            0.2,
            0.4,
            0.6,
            0.8,
            1
           ],
           "title": {
            "text": "Accuracy"
           }
          },
          "colorscale": [
           [
            0,
            "rgb(3, 35, 51)"
           ],
           [
            0.09090909090909091,
            "rgb(13, 48, 100)"
           ],
           [
            0.18181818181818182,
            "rgb(53, 50, 155)"
           ],
           [
            0.2727272727272727,
            "rgb(93, 62, 153)"
           ],
           [
            0.36363636363636365,
            "rgb(126, 77, 143)"
           ],
           [
            0.45454545454545453,
            "rgb(158, 89, 135)"
           ],
           [
            0.5454545454545454,
            "rgb(193, 100, 121)"
           ],
           [
            0.6363636363636364,
            "rgb(225, 113, 97)"
           ],
           [
            0.7272727272727273,
            "rgb(246, 139, 69)"
           ],
           [
            0.8181818181818182,
            "rgb(251, 173, 60)"
           ],
           [
            0.9090909090909091,
            "rgb(246, 211, 70)"
           ],
           [
            1,
            "rgb(231, 250, 90)"
           ]
          ]
         },
         "name": "rdc1_ptrq_v5",
         "type": "bar",
         "x": [
          1,
          2,
          3,
          4,
          5
         ],
         "xaxis": "x5",
         "y": [
          0.28,
          0.272,
          0.272,
          0.272,
          0.28
         ],
         "yaxis": "y5"
        },
        {
         "hovertemplate": "Well-Formatted Answers: %{y:.1%}<br>Token count: %{x}",
         "marker": {
          "cmax": 1,
          "cmin": 0,
          "color": [
           1,
           1,
           1,
           1,
           1
          ],
          "colorbar": {
           "thickness": 20,
           "tickformat": ".0%",
           "tickvals": [
            0,
            0.2,
            0.4,
            0.6,
            0.8,
            1
           ],
           "title": {
            "text": "Accuracy"
           }
          },
          "colorscale": [
           [
            0,
            "rgb(3, 35, 51)"
           ],
           [
            0.09090909090909091,
            "rgb(13, 48, 100)"
           ],
           [
            0.18181818181818182,
            "rgb(53, 50, 155)"
           ],
           [
            0.2727272727272727,
            "rgb(93, 62, 153)"
           ],
           [
            0.36363636363636365,
            "rgb(126, 77, 143)"
           ],
           [
            0.45454545454545453,
            "rgb(158, 89, 135)"
           ],
           [
            0.5454545454545454,
            "rgb(193, 100, 121)"
           ],
           [
            0.6363636363636364,
            "rgb(225, 113, 97)"
           ],
           [
            0.7272727272727273,
            "rgb(246, 139, 69)"
           ],
           [
            0.8181818181818182,
            "rgb(251, 173, 60)"
           ],
           [
            0.9090909090909091,
            "rgb(246, 211, 70)"
           ],
           [
            1,
            "rgb(231, 250, 90)"
           ]
          ]
         },
         "name": "rdc1_ptrq_v5",
         "type": "bar",
         "x": [
          1,
          2,
          3,
          4,
          5
         ],
         "xaxis": "x5",
         "y": [
          1,
          1,
          1,
          1,
          1
         ],
         "yaxis": "y5"
        },
        {
         "hovertemplate": "Accuracy: %{y:.1%}<br>Token count: %{x}",
         "marker": {
          "cmax": 1,
          "cmin": 0,
          "color": [
           0.288,
           0.288,
           0.288,
           0.296,
           0.288
          ],
          "colorbar": {
           "thickness": 20,
           "tickformat": ".0%",
           "tickvals": [
            0,
            0.2,
            0.4,
            0.6,
            0.8,
            1
           ],
           "title": {
            "text": "Accuracy"
           }
          },
          "colorscale": [
           [
            0,
            "rgb(3, 35, 51)"
           ],
           [
            0.09090909090909091,
            "rgb(13, 48, 100)"
           ],
           [
            0.18181818181818182,
            "rgb(53, 50, 155)"
           ],
           [
            0.2727272727272727,
            "rgb(93, 62, 153)"
           ],
           [
            0.36363636363636365,
            "rgb(126, 77, 143)"
           ],
           [
            0.45454545454545453,
            "rgb(158, 89, 135)"
           ],
           [
            0.5454545454545454,
            "rgb(193, 100, 121)"
           ],
           [
            0.6363636363636364,
            "rgb(225, 113, 97)"
           ],
           [
            0.7272727272727273,
            "rgb(246, 139, 69)"
           ],
           [
            0.8181818181818182,
            "rgb(251, 173, 60)"
           ],
           [
            0.9090909090909091,
            "rgb(246, 211, 70)"
           ],
           [
            1,
            "rgb(231, 250, 90)"
           ]
          ]
         },
         "name": "rdc1_ptrq_v6",
         "type": "bar",
         "x": [
          1,
          2,
          3,
          4,
          5
         ],
         "xaxis": "x6",
         "y": [
          0.288,
          0.288,
          0.288,
          0.296,
          0.288
         ],
         "yaxis": "y6"
        },
        {
         "hovertemplate": "Well-Formatted Answers: %{y:.1%}<br>Token count: %{x}",
         "marker": {
          "cmax": 1,
          "cmin": 0,
          "color": [
           1,
           1,
           1,
           1,
           1
          ],
          "colorbar": {
           "thickness": 20,
           "tickformat": ".0%",
           "tickvals": [
            0,
            0.2,
            0.4,
            0.6,
            0.8,
            1
           ],
           "title": {
            "text": "Accuracy"
           }
          },
          "colorscale": [
           [
            0,
            "rgb(3, 35, 51)"
           ],
           [
            0.09090909090909091,
            "rgb(13, 48, 100)"
           ],
           [
            0.18181818181818182,
            "rgb(53, 50, 155)"
           ],
           [
            0.2727272727272727,
            "rgb(93, 62, 153)"
           ],
           [
            0.36363636363636365,
            "rgb(126, 77, 143)"
           ],
           [
            0.45454545454545453,
            "rgb(158, 89, 135)"
           ],
           [
            0.5454545454545454,
            "rgb(193, 100, 121)"
           ],
           [
            0.6363636363636364,
            "rgb(225, 113, 97)"
           ],
           [
            0.7272727272727273,
            "rgb(246, 139, 69)"
           ],
           [
            0.8181818181818182,
            "rgb(251, 173, 60)"
           ],
           [
            0.9090909090909091,
            "rgb(246, 211, 70)"
           ],
           [
            1,
            "rgb(231, 250, 90)"
           ]
          ]
         },
         "name": "rdc1_ptrq_v6",
         "type": "bar",
         "x": [
          1,
          2,
          3,
          4,
          5
         ],
         "xaxis": "x6",
         "y": [
          1,
          1,
          1,
          1,
          1
         ],
         "yaxis": "y6"
        }
       ],
       "layout": {
        "annotations": [
         {
          "font": {
           "size": 16
          },
          "showarrow": false,
          "text": "rdc1_ptrq_v1",
          "x": 0.041666666666666664,
          "xanchor": "center",
          "xref": "paper",
          "y": 1,
          "yanchor": "bottom",
          "yref": "paper",
          "yshift": 10
         },
         {
          "font": {
           "size": 16
          },
          "showarrow": false,
          "text": "rdc1_ptrq_v2",
          "x": 0.225,
          "xanchor": "center",
          "xref": "paper",
          "y": 1,
          "yanchor": "bottom",
          "yref": "paper",
          "yshift": 10
         },
         {
          "font": {
           "size": 16
          },
          "showarrow": false,
          "text": "rdc1_ptrq_v3",
          "x": 0.4083333333333333,
          "xanchor": "center",
          "xref": "paper",
          "y": 1,
          "yanchor": "bottom",
          "yref": "paper",
          "yshift": 10
         },
         {
          "font": {
           "size": 16
          },
          "showarrow": false,
          "text": "rdc1_ptrq_v4",
          "x": 0.5916666666666668,
          "xanchor": "center",
          "xref": "paper",
          "y": 1,
          "yanchor": "bottom",
          "yref": "paper",
          "yshift": 10
         },
         {
          "font": {
           "size": 16
          },
          "showarrow": false,
          "text": "rdc1_ptrq_v5",
          "x": 0.7750000000000001,
          "xanchor": "center",
          "xref": "paper",
          "y": 1,
          "yanchor": "bottom",
          "yref": "paper",
          "yshift": 10
         },
         {
          "font": {
           "size": 16
          },
          "showarrow": false,
          "text": "rdc1_ptrq_v6",
          "x": 0.9583333333333333,
          "xanchor": "center",
          "xref": "paper",
          "y": 1,
          "yanchor": "bottom",
          "yref": "paper",
          "yshift": 10
         }
        ],
        "barmode": "group",
        "font": {
         "color": "black",
         "family": "Arial, sans-serif",
         "size": 14
        },
        "height": 400,
        "margin": {
         "b": 50,
         "l": 50,
         "r": 100,
         "t": 120
        },
        "showlegend": false,
        "template": {
         "data": {
          "bar": [
           {
            "error_x": {
             "color": "#2a3f5f"
            },
            "error_y": {
             "color": "#2a3f5f"
            },
            "marker": {
             "line": {
              "color": "#E5ECF6",
              "width": 0.5
             },
             "pattern": {
              "fillmode": "overlay",
              "size": 10,
              "solidity": 0.2
             }
            },
            "type": "bar"
           }
          ],
          "barpolar": [
           {
            "marker": {
             "line": {
              "color": "#E5ECF6",
              "width": 0.5
             },
             "pattern": {
              "fillmode": "overlay",
              "size": 10,
              "solidity": 0.2
             }
            },
            "type": "barpolar"
           }
          ],
          "carpet": [
           {
            "aaxis": {
             "endlinecolor": "#2a3f5f",
             "gridcolor": "white",
             "linecolor": "white",
             "minorgridcolor": "white",
             "startlinecolor": "#2a3f5f"
            },
            "baxis": {
             "endlinecolor": "#2a3f5f",
             "gridcolor": "white",
             "linecolor": "white",
             "minorgridcolor": "white",
             "startlinecolor": "#2a3f5f"
            },
            "type": "carpet"
           }
          ],
          "choropleth": [
           {
            "colorbar": {
             "outlinewidth": 0,
             "ticks": ""
            },
            "type": "choropleth"
           }
          ],
          "contour": [
           {
            "colorbar": {
             "outlinewidth": 0,
             "ticks": ""
            },
            "colorscale": [
             [
              0,
              "#0d0887"
             ],
             [
              0.1111111111111111,
              "#46039f"
             ],
             [
              0.2222222222222222,
              "#7201a8"
             ],
             [
              0.3333333333333333,
              "#9c179e"
             ],
             [
              0.4444444444444444,
              "#bd3786"
             ],
             [
              0.5555555555555556,
              "#d8576b"
             ],
             [
              0.6666666666666666,
              "#ed7953"
             ],
             [
              0.7777777777777778,
              "#fb9f3a"
             ],
             [
              0.8888888888888888,
              "#fdca26"
             ],
             [
              1,
              "#f0f921"
             ]
            ],
            "type": "contour"
           }
          ],
          "contourcarpet": [
           {
            "colorbar": {
             "outlinewidth": 0,
             "ticks": ""
            },
            "type": "contourcarpet"
           }
          ],
          "heatmap": [
           {
            "colorbar": {
             "outlinewidth": 0,
             "ticks": ""
            },
            "colorscale": [
             [
              0,
              "#0d0887"
             ],
             [
              0.1111111111111111,
              "#46039f"
             ],
             [
              0.2222222222222222,
              "#7201a8"
             ],
             [
              0.3333333333333333,
              "#9c179e"
             ],
             [
              0.4444444444444444,
              "#bd3786"
             ],
             [
              0.5555555555555556,
              "#d8576b"
             ],
             [
              0.6666666666666666,
              "#ed7953"
             ],
             [
              0.7777777777777778,
              "#fb9f3a"
             ],
             [
              0.8888888888888888,
              "#fdca26"
             ],
             [
              1,
              "#f0f921"
             ]
            ],
            "type": "heatmap"
           }
          ],
          "heatmapgl": [
           {
            "colorbar": {
             "outlinewidth": 0,
             "ticks": ""
            },
            "colorscale": [
             [
              0,
              "#0d0887"
             ],
             [
              0.1111111111111111,
              "#46039f"
             ],
             [
              0.2222222222222222,
              "#7201a8"
             ],
             [
              0.3333333333333333,
              "#9c179e"
             ],
             [
              0.4444444444444444,
              "#bd3786"
             ],
             [
              0.5555555555555556,
              "#d8576b"
             ],
             [
              0.6666666666666666,
              "#ed7953"
             ],
             [
              0.7777777777777778,
              "#fb9f3a"
             ],
             [
              0.8888888888888888,
              "#fdca26"
             ],
             [
              1,
              "#f0f921"
             ]
            ],
            "type": "heatmapgl"
           }
          ],
          "histogram": [
           {
            "marker": {
             "pattern": {
              "fillmode": "overlay",
              "size": 10,
              "solidity": 0.2
             }
            },
            "type": "histogram"
           }
          ],
          "histogram2d": [
           {
            "colorbar": {
             "outlinewidth": 0,
             "ticks": ""
            },
            "colorscale": [
             [
              0,
              "#0d0887"
             ],
             [
              0.1111111111111111,
              "#46039f"
             ],
             [
              0.2222222222222222,
              "#7201a8"
             ],
             [
              0.3333333333333333,
              "#9c179e"
             ],
             [
              0.4444444444444444,
              "#bd3786"
             ],
             [
              0.5555555555555556,
              "#d8576b"
             ],
             [
              0.6666666666666666,
              "#ed7953"
             ],
             [
              0.7777777777777778,
              "#fb9f3a"
             ],
             [
              0.8888888888888888,
              "#fdca26"
             ],
             [
              1,
              "#f0f921"
             ]
            ],
            "type": "histogram2d"
           }
          ],
          "histogram2dcontour": [
           {
            "colorbar": {
             "outlinewidth": 0,
             "ticks": ""
            },
            "colorscale": [
             [
              0,
              "#0d0887"
             ],
             [
              0.1111111111111111,
              "#46039f"
             ],
             [
              0.2222222222222222,
              "#7201a8"
             ],
             [
              0.3333333333333333,
              "#9c179e"
             ],
             [
              0.4444444444444444,
              "#bd3786"
             ],
             [
              0.5555555555555556,
              "#d8576b"
             ],
             [
              0.6666666666666666,
              "#ed7953"
             ],
             [
              0.7777777777777778,
              "#fb9f3a"
             ],
             [
              0.8888888888888888,
              "#fdca26"
             ],
             [
              1,
              "#f0f921"
             ]
            ],
            "type": "histogram2dcontour"
           }
          ],
          "mesh3d": [
           {
            "colorbar": {
             "outlinewidth": 0,
             "ticks": ""
            },
            "type": "mesh3d"
           }
          ],
          "parcoords": [
           {
            "line": {
             "colorbar": {
              "outlinewidth": 0,
              "ticks": ""
             }
            },
            "type": "parcoords"
           }
          ],
          "pie": [
           {
            "automargin": true,
            "type": "pie"
           }
          ],
          "scatter": [
           {
            "fillpattern": {
             "fillmode": "overlay",
             "size": 10,
             "solidity": 0.2
            },
            "type": "scatter"
           }
          ],
          "scatter3d": [
           {
            "line": {
             "colorbar": {
              "outlinewidth": 0,
              "ticks": ""
             }
            },
            "marker": {
             "colorbar": {
              "outlinewidth": 0,
              "ticks": ""
             }
            },
            "type": "scatter3d"
           }
          ],
          "scattercarpet": [
           {
            "marker": {
             "colorbar": {
              "outlinewidth": 0,
              "ticks": ""
             }
            },
            "type": "scattercarpet"
           }
          ],
          "scattergeo": [
           {
            "marker": {
             "colorbar": {
              "outlinewidth": 0,
              "ticks": ""
             }
            },
            "type": "scattergeo"
           }
          ],
          "scattergl": [
           {
            "marker": {
             "colorbar": {
              "outlinewidth": 0,
              "ticks": ""
             }
            },
            "type": "scattergl"
           }
          ],
          "scattermapbox": [
           {
            "marker": {
             "colorbar": {
              "outlinewidth": 0,
              "ticks": ""
             }
            },
            "type": "scattermapbox"
           }
          ],
          "scatterpolar": [
           {
            "marker": {
             "colorbar": {
              "outlinewidth": 0,
              "ticks": ""
             }
            },
            "type": "scatterpolar"
           }
          ],
          "scatterpolargl": [
           {
            "marker": {
             "colorbar": {
              "outlinewidth": 0,
              "ticks": ""
             }
            },
            "type": "scatterpolargl"
           }
          ],
          "scatterternary": [
           {
            "marker": {
             "colorbar": {
              "outlinewidth": 0,
              "ticks": ""
             }
            },
            "type": "scatterternary"
           }
          ],
          "surface": [
           {
            "colorbar": {
             "outlinewidth": 0,
             "ticks": ""
            },
            "colorscale": [
             [
              0,
              "#0d0887"
             ],
             [
              0.1111111111111111,
              "#46039f"
             ],
             [
              0.2222222222222222,
              "#7201a8"
             ],
             [
              0.3333333333333333,
              "#9c179e"
             ],
             [
              0.4444444444444444,
              "#bd3786"
             ],
             [
              0.5555555555555556,
              "#d8576b"
             ],
             [
              0.6666666666666666,
              "#ed7953"
             ],
             [
              0.7777777777777778,
              "#fb9f3a"
             ],
             [
              0.8888888888888888,
              "#fdca26"
             ],
             [
              1,
              "#f0f921"
             ]
            ],
            "type": "surface"
           }
          ],
          "table": [
           {
            "cells": {
             "fill": {
              "color": "#EBF0F8"
             },
             "line": {
              "color": "white"
             }
            },
            "header": {
             "fill": {
              "color": "#C8D4E3"
             },
             "line": {
              "color": "white"
             }
            },
            "type": "table"
           }
          ]
         },
         "layout": {
          "annotationdefaults": {
           "arrowcolor": "#2a3f5f",
           "arrowhead": 0,
           "arrowwidth": 1
          },
          "autotypenumbers": "strict",
          "coloraxis": {
           "colorbar": {
            "outlinewidth": 0,
            "ticks": ""
           }
          },
          "colorscale": {
           "diverging": [
            [
             0,
             "#8e0152"
            ],
            [
             0.1,
             "#c51b7d"
            ],
            [
             0.2,
             "#de77ae"
            ],
            [
             0.3,
             "#f1b6da"
            ],
            [
             0.4,
             "#fde0ef"
            ],
            [
             0.5,
             "#f7f7f7"
            ],
            [
             0.6,
             "#e6f5d0"
            ],
            [
             0.7,
             "#b8e186"
            ],
            [
             0.8,
             "#7fbc41"
            ],
            [
             0.9,
             "#4d9221"
            ],
            [
             1,
             "#276419"
            ]
           ],
           "sequential": [
            [
             0,
             "#0d0887"
            ],
            [
             0.1111111111111111,
             "#46039f"
            ],
            [
             0.2222222222222222,
             "#7201a8"
            ],
            [
             0.3333333333333333,
             "#9c179e"
            ],
            [
             0.4444444444444444,
             "#bd3786"
            ],
            [
             0.5555555555555556,
             "#d8576b"
            ],
            [
             0.6666666666666666,
             "#ed7953"
            ],
            [
             0.7777777777777778,
             "#fb9f3a"
            ],
            [
             0.8888888888888888,
             "#fdca26"
            ],
            [
             1,
             "#f0f921"
            ]
           ],
           "sequentialminus": [
            [
             0,
             "#0d0887"
            ],
            [
             0.1111111111111111,
             "#46039f"
            ],
            [
             0.2222222222222222,
             "#7201a8"
            ],
            [
             0.3333333333333333,
             "#9c179e"
            ],
            [
             0.4444444444444444,
             "#bd3786"
            ],
            [
             0.5555555555555556,
             "#d8576b"
            ],
            [
             0.6666666666666666,
             "#ed7953"
            ],
            [
             0.7777777777777778,
             "#fb9f3a"
            ],
            [
             0.8888888888888888,
             "#fdca26"
            ],
            [
             1,
             "#f0f921"
            ]
           ]
          },
          "colorway": [
           "#636efa",
           "#EF553B",
           "#00cc96",
           "#ab63fa",
           "#FFA15A",
           "#19d3f3",
           "#FF6692",
           "#B6E880",
           "#FF97FF",
           "#FECB52"
          ],
          "font": {
           "color": "#2a3f5f"
          },
          "geo": {
           "bgcolor": "white",
           "lakecolor": "white",
           "landcolor": "#E5ECF6",
           "showlakes": true,
           "showland": true,
           "subunitcolor": "white"
          },
          "hoverlabel": {
           "align": "left"
          },
          "hovermode": "closest",
          "mapbox": {
           "style": "light"
          },
          "paper_bgcolor": "white",
          "plot_bgcolor": "#E5ECF6",
          "polar": {
           "angularaxis": {
            "gridcolor": "white",
            "linecolor": "white",
            "ticks": ""
           },
           "bgcolor": "#E5ECF6",
           "radialaxis": {
            "gridcolor": "white",
            "linecolor": "white",
            "ticks": ""
           }
          },
          "scene": {
           "xaxis": {
            "backgroundcolor": "#E5ECF6",
            "gridcolor": "white",
            "gridwidth": 2,
            "linecolor": "white",
            "showbackground": true,
            "ticks": "",
            "zerolinecolor": "white"
           },
           "yaxis": {
            "backgroundcolor": "#E5ECF6",
            "gridcolor": "white",
            "gridwidth": 2,
            "linecolor": "white",
            "showbackground": true,
            "ticks": "",
            "zerolinecolor": "white"
           },
           "zaxis": {
            "backgroundcolor": "#E5ECF6",
            "gridcolor": "white",
            "gridwidth": 2,
            "linecolor": "white",
            "showbackground": true,
            "ticks": "",
            "zerolinecolor": "white"
           }
          },
          "shapedefaults": {
           "line": {
            "color": "#2a3f5f"
           }
          },
          "ternary": {
           "aaxis": {
            "gridcolor": "white",
            "linecolor": "white",
            "ticks": ""
           },
           "baxis": {
            "gridcolor": "white",
            "linecolor": "white",
            "ticks": ""
           },
           "bgcolor": "#E5ECF6",
           "caxis": {
            "gridcolor": "white",
            "linecolor": "white",
            "ticks": ""
           }
          },
          "title": {
           "x": 0.05
          },
          "xaxis": {
           "automargin": true,
           "gridcolor": "white",
           "linecolor": "white",
           "ticks": "",
           "title": {
            "standoff": 15
           },
           "zerolinecolor": "white",
           "zerolinewidth": 2
          },
          "yaxis": {
           "automargin": true,
           "gridcolor": "white",
           "linecolor": "white",
           "ticks": "",
           "title": {
            "standoff": 15
           },
           "zerolinecolor": "white",
           "zerolinewidth": 2
          }
         }
        },
        "title": {
         "font": {
          "color": "black",
          "family": "Arial, sans-serif",
          "size": 22
         },
         "pad": {
          "b": 30
         },
         "text": "Analysis of LLaVA Model Accuracy Across Different RAG Approaches and Parameter Settings",
         "x": 0.5,
         "xanchor": "center"
        },
        "width": 1450,
        "xaxis": {
         "anchor": "y",
         "domain": [
          0,
          0.08333333333333333
         ],
         "title": {
          "text": "Token count"
         }
        },
        "xaxis2": {
         "anchor": "y2",
         "domain": [
          0.18333333333333335,
          0.26666666666666666
         ],
         "title": {
          "text": "Token count"
         }
        },
        "xaxis3": {
         "anchor": "y3",
         "domain": [
          0.3666666666666667,
          0.45
         ],
         "title": {
          "text": "Token count"
         }
        },
        "xaxis4": {
         "anchor": "y4",
         "domain": [
          0.55,
          0.6333333333333334
         ],
         "title": {
          "text": "Token count"
         }
        },
        "xaxis5": {
         "anchor": "y5",
         "domain": [
          0.7333333333333334,
          0.8166666666666668
         ],
         "title": {
          "text": "Token count"
         }
        },
        "xaxis6": {
         "anchor": "y6",
         "domain": [
          0.9166666666666666,
          1
         ],
         "title": {
          "text": "Token count"
         }
        },
        "yaxis": {
         "anchor": "x",
         "domain": [
          0,
          1
         ],
         "range": [
          0,
          1
         ],
         "tickformat": ".0%",
         "tickvals": [
          0,
          0.1,
          0.2,
          0.3,
          0.4,
          0.5,
          0.6,
          0.7,
          0.8,
          0.9,
          1
         ],
         "title": {
          "text": "Accuracy"
         }
        },
        "yaxis2": {
         "anchor": "x2",
         "domain": [
          0,
          1
         ],
         "range": [
          0,
          1
         ],
         "tickformat": ".0%",
         "tickvals": [
          0,
          0.1,
          0.2,
          0.3,
          0.4,
          0.5,
          0.6,
          0.7,
          0.8,
          0.9,
          1
         ],
         "title": {
          "text": "Accuracy"
         }
        },
        "yaxis3": {
         "anchor": "x3",
         "domain": [
          0,
          1
         ],
         "range": [
          0,
          1
         ],
         "tickformat": ".0%",
         "tickvals": [
          0,
          0.1,
          0.2,
          0.3,
          0.4,
          0.5,
          0.6,
          0.7,
          0.8,
          0.9,
          1
         ],
         "title": {
          "text": "Accuracy"
         }
        },
        "yaxis4": {
         "anchor": "x4",
         "domain": [
          0,
          1
         ],
         "range": [
          0,
          1
         ],
         "tickformat": ".0%",
         "tickvals": [
          0,
          0.1,
          0.2,
          0.3,
          0.4,
          0.5,
          0.6,
          0.7,
          0.8,
          0.9,
          1
         ],
         "title": {
          "text": "Accuracy"
         }
        },
        "yaxis5": {
         "anchor": "x5",
         "domain": [
          0,
          1
         ],
         "range": [
          0,
          1
         ],
         "tickformat": ".0%",
         "tickvals": [
          0,
          0.1,
          0.2,
          0.3,
          0.4,
          0.5,
          0.6,
          0.7,
          0.8,
          0.9,
          1
         ],
         "title": {
          "text": "Accuracy"
         }
        },
        "yaxis6": {
         "anchor": "x6",
         "domain": [
          0,
          1
         ],
         "range": [
          0,
          1
         ],
         "tickformat": ".0%",
         "tickvals": [
          0,
          0.1,
          0.2,
          0.3,
          0.4,
          0.5,
          0.6,
          0.7,
          0.8,
          0.9,
          1
         ],
         "title": {
          "text": "Accuracy"
         }
        }
       }
      }
     },
     "metadata": {},
     "output_type": "display_data"
    }
   ],
   "source": [
    "world_med_qa_v_plot_helpers.plot_rag_q_evaluation_results_by_groups(\n",
    "    title=\"Analysis of LLaVA Model Accuracy Across Different RAG Approaches and Parameter Settings\",\n",
    "    evaluation_results=evaluation_results,\n",
    "    row_variable='relevant_docs_count',\n",
    "    column_variable='prompt_type',\n",
    "    bar_graph_variable='token_count'\n",
    ")"
   ]
  }
 ],
 "metadata": {
  "kernelspec": {
   "display_name": ".venv",
   "language": "python",
   "name": "python3"
  },
  "language_info": {
   "codemirror_mode": {
    "name": "ipython",
    "version": 3
   },
   "file_extension": ".py",
   "mimetype": "text/x-python",
   "name": "python",
   "nbconvert_exporter": "python",
   "pygments_lexer": "ipython3",
   "version": "3.12.3"
  }
 },
 "nbformat": 4,
 "nbformat_minor": 2
}
