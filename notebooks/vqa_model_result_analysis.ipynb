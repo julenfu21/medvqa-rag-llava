{
 "cells": [
  {
   "cell_type": "markdown",
   "metadata": {},
   "source": [
    "# VQA Model Result Evaluation"
   ]
  },
  {
   "cell_type": "markdown",
   "metadata": {},
   "source": [
    "## 0. Environment Setup"
   ]
  },
  {
   "cell_type": "markdown",
   "metadata": {},
   "source": [
    "### 0.1. Import Necessary Libraries"
   ]
  },
  {
   "cell_type": "code",
   "execution_count": 1,
   "metadata": {},
   "outputs": [],
   "source": [
    "from pathlib import Path\n",
    "\n",
    "from datasets import disable_progress_bars\n",
    "\n",
    "import src.utils.dataset_helpers.world_med_qa_v.dataset_management as world_med_qa_v_dataset_management\n",
    "import src.utils.dataset_helpers.world_med_qa_v.plot_helpers as world_med_qa_v_plot_helpers\n",
    "from src.utils.data_definitions import DocSplitOptions\n",
    "from src.utils.enums import RagQPromptType, VQAStrategyType, ZeroShotPromptType\n",
    "from src.utils.string_formatting_helpers import to_snake_case_strategy_name\n",
    "from src.utils.text_splitters.paragraph_splitter import ParagraphSplitter\n",
    "from src.utils.text_splitters.recursive_character_splitter import RecursiveCharacterSplitter\n",
    "from src.utils.text_splitters.spacy_sentence_splitter import SpacySentenceSplitter\n",
    "from src.visual_qa_model import VisualQAModel\n",
    "from src.visual_qa_strategies.base_vqa_strategy import BaseVQAStrategy\n",
    "from src.visual_qa_strategies.rag_q_vqa_strategy import RagQVQAStrategy\n",
    "from src.visual_qa_strategies.zero_shot_vqa_strategy import ZeroShotVQAStrategy"
   ]
  },
  {
   "cell_type": "markdown",
   "metadata": {},
   "source": [
    "### 0.2. Configure Environment Settings"
   ]
  },
  {
   "cell_type": "markdown",
   "metadata": {},
   "source": [
    "Detect Google Colab Form Annotation Automatically"
   ]
  },
  {
   "cell_type": "code",
   "execution_count": 2,
   "metadata": {},
   "outputs": [
    {
     "data": {
      "text/html": [
       "\n",
       "<script>\n",
       "function code_toggle(id) {\n",
       "    var cells = document.querySelectorAll(\".jp-CodeCell\");\n",
       "    for (var cell of cells) {\n",
       "        if (cell.querySelector(\"#\" + id) !== null) {\n",
       "            var div = cell.querySelector(\".jp-InputArea\");\n",
       "            if (div.style.display === \"none\") {\n",
       "                div.style.display = \"block\";\n",
       "            } else {\n",
       "                div.style.display = \"none\";\n",
       "            }\n",
       "        }\n",
       "    }\n",
       "}\n",
       "</script>\n"
      ],
      "text/plain": [
       "<IPython.core.display.HTML object>"
      ]
     },
     "metadata": {},
     "output_type": "display_data"
    }
   ],
   "source": [
    "%load_ext ipyform\n",
    "%form_config --auto-detect 1"
   ]
  },
  {
   "cell_type": "markdown",
   "metadata": {},
   "source": [
    "Enable Automatic Module Reloading"
   ]
  },
  {
   "cell_type": "code",
   "execution_count": 3,
   "metadata": {},
   "outputs": [],
   "source": [
    "%load_ext autoreload\n",
    "%autoreload 2"
   ]
  },
  {
   "cell_type": "markdown",
   "metadata": {},
   "source": [
    "Disable Progress Bar for Dataset Filtering"
   ]
  },
  {
   "cell_type": "code",
   "execution_count": 4,
   "metadata": {},
   "outputs": [],
   "source": [
    "disable_progress_bars()"
   ]
  },
  {
   "cell_type": "markdown",
   "metadata": {},
   "source": [
    "## 1. Evaluation of VQA Approaches"
   ]
  },
  {
   "cell_type": "markdown",
   "metadata": {},
   "source": [
    "Define Constants"
   ]
  },
  {
   "cell_type": "code",
   "execution_count": 5,
   "metadata": {},
   "outputs": [],
   "source": [
    "DATASET_DIR = Path(\"data/WorldMedQA-V\")\n",
    "MODEL_NAME = \"llava\"\n",
    "COUNTRY = \"spain\"\n",
    "FILE_TYPE = \"english\"\n",
    "RESULTS_DIR = Path('evaluation_results')"
   ]
  },
  {
   "cell_type": "markdown",
   "metadata": {},
   "source": [
    "Load Dataset"
   ]
  },
  {
   "cell_type": "code",
   "execution_count": 6,
   "metadata": {},
   "outputs": [
    {
     "name": "stdout",
     "output_type": "stream",
     "text": [
      "- Loading WorldMedQA-V dataset (filename: spain_english_processed.tsv) ...\n",
      "+ WorldMedQA-V dataset (filename: spain_english_processed.tsv) loaded.\n"
     ]
    },
    {
     "data": {
      "text/plain": [
       "Dataset({\n",
       "    features: ['index', 'image', 'question', 'A', 'B', 'C', 'D', 'answer', 'correct_option', 'split'],\n",
       "    num_rows: 125\n",
       "})"
      ]
     },
     "execution_count": 6,
     "metadata": {},
     "output_type": "execute_result"
    }
   ],
   "source": [
    "world_med_qa_v_dataset = world_med_qa_v_dataset_management.load_vqa_dataset(\n",
    "    data_path=DATASET_DIR,\n",
    "    country=COUNTRY,\n",
    "    file_type=FILE_TYPE\n",
    ")\n",
    "world_med_qa_v_dataset"
   ]
  },
  {
   "cell_type": "markdown",
   "metadata": {},
   "source": [
    "### 1.1. Zero-Shot Evaluation"
   ]
  },
  {
   "cell_type": "markdown",
   "metadata": {},
   "source": [
    "Load Model"
   ]
  },
  {
   "cell_type": "code",
   "execution_count": 7,
   "metadata": {},
   "outputs": [
    {
     "name": "stdout",
     "output_type": "stream",
     "text": [
      "- Loading Zero-Shot strategy ...\n",
      "+ Zero-Shot strategy loaded.\n",
      "- Loading Llava model (prompt template: zs_v1) ...\n",
      "+ Llava model (prompt template: zs_v1) loaded.\n"
     ]
    }
   ],
   "source": [
    "llava_model = VisualQAModel(\n",
    "    visual_qa_strategy=ZeroShotVQAStrategy(prompt_type=ZeroShotPromptType.V1),\n",
    "    model_name=MODEL_NAME,\n",
    "    country=COUNTRY,\n",
    "    file_type=FILE_TYPE\n",
    ")"
   ]
  },
  {
   "cell_type": "markdown",
   "metadata": {},
   "source": [
    "Evaluate Model (Prompt Template: `zs_v1`)"
   ]
  },
  {
   "cell_type": "code",
   "execution_count": null,
   "metadata": {},
   "outputs": [],
   "source": [
    "llava_model.evaluate(\n",
    "    dataset=world_med_qa_v_dataset.take(5),\n",
    "    save_path=RESULTS_DIR\n",
    ")"
   ]
  },
  {
   "cell_type": "markdown",
   "metadata": {},
   "source": [
    "Evaluate Model (Prompt Template: `zs_v2`)"
   ]
  },
  {
   "cell_type": "code",
   "execution_count": 9,
   "metadata": {},
   "outputs": [
    {
     "name": "stderr",
     "output_type": "stream",
     "text": [
      "- Evaluating model (spain_english subset) ...: 100%|██████████| 5/5 [06:20<00:00, 76.08s/it]"
     ]
    },
    {
     "name": "stdout",
     "output_type": "stream",
     "text": [
      "+ Model evaluation (spain_english subset) completed.\n"
     ]
    },
    {
     "name": "stderr",
     "output_type": "stream",
     "text": [
      "\n"
     ]
    }
   ],
   "source": [
    "llava_model.visual_qa_strategy.prompt_type = ZeroShotPromptType.V2\n",
    "llava_model.evaluate(\n",
    "    dataset=world_med_qa_v_dataset.take(5),\n",
    "    save_path=RESULTS_DIR\n",
    ")"
   ]
  },
  {
   "cell_type": "markdown",
   "metadata": {},
   "source": [
    "Evaluate Model (Prompt Template: `zs_v3`)"
   ]
  },
  {
   "cell_type": "code",
   "execution_count": 10,
   "metadata": {},
   "outputs": [
    {
     "name": "stderr",
     "output_type": "stream",
     "text": [
      "- Evaluating model (spain_english subset) ...: 100%|██████████| 5/5 [06:24<00:00, 76.90s/it]"
     ]
    },
    {
     "name": "stdout",
     "output_type": "stream",
     "text": [
      "+ Model evaluation (spain_english subset) completed.\n"
     ]
    },
    {
     "name": "stderr",
     "output_type": "stream",
     "text": [
      "\n"
     ]
    }
   ],
   "source": [
    "llava_model.visual_qa_strategy.prompt_type = ZeroShotPromptType.V3\n",
    "llava_model.evaluate(\n",
    "    dataset=world_med_qa_v_dataset.take(5),\n",
    "    save_path=RESULTS_DIR\n",
    ")"
   ]
  },
  {
   "cell_type": "markdown",
   "metadata": {},
   "source": [
    "### 1.2. Retrieval-Augmented Generation (RAG) Evaluation"
   ]
  },
  {
   "cell_type": "markdown",
   "metadata": {},
   "source": [
    "Define Model Specific Constants"
   ]
  },
  {
   "cell_type": "code",
   "execution_count": 8,
   "metadata": {},
   "outputs": [],
   "source": [
    "INDEX_DIR = Path('data/WikiMed/indexed_db')\n",
    "INDEX_NAME = \"Wikimed+S-PubMedBert-MS-MARCO-FullTexts\"\n",
    "EMBEDDING_MODEL_NAME = \"pritamdeka/S-PubMedBert-MS-MARCO\"\n",
    "RELEVANT_DOCS_COUNT = 2"
   ]
  },
  {
   "cell_type": "markdown",
   "metadata": {},
   "source": [
    "#### 1.2.1. RAG Q (Question Only)"
   ]
  },
  {
   "cell_type": "markdown",
   "metadata": {},
   "source": [
    "Load Model"
   ]
  },
  {
   "cell_type": "code",
   "execution_count": 9,
   "metadata": {},
   "outputs": [
    {
     "name": "stdout",
     "output_type": "stream",
     "text": [
      "- Loading RAG Q strategy ...\n",
      "\t- Loading Embeddings ...\n",
      "\t+ Embeddings Loaded.\n",
      "\t- Loading Index ...\n",
      "\t+ Index Loaded.\n",
      "\t- Loading Retriever ...\n",
      "\t+ Retriever Loaded.\n",
      "+ RAG Q strategy loaded.\n",
      "- Loading Llava model (prompt template: rq_v1) ...\n",
      "+ Llava model (prompt template: rq_v1) loaded.\n"
     ]
    }
   ],
   "source": [
    "llava_model.visual_qa_strategy = RagQVQAStrategy(\n",
    "    prompt_type=RagQPromptType.V1,\n",
    "    index_dir=INDEX_DIR,\n",
    "    index_name=INDEX_NAME,\n",
    "    embedding_model_name=EMBEDDING_MODEL_NAME,\n",
    "    relevant_docs_count=RELEVANT_DOCS_COUNT\n",
    ")"
   ]
  },
  {
   "cell_type": "markdown",
   "metadata": {},
   "source": [
    "Evaluate Model (Prompt Template: `rq_v1`)"
   ]
  },
  {
   "cell_type": "markdown",
   "metadata": {},
   "source": [
    "- Document Splitter Type: `No Document Splitter`"
   ]
  },
  {
   "cell_type": "code",
   "execution_count": 24,
   "metadata": {},
   "outputs": [
    {
     "name": "stderr",
     "output_type": "stream",
     "text": [
      "- Evaluating model (spain_english subset) ...: 100%|██████████| 2/2 [07:03<00:00, 211.72s/it]"
     ]
    },
    {
     "name": "stdout",
     "output_type": "stream",
     "text": [
      "+ Model evaluation (spain_english subset) completed.\n"
     ]
    },
    {
     "name": "stderr",
     "output_type": "stream",
     "text": [
      "\n"
     ]
    }
   ],
   "source": [
    "llava_model.evaluate(\n",
    "    dataset=world_med_qa_v_dataset.take(2),\n",
    "    save_path=RESULTS_DIR\n",
    ")"
   ]
  },
  {
   "cell_type": "markdown",
   "metadata": {},
   "source": [
    "- Document Splitter Type: `Recursive Character Splitter`"
   ]
  },
  {
   "cell_type": "markdown",
   "metadata": {},
   "source": [
    "&nbsp;&nbsp;&nbsp;&nbsp;&nbsp;&nbsp;&nbsp;&nbsp;&nbsp;&nbsp;&nbsp;&nbsp;&nbsp;&nbsp;&nbsp;&nbsp;`with_title`"
   ]
  },
  {
   "cell_type": "code",
   "execution_count": 20,
   "metadata": {},
   "outputs": [
    {
     "name": "stderr",
     "output_type": "stream",
     "text": [
      "- Evaluating model (spain_english subset) ...: 100%|██████████| 2/2 [02:46<00:00, 83.10s/it]"
     ]
    },
    {
     "name": "stdout",
     "output_type": "stream",
     "text": [
      "+ Model evaluation (spain_english subset) completed.\n"
     ]
    },
    {
     "name": "stderr",
     "output_type": "stream",
     "text": [
      "\n"
     ]
    }
   ],
   "source": [
    "llava_model.evaluate(\n",
    "    dataset=world_med_qa_v_dataset.take(2),\n",
    "    save_path=RESULTS_DIR,\n",
    "    doc_splitter = RecursiveCharacterSplitter(\n",
    "        token_count=2,\n",
    "        chunk_size=200,\n",
    "        chunk_overlap=0,\n",
    "        add_title=True\n",
    "    )\n",
    ")"
   ]
  },
  {
   "cell_type": "markdown",
   "metadata": {},
   "source": [
    "&nbsp;&nbsp;&nbsp;&nbsp;&nbsp;&nbsp;&nbsp;&nbsp;&nbsp;&nbsp;&nbsp;&nbsp;&nbsp;&nbsp;&nbsp;&nbsp;`no_title`"
   ]
  },
  {
   "cell_type": "code",
   "execution_count": 21,
   "metadata": {},
   "outputs": [
    {
     "name": "stderr",
     "output_type": "stream",
     "text": [
      "- Evaluating model (spain_english subset) ...:   0%|          | 0/2 [00:00<?, ?it/s]"
     ]
    },
    {
     "name": "stderr",
     "output_type": "stream",
     "text": [
      "- Evaluating model (spain_english subset) ...: 100%|██████████| 2/2 [02:35<00:00, 77.52s/it]"
     ]
    },
    {
     "name": "stdout",
     "output_type": "stream",
     "text": [
      "+ Model evaluation (spain_english subset) completed.\n"
     ]
    },
    {
     "name": "stderr",
     "output_type": "stream",
     "text": [
      "\n"
     ]
    }
   ],
   "source": [
    "llava_model.evaluate(\n",
    "    dataset=world_med_qa_v_dataset.take(2),\n",
    "    save_path=RESULTS_DIR,\n",
    "    doc_splitter = RecursiveCharacterSplitter(\n",
    "        token_count=2,\n",
    "        chunk_size=200,\n",
    "        chunk_overlap=0,\n",
    "        add_title=False\n",
    "    )\n",
    ")"
   ]
  },
  {
   "cell_type": "markdown",
   "metadata": {},
   "source": [
    "- Document Splitter Type: `spaCy Sentence Splitter`"
   ]
  },
  {
   "cell_type": "markdown",
   "metadata": {},
   "source": [
    "&nbsp;&nbsp;&nbsp;&nbsp;&nbsp;&nbsp;&nbsp;&nbsp;&nbsp;&nbsp;&nbsp;&nbsp;&nbsp;&nbsp;&nbsp;&nbsp;`with_title`"
   ]
  },
  {
   "cell_type": "code",
   "execution_count": 25,
   "metadata": {},
   "outputs": [
    {
     "name": "stderr",
     "output_type": "stream",
     "text": [
      "- Evaluating model (spain_english subset) ...: 100%|██████████| 2/2 [02:45<00:00, 82.89s/it]"
     ]
    },
    {
     "name": "stdout",
     "output_type": "stream",
     "text": [
      "+ Model evaluation (spain_english subset) completed.\n"
     ]
    },
    {
     "name": "stderr",
     "output_type": "stream",
     "text": [
      "\n"
     ]
    }
   ],
   "source": [
    "llava_model.evaluate(\n",
    "    dataset=world_med_qa_v_dataset.take(2),\n",
    "    save_path=RESULTS_DIR,\n",
    "    doc_splitter = SpacySentenceSplitter(\n",
    "        token_count=2,\n",
    "        add_title=True\n",
    "    )\n",
    ")"
   ]
  },
  {
   "cell_type": "markdown",
   "metadata": {},
   "source": [
    "&nbsp;&nbsp;&nbsp;&nbsp;&nbsp;&nbsp;&nbsp;&nbsp;&nbsp;&nbsp;&nbsp;&nbsp;&nbsp;&nbsp;&nbsp;&nbsp;`no_title`"
   ]
  },
  {
   "cell_type": "code",
   "execution_count": 26,
   "metadata": {},
   "outputs": [
    {
     "name": "stderr",
     "output_type": "stream",
     "text": [
      "- Evaluating model (spain_english subset) ...: 100%|██████████| 2/2 [02:38<00:00, 79.35s/it]"
     ]
    },
    {
     "name": "stdout",
     "output_type": "stream",
     "text": [
      "+ Model evaluation (spain_english subset) completed.\n"
     ]
    },
    {
     "name": "stderr",
     "output_type": "stream",
     "text": [
      "\n"
     ]
    }
   ],
   "source": [
    "llava_model.evaluate(\n",
    "    dataset=world_med_qa_v_dataset.take(2),\n",
    "    save_path=RESULTS_DIR,\n",
    "    doc_splitter = SpacySentenceSplitter(\n",
    "        token_count=2,\n",
    "        add_title=False\n",
    "    )\n",
    ")"
   ]
  },
  {
   "cell_type": "markdown",
   "metadata": {},
   "source": [
    "- Document Splitter Type: `Paragraph Splitter`"
   ]
  },
  {
   "cell_type": "markdown",
   "metadata": {},
   "source": [
    "&nbsp;&nbsp;&nbsp;&nbsp;&nbsp;&nbsp;&nbsp;&nbsp;&nbsp;&nbsp;&nbsp;&nbsp;&nbsp;&nbsp;&nbsp;&nbsp;`with_title`"
   ]
  },
  {
   "cell_type": "code",
   "execution_count": 27,
   "metadata": {},
   "outputs": [
    {
     "name": "stderr",
     "output_type": "stream",
     "text": [
      "- Evaluating model (spain_english subset) ...: 100%|██████████| 2/2 [04:19<00:00, 129.72s/it]"
     ]
    },
    {
     "name": "stdout",
     "output_type": "stream",
     "text": [
      "+ Model evaluation (spain_english subset) completed.\n"
     ]
    },
    {
     "name": "stderr",
     "output_type": "stream",
     "text": [
      "\n"
     ]
    }
   ],
   "source": [
    "llava_model.evaluate(\n",
    "    dataset=world_med_qa_v_dataset.take(2),\n",
    "    save_path=RESULTS_DIR,\n",
    "    doc_splitter = ParagraphSplitter(\n",
    "        token_count=2,\n",
    "        add_title=True\n",
    "    )\n",
    ")"
   ]
  },
  {
   "cell_type": "markdown",
   "metadata": {},
   "source": [
    "&nbsp;&nbsp;&nbsp;&nbsp;&nbsp;&nbsp;&nbsp;&nbsp;&nbsp;&nbsp;&nbsp;&nbsp;&nbsp;&nbsp;&nbsp;&nbsp;`no_title`"
   ]
  },
  {
   "cell_type": "code",
   "execution_count": 28,
   "metadata": {},
   "outputs": [
    {
     "name": "stderr",
     "output_type": "stream",
     "text": [
      "- Evaluating model (spain_english subset) ...:   0%|          | 0/2 [00:00<?, ?it/s]"
     ]
    },
    {
     "name": "stderr",
     "output_type": "stream",
     "text": [
      "- Evaluating model (spain_english subset) ...: 100%|██████████| 2/2 [03:48<00:00, 114.43s/it]"
     ]
    },
    {
     "name": "stdout",
     "output_type": "stream",
     "text": [
      "+ Model evaluation (spain_english subset) completed.\n"
     ]
    },
    {
     "name": "stderr",
     "output_type": "stream",
     "text": [
      "\n"
     ]
    }
   ],
   "source": [
    "llava_model.evaluate(\n",
    "    dataset=world_med_qa_v_dataset.take(2),\n",
    "    save_path=RESULTS_DIR,\n",
    "    doc_splitter = ParagraphSplitter(\n",
    "        token_count=2,\n",
    "        add_title=False\n",
    "    )\n",
    ")"
   ]
  },
  {
   "cell_type": "markdown",
   "metadata": {},
   "source": [
    "Evaluate Model (Prompt Template: `rq_v2`)"
   ]
  },
  {
   "cell_type": "markdown",
   "metadata": {},
   "source": [
    "- Document Splitter Type: `No Document Splitter`"
   ]
  },
  {
   "cell_type": "code",
   "execution_count": 29,
   "metadata": {},
   "outputs": [
    {
     "name": "stderr",
     "output_type": "stream",
     "text": [
      "- Evaluating model (spain_english subset) ...: 100%|██████████| 2/2 [07:47<00:00, 233.96s/it]"
     ]
    },
    {
     "name": "stdout",
     "output_type": "stream",
     "text": [
      "+ Model evaluation (spain_english subset) completed.\n"
     ]
    },
    {
     "name": "stderr",
     "output_type": "stream",
     "text": [
      "\n"
     ]
    }
   ],
   "source": [
    "llava_model.visual_qa_strategy.prompt_type = RagQPromptType.V2\n",
    "llava_model.evaluate(\n",
    "    dataset=world_med_qa_v_dataset.take(2),\n",
    "    save_path=RESULTS_DIR\n",
    ")"
   ]
  },
  {
   "cell_type": "markdown",
   "metadata": {},
   "source": [
    "- Document Splitter Type: `Recursive Character Splitter`"
   ]
  },
  {
   "cell_type": "markdown",
   "metadata": {},
   "source": [
    "&nbsp;&nbsp;&nbsp;&nbsp;&nbsp;&nbsp;&nbsp;&nbsp;&nbsp;&nbsp;&nbsp;&nbsp;&nbsp;&nbsp;&nbsp;&nbsp;`with_title`"
   ]
  },
  {
   "cell_type": "code",
   "execution_count": 30,
   "metadata": {},
   "outputs": [
    {
     "name": "stderr",
     "output_type": "stream",
     "text": [
      "- Evaluating model (spain_english subset) ...: 100%|██████████| 2/2 [02:38<00:00, 79.16s/it]"
     ]
    },
    {
     "name": "stdout",
     "output_type": "stream",
     "text": [
      "+ Model evaluation (spain_english subset) completed.\n"
     ]
    },
    {
     "name": "stderr",
     "output_type": "stream",
     "text": [
      "\n"
     ]
    }
   ],
   "source": [
    "llava_model.evaluate(\n",
    "    dataset=world_med_qa_v_dataset.take(2),\n",
    "    save_path=RESULTS_DIR,\n",
    "    doc_splitter = RecursiveCharacterSplitter(\n",
    "        token_count=2,\n",
    "        chunk_size=200,\n",
    "        chunk_overlap=0,\n",
    "        add_title=True\n",
    "    )\n",
    ")"
   ]
  },
  {
   "cell_type": "markdown",
   "metadata": {},
   "source": [
    "&nbsp;&nbsp;&nbsp;&nbsp;&nbsp;&nbsp;&nbsp;&nbsp;&nbsp;&nbsp;&nbsp;&nbsp;&nbsp;&nbsp;&nbsp;&nbsp;`no_title`"
   ]
  },
  {
   "cell_type": "code",
   "execution_count": 31,
   "metadata": {},
   "outputs": [
    {
     "name": "stderr",
     "output_type": "stream",
     "text": [
      "- Evaluating model (spain_english subset) ...: 100%|██████████| 2/2 [02:34<00:00, 77.47s/it]"
     ]
    },
    {
     "name": "stdout",
     "output_type": "stream",
     "text": [
      "+ Model evaluation (spain_english subset) completed.\n"
     ]
    },
    {
     "name": "stderr",
     "output_type": "stream",
     "text": [
      "\n"
     ]
    }
   ],
   "source": [
    "llava_model.evaluate(\n",
    "    dataset=world_med_qa_v_dataset.take(2),\n",
    "    save_path=RESULTS_DIR,\n",
    "    doc_splitter = RecursiveCharacterSplitter(\n",
    "        token_count=2,\n",
    "        chunk_size=200,\n",
    "        chunk_overlap=0,\n",
    "        add_title=False\n",
    "    )\n",
    ")"
   ]
  },
  {
   "cell_type": "markdown",
   "metadata": {},
   "source": [
    "- Document Splitter Type: `spaCy Sentence Splitter`"
   ]
  },
  {
   "cell_type": "markdown",
   "metadata": {},
   "source": [
    "&nbsp;&nbsp;&nbsp;&nbsp;&nbsp;&nbsp;&nbsp;&nbsp;&nbsp;&nbsp;&nbsp;&nbsp;&nbsp;&nbsp;&nbsp;&nbsp;`with_title`"
   ]
  },
  {
   "cell_type": "code",
   "execution_count": 32,
   "metadata": {},
   "outputs": [
    {
     "name": "stderr",
     "output_type": "stream",
     "text": [
      "- Evaluating model (spain_english subset) ...: 100%|██████████| 2/2 [02:40<00:00, 80.45s/it]"
     ]
    },
    {
     "name": "stdout",
     "output_type": "stream",
     "text": [
      "+ Model evaluation (spain_english subset) completed.\n"
     ]
    },
    {
     "name": "stderr",
     "output_type": "stream",
     "text": [
      "\n"
     ]
    }
   ],
   "source": [
    "llava_model.evaluate(\n",
    "    dataset=world_med_qa_v_dataset.take(2),\n",
    "    save_path=RESULTS_DIR,\n",
    "    doc_splitter = SpacySentenceSplitter(\n",
    "        token_count=2,\n",
    "        add_title=True\n",
    "    )\n",
    ")"
   ]
  },
  {
   "cell_type": "markdown",
   "metadata": {},
   "source": [
    "&nbsp;&nbsp;&nbsp;&nbsp;&nbsp;&nbsp;&nbsp;&nbsp;&nbsp;&nbsp;&nbsp;&nbsp;&nbsp;&nbsp;&nbsp;&nbsp;`no_title`"
   ]
  },
  {
   "cell_type": "code",
   "execution_count": 33,
   "metadata": {},
   "outputs": [
    {
     "name": "stderr",
     "output_type": "stream",
     "text": [
      "- Evaluating model (spain_english subset) ...: 100%|██████████| 2/2 [02:35<00:00, 77.74s/it]"
     ]
    },
    {
     "name": "stdout",
     "output_type": "stream",
     "text": [
      "+ Model evaluation (spain_english subset) completed.\n"
     ]
    },
    {
     "name": "stderr",
     "output_type": "stream",
     "text": [
      "\n"
     ]
    }
   ],
   "source": [
    "llava_model.evaluate(\n",
    "    dataset=world_med_qa_v_dataset.take(2),\n",
    "    save_path=RESULTS_DIR,\n",
    "    doc_splitter = SpacySentenceSplitter(\n",
    "        token_count=2,\n",
    "        add_title=False\n",
    "    )\n",
    ")"
   ]
  },
  {
   "cell_type": "markdown",
   "metadata": {},
   "source": [
    "- Document Splitter Type: `Paragraph Splitter`"
   ]
  },
  {
   "cell_type": "markdown",
   "metadata": {},
   "source": [
    "&nbsp;&nbsp;&nbsp;&nbsp;&nbsp;&nbsp;&nbsp;&nbsp;&nbsp;&nbsp;&nbsp;&nbsp;&nbsp;&nbsp;&nbsp;&nbsp;`with_title`"
   ]
  },
  {
   "cell_type": "code",
   "execution_count": 34,
   "metadata": {},
   "outputs": [
    {
     "name": "stderr",
     "output_type": "stream",
     "text": [
      "- Evaluating model (spain_english subset) ...: 100%|██████████| 2/2 [04:17<00:00, 128.63s/it]"
     ]
    },
    {
     "name": "stdout",
     "output_type": "stream",
     "text": [
      "+ Model evaluation (spain_english subset) completed.\n"
     ]
    },
    {
     "name": "stderr",
     "output_type": "stream",
     "text": [
      "\n"
     ]
    }
   ],
   "source": [
    "llava_model.evaluate(\n",
    "    dataset=world_med_qa_v_dataset.take(2),\n",
    "    save_path=RESULTS_DIR,\n",
    "    doc_splitter = ParagraphSplitter(\n",
    "        token_count=2,\n",
    "        add_title=True\n",
    "    )\n",
    ")"
   ]
  },
  {
   "cell_type": "markdown",
   "metadata": {},
   "source": [
    "&nbsp;&nbsp;&nbsp;&nbsp;&nbsp;&nbsp;&nbsp;&nbsp;&nbsp;&nbsp;&nbsp;&nbsp;&nbsp;&nbsp;&nbsp;&nbsp;`no_title`"
   ]
  },
  {
   "cell_type": "code",
   "execution_count": 35,
   "metadata": {},
   "outputs": [
    {
     "name": "stderr",
     "output_type": "stream",
     "text": [
      "- Evaluating model (spain_english subset) ...: 100%|██████████| 2/2 [03:36<00:00, 108.21s/it]"
     ]
    },
    {
     "name": "stdout",
     "output_type": "stream",
     "text": [
      "+ Model evaluation (spain_english subset) completed.\n"
     ]
    },
    {
     "name": "stderr",
     "output_type": "stream",
     "text": [
      "\n"
     ]
    }
   ],
   "source": [
    "llava_model.evaluate(\n",
    "    dataset=world_med_qa_v_dataset.take(2),\n",
    "    save_path=RESULTS_DIR,\n",
    "    doc_splitter = ParagraphSplitter(\n",
    "        token_count=2,\n",
    "        add_title=False\n",
    "    )\n",
    ")"
   ]
  },
  {
   "cell_type": "markdown",
   "metadata": {},
   "source": [
    "Evaluate Model (Prompt Template: `rq_v3`)"
   ]
  },
  {
   "cell_type": "markdown",
   "metadata": {},
   "source": [
    "- Document Splitter Type: `No Document Splitter`"
   ]
  },
  {
   "cell_type": "code",
   "execution_count": 10,
   "metadata": {},
   "outputs": [
    {
     "name": "stderr",
     "output_type": "stream",
     "text": [
      "- Evaluating model (spain_english subset) ...: 100%|██████████| 2/2 [07:07<00:00, 213.70s/it]"
     ]
    },
    {
     "name": "stdout",
     "output_type": "stream",
     "text": [
      "+ Model evaluation (spain_english subset) completed.\n"
     ]
    },
    {
     "name": "stderr",
     "output_type": "stream",
     "text": [
      "\n"
     ]
    }
   ],
   "source": [
    "llava_model.visual_qa_strategy.prompt_type = RagQPromptType.V3\n",
    "llava_model.evaluate(\n",
    "    dataset=world_med_qa_v_dataset.take(2),\n",
    "    save_path=RESULTS_DIR\n",
    ")"
   ]
  },
  {
   "cell_type": "markdown",
   "metadata": {},
   "source": [
    "- Document Splitter Type: `Recursive Character Splitter`"
   ]
  },
  {
   "cell_type": "markdown",
   "metadata": {},
   "source": [
    "&nbsp;&nbsp;&nbsp;&nbsp;&nbsp;&nbsp;&nbsp;&nbsp;&nbsp;&nbsp;&nbsp;&nbsp;&nbsp;&nbsp;&nbsp;&nbsp;`with_title`"
   ]
  },
  {
   "cell_type": "code",
   "execution_count": 11,
   "metadata": {},
   "outputs": [
    {
     "name": "stderr",
     "output_type": "stream",
     "text": [
      "- Evaluating model (spain_english subset) ...: 100%|██████████| 2/2 [02:41<00:00, 80.54s/it]"
     ]
    },
    {
     "name": "stdout",
     "output_type": "stream",
     "text": [
      "+ Model evaluation (spain_english subset) completed.\n"
     ]
    },
    {
     "name": "stderr",
     "output_type": "stream",
     "text": [
      "\n"
     ]
    }
   ],
   "source": [
    "llava_model.evaluate(\n",
    "    dataset=world_med_qa_v_dataset.take(2),\n",
    "    save_path=RESULTS_DIR,\n",
    "    doc_splitter = RecursiveCharacterSplitter(\n",
    "        token_count=2,\n",
    "        chunk_size=200,\n",
    "        chunk_overlap=0,\n",
    "        add_title=True\n",
    "    )\n",
    ")"
   ]
  },
  {
   "cell_type": "markdown",
   "metadata": {},
   "source": [
    "&nbsp;&nbsp;&nbsp;&nbsp;&nbsp;&nbsp;&nbsp;&nbsp;&nbsp;&nbsp;&nbsp;&nbsp;&nbsp;&nbsp;&nbsp;&nbsp;`no_title`"
   ]
  },
  {
   "cell_type": "code",
   "execution_count": 12,
   "metadata": {},
   "outputs": [
    {
     "name": "stderr",
     "output_type": "stream",
     "text": [
      "- Evaluating model (spain_english subset) ...: 100%|██████████| 2/2 [02:32<00:00, 76.36s/it]"
     ]
    },
    {
     "name": "stdout",
     "output_type": "stream",
     "text": [
      "+ Model evaluation (spain_english subset) completed.\n"
     ]
    },
    {
     "name": "stderr",
     "output_type": "stream",
     "text": [
      "\n"
     ]
    }
   ],
   "source": [
    "llava_model.evaluate(\n",
    "    dataset=world_med_qa_v_dataset.take(2),\n",
    "    save_path=RESULTS_DIR,\n",
    "    doc_splitter = RecursiveCharacterSplitter(\n",
    "        token_count=2,\n",
    "        chunk_size=200,\n",
    "        chunk_overlap=0,\n",
    "        add_title=False\n",
    "    )\n",
    ")"
   ]
  },
  {
   "cell_type": "markdown",
   "metadata": {},
   "source": [
    "- Document Splitter Type: `spaCy Sentence Splitter`"
   ]
  },
  {
   "cell_type": "markdown",
   "metadata": {},
   "source": [
    "&nbsp;&nbsp;&nbsp;&nbsp;&nbsp;&nbsp;&nbsp;&nbsp;&nbsp;&nbsp;&nbsp;&nbsp;&nbsp;&nbsp;&nbsp;&nbsp;`with_title`"
   ]
  },
  {
   "cell_type": "code",
   "execution_count": 13,
   "metadata": {},
   "outputs": [
    {
     "name": "stderr",
     "output_type": "stream",
     "text": [
      "- Evaluating model (spain_english subset) ...: 100%|██████████| 2/2 [02:38<00:00, 79.02s/it]"
     ]
    },
    {
     "name": "stdout",
     "output_type": "stream",
     "text": [
      "+ Model evaluation (spain_english subset) completed.\n"
     ]
    },
    {
     "name": "stderr",
     "output_type": "stream",
     "text": [
      "\n"
     ]
    }
   ],
   "source": [
    "llava_model.evaluate(\n",
    "    dataset=world_med_qa_v_dataset.take(2),\n",
    "    save_path=RESULTS_DIR,\n",
    "    doc_splitter = SpacySentenceSplitter(\n",
    "        token_count=2,\n",
    "        add_title=True\n",
    "    )\n",
    ")"
   ]
  },
  {
   "cell_type": "markdown",
   "metadata": {},
   "source": [
    "&nbsp;&nbsp;&nbsp;&nbsp;&nbsp;&nbsp;&nbsp;&nbsp;&nbsp;&nbsp;&nbsp;&nbsp;&nbsp;&nbsp;&nbsp;&nbsp;`no_title`"
   ]
  },
  {
   "cell_type": "code",
   "execution_count": 14,
   "metadata": {},
   "outputs": [
    {
     "name": "stderr",
     "output_type": "stream",
     "text": [
      "- Evaluating model (spain_english subset) ...: 100%|██████████| 2/2 [02:49<00:00, 84.81s/it]"
     ]
    },
    {
     "name": "stdout",
     "output_type": "stream",
     "text": [
      "+ Model evaluation (spain_english subset) completed.\n"
     ]
    },
    {
     "name": "stderr",
     "output_type": "stream",
     "text": [
      "\n"
     ]
    }
   ],
   "source": [
    "llava_model.evaluate(\n",
    "    dataset=world_med_qa_v_dataset.take(2),\n",
    "    save_path=RESULTS_DIR,\n",
    "    doc_splitter = SpacySentenceSplitter(\n",
    "        token_count=2,\n",
    "        add_title=False\n",
    "    )\n",
    ")"
   ]
  },
  {
   "cell_type": "markdown",
   "metadata": {},
   "source": [
    "- Document Splitter Type: `Paragraph Splitter`"
   ]
  },
  {
   "cell_type": "markdown",
   "metadata": {},
   "source": [
    "&nbsp;&nbsp;&nbsp;&nbsp;&nbsp;&nbsp;&nbsp;&nbsp;&nbsp;&nbsp;&nbsp;&nbsp;&nbsp;&nbsp;&nbsp;&nbsp;`with_title`"
   ]
  },
  {
   "cell_type": "code",
   "execution_count": 15,
   "metadata": {},
   "outputs": [
    {
     "name": "stderr",
     "output_type": "stream",
     "text": [
      "- Evaluating model (spain_english subset) ...: 100%|██████████| 2/2 [04:17<00:00, 128.51s/it]"
     ]
    },
    {
     "name": "stdout",
     "output_type": "stream",
     "text": [
      "+ Model evaluation (spain_english subset) completed.\n"
     ]
    },
    {
     "name": "stderr",
     "output_type": "stream",
     "text": [
      "\n"
     ]
    }
   ],
   "source": [
    "llava_model.evaluate(\n",
    "    dataset=world_med_qa_v_dataset.take(2),\n",
    "    save_path=RESULTS_DIR,\n",
    "    doc_splitter = ParagraphSplitter(\n",
    "        token_count=2,\n",
    "        add_title=True\n",
    "    )\n",
    ")"
   ]
  },
  {
   "cell_type": "markdown",
   "metadata": {},
   "source": [
    "&nbsp;&nbsp;&nbsp;&nbsp;&nbsp;&nbsp;&nbsp;&nbsp;&nbsp;&nbsp;&nbsp;&nbsp;&nbsp;&nbsp;&nbsp;&nbsp;`no_title`"
   ]
  },
  {
   "cell_type": "code",
   "execution_count": 16,
   "metadata": {},
   "outputs": [
    {
     "name": "stderr",
     "output_type": "stream",
     "text": [
      "- Evaluating model (spain_english subset) ...: 100%|██████████| 2/2 [03:46<00:00, 113.07s/it]"
     ]
    },
    {
     "name": "stdout",
     "output_type": "stream",
     "text": [
      "+ Model evaluation (spain_english subset) completed.\n"
     ]
    },
    {
     "name": "stderr",
     "output_type": "stream",
     "text": [
      "\n"
     ]
    }
   ],
   "source": [
    "llava_model.evaluate(\n",
    "    dataset=world_med_qa_v_dataset.take(2),\n",
    "    save_path=RESULTS_DIR,\n",
    "    doc_splitter = ParagraphSplitter(\n",
    "        token_count=2,\n",
    "        add_title=False\n",
    "    )\n",
    ")"
   ]
  },
  {
   "cell_type": "markdown",
   "metadata": {},
   "source": [
    "Evaluate Model (Prompt Template: `rq_v4`)"
   ]
  },
  {
   "cell_type": "markdown",
   "metadata": {},
   "source": [
    "- Document Splitter Type: `No Document Splitter`"
   ]
  },
  {
   "cell_type": "code",
   "execution_count": 17,
   "metadata": {},
   "outputs": [
    {
     "name": "stderr",
     "output_type": "stream",
     "text": [
      "- Evaluating model (spain_english subset) ...: 100%|██████████| 2/2 [06:52<00:00, 206.30s/it]"
     ]
    },
    {
     "name": "stdout",
     "output_type": "stream",
     "text": [
      "+ Model evaluation (spain_english subset) completed.\n"
     ]
    },
    {
     "name": "stderr",
     "output_type": "stream",
     "text": [
      "\n"
     ]
    }
   ],
   "source": [
    "llava_model.visual_qa_strategy.prompt_type = RagQPromptType.V4\n",
    "llava_model.evaluate(\n",
    "    dataset=world_med_qa_v_dataset.take(2),\n",
    "    save_path=RESULTS_DIR\n",
    ")"
   ]
  },
  {
   "cell_type": "markdown",
   "metadata": {},
   "source": [
    "- Document Splitter Type: `Recursive Character Splitter`"
   ]
  },
  {
   "cell_type": "markdown",
   "metadata": {},
   "source": [
    "&nbsp;&nbsp;&nbsp;&nbsp;&nbsp;&nbsp;&nbsp;&nbsp;&nbsp;&nbsp;&nbsp;&nbsp;&nbsp;&nbsp;&nbsp;&nbsp;`with_title`"
   ]
  },
  {
   "cell_type": "code",
   "execution_count": 18,
   "metadata": {},
   "outputs": [
    {
     "name": "stderr",
     "output_type": "stream",
     "text": [
      "- Evaluating model (spain_english subset) ...: 100%|██████████| 2/2 [03:41<00:00, 110.63s/it]"
     ]
    },
    {
     "name": "stdout",
     "output_type": "stream",
     "text": [
      "+ Model evaluation (spain_english subset) completed.\n"
     ]
    },
    {
     "name": "stderr",
     "output_type": "stream",
     "text": [
      "\n"
     ]
    }
   ],
   "source": [
    "llava_model.evaluate(\n",
    "    dataset=world_med_qa_v_dataset.take(2),\n",
    "    save_path=RESULTS_DIR,\n",
    "    doc_splitter = RecursiveCharacterSplitter(\n",
    "        token_count=2,\n",
    "        chunk_size=200,\n",
    "        chunk_overlap=0,\n",
    "        add_title=True\n",
    "    )\n",
    ")"
   ]
  },
  {
   "cell_type": "markdown",
   "metadata": {},
   "source": [
    "&nbsp;&nbsp;&nbsp;&nbsp;&nbsp;&nbsp;&nbsp;&nbsp;&nbsp;&nbsp;&nbsp;&nbsp;&nbsp;&nbsp;&nbsp;&nbsp;`no_title`"
   ]
  },
  {
   "cell_type": "code",
   "execution_count": 19,
   "metadata": {},
   "outputs": [
    {
     "name": "stderr",
     "output_type": "stream",
     "text": [
      "- Evaluating model (spain_english subset) ...: 100%|██████████| 2/2 [02:49<00:00, 84.97s/it]"
     ]
    },
    {
     "name": "stdout",
     "output_type": "stream",
     "text": [
      "+ Model evaluation (spain_english subset) completed.\n"
     ]
    },
    {
     "name": "stderr",
     "output_type": "stream",
     "text": [
      "\n"
     ]
    }
   ],
   "source": [
    "llava_model.evaluate(\n",
    "    dataset=world_med_qa_v_dataset.take(2),\n",
    "    save_path=RESULTS_DIR,\n",
    "    doc_splitter = RecursiveCharacterSplitter(\n",
    "        token_count=2,\n",
    "        chunk_size=200,\n",
    "        chunk_overlap=0,\n",
    "        add_title=False\n",
    "    )\n",
    ")"
   ]
  },
  {
   "cell_type": "markdown",
   "metadata": {},
   "source": [
    "- Document Splitter Type: `spaCy Sentence Splitter`"
   ]
  },
  {
   "cell_type": "markdown",
   "metadata": {},
   "source": [
    "&nbsp;&nbsp;&nbsp;&nbsp;&nbsp;&nbsp;&nbsp;&nbsp;&nbsp;&nbsp;&nbsp;&nbsp;&nbsp;&nbsp;&nbsp;&nbsp;`with_title`"
   ]
  },
  {
   "cell_type": "code",
   "execution_count": 20,
   "metadata": {},
   "outputs": [
    {
     "name": "stderr",
     "output_type": "stream",
     "text": [
      "- Evaluating model (spain_english subset) ...: 100%|██████████| 2/2 [02:53<00:00, 86.73s/it]"
     ]
    },
    {
     "name": "stdout",
     "output_type": "stream",
     "text": [
      "+ Model evaluation (spain_english subset) completed.\n"
     ]
    },
    {
     "name": "stderr",
     "output_type": "stream",
     "text": [
      "\n"
     ]
    }
   ],
   "source": [
    "llava_model.evaluate(\n",
    "    dataset=world_med_qa_v_dataset.take(2),\n",
    "    save_path=RESULTS_DIR,\n",
    "    doc_splitter = SpacySentenceSplitter(\n",
    "        token_count=2,\n",
    "        add_title=True\n",
    "    )\n",
    ")"
   ]
  },
  {
   "cell_type": "markdown",
   "metadata": {},
   "source": [
    "&nbsp;&nbsp;&nbsp;&nbsp;&nbsp;&nbsp;&nbsp;&nbsp;&nbsp;&nbsp;&nbsp;&nbsp;&nbsp;&nbsp;&nbsp;&nbsp;`no_title`"
   ]
  },
  {
   "cell_type": "code",
   "execution_count": 21,
   "metadata": {},
   "outputs": [
    {
     "name": "stderr",
     "output_type": "stream",
     "text": [
      "- Evaluating model (spain_english subset) ...: 100%|██████████| 2/2 [02:56<00:00, 88.44s/it]"
     ]
    },
    {
     "name": "stdout",
     "output_type": "stream",
     "text": [
      "+ Model evaluation (spain_english subset) completed.\n"
     ]
    },
    {
     "name": "stderr",
     "output_type": "stream",
     "text": [
      "\n"
     ]
    }
   ],
   "source": [
    "llava_model.evaluate(\n",
    "    dataset=world_med_qa_v_dataset.take(2),\n",
    "    save_path=RESULTS_DIR,\n",
    "    doc_splitter = SpacySentenceSplitter(\n",
    "        token_count=2,\n",
    "        add_title=False\n",
    "    )\n",
    ")"
   ]
  },
  {
   "cell_type": "markdown",
   "metadata": {},
   "source": [
    "- Document Splitter Type: `Paragraph Splitter`"
   ]
  },
  {
   "cell_type": "markdown",
   "metadata": {},
   "source": [
    "&nbsp;&nbsp;&nbsp;&nbsp;&nbsp;&nbsp;&nbsp;&nbsp;&nbsp;&nbsp;&nbsp;&nbsp;&nbsp;&nbsp;&nbsp;&nbsp;`with_title`"
   ]
  },
  {
   "cell_type": "code",
   "execution_count": 22,
   "metadata": {},
   "outputs": [
    {
     "name": "stderr",
     "output_type": "stream",
     "text": [
      "- Evaluating model (spain_english subset) ...: 100%|██████████| 2/2 [04:47<00:00, 143.97s/it]"
     ]
    },
    {
     "name": "stdout",
     "output_type": "stream",
     "text": [
      "+ Model evaluation (spain_english subset) completed.\n"
     ]
    },
    {
     "name": "stderr",
     "output_type": "stream",
     "text": [
      "\n"
     ]
    }
   ],
   "source": [
    "llava_model.evaluate(\n",
    "    dataset=world_med_qa_v_dataset.take(2),\n",
    "    save_path=RESULTS_DIR,\n",
    "    doc_splitter = ParagraphSplitter(\n",
    "        token_count=2,\n",
    "        add_title=True\n",
    "    )\n",
    ")"
   ]
  },
  {
   "cell_type": "markdown",
   "metadata": {},
   "source": [
    "&nbsp;&nbsp;&nbsp;&nbsp;&nbsp;&nbsp;&nbsp;&nbsp;&nbsp;&nbsp;&nbsp;&nbsp;&nbsp;&nbsp;&nbsp;&nbsp;`no_title`"
   ]
  },
  {
   "cell_type": "code",
   "execution_count": 23,
   "metadata": {},
   "outputs": [
    {
     "name": "stderr",
     "output_type": "stream",
     "text": [
      "- Evaluating model (spain_english subset) ...: 100%|██████████| 2/2 [04:10<00:00, 125.05s/it]"
     ]
    },
    {
     "name": "stdout",
     "output_type": "stream",
     "text": [
      "+ Model evaluation (spain_english subset) completed.\n"
     ]
    },
    {
     "name": "stderr",
     "output_type": "stream",
     "text": [
      "\n"
     ]
    }
   ],
   "source": [
    "llava_model.evaluate(\n",
    "    dataset=world_med_qa_v_dataset.take(2),\n",
    "    save_path=RESULTS_DIR,\n",
    "    doc_splitter = ParagraphSplitter(\n",
    "        token_count=2,\n",
    "        add_title=False\n",
    "    )\n",
    ")"
   ]
  },
  {
   "cell_type": "markdown",
   "metadata": {},
   "source": [
    "#### 1.2.2. RAG Q+As (Question + Answers)"
   ]
  },
  {
   "cell_type": "code",
   "execution_count": null,
   "metadata": {},
   "outputs": [],
   "source": []
  },
  {
   "cell_type": "markdown",
   "metadata": {},
   "source": [
    "#### 1.2.3. RAG IMG (Image-Based)"
   ]
  },
  {
   "cell_type": "code",
   "execution_count": null,
   "metadata": {},
   "outputs": [],
   "source": []
  },
  {
   "cell_type": "markdown",
   "metadata": {},
   "source": [
    "#### 1.2.4. RAG DB-Reranker (Database with Reranker)"
   ]
  },
  {
   "cell_type": "code",
   "execution_count": null,
   "metadata": {},
   "outputs": [],
   "source": []
  },
  {
   "cell_type": "markdown",
   "metadata": {},
   "source": [
    "## 2. VQA Approaches Exploration"
   ]
  },
  {
   "cell_type": "markdown",
   "metadata": {},
   "source": [
    "Define Model Specific Constants"
   ]
  },
  {
   "cell_type": "code",
   "execution_count": 9,
   "metadata": {},
   "outputs": [],
   "source": [
    "DATASET_DIR = Path(\"data/WorldMedQA-V\")\n",
    "MODEL_NAME = \"llava\"\n",
    "COUNTRY = \"spain\"\n",
    "FILE_TYPE = \"english\"\n",
    "RESULTS_DIR = Path('evaluation_results')"
   ]
  },
  {
   "cell_type": "markdown",
   "metadata": {},
   "source": [
    "Define RAG Q Specific Constants"
   ]
  },
  {
   "cell_type": "code",
   "execution_count": 10,
   "metadata": {},
   "outputs": [],
   "source": [
    "INDEX_DIR = Path('data/WikiMed/indexed_db')\n",
    "INDEX_NAME = \"Wikimed+S-PubMedBert-MS-MARCO-FullTexts\"\n",
    "EMBEDDING_MODEL_NAME = \"pritamdeka/S-PubMedBert-MS-MARCO\"\n",
    "RELEVANT_DOCS_COUNT = 1"
   ]
  },
  {
   "cell_type": "markdown",
   "metadata": {},
   "source": [
    "Define Possible VQA Strategies"
   ]
  },
  {
   "cell_type": "code",
   "execution_count": 11,
   "metadata": {},
   "outputs": [
    {
     "name": "stdout",
     "output_type": "stream",
     "text": [
      "- Loading Zero-Shot strategy ...\n",
      "+ Zero-Shot strategy loaded.\n",
      "- Loading RAG Q strategy ...\n",
      "\t- Loading Embeddings ...\n",
      "\t+ Embeddings Loaded.\n",
      "\t- Loading Index ...\n",
      "\t+ Index Loaded.\n",
      "\t- Loading Retriever ...\n",
      "\t+ Retriever Loaded.\n",
      "+ RAG Q strategy loaded.\n"
     ]
    }
   ],
   "source": [
    "vqa_strategies: dict[VQAStrategyType, BaseVQAStrategy] = {\n",
    "    VQAStrategyType.ZERO_SHOT: ZeroShotVQAStrategy(prompt_type=ZeroShotPromptType.V1),\n",
    "    VQAStrategyType.RAG_Q: RagQVQAStrategy(\n",
    "        prompt_type=RagQPromptType.V1,\n",
    "        index_dir=INDEX_DIR,\n",
    "        index_name=INDEX_NAME,\n",
    "        embedding_model_name=EMBEDDING_MODEL_NAME,\n",
    "        relevant_docs_count=RELEVANT_DOCS_COUNT\n",
    "    ),\n",
    "    VQAStrategyType.RAG_Q_AS: None,\n",
    "    VQAStrategyType.RAG_IMG: None,\n",
    "    VQAStrategyType.RAG_DB_RERANKER: None\n",
    "}"
   ]
  },
  {
   "cell_type": "markdown",
   "metadata": {},
   "source": [
    "Load Dataset"
   ]
  },
  {
   "cell_type": "code",
   "execution_count": 12,
   "metadata": {},
   "outputs": [
    {
     "name": "stdout",
     "output_type": "stream",
     "text": [
      "- Loading WorldMedQA-V dataset (filename: spain_english_processed.tsv) ...\n",
      "+ WorldMedQA-V dataset (filename: spain_english_processed.tsv) loaded.\n"
     ]
    },
    {
     "data": {
      "text/plain": [
       "Dataset({\n",
       "    features: ['index', 'image', 'question', 'A', 'B', 'C', 'D', 'answer', 'correct_option', 'split'],\n",
       "    num_rows: 125\n",
       "})"
      ]
     },
     "execution_count": 12,
     "metadata": {},
     "output_type": "execute_result"
    }
   ],
   "source": [
    "world_med_qa_v_dataset = world_med_qa_v_dataset_management.load_vqa_dataset(\n",
    "    data_path=DATASET_DIR,\n",
    "    country=COUNTRY,\n",
    "    file_type=FILE_TYPE\n",
    ")\n",
    "world_med_qa_v_dataset"
   ]
  },
  {
   "cell_type": "markdown",
   "metadata": {},
   "source": [
    "Experiment with the Models"
   ]
  },
  {
   "cell_type": "code",
   "execution_count": 13,
   "metadata": {},
   "outputs": [
    {
     "data": {
      "application/vnd.jupyter.widget-view+json": {
       "model_id": "e2495cf5a7b74fa7abbd89f52b7e7079",
       "version_major": 2,
       "version_minor": 0
      },
      "text/plain": [
       "FormWidget(children=(VBox(children=(HTML(value=''), HTML(value='<h2>Interactive VQA Model Exploration Form</h2…"
      ]
     },
     "execution_count": 13,
     "metadata": {},
     "output_type": "execute_result"
    }
   ],
   "source": [
    "# @title Interactive VQA Model Exploration Form\n",
    "vqa_strategy_type = 'Zero-Shot' # @param [\"Zero-Shot\", \"RAG Q\", \"RAG Q+As\", \"RAG IMG\", \"RAG DB-Reranker\"]\n",
    "prompt_type = \"zs_v1\" # @param [\"zs_v1\", \"zs_v2\", \"zs_v3\", \"rq_v1\", \"rq_v2\", \"rq_v3\", \"rq_v4\"]\n",
    "question_id = 1 # @param {\"type\":\"integer\"}\n",
    "image_width = 600 # @param {\"type\":\"integer\"}\n",
    "action = 'Fetch from JSON' # @param [\"Execute Model\", \"Fetch from JSON\"]\n",
    "\n",
    "\n",
    "row = world_med_qa_v_dataset_management.get_dataset_row_by_id(\n",
    "    dataset=world_med_qa_v_dataset,\n",
    "    question_id=question_id\n",
    ")\n",
    "\n",
    "if action == \"Execute Model\":\n",
    "    formatted_vqa_strategy_type = to_snake_case_strategy_name(strategy_name=vqa_strategy_type)\n",
    "    chosen_vqa_strategy = vqa_strategies[VQAStrategyType(formatted_vqa_strategy_type)]\n",
    "    chosen_vqa_strategy.prompt_type = ZeroShotPromptType(prompt_type)\n",
    "    model=VisualQAModel(\n",
    "        visual_qa_strategy=chosen_vqa_strategy,\n",
    "        model_name=MODEL_NAME,\n",
    "        country=COUNTRY,\n",
    "        file_type=FILE_TYPE\n",
    "    )\n",
    "    world_med_qa_v_plot_helpers.visualize_qa_pair_row(\n",
    "        row=row,\n",
    "        image_width=image_width,\n",
    "        model_answer=model.generate_answer_from_row(\n",
    "            row=row,\n",
    "            possible_options=['A', 'B', 'C', 'D'],\n",
    "            verbose=True\n",
    "        )\n",
    "    )\n",
    "elif action == \"Fetch from JSON\":\n",
    "    model_answer = world_med_qa_v_dataset_management.fetch_model_answer_from_json(\n",
    "        evaluation_results_folder=RESULTS_DIR,\n",
    "        vqa_strategy_name=to_snake_case_strategy_name(strategy_name=vqa_strategy_type),\n",
    "        country=COUNTRY,\n",
    "        file_type=FILE_TYPE,\n",
    "        prompt_type_name=prompt_type,\n",
    "        question_id=question_id,\n",
    "    )\n",
    "    world_med_qa_v_plot_helpers.visualize_qa_pair_row(\n",
    "        row=row,\n",
    "        image_width=image_width,\n",
    "        model_answer=model_answer\n",
    "    )"
   ]
  },
  {
   "cell_type": "markdown",
   "metadata": {},
   "source": [
    "---"
   ]
  },
  {
   "cell_type": "code",
   "execution_count": 10,
   "metadata": {},
   "outputs": [],
   "source": [
    "import src.utils.dataset_helpers.wikimed.dataset_management as wikimed_dataset_management"
   ]
  },
  {
   "cell_type": "code",
   "execution_count": 11,
   "metadata": {},
   "outputs": [
    {
     "name": "stderr",
     "output_type": "stream",
     "text": [
      "- Loading WikiMed dataset metadata ...: 100%|██████████| 1.74G/1.74G [00:09<00:00, 179MB/s]\n"
     ]
    },
    {
     "name": "stdout",
     "output_type": "stream",
     "text": [
      "+ WikiMed dataset metadata loaded.\n"
     ]
    },
    {
     "data": {
      "text/html": [
       "<div>\n",
       "<style scoped>\n",
       "    .dataframe tbody tr th:only-of-type {\n",
       "        vertical-align: middle;\n",
       "    }\n",
       "\n",
       "    .dataframe tbody tr th {\n",
       "        vertical-align: top;\n",
       "    }\n",
       "\n",
       "    .dataframe thead th {\n",
       "        text-align: right;\n",
       "    }\n",
       "</style>\n",
       "<table border=\"1\" class=\"dataframe\">\n",
       "  <thead>\n",
       "    <tr style=\"text-align: right;\">\n",
       "      <th></th>\n",
       "      <th>id</th>\n",
       "      <th>title</th>\n",
       "      <th>word_count</th>\n",
       "      <th>sentence_count</th>\n",
       "      <th>word_quartile_interval</th>\n",
       "      <th>sentence_quartile_interval</th>\n",
       "    </tr>\n",
       "  </thead>\n",
       "  <tbody>\n",
       "    <tr>\n",
       "      <th>0</th>\n",
       "      <td>1842616</td>\n",
       "      <td>Polypterus</td>\n",
       "      <td>6834</td>\n",
       "      <td>93</td>\n",
       "      <td>[Q3, Max.)</td>\n",
       "      <td>Outlier</td>\n",
       "    </tr>\n",
       "    <tr>\n",
       "      <th>1</th>\n",
       "      <td>1842710</td>\n",
       "      <td>Etorphine</td>\n",
       "      <td>4126</td>\n",
       "      <td>35</td>\n",
       "      <td>[Q3, Max.)</td>\n",
       "      <td>[Q3, Max.)</td>\n",
       "    </tr>\n",
       "    <tr>\n",
       "      <th>2</th>\n",
       "      <td>1842870</td>\n",
       "      <td>Leeza Gibbons</td>\n",
       "      <td>6771</td>\n",
       "      <td>55</td>\n",
       "      <td>[Q3, Max.)</td>\n",
       "      <td>[Q3, Max.)</td>\n",
       "    </tr>\n",
       "    <tr>\n",
       "      <th>3</th>\n",
       "      <td>1842882</td>\n",
       "      <td>USS Niagara (1813)</td>\n",
       "      <td>14787</td>\n",
       "      <td>124</td>\n",
       "      <td>Outlier</td>\n",
       "      <td>Outlier</td>\n",
       "    </tr>\n",
       "    <tr>\n",
       "      <th>4</th>\n",
       "      <td>1843050</td>\n",
       "      <td>Meramec State Park</td>\n",
       "      <td>2685</td>\n",
       "      <td>25</td>\n",
       "      <td>[Q2, Q3)</td>\n",
       "      <td>[Q2, Q3)</td>\n",
       "    </tr>\n",
       "    <tr>\n",
       "      <th>...</th>\n",
       "      <td>...</td>\n",
       "      <td>...</td>\n",
       "      <td>...</td>\n",
       "      <td>...</td>\n",
       "      <td>...</td>\n",
       "      <td>...</td>\n",
       "    </tr>\n",
       "    <tr>\n",
       "      <th>393613</th>\n",
       "      <td>53047425</td>\n",
       "      <td>Dom Orejudos</td>\n",
       "      <td>4190</td>\n",
       "      <td>32</td>\n",
       "      <td>[Q3, Max.)</td>\n",
       "      <td>[Q3, Max.)</td>\n",
       "    </tr>\n",
       "    <tr>\n",
       "      <th>393614</th>\n",
       "      <td>53047642</td>\n",
       "      <td>List of birds of the Prince Edward Islands</td>\n",
       "      <td>2599</td>\n",
       "      <td>3</td>\n",
       "      <td>[Q2, Q3)</td>\n",
       "      <td>[Q1, Q2)</td>\n",
       "    </tr>\n",
       "    <tr>\n",
       "      <th>393615</th>\n",
       "      <td>53047754</td>\n",
       "      <td>Oakview, Queensland</td>\n",
       "      <td>2508</td>\n",
       "      <td>24</td>\n",
       "      <td>[Q2, Q3)</td>\n",
       "      <td>[Q2, Q3)</td>\n",
       "    </tr>\n",
       "    <tr>\n",
       "      <th>393616</th>\n",
       "      <td>53047783</td>\n",
       "      <td>Lilah Denton Lindsey</td>\n",
       "      <td>6434</td>\n",
       "      <td>52</td>\n",
       "      <td>[Q3, Max.)</td>\n",
       "      <td>[Q3, Max.)</td>\n",
       "    </tr>\n",
       "    <tr>\n",
       "      <th>393617</th>\n",
       "      <td>53048220</td>\n",
       "      <td>Tinnunculite</td>\n",
       "      <td>1152</td>\n",
       "      <td>9</td>\n",
       "      <td>[Q2, Q3)</td>\n",
       "      <td>[Q2, Q3)</td>\n",
       "    </tr>\n",
       "  </tbody>\n",
       "</table>\n",
       "<p>393618 rows × 6 columns</p>\n",
       "</div>"
      ],
      "text/plain": [
       "              id                                       title  word_count  \\\n",
       "0        1842616                                  Polypterus        6834   \n",
       "1        1842710                                   Etorphine        4126   \n",
       "2        1842870                               Leeza Gibbons        6771   \n",
       "3        1842882                          USS Niagara (1813)       14787   \n",
       "4        1843050                          Meramec State Park        2685   \n",
       "...          ...                                         ...         ...   \n",
       "393613  53047425                                Dom Orejudos        4190   \n",
       "393614  53047642  List of birds of the Prince Edward Islands        2599   \n",
       "393615  53047754                         Oakview, Queensland        2508   \n",
       "393616  53047783                        Lilah Denton Lindsey        6434   \n",
       "393617  53048220                                Tinnunculite        1152   \n",
       "\n",
       "        sentence_count word_quartile_interval sentence_quartile_interval  \n",
       "0                   93             [Q3, Max.)                    Outlier  \n",
       "1                   35             [Q3, Max.)                 [Q3, Max.)  \n",
       "2                   55             [Q3, Max.)                 [Q3, Max.)  \n",
       "3                  124                Outlier                    Outlier  \n",
       "4                   25               [Q2, Q3)                   [Q2, Q3)  \n",
       "...                ...                    ...                        ...  \n",
       "393613              32             [Q3, Max.)                 [Q3, Max.)  \n",
       "393614               3               [Q2, Q3)                   [Q1, Q2)  \n",
       "393615              24               [Q2, Q3)                   [Q2, Q3)  \n",
       "393616              52             [Q3, Max.)                 [Q3, Max.)  \n",
       "393617               9               [Q2, Q3)                   [Q2, Q3)  \n",
       "\n",
       "[393618 rows x 6 columns]"
      ]
     },
     "execution_count": 11,
     "metadata": {},
     "output_type": "execute_result"
    }
   ],
   "source": [
    "WIKIMED_DATASET_PATH = Path(\"data/WikiMed/WikiMed.json\")\n",
    "wikimed_dataset_metadata_df = wikimed_dataset_management.load_wikimed_dataset_metadata(data_path=WIKIMED_DATASET_PATH)\n",
    "wikimed_dataset_metadata_df"
   ]
  },
  {
   "cell_type": "code",
   "execution_count": 12,
   "metadata": {},
   "outputs": [],
   "source": [
    "row = wikimed_dataset_management.get_dataset_row_by_doc_title(\n",
    "    dataset_path=WIKIMED_DATASET_PATH,\n",
    "    dataset_metadata=wikimed_dataset_metadata_df,\n",
    "    doc_title='Bariatric surgery'\n",
    ")"
   ]
  },
  {
   "cell_type": "code",
   "execution_count": 13,
   "metadata": {},
   "outputs": [],
   "source": [
    "row2 = wikimed_dataset_management.get_dataset_row_by_doc_title(\n",
    "    dataset_path=WIKIMED_DATASET_PATH,\n",
    "    dataset_metadata=wikimed_dataset_metadata_df,\n",
    "    doc_title='Esophagogastroduodenoscopy'\n",
    ")"
   ]
  },
  {
   "cell_type": "code",
   "execution_count": 14,
   "metadata": {},
   "outputs": [],
   "source": [
    "row3 = wikimed_dataset_management.get_dataset_row_by_doc_title(\n",
    "    dataset_path=WIKIMED_DATASET_PATH,\n",
    "    dataset_metadata=wikimed_dataset_metadata_df,\n",
    "    doc_title='Mouth assessment'\n",
    ")"
   ]
  },
  {
   "cell_type": "code",
   "execution_count": 43,
   "metadata": {},
   "outputs": [
    {
     "name": "stdout",
     "output_type": "stream",
     "text": [
      "Bariatric surgery\n",
      "\n",
      "Bariatric surgery (or weight loss surgery) includes a variety of procedures performed on people who are obese. Long term weight loss through Standard of Care procedures (Roux en Y Bypass, Sleeve Gastrectomy, and Biliopancreatic Diversion with Duodenal Switch) is largely achieved by altering gut hormone levels that are responsible for hunger and satiety, leading to a new hormonal weight set\n",
      "\n",
      "Esophagogastroduodenoscopy\n",
      "\n",
      "Esophagogastroduodenoscopy (EGD; ), also called by various other names, is a diagnostic endoscopic procedure that visualizes the upper part of the gastrointestinal tract down to the duodenum. It is considered a minimally invasive procedure since it does not require an incision into one of the major body cavities and does not require any significant recovery after the procedure (unless sedation\n"
     ]
    }
   ],
   "source": [
    "from src.utils.text_splitters.paragraph_splitter import ParagraphSplitter\n",
    "from src.utils.text_splitters.spacy_sentence_splitter import SpacySentenceSplitter\n",
    "from src.utils.text_splitters.recursive_character_splitter import RecursiveCharacterSplitter\n",
    "from langchain_core.documents import Document\n",
    "\n",
    "\n",
    "# doc_splitter = ParagraphSplitter(\n",
    "#     token_count=2,\n",
    "#     add_title=False\n",
    "# )\n",
    "# doc_splitter = SpacySentenceSplitter(\n",
    "#     token_count=2,\n",
    "#     add_title=False\n",
    "# )\n",
    "doc_splitter = RecursiveCharacterSplitter(\n",
    "    token_count=2,\n",
    "    chunk_size=200,\n",
    "    chunk_overlap=0,\n",
    "    add_title=True\n",
    ")\n",
    "\n",
    "shortened_docs = doc_splitter.split_documents(\n",
    "    documents=[\n",
    "        Document(page_content=row['text']),\n",
    "        Document(page_content=row2['text']),\n",
    "        # Document(page_content=row3['text'])\n",
    "    ]\n",
    ")\n",
    "\n",
    "def format_docs(docs: list[Document]) -> str:\n",
    "    return \"\\n\\n\".join(docs)\n",
    "\n",
    "print(format_docs(shortened_docs))"
   ]
  },
  {
   "cell_type": "markdown",
   "metadata": {},
   "source": [
    "---"
   ]
  },
  {
   "cell_type": "code",
   "execution_count": 78,
   "metadata": {},
   "outputs": [
    {
     "name": "stdout",
     "output_type": "stream",
     "text": [
      "Bariatric surgery\n",
      "\n",
      "Bariatric surgery (or weight loss surgery) includes a variety of procedures performed on people who are obese. Long term weight loss through Standard of Care procedures (Roux en Y Bypass, Sleeve Gastrectomy, and Biliopancreatic Diversion with Duodenal Switch) is largely achieved by altering gut hormone levels that are responsible for hunger and satiety, leading to a new hormonal weight set point . Bariatric surgery is a hormonal surgery in these procedures, for which the alteration in gut hormones develops as a result of the procedure's restriction and malabsorption. \n",
      "\n",
      "Long-term studies show the procedures cause significant long-term loss of weight, recovery from diabetes, improvement in cardiovascular risk factors, and a mortality reduction from 40% to 23%. The U.S. National Institutes of Health recommends bariatric surgery for obese people with a body mass index (BMI) of at least 40, and for people with BMI of at least 35 and serious coexisting medical conditions such as diabetes. However, research is emerging that suggests bariatric surgery could be appropriate for those with a BMI of 35 to 40 with no comorbidities or a BMI of 30 to 35 with significant comorbidities. The most recent American Society for Metabolic & Bariatric Surgery guidelines suggest the position statement on consensus for BMI as an indication for bariatric surgery. The recent guidelines suggest that any patient with a BMI of more than 30 with comorbidities is a candidate for bariatric surgery.\n",
      "\n",
      "A National Institute of Health symposium held in 2013 that summarized available evidence found a 29% mortality reduction, a 10-year remission rate of type 2 diabetes of 36%, fewer cardiovascular events, and a lower rate of diabetes-related complications in a long-term, non-randomized, matched intervention 15–20 year follow-up study, the Swedish Obese Subjects Study. The symposium also found similar results from a Utah study using more modern gastric bypass techniques, though the follow-up periods of the Utah studies are only up to seven years. While randomized controlled trials of bariatric surgery exist, they are limited by short follow-up periods.\n",
      "\n",
      "A medical guideline by the American College of Physicians concluded:\n",
      "\n",
      "BULLET::::- \"Surgery should be considered as a treatment option for patients with a BMI of 40 kg/m or greater who instituted but failed an adequate exercise and diet program (with or without adjunctive drug therapy) and who present with obesity-related comorbid conditions, such as hypertension, impaired glucose tolerance, diabetes mellitus, hyperlipidemia, and obstructive sleep apnea. A doctor–patient discussion of surgical options should include the long-term side effects, such as a possible need for reoperation, gallbladder disease, and malabsorption.\"\n",
      "BULLET::::- \"Patients should be referred to high-volume centers with surgeons experienced in bariatric surgery.\"\n",
      "\n",
      "The surgery is contraindicated in patients who have end stage disease and also in patients not committed to make lifestyle changes considered ideal for the surgery.\n",
      "In 2011, the International Diabetes Federation issued a position statement suggesting \"Under some \n",
      "circumstances, people with a BMI 30–35 should be eligible for surgery.\" When determining eligibility for bariatric surgery for extremely obese patients, psychiatric screening is critical; it is also critical for determining postoperative success. Patients with a body-mass index of 40 kg/m or greater have a 5-fold risk of depression, and half of bariatric surgery candidates are depressed.\n",
      "\n",
      "In general, the malabsorptive procedures lead to more weight loss than the restrictive procedures; however, they have a higher risk profile. A meta-analysis from University of California, Los Angeles, reports the following weight loss at 36 months:\n",
      "\n",
      "BULLET::::- Biliopancreatic diversion — 117 Lbs / 53 kg\n",
      "BULLET::::- Roux-en-Y gastric bypass (RYGB) — 90 Lbs / 41 kg\n",
      "BULLET::::- Open — 95 Lbs/ 43 kg\n",
      "BULLET::::- Laparoscopic — 84 Lbs / 38 kg\n",
      "BULLET::::- Vertical banded gastroplasty — 71 Lbs / 32 kg\n",
      "\n",
      "A 2017 meta-analysis showed bariatric surgery to be effective for weight loss in adolescents, as assessed 36 months after the intervention. The same meta-analysis noted that additional data is needed to determine whether it is also effective for long-term weight loss in adolescents. According to the Canadian Agency for Drugs and Technologies in Health, the comparative evidence base for bariatric surgery in adolescents and young adults is \"...limited to a few studies that were narrow in scope and with relatively small sample sizes.\"\n",
      "\n",
      "Another 2017 meta-analysis reported that it was effective at reducing weight among morbidly obese adults in China.\n",
      "\n",
      "In the short term, weight loss from bariatric surgeries is associated with reductions in some comorbidities of obesity, such as diabetes, metabolic syndrome and sleep apnea, but the benefit for hypertension is uncertain. It is uncertain whether any given bariatric procedure is more effective than another in controlling comorbidities. There is no high quality evidence concerning longer-term effects compared with conventional treatment on comorbidities.\n",
      "\n",
      "Bariatric surgery in older patients has also been a topic of debate, centered on concerns for safety in this population; the relative benefits and risks in this population is not known.\n",
      "\n",
      "Given the remarkable rate of diabetes remission with bariatric surgery, there is considerable interest in offering this intervention to people with type 2 diabetes who have a lower BMI than is generally required for bariatric surgery, but high quality evidence is lacking and optimal timing of the procedure is uncertain.\n",
      "\n",
      "Laparoscopic bariatric surgery requires a hospital stay of only one or two days. Short-term complications from laparoscopic adjustable gastric banding are reported to be lower than laparoscopic Roux-en-Y surgery, and complications from laparoscopic Roux-en-Y surgery are lower than conventional (open) Roux-en-Y surgery.\n",
      "\n",
      "The position of the American Society for Metabolic and Bariatric Surgery as of 2017 was that it was not clearly understood whether medical weight-loss treatments or bariatric surgery had an effect responsiveness to subsequent treatments for infertility in both men and women. Bariatric surgery reduces the risk of gestational diabetes and hypertensive disorders of pregnancy in women who later become pregnant but increases the risk of preterm birth.\n",
      "\n",
      "Some studies have suggested that psychological health can improve after bariatric surgery.\n",
      "\n",
      "Weight loss surgery in adults is associated with relatively large risks and complications, compared to other treatments for obesity.\n",
      "\n",
      "The likelihood of major complications from weight-loss surgery is 4%. “Sleeve gastrectomy had the lowest complication and reoperation rates of the three (main weight-loss surgery) procedures...The percentage of procedures requiring reoperations due to complications was 15.3 percent for the gastric band, 7.7 percent for gastric bypass and 1.5 percent for sleeve gastrectomy” - American Society for Metabolic and Bariatric Surgery\n",
      "\n",
      "As the rate of complications appears to be reduced when the procedure is performed by an experienced surgeon, guidelines recommend that surgery be performed in dedicated or experienced units. It has been observed that the rate of leaks was greater in low volume centres whereas high volume centres showed a lesser leak rate. Leak rates have now globally decreased to a mean of 1-5%.\n",
      "\n",
      "Metabolic bone disease manifesting as osteopenia and secondary hyperparathyroidism\n",
      "have been reported after Roux-en-Y gastric bypass surgery due to reduced calcium\n",
      "absorption. The highest concentration of calcium transporters is in the duodenum. Since the ingested food will not pass through the duodenum after a bypass procedure, calcium levels in the blood may decrease, causing secondary hyperparathyroidism, increase in bone turnover, and a decrease in bone mass. Increased risk of fracture has also been linked to bariatric surgery.\n",
      "\n",
      "Rapid weight loss after obesity surgery can contribute to the development of gallstones as well by increasing the lithogenicity of bile. Adverse effects on the kidneys have been studied. Hyperoxaluria that can potentially lead to oxalate nephropathy and irreversible renal failure is the most significant abnormality seen on urine chemistry studies. Rhabdomyolysis leading to acute kidney injury, and impaired renal handling of acid and base has been reported after bypass surgery.\n",
      "\n",
      "Nutritional derangements due to deficiencies of micronutrients like iron, vitamin B12, fat soluble vitamins, thiamine, and folate are especially common after malabsorptive bariatric procedures. Seizures due to hyperinsulinemic hypoglycemia have been reported. Inappropriate insulin secretion secondary to islet cell hyperplasia, called pancreatic nesidioblastosis, might explain this syndrome.\n",
      "\n",
      "Self-harm behaviors and suicide appear to be increased in people with mental health issues in the five years after bariatric surgery had been done.\n",
      "\n",
      "Procedures can be grouped in three main categories: blocking, restricting, and mixed which is now understood to work by altering gut hormone levels responsible for hunger and satiety. Standard of care in the United States and most of the industrialized world in 2009 is for laparoscopic as opposed to open procedures. Future trends are attempting to achieve similar or better results via endoscopic procedures.\n",
      "\n",
      "Some procedures block absorption of food, although they also reduce stomach size.\n",
      "\n",
      "This operation is termed \"biliopancreatic diversion\" (BPD) or the \"Scopinaro procedure\". The original form of this procedure is now rarely performed because of problems with. It has been replaced with a modification known as duodenal switch (BPD/DS). Part of the stomach is resected, creating a smaller stomach (however the patient can eat a free diet as there is no restrictive component). The distal part of the small intestine is then connected to the pouch, bypassing the duodenum and jejunum.\n",
      "\n",
      "In around 2% of patients there is severe malabsorption and nutritional deficiency that requires restoration of the normal absorption. The malabsorptive effect of BPD is so potent that, as in most restrictive procedures, those who undergo the procedure must take vitamin and dietary minerals above and beyond that of the normal population. Without these supplements, there is risk of serious deficiency diseases such as anemia and osteoporosis.\n",
      "\n",
      "Because gallstones are a common complication of the rapid weight loss following any type of bariatric surgery, some surgeons remove the gallbladder as a preventive measure during BPD. Others prefer to prescribe medications to reduce the risk of post-operative gallstones.\n",
      "\n",
      "Far fewer surgeons perform BPD compared to other weight loss surgeries, in part because of the need for long-term nutritional follow-up and monitoring of BPD patients.\n",
      "\n",
      "This procedure is no longer performed. It was a surgical weight-loss procedure performed for the relief of morbid obesity from the 1950s through the 1970s in which all but 30 cm (12 in) to 45 cm (18 in) of the small bowel was detached and set to the side.\n",
      "\n",
      "A study on humans was done in Chile using the same technique however the results were not conclusive and the device had issues with migration and slipping. A study recently done in the Netherlands found a decrease of 5.5 BMI points in 3 months with an endoluminal sleeve\n",
      "\n",
      "Procedures that are restrictive shrink the size of the stomach or take up space inside the stomach, making people feel more full when they eat less.\n",
      "\n",
      "In the vertical banded gastroplasty, also called the Mason procedure or stomach stapling, a part of the stomach is permanently stapled to create a smaller pre-stomach pouch, which serves as the new stomach.\n",
      "\n",
      "The restriction of the stomach also can be created using a silicone band, which can be adjusted by addition or removal of saline through a port placed just under the skin. This operation can be performed laparoscopically, and is commonly referred to as a \"lap band\". Weight loss is predominantly due to the restriction of nutrient intake that is created by the small gastric pouch and the narrow outlet.\n",
      "\n",
      "It is considered one of the safest procedures performed today with a mortality rate of 0.05%.\n",
      "Sleeve gastrectomy, or gastric sleeve, is a surgical weight-loss procedure in which the stomach is reduced to about 15% of its original size, by surgical removal of a large portion of the stomach, following the major curve. The open edges are then attached together (typically with surgical staples, sutures, or both) to leave the stomach shaped more like a tube, or a sleeve, with a banana shape. The procedure permanently reduces the size of the stomach. The procedure is performed laparoscopically and is not reversible. It has been found to be comparable in effectiveness to Roux-en-Y gastric bypass.\n",
      "\n",
      "Intragastric balloon involves placing a deflated balloon into the stomach, and then filling it to decrease the amount of gastric space. The balloon can be left in the stomach for a maximum of 6 months and results in an average weight loss of 5–9 BMI over half a year. The intragastric balloon is approved in Australia, Canada, Mexico, India, United States (received FDA approval in 2015) and several European and South American countries. The intragastric balloon may be used prior to another bariatric surgery in order to assist the patient to reach a weight which is suitable for surgery, further it can also be used on several occasions if necessary.\n",
      "\n",
      "There are three cost categories for the intragastric balloon: pre-operative (e.g. professional fees, lab work and testing), the procedure itself (e.g. surgeon, surgical assistant, anesthesia and hospital fees) and post-operative (e.g. follow-up physician office visits, vitamins and supplements).\n",
      "\n",
      "Quoted costs for the intragastric balloon are surgeon-specific and vary by region. Average quoted costs by region are as follows (provided in United States Dollars for comparison): Australia: US$4,178; Canada: US$8,250; Mexico: US$5,800; United Kingdom: US$6,195; United States: US$8,150).\n",
      "\n",
      "Basically, the procedure can best be understood as a version of the more popular gastric sleeve or gastrectomy surgery where a sleeve is created by suturing rather than removing stomach tissue thus preserving its natural nutrient absorption capabilities. Gastric plication significantly reduces the volume of the patient's stomach, so smaller amounts of food provide a feeling of satiety. The procedure is producing some significant results that were published in a recent study in \"Bariatric Times\" and are based on post-operative outcomes for 66 patients (44 female) who had the gastric sleeve plication procedure between January 2007 and March 2010. Mean patient age was 34, with a mean BMI of 35. Follow-up visits for the assessment of safety and weight loss were scheduled at regular intervals in the postoperative period. No major complications were reported among the 66 patients. Weight loss outcomes are comparable to gastric bypass.\n",
      "\n",
      "The study describes gastric sleeve plication (also referred to as gastric imbrication or laparoscopic greater curvature plication) as a restrictive technique that eliminates the complications associated with adjustable gastric banding and vertical sleeve gastrectomy—it does this by creating restriction without the use of implants and without gastric resection (cutting) and staples.\n",
      "\n",
      "Mixed procedures apply block and restrict at the same time.\n",
      "\n",
      "A common form of gastric bypass surgery is the Roux-en-Y gastric bypass, designed to alter the gut hormones that control hunger and satiety. While the complete hormonal mechanisms are still being understood, it is now widely accepted that this is a hormonal procedure in addition to restriction and malabsorption properties. Gastric bypass is a permanent procedure that helps patients reset hunger and satiety and by altering stomach and small intestine handle the food that is eaten to achieve and maintain weight loss goals. After the surgery, the stomach will be smaller and there will be an increase in baseline satiety hormones, to help the patient will feel full with less food.\n",
      "\n",
      "The gastric bypass had been the most commonly performed operation for weight loss in the United States, and approximately 140,000 gastric bypass procedures were performed in 2005. Its market share has decreased since then and by 2011, the frequency of gastric bypass was thought to be less than 50% of the weight loss surgery market. \n",
      "A factor in the success of any bariatric surgery is strict post-surgical adherence to a healthy pattern of eating.\n",
      "\n",
      "There are certain patients who cannot tolerate the malabsorption and dumping syndrome associated with gastric bypass. In such patients, although earlier considered to be an irreversible procedure, there are instances where gastric bypass procedure can be partially reversed.\n",
      "\n",
      "A variation of the biliopancreatic diversion includes a duodenal switch. The part of the stomach along its greater curve is resected. The stomach is \"tubulized\" with a residual volume of about 150 ml. This volume reduction provides the food intake restriction component of this operation. This type of gastric resection is anatomically and functionally irreversible. The stomach is then disconnected from the duodenum and connected to the distal part of the small intestine. The duodenum and the upper part of the small intestine are reattached to the rest at about 75–100 cm from the colon.. Like the Roux en Y Bypass, it is now understood that it's results are largely due to a significant alteration in gut hormones that control hunger and satiety, in addition to its restriction and malabsorption properties. The addition of the sleeve gastrectomy, causes further gut hormone set- point alterations by reducing levels of the hunger hormone, Ghrelin.\n",
      "\n",
      "This procedure where a device similar to a heart pacemaker that is implanted by a surgeon, with the electrical leads stimulating the external surface of the stomach, is being studied in the USA. Electrical stimulation is thought to modify the activity of the enteric nervous system of the stomach, which is interpreted by the brain to give a sense of satiety, or fullness. Early evidence suggests that it is less effective than other forms of bariatric surgery.\n",
      "\n",
      "After a person successfully loses weight following bariatric surgery, they are usually left with excess skin. These are addressed in a series of plastic surgery procedures sometimes called body contouring in which the skin flaps are removed. Targeted areas include the arms, buttocks and thighs, abdomen, and breasts. These procedures are taken slowly, step by step, and from beginning to end often takes three years. A single body lifting operation can require seven to 10 hours under general anesthesia, blood transfusions and often, another surgeon to assist. Possible risks include infections and reactions and complications due to being under anesthesia for longer than six hours. The person may also experience \"seroma\", a buildup of fluid; \"dehiscence\" (wound separation) and deep vein thrombosis (blood clots forming in the legs.) Rare complications include lymphatic injury and major wound dehiscence. The hospital stay for the procedure can require from one to four days while recovery can require about a month.\n",
      "\n",
      "Immediately after bariatric surgery, the patient is restricted to a clear liquid diet, which includes foods such as clear broth, diluted fruit juices or sugar-free drinks and gelatin desserts. This diet is continued until the gastrointestinal tract has recovered somewhat from the surgery. The next stage provides a blended or pureed sugar-free diet for at least two weeks. This may consist of high protein, liquid or soft foods such as protein shakes, soft meats, and dairy products. Foods high in carbohydrates are usually avoided when possible during the initial weight loss period.\n",
      "\n",
      "Post-surgery, overeating is curbed because exceeding the capacity of the stomach causes nausea and vomiting. Diet restrictions after recovery from surgery depend in part on the type of surgery. Many patients will need to take a daily multivitamin pill for life to compensate for reduced absorption of essential nutrients. Because patients cannot eat a large quantity of food, physicians typically recommend a diet that is relatively high in protein and low in fats and alcohol.\n",
      "\n",
      "It is very common, within the first month post-surgery, for a patient to undergo volume depletion and dehydration. Patients have difficulty drinking the appropriate amount of fluids as they adapt to their new gastric volume. Limitations on oral fluid intake, reduced calorie intake, and a higher incidence of vomiting and diarrhea are all factors that have a significant contribution to dehydration.\n",
      "\n",
      "As childhood obesity has more than doubled over recent years and more than tripled in adolescents (according to the Centers for Disease Control and Prevention), bariatric surgery for youth has become increasingly common. Some worry that a decline in life expectancy might occur from the increasing levels of obesity, so providing youth with proper care may help prevent the serious medical complications caused by obesity and its related diseases. Difficulties and ethical issues arise when making decisions related to obesity treatments for those that are too young or otherwise unable to give consent without adult guidance.\n",
      "\n",
      "Children and adolescents are still developing, both physically and mentally. This makes it difficult for them to make an informed decision and give consent to move forward with a treatment. These patients may also be experiencing severe depression or other psychological disorders related to their obesity that make understanding the information very difficult.\n",
      "\n",
      "Open weight loss surgery began slowly in the 1950s with the intestinal bypass. It involved anastomosis of the upper and lower intestine, which bypasses a large amount of the absorptive circuit, which caused weight loss purely by the malabsorption of food. Later Drs. J. Howard Payne, Lorent T. DeWind and Robert R. Commons developed in 1963 the Jejuno-colic Shunt, which connected the upper small intestine to the colon. The laboratory research leading to gastric bypass did not begin until 1965 when Dr. Edward E. Mason (b. 1920) and Dr. Chikashi Ito (1930–2013) at the University of Iowa developed the original gastric bypass for weight reduction which led to fewer complications than the intestinal bypass and for this reason Mason is known as the \"father of obesity surgery\".\n",
      "\n",
      "BULLET::::- Revision weight loss surgery\n",
      "BULLET::::- Endoscopic sleeve gastroplasty\n"
     ]
    }
   ],
   "source": [
    "print(row['text'])"
   ]
  },
  {
   "cell_type": "code",
   "execution_count": 12,
   "metadata": {},
   "outputs": [],
   "source": [
    "row = world_med_qa_v_dataset_management.get_dataset_row_by_id(\n",
    "    dataset=world_med_qa_v_dataset,\n",
    "    question_id=1\n",
    ")"
   ]
  },
  {
   "cell_type": "code",
   "execution_count": 19,
   "metadata": {},
   "outputs": [],
   "source": [
    "from typing import Union\n",
    "from langchain_core.documents import Document\n",
    "\n",
    "from src.utils.text_splitters.base_splitter import BaseSplitter\n",
    "\n",
    "\n",
    "class HamiltonSplitter(BaseSplitter):\n",
    "\n",
    "    def split_documents(self, documents: list[Document]) -> list[str]:\n",
    "        shortened_documents = []\n",
    "\n",
    "        for document in documents:\n",
    "            page_content = document.page_content\n",
    "            split_paragraphs = [par.strip() for par in page_content.split('\\n\\n')]\n",
    "            split_paragraphs = self._add_title_if_needed(split_document=split_paragraphs)\n",
    "\n",
    "            shortened_paragraphs = split_paragraphs[:self._token_count]\n",
    "            shortened_text = self._join_paragraphs(shortened_paragraphs)\n",
    "            shortened_documents.append(shortened_text)\n",
    "\n",
    "        return shortened_documents\n",
    "\n",
    "    def _join_paragraphs(\n",
    "        self,\n",
    "        paragraphs: Union[list[str], list[Document]]\n",
    "    ) -> str:\n",
    "        return \"\\n\\n\".join(paragraphs)\n"
   ]
  },
  {
   "cell_type": "code",
   "execution_count": 14,
   "metadata": {},
   "outputs": [
    {
     "name": "stdout",
     "output_type": "stream",
     "text": [
      "- Generating Answer for Question (ID: 1) ...\n",
      "2\n",
      "[\"Bariatric surgery\\n\\nBariatric surgery (or weight loss surgery) includes a variety of procedures performed on people who are obese. Long term weight loss through Standard of Care procedures (Roux en Y Bypass, Sleeve Gastrectomy, and Biliopancreatic Diversion with Duodenal Switch) is largely achieved by altering gut hormone levels that are responsible for hunger and satiety, leading to a new hormonal weight set point . Bariatric surgery is a hormonal surgery in these procedures, for which the alteration in gut hormones develops as a result of the procedure's restriction and malabsorption.\\n\\nLong-term studies show the procedures cause significant long-term loss of weight, recovery from diabetes, improvement in cardiovascular risk factors, and a mortality reduction from 40% to 23%. The U.S. National Institutes of Health recommends bariatric surgery for obese people with a body mass index (BMI) of at least 40, and for people with BMI of at least 35 and serious coexisting medical conditions such as diabetes. However, research is emerging that suggests bariatric surgery could be appropriate for those with a BMI of 35 to 40 with no comorbidities or a BMI of 30 to 35 with significant comorbidities. The most recent American Society for Metabolic & Bariatric Surgery guidelines suggest the position statement on consensus for BMI as an indication for bariatric surgery. The recent guidelines suggest that any patient with a BMI of more than 30 with comorbidities is a candidate for bariatric surgery.\", 'Bariatrics\\n\\nBariatrics is the branch of medicine that deals with the causes, prevention, and treatment of obesity.\\n\\nThe term \"bariatrics\" was coined around 1965, from the Greek root \"bar\"- (\"weight\" as in barometer), suffix -\"iatr\" (\"treatment,\" as in pediatrics), and suffix -\"ic\" (\"pertaining to\"). The field encompasses dieting, exercise and behavioral therapy approaches to weight loss, as well as pharmacotherapy and surgery. The term is also used in the medical field as somewhat of a euphemism to refer to people of larger sizes without regard to their participation in any treatment specific to weight loss, such as medical supply catalogs featuring larger hospital gowns and hospital beds referred to as \"bariatric.\"']\n",
      "+ Answer for Question (ID: 1) generated.\n",
      "model_answer: 'ModelAnswerResult(answer='A', relevant_documents=[\"Bariatric surgery\\n\\nBariatric surgery (or weight loss surgery) includes a variety of procedures performed on people who are obese. Long term weight loss through Standard of Care procedures (Roux en Y Bypass, Sleeve Gastrectomy, and Biliopancreatic Diversion with Duodenal Switch) is largely achieved by altering gut hormone levels that are responsible for hunger and satiety, leading to a new hormonal weight set point . Bariatric surgery is a hormonal surgery in these procedures, for which the alteration in gut hormones develops as a result of the procedure's restriction and malabsorption.\\n\\nLong-term studies show the procedures cause significant long-term loss of weight, recovery from diabetes, improvement in cardiovascular risk factors, and a mortality reduction from 40% to 23%. The U.S. National Institutes of Health recommends bariatric surgery for obese people with a body mass index (BMI) of at least 40, and for people with BMI of at least 35 and serious coexisting medical conditions such as diabetes. However, research is emerging that suggests bariatric surgery could be appropriate for those with a BMI of 35 to 40 with no comorbidities or a BMI of 30 to 35 with significant comorbidities. The most recent American Society for Metabolic & Bariatric Surgery guidelines suggest the position statement on consensus for BMI as an indication for bariatric surgery. The recent guidelines suggest that any patient with a BMI of more than 30 with comorbidities is a candidate for bariatric surgery.\", 'Bariatrics\\n\\nBariatrics is the branch of medicine that deals with the causes, prevention, and treatment of obesity.\\n\\nThe term \"bariatrics\" was coined around 1965, from the Greek root \"bar\"- (\"weight\" as in barometer), suffix -\"iatr\" (\"treatment,\" as in pediatrics), and suffix -\"ic\" (\"pertaining to\"). The field encompasses dieting, exercise and behavioral therapy approaches to weight loss, as well as pharmacotherapy and surgery. The term is also used in the medical field as somewhat of a euphemism to refer to people of larger sizes without regard to their participation in any treatment specific to weight loss, such as medical supply catalogs featuring larger hospital gowns and hospital beds referred to as \"bariatric.\"'], are_short_documents=True)'\n"
     ]
    }
   ],
   "source": [
    "from src.utils.text_splitters.paragraph_splitter import ParagraphSplitter\n",
    "\n",
    "\n",
    "model_answer=llava_model.generate_answer_from_row(\n",
    "    row=row,\n",
    "    possible_options=['A', 'B', 'C', 'D'],\n",
    "    verbose=True,\n",
    "    doc_splitter = ParagraphSplitter(\n",
    "        token_count=2,\n",
    "        add_title=True\n",
    "    )\n",
    ")\n",
    "print(f\"model_answer: '{model_answer}'\")"
   ]
  }
 ],
 "metadata": {
  "kernelspec": {
   "display_name": ".venv",
   "language": "python",
   "name": "python3"
  },
  "language_info": {
   "codemirror_mode": {
    "name": "ipython",
    "version": 3
   },
   "file_extension": ".py",
   "mimetype": "text/x-python",
   "name": "python",
   "nbconvert_exporter": "python",
   "pygments_lexer": "ipython3",
   "version": "3.12.3"
  }
 },
 "nbformat": 4,
 "nbformat_minor": 2
}
