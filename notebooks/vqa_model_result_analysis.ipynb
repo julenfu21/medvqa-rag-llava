{
 "cells": [
  {
   "cell_type": "markdown",
   "metadata": {},
   "source": [
    "# VQA Model Result Evaluation"
   ]
  },
  {
   "cell_type": "markdown",
   "metadata": {},
   "source": [
    "## 0. Environment Setup"
   ]
  },
  {
   "cell_type": "markdown",
   "metadata": {},
   "source": [
    "### 0.1. Import Necessary Libraries"
   ]
  },
  {
   "cell_type": "code",
   "execution_count": 1,
   "metadata": {},
   "outputs": [],
   "source": [
    "from pathlib import Path\n",
    "\n",
    "from datasets import disable_progress_bars\n",
    "\n",
    "import src.utils.dataset_helpers.world_med_qa_v.dataset_management as world_med_qa_v_dataset_management\n",
    "import src.utils.dataset_helpers.world_med_qa_v.plot_helpers as world_med_qa_v_plot_helpers\n",
    "from src.utils.data_definitions import DocSplitterOptions, VQAStrategyDetail\n",
    "from src.utils.enums import DocumentSplitterType, RagQPromptType, VQAStrategyType, ZeroShotPromptType\n",
    "from src.utils.string_formatting_helpers import to_snake_case_strategy_name\n",
    "from src.utils.text_splitters.paragraph_splitter import ParagraphSplitter\n",
    "from src.utils.text_splitters.recursive_character_splitter import RecursiveCharacterSplitter\n",
    "from src.utils.text_splitters.spacy_sentence_splitter import SpacySentenceSplitter\n",
    "from src.visual_qa_model import VisualQAModel\n",
    "from src.visual_qa_strategies.base_vqa_strategy import BaseVQAStrategy\n",
    "from src.visual_qa_strategies.rag_q_vqa_strategy import RagQVQAStrategy\n",
    "from src.visual_qa_strategies.zero_shot_vqa_strategy import ZeroShotVQAStrategy"
   ]
  },
  {
   "cell_type": "markdown",
   "metadata": {},
   "source": [
    "### 0.2. Configure Environment Settings"
   ]
  },
  {
   "cell_type": "markdown",
   "metadata": {},
   "source": [
    "Detect Google Colab Form Annotation Automatically"
   ]
  },
  {
   "cell_type": "code",
   "execution_count": 2,
   "metadata": {},
   "outputs": [
    {
     "data": {
      "text/html": [
       "\n",
       "<script>\n",
       "function code_toggle(id) {\n",
       "    var cells = document.querySelectorAll(\".jp-CodeCell\");\n",
       "    for (var cell of cells) {\n",
       "        if (cell.querySelector(\"#\" + id) !== null) {\n",
       "            var div = cell.querySelector(\".jp-InputArea\");\n",
       "            if (div.style.display === \"none\") {\n",
       "                div.style.display = \"block\";\n",
       "            } else {\n",
       "                div.style.display = \"none\";\n",
       "            }\n",
       "        }\n",
       "    }\n",
       "}\n",
       "</script>\n"
      ],
      "text/plain": [
       "<IPython.core.display.HTML object>"
      ]
     },
     "metadata": {},
     "output_type": "display_data"
    }
   ],
   "source": [
    "%load_ext ipyform\n",
    "%form_config --auto-detect 1"
   ]
  },
  {
   "cell_type": "markdown",
   "metadata": {},
   "source": [
    "Enable Automatic Module Reloading"
   ]
  },
  {
   "cell_type": "code",
   "execution_count": 3,
   "metadata": {},
   "outputs": [],
   "source": [
    "%load_ext autoreload\n",
    "%autoreload 2"
   ]
  },
  {
   "cell_type": "markdown",
   "metadata": {},
   "source": [
    "Disable Progress Bar for Dataset Filtering"
   ]
  },
  {
   "cell_type": "code",
   "execution_count": 4,
   "metadata": {},
   "outputs": [],
   "source": [
    "disable_progress_bars()"
   ]
  },
  {
   "cell_type": "markdown",
   "metadata": {},
   "source": [
    "## 1. Evaluation of VQA Approaches"
   ]
  },
  {
   "cell_type": "markdown",
   "metadata": {},
   "source": [
    "Define Constants"
   ]
  },
  {
   "cell_type": "code",
   "execution_count": 5,
   "metadata": {},
   "outputs": [],
   "source": [
    "DATASET_DIR = Path(\"data/WorldMedQA-V\")\n",
    "MODEL_NAME = \"llava\"\n",
    "COUNTRY = \"spain\"\n",
    "FILE_TYPE = \"english\"\n",
    "RESULTS_DIR = Path('evaluation_results')"
   ]
  },
  {
   "cell_type": "markdown",
   "metadata": {},
   "source": [
    "Load Dataset"
   ]
  },
  {
   "cell_type": "code",
   "execution_count": 6,
   "metadata": {},
   "outputs": [
    {
     "name": "stdout",
     "output_type": "stream",
     "text": [
      "- Loading WorldMedQA-V dataset (filename: spain_english_processed.tsv) ...\n",
      "+ WorldMedQA-V dataset (filename: spain_english_processed.tsv) loaded.\n"
     ]
    },
    {
     "data": {
      "text/plain": [
       "Dataset({\n",
       "    features: ['index', 'image', 'question', 'A', 'B', 'C', 'D', 'answer', 'correct_option', 'split'],\n",
       "    num_rows: 125\n",
       "})"
      ]
     },
     "execution_count": 6,
     "metadata": {},
     "output_type": "execute_result"
    }
   ],
   "source": [
    "world_med_qa_v_dataset = world_med_qa_v_dataset_management.load_vqa_dataset(\n",
    "    data_path=DATASET_DIR,\n",
    "    country=COUNTRY,\n",
    "    file_type=FILE_TYPE\n",
    ")\n",
    "world_med_qa_v_dataset"
   ]
  },
  {
   "cell_type": "markdown",
   "metadata": {},
   "source": [
    "### 1.1. Zero-Shot Evaluation"
   ]
  },
  {
   "cell_type": "markdown",
   "metadata": {},
   "source": [
    "Load Model"
   ]
  },
  {
   "cell_type": "code",
   "execution_count": 7,
   "metadata": {},
   "outputs": [
    {
     "name": "stdout",
     "output_type": "stream",
     "text": [
      "- Loading Zero-Shot strategy ...\n",
      "+ Zero-Shot strategy loaded.\n",
      "- Loading Llava model (prompt template: zs_v1) ...\n",
      "+ Llava model (prompt template: zs_v1) loaded.\n"
     ]
    }
   ],
   "source": [
    "llava_model = VisualQAModel(\n",
    "    visual_qa_strategy=ZeroShotVQAStrategy(prompt_type=ZeroShotPromptType.V1),\n",
    "    model_name=MODEL_NAME,\n",
    "    country=COUNTRY,\n",
    "    file_type=FILE_TYPE\n",
    ")"
   ]
  },
  {
   "cell_type": "markdown",
   "metadata": {},
   "source": [
    "Evaluate Model (Prompt Template: `zs_v1`)"
   ]
  },
  {
   "cell_type": "code",
   "execution_count": 10,
   "metadata": {},
   "outputs": [
    {
     "name": "stderr",
     "output_type": "stream",
     "text": [
      "- Evaluating model (spain_english subset) ...: 100%|██████████| 5/5 [06:57<00:00, 83.53s/it]"
     ]
    },
    {
     "name": "stdout",
     "output_type": "stream",
     "text": [
      "+ Model evaluation (spain_english subset) completed.\n"
     ]
    },
    {
     "name": "stderr",
     "output_type": "stream",
     "text": [
      "\n"
     ]
    }
   ],
   "source": [
    "llava_model.evaluate(\n",
    "    dataset=world_med_qa_v_dataset.take(5),\n",
    "    save_path=RESULTS_DIR\n",
    ")"
   ]
  },
  {
   "cell_type": "markdown",
   "metadata": {},
   "source": [
    "Evaluate Model (Prompt Template: `zs_v2`)"
   ]
  },
  {
   "cell_type": "code",
   "execution_count": 9,
   "metadata": {},
   "outputs": [
    {
     "name": "stderr",
     "output_type": "stream",
     "text": [
      "- Evaluating model (spain_english subset) ...: 100%|██████████| 5/5 [06:20<00:00, 76.08s/it]"
     ]
    },
    {
     "name": "stdout",
     "output_type": "stream",
     "text": [
      "+ Model evaluation (spain_english subset) completed.\n"
     ]
    },
    {
     "name": "stderr",
     "output_type": "stream",
     "text": [
      "\n"
     ]
    }
   ],
   "source": [
    "llava_model.visual_qa_strategy.prompt_type = ZeroShotPromptType.V2\n",
    "llava_model.evaluate(\n",
    "    dataset=world_med_qa_v_dataset.take(5),\n",
    "    save_path=RESULTS_DIR\n",
    ")"
   ]
  },
  {
   "cell_type": "markdown",
   "metadata": {},
   "source": [
    "Evaluate Model (Prompt Template: `zs_v3`)"
   ]
  },
  {
   "cell_type": "code",
   "execution_count": 10,
   "metadata": {},
   "outputs": [
    {
     "name": "stderr",
     "output_type": "stream",
     "text": [
      "- Evaluating model (spain_english subset) ...: 100%|██████████| 5/5 [06:24<00:00, 76.90s/it]"
     ]
    },
    {
     "name": "stdout",
     "output_type": "stream",
     "text": [
      "+ Model evaluation (spain_english subset) completed.\n"
     ]
    },
    {
     "name": "stderr",
     "output_type": "stream",
     "text": [
      "\n"
     ]
    }
   ],
   "source": [
    "llava_model.visual_qa_strategy.prompt_type = ZeroShotPromptType.V3\n",
    "llava_model.evaluate(\n",
    "    dataset=world_med_qa_v_dataset.take(5),\n",
    "    save_path=RESULTS_DIR\n",
    ")"
   ]
  },
  {
   "cell_type": "markdown",
   "metadata": {},
   "source": [
    "### 1.2. Retrieval-Augmented Generation (RAG) Evaluation"
   ]
  },
  {
   "cell_type": "markdown",
   "metadata": {},
   "source": [
    "Define Model Specific Constants"
   ]
  },
  {
   "cell_type": "code",
   "execution_count": 8,
   "metadata": {},
   "outputs": [],
   "source": [
    "INDEX_DIR = Path('data/WikiMed/indexed_db')\n",
    "INDEX_NAME = \"Wikimed+S-PubMedBert-MS-MARCO-FullTexts\"\n",
    "EMBEDDING_MODEL_NAME = \"pritamdeka/S-PubMedBert-MS-MARCO\"\n",
    "RELEVANT_DOCS_COUNT = 2"
   ]
  },
  {
   "cell_type": "markdown",
   "metadata": {},
   "source": [
    "#### 1.2.1. RAG Q (Question Only)"
   ]
  },
  {
   "cell_type": "markdown",
   "metadata": {},
   "source": [
    "Load Model"
   ]
  },
  {
   "cell_type": "code",
   "execution_count": 10,
   "metadata": {},
   "outputs": [
    {
     "name": "stdout",
     "output_type": "stream",
     "text": [
      "- Loading RAG Q strategy ...\n",
      "\t- Loading Embeddings ...\n",
      "\t+ Embeddings Loaded.\n",
      "\t- Loading Index ...\n",
      "\t+ Index Loaded.\n",
      "\t- Loading Retriever ...\n",
      "\t+ Retriever Loaded.\n",
      "+ RAG Q strategy loaded.\n",
      "- Loading Llava model (prompt template: rq_v1) ...\n",
      "+ Llava model (prompt template: rq_v1) loaded.\n"
     ]
    }
   ],
   "source": [
    "llava_model.visual_qa_strategy = RagQVQAStrategy(\n",
    "    prompt_type=RagQPromptType.V1,\n",
    "    index_dir=INDEX_DIR,\n",
    "    index_name=INDEX_NAME,\n",
    "    embedding_model_name=EMBEDDING_MODEL_NAME,\n",
    "    relevant_docs_count=RELEVANT_DOCS_COUNT\n",
    ")"
   ]
  },
  {
   "cell_type": "markdown",
   "metadata": {},
   "source": [
    "Evaluate Model (Prompt Template: `rq_v1`)"
   ]
  },
  {
   "cell_type": "markdown",
   "metadata": {},
   "source": [
    "- Document Splitter Type: `No Document Splitter`"
   ]
  },
  {
   "cell_type": "code",
   "execution_count": 10,
   "metadata": {},
   "outputs": [
    {
     "name": "stderr",
     "output_type": "stream",
     "text": [
      "- Evaluating model (spain_english subset) ...: 100%|██████████| 2/2 [07:09<00:00, 214.66s/it]"
     ]
    },
    {
     "name": "stdout",
     "output_type": "stream",
     "text": [
      "+ Model evaluation (spain_english subset) completed.\n"
     ]
    },
    {
     "name": "stderr",
     "output_type": "stream",
     "text": [
      "\n"
     ]
    }
   ],
   "source": [
    "llava_model.evaluate(\n",
    "    dataset=world_med_qa_v_dataset.take(2),\n",
    "    save_path=RESULTS_DIR\n",
    ")"
   ]
  },
  {
   "cell_type": "markdown",
   "metadata": {},
   "source": [
    "- Document Splitter Type: `Recursive Character Splitter`"
   ]
  },
  {
   "cell_type": "markdown",
   "metadata": {},
   "source": [
    "&nbsp;&nbsp;&nbsp;&nbsp;&nbsp;&nbsp;&nbsp;&nbsp;&nbsp;&nbsp;&nbsp;&nbsp;&nbsp;&nbsp;&nbsp;&nbsp;`with_title`"
   ]
  },
  {
   "cell_type": "code",
   "execution_count": 11,
   "metadata": {},
   "outputs": [
    {
     "name": "stderr",
     "output_type": "stream",
     "text": [
      "- Evaluating model (spain_english subset) ...: 100%|██████████| 2/2 [02:53<00:00, 86.67s/it]"
     ]
    },
    {
     "name": "stdout",
     "output_type": "stream",
     "text": [
      "+ Model evaluation (spain_english subset) completed.\n"
     ]
    },
    {
     "name": "stderr",
     "output_type": "stream",
     "text": [
      "\n"
     ]
    }
   ],
   "source": [
    "llava_model.evaluate(\n",
    "    dataset=world_med_qa_v_dataset.take(2),\n",
    "    save_path=RESULTS_DIR,\n",
    "    doc_splitter = RecursiveCharacterSplitter(\n",
    "        token_count=2,\n",
    "        chunk_size=200,\n",
    "        chunk_overlap=0,\n",
    "        add_title=True\n",
    "    )\n",
    ")"
   ]
  },
  {
   "cell_type": "markdown",
   "metadata": {},
   "source": [
    "&nbsp;&nbsp;&nbsp;&nbsp;&nbsp;&nbsp;&nbsp;&nbsp;&nbsp;&nbsp;&nbsp;&nbsp;&nbsp;&nbsp;&nbsp;&nbsp;`no_title`"
   ]
  },
  {
   "cell_type": "code",
   "execution_count": 21,
   "metadata": {},
   "outputs": [
    {
     "name": "stderr",
     "output_type": "stream",
     "text": [
      "- Evaluating model (spain_english subset) ...:   0%|          | 0/2 [00:00<?, ?it/s]"
     ]
    },
    {
     "name": "stderr",
     "output_type": "stream",
     "text": [
      "- Evaluating model (spain_english subset) ...: 100%|██████████| 2/2 [02:35<00:00, 77.52s/it]"
     ]
    },
    {
     "name": "stdout",
     "output_type": "stream",
     "text": [
      "+ Model evaluation (spain_english subset) completed.\n"
     ]
    },
    {
     "name": "stderr",
     "output_type": "stream",
     "text": [
      "\n"
     ]
    }
   ],
   "source": [
    "llava_model.evaluate(\n",
    "    dataset=world_med_qa_v_dataset.take(2),\n",
    "    save_path=RESULTS_DIR,\n",
    "    doc_splitter = RecursiveCharacterSplitter(\n",
    "        token_count=2,\n",
    "        chunk_size=200,\n",
    "        chunk_overlap=0,\n",
    "        add_title=False\n",
    "    )\n",
    ")"
   ]
  },
  {
   "cell_type": "markdown",
   "metadata": {},
   "source": [
    "- Document Splitter Type: `spaCy Sentence Splitter`"
   ]
  },
  {
   "cell_type": "markdown",
   "metadata": {},
   "source": [
    "&nbsp;&nbsp;&nbsp;&nbsp;&nbsp;&nbsp;&nbsp;&nbsp;&nbsp;&nbsp;&nbsp;&nbsp;&nbsp;&nbsp;&nbsp;&nbsp;`with_title`"
   ]
  },
  {
   "cell_type": "code",
   "execution_count": 25,
   "metadata": {},
   "outputs": [
    {
     "name": "stderr",
     "output_type": "stream",
     "text": [
      "- Evaluating model (spain_english subset) ...: 100%|██████████| 2/2 [02:45<00:00, 82.89s/it]"
     ]
    },
    {
     "name": "stdout",
     "output_type": "stream",
     "text": [
      "+ Model evaluation (spain_english subset) completed.\n"
     ]
    },
    {
     "name": "stderr",
     "output_type": "stream",
     "text": [
      "\n"
     ]
    }
   ],
   "source": [
    "llava_model.evaluate(\n",
    "    dataset=world_med_qa_v_dataset.take(2),\n",
    "    save_path=RESULTS_DIR,\n",
    "    doc_splitter = SpacySentenceSplitter(\n",
    "        token_count=2,\n",
    "        add_title=True\n",
    "    )\n",
    ")"
   ]
  },
  {
   "cell_type": "markdown",
   "metadata": {},
   "source": [
    "&nbsp;&nbsp;&nbsp;&nbsp;&nbsp;&nbsp;&nbsp;&nbsp;&nbsp;&nbsp;&nbsp;&nbsp;&nbsp;&nbsp;&nbsp;&nbsp;`no_title`"
   ]
  },
  {
   "cell_type": "code",
   "execution_count": 26,
   "metadata": {},
   "outputs": [
    {
     "name": "stderr",
     "output_type": "stream",
     "text": [
      "- Evaluating model (spain_english subset) ...: 100%|██████████| 2/2 [02:38<00:00, 79.35s/it]"
     ]
    },
    {
     "name": "stdout",
     "output_type": "stream",
     "text": [
      "+ Model evaluation (spain_english subset) completed.\n"
     ]
    },
    {
     "name": "stderr",
     "output_type": "stream",
     "text": [
      "\n"
     ]
    }
   ],
   "source": [
    "llava_model.evaluate(\n",
    "    dataset=world_med_qa_v_dataset.take(2),\n",
    "    save_path=RESULTS_DIR,\n",
    "    doc_splitter = SpacySentenceSplitter(\n",
    "        token_count=2,\n",
    "        add_title=False\n",
    "    )\n",
    ")"
   ]
  },
  {
   "cell_type": "markdown",
   "metadata": {},
   "source": [
    "- Document Splitter Type: `Paragraph Splitter`"
   ]
  },
  {
   "cell_type": "markdown",
   "metadata": {},
   "source": [
    "&nbsp;&nbsp;&nbsp;&nbsp;&nbsp;&nbsp;&nbsp;&nbsp;&nbsp;&nbsp;&nbsp;&nbsp;&nbsp;&nbsp;&nbsp;&nbsp;`with_title`"
   ]
  },
  {
   "cell_type": "code",
   "execution_count": 27,
   "metadata": {},
   "outputs": [
    {
     "name": "stderr",
     "output_type": "stream",
     "text": [
      "- Evaluating model (spain_english subset) ...: 100%|██████████| 2/2 [04:19<00:00, 129.72s/it]"
     ]
    },
    {
     "name": "stdout",
     "output_type": "stream",
     "text": [
      "+ Model evaluation (spain_english subset) completed.\n"
     ]
    },
    {
     "name": "stderr",
     "output_type": "stream",
     "text": [
      "\n"
     ]
    }
   ],
   "source": [
    "llava_model.evaluate(\n",
    "    dataset=world_med_qa_v_dataset.take(2),\n",
    "    save_path=RESULTS_DIR,\n",
    "    doc_splitter = ParagraphSplitter(\n",
    "        token_count=2,\n",
    "        add_title=True\n",
    "    )\n",
    ")"
   ]
  },
  {
   "cell_type": "markdown",
   "metadata": {},
   "source": [
    "&nbsp;&nbsp;&nbsp;&nbsp;&nbsp;&nbsp;&nbsp;&nbsp;&nbsp;&nbsp;&nbsp;&nbsp;&nbsp;&nbsp;&nbsp;&nbsp;`no_title`"
   ]
  },
  {
   "cell_type": "code",
   "execution_count": 28,
   "metadata": {},
   "outputs": [
    {
     "name": "stderr",
     "output_type": "stream",
     "text": [
      "- Evaluating model (spain_english subset) ...:   0%|          | 0/2 [00:00<?, ?it/s]"
     ]
    },
    {
     "name": "stderr",
     "output_type": "stream",
     "text": [
      "- Evaluating model (spain_english subset) ...: 100%|██████████| 2/2 [03:48<00:00, 114.43s/it]"
     ]
    },
    {
     "name": "stdout",
     "output_type": "stream",
     "text": [
      "+ Model evaluation (spain_english subset) completed.\n"
     ]
    },
    {
     "name": "stderr",
     "output_type": "stream",
     "text": [
      "\n"
     ]
    }
   ],
   "source": [
    "llava_model.evaluate(\n",
    "    dataset=world_med_qa_v_dataset.take(2),\n",
    "    save_path=RESULTS_DIR,\n",
    "    doc_splitter = ParagraphSplitter(\n",
    "        token_count=2,\n",
    "        add_title=False\n",
    "    )\n",
    ")"
   ]
  },
  {
   "cell_type": "markdown",
   "metadata": {},
   "source": [
    "Evaluate Model (Prompt Template: `rq_v2`)"
   ]
  },
  {
   "cell_type": "markdown",
   "metadata": {},
   "source": [
    "- Document Splitter Type: `No Document Splitter`"
   ]
  },
  {
   "cell_type": "code",
   "execution_count": 29,
   "metadata": {},
   "outputs": [
    {
     "name": "stderr",
     "output_type": "stream",
     "text": [
      "- Evaluating model (spain_english subset) ...: 100%|██████████| 2/2 [07:47<00:00, 233.96s/it]"
     ]
    },
    {
     "name": "stdout",
     "output_type": "stream",
     "text": [
      "+ Model evaluation (spain_english subset) completed.\n"
     ]
    },
    {
     "name": "stderr",
     "output_type": "stream",
     "text": [
      "\n"
     ]
    }
   ],
   "source": [
    "llava_model.visual_qa_strategy.prompt_type = RagQPromptType.V2\n",
    "llava_model.evaluate(\n",
    "    dataset=world_med_qa_v_dataset.take(2),\n",
    "    save_path=RESULTS_DIR\n",
    ")"
   ]
  },
  {
   "cell_type": "markdown",
   "metadata": {},
   "source": [
    "- Document Splitter Type: `Recursive Character Splitter`"
   ]
  },
  {
   "cell_type": "markdown",
   "metadata": {},
   "source": [
    "&nbsp;&nbsp;&nbsp;&nbsp;&nbsp;&nbsp;&nbsp;&nbsp;&nbsp;&nbsp;&nbsp;&nbsp;&nbsp;&nbsp;&nbsp;&nbsp;`with_title`"
   ]
  },
  {
   "cell_type": "code",
   "execution_count": 30,
   "metadata": {},
   "outputs": [
    {
     "name": "stderr",
     "output_type": "stream",
     "text": [
      "- Evaluating model (spain_english subset) ...: 100%|██████████| 2/2 [02:38<00:00, 79.16s/it]"
     ]
    },
    {
     "name": "stdout",
     "output_type": "stream",
     "text": [
      "+ Model evaluation (spain_english subset) completed.\n"
     ]
    },
    {
     "name": "stderr",
     "output_type": "stream",
     "text": [
      "\n"
     ]
    }
   ],
   "source": [
    "llava_model.evaluate(\n",
    "    dataset=world_med_qa_v_dataset.take(2),\n",
    "    save_path=RESULTS_DIR,\n",
    "    doc_splitter = RecursiveCharacterSplitter(\n",
    "        token_count=2,\n",
    "        chunk_size=200,\n",
    "        chunk_overlap=0,\n",
    "        add_title=True\n",
    "    )\n",
    ")"
   ]
  },
  {
   "cell_type": "markdown",
   "metadata": {},
   "source": [
    "&nbsp;&nbsp;&nbsp;&nbsp;&nbsp;&nbsp;&nbsp;&nbsp;&nbsp;&nbsp;&nbsp;&nbsp;&nbsp;&nbsp;&nbsp;&nbsp;`no_title`"
   ]
  },
  {
   "cell_type": "code",
   "execution_count": 31,
   "metadata": {},
   "outputs": [
    {
     "name": "stderr",
     "output_type": "stream",
     "text": [
      "- Evaluating model (spain_english subset) ...: 100%|██████████| 2/2 [02:34<00:00, 77.47s/it]"
     ]
    },
    {
     "name": "stdout",
     "output_type": "stream",
     "text": [
      "+ Model evaluation (spain_english subset) completed.\n"
     ]
    },
    {
     "name": "stderr",
     "output_type": "stream",
     "text": [
      "\n"
     ]
    }
   ],
   "source": [
    "llava_model.evaluate(\n",
    "    dataset=world_med_qa_v_dataset.take(2),\n",
    "    save_path=RESULTS_DIR,\n",
    "    doc_splitter = RecursiveCharacterSplitter(\n",
    "        token_count=2,\n",
    "        chunk_size=200,\n",
    "        chunk_overlap=0,\n",
    "        add_title=False\n",
    "    )\n",
    ")"
   ]
  },
  {
   "cell_type": "markdown",
   "metadata": {},
   "source": [
    "- Document Splitter Type: `spaCy Sentence Splitter`"
   ]
  },
  {
   "cell_type": "markdown",
   "metadata": {},
   "source": [
    "&nbsp;&nbsp;&nbsp;&nbsp;&nbsp;&nbsp;&nbsp;&nbsp;&nbsp;&nbsp;&nbsp;&nbsp;&nbsp;&nbsp;&nbsp;&nbsp;`with_title`"
   ]
  },
  {
   "cell_type": "code",
   "execution_count": 32,
   "metadata": {},
   "outputs": [
    {
     "name": "stderr",
     "output_type": "stream",
     "text": [
      "- Evaluating model (spain_english subset) ...: 100%|██████████| 2/2 [02:40<00:00, 80.45s/it]"
     ]
    },
    {
     "name": "stdout",
     "output_type": "stream",
     "text": [
      "+ Model evaluation (spain_english subset) completed.\n"
     ]
    },
    {
     "name": "stderr",
     "output_type": "stream",
     "text": [
      "\n"
     ]
    }
   ],
   "source": [
    "llava_model.evaluate(\n",
    "    dataset=world_med_qa_v_dataset.take(2),\n",
    "    save_path=RESULTS_DIR,\n",
    "    doc_splitter = SpacySentenceSplitter(\n",
    "        token_count=2,\n",
    "        add_title=True\n",
    "    )\n",
    ")"
   ]
  },
  {
   "cell_type": "markdown",
   "metadata": {},
   "source": [
    "&nbsp;&nbsp;&nbsp;&nbsp;&nbsp;&nbsp;&nbsp;&nbsp;&nbsp;&nbsp;&nbsp;&nbsp;&nbsp;&nbsp;&nbsp;&nbsp;`no_title`"
   ]
  },
  {
   "cell_type": "code",
   "execution_count": 33,
   "metadata": {},
   "outputs": [
    {
     "name": "stderr",
     "output_type": "stream",
     "text": [
      "- Evaluating model (spain_english subset) ...: 100%|██████████| 2/2 [02:35<00:00, 77.74s/it]"
     ]
    },
    {
     "name": "stdout",
     "output_type": "stream",
     "text": [
      "+ Model evaluation (spain_english subset) completed.\n"
     ]
    },
    {
     "name": "stderr",
     "output_type": "stream",
     "text": [
      "\n"
     ]
    }
   ],
   "source": [
    "llava_model.evaluate(\n",
    "    dataset=world_med_qa_v_dataset.take(2),\n",
    "    save_path=RESULTS_DIR,\n",
    "    doc_splitter = SpacySentenceSplitter(\n",
    "        token_count=2,\n",
    "        add_title=False\n",
    "    )\n",
    ")"
   ]
  },
  {
   "cell_type": "markdown",
   "metadata": {},
   "source": [
    "- Document Splitter Type: `Paragraph Splitter`"
   ]
  },
  {
   "cell_type": "markdown",
   "metadata": {},
   "source": [
    "&nbsp;&nbsp;&nbsp;&nbsp;&nbsp;&nbsp;&nbsp;&nbsp;&nbsp;&nbsp;&nbsp;&nbsp;&nbsp;&nbsp;&nbsp;&nbsp;`with_title`"
   ]
  },
  {
   "cell_type": "code",
   "execution_count": 34,
   "metadata": {},
   "outputs": [
    {
     "name": "stderr",
     "output_type": "stream",
     "text": [
      "- Evaluating model (spain_english subset) ...: 100%|██████████| 2/2 [04:17<00:00, 128.63s/it]"
     ]
    },
    {
     "name": "stdout",
     "output_type": "stream",
     "text": [
      "+ Model evaluation (spain_english subset) completed.\n"
     ]
    },
    {
     "name": "stderr",
     "output_type": "stream",
     "text": [
      "\n"
     ]
    }
   ],
   "source": [
    "llava_model.evaluate(\n",
    "    dataset=world_med_qa_v_dataset.take(2),\n",
    "    save_path=RESULTS_DIR,\n",
    "    doc_splitter = ParagraphSplitter(\n",
    "        token_count=2,\n",
    "        add_title=True\n",
    "    )\n",
    ")"
   ]
  },
  {
   "cell_type": "markdown",
   "metadata": {},
   "source": [
    "&nbsp;&nbsp;&nbsp;&nbsp;&nbsp;&nbsp;&nbsp;&nbsp;&nbsp;&nbsp;&nbsp;&nbsp;&nbsp;&nbsp;&nbsp;&nbsp;`no_title`"
   ]
  },
  {
   "cell_type": "code",
   "execution_count": 35,
   "metadata": {},
   "outputs": [
    {
     "name": "stderr",
     "output_type": "stream",
     "text": [
      "- Evaluating model (spain_english subset) ...: 100%|██████████| 2/2 [03:36<00:00, 108.21s/it]"
     ]
    },
    {
     "name": "stdout",
     "output_type": "stream",
     "text": [
      "+ Model evaluation (spain_english subset) completed.\n"
     ]
    },
    {
     "name": "stderr",
     "output_type": "stream",
     "text": [
      "\n"
     ]
    }
   ],
   "source": [
    "llava_model.evaluate(\n",
    "    dataset=world_med_qa_v_dataset.take(2),\n",
    "    save_path=RESULTS_DIR,\n",
    "    doc_splitter = ParagraphSplitter(\n",
    "        token_count=2,\n",
    "        add_title=False\n",
    "    )\n",
    ")"
   ]
  },
  {
   "cell_type": "markdown",
   "metadata": {},
   "source": [
    "Evaluate Model (Prompt Template: `rq_v3`)"
   ]
  },
  {
   "cell_type": "markdown",
   "metadata": {},
   "source": [
    "- Document Splitter Type: `No Document Splitter`"
   ]
  },
  {
   "cell_type": "code",
   "execution_count": 10,
   "metadata": {},
   "outputs": [
    {
     "name": "stderr",
     "output_type": "stream",
     "text": [
      "- Evaluating model (spain_english subset) ...: 100%|██████████| 2/2 [07:07<00:00, 213.70s/it]"
     ]
    },
    {
     "name": "stdout",
     "output_type": "stream",
     "text": [
      "+ Model evaluation (spain_english subset) completed.\n"
     ]
    },
    {
     "name": "stderr",
     "output_type": "stream",
     "text": [
      "\n"
     ]
    }
   ],
   "source": [
    "llava_model.visual_qa_strategy.prompt_type = RagQPromptType.V3\n",
    "llava_model.evaluate(\n",
    "    dataset=world_med_qa_v_dataset.take(2),\n",
    "    save_path=RESULTS_DIR\n",
    ")"
   ]
  },
  {
   "cell_type": "markdown",
   "metadata": {},
   "source": [
    "- Document Splitter Type: `Recursive Character Splitter`"
   ]
  },
  {
   "cell_type": "markdown",
   "metadata": {},
   "source": [
    "&nbsp;&nbsp;&nbsp;&nbsp;&nbsp;&nbsp;&nbsp;&nbsp;&nbsp;&nbsp;&nbsp;&nbsp;&nbsp;&nbsp;&nbsp;&nbsp;`with_title`"
   ]
  },
  {
   "cell_type": "code",
   "execution_count": 11,
   "metadata": {},
   "outputs": [
    {
     "name": "stderr",
     "output_type": "stream",
     "text": [
      "- Evaluating model (spain_english subset) ...: 100%|██████████| 2/2 [02:41<00:00, 80.54s/it]"
     ]
    },
    {
     "name": "stdout",
     "output_type": "stream",
     "text": [
      "+ Model evaluation (spain_english subset) completed.\n"
     ]
    },
    {
     "name": "stderr",
     "output_type": "stream",
     "text": [
      "\n"
     ]
    }
   ],
   "source": [
    "llava_model.evaluate(\n",
    "    dataset=world_med_qa_v_dataset.take(2),\n",
    "    save_path=RESULTS_DIR,\n",
    "    doc_splitter = RecursiveCharacterSplitter(\n",
    "        token_count=2,\n",
    "        chunk_size=200,\n",
    "        chunk_overlap=0,\n",
    "        add_title=True\n",
    "    )\n",
    ")"
   ]
  },
  {
   "cell_type": "markdown",
   "metadata": {},
   "source": [
    "&nbsp;&nbsp;&nbsp;&nbsp;&nbsp;&nbsp;&nbsp;&nbsp;&nbsp;&nbsp;&nbsp;&nbsp;&nbsp;&nbsp;&nbsp;&nbsp;`no_title`"
   ]
  },
  {
   "cell_type": "code",
   "execution_count": 12,
   "metadata": {},
   "outputs": [
    {
     "name": "stderr",
     "output_type": "stream",
     "text": [
      "- Evaluating model (spain_english subset) ...: 100%|██████████| 2/2 [02:32<00:00, 76.36s/it]"
     ]
    },
    {
     "name": "stdout",
     "output_type": "stream",
     "text": [
      "+ Model evaluation (spain_english subset) completed.\n"
     ]
    },
    {
     "name": "stderr",
     "output_type": "stream",
     "text": [
      "\n"
     ]
    }
   ],
   "source": [
    "llava_model.evaluate(\n",
    "    dataset=world_med_qa_v_dataset.take(2),\n",
    "    save_path=RESULTS_DIR,\n",
    "    doc_splitter = RecursiveCharacterSplitter(\n",
    "        token_count=2,\n",
    "        chunk_size=200,\n",
    "        chunk_overlap=0,\n",
    "        add_title=False\n",
    "    )\n",
    ")"
   ]
  },
  {
   "cell_type": "markdown",
   "metadata": {},
   "source": [
    "- Document Splitter Type: `spaCy Sentence Splitter`"
   ]
  },
  {
   "cell_type": "markdown",
   "metadata": {},
   "source": [
    "&nbsp;&nbsp;&nbsp;&nbsp;&nbsp;&nbsp;&nbsp;&nbsp;&nbsp;&nbsp;&nbsp;&nbsp;&nbsp;&nbsp;&nbsp;&nbsp;`with_title`"
   ]
  },
  {
   "cell_type": "code",
   "execution_count": 13,
   "metadata": {},
   "outputs": [
    {
     "name": "stderr",
     "output_type": "stream",
     "text": [
      "- Evaluating model (spain_english subset) ...: 100%|██████████| 2/2 [02:38<00:00, 79.02s/it]"
     ]
    },
    {
     "name": "stdout",
     "output_type": "stream",
     "text": [
      "+ Model evaluation (spain_english subset) completed.\n"
     ]
    },
    {
     "name": "stderr",
     "output_type": "stream",
     "text": [
      "\n"
     ]
    }
   ],
   "source": [
    "llava_model.evaluate(\n",
    "    dataset=world_med_qa_v_dataset.take(2),\n",
    "    save_path=RESULTS_DIR,\n",
    "    doc_splitter = SpacySentenceSplitter(\n",
    "        token_count=2,\n",
    "        add_title=True\n",
    "    )\n",
    ")"
   ]
  },
  {
   "cell_type": "markdown",
   "metadata": {},
   "source": [
    "&nbsp;&nbsp;&nbsp;&nbsp;&nbsp;&nbsp;&nbsp;&nbsp;&nbsp;&nbsp;&nbsp;&nbsp;&nbsp;&nbsp;&nbsp;&nbsp;`no_title`"
   ]
  },
  {
   "cell_type": "code",
   "execution_count": 14,
   "metadata": {},
   "outputs": [
    {
     "name": "stderr",
     "output_type": "stream",
     "text": [
      "- Evaluating model (spain_english subset) ...: 100%|██████████| 2/2 [02:49<00:00, 84.81s/it]"
     ]
    },
    {
     "name": "stdout",
     "output_type": "stream",
     "text": [
      "+ Model evaluation (spain_english subset) completed.\n"
     ]
    },
    {
     "name": "stderr",
     "output_type": "stream",
     "text": [
      "\n"
     ]
    }
   ],
   "source": [
    "llava_model.evaluate(\n",
    "    dataset=world_med_qa_v_dataset.take(2),\n",
    "    save_path=RESULTS_DIR,\n",
    "    doc_splitter = SpacySentenceSplitter(\n",
    "        token_count=2,\n",
    "        add_title=False\n",
    "    )\n",
    ")"
   ]
  },
  {
   "cell_type": "markdown",
   "metadata": {},
   "source": [
    "- Document Splitter Type: `Paragraph Splitter`"
   ]
  },
  {
   "cell_type": "markdown",
   "metadata": {},
   "source": [
    "&nbsp;&nbsp;&nbsp;&nbsp;&nbsp;&nbsp;&nbsp;&nbsp;&nbsp;&nbsp;&nbsp;&nbsp;&nbsp;&nbsp;&nbsp;&nbsp;`with_title`"
   ]
  },
  {
   "cell_type": "code",
   "execution_count": 15,
   "metadata": {},
   "outputs": [
    {
     "name": "stderr",
     "output_type": "stream",
     "text": [
      "- Evaluating model (spain_english subset) ...: 100%|██████████| 2/2 [04:17<00:00, 128.51s/it]"
     ]
    },
    {
     "name": "stdout",
     "output_type": "stream",
     "text": [
      "+ Model evaluation (spain_english subset) completed.\n"
     ]
    },
    {
     "name": "stderr",
     "output_type": "stream",
     "text": [
      "\n"
     ]
    }
   ],
   "source": [
    "llava_model.evaluate(\n",
    "    dataset=world_med_qa_v_dataset.take(2),\n",
    "    save_path=RESULTS_DIR,\n",
    "    doc_splitter = ParagraphSplitter(\n",
    "        token_count=2,\n",
    "        add_title=True\n",
    "    )\n",
    ")"
   ]
  },
  {
   "cell_type": "markdown",
   "metadata": {},
   "source": [
    "&nbsp;&nbsp;&nbsp;&nbsp;&nbsp;&nbsp;&nbsp;&nbsp;&nbsp;&nbsp;&nbsp;&nbsp;&nbsp;&nbsp;&nbsp;&nbsp;`no_title`"
   ]
  },
  {
   "cell_type": "code",
   "execution_count": 16,
   "metadata": {},
   "outputs": [
    {
     "name": "stderr",
     "output_type": "stream",
     "text": [
      "- Evaluating model (spain_english subset) ...: 100%|██████████| 2/2 [03:46<00:00, 113.07s/it]"
     ]
    },
    {
     "name": "stdout",
     "output_type": "stream",
     "text": [
      "+ Model evaluation (spain_english subset) completed.\n"
     ]
    },
    {
     "name": "stderr",
     "output_type": "stream",
     "text": [
      "\n"
     ]
    }
   ],
   "source": [
    "llava_model.evaluate(\n",
    "    dataset=world_med_qa_v_dataset.take(2),\n",
    "    save_path=RESULTS_DIR,\n",
    "    doc_splitter = ParagraphSplitter(\n",
    "        token_count=2,\n",
    "        add_title=False\n",
    "    )\n",
    ")"
   ]
  },
  {
   "cell_type": "markdown",
   "metadata": {},
   "source": [
    "Evaluate Model (Prompt Template: `rq_v4`)"
   ]
  },
  {
   "cell_type": "markdown",
   "metadata": {},
   "source": [
    "- Document Splitter Type: `No Document Splitter`"
   ]
  },
  {
   "cell_type": "code",
   "execution_count": 17,
   "metadata": {},
   "outputs": [
    {
     "name": "stderr",
     "output_type": "stream",
     "text": [
      "- Evaluating model (spain_english subset) ...: 100%|██████████| 2/2 [06:52<00:00, 206.30s/it]"
     ]
    },
    {
     "name": "stdout",
     "output_type": "stream",
     "text": [
      "+ Model evaluation (spain_english subset) completed.\n"
     ]
    },
    {
     "name": "stderr",
     "output_type": "stream",
     "text": [
      "\n"
     ]
    }
   ],
   "source": [
    "llava_model.visual_qa_strategy.prompt_type = RagQPromptType.V4\n",
    "llava_model.evaluate(\n",
    "    dataset=world_med_qa_v_dataset.take(2),\n",
    "    save_path=RESULTS_DIR\n",
    ")"
   ]
  },
  {
   "cell_type": "markdown",
   "metadata": {},
   "source": [
    "- Document Splitter Type: `Recursive Character Splitter`"
   ]
  },
  {
   "cell_type": "markdown",
   "metadata": {},
   "source": [
    "&nbsp;&nbsp;&nbsp;&nbsp;&nbsp;&nbsp;&nbsp;&nbsp;&nbsp;&nbsp;&nbsp;&nbsp;&nbsp;&nbsp;&nbsp;&nbsp;`with_title`"
   ]
  },
  {
   "cell_type": "code",
   "execution_count": 18,
   "metadata": {},
   "outputs": [
    {
     "name": "stderr",
     "output_type": "stream",
     "text": [
      "- Evaluating model (spain_english subset) ...: 100%|██████████| 2/2 [03:41<00:00, 110.63s/it]"
     ]
    },
    {
     "name": "stdout",
     "output_type": "stream",
     "text": [
      "+ Model evaluation (spain_english subset) completed.\n"
     ]
    },
    {
     "name": "stderr",
     "output_type": "stream",
     "text": [
      "\n"
     ]
    }
   ],
   "source": [
    "llava_model.evaluate(\n",
    "    dataset=world_med_qa_v_dataset.take(2),\n",
    "    save_path=RESULTS_DIR,\n",
    "    doc_splitter = RecursiveCharacterSplitter(\n",
    "        token_count=2,\n",
    "        chunk_size=200,\n",
    "        chunk_overlap=0,\n",
    "        add_title=True\n",
    "    )\n",
    ")"
   ]
  },
  {
   "cell_type": "markdown",
   "metadata": {},
   "source": [
    "&nbsp;&nbsp;&nbsp;&nbsp;&nbsp;&nbsp;&nbsp;&nbsp;&nbsp;&nbsp;&nbsp;&nbsp;&nbsp;&nbsp;&nbsp;&nbsp;`no_title`"
   ]
  },
  {
   "cell_type": "code",
   "execution_count": 19,
   "metadata": {},
   "outputs": [
    {
     "name": "stderr",
     "output_type": "stream",
     "text": [
      "- Evaluating model (spain_english subset) ...: 100%|██████████| 2/2 [02:49<00:00, 84.97s/it]"
     ]
    },
    {
     "name": "stdout",
     "output_type": "stream",
     "text": [
      "+ Model evaluation (spain_english subset) completed.\n"
     ]
    },
    {
     "name": "stderr",
     "output_type": "stream",
     "text": [
      "\n"
     ]
    }
   ],
   "source": [
    "llava_model.evaluate(\n",
    "    dataset=world_med_qa_v_dataset.take(2),\n",
    "    save_path=RESULTS_DIR,\n",
    "    doc_splitter = RecursiveCharacterSplitter(\n",
    "        token_count=2,\n",
    "        chunk_size=200,\n",
    "        chunk_overlap=0,\n",
    "        add_title=False\n",
    "    )\n",
    ")"
   ]
  },
  {
   "cell_type": "markdown",
   "metadata": {},
   "source": [
    "- Document Splitter Type: `spaCy Sentence Splitter`"
   ]
  },
  {
   "cell_type": "markdown",
   "metadata": {},
   "source": [
    "&nbsp;&nbsp;&nbsp;&nbsp;&nbsp;&nbsp;&nbsp;&nbsp;&nbsp;&nbsp;&nbsp;&nbsp;&nbsp;&nbsp;&nbsp;&nbsp;`with_title`"
   ]
  },
  {
   "cell_type": "code",
   "execution_count": 20,
   "metadata": {},
   "outputs": [
    {
     "name": "stderr",
     "output_type": "stream",
     "text": [
      "- Evaluating model (spain_english subset) ...: 100%|██████████| 2/2 [02:53<00:00, 86.73s/it]"
     ]
    },
    {
     "name": "stdout",
     "output_type": "stream",
     "text": [
      "+ Model evaluation (spain_english subset) completed.\n"
     ]
    },
    {
     "name": "stderr",
     "output_type": "stream",
     "text": [
      "\n"
     ]
    }
   ],
   "source": [
    "llava_model.evaluate(\n",
    "    dataset=world_med_qa_v_dataset.take(2),\n",
    "    save_path=RESULTS_DIR,\n",
    "    doc_splitter = SpacySentenceSplitter(\n",
    "        token_count=2,\n",
    "        add_title=True\n",
    "    )\n",
    ")"
   ]
  },
  {
   "cell_type": "markdown",
   "metadata": {},
   "source": [
    "&nbsp;&nbsp;&nbsp;&nbsp;&nbsp;&nbsp;&nbsp;&nbsp;&nbsp;&nbsp;&nbsp;&nbsp;&nbsp;&nbsp;&nbsp;&nbsp;`no_title`"
   ]
  },
  {
   "cell_type": "code",
   "execution_count": 21,
   "metadata": {},
   "outputs": [
    {
     "name": "stderr",
     "output_type": "stream",
     "text": [
      "- Evaluating model (spain_english subset) ...: 100%|██████████| 2/2 [02:56<00:00, 88.44s/it]"
     ]
    },
    {
     "name": "stdout",
     "output_type": "stream",
     "text": [
      "+ Model evaluation (spain_english subset) completed.\n"
     ]
    },
    {
     "name": "stderr",
     "output_type": "stream",
     "text": [
      "\n"
     ]
    }
   ],
   "source": [
    "llava_model.evaluate(\n",
    "    dataset=world_med_qa_v_dataset.take(2),\n",
    "    save_path=RESULTS_DIR,\n",
    "    doc_splitter = SpacySentenceSplitter(\n",
    "        token_count=2,\n",
    "        add_title=False\n",
    "    )\n",
    ")"
   ]
  },
  {
   "cell_type": "markdown",
   "metadata": {},
   "source": [
    "- Document Splitter Type: `Paragraph Splitter`"
   ]
  },
  {
   "cell_type": "markdown",
   "metadata": {},
   "source": [
    "&nbsp;&nbsp;&nbsp;&nbsp;&nbsp;&nbsp;&nbsp;&nbsp;&nbsp;&nbsp;&nbsp;&nbsp;&nbsp;&nbsp;&nbsp;&nbsp;`with_title`"
   ]
  },
  {
   "cell_type": "code",
   "execution_count": 22,
   "metadata": {},
   "outputs": [
    {
     "name": "stderr",
     "output_type": "stream",
     "text": [
      "- Evaluating model (spain_english subset) ...: 100%|██████████| 2/2 [04:47<00:00, 143.97s/it]"
     ]
    },
    {
     "name": "stdout",
     "output_type": "stream",
     "text": [
      "+ Model evaluation (spain_english subset) completed.\n"
     ]
    },
    {
     "name": "stderr",
     "output_type": "stream",
     "text": [
      "\n"
     ]
    }
   ],
   "source": [
    "llava_model.evaluate(\n",
    "    dataset=world_med_qa_v_dataset.take(2),\n",
    "    save_path=RESULTS_DIR,\n",
    "    doc_splitter = ParagraphSplitter(\n",
    "        token_count=2,\n",
    "        add_title=True\n",
    "    )\n",
    ")"
   ]
  },
  {
   "cell_type": "markdown",
   "metadata": {},
   "source": [
    "&nbsp;&nbsp;&nbsp;&nbsp;&nbsp;&nbsp;&nbsp;&nbsp;&nbsp;&nbsp;&nbsp;&nbsp;&nbsp;&nbsp;&nbsp;&nbsp;`no_title`"
   ]
  },
  {
   "cell_type": "code",
   "execution_count": 23,
   "metadata": {},
   "outputs": [
    {
     "name": "stderr",
     "output_type": "stream",
     "text": [
      "- Evaluating model (spain_english subset) ...: 100%|██████████| 2/2 [04:10<00:00, 125.05s/it]"
     ]
    },
    {
     "name": "stdout",
     "output_type": "stream",
     "text": [
      "+ Model evaluation (spain_english subset) completed.\n"
     ]
    },
    {
     "name": "stderr",
     "output_type": "stream",
     "text": [
      "\n"
     ]
    }
   ],
   "source": [
    "llava_model.evaluate(\n",
    "    dataset=world_med_qa_v_dataset.take(2),\n",
    "    save_path=RESULTS_DIR,\n",
    "    doc_splitter = ParagraphSplitter(\n",
    "        token_count=2,\n",
    "        add_title=False\n",
    "    )\n",
    ")"
   ]
  },
  {
   "cell_type": "markdown",
   "metadata": {},
   "source": [
    "#### 1.2.2. RAG Q+As (Question + Answers)"
   ]
  },
  {
   "cell_type": "code",
   "execution_count": null,
   "metadata": {},
   "outputs": [],
   "source": []
  },
  {
   "cell_type": "markdown",
   "metadata": {},
   "source": [
    "#### 1.2.3. RAG IMG (Image-Based)"
   ]
  },
  {
   "cell_type": "code",
   "execution_count": null,
   "metadata": {},
   "outputs": [],
   "source": []
  },
  {
   "cell_type": "markdown",
   "metadata": {},
   "source": [
    "#### 1.2.4. RAG DB-Reranker (Database with Reranker)"
   ]
  },
  {
   "cell_type": "code",
   "execution_count": null,
   "metadata": {},
   "outputs": [],
   "source": []
  },
  {
   "cell_type": "markdown",
   "metadata": {},
   "source": [
    "## 2. VQA Approaches Exploration"
   ]
  },
  {
   "cell_type": "markdown",
   "metadata": {},
   "source": [
    "Define Model Specific Constants"
   ]
  },
  {
   "cell_type": "code",
   "execution_count": 11,
   "metadata": {},
   "outputs": [],
   "source": [
    "DATASET_DIR = Path(\"data/WorldMedQA-V\")\n",
    "MODEL_NAME = \"llava\"\n",
    "COUNTRY = \"spain\"\n",
    "FILE_TYPE = \"english\"\n",
    "RESULTS_DIR = Path('evaluation_results')"
   ]
  },
  {
   "cell_type": "markdown",
   "metadata": {},
   "source": [
    "Define RAG Q Specific Constants"
   ]
  },
  {
   "cell_type": "code",
   "execution_count": 12,
   "metadata": {},
   "outputs": [],
   "source": [
    "INDEX_DIR = Path('data/WikiMed/indexed_db')\n",
    "INDEX_NAME = \"Wikimed+S-PubMedBert-MS-MARCO-FullTexts\"\n",
    "EMBEDDING_MODEL_NAME = \"pritamdeka/S-PubMedBert-MS-MARCO\"\n",
    "RELEVANT_DOCS_COUNT = 1"
   ]
  },
  {
   "cell_type": "markdown",
   "metadata": {},
   "source": [
    "Define Possible VQA Strategies"
   ]
  },
  {
   "cell_type": "code",
   "execution_count": 11,
   "metadata": {},
   "outputs": [
    {
     "name": "stdout",
     "output_type": "stream",
     "text": [
      "- Loading Zero-Shot strategy ...\n",
      "+ Zero-Shot strategy loaded.\n",
      "- Loading RAG Q strategy ...\n",
      "\t- Loading Embeddings ...\n",
      "\t+ Embeddings Loaded.\n",
      "\t- Loading Index ...\n",
      "\t+ Index Loaded.\n",
      "\t- Loading Retriever ...\n",
      "\t+ Retriever Loaded.\n",
      "+ RAG Q strategy loaded.\n"
     ]
    }
   ],
   "source": [
    "vqa_strategies: dict[VQAStrategyType, BaseVQAStrategy] = {\n",
    "    VQAStrategyType.ZERO_SHOT: ZeroShotVQAStrategy(prompt_type=ZeroShotPromptType.V1),\n",
    "    VQAStrategyType.RAG_Q: RagQVQAStrategy(\n",
    "        prompt_type=RagQPromptType.V1,\n",
    "        index_dir=INDEX_DIR,\n",
    "        index_name=INDEX_NAME,\n",
    "        embedding_model_name=EMBEDDING_MODEL_NAME,\n",
    "        relevant_docs_count=RELEVANT_DOCS_COUNT\n",
    "    ),\n",
    "    VQAStrategyType.RAG_Q_AS: None,\n",
    "    VQAStrategyType.RAG_IMG: None,\n",
    "    VQAStrategyType.RAG_DB_RERANKER: None\n",
    "}"
   ]
  },
  {
   "cell_type": "markdown",
   "metadata": {},
   "source": [
    "Load Dataset"
   ]
  },
  {
   "cell_type": "code",
   "execution_count": 12,
   "metadata": {},
   "outputs": [
    {
     "name": "stdout",
     "output_type": "stream",
     "text": [
      "- Loading WorldMedQA-V dataset (filename: spain_english_processed.tsv) ...\n",
      "+ WorldMedQA-V dataset (filename: spain_english_processed.tsv) loaded.\n"
     ]
    },
    {
     "data": {
      "text/plain": [
       "Dataset({\n",
       "    features: ['index', 'image', 'question', 'A', 'B', 'C', 'D', 'answer', 'correct_option', 'split'],\n",
       "    num_rows: 125\n",
       "})"
      ]
     },
     "execution_count": 12,
     "metadata": {},
     "output_type": "execute_result"
    }
   ],
   "source": [
    "world_med_qa_v_dataset = world_med_qa_v_dataset_management.load_vqa_dataset(\n",
    "    data_path=DATASET_DIR,\n",
    "    country=COUNTRY,\n",
    "    file_type=FILE_TYPE\n",
    ")\n",
    "world_med_qa_v_dataset"
   ]
  },
  {
   "cell_type": "markdown",
   "metadata": {},
   "source": [
    "Experiment with the Models"
   ]
  },
  {
   "cell_type": "code",
   "execution_count": 13,
   "metadata": {},
   "outputs": [
    {
     "data": {
      "application/vnd.jupyter.widget-view+json": {
       "model_id": "e2495cf5a7b74fa7abbd89f52b7e7079",
       "version_major": 2,
       "version_minor": 0
      },
      "text/plain": [
       "FormWidget(children=(VBox(children=(HTML(value=''), HTML(value='<h2>Interactive VQA Model Exploration Form</h2…"
      ]
     },
     "execution_count": 13,
     "metadata": {},
     "output_type": "execute_result"
    }
   ],
   "source": [
    "# @title Interactive VQA Model Exploration Form\n",
    "vqa_strategy_type = 'Zero-Shot' # @param [\"Zero-Shot\", \"RAG Q\", \"RAG Q+As\", \"RAG IMG\", \"RAG DB-Reranker\"]\n",
    "prompt_type = \"zs_v1\" # @param [\"zs_v1\", \"zs_v2\", \"zs_v3\", \"rq_v1\", \"rq_v2\", \"rq_v3\", \"rq_v4\"]\n",
    "question_id = 1 # @param {\"type\":\"integer\"}\n",
    "image_width = 600 # @param {\"type\":\"integer\"}\n",
    "action = 'Fetch from JSON' # @param [\"Execute Model\", \"Fetch from JSON\"]\n",
    "\n",
    "\n",
    "row = world_med_qa_v_dataset_management.get_dataset_row_by_id(\n",
    "    dataset=world_med_qa_v_dataset,\n",
    "    question_id=question_id\n",
    ")\n",
    "\n",
    "if action == \"Execute Model\":\n",
    "    formatted_vqa_strategy_type = to_snake_case_strategy_name(strategy_name=vqa_strategy_type)\n",
    "    chosen_vqa_strategy = vqa_strategies[VQAStrategyType(formatted_vqa_strategy_type)]\n",
    "    chosen_vqa_strategy.prompt_type = ZeroShotPromptType(prompt_type)\n",
    "    model=VisualQAModel(\n",
    "        visual_qa_strategy=chosen_vqa_strategy,\n",
    "        model_name=MODEL_NAME,\n",
    "        country=COUNTRY,\n",
    "        file_type=FILE_TYPE\n",
    "    )\n",
    "    world_med_qa_v_plot_helpers.visualize_qa_pair_row(\n",
    "        row=row,\n",
    "        image_width=image_width,\n",
    "        model_answer=model.generate_answer_from_row(\n",
    "            row=row,\n",
    "            possible_options=['A', 'B', 'C', 'D'],\n",
    "            verbose=True\n",
    "        )\n",
    "    )\n",
    "elif action == \"Fetch from JSON\":\n",
    "    model_answer = world_med_qa_v_dataset_management.fetch_model_answer_from_json(\n",
    "        evaluation_results_folder=RESULTS_DIR,\n",
    "        vqa_strategy_name=to_snake_case_strategy_name(strategy_name=vqa_strategy_type),\n",
    "        country=COUNTRY,\n",
    "        file_type=FILE_TYPE,\n",
    "        prompt_type_name=prompt_type,\n",
    "        question_id=question_id,\n",
    "    )\n",
    "    world_med_qa_v_plot_helpers.visualize_qa_pair_row(\n",
    "        row=row,\n",
    "        image_width=image_width,\n",
    "        model_answer=model_answer\n",
    "    )"
   ]
  },
  {
   "cell_type": "markdown",
   "metadata": {},
   "source": [
    "## 3. Result Analysis"
   ]
  },
  {
   "cell_type": "markdown",
   "metadata": {},
   "source": [
    "### 3.1. Rag Q (Relevant Documents Count: 1)"
   ]
  },
  {
   "cell_type": "code",
   "execution_count": 14,
   "metadata": {},
   "outputs": [
    {
     "data": {
      "text/html": [
       "<div>\n",
       "<style scoped>\n",
       "    .dataframe tbody tr th:only-of-type {\n",
       "        vertical-align: middle;\n",
       "    }\n",
       "\n",
       "    .dataframe tbody tr th {\n",
       "        vertical-align: top;\n",
       "    }\n",
       "\n",
       "    .dataframe thead th {\n",
       "        text-align: right;\n",
       "    }\n",
       "</style>\n",
       "<table border=\"1\" class=\"dataframe\">\n",
       "  <thead>\n",
       "    <tr style=\"text-align: right;\">\n",
       "      <th></th>\n",
       "      <th>country</th>\n",
       "      <th>file_type</th>\n",
       "      <th>vqa_strategy_type</th>\n",
       "      <th>prompt_type</th>\n",
       "      <th>doc_splitter</th>\n",
       "      <th>add_title</th>\n",
       "      <th>token_count</th>\n",
       "      <th>chunk_size</th>\n",
       "      <th>chunk_overlap</th>\n",
       "      <th>accuracy</th>\n",
       "      <th>well_formatted_answers</th>\n",
       "    </tr>\n",
       "  </thead>\n",
       "  <tbody>\n",
       "    <tr>\n",
       "      <th>0</th>\n",
       "      <td>spain</td>\n",
       "      <td>english</td>\n",
       "      <td>rag_q</td>\n",
       "      <td>rq_v1</td>\n",
       "      <td>par_splitting</td>\n",
       "      <td>False</td>\n",
       "      <td>1</td>\n",
       "      <td>-</td>\n",
       "      <td>-</td>\n",
       "      <td>0.256</td>\n",
       "      <td>1.000</td>\n",
       "    </tr>\n",
       "    <tr>\n",
       "      <th>1</th>\n",
       "      <td>spain</td>\n",
       "      <td>english</td>\n",
       "      <td>rag_q</td>\n",
       "      <td>rq_v1</td>\n",
       "      <td>par_splitting</td>\n",
       "      <td>False</td>\n",
       "      <td>2</td>\n",
       "      <td>-</td>\n",
       "      <td>-</td>\n",
       "      <td>0.288</td>\n",
       "      <td>0.984</td>\n",
       "    </tr>\n",
       "    <tr>\n",
       "      <th>2</th>\n",
       "      <td>spain</td>\n",
       "      <td>english</td>\n",
       "      <td>rag_q</td>\n",
       "      <td>rq_v1</td>\n",
       "      <td>par_splitting</td>\n",
       "      <td>False</td>\n",
       "      <td>3</td>\n",
       "      <td>-</td>\n",
       "      <td>-</td>\n",
       "      <td>0.240</td>\n",
       "      <td>0.976</td>\n",
       "    </tr>\n",
       "    <tr>\n",
       "      <th>3</th>\n",
       "      <td>spain</td>\n",
       "      <td>english</td>\n",
       "      <td>rag_q</td>\n",
       "      <td>rq_v1</td>\n",
       "      <td>par_splitting</td>\n",
       "      <td>False</td>\n",
       "      <td>4</td>\n",
       "      <td>-</td>\n",
       "      <td>-</td>\n",
       "      <td>0.224</td>\n",
       "      <td>0.936</td>\n",
       "    </tr>\n",
       "    <tr>\n",
       "      <th>4</th>\n",
       "      <td>spain</td>\n",
       "      <td>english</td>\n",
       "      <td>rag_q</td>\n",
       "      <td>rq_v1</td>\n",
       "      <td>rec_char_splitting</td>\n",
       "      <td>False</td>\n",
       "      <td>1</td>\n",
       "      <td>300.0</td>\n",
       "      <td>0.0</td>\n",
       "      <td>0.264</td>\n",
       "      <td>1.000</td>\n",
       "    </tr>\n",
       "    <tr>\n",
       "      <th>5</th>\n",
       "      <td>spain</td>\n",
       "      <td>english</td>\n",
       "      <td>rag_q</td>\n",
       "      <td>rq_v1</td>\n",
       "      <td>rec_char_splitting</td>\n",
       "      <td>False</td>\n",
       "      <td>1</td>\n",
       "      <td>600.0</td>\n",
       "      <td>0.0</td>\n",
       "      <td>0.280</td>\n",
       "      <td>1.000</td>\n",
       "    </tr>\n",
       "    <tr>\n",
       "      <th>6</th>\n",
       "      <td>spain</td>\n",
       "      <td>english</td>\n",
       "      <td>rag_q</td>\n",
       "      <td>rq_v1</td>\n",
       "      <td>rec_char_splitting</td>\n",
       "      <td>False</td>\n",
       "      <td>1</td>\n",
       "      <td>900.0</td>\n",
       "      <td>0.0</td>\n",
       "      <td>0.272</td>\n",
       "      <td>1.000</td>\n",
       "    </tr>\n",
       "    <tr>\n",
       "      <th>7</th>\n",
       "      <td>spain</td>\n",
       "      <td>english</td>\n",
       "      <td>rag_q</td>\n",
       "      <td>rq_v1</td>\n",
       "      <td>rec_char_splitting</td>\n",
       "      <td>False</td>\n",
       "      <td>2</td>\n",
       "      <td>300.0</td>\n",
       "      <td>0.0</td>\n",
       "      <td>0.272</td>\n",
       "      <td>1.000</td>\n",
       "    </tr>\n",
       "    <tr>\n",
       "      <th>8</th>\n",
       "      <td>spain</td>\n",
       "      <td>english</td>\n",
       "      <td>rag_q</td>\n",
       "      <td>rq_v1</td>\n",
       "      <td>rec_char_splitting</td>\n",
       "      <td>False</td>\n",
       "      <td>2</td>\n",
       "      <td>600.0</td>\n",
       "      <td>0.0</td>\n",
       "      <td>0.240</td>\n",
       "      <td>1.000</td>\n",
       "    </tr>\n",
       "    <tr>\n",
       "      <th>9</th>\n",
       "      <td>spain</td>\n",
       "      <td>english</td>\n",
       "      <td>rag_q</td>\n",
       "      <td>rq_v1</td>\n",
       "      <td>rec_char_splitting</td>\n",
       "      <td>False</td>\n",
       "      <td>2</td>\n",
       "      <td>900.0</td>\n",
       "      <td>0.0</td>\n",
       "      <td>0.272</td>\n",
       "      <td>1.000</td>\n",
       "    </tr>\n",
       "    <tr>\n",
       "      <th>10</th>\n",
       "      <td>spain</td>\n",
       "      <td>english</td>\n",
       "      <td>rag_q</td>\n",
       "      <td>rq_v1</td>\n",
       "      <td>spacy_sent_splitting</td>\n",
       "      <td>False</td>\n",
       "      <td>1</td>\n",
       "      <td>-</td>\n",
       "      <td>-</td>\n",
       "      <td>0.296</td>\n",
       "      <td>1.000</td>\n",
       "    </tr>\n",
       "    <tr>\n",
       "      <th>11</th>\n",
       "      <td>spain</td>\n",
       "      <td>english</td>\n",
       "      <td>rag_q</td>\n",
       "      <td>rq_v1</td>\n",
       "      <td>spacy_sent_splitting</td>\n",
       "      <td>False</td>\n",
       "      <td>2</td>\n",
       "      <td>-</td>\n",
       "      <td>-</td>\n",
       "      <td>0.272</td>\n",
       "      <td>1.000</td>\n",
       "    </tr>\n",
       "    <tr>\n",
       "      <th>12</th>\n",
       "      <td>spain</td>\n",
       "      <td>english</td>\n",
       "      <td>rag_q</td>\n",
       "      <td>rq_v1</td>\n",
       "      <td>spacy_sent_splitting</td>\n",
       "      <td>False</td>\n",
       "      <td>3</td>\n",
       "      <td>-</td>\n",
       "      <td>-</td>\n",
       "      <td>0.272</td>\n",
       "      <td>1.000</td>\n",
       "    </tr>\n",
       "    <tr>\n",
       "      <th>13</th>\n",
       "      <td>spain</td>\n",
       "      <td>english</td>\n",
       "      <td>rag_q</td>\n",
       "      <td>rq_v1</td>\n",
       "      <td>spacy_sent_splitting</td>\n",
       "      <td>False</td>\n",
       "      <td>4</td>\n",
       "      <td>-</td>\n",
       "      <td>-</td>\n",
       "      <td>0.240</td>\n",
       "      <td>1.000</td>\n",
       "    </tr>\n",
       "  </tbody>\n",
       "</table>\n",
       "</div>"
      ],
      "text/plain": [
       "   country file_type vqa_strategy_type prompt_type          doc_splitter  \\\n",
       "0    spain   english             rag_q       rq_v1         par_splitting   \n",
       "1    spain   english             rag_q       rq_v1         par_splitting   \n",
       "2    spain   english             rag_q       rq_v1         par_splitting   \n",
       "3    spain   english             rag_q       rq_v1         par_splitting   \n",
       "4    spain   english             rag_q       rq_v1    rec_char_splitting   \n",
       "5    spain   english             rag_q       rq_v1    rec_char_splitting   \n",
       "6    spain   english             rag_q       rq_v1    rec_char_splitting   \n",
       "7    spain   english             rag_q       rq_v1    rec_char_splitting   \n",
       "8    spain   english             rag_q       rq_v1    rec_char_splitting   \n",
       "9    spain   english             rag_q       rq_v1    rec_char_splitting   \n",
       "10   spain   english             rag_q       rq_v1  spacy_sent_splitting   \n",
       "11   spain   english             rag_q       rq_v1  spacy_sent_splitting   \n",
       "12   spain   english             rag_q       rq_v1  spacy_sent_splitting   \n",
       "13   spain   english             rag_q       rq_v1  spacy_sent_splitting   \n",
       "\n",
       "    add_title  token_count chunk_size chunk_overlap  accuracy  \\\n",
       "0       False            1          -             -     0.256   \n",
       "1       False            2          -             -     0.288   \n",
       "2       False            3          -             -     0.240   \n",
       "3       False            4          -             -     0.224   \n",
       "4       False            1      300.0           0.0     0.264   \n",
       "5       False            1      600.0           0.0     0.280   \n",
       "6       False            1      900.0           0.0     0.272   \n",
       "7       False            2      300.0           0.0     0.272   \n",
       "8       False            2      600.0           0.0     0.240   \n",
       "9       False            2      900.0           0.0     0.272   \n",
       "10      False            1          -             -     0.296   \n",
       "11      False            2          -             -     0.272   \n",
       "12      False            3          -             -     0.272   \n",
       "13      False            4          -             -     0.240   \n",
       "\n",
       "    well_formatted_answers  \n",
       "0                    1.000  \n",
       "1                    0.984  \n",
       "2                    0.976  \n",
       "3                    0.936  \n",
       "4                    1.000  \n",
       "5                    1.000  \n",
       "6                    1.000  \n",
       "7                    1.000  \n",
       "8                    1.000  \n",
       "9                    1.000  \n",
       "10                   1.000  \n",
       "11                   1.000  \n",
       "12                   1.000  \n",
       "13                   1.000  "
      ]
     },
     "execution_count": 14,
     "metadata": {},
     "output_type": "execute_result"
    }
   ],
   "source": [
    "evaluation_results = world_med_qa_v_dataset_management.load_evaluation_results(\n",
    "    evaluation_results_folder=RESULTS_DIR,\n",
    "    vqa_strategy_details=[\n",
    "        VQAStrategyDetail(\n",
    "            country=\"spain\",\n",
    "            file_type=\"english\",\n",
    "            vqa_strategy_type=VQAStrategyType.RAG_Q,\n",
    "            prompt_type=RagQPromptType.V1,\n",
    "            relevant_docs_count=1,\n",
    "            doc_splitter_options=DocSplitterOptions(\n",
    "                doc_splitter_type=DocumentSplitterType.PARAGRAPH_SPLITTER,\n",
    "                add_title=False,\n",
    "                token_count=1\n",
    "            )\n",
    "        ),\n",
    "        VQAStrategyDetail(\n",
    "            country=\"spain\",\n",
    "            file_type=\"english\",\n",
    "            vqa_strategy_type=VQAStrategyType.RAG_Q,\n",
    "            prompt_type=RagQPromptType.V1,\n",
    "            relevant_docs_count=1,\n",
    "            doc_splitter_options=DocSplitterOptions(\n",
    "                doc_splitter_type=DocumentSplitterType.PARAGRAPH_SPLITTER,\n",
    "                add_title=False,\n",
    "                token_count=2\n",
    "            )\n",
    "        ),\n",
    "        VQAStrategyDetail(\n",
    "            country=\"spain\",\n",
    "            file_type=\"english\",\n",
    "            vqa_strategy_type=VQAStrategyType.RAG_Q,\n",
    "            prompt_type=RagQPromptType.V1,\n",
    "            relevant_docs_count=1,\n",
    "            doc_splitter_options=DocSplitterOptions(\n",
    "                doc_splitter_type=DocumentSplitterType.PARAGRAPH_SPLITTER,\n",
    "                add_title=False,\n",
    "                token_count=3\n",
    "            )\n",
    "        ),\n",
    "        VQAStrategyDetail(\n",
    "            country=\"spain\",\n",
    "            file_type=\"english\",\n",
    "            vqa_strategy_type=VQAStrategyType.RAG_Q,\n",
    "            prompt_type=RagQPromptType.V1,\n",
    "            relevant_docs_count=1,\n",
    "            doc_splitter_options=DocSplitterOptions(\n",
    "                doc_splitter_type=DocumentSplitterType.PARAGRAPH_SPLITTER,\n",
    "                add_title=False,\n",
    "                token_count=4\n",
    "            )\n",
    "        ),\n",
    "        VQAStrategyDetail(\n",
    "            country=\"spain\",\n",
    "            file_type=\"english\",\n",
    "            vqa_strategy_type=VQAStrategyType.RAG_Q,\n",
    "            prompt_type=RagQPromptType.V1,\n",
    "            relevant_docs_count=1,\n",
    "            doc_splitter_options=DocSplitterOptions(\n",
    "                doc_splitter_type=DocumentSplitterType.RECURSIVE_CHARACTER_SPLITTER,\n",
    "                add_title=False,\n",
    "                token_count=1,\n",
    "                chunk_size=300,\n",
    "                chunk_overlap=0\n",
    "            )\n",
    "        ),\n",
    "        VQAStrategyDetail(\n",
    "            country=\"spain\",\n",
    "            file_type=\"english\",\n",
    "            vqa_strategy_type=VQAStrategyType.RAG_Q,\n",
    "            prompt_type=RagQPromptType.V1,\n",
    "            relevant_docs_count=1,\n",
    "            doc_splitter_options=DocSplitterOptions(\n",
    "                doc_splitter_type=DocumentSplitterType.RECURSIVE_CHARACTER_SPLITTER,\n",
    "                add_title=False,\n",
    "                token_count=1,\n",
    "                chunk_size=600,\n",
    "                chunk_overlap=0\n",
    "            )\n",
    "        ),\n",
    "        VQAStrategyDetail(\n",
    "            country=\"spain\",\n",
    "            file_type=\"english\",\n",
    "            vqa_strategy_type=VQAStrategyType.RAG_Q,\n",
    "            prompt_type=RagQPromptType.V1,\n",
    "            relevant_docs_count=1,\n",
    "            doc_splitter_options=DocSplitterOptions(\n",
    "                doc_splitter_type=DocumentSplitterType.RECURSIVE_CHARACTER_SPLITTER,\n",
    "                add_title=False,\n",
    "                token_count=1,\n",
    "                chunk_size=900,\n",
    "                chunk_overlap=0\n",
    "            )\n",
    "        ),\n",
    "        VQAStrategyDetail(\n",
    "            country=\"spain\",\n",
    "            file_type=\"english\",\n",
    "            vqa_strategy_type=VQAStrategyType.RAG_Q,\n",
    "            prompt_type=RagQPromptType.V1,\n",
    "            relevant_docs_count=1,\n",
    "            doc_splitter_options=DocSplitterOptions(\n",
    "                doc_splitter_type=DocumentSplitterType.RECURSIVE_CHARACTER_SPLITTER,\n",
    "                add_title=False,\n",
    "                token_count=2,\n",
    "                chunk_size=300,\n",
    "                chunk_overlap=0\n",
    "            )\n",
    "        ),\n",
    "        VQAStrategyDetail(\n",
    "            country=\"spain\",\n",
    "            file_type=\"english\",\n",
    "            vqa_strategy_type=VQAStrategyType.RAG_Q,\n",
    "            prompt_type=RagQPromptType.V1,\n",
    "            relevant_docs_count=1,\n",
    "            doc_splitter_options=DocSplitterOptions(\n",
    "                doc_splitter_type=DocumentSplitterType.RECURSIVE_CHARACTER_SPLITTER,\n",
    "                add_title=False,\n",
    "                token_count=2,\n",
    "                chunk_size=600,\n",
    "                chunk_overlap=0\n",
    "            )\n",
    "        ),\n",
    "        VQAStrategyDetail(\n",
    "            country=\"spain\",\n",
    "            file_type=\"english\",\n",
    "            vqa_strategy_type=VQAStrategyType.RAG_Q,\n",
    "            prompt_type=RagQPromptType.V1,\n",
    "            relevant_docs_count=1,\n",
    "            doc_splitter_options=DocSplitterOptions(\n",
    "                doc_splitter_type=DocumentSplitterType.RECURSIVE_CHARACTER_SPLITTER,\n",
    "                add_title=False,\n",
    "                token_count=2,\n",
    "                chunk_size=900,\n",
    "                chunk_overlap=0\n",
    "            )\n",
    "        ),\n",
    "        VQAStrategyDetail(\n",
    "            country=\"spain\",\n",
    "            file_type=\"english\",\n",
    "            vqa_strategy_type=VQAStrategyType.RAG_Q,\n",
    "            prompt_type=RagQPromptType.V1,\n",
    "            relevant_docs_count=1,\n",
    "            doc_splitter_options=DocSplitterOptions(\n",
    "                doc_splitter_type=DocumentSplitterType.SPACY_SENTENCE_SPLITTER,\n",
    "                add_title=False,\n",
    "                token_count=1\n",
    "            )\n",
    "        ),\n",
    "        VQAStrategyDetail(\n",
    "            country=\"spain\",\n",
    "            file_type=\"english\",\n",
    "            vqa_strategy_type=VQAStrategyType.RAG_Q,\n",
    "            prompt_type=RagQPromptType.V1,\n",
    "            relevant_docs_count=1,\n",
    "            doc_splitter_options=DocSplitterOptions(\n",
    "                doc_splitter_type=DocumentSplitterType.SPACY_SENTENCE_SPLITTER,\n",
    "                add_title=False,\n",
    "                token_count=2\n",
    "            )\n",
    "        ),\n",
    "        VQAStrategyDetail(\n",
    "            country=\"spain\",\n",
    "            file_type=\"english\",\n",
    "            vqa_strategy_type=VQAStrategyType.RAG_Q,\n",
    "            prompt_type=RagQPromptType.V1,\n",
    "            relevant_docs_count=1,\n",
    "            doc_splitter_options=DocSplitterOptions(\n",
    "                doc_splitter_type=DocumentSplitterType.SPACY_SENTENCE_SPLITTER,\n",
    "                add_title=False,\n",
    "                token_count=3\n",
    "            )\n",
    "        ),\n",
    "        VQAStrategyDetail(\n",
    "            country=\"spain\",\n",
    "            file_type=\"english\",\n",
    "            vqa_strategy_type=VQAStrategyType.RAG_Q,\n",
    "            prompt_type=RagQPromptType.V1,\n",
    "            relevant_docs_count=1,\n",
    "            doc_splitter_options=DocSplitterOptions(\n",
    "                doc_splitter_type=DocumentSplitterType.SPACY_SENTENCE_SPLITTER,\n",
    "                add_title=False,\n",
    "                token_count=4\n",
    "            )\n",
    "        )\n",
    "    ]\n",
    ")\n",
    "evaluation_results = evaluation_results.fillna(\"-\")\n",
    "evaluation_results"
   ]
  },
  {
   "cell_type": "code",
   "execution_count": 16,
   "metadata": {},
   "outputs": [
    {
     "data": {
      "application/vnd.plotly.v1+json": {
       "config": {
        "plotlyServerURL": "https://plot.ly"
       },
       "data": [
        {
         "cliponaxis": false,
         "customdata": [
          [
           "rag_q",
           "rq_v1",
           "par_splitting",
           false,
           1,
           "-",
           "-"
          ],
          [
           "rag_q",
           "rq_v1",
           "par_splitting",
           false,
           2,
           "-",
           "-"
          ],
          [
           "rag_q",
           "rq_v1",
           "par_splitting",
           false,
           3,
           "-",
           "-"
          ],
          [
           "rag_q",
           "rq_v1",
           "par_splitting",
           false,
           4,
           "-",
           "-"
          ],
          [
           "rag_q",
           "rq_v1",
           "rec_char_splitting",
           false,
           1,
           300,
           0
          ],
          [
           "rag_q",
           "rq_v1",
           "rec_char_splitting",
           false,
           1,
           600,
           0
          ],
          [
           "rag_q",
           "rq_v1",
           "rec_char_splitting",
           false,
           1,
           900,
           0
          ],
          [
           "rag_q",
           "rq_v1",
           "rec_char_splitting",
           false,
           2,
           300,
           0
          ],
          [
           "rag_q",
           "rq_v1",
           "rec_char_splitting",
           false,
           2,
           600,
           0
          ],
          [
           "rag_q",
           "rq_v1",
           "rec_char_splitting",
           false,
           2,
           900,
           0
          ],
          [
           "rag_q",
           "rq_v1",
           "spacy_sent_splitting",
           false,
           1,
           "-",
           "-"
          ],
          [
           "rag_q",
           "rq_v1",
           "spacy_sent_splitting",
           false,
           2,
           "-",
           "-"
          ],
          [
           "rag_q",
           "rq_v1",
           "spacy_sent_splitting",
           false,
           3,
           "-",
           "-"
          ],
          [
           "rag_q",
           "rq_v1",
           "spacy_sent_splitting",
           false,
           4,
           "-",
           "-"
          ]
         ],
         "hovertemplate": "VQA Strategy Type: %{customdata[0]}<br>Prompt Type: %{customdata[1]}<br>Document Splitter: %{customdata[2]}<br>Add Title: %{customdata[3]}<br>Token Count: %{customdata[4]}<br>Chunk Size: %{customdata[5]}<br>Chunk Overlap: %{customdata[6]}<br>",
         "marker": {
          "color": "royalblue",
          "opacity": 0.8
         },
         "name": "Accuracy",
         "text": [
          0.256,
          0.288,
          0.24,
          0.224,
          0.264,
          0.28,
          0.272,
          0.272,
          0.24,
          0.272,
          0.296,
          0.272,
          0.272,
          0.24
         ],
         "textposition": "outside",
         "texttemplate": "%{y:.1%}",
         "type": "bar",
         "width": 0.4,
         "x": [
          0,
          1,
          2,
          3,
          4,
          5,
          6,
          7,
          8,
          9,
          10,
          11,
          12,
          13
         ],
         "y": [
          0.256,
          0.288,
          0.24,
          0.224,
          0.264,
          0.28,
          0.272,
          0.272,
          0.24,
          0.272,
          0.296,
          0.272,
          0.272,
          0.24
         ]
        },
        {
         "cliponaxis": false,
         "customdata": [
          [
           "rag_q",
           "rq_v1",
           "par_splitting",
           false,
           1,
           "-",
           "-"
          ],
          [
           "rag_q",
           "rq_v1",
           "par_splitting",
           false,
           2,
           "-",
           "-"
          ],
          [
           "rag_q",
           "rq_v1",
           "par_splitting",
           false,
           3,
           "-",
           "-"
          ],
          [
           "rag_q",
           "rq_v1",
           "par_splitting",
           false,
           4,
           "-",
           "-"
          ],
          [
           "rag_q",
           "rq_v1",
           "rec_char_splitting",
           false,
           1,
           300,
           0
          ],
          [
           "rag_q",
           "rq_v1",
           "rec_char_splitting",
           false,
           1,
           600,
           0
          ],
          [
           "rag_q",
           "rq_v1",
           "rec_char_splitting",
           false,
           1,
           900,
           0
          ],
          [
           "rag_q",
           "rq_v1",
           "rec_char_splitting",
           false,
           2,
           300,
           0
          ],
          [
           "rag_q",
           "rq_v1",
           "rec_char_splitting",
           false,
           2,
           600,
           0
          ],
          [
           "rag_q",
           "rq_v1",
           "rec_char_splitting",
           false,
           2,
           900,
           0
          ],
          [
           "rag_q",
           "rq_v1",
           "spacy_sent_splitting",
           false,
           1,
           "-",
           "-"
          ],
          [
           "rag_q",
           "rq_v1",
           "spacy_sent_splitting",
           false,
           2,
           "-",
           "-"
          ],
          [
           "rag_q",
           "rq_v1",
           "spacy_sent_splitting",
           false,
           3,
           "-",
           "-"
          ],
          [
           "rag_q",
           "rq_v1",
           "spacy_sent_splitting",
           false,
           4,
           "-",
           "-"
          ]
         ],
         "hovertemplate": "VQA Strategy Type: %{customdata[0]}<br>Prompt Type: %{customdata[1]}<br>Document Splitter: %{customdata[2]}<br>Add Title: %{customdata[3]}<br>Token Count: %{customdata[4]}<br>Chunk Size: %{customdata[5]}<br>Chunk Overlap: %{customdata[6]}<br>",
         "marker": {
          "color": "darkorange",
          "opacity": 0.8
         },
         "name": "Well-Formatted Answers",
         "text": [
          1,
          0.984,
          0.976,
          0.936,
          1,
          1,
          1,
          1,
          1,
          1,
          1,
          1,
          1,
          1
         ],
         "textposition": "outside",
         "texttemplate": "%{y:.1%}",
         "type": "bar",
         "width": 0.4,
         "x": [
          0,
          1,
          2,
          3,
          4,
          5,
          6,
          7,
          8,
          9,
          10,
          11,
          12,
          13
         ],
         "y": [
          1,
          0.984,
          0.976,
          0.936,
          1,
          1,
          1,
          1,
          1,
          1,
          1,
          1,
          1,
          1
         ]
        }
       ],
       "layout": {
        "barcornerradius": 15,
        "barmode": "group",
        "font": {
         "color": "black",
         "family": "Arial, sans-serif",
         "size": 14
        },
        "height": 500,
        "template": {
         "data": {
          "bar": [
           {
            "error_x": {
             "color": "#2a3f5f"
            },
            "error_y": {
             "color": "#2a3f5f"
            },
            "marker": {
             "line": {
              "color": "#E5ECF6",
              "width": 0.5
             },
             "pattern": {
              "fillmode": "overlay",
              "size": 10,
              "solidity": 0.2
             }
            },
            "type": "bar"
           }
          ],
          "barpolar": [
           {
            "marker": {
             "line": {
              "color": "#E5ECF6",
              "width": 0.5
             },
             "pattern": {
              "fillmode": "overlay",
              "size": 10,
              "solidity": 0.2
             }
            },
            "type": "barpolar"
           }
          ],
          "carpet": [
           {
            "aaxis": {
             "endlinecolor": "#2a3f5f",
             "gridcolor": "white",
             "linecolor": "white",
             "minorgridcolor": "white",
             "startlinecolor": "#2a3f5f"
            },
            "baxis": {
             "endlinecolor": "#2a3f5f",
             "gridcolor": "white",
             "linecolor": "white",
             "minorgridcolor": "white",
             "startlinecolor": "#2a3f5f"
            },
            "type": "carpet"
           }
          ],
          "choropleth": [
           {
            "colorbar": {
             "outlinewidth": 0,
             "ticks": ""
            },
            "type": "choropleth"
           }
          ],
          "contour": [
           {
            "colorbar": {
             "outlinewidth": 0,
             "ticks": ""
            },
            "colorscale": [
             [
              0,
              "#0d0887"
             ],
             [
              0.1111111111111111,
              "#46039f"
             ],
             [
              0.2222222222222222,
              "#7201a8"
             ],
             [
              0.3333333333333333,
              "#9c179e"
             ],
             [
              0.4444444444444444,
              "#bd3786"
             ],
             [
              0.5555555555555556,
              "#d8576b"
             ],
             [
              0.6666666666666666,
              "#ed7953"
             ],
             [
              0.7777777777777778,
              "#fb9f3a"
             ],
             [
              0.8888888888888888,
              "#fdca26"
             ],
             [
              1,
              "#f0f921"
             ]
            ],
            "type": "contour"
           }
          ],
          "contourcarpet": [
           {
            "colorbar": {
             "outlinewidth": 0,
             "ticks": ""
            },
            "type": "contourcarpet"
           }
          ],
          "heatmap": [
           {
            "colorbar": {
             "outlinewidth": 0,
             "ticks": ""
            },
            "colorscale": [
             [
              0,
              "#0d0887"
             ],
             [
              0.1111111111111111,
              "#46039f"
             ],
             [
              0.2222222222222222,
              "#7201a8"
             ],
             [
              0.3333333333333333,
              "#9c179e"
             ],
             [
              0.4444444444444444,
              "#bd3786"
             ],
             [
              0.5555555555555556,
              "#d8576b"
             ],
             [
              0.6666666666666666,
              "#ed7953"
             ],
             [
              0.7777777777777778,
              "#fb9f3a"
             ],
             [
              0.8888888888888888,
              "#fdca26"
             ],
             [
              1,
              "#f0f921"
             ]
            ],
            "type": "heatmap"
           }
          ],
          "heatmapgl": [
           {
            "colorbar": {
             "outlinewidth": 0,
             "ticks": ""
            },
            "colorscale": [
             [
              0,
              "#0d0887"
             ],
             [
              0.1111111111111111,
              "#46039f"
             ],
             [
              0.2222222222222222,
              "#7201a8"
             ],
             [
              0.3333333333333333,
              "#9c179e"
             ],
             [
              0.4444444444444444,
              "#bd3786"
             ],
             [
              0.5555555555555556,
              "#d8576b"
             ],
             [
              0.6666666666666666,
              "#ed7953"
             ],
             [
              0.7777777777777778,
              "#fb9f3a"
             ],
             [
              0.8888888888888888,
              "#fdca26"
             ],
             [
              1,
              "#f0f921"
             ]
            ],
            "type": "heatmapgl"
           }
          ],
          "histogram": [
           {
            "marker": {
             "pattern": {
              "fillmode": "overlay",
              "size": 10,
              "solidity": 0.2
             }
            },
            "type": "histogram"
           }
          ],
          "histogram2d": [
           {
            "colorbar": {
             "outlinewidth": 0,
             "ticks": ""
            },
            "colorscale": [
             [
              0,
              "#0d0887"
             ],
             [
              0.1111111111111111,
              "#46039f"
             ],
             [
              0.2222222222222222,
              "#7201a8"
             ],
             [
              0.3333333333333333,
              "#9c179e"
             ],
             [
              0.4444444444444444,
              "#bd3786"
             ],
             [
              0.5555555555555556,
              "#d8576b"
             ],
             [
              0.6666666666666666,
              "#ed7953"
             ],
             [
              0.7777777777777778,
              "#fb9f3a"
             ],
             [
              0.8888888888888888,
              "#fdca26"
             ],
             [
              1,
              "#f0f921"
             ]
            ],
            "type": "histogram2d"
           }
          ],
          "histogram2dcontour": [
           {
            "colorbar": {
             "outlinewidth": 0,
             "ticks": ""
            },
            "colorscale": [
             [
              0,
              "#0d0887"
             ],
             [
              0.1111111111111111,
              "#46039f"
             ],
             [
              0.2222222222222222,
              "#7201a8"
             ],
             [
              0.3333333333333333,
              "#9c179e"
             ],
             [
              0.4444444444444444,
              "#bd3786"
             ],
             [
              0.5555555555555556,
              "#d8576b"
             ],
             [
              0.6666666666666666,
              "#ed7953"
             ],
             [
              0.7777777777777778,
              "#fb9f3a"
             ],
             [
              0.8888888888888888,
              "#fdca26"
             ],
             [
              1,
              "#f0f921"
             ]
            ],
            "type": "histogram2dcontour"
           }
          ],
          "mesh3d": [
           {
            "colorbar": {
             "outlinewidth": 0,
             "ticks": ""
            },
            "type": "mesh3d"
           }
          ],
          "parcoords": [
           {
            "line": {
             "colorbar": {
              "outlinewidth": 0,
              "ticks": ""
             }
            },
            "type": "parcoords"
           }
          ],
          "pie": [
           {
            "automargin": true,
            "type": "pie"
           }
          ],
          "scatter": [
           {
            "fillpattern": {
             "fillmode": "overlay",
             "size": 10,
             "solidity": 0.2
            },
            "type": "scatter"
           }
          ],
          "scatter3d": [
           {
            "line": {
             "colorbar": {
              "outlinewidth": 0,
              "ticks": ""
             }
            },
            "marker": {
             "colorbar": {
              "outlinewidth": 0,
              "ticks": ""
             }
            },
            "type": "scatter3d"
           }
          ],
          "scattercarpet": [
           {
            "marker": {
             "colorbar": {
              "outlinewidth": 0,
              "ticks": ""
             }
            },
            "type": "scattercarpet"
           }
          ],
          "scattergeo": [
           {
            "marker": {
             "colorbar": {
              "outlinewidth": 0,
              "ticks": ""
             }
            },
            "type": "scattergeo"
           }
          ],
          "scattergl": [
           {
            "marker": {
             "colorbar": {
              "outlinewidth": 0,
              "ticks": ""
             }
            },
            "type": "scattergl"
           }
          ],
          "scattermapbox": [
           {
            "marker": {
             "colorbar": {
              "outlinewidth": 0,
              "ticks": ""
             }
            },
            "type": "scattermapbox"
           }
          ],
          "scatterpolar": [
           {
            "marker": {
             "colorbar": {
              "outlinewidth": 0,
              "ticks": ""
             }
            },
            "type": "scatterpolar"
           }
          ],
          "scatterpolargl": [
           {
            "marker": {
             "colorbar": {
              "outlinewidth": 0,
              "ticks": ""
             }
            },
            "type": "scatterpolargl"
           }
          ],
          "scatterternary": [
           {
            "marker": {
             "colorbar": {
              "outlinewidth": 0,
              "ticks": ""
             }
            },
            "type": "scatterternary"
           }
          ],
          "surface": [
           {
            "colorbar": {
             "outlinewidth": 0,
             "ticks": ""
            },
            "colorscale": [
             [
              0,
              "#0d0887"
             ],
             [
              0.1111111111111111,
              "#46039f"
             ],
             [
              0.2222222222222222,
              "#7201a8"
             ],
             [
              0.3333333333333333,
              "#9c179e"
             ],
             [
              0.4444444444444444,
              "#bd3786"
             ],
             [
              0.5555555555555556,
              "#d8576b"
             ],
             [
              0.6666666666666666,
              "#ed7953"
             ],
             [
              0.7777777777777778,
              "#fb9f3a"
             ],
             [
              0.8888888888888888,
              "#fdca26"
             ],
             [
              1,
              "#f0f921"
             ]
            ],
            "type": "surface"
           }
          ],
          "table": [
           {
            "cells": {
             "fill": {
              "color": "#EBF0F8"
             },
             "line": {
              "color": "white"
             }
            },
            "header": {
             "fill": {
              "color": "#C8D4E3"
             },
             "line": {
              "color": "white"
             }
            },
            "type": "table"
           }
          ]
         },
         "layout": {
          "annotationdefaults": {
           "arrowcolor": "#2a3f5f",
           "arrowhead": 0,
           "arrowwidth": 1
          },
          "autotypenumbers": "strict",
          "coloraxis": {
           "colorbar": {
            "outlinewidth": 0,
            "ticks": ""
           }
          },
          "colorscale": {
           "diverging": [
            [
             0,
             "#8e0152"
            ],
            [
             0.1,
             "#c51b7d"
            ],
            [
             0.2,
             "#de77ae"
            ],
            [
             0.3,
             "#f1b6da"
            ],
            [
             0.4,
             "#fde0ef"
            ],
            [
             0.5,
             "#f7f7f7"
            ],
            [
             0.6,
             "#e6f5d0"
            ],
            [
             0.7,
             "#b8e186"
            ],
            [
             0.8,
             "#7fbc41"
            ],
            [
             0.9,
             "#4d9221"
            ],
            [
             1,
             "#276419"
            ]
           ],
           "sequential": [
            [
             0,
             "#0d0887"
            ],
            [
             0.1111111111111111,
             "#46039f"
            ],
            [
             0.2222222222222222,
             "#7201a8"
            ],
            [
             0.3333333333333333,
             "#9c179e"
            ],
            [
             0.4444444444444444,
             "#bd3786"
            ],
            [
             0.5555555555555556,
             "#d8576b"
            ],
            [
             0.6666666666666666,
             "#ed7953"
            ],
            [
             0.7777777777777778,
             "#fb9f3a"
            ],
            [
             0.8888888888888888,
             "#fdca26"
            ],
            [
             1,
             "#f0f921"
            ]
           ],
           "sequentialminus": [
            [
             0,
             "#0d0887"
            ],
            [
             0.1111111111111111,
             "#46039f"
            ],
            [
             0.2222222222222222,
             "#7201a8"
            ],
            [
             0.3333333333333333,
             "#9c179e"
            ],
            [
             0.4444444444444444,
             "#bd3786"
            ],
            [
             0.5555555555555556,
             "#d8576b"
            ],
            [
             0.6666666666666666,
             "#ed7953"
            ],
            [
             0.7777777777777778,
             "#fb9f3a"
            ],
            [
             0.8888888888888888,
             "#fdca26"
            ],
            [
             1,
             "#f0f921"
            ]
           ]
          },
          "colorway": [
           "#636efa",
           "#EF553B",
           "#00cc96",
           "#ab63fa",
           "#FFA15A",
           "#19d3f3",
           "#FF6692",
           "#B6E880",
           "#FF97FF",
           "#FECB52"
          ],
          "font": {
           "color": "#2a3f5f"
          },
          "geo": {
           "bgcolor": "white",
           "lakecolor": "white",
           "landcolor": "#E5ECF6",
           "showlakes": true,
           "showland": true,
           "subunitcolor": "white"
          },
          "hoverlabel": {
           "align": "left"
          },
          "hovermode": "closest",
          "mapbox": {
           "style": "light"
          },
          "paper_bgcolor": "white",
          "plot_bgcolor": "#E5ECF6",
          "polar": {
           "angularaxis": {
            "gridcolor": "white",
            "linecolor": "white",
            "ticks": ""
           },
           "bgcolor": "#E5ECF6",
           "radialaxis": {
            "gridcolor": "white",
            "linecolor": "white",
            "ticks": ""
           }
          },
          "scene": {
           "xaxis": {
            "backgroundcolor": "#E5ECF6",
            "gridcolor": "white",
            "gridwidth": 2,
            "linecolor": "white",
            "showbackground": true,
            "ticks": "",
            "zerolinecolor": "white"
           },
           "yaxis": {
            "backgroundcolor": "#E5ECF6",
            "gridcolor": "white",
            "gridwidth": 2,
            "linecolor": "white",
            "showbackground": true,
            "ticks": "",
            "zerolinecolor": "white"
           },
           "zaxis": {
            "backgroundcolor": "#E5ECF6",
            "gridcolor": "white",
            "gridwidth": 2,
            "linecolor": "white",
            "showbackground": true,
            "ticks": "",
            "zerolinecolor": "white"
           }
          },
          "shapedefaults": {
           "line": {
            "color": "#2a3f5f"
           }
          },
          "ternary": {
           "aaxis": {
            "gridcolor": "white",
            "linecolor": "white",
            "ticks": ""
           },
           "baxis": {
            "gridcolor": "white",
            "linecolor": "white",
            "ticks": ""
           },
           "bgcolor": "#E5ECF6",
           "caxis": {
            "gridcolor": "white",
            "linecolor": "white",
            "ticks": ""
           }
          },
          "title": {
           "x": 0.05
          },
          "xaxis": {
           "automargin": true,
           "gridcolor": "white",
           "linecolor": "white",
           "ticks": "",
           "title": {
            "standoff": 15
           },
           "zerolinecolor": "white",
           "zerolinewidth": 2
          },
          "yaxis": {
           "automargin": true,
           "gridcolor": "white",
           "linecolor": "white",
           "ticks": "",
           "title": {
            "standoff": 15
           },
           "zerolinecolor": "white",
           "zerolinewidth": 2
          }
         }
        },
        "title": {
         "font": {
          "color": "black",
          "family": "Arial, sans-serif",
          "size": 22
         },
         "text": "Analysis of LLaVA Model Accuracy Across Different RAG Approaches and Parameter Settings (RDC: 1)",
         "x": 0.5,
         "xanchor": "center"
        },
        "xaxis": {
         "title": {
          "text": "Model Evaluations"
         }
        },
        "yaxis": {
         "range": [
          0,
          1.1
         ],
         "ticktext": [
          "0%",
          "10%",
          "20%",
          "30%",
          "40%",
          "50%",
          "60%",
          "70%",
          "80%",
          "90%",
          "100%"
         ],
         "tickvals": [
          0,
          0.1,
          0.2,
          0.3,
          0.4,
          0.5,
          0.6,
          0.7,
          0.8,
          0.9,
          1
         ],
         "title": {
          "text": "Accuracy"
         }
        }
       }
      }
     },
     "metadata": {},
     "output_type": "display_data"
    }
   ],
   "source": [
    "world_med_qa_v_plot_helpers.display_bar_chart_on_evaluation_results(\n",
    "    evaluation_results=evaluation_results,\n",
    "    title=\"Analysis of LLaVA Model Accuracy Across Different RAG Approaches and Parameter Settings (RDC: 1)\"\n",
    ")"
   ]
  },
  {
   "cell_type": "markdown",
   "metadata": {},
   "source": [
    "### 3.2. Rag Q (Relevant Documents Count: 2)"
   ]
  },
  {
   "cell_type": "code",
   "execution_count": 17,
   "metadata": {},
   "outputs": [
    {
     "data": {
      "text/html": [
       "<div>\n",
       "<style scoped>\n",
       "    .dataframe tbody tr th:only-of-type {\n",
       "        vertical-align: middle;\n",
       "    }\n",
       "\n",
       "    .dataframe tbody tr th {\n",
       "        vertical-align: top;\n",
       "    }\n",
       "\n",
       "    .dataframe thead th {\n",
       "        text-align: right;\n",
       "    }\n",
       "</style>\n",
       "<table border=\"1\" class=\"dataframe\">\n",
       "  <thead>\n",
       "    <tr style=\"text-align: right;\">\n",
       "      <th></th>\n",
       "      <th>country</th>\n",
       "      <th>file_type</th>\n",
       "      <th>vqa_strategy_type</th>\n",
       "      <th>prompt_type</th>\n",
       "      <th>doc_splitter</th>\n",
       "      <th>add_title</th>\n",
       "      <th>token_count</th>\n",
       "      <th>chunk_size</th>\n",
       "      <th>chunk_overlap</th>\n",
       "      <th>accuracy</th>\n",
       "      <th>well_formatted_answers</th>\n",
       "    </tr>\n",
       "  </thead>\n",
       "  <tbody>\n",
       "    <tr>\n",
       "      <th>0</th>\n",
       "      <td>spain</td>\n",
       "      <td>english</td>\n",
       "      <td>rag_q</td>\n",
       "      <td>rq_v1</td>\n",
       "      <td>par_splitting</td>\n",
       "      <td>False</td>\n",
       "      <td>1</td>\n",
       "      <td>-</td>\n",
       "      <td>-</td>\n",
       "      <td>0.240</td>\n",
       "      <td>0.920</td>\n",
       "    </tr>\n",
       "    <tr>\n",
       "      <th>1</th>\n",
       "      <td>spain</td>\n",
       "      <td>english</td>\n",
       "      <td>rag_q</td>\n",
       "      <td>rq_v1</td>\n",
       "      <td>par_splitting</td>\n",
       "      <td>False</td>\n",
       "      <td>2</td>\n",
       "      <td>-</td>\n",
       "      <td>-</td>\n",
       "      <td>0.184</td>\n",
       "      <td>0.800</td>\n",
       "    </tr>\n",
       "    <tr>\n",
       "      <th>2</th>\n",
       "      <td>spain</td>\n",
       "      <td>english</td>\n",
       "      <td>rag_q</td>\n",
       "      <td>rq_v1</td>\n",
       "      <td>par_splitting</td>\n",
       "      <td>False</td>\n",
       "      <td>3</td>\n",
       "      <td>-</td>\n",
       "      <td>-</td>\n",
       "      <td>0.176</td>\n",
       "      <td>0.680</td>\n",
       "    </tr>\n",
       "    <tr>\n",
       "      <th>3</th>\n",
       "      <td>spain</td>\n",
       "      <td>english</td>\n",
       "      <td>rag_q</td>\n",
       "      <td>rq_v1</td>\n",
       "      <td>par_splitting</td>\n",
       "      <td>False</td>\n",
       "      <td>4</td>\n",
       "      <td>-</td>\n",
       "      <td>-</td>\n",
       "      <td>0.152</td>\n",
       "      <td>0.456</td>\n",
       "    </tr>\n",
       "    <tr>\n",
       "      <th>4</th>\n",
       "      <td>spain</td>\n",
       "      <td>english</td>\n",
       "      <td>rag_q</td>\n",
       "      <td>rq_v1</td>\n",
       "      <td>rec_char_splitting</td>\n",
       "      <td>False</td>\n",
       "      <td>1</td>\n",
       "      <td>300.0</td>\n",
       "      <td>0.0</td>\n",
       "      <td>0.272</td>\n",
       "      <td>1.000</td>\n",
       "    </tr>\n",
       "    <tr>\n",
       "      <th>5</th>\n",
       "      <td>spain</td>\n",
       "      <td>english</td>\n",
       "      <td>rag_q</td>\n",
       "      <td>rq_v1</td>\n",
       "      <td>rec_char_splitting</td>\n",
       "      <td>False</td>\n",
       "      <td>1</td>\n",
       "      <td>600.0</td>\n",
       "      <td>0.0</td>\n",
       "      <td>0.288</td>\n",
       "      <td>1.000</td>\n",
       "    </tr>\n",
       "    <tr>\n",
       "      <th>6</th>\n",
       "      <td>spain</td>\n",
       "      <td>english</td>\n",
       "      <td>rag_q</td>\n",
       "      <td>rq_v1</td>\n",
       "      <td>rec_char_splitting</td>\n",
       "      <td>False</td>\n",
       "      <td>1</td>\n",
       "      <td>900.0</td>\n",
       "      <td>0.0</td>\n",
       "      <td>0.248</td>\n",
       "      <td>1.000</td>\n",
       "    </tr>\n",
       "    <tr>\n",
       "      <th>7</th>\n",
       "      <td>spain</td>\n",
       "      <td>english</td>\n",
       "      <td>rag_q</td>\n",
       "      <td>rq_v1</td>\n",
       "      <td>rec_char_splitting</td>\n",
       "      <td>False</td>\n",
       "      <td>2</td>\n",
       "      <td>300.0</td>\n",
       "      <td>0.0</td>\n",
       "      <td>0.288</td>\n",
       "      <td>1.000</td>\n",
       "    </tr>\n",
       "    <tr>\n",
       "      <th>8</th>\n",
       "      <td>spain</td>\n",
       "      <td>english</td>\n",
       "      <td>rag_q</td>\n",
       "      <td>rq_v1</td>\n",
       "      <td>rec_char_splitting</td>\n",
       "      <td>False</td>\n",
       "      <td>2</td>\n",
       "      <td>600.0</td>\n",
       "      <td>0.0</td>\n",
       "      <td>0.272</td>\n",
       "      <td>1.000</td>\n",
       "    </tr>\n",
       "    <tr>\n",
       "      <th>9</th>\n",
       "      <td>spain</td>\n",
       "      <td>english</td>\n",
       "      <td>rag_q</td>\n",
       "      <td>rq_v1</td>\n",
       "      <td>rec_char_splitting</td>\n",
       "      <td>False</td>\n",
       "      <td>2</td>\n",
       "      <td>900.0</td>\n",
       "      <td>0.0</td>\n",
       "      <td>0.248</td>\n",
       "      <td>1.000</td>\n",
       "    </tr>\n",
       "    <tr>\n",
       "      <th>10</th>\n",
       "      <td>spain</td>\n",
       "      <td>english</td>\n",
       "      <td>rag_q</td>\n",
       "      <td>rq_v1</td>\n",
       "      <td>spacy_sent_splitting</td>\n",
       "      <td>False</td>\n",
       "      <td>1</td>\n",
       "      <td>-</td>\n",
       "      <td>-</td>\n",
       "      <td>0.264</td>\n",
       "      <td>1.000</td>\n",
       "    </tr>\n",
       "    <tr>\n",
       "      <th>11</th>\n",
       "      <td>spain</td>\n",
       "      <td>english</td>\n",
       "      <td>rag_q</td>\n",
       "      <td>rq_v1</td>\n",
       "      <td>spacy_sent_splitting</td>\n",
       "      <td>False</td>\n",
       "      <td>2</td>\n",
       "      <td>-</td>\n",
       "      <td>-</td>\n",
       "      <td>0.272</td>\n",
       "      <td>1.000</td>\n",
       "    </tr>\n",
       "    <tr>\n",
       "      <th>12</th>\n",
       "      <td>spain</td>\n",
       "      <td>english</td>\n",
       "      <td>rag_q</td>\n",
       "      <td>rq_v1</td>\n",
       "      <td>spacy_sent_splitting</td>\n",
       "      <td>False</td>\n",
       "      <td>3</td>\n",
       "      <td>-</td>\n",
       "      <td>-</td>\n",
       "      <td>0.272</td>\n",
       "      <td>1.000</td>\n",
       "    </tr>\n",
       "    <tr>\n",
       "      <th>13</th>\n",
       "      <td>spain</td>\n",
       "      <td>english</td>\n",
       "      <td>rag_q</td>\n",
       "      <td>rq_v1</td>\n",
       "      <td>spacy_sent_splitting</td>\n",
       "      <td>False</td>\n",
       "      <td>4</td>\n",
       "      <td>-</td>\n",
       "      <td>-</td>\n",
       "      <td>0.264</td>\n",
       "      <td>1.000</td>\n",
       "    </tr>\n",
       "  </tbody>\n",
       "</table>\n",
       "</div>"
      ],
      "text/plain": [
       "   country file_type vqa_strategy_type prompt_type          doc_splitter  \\\n",
       "0    spain   english             rag_q       rq_v1         par_splitting   \n",
       "1    spain   english             rag_q       rq_v1         par_splitting   \n",
       "2    spain   english             rag_q       rq_v1         par_splitting   \n",
       "3    spain   english             rag_q       rq_v1         par_splitting   \n",
       "4    spain   english             rag_q       rq_v1    rec_char_splitting   \n",
       "5    spain   english             rag_q       rq_v1    rec_char_splitting   \n",
       "6    spain   english             rag_q       rq_v1    rec_char_splitting   \n",
       "7    spain   english             rag_q       rq_v1    rec_char_splitting   \n",
       "8    spain   english             rag_q       rq_v1    rec_char_splitting   \n",
       "9    spain   english             rag_q       rq_v1    rec_char_splitting   \n",
       "10   spain   english             rag_q       rq_v1  spacy_sent_splitting   \n",
       "11   spain   english             rag_q       rq_v1  spacy_sent_splitting   \n",
       "12   spain   english             rag_q       rq_v1  spacy_sent_splitting   \n",
       "13   spain   english             rag_q       rq_v1  spacy_sent_splitting   \n",
       "\n",
       "    add_title  token_count chunk_size chunk_overlap  accuracy  \\\n",
       "0       False            1          -             -     0.240   \n",
       "1       False            2          -             -     0.184   \n",
       "2       False            3          -             -     0.176   \n",
       "3       False            4          -             -     0.152   \n",
       "4       False            1      300.0           0.0     0.272   \n",
       "5       False            1      600.0           0.0     0.288   \n",
       "6       False            1      900.0           0.0     0.248   \n",
       "7       False            2      300.0           0.0     0.288   \n",
       "8       False            2      600.0           0.0     0.272   \n",
       "9       False            2      900.0           0.0     0.248   \n",
       "10      False            1          -             -     0.264   \n",
       "11      False            2          -             -     0.272   \n",
       "12      False            3          -             -     0.272   \n",
       "13      False            4          -             -     0.264   \n",
       "\n",
       "    well_formatted_answers  \n",
       "0                    0.920  \n",
       "1                    0.800  \n",
       "2                    0.680  \n",
       "3                    0.456  \n",
       "4                    1.000  \n",
       "5                    1.000  \n",
       "6                    1.000  \n",
       "7                    1.000  \n",
       "8                    1.000  \n",
       "9                    1.000  \n",
       "10                   1.000  \n",
       "11                   1.000  \n",
       "12                   1.000  \n",
       "13                   1.000  "
      ]
     },
     "execution_count": 17,
     "metadata": {},
     "output_type": "execute_result"
    }
   ],
   "source": [
    "evaluation_results = world_med_qa_v_dataset_management.load_evaluation_results(\n",
    "    evaluation_results_folder=RESULTS_DIR,\n",
    "    vqa_strategy_details=[\n",
    "        VQAStrategyDetail(\n",
    "            country=\"spain\",\n",
    "            file_type=\"english\",\n",
    "            vqa_strategy_type=VQAStrategyType.RAG_Q,\n",
    "            prompt_type=RagQPromptType.V1,\n",
    "            relevant_docs_count=2,\n",
    "            doc_splitter_options=DocSplitterOptions(\n",
    "                doc_splitter_type=DocumentSplitterType.PARAGRAPH_SPLITTER,\n",
    "                add_title=False,\n",
    "                token_count=1\n",
    "            )\n",
    "        ),\n",
    "        VQAStrategyDetail(\n",
    "            country=\"spain\",\n",
    "            file_type=\"english\",\n",
    "            vqa_strategy_type=VQAStrategyType.RAG_Q,\n",
    "            prompt_type=RagQPromptType.V1,\n",
    "            relevant_docs_count=2,\n",
    "            doc_splitter_options=DocSplitterOptions(\n",
    "                doc_splitter_type=DocumentSplitterType.PARAGRAPH_SPLITTER,\n",
    "                add_title=False,\n",
    "                token_count=2\n",
    "            )\n",
    "        ),\n",
    "        VQAStrategyDetail(\n",
    "            country=\"spain\",\n",
    "            file_type=\"english\",\n",
    "            vqa_strategy_type=VQAStrategyType.RAG_Q,\n",
    "            prompt_type=RagQPromptType.V1,\n",
    "            relevant_docs_count=2,\n",
    "            doc_splitter_options=DocSplitterOptions(\n",
    "                doc_splitter_type=DocumentSplitterType.PARAGRAPH_SPLITTER,\n",
    "                add_title=False,\n",
    "                token_count=3\n",
    "            )\n",
    "        ),\n",
    "        VQAStrategyDetail(\n",
    "            country=\"spain\",\n",
    "            file_type=\"english\",\n",
    "            vqa_strategy_type=VQAStrategyType.RAG_Q,\n",
    "            prompt_type=RagQPromptType.V1,\n",
    "            relevant_docs_count=2,\n",
    "            doc_splitter_options=DocSplitterOptions(\n",
    "                doc_splitter_type=DocumentSplitterType.PARAGRAPH_SPLITTER,\n",
    "                add_title=False,\n",
    "                token_count=4\n",
    "            )\n",
    "        ),\n",
    "        VQAStrategyDetail(\n",
    "            country=\"spain\",\n",
    "            file_type=\"english\",\n",
    "            vqa_strategy_type=VQAStrategyType.RAG_Q,\n",
    "            prompt_type=RagQPromptType.V1,\n",
    "            relevant_docs_count=2,\n",
    "            doc_splitter_options=DocSplitterOptions(\n",
    "                doc_splitter_type=DocumentSplitterType.RECURSIVE_CHARACTER_SPLITTER,\n",
    "                add_title=False,\n",
    "                token_count=1,\n",
    "                chunk_size=300,\n",
    "                chunk_overlap=0\n",
    "            )\n",
    "        ),\n",
    "        VQAStrategyDetail(\n",
    "            country=\"spain\",\n",
    "            file_type=\"english\",\n",
    "            vqa_strategy_type=VQAStrategyType.RAG_Q,\n",
    "            prompt_type=RagQPromptType.V1,\n",
    "            relevant_docs_count=2,\n",
    "            doc_splitter_options=DocSplitterOptions(\n",
    "                doc_splitter_type=DocumentSplitterType.RECURSIVE_CHARACTER_SPLITTER,\n",
    "                add_title=False,\n",
    "                token_count=1,\n",
    "                chunk_size=600,\n",
    "                chunk_overlap=0\n",
    "            )\n",
    "        ),\n",
    "        VQAStrategyDetail(\n",
    "            country=\"spain\",\n",
    "            file_type=\"english\",\n",
    "            vqa_strategy_type=VQAStrategyType.RAG_Q,\n",
    "            prompt_type=RagQPromptType.V1,\n",
    "            relevant_docs_count=2,\n",
    "            doc_splitter_options=DocSplitterOptions(\n",
    "                doc_splitter_type=DocumentSplitterType.RECURSIVE_CHARACTER_SPLITTER,\n",
    "                add_title=False,\n",
    "                token_count=1,\n",
    "                chunk_size=900,\n",
    "                chunk_overlap=0\n",
    "            )\n",
    "        ),\n",
    "        VQAStrategyDetail(\n",
    "            country=\"spain\",\n",
    "            file_type=\"english\",\n",
    "            vqa_strategy_type=VQAStrategyType.RAG_Q,\n",
    "            prompt_type=RagQPromptType.V1,\n",
    "            relevant_docs_count=2,\n",
    "            doc_splitter_options=DocSplitterOptions(\n",
    "                doc_splitter_type=DocumentSplitterType.RECURSIVE_CHARACTER_SPLITTER,\n",
    "                add_title=False,\n",
    "                token_count=2,\n",
    "                chunk_size=300,\n",
    "                chunk_overlap=0\n",
    "            )\n",
    "        ),\n",
    "        VQAStrategyDetail(\n",
    "            country=\"spain\",\n",
    "            file_type=\"english\",\n",
    "            vqa_strategy_type=VQAStrategyType.RAG_Q,\n",
    "            prompt_type=RagQPromptType.V1,\n",
    "            relevant_docs_count=2,\n",
    "            doc_splitter_options=DocSplitterOptions(\n",
    "                doc_splitter_type=DocumentSplitterType.RECURSIVE_CHARACTER_SPLITTER,\n",
    "                add_title=False,\n",
    "                token_count=2,\n",
    "                chunk_size=600,\n",
    "                chunk_overlap=0\n",
    "            )\n",
    "        ),\n",
    "        VQAStrategyDetail(\n",
    "            country=\"spain\",\n",
    "            file_type=\"english\",\n",
    "            vqa_strategy_type=VQAStrategyType.RAG_Q,\n",
    "            prompt_type=RagQPromptType.V1,\n",
    "            relevant_docs_count=2,\n",
    "            doc_splitter_options=DocSplitterOptions(\n",
    "                doc_splitter_type=DocumentSplitterType.RECURSIVE_CHARACTER_SPLITTER,\n",
    "                add_title=False,\n",
    "                token_count=2,\n",
    "                chunk_size=900,\n",
    "                chunk_overlap=0\n",
    "            )\n",
    "        ),\n",
    "        VQAStrategyDetail(\n",
    "            country=\"spain\",\n",
    "            file_type=\"english\",\n",
    "            vqa_strategy_type=VQAStrategyType.RAG_Q,\n",
    "            prompt_type=RagQPromptType.V1,\n",
    "            relevant_docs_count=2,\n",
    "            doc_splitter_options=DocSplitterOptions(\n",
    "                doc_splitter_type=DocumentSplitterType.SPACY_SENTENCE_SPLITTER,\n",
    "                add_title=False,\n",
    "                token_count=1\n",
    "            )\n",
    "        ),\n",
    "        VQAStrategyDetail(\n",
    "            country=\"spain\",\n",
    "            file_type=\"english\",\n",
    "            vqa_strategy_type=VQAStrategyType.RAG_Q,\n",
    "            prompt_type=RagQPromptType.V1,\n",
    "            relevant_docs_count=2,\n",
    "            doc_splitter_options=DocSplitterOptions(\n",
    "                doc_splitter_type=DocumentSplitterType.SPACY_SENTENCE_SPLITTER,\n",
    "                add_title=False,\n",
    "                token_count=2\n",
    "            )\n",
    "        ),\n",
    "        VQAStrategyDetail(\n",
    "            country=\"spain\",\n",
    "            file_type=\"english\",\n",
    "            vqa_strategy_type=VQAStrategyType.RAG_Q,\n",
    "            prompt_type=RagQPromptType.V1,\n",
    "            relevant_docs_count=2,\n",
    "            doc_splitter_options=DocSplitterOptions(\n",
    "                doc_splitter_type=DocumentSplitterType.SPACY_SENTENCE_SPLITTER,\n",
    "                add_title=False,\n",
    "                token_count=3\n",
    "            )\n",
    "        ),\n",
    "        VQAStrategyDetail(\n",
    "            country=\"spain\",\n",
    "            file_type=\"english\",\n",
    "            vqa_strategy_type=VQAStrategyType.RAG_Q,\n",
    "            prompt_type=RagQPromptType.V1,\n",
    "            relevant_docs_count=2,\n",
    "            doc_splitter_options=DocSplitterOptions(\n",
    "                doc_splitter_type=DocumentSplitterType.SPACY_SENTENCE_SPLITTER,\n",
    "                add_title=False,\n",
    "                token_count=4\n",
    "            )\n",
    "        )\n",
    "    ]\n",
    ")\n",
    "evaluation_results = evaluation_results.fillna(\"-\")\n",
    "evaluation_results"
   ]
  },
  {
   "cell_type": "code",
   "execution_count": 18,
   "metadata": {},
   "outputs": [
    {
     "data": {
      "application/vnd.plotly.v1+json": {
       "config": {
        "plotlyServerURL": "https://plot.ly"
       },
       "data": [
        {
         "cliponaxis": false,
         "customdata": [
          [
           "rag_q",
           "rq_v1",
           "par_splitting",
           false,
           1,
           "-",
           "-"
          ],
          [
           "rag_q",
           "rq_v1",
           "par_splitting",
           false,
           2,
           "-",
           "-"
          ],
          [
           "rag_q",
           "rq_v1",
           "par_splitting",
           false,
           3,
           "-",
           "-"
          ],
          [
           "rag_q",
           "rq_v1",
           "par_splitting",
           false,
           4,
           "-",
           "-"
          ],
          [
           "rag_q",
           "rq_v1",
           "rec_char_splitting",
           false,
           1,
           300,
           0
          ],
          [
           "rag_q",
           "rq_v1",
           "rec_char_splitting",
           false,
           1,
           600,
           0
          ],
          [
           "rag_q",
           "rq_v1",
           "rec_char_splitting",
           false,
           1,
           900,
           0
          ],
          [
           "rag_q",
           "rq_v1",
           "rec_char_splitting",
           false,
           2,
           300,
           0
          ],
          [
           "rag_q",
           "rq_v1",
           "rec_char_splitting",
           false,
           2,
           600,
           0
          ],
          [
           "rag_q",
           "rq_v1",
           "rec_char_splitting",
           false,
           2,
           900,
           0
          ],
          [
           "rag_q",
           "rq_v1",
           "spacy_sent_splitting",
           false,
           1,
           "-",
           "-"
          ],
          [
           "rag_q",
           "rq_v1",
           "spacy_sent_splitting",
           false,
           2,
           "-",
           "-"
          ],
          [
           "rag_q",
           "rq_v1",
           "spacy_sent_splitting",
           false,
           3,
           "-",
           "-"
          ],
          [
           "rag_q",
           "rq_v1",
           "spacy_sent_splitting",
           false,
           4,
           "-",
           "-"
          ]
         ],
         "hovertemplate": "VQA Strategy Type: %{customdata[0]}<br>Prompt Type: %{customdata[1]}<br>Document Splitter: %{customdata[2]}<br>Add Title: %{customdata[3]}<br>Token Count: %{customdata[4]}<br>Chunk Size: %{customdata[5]}<br>Chunk Overlap: %{customdata[6]}<br>",
         "marker": {
          "color": "royalblue",
          "opacity": 0.8
         },
         "name": "Accuracy",
         "text": [
          0.24,
          0.184,
          0.176,
          0.152,
          0.272,
          0.288,
          0.248,
          0.288,
          0.272,
          0.248,
          0.264,
          0.272,
          0.272,
          0.264
         ],
         "textposition": "outside",
         "texttemplate": "%{y:.1%}",
         "type": "bar",
         "width": 0.4,
         "x": [
          0,
          1,
          2,
          3,
          4,
          5,
          6,
          7,
          8,
          9,
          10,
          11,
          12,
          13
         ],
         "y": [
          0.24,
          0.184,
          0.176,
          0.152,
          0.272,
          0.288,
          0.248,
          0.288,
          0.272,
          0.248,
          0.264,
          0.272,
          0.272,
          0.264
         ]
        },
        {
         "cliponaxis": false,
         "customdata": [
          [
           "rag_q",
           "rq_v1",
           "par_splitting",
           false,
           1,
           "-",
           "-"
          ],
          [
           "rag_q",
           "rq_v1",
           "par_splitting",
           false,
           2,
           "-",
           "-"
          ],
          [
           "rag_q",
           "rq_v1",
           "par_splitting",
           false,
           3,
           "-",
           "-"
          ],
          [
           "rag_q",
           "rq_v1",
           "par_splitting",
           false,
           4,
           "-",
           "-"
          ],
          [
           "rag_q",
           "rq_v1",
           "rec_char_splitting",
           false,
           1,
           300,
           0
          ],
          [
           "rag_q",
           "rq_v1",
           "rec_char_splitting",
           false,
           1,
           600,
           0
          ],
          [
           "rag_q",
           "rq_v1",
           "rec_char_splitting",
           false,
           1,
           900,
           0
          ],
          [
           "rag_q",
           "rq_v1",
           "rec_char_splitting",
           false,
           2,
           300,
           0
          ],
          [
           "rag_q",
           "rq_v1",
           "rec_char_splitting",
           false,
           2,
           600,
           0
          ],
          [
           "rag_q",
           "rq_v1",
           "rec_char_splitting",
           false,
           2,
           900,
           0
          ],
          [
           "rag_q",
           "rq_v1",
           "spacy_sent_splitting",
           false,
           1,
           "-",
           "-"
          ],
          [
           "rag_q",
           "rq_v1",
           "spacy_sent_splitting",
           false,
           2,
           "-",
           "-"
          ],
          [
           "rag_q",
           "rq_v1",
           "spacy_sent_splitting",
           false,
           3,
           "-",
           "-"
          ],
          [
           "rag_q",
           "rq_v1",
           "spacy_sent_splitting",
           false,
           4,
           "-",
           "-"
          ]
         ],
         "hovertemplate": "VQA Strategy Type: %{customdata[0]}<br>Prompt Type: %{customdata[1]}<br>Document Splitter: %{customdata[2]}<br>Add Title: %{customdata[3]}<br>Token Count: %{customdata[4]}<br>Chunk Size: %{customdata[5]}<br>Chunk Overlap: %{customdata[6]}<br>",
         "marker": {
          "color": "darkorange",
          "opacity": 0.8
         },
         "name": "Well-Formatted Answers",
         "text": [
          0.92,
          0.8,
          0.68,
          0.456,
          1,
          1,
          1,
          1,
          1,
          1,
          1,
          1,
          1,
          1
         ],
         "textposition": "outside",
         "texttemplate": "%{y:.1%}",
         "type": "bar",
         "width": 0.4,
         "x": [
          0,
          1,
          2,
          3,
          4,
          5,
          6,
          7,
          8,
          9,
          10,
          11,
          12,
          13
         ],
         "y": [
          0.92,
          0.8,
          0.68,
          0.456,
          1,
          1,
          1,
          1,
          1,
          1,
          1,
          1,
          1,
          1
         ]
        }
       ],
       "layout": {
        "barcornerradius": 15,
        "barmode": "group",
        "font": {
         "color": "black",
         "family": "Arial, sans-serif",
         "size": 14
        },
        "height": 500,
        "template": {
         "data": {
          "bar": [
           {
            "error_x": {
             "color": "#2a3f5f"
            },
            "error_y": {
             "color": "#2a3f5f"
            },
            "marker": {
             "line": {
              "color": "#E5ECF6",
              "width": 0.5
             },
             "pattern": {
              "fillmode": "overlay",
              "size": 10,
              "solidity": 0.2
             }
            },
            "type": "bar"
           }
          ],
          "barpolar": [
           {
            "marker": {
             "line": {
              "color": "#E5ECF6",
              "width": 0.5
             },
             "pattern": {
              "fillmode": "overlay",
              "size": 10,
              "solidity": 0.2
             }
            },
            "type": "barpolar"
           }
          ],
          "carpet": [
           {
            "aaxis": {
             "endlinecolor": "#2a3f5f",
             "gridcolor": "white",
             "linecolor": "white",
             "minorgridcolor": "white",
             "startlinecolor": "#2a3f5f"
            },
            "baxis": {
             "endlinecolor": "#2a3f5f",
             "gridcolor": "white",
             "linecolor": "white",
             "minorgridcolor": "white",
             "startlinecolor": "#2a3f5f"
            },
            "type": "carpet"
           }
          ],
          "choropleth": [
           {
            "colorbar": {
             "outlinewidth": 0,
             "ticks": ""
            },
            "type": "choropleth"
           }
          ],
          "contour": [
           {
            "colorbar": {
             "outlinewidth": 0,
             "ticks": ""
            },
            "colorscale": [
             [
              0,
              "#0d0887"
             ],
             [
              0.1111111111111111,
              "#46039f"
             ],
             [
              0.2222222222222222,
              "#7201a8"
             ],
             [
              0.3333333333333333,
              "#9c179e"
             ],
             [
              0.4444444444444444,
              "#bd3786"
             ],
             [
              0.5555555555555556,
              "#d8576b"
             ],
             [
              0.6666666666666666,
              "#ed7953"
             ],
             [
              0.7777777777777778,
              "#fb9f3a"
             ],
             [
              0.8888888888888888,
              "#fdca26"
             ],
             [
              1,
              "#f0f921"
             ]
            ],
            "type": "contour"
           }
          ],
          "contourcarpet": [
           {
            "colorbar": {
             "outlinewidth": 0,
             "ticks": ""
            },
            "type": "contourcarpet"
           }
          ],
          "heatmap": [
           {
            "colorbar": {
             "outlinewidth": 0,
             "ticks": ""
            },
            "colorscale": [
             [
              0,
              "#0d0887"
             ],
             [
              0.1111111111111111,
              "#46039f"
             ],
             [
              0.2222222222222222,
              "#7201a8"
             ],
             [
              0.3333333333333333,
              "#9c179e"
             ],
             [
              0.4444444444444444,
              "#bd3786"
             ],
             [
              0.5555555555555556,
              "#d8576b"
             ],
             [
              0.6666666666666666,
              "#ed7953"
             ],
             [
              0.7777777777777778,
              "#fb9f3a"
             ],
             [
              0.8888888888888888,
              "#fdca26"
             ],
             [
              1,
              "#f0f921"
             ]
            ],
            "type": "heatmap"
           }
          ],
          "heatmapgl": [
           {
            "colorbar": {
             "outlinewidth": 0,
             "ticks": ""
            },
            "colorscale": [
             [
              0,
              "#0d0887"
             ],
             [
              0.1111111111111111,
              "#46039f"
             ],
             [
              0.2222222222222222,
              "#7201a8"
             ],
             [
              0.3333333333333333,
              "#9c179e"
             ],
             [
              0.4444444444444444,
              "#bd3786"
             ],
             [
              0.5555555555555556,
              "#d8576b"
             ],
             [
              0.6666666666666666,
              "#ed7953"
             ],
             [
              0.7777777777777778,
              "#fb9f3a"
             ],
             [
              0.8888888888888888,
              "#fdca26"
             ],
             [
              1,
              "#f0f921"
             ]
            ],
            "type": "heatmapgl"
           }
          ],
          "histogram": [
           {
            "marker": {
             "pattern": {
              "fillmode": "overlay",
              "size": 10,
              "solidity": 0.2
             }
            },
            "type": "histogram"
           }
          ],
          "histogram2d": [
           {
            "colorbar": {
             "outlinewidth": 0,
             "ticks": ""
            },
            "colorscale": [
             [
              0,
              "#0d0887"
             ],
             [
              0.1111111111111111,
              "#46039f"
             ],
             [
              0.2222222222222222,
              "#7201a8"
             ],
             [
              0.3333333333333333,
              "#9c179e"
             ],
             [
              0.4444444444444444,
              "#bd3786"
             ],
             [
              0.5555555555555556,
              "#d8576b"
             ],
             [
              0.6666666666666666,
              "#ed7953"
             ],
             [
              0.7777777777777778,
              "#fb9f3a"
             ],
             [
              0.8888888888888888,
              "#fdca26"
             ],
             [
              1,
              "#f0f921"
             ]
            ],
            "type": "histogram2d"
           }
          ],
          "histogram2dcontour": [
           {
            "colorbar": {
             "outlinewidth": 0,
             "ticks": ""
            },
            "colorscale": [
             [
              0,
              "#0d0887"
             ],
             [
              0.1111111111111111,
              "#46039f"
             ],
             [
              0.2222222222222222,
              "#7201a8"
             ],
             [
              0.3333333333333333,
              "#9c179e"
             ],
             [
              0.4444444444444444,
              "#bd3786"
             ],
             [
              0.5555555555555556,
              "#d8576b"
             ],
             [
              0.6666666666666666,
              "#ed7953"
             ],
             [
              0.7777777777777778,
              "#fb9f3a"
             ],
             [
              0.8888888888888888,
              "#fdca26"
             ],
             [
              1,
              "#f0f921"
             ]
            ],
            "type": "histogram2dcontour"
           }
          ],
          "mesh3d": [
           {
            "colorbar": {
             "outlinewidth": 0,
             "ticks": ""
            },
            "type": "mesh3d"
           }
          ],
          "parcoords": [
           {
            "line": {
             "colorbar": {
              "outlinewidth": 0,
              "ticks": ""
             }
            },
            "type": "parcoords"
           }
          ],
          "pie": [
           {
            "automargin": true,
            "type": "pie"
           }
          ],
          "scatter": [
           {
            "fillpattern": {
             "fillmode": "overlay",
             "size": 10,
             "solidity": 0.2
            },
            "type": "scatter"
           }
          ],
          "scatter3d": [
           {
            "line": {
             "colorbar": {
              "outlinewidth": 0,
              "ticks": ""
             }
            },
            "marker": {
             "colorbar": {
              "outlinewidth": 0,
              "ticks": ""
             }
            },
            "type": "scatter3d"
           }
          ],
          "scattercarpet": [
           {
            "marker": {
             "colorbar": {
              "outlinewidth": 0,
              "ticks": ""
             }
            },
            "type": "scattercarpet"
           }
          ],
          "scattergeo": [
           {
            "marker": {
             "colorbar": {
              "outlinewidth": 0,
              "ticks": ""
             }
            },
            "type": "scattergeo"
           }
          ],
          "scattergl": [
           {
            "marker": {
             "colorbar": {
              "outlinewidth": 0,
              "ticks": ""
             }
            },
            "type": "scattergl"
           }
          ],
          "scattermapbox": [
           {
            "marker": {
             "colorbar": {
              "outlinewidth": 0,
              "ticks": ""
             }
            },
            "type": "scattermapbox"
           }
          ],
          "scatterpolar": [
           {
            "marker": {
             "colorbar": {
              "outlinewidth": 0,
              "ticks": ""
             }
            },
            "type": "scatterpolar"
           }
          ],
          "scatterpolargl": [
           {
            "marker": {
             "colorbar": {
              "outlinewidth": 0,
              "ticks": ""
             }
            },
            "type": "scatterpolargl"
           }
          ],
          "scatterternary": [
           {
            "marker": {
             "colorbar": {
              "outlinewidth": 0,
              "ticks": ""
             }
            },
            "type": "scatterternary"
           }
          ],
          "surface": [
           {
            "colorbar": {
             "outlinewidth": 0,
             "ticks": ""
            },
            "colorscale": [
             [
              0,
              "#0d0887"
             ],
             [
              0.1111111111111111,
              "#46039f"
             ],
             [
              0.2222222222222222,
              "#7201a8"
             ],
             [
              0.3333333333333333,
              "#9c179e"
             ],
             [
              0.4444444444444444,
              "#bd3786"
             ],
             [
              0.5555555555555556,
              "#d8576b"
             ],
             [
              0.6666666666666666,
              "#ed7953"
             ],
             [
              0.7777777777777778,
              "#fb9f3a"
             ],
             [
              0.8888888888888888,
              "#fdca26"
             ],
             [
              1,
              "#f0f921"
             ]
            ],
            "type": "surface"
           }
          ],
          "table": [
           {
            "cells": {
             "fill": {
              "color": "#EBF0F8"
             },
             "line": {
              "color": "white"
             }
            },
            "header": {
             "fill": {
              "color": "#C8D4E3"
             },
             "line": {
              "color": "white"
             }
            },
            "type": "table"
           }
          ]
         },
         "layout": {
          "annotationdefaults": {
           "arrowcolor": "#2a3f5f",
           "arrowhead": 0,
           "arrowwidth": 1
          },
          "autotypenumbers": "strict",
          "coloraxis": {
           "colorbar": {
            "outlinewidth": 0,
            "ticks": ""
           }
          },
          "colorscale": {
           "diverging": [
            [
             0,
             "#8e0152"
            ],
            [
             0.1,
             "#c51b7d"
            ],
            [
             0.2,
             "#de77ae"
            ],
            [
             0.3,
             "#f1b6da"
            ],
            [
             0.4,
             "#fde0ef"
            ],
            [
             0.5,
             "#f7f7f7"
            ],
            [
             0.6,
             "#e6f5d0"
            ],
            [
             0.7,
             "#b8e186"
            ],
            [
             0.8,
             "#7fbc41"
            ],
            [
             0.9,
             "#4d9221"
            ],
            [
             1,
             "#276419"
            ]
           ],
           "sequential": [
            [
             0,
             "#0d0887"
            ],
            [
             0.1111111111111111,
             "#46039f"
            ],
            [
             0.2222222222222222,
             "#7201a8"
            ],
            [
             0.3333333333333333,
             "#9c179e"
            ],
            [
             0.4444444444444444,
             "#bd3786"
            ],
            [
             0.5555555555555556,
             "#d8576b"
            ],
            [
             0.6666666666666666,
             "#ed7953"
            ],
            [
             0.7777777777777778,
             "#fb9f3a"
            ],
            [
             0.8888888888888888,
             "#fdca26"
            ],
            [
             1,
             "#f0f921"
            ]
           ],
           "sequentialminus": [
            [
             0,
             "#0d0887"
            ],
            [
             0.1111111111111111,
             "#46039f"
            ],
            [
             0.2222222222222222,
             "#7201a8"
            ],
            [
             0.3333333333333333,
             "#9c179e"
            ],
            [
             0.4444444444444444,
             "#bd3786"
            ],
            [
             0.5555555555555556,
             "#d8576b"
            ],
            [
             0.6666666666666666,
             "#ed7953"
            ],
            [
             0.7777777777777778,
             "#fb9f3a"
            ],
            [
             0.8888888888888888,
             "#fdca26"
            ],
            [
             1,
             "#f0f921"
            ]
           ]
          },
          "colorway": [
           "#636efa",
           "#EF553B",
           "#00cc96",
           "#ab63fa",
           "#FFA15A",
           "#19d3f3",
           "#FF6692",
           "#B6E880",
           "#FF97FF",
           "#FECB52"
          ],
          "font": {
           "color": "#2a3f5f"
          },
          "geo": {
           "bgcolor": "white",
           "lakecolor": "white",
           "landcolor": "#E5ECF6",
           "showlakes": true,
           "showland": true,
           "subunitcolor": "white"
          },
          "hoverlabel": {
           "align": "left"
          },
          "hovermode": "closest",
          "mapbox": {
           "style": "light"
          },
          "paper_bgcolor": "white",
          "plot_bgcolor": "#E5ECF6",
          "polar": {
           "angularaxis": {
            "gridcolor": "white",
            "linecolor": "white",
            "ticks": ""
           },
           "bgcolor": "#E5ECF6",
           "radialaxis": {
            "gridcolor": "white",
            "linecolor": "white",
            "ticks": ""
           }
          },
          "scene": {
           "xaxis": {
            "backgroundcolor": "#E5ECF6",
            "gridcolor": "white",
            "gridwidth": 2,
            "linecolor": "white",
            "showbackground": true,
            "ticks": "",
            "zerolinecolor": "white"
           },
           "yaxis": {
            "backgroundcolor": "#E5ECF6",
            "gridcolor": "white",
            "gridwidth": 2,
            "linecolor": "white",
            "showbackground": true,
            "ticks": "",
            "zerolinecolor": "white"
           },
           "zaxis": {
            "backgroundcolor": "#E5ECF6",
            "gridcolor": "white",
            "gridwidth": 2,
            "linecolor": "white",
            "showbackground": true,
            "ticks": "",
            "zerolinecolor": "white"
           }
          },
          "shapedefaults": {
           "line": {
            "color": "#2a3f5f"
           }
          },
          "ternary": {
           "aaxis": {
            "gridcolor": "white",
            "linecolor": "white",
            "ticks": ""
           },
           "baxis": {
            "gridcolor": "white",
            "linecolor": "white",
            "ticks": ""
           },
           "bgcolor": "#E5ECF6",
           "caxis": {
            "gridcolor": "white",
            "linecolor": "white",
            "ticks": ""
           }
          },
          "title": {
           "x": 0.05
          },
          "xaxis": {
           "automargin": true,
           "gridcolor": "white",
           "linecolor": "white",
           "ticks": "",
           "title": {
            "standoff": 15
           },
           "zerolinecolor": "white",
           "zerolinewidth": 2
          },
          "yaxis": {
           "automargin": true,
           "gridcolor": "white",
           "linecolor": "white",
           "ticks": "",
           "title": {
            "standoff": 15
           },
           "zerolinecolor": "white",
           "zerolinewidth": 2
          }
         }
        },
        "title": {
         "font": {
          "color": "black",
          "family": "Arial, sans-serif",
          "size": 22
         },
         "text": "Analysis of LLaVA Model Accuracy Across Different RAG Approaches and Parameter Settings (RDC: 2)",
         "x": 0.5,
         "xanchor": "center"
        },
        "xaxis": {
         "title": {
          "text": "Model Evaluations"
         }
        },
        "yaxis": {
         "range": [
          0,
          1.1
         ],
         "ticktext": [
          "0%",
          "10%",
          "20%",
          "30%",
          "40%",
          "50%",
          "60%",
          "70%",
          "80%",
          "90%",
          "100%"
         ],
         "tickvals": [
          0,
          0.1,
          0.2,
          0.3,
          0.4,
          0.5,
          0.6,
          0.7,
          0.8,
          0.9,
          1
         ],
         "title": {
          "text": "Accuracy"
         }
        }
       }
      }
     },
     "metadata": {},
     "output_type": "display_data"
    }
   ],
   "source": [
    "world_med_qa_v_plot_helpers.display_bar_chart_on_evaluation_results(\n",
    "    evaluation_results=evaluation_results,\n",
    "    title=\"Analysis of LLaVA Model Accuracy Across Different RAG Approaches and Parameter Settings (RDC: 2)\"\n",
    ")"
   ]
  },
  {
   "cell_type": "markdown",
   "metadata": {},
   "source": [
    "### 3.3. Rag Q (Relevant Documents Count: 3)"
   ]
  },
  {
   "cell_type": "code",
   "execution_count": 19,
   "metadata": {},
   "outputs": [
    {
     "data": {
      "text/html": [
       "<div>\n",
       "<style scoped>\n",
       "    .dataframe tbody tr th:only-of-type {\n",
       "        vertical-align: middle;\n",
       "    }\n",
       "\n",
       "    .dataframe tbody tr th {\n",
       "        vertical-align: top;\n",
       "    }\n",
       "\n",
       "    .dataframe thead th {\n",
       "        text-align: right;\n",
       "    }\n",
       "</style>\n",
       "<table border=\"1\" class=\"dataframe\">\n",
       "  <thead>\n",
       "    <tr style=\"text-align: right;\">\n",
       "      <th></th>\n",
       "      <th>country</th>\n",
       "      <th>file_type</th>\n",
       "      <th>vqa_strategy_type</th>\n",
       "      <th>prompt_type</th>\n",
       "      <th>doc_splitter</th>\n",
       "      <th>add_title</th>\n",
       "      <th>token_count</th>\n",
       "      <th>chunk_size</th>\n",
       "      <th>chunk_overlap</th>\n",
       "      <th>accuracy</th>\n",
       "      <th>well_formatted_answers</th>\n",
       "    </tr>\n",
       "  </thead>\n",
       "  <tbody>\n",
       "    <tr>\n",
       "      <th>0</th>\n",
       "      <td>spain</td>\n",
       "      <td>english</td>\n",
       "      <td>rag_q</td>\n",
       "      <td>rq_v1</td>\n",
       "      <td>par_splitting</td>\n",
       "      <td>False</td>\n",
       "      <td>1</td>\n",
       "      <td>-</td>\n",
       "      <td>-</td>\n",
       "      <td>0.200</td>\n",
       "      <td>0.800</td>\n",
       "    </tr>\n",
       "    <tr>\n",
       "      <th>1</th>\n",
       "      <td>spain</td>\n",
       "      <td>english</td>\n",
       "      <td>rag_q</td>\n",
       "      <td>rq_v1</td>\n",
       "      <td>par_splitting</td>\n",
       "      <td>False</td>\n",
       "      <td>2</td>\n",
       "      <td>-</td>\n",
       "      <td>-</td>\n",
       "      <td>0.152</td>\n",
       "      <td>0.584</td>\n",
       "    </tr>\n",
       "    <tr>\n",
       "      <th>2</th>\n",
       "      <td>spain</td>\n",
       "      <td>english</td>\n",
       "      <td>rag_q</td>\n",
       "      <td>rq_v1</td>\n",
       "      <td>par_splitting</td>\n",
       "      <td>False</td>\n",
       "      <td>3</td>\n",
       "      <td>-</td>\n",
       "      <td>-</td>\n",
       "      <td>0.104</td>\n",
       "      <td>0.280</td>\n",
       "    </tr>\n",
       "    <tr>\n",
       "      <th>3</th>\n",
       "      <td>spain</td>\n",
       "      <td>english</td>\n",
       "      <td>rag_q</td>\n",
       "      <td>rq_v1</td>\n",
       "      <td>par_splitting</td>\n",
       "      <td>False</td>\n",
       "      <td>4</td>\n",
       "      <td>-</td>\n",
       "      <td>-</td>\n",
       "      <td>0.072</td>\n",
       "      <td>0.136</td>\n",
       "    </tr>\n",
       "    <tr>\n",
       "      <th>4</th>\n",
       "      <td>spain</td>\n",
       "      <td>english</td>\n",
       "      <td>rag_q</td>\n",
       "      <td>rq_v1</td>\n",
       "      <td>rec_char_splitting</td>\n",
       "      <td>False</td>\n",
       "      <td>1</td>\n",
       "      <td>300.0</td>\n",
       "      <td>0.0</td>\n",
       "      <td>0.256</td>\n",
       "      <td>1.000</td>\n",
       "    </tr>\n",
       "    <tr>\n",
       "      <th>5</th>\n",
       "      <td>spain</td>\n",
       "      <td>english</td>\n",
       "      <td>rag_q</td>\n",
       "      <td>rq_v1</td>\n",
       "      <td>rec_char_splitting</td>\n",
       "      <td>False</td>\n",
       "      <td>1</td>\n",
       "      <td>600.0</td>\n",
       "      <td>0.0</td>\n",
       "      <td>0.272</td>\n",
       "      <td>1.000</td>\n",
       "    </tr>\n",
       "    <tr>\n",
       "      <th>6</th>\n",
       "      <td>spain</td>\n",
       "      <td>english</td>\n",
       "      <td>rag_q</td>\n",
       "      <td>rq_v1</td>\n",
       "      <td>rec_char_splitting</td>\n",
       "      <td>False</td>\n",
       "      <td>1</td>\n",
       "      <td>900.0</td>\n",
       "      <td>0.0</td>\n",
       "      <td>0.288</td>\n",
       "      <td>1.000</td>\n",
       "    </tr>\n",
       "    <tr>\n",
       "      <th>7</th>\n",
       "      <td>spain</td>\n",
       "      <td>english</td>\n",
       "      <td>rag_q</td>\n",
       "      <td>rq_v1</td>\n",
       "      <td>rec_char_splitting</td>\n",
       "      <td>False</td>\n",
       "      <td>2</td>\n",
       "      <td>300.0</td>\n",
       "      <td>0.0</td>\n",
       "      <td>0.272</td>\n",
       "      <td>1.000</td>\n",
       "    </tr>\n",
       "    <tr>\n",
       "      <th>8</th>\n",
       "      <td>spain</td>\n",
       "      <td>english</td>\n",
       "      <td>rag_q</td>\n",
       "      <td>rq_v1</td>\n",
       "      <td>rec_char_splitting</td>\n",
       "      <td>False</td>\n",
       "      <td>2</td>\n",
       "      <td>600.0</td>\n",
       "      <td>0.0</td>\n",
       "      <td>0.280</td>\n",
       "      <td>1.000</td>\n",
       "    </tr>\n",
       "    <tr>\n",
       "      <th>9</th>\n",
       "      <td>spain</td>\n",
       "      <td>english</td>\n",
       "      <td>rag_q</td>\n",
       "      <td>rq_v1</td>\n",
       "      <td>rec_char_splitting</td>\n",
       "      <td>False</td>\n",
       "      <td>2</td>\n",
       "      <td>900.0</td>\n",
       "      <td>0.0</td>\n",
       "      <td>0.152</td>\n",
       "      <td>0.640</td>\n",
       "    </tr>\n",
       "    <tr>\n",
       "      <th>10</th>\n",
       "      <td>spain</td>\n",
       "      <td>english</td>\n",
       "      <td>rag_q</td>\n",
       "      <td>rq_v1</td>\n",
       "      <td>spacy_sent_splitting</td>\n",
       "      <td>False</td>\n",
       "      <td>1</td>\n",
       "      <td>-</td>\n",
       "      <td>-</td>\n",
       "      <td>0.280</td>\n",
       "      <td>1.000</td>\n",
       "    </tr>\n",
       "    <tr>\n",
       "      <th>11</th>\n",
       "      <td>spain</td>\n",
       "      <td>english</td>\n",
       "      <td>rag_q</td>\n",
       "      <td>rq_v1</td>\n",
       "      <td>spacy_sent_splitting</td>\n",
       "      <td>False</td>\n",
       "      <td>2</td>\n",
       "      <td>-</td>\n",
       "      <td>-</td>\n",
       "      <td>0.264</td>\n",
       "      <td>1.000</td>\n",
       "    </tr>\n",
       "    <tr>\n",
       "      <th>12</th>\n",
       "      <td>spain</td>\n",
       "      <td>english</td>\n",
       "      <td>rag_q</td>\n",
       "      <td>rq_v1</td>\n",
       "      <td>spacy_sent_splitting</td>\n",
       "      <td>False</td>\n",
       "      <td>3</td>\n",
       "      <td>-</td>\n",
       "      <td>-</td>\n",
       "      <td>0.272</td>\n",
       "      <td>1.000</td>\n",
       "    </tr>\n",
       "    <tr>\n",
       "      <th>13</th>\n",
       "      <td>spain</td>\n",
       "      <td>english</td>\n",
       "      <td>rag_q</td>\n",
       "      <td>rq_v1</td>\n",
       "      <td>spacy_sent_splitting</td>\n",
       "      <td>False</td>\n",
       "      <td>4</td>\n",
       "      <td>-</td>\n",
       "      <td>-</td>\n",
       "      <td>0.288</td>\n",
       "      <td>1.000</td>\n",
       "    </tr>\n",
       "  </tbody>\n",
       "</table>\n",
       "</div>"
      ],
      "text/plain": [
       "   country file_type vqa_strategy_type prompt_type          doc_splitter  \\\n",
       "0    spain   english             rag_q       rq_v1         par_splitting   \n",
       "1    spain   english             rag_q       rq_v1         par_splitting   \n",
       "2    spain   english             rag_q       rq_v1         par_splitting   \n",
       "3    spain   english             rag_q       rq_v1         par_splitting   \n",
       "4    spain   english             rag_q       rq_v1    rec_char_splitting   \n",
       "5    spain   english             rag_q       rq_v1    rec_char_splitting   \n",
       "6    spain   english             rag_q       rq_v1    rec_char_splitting   \n",
       "7    spain   english             rag_q       rq_v1    rec_char_splitting   \n",
       "8    spain   english             rag_q       rq_v1    rec_char_splitting   \n",
       "9    spain   english             rag_q       rq_v1    rec_char_splitting   \n",
       "10   spain   english             rag_q       rq_v1  spacy_sent_splitting   \n",
       "11   spain   english             rag_q       rq_v1  spacy_sent_splitting   \n",
       "12   spain   english             rag_q       rq_v1  spacy_sent_splitting   \n",
       "13   spain   english             rag_q       rq_v1  spacy_sent_splitting   \n",
       "\n",
       "    add_title  token_count chunk_size chunk_overlap  accuracy  \\\n",
       "0       False            1          -             -     0.200   \n",
       "1       False            2          -             -     0.152   \n",
       "2       False            3          -             -     0.104   \n",
       "3       False            4          -             -     0.072   \n",
       "4       False            1      300.0           0.0     0.256   \n",
       "5       False            1      600.0           0.0     0.272   \n",
       "6       False            1      900.0           0.0     0.288   \n",
       "7       False            2      300.0           0.0     0.272   \n",
       "8       False            2      600.0           0.0     0.280   \n",
       "9       False            2      900.0           0.0     0.152   \n",
       "10      False            1          -             -     0.280   \n",
       "11      False            2          -             -     0.264   \n",
       "12      False            3          -             -     0.272   \n",
       "13      False            4          -             -     0.288   \n",
       "\n",
       "    well_formatted_answers  \n",
       "0                    0.800  \n",
       "1                    0.584  \n",
       "2                    0.280  \n",
       "3                    0.136  \n",
       "4                    1.000  \n",
       "5                    1.000  \n",
       "6                    1.000  \n",
       "7                    1.000  \n",
       "8                    1.000  \n",
       "9                    0.640  \n",
       "10                   1.000  \n",
       "11                   1.000  \n",
       "12                   1.000  \n",
       "13                   1.000  "
      ]
     },
     "execution_count": 19,
     "metadata": {},
     "output_type": "execute_result"
    }
   ],
   "source": [
    "evaluation_results = world_med_qa_v_dataset_management.load_evaluation_results(\n",
    "    evaluation_results_folder=RESULTS_DIR,\n",
    "    vqa_strategy_details=[\n",
    "        VQAStrategyDetail(\n",
    "            country=\"spain\",\n",
    "            file_type=\"english\",\n",
    "            vqa_strategy_type=VQAStrategyType.RAG_Q,\n",
    "            prompt_type=RagQPromptType.V1,\n",
    "            relevant_docs_count=3,\n",
    "            doc_splitter_options=DocSplitterOptions(\n",
    "                doc_splitter_type=DocumentSplitterType.PARAGRAPH_SPLITTER,\n",
    "                add_title=False,\n",
    "                token_count=1\n",
    "            )\n",
    "        ),\n",
    "        VQAStrategyDetail(\n",
    "            country=\"spain\",\n",
    "            file_type=\"english\",\n",
    "            vqa_strategy_type=VQAStrategyType.RAG_Q,\n",
    "            prompt_type=RagQPromptType.V1,\n",
    "            relevant_docs_count=3,\n",
    "            doc_splitter_options=DocSplitterOptions(\n",
    "                doc_splitter_type=DocumentSplitterType.PARAGRAPH_SPLITTER,\n",
    "                add_title=False,\n",
    "                token_count=2\n",
    "            )\n",
    "        ),\n",
    "        VQAStrategyDetail(\n",
    "            country=\"spain\",\n",
    "            file_type=\"english\",\n",
    "            vqa_strategy_type=VQAStrategyType.RAG_Q,\n",
    "            prompt_type=RagQPromptType.V1,\n",
    "            relevant_docs_count=3,\n",
    "            doc_splitter_options=DocSplitterOptions(\n",
    "                doc_splitter_type=DocumentSplitterType.PARAGRAPH_SPLITTER,\n",
    "                add_title=False,\n",
    "                token_count=3\n",
    "            )\n",
    "        ),\n",
    "        VQAStrategyDetail(\n",
    "            country=\"spain\",\n",
    "            file_type=\"english\",\n",
    "            vqa_strategy_type=VQAStrategyType.RAG_Q,\n",
    "            prompt_type=RagQPromptType.V1,\n",
    "            relevant_docs_count=3,\n",
    "            doc_splitter_options=DocSplitterOptions(\n",
    "                doc_splitter_type=DocumentSplitterType.PARAGRAPH_SPLITTER,\n",
    "                add_title=False,\n",
    "                token_count=4\n",
    "            )\n",
    "        ),\n",
    "        VQAStrategyDetail(\n",
    "            country=\"spain\",\n",
    "            file_type=\"english\",\n",
    "            vqa_strategy_type=VQAStrategyType.RAG_Q,\n",
    "            prompt_type=RagQPromptType.V1,\n",
    "            relevant_docs_count=3,\n",
    "            doc_splitter_options=DocSplitterOptions(\n",
    "                doc_splitter_type=DocumentSplitterType.RECURSIVE_CHARACTER_SPLITTER,\n",
    "                add_title=False,\n",
    "                token_count=1,\n",
    "                chunk_size=300,\n",
    "                chunk_overlap=0\n",
    "            )\n",
    "        ),\n",
    "        VQAStrategyDetail(\n",
    "            country=\"spain\",\n",
    "            file_type=\"english\",\n",
    "            vqa_strategy_type=VQAStrategyType.RAG_Q,\n",
    "            prompt_type=RagQPromptType.V1,\n",
    "            relevant_docs_count=3,\n",
    "            doc_splitter_options=DocSplitterOptions(\n",
    "                doc_splitter_type=DocumentSplitterType.RECURSIVE_CHARACTER_SPLITTER,\n",
    "                add_title=False,\n",
    "                token_count=1,\n",
    "                chunk_size=600,\n",
    "                chunk_overlap=0\n",
    "            )\n",
    "        ),\n",
    "        VQAStrategyDetail(\n",
    "            country=\"spain\",\n",
    "            file_type=\"english\",\n",
    "            vqa_strategy_type=VQAStrategyType.RAG_Q,\n",
    "            prompt_type=RagQPromptType.V1,\n",
    "            relevant_docs_count=3,\n",
    "            doc_splitter_options=DocSplitterOptions(\n",
    "                doc_splitter_type=DocumentSplitterType.RECURSIVE_CHARACTER_SPLITTER,\n",
    "                add_title=False,\n",
    "                token_count=1,\n",
    "                chunk_size=900,\n",
    "                chunk_overlap=0\n",
    "            )\n",
    "        ),\n",
    "        VQAStrategyDetail(\n",
    "            country=\"spain\",\n",
    "            file_type=\"english\",\n",
    "            vqa_strategy_type=VQAStrategyType.RAG_Q,\n",
    "            prompt_type=RagQPromptType.V1,\n",
    "            relevant_docs_count=3,\n",
    "            doc_splitter_options=DocSplitterOptions(\n",
    "                doc_splitter_type=DocumentSplitterType.RECURSIVE_CHARACTER_SPLITTER,\n",
    "                add_title=False,\n",
    "                token_count=2,\n",
    "                chunk_size=300,\n",
    "                chunk_overlap=0\n",
    "            )\n",
    "        ),\n",
    "        VQAStrategyDetail(\n",
    "            country=\"spain\",\n",
    "            file_type=\"english\",\n",
    "            vqa_strategy_type=VQAStrategyType.RAG_Q,\n",
    "            prompt_type=RagQPromptType.V1,\n",
    "            relevant_docs_count=3,\n",
    "            doc_splitter_options=DocSplitterOptions(\n",
    "                doc_splitter_type=DocumentSplitterType.RECURSIVE_CHARACTER_SPLITTER,\n",
    "                add_title=False,\n",
    "                token_count=2,\n",
    "                chunk_size=600,\n",
    "                chunk_overlap=0\n",
    "            )\n",
    "        ),\n",
    "        VQAStrategyDetail(\n",
    "            country=\"spain\",\n",
    "            file_type=\"english\",\n",
    "            vqa_strategy_type=VQAStrategyType.RAG_Q,\n",
    "            prompt_type=RagQPromptType.V1,\n",
    "            relevant_docs_count=3,\n",
    "            doc_splitter_options=DocSplitterOptions(\n",
    "                doc_splitter_type=DocumentSplitterType.RECURSIVE_CHARACTER_SPLITTER,\n",
    "                add_title=False,\n",
    "                token_count=2,\n",
    "                chunk_size=900,\n",
    "                chunk_overlap=0\n",
    "            )\n",
    "        ),\n",
    "        VQAStrategyDetail(\n",
    "            country=\"spain\",\n",
    "            file_type=\"english\",\n",
    "            vqa_strategy_type=VQAStrategyType.RAG_Q,\n",
    "            prompt_type=RagQPromptType.V1,\n",
    "            relevant_docs_count=3,\n",
    "            doc_splitter_options=DocSplitterOptions(\n",
    "                doc_splitter_type=DocumentSplitterType.SPACY_SENTENCE_SPLITTER,\n",
    "                add_title=False,\n",
    "                token_count=1\n",
    "            )\n",
    "        ),\n",
    "        VQAStrategyDetail(\n",
    "            country=\"spain\",\n",
    "            file_type=\"english\",\n",
    "            vqa_strategy_type=VQAStrategyType.RAG_Q,\n",
    "            prompt_type=RagQPromptType.V1,\n",
    "            relevant_docs_count=3,\n",
    "            doc_splitter_options=DocSplitterOptions(\n",
    "                doc_splitter_type=DocumentSplitterType.SPACY_SENTENCE_SPLITTER,\n",
    "                add_title=False,\n",
    "                token_count=2\n",
    "            )\n",
    "        ),\n",
    "        VQAStrategyDetail(\n",
    "            country=\"spain\",\n",
    "            file_type=\"english\",\n",
    "            vqa_strategy_type=VQAStrategyType.RAG_Q,\n",
    "            prompt_type=RagQPromptType.V1,\n",
    "            relevant_docs_count=3,\n",
    "            doc_splitter_options=DocSplitterOptions(\n",
    "                doc_splitter_type=DocumentSplitterType.SPACY_SENTENCE_SPLITTER,\n",
    "                add_title=False,\n",
    "                token_count=3\n",
    "            )\n",
    "        ),\n",
    "        VQAStrategyDetail(\n",
    "            country=\"spain\",\n",
    "            file_type=\"english\",\n",
    "            vqa_strategy_type=VQAStrategyType.RAG_Q,\n",
    "            prompt_type=RagQPromptType.V1,\n",
    "            relevant_docs_count=3,\n",
    "            doc_splitter_options=DocSplitterOptions(\n",
    "                doc_splitter_type=DocumentSplitterType.SPACY_SENTENCE_SPLITTER,\n",
    "                add_title=False,\n",
    "                token_count=4\n",
    "            )\n",
    "        )\n",
    "    ]\n",
    ")\n",
    "evaluation_results = evaluation_results.fillna(\"-\")\n",
    "evaluation_results"
   ]
  },
  {
   "cell_type": "code",
   "execution_count": 20,
   "metadata": {},
   "outputs": [
    {
     "data": {
      "application/vnd.plotly.v1+json": {
       "config": {
        "plotlyServerURL": "https://plot.ly"
       },
       "data": [
        {
         "cliponaxis": false,
         "customdata": [
          [
           "rag_q",
           "rq_v1",
           "par_splitting",
           false,
           1,
           "-",
           "-"
          ],
          [
           "rag_q",
           "rq_v1",
           "par_splitting",
           false,
           2,
           "-",
           "-"
          ],
          [
           "rag_q",
           "rq_v1",
           "par_splitting",
           false,
           3,
           "-",
           "-"
          ],
          [
           "rag_q",
           "rq_v1",
           "par_splitting",
           false,
           4,
           "-",
           "-"
          ],
          [
           "rag_q",
           "rq_v1",
           "rec_char_splitting",
           false,
           1,
           300,
           0
          ],
          [
           "rag_q",
           "rq_v1",
           "rec_char_splitting",
           false,
           1,
           600,
           0
          ],
          [
           "rag_q",
           "rq_v1",
           "rec_char_splitting",
           false,
           1,
           900,
           0
          ],
          [
           "rag_q",
           "rq_v1",
           "rec_char_splitting",
           false,
           2,
           300,
           0
          ],
          [
           "rag_q",
           "rq_v1",
           "rec_char_splitting",
           false,
           2,
           600,
           0
          ],
          [
           "rag_q",
           "rq_v1",
           "rec_char_splitting",
           false,
           2,
           900,
           0
          ],
          [
           "rag_q",
           "rq_v1",
           "spacy_sent_splitting",
           false,
           1,
           "-",
           "-"
          ],
          [
           "rag_q",
           "rq_v1",
           "spacy_sent_splitting",
           false,
           2,
           "-",
           "-"
          ],
          [
           "rag_q",
           "rq_v1",
           "spacy_sent_splitting",
           false,
           3,
           "-",
           "-"
          ],
          [
           "rag_q",
           "rq_v1",
           "spacy_sent_splitting",
           false,
           4,
           "-",
           "-"
          ]
         ],
         "hovertemplate": "VQA Strategy Type: %{customdata[0]}<br>Prompt Type: %{customdata[1]}<br>Document Splitter: %{customdata[2]}<br>Add Title: %{customdata[3]}<br>Token Count: %{customdata[4]}<br>Chunk Size: %{customdata[5]}<br>Chunk Overlap: %{customdata[6]}<br>",
         "marker": {
          "color": "royalblue",
          "opacity": 0.8
         },
         "name": "Accuracy",
         "text": [
          0.2,
          0.152,
          0.104,
          0.072,
          0.256,
          0.272,
          0.288,
          0.272,
          0.28,
          0.152,
          0.28,
          0.264,
          0.272,
          0.288
         ],
         "textposition": "outside",
         "texttemplate": "%{y:.1%}",
         "type": "bar",
         "width": 0.4,
         "x": [
          0,
          1,
          2,
          3,
          4,
          5,
          6,
          7,
          8,
          9,
          10,
          11,
          12,
          13
         ],
         "y": [
          0.2,
          0.152,
          0.104,
          0.072,
          0.256,
          0.272,
          0.288,
          0.272,
          0.28,
          0.152,
          0.28,
          0.264,
          0.272,
          0.288
         ]
        },
        {
         "cliponaxis": false,
         "customdata": [
          [
           "rag_q",
           "rq_v1",
           "par_splitting",
           false,
           1,
           "-",
           "-"
          ],
          [
           "rag_q",
           "rq_v1",
           "par_splitting",
           false,
           2,
           "-",
           "-"
          ],
          [
           "rag_q",
           "rq_v1",
           "par_splitting",
           false,
           3,
           "-",
           "-"
          ],
          [
           "rag_q",
           "rq_v1",
           "par_splitting",
           false,
           4,
           "-",
           "-"
          ],
          [
           "rag_q",
           "rq_v1",
           "rec_char_splitting",
           false,
           1,
           300,
           0
          ],
          [
           "rag_q",
           "rq_v1",
           "rec_char_splitting",
           false,
           1,
           600,
           0
          ],
          [
           "rag_q",
           "rq_v1",
           "rec_char_splitting",
           false,
           1,
           900,
           0
          ],
          [
           "rag_q",
           "rq_v1",
           "rec_char_splitting",
           false,
           2,
           300,
           0
          ],
          [
           "rag_q",
           "rq_v1",
           "rec_char_splitting",
           false,
           2,
           600,
           0
          ],
          [
           "rag_q",
           "rq_v1",
           "rec_char_splitting",
           false,
           2,
           900,
           0
          ],
          [
           "rag_q",
           "rq_v1",
           "spacy_sent_splitting",
           false,
           1,
           "-",
           "-"
          ],
          [
           "rag_q",
           "rq_v1",
           "spacy_sent_splitting",
           false,
           2,
           "-",
           "-"
          ],
          [
           "rag_q",
           "rq_v1",
           "spacy_sent_splitting",
           false,
           3,
           "-",
           "-"
          ],
          [
           "rag_q",
           "rq_v1",
           "spacy_sent_splitting",
           false,
           4,
           "-",
           "-"
          ]
         ],
         "hovertemplate": "VQA Strategy Type: %{customdata[0]}<br>Prompt Type: %{customdata[1]}<br>Document Splitter: %{customdata[2]}<br>Add Title: %{customdata[3]}<br>Token Count: %{customdata[4]}<br>Chunk Size: %{customdata[5]}<br>Chunk Overlap: %{customdata[6]}<br>",
         "marker": {
          "color": "darkorange",
          "opacity": 0.8
         },
         "name": "Well-Formatted Answers",
         "text": [
          0.8,
          0.584,
          0.28,
          0.136,
          1,
          1,
          1,
          1,
          1,
          0.64,
          1,
          1,
          1,
          1
         ],
         "textposition": "outside",
         "texttemplate": "%{y:.1%}",
         "type": "bar",
         "width": 0.4,
         "x": [
          0,
          1,
          2,
          3,
          4,
          5,
          6,
          7,
          8,
          9,
          10,
          11,
          12,
          13
         ],
         "y": [
          0.8,
          0.584,
          0.28,
          0.136,
          1,
          1,
          1,
          1,
          1,
          0.64,
          1,
          1,
          1,
          1
         ]
        }
       ],
       "layout": {
        "barcornerradius": 15,
        "barmode": "group",
        "font": {
         "color": "black",
         "family": "Arial, sans-serif",
         "size": 14
        },
        "height": 500,
        "template": {
         "data": {
          "bar": [
           {
            "error_x": {
             "color": "#2a3f5f"
            },
            "error_y": {
             "color": "#2a3f5f"
            },
            "marker": {
             "line": {
              "color": "#E5ECF6",
              "width": 0.5
             },
             "pattern": {
              "fillmode": "overlay",
              "size": 10,
              "solidity": 0.2
             }
            },
            "type": "bar"
           }
          ],
          "barpolar": [
           {
            "marker": {
             "line": {
              "color": "#E5ECF6",
              "width": 0.5
             },
             "pattern": {
              "fillmode": "overlay",
              "size": 10,
              "solidity": 0.2
             }
            },
            "type": "barpolar"
           }
          ],
          "carpet": [
           {
            "aaxis": {
             "endlinecolor": "#2a3f5f",
             "gridcolor": "white",
             "linecolor": "white",
             "minorgridcolor": "white",
             "startlinecolor": "#2a3f5f"
            },
            "baxis": {
             "endlinecolor": "#2a3f5f",
             "gridcolor": "white",
             "linecolor": "white",
             "minorgridcolor": "white",
             "startlinecolor": "#2a3f5f"
            },
            "type": "carpet"
           }
          ],
          "choropleth": [
           {
            "colorbar": {
             "outlinewidth": 0,
             "ticks": ""
            },
            "type": "choropleth"
           }
          ],
          "contour": [
           {
            "colorbar": {
             "outlinewidth": 0,
             "ticks": ""
            },
            "colorscale": [
             [
              0,
              "#0d0887"
             ],
             [
              0.1111111111111111,
              "#46039f"
             ],
             [
              0.2222222222222222,
              "#7201a8"
             ],
             [
              0.3333333333333333,
              "#9c179e"
             ],
             [
              0.4444444444444444,
              "#bd3786"
             ],
             [
              0.5555555555555556,
              "#d8576b"
             ],
             [
              0.6666666666666666,
              "#ed7953"
             ],
             [
              0.7777777777777778,
              "#fb9f3a"
             ],
             [
              0.8888888888888888,
              "#fdca26"
             ],
             [
              1,
              "#f0f921"
             ]
            ],
            "type": "contour"
           }
          ],
          "contourcarpet": [
           {
            "colorbar": {
             "outlinewidth": 0,
             "ticks": ""
            },
            "type": "contourcarpet"
           }
          ],
          "heatmap": [
           {
            "colorbar": {
             "outlinewidth": 0,
             "ticks": ""
            },
            "colorscale": [
             [
              0,
              "#0d0887"
             ],
             [
              0.1111111111111111,
              "#46039f"
             ],
             [
              0.2222222222222222,
              "#7201a8"
             ],
             [
              0.3333333333333333,
              "#9c179e"
             ],
             [
              0.4444444444444444,
              "#bd3786"
             ],
             [
              0.5555555555555556,
              "#d8576b"
             ],
             [
              0.6666666666666666,
              "#ed7953"
             ],
             [
              0.7777777777777778,
              "#fb9f3a"
             ],
             [
              0.8888888888888888,
              "#fdca26"
             ],
             [
              1,
              "#f0f921"
             ]
            ],
            "type": "heatmap"
           }
          ],
          "heatmapgl": [
           {
            "colorbar": {
             "outlinewidth": 0,
             "ticks": ""
            },
            "colorscale": [
             [
              0,
              "#0d0887"
             ],
             [
              0.1111111111111111,
              "#46039f"
             ],
             [
              0.2222222222222222,
              "#7201a8"
             ],
             [
              0.3333333333333333,
              "#9c179e"
             ],
             [
              0.4444444444444444,
              "#bd3786"
             ],
             [
              0.5555555555555556,
              "#d8576b"
             ],
             [
              0.6666666666666666,
              "#ed7953"
             ],
             [
              0.7777777777777778,
              "#fb9f3a"
             ],
             [
              0.8888888888888888,
              "#fdca26"
             ],
             [
              1,
              "#f0f921"
             ]
            ],
            "type": "heatmapgl"
           }
          ],
          "histogram": [
           {
            "marker": {
             "pattern": {
              "fillmode": "overlay",
              "size": 10,
              "solidity": 0.2
             }
            },
            "type": "histogram"
           }
          ],
          "histogram2d": [
           {
            "colorbar": {
             "outlinewidth": 0,
             "ticks": ""
            },
            "colorscale": [
             [
              0,
              "#0d0887"
             ],
             [
              0.1111111111111111,
              "#46039f"
             ],
             [
              0.2222222222222222,
              "#7201a8"
             ],
             [
              0.3333333333333333,
              "#9c179e"
             ],
             [
              0.4444444444444444,
              "#bd3786"
             ],
             [
              0.5555555555555556,
              "#d8576b"
             ],
             [
              0.6666666666666666,
              "#ed7953"
             ],
             [
              0.7777777777777778,
              "#fb9f3a"
             ],
             [
              0.8888888888888888,
              "#fdca26"
             ],
             [
              1,
              "#f0f921"
             ]
            ],
            "type": "histogram2d"
           }
          ],
          "histogram2dcontour": [
           {
            "colorbar": {
             "outlinewidth": 0,
             "ticks": ""
            },
            "colorscale": [
             [
              0,
              "#0d0887"
             ],
             [
              0.1111111111111111,
              "#46039f"
             ],
             [
              0.2222222222222222,
              "#7201a8"
             ],
             [
              0.3333333333333333,
              "#9c179e"
             ],
             [
              0.4444444444444444,
              "#bd3786"
             ],
             [
              0.5555555555555556,
              "#d8576b"
             ],
             [
              0.6666666666666666,
              "#ed7953"
             ],
             [
              0.7777777777777778,
              "#fb9f3a"
             ],
             [
              0.8888888888888888,
              "#fdca26"
             ],
             [
              1,
              "#f0f921"
             ]
            ],
            "type": "histogram2dcontour"
           }
          ],
          "mesh3d": [
           {
            "colorbar": {
             "outlinewidth": 0,
             "ticks": ""
            },
            "type": "mesh3d"
           }
          ],
          "parcoords": [
           {
            "line": {
             "colorbar": {
              "outlinewidth": 0,
              "ticks": ""
             }
            },
            "type": "parcoords"
           }
          ],
          "pie": [
           {
            "automargin": true,
            "type": "pie"
           }
          ],
          "scatter": [
           {
            "fillpattern": {
             "fillmode": "overlay",
             "size": 10,
             "solidity": 0.2
            },
            "type": "scatter"
           }
          ],
          "scatter3d": [
           {
            "line": {
             "colorbar": {
              "outlinewidth": 0,
              "ticks": ""
             }
            },
            "marker": {
             "colorbar": {
              "outlinewidth": 0,
              "ticks": ""
             }
            },
            "type": "scatter3d"
           }
          ],
          "scattercarpet": [
           {
            "marker": {
             "colorbar": {
              "outlinewidth": 0,
              "ticks": ""
             }
            },
            "type": "scattercarpet"
           }
          ],
          "scattergeo": [
           {
            "marker": {
             "colorbar": {
              "outlinewidth": 0,
              "ticks": ""
             }
            },
            "type": "scattergeo"
           }
          ],
          "scattergl": [
           {
            "marker": {
             "colorbar": {
              "outlinewidth": 0,
              "ticks": ""
             }
            },
            "type": "scattergl"
           }
          ],
          "scattermapbox": [
           {
            "marker": {
             "colorbar": {
              "outlinewidth": 0,
              "ticks": ""
             }
            },
            "type": "scattermapbox"
           }
          ],
          "scatterpolar": [
           {
            "marker": {
             "colorbar": {
              "outlinewidth": 0,
              "ticks": ""
             }
            },
            "type": "scatterpolar"
           }
          ],
          "scatterpolargl": [
           {
            "marker": {
             "colorbar": {
              "outlinewidth": 0,
              "ticks": ""
             }
            },
            "type": "scatterpolargl"
           }
          ],
          "scatterternary": [
           {
            "marker": {
             "colorbar": {
              "outlinewidth": 0,
              "ticks": ""
             }
            },
            "type": "scatterternary"
           }
          ],
          "surface": [
           {
            "colorbar": {
             "outlinewidth": 0,
             "ticks": ""
            },
            "colorscale": [
             [
              0,
              "#0d0887"
             ],
             [
              0.1111111111111111,
              "#46039f"
             ],
             [
              0.2222222222222222,
              "#7201a8"
             ],
             [
              0.3333333333333333,
              "#9c179e"
             ],
             [
              0.4444444444444444,
              "#bd3786"
             ],
             [
              0.5555555555555556,
              "#d8576b"
             ],
             [
              0.6666666666666666,
              "#ed7953"
             ],
             [
              0.7777777777777778,
              "#fb9f3a"
             ],
             [
              0.8888888888888888,
              "#fdca26"
             ],
             [
              1,
              "#f0f921"
             ]
            ],
            "type": "surface"
           }
          ],
          "table": [
           {
            "cells": {
             "fill": {
              "color": "#EBF0F8"
             },
             "line": {
              "color": "white"
             }
            },
            "header": {
             "fill": {
              "color": "#C8D4E3"
             },
             "line": {
              "color": "white"
             }
            },
            "type": "table"
           }
          ]
         },
         "layout": {
          "annotationdefaults": {
           "arrowcolor": "#2a3f5f",
           "arrowhead": 0,
           "arrowwidth": 1
          },
          "autotypenumbers": "strict",
          "coloraxis": {
           "colorbar": {
            "outlinewidth": 0,
            "ticks": ""
           }
          },
          "colorscale": {
           "diverging": [
            [
             0,
             "#8e0152"
            ],
            [
             0.1,
             "#c51b7d"
            ],
            [
             0.2,
             "#de77ae"
            ],
            [
             0.3,
             "#f1b6da"
            ],
            [
             0.4,
             "#fde0ef"
            ],
            [
             0.5,
             "#f7f7f7"
            ],
            [
             0.6,
             "#e6f5d0"
            ],
            [
             0.7,
             "#b8e186"
            ],
            [
             0.8,
             "#7fbc41"
            ],
            [
             0.9,
             "#4d9221"
            ],
            [
             1,
             "#276419"
            ]
           ],
           "sequential": [
            [
             0,
             "#0d0887"
            ],
            [
             0.1111111111111111,
             "#46039f"
            ],
            [
             0.2222222222222222,
             "#7201a8"
            ],
            [
             0.3333333333333333,
             "#9c179e"
            ],
            [
             0.4444444444444444,
             "#bd3786"
            ],
            [
             0.5555555555555556,
             "#d8576b"
            ],
            [
             0.6666666666666666,
             "#ed7953"
            ],
            [
             0.7777777777777778,
             "#fb9f3a"
            ],
            [
             0.8888888888888888,
             "#fdca26"
            ],
            [
             1,
             "#f0f921"
            ]
           ],
           "sequentialminus": [
            [
             0,
             "#0d0887"
            ],
            [
             0.1111111111111111,
             "#46039f"
            ],
            [
             0.2222222222222222,
             "#7201a8"
            ],
            [
             0.3333333333333333,
             "#9c179e"
            ],
            [
             0.4444444444444444,
             "#bd3786"
            ],
            [
             0.5555555555555556,
             "#d8576b"
            ],
            [
             0.6666666666666666,
             "#ed7953"
            ],
            [
             0.7777777777777778,
             "#fb9f3a"
            ],
            [
             0.8888888888888888,
             "#fdca26"
            ],
            [
             1,
             "#f0f921"
            ]
           ]
          },
          "colorway": [
           "#636efa",
           "#EF553B",
           "#00cc96",
           "#ab63fa",
           "#FFA15A",
           "#19d3f3",
           "#FF6692",
           "#B6E880",
           "#FF97FF",
           "#FECB52"
          ],
          "font": {
           "color": "#2a3f5f"
          },
          "geo": {
           "bgcolor": "white",
           "lakecolor": "white",
           "landcolor": "#E5ECF6",
           "showlakes": true,
           "showland": true,
           "subunitcolor": "white"
          },
          "hoverlabel": {
           "align": "left"
          },
          "hovermode": "closest",
          "mapbox": {
           "style": "light"
          },
          "paper_bgcolor": "white",
          "plot_bgcolor": "#E5ECF6",
          "polar": {
           "angularaxis": {
            "gridcolor": "white",
            "linecolor": "white",
            "ticks": ""
           },
           "bgcolor": "#E5ECF6",
           "radialaxis": {
            "gridcolor": "white",
            "linecolor": "white",
            "ticks": ""
           }
          },
          "scene": {
           "xaxis": {
            "backgroundcolor": "#E5ECF6",
            "gridcolor": "white",
            "gridwidth": 2,
            "linecolor": "white",
            "showbackground": true,
            "ticks": "",
            "zerolinecolor": "white"
           },
           "yaxis": {
            "backgroundcolor": "#E5ECF6",
            "gridcolor": "white",
            "gridwidth": 2,
            "linecolor": "white",
            "showbackground": true,
            "ticks": "",
            "zerolinecolor": "white"
           },
           "zaxis": {
            "backgroundcolor": "#E5ECF6",
            "gridcolor": "white",
            "gridwidth": 2,
            "linecolor": "white",
            "showbackground": true,
            "ticks": "",
            "zerolinecolor": "white"
           }
          },
          "shapedefaults": {
           "line": {
            "color": "#2a3f5f"
           }
          },
          "ternary": {
           "aaxis": {
            "gridcolor": "white",
            "linecolor": "white",
            "ticks": ""
           },
           "baxis": {
            "gridcolor": "white",
            "linecolor": "white",
            "ticks": ""
           },
           "bgcolor": "#E5ECF6",
           "caxis": {
            "gridcolor": "white",
            "linecolor": "white",
            "ticks": ""
           }
          },
          "title": {
           "x": 0.05
          },
          "xaxis": {
           "automargin": true,
           "gridcolor": "white",
           "linecolor": "white",
           "ticks": "",
           "title": {
            "standoff": 15
           },
           "zerolinecolor": "white",
           "zerolinewidth": 2
          },
          "yaxis": {
           "automargin": true,
           "gridcolor": "white",
           "linecolor": "white",
           "ticks": "",
           "title": {
            "standoff": 15
           },
           "zerolinecolor": "white",
           "zerolinewidth": 2
          }
         }
        },
        "title": {
         "font": {
          "color": "black",
          "family": "Arial, sans-serif",
          "size": 22
         },
         "text": "Analysis of LLaVA Model Accuracy Across Different RAG Approaches and Parameter Settings (RDC: 3)",
         "x": 0.5,
         "xanchor": "center"
        },
        "xaxis": {
         "title": {
          "text": "Model Evaluations"
         }
        },
        "yaxis": {
         "range": [
          0,
          1.1
         ],
         "ticktext": [
          "0%",
          "10%",
          "20%",
          "30%",
          "40%",
          "50%",
          "60%",
          "70%",
          "80%",
          "90%",
          "100%"
         ],
         "tickvals": [
          0,
          0.1,
          0.2,
          0.3,
          0.4,
          0.5,
          0.6,
          0.7,
          0.8,
          0.9,
          1
         ],
         "title": {
          "text": "Accuracy"
         }
        }
       }
      }
     },
     "metadata": {},
     "output_type": "display_data"
    }
   ],
   "source": [
    "world_med_qa_v_plot_helpers.display_bar_chart_on_evaluation_results(\n",
    "    evaluation_results=evaluation_results,\n",
    "    title=\"Analysis of LLaVA Model Accuracy Across Different RAG Approaches and Parameter Settings (RDC: 3)\"\n",
    ")"
   ]
  },
  {
   "cell_type": "markdown",
   "metadata": {},
   "source": [
    "---"
   ]
  },
  {
   "cell_type": "markdown",
   "metadata": {},
   "source": [
    "`spacy_sentence_splitter` seems to output the most consistent results. Hence, we continue experimenting only with this **document splitter**."
   ]
  },
  {
   "cell_type": "markdown",
   "metadata": {},
   "source": [
    "### 3.4. Rag Q "
   ]
  },
  {
   "cell_type": "markdown",
   "metadata": {},
   "source": [
    "- Relevant Documents Count: 1\n",
    "- Document Splitter: spacy_sentence_splitter"
   ]
  },
  {
   "cell_type": "code",
   "execution_count": 9,
   "metadata": {},
   "outputs": [
    {
     "data": {
      "text/html": [
       "<div>\n",
       "<style scoped>\n",
       "    .dataframe tbody tr th:only-of-type {\n",
       "        vertical-align: middle;\n",
       "    }\n",
       "\n",
       "    .dataframe tbody tr th {\n",
       "        vertical-align: top;\n",
       "    }\n",
       "\n",
       "    .dataframe thead th {\n",
       "        text-align: right;\n",
       "    }\n",
       "</style>\n",
       "<table border=\"1\" class=\"dataframe\">\n",
       "  <thead>\n",
       "    <tr style=\"text-align: right;\">\n",
       "      <th></th>\n",
       "      <th>country</th>\n",
       "      <th>file_type</th>\n",
       "      <th>vqa_strategy_type</th>\n",
       "      <th>prompt_type</th>\n",
       "      <th>doc_splitter</th>\n",
       "      <th>add_title</th>\n",
       "      <th>token_count</th>\n",
       "      <th>chunk_size</th>\n",
       "      <th>chunk_overlap</th>\n",
       "      <th>accuracy</th>\n",
       "      <th>well_formatted_answers</th>\n",
       "    </tr>\n",
       "  </thead>\n",
       "  <tbody>\n",
       "    <tr>\n",
       "      <th>0</th>\n",
       "      <td>spain</td>\n",
       "      <td>english</td>\n",
       "      <td>rag_q</td>\n",
       "      <td>rq_v1</td>\n",
       "      <td>spacy_sent_splitting</td>\n",
       "      <td>False</td>\n",
       "      <td>1</td>\n",
       "      <td>-</td>\n",
       "      <td>-</td>\n",
       "      <td>0.296</td>\n",
       "      <td>1.0</td>\n",
       "    </tr>\n",
       "    <tr>\n",
       "      <th>1</th>\n",
       "      <td>spain</td>\n",
       "      <td>english</td>\n",
       "      <td>rag_q</td>\n",
       "      <td>rq_v2</td>\n",
       "      <td>spacy_sent_splitting</td>\n",
       "      <td>False</td>\n",
       "      <td>1</td>\n",
       "      <td>-</td>\n",
       "      <td>-</td>\n",
       "      <td>0.280</td>\n",
       "      <td>1.0</td>\n",
       "    </tr>\n",
       "    <tr>\n",
       "      <th>2</th>\n",
       "      <td>spain</td>\n",
       "      <td>english</td>\n",
       "      <td>rag_q</td>\n",
       "      <td>rq_v3</td>\n",
       "      <td>spacy_sent_splitting</td>\n",
       "      <td>False</td>\n",
       "      <td>1</td>\n",
       "      <td>-</td>\n",
       "      <td>-</td>\n",
       "      <td>0.280</td>\n",
       "      <td>1.0</td>\n",
       "    </tr>\n",
       "    <tr>\n",
       "      <th>3</th>\n",
       "      <td>spain</td>\n",
       "      <td>english</td>\n",
       "      <td>rag_q</td>\n",
       "      <td>rq_v4</td>\n",
       "      <td>spacy_sent_splitting</td>\n",
       "      <td>False</td>\n",
       "      <td>1</td>\n",
       "      <td>-</td>\n",
       "      <td>-</td>\n",
       "      <td>0.296</td>\n",
       "      <td>1.0</td>\n",
       "    </tr>\n",
       "    <tr>\n",
       "      <th>4</th>\n",
       "      <td>spain</td>\n",
       "      <td>english</td>\n",
       "      <td>rag_q</td>\n",
       "      <td>rq_v1</td>\n",
       "      <td>spacy_sent_splitting</td>\n",
       "      <td>False</td>\n",
       "      <td>2</td>\n",
       "      <td>-</td>\n",
       "      <td>-</td>\n",
       "      <td>0.272</td>\n",
       "      <td>1.0</td>\n",
       "    </tr>\n",
       "    <tr>\n",
       "      <th>5</th>\n",
       "      <td>spain</td>\n",
       "      <td>english</td>\n",
       "      <td>rag_q</td>\n",
       "      <td>rq_v2</td>\n",
       "      <td>spacy_sent_splitting</td>\n",
       "      <td>False</td>\n",
       "      <td>2</td>\n",
       "      <td>-</td>\n",
       "      <td>-</td>\n",
       "      <td>0.272</td>\n",
       "      <td>1.0</td>\n",
       "    </tr>\n",
       "    <tr>\n",
       "      <th>6</th>\n",
       "      <td>spain</td>\n",
       "      <td>english</td>\n",
       "      <td>rag_q</td>\n",
       "      <td>rq_v3</td>\n",
       "      <td>spacy_sent_splitting</td>\n",
       "      <td>False</td>\n",
       "      <td>2</td>\n",
       "      <td>-</td>\n",
       "      <td>-</td>\n",
       "      <td>0.272</td>\n",
       "      <td>1.0</td>\n",
       "    </tr>\n",
       "    <tr>\n",
       "      <th>7</th>\n",
       "      <td>spain</td>\n",
       "      <td>english</td>\n",
       "      <td>rag_q</td>\n",
       "      <td>rq_v4</td>\n",
       "      <td>spacy_sent_splitting</td>\n",
       "      <td>False</td>\n",
       "      <td>2</td>\n",
       "      <td>-</td>\n",
       "      <td>-</td>\n",
       "      <td>0.240</td>\n",
       "      <td>1.0</td>\n",
       "    </tr>\n",
       "    <tr>\n",
       "      <th>8</th>\n",
       "      <td>spain</td>\n",
       "      <td>english</td>\n",
       "      <td>rag_q</td>\n",
       "      <td>rq_v1</td>\n",
       "      <td>spacy_sent_splitting</td>\n",
       "      <td>False</td>\n",
       "      <td>3</td>\n",
       "      <td>-</td>\n",
       "      <td>-</td>\n",
       "      <td>0.272</td>\n",
       "      <td>1.0</td>\n",
       "    </tr>\n",
       "    <tr>\n",
       "      <th>9</th>\n",
       "      <td>spain</td>\n",
       "      <td>english</td>\n",
       "      <td>rag_q</td>\n",
       "      <td>rq_v2</td>\n",
       "      <td>spacy_sent_splitting</td>\n",
       "      <td>False</td>\n",
       "      <td>3</td>\n",
       "      <td>-</td>\n",
       "      <td>-</td>\n",
       "      <td>0.288</td>\n",
       "      <td>1.0</td>\n",
       "    </tr>\n",
       "    <tr>\n",
       "      <th>10</th>\n",
       "      <td>spain</td>\n",
       "      <td>english</td>\n",
       "      <td>rag_q</td>\n",
       "      <td>rq_v3</td>\n",
       "      <td>spacy_sent_splitting</td>\n",
       "      <td>False</td>\n",
       "      <td>3</td>\n",
       "      <td>-</td>\n",
       "      <td>-</td>\n",
       "      <td>0.288</td>\n",
       "      <td>1.0</td>\n",
       "    </tr>\n",
       "    <tr>\n",
       "      <th>11</th>\n",
       "      <td>spain</td>\n",
       "      <td>english</td>\n",
       "      <td>rag_q</td>\n",
       "      <td>rq_v4</td>\n",
       "      <td>spacy_sent_splitting</td>\n",
       "      <td>False</td>\n",
       "      <td>3</td>\n",
       "      <td>-</td>\n",
       "      <td>-</td>\n",
       "      <td>0.304</td>\n",
       "      <td>1.0</td>\n",
       "    </tr>\n",
       "    <tr>\n",
       "      <th>12</th>\n",
       "      <td>spain</td>\n",
       "      <td>english</td>\n",
       "      <td>rag_q</td>\n",
       "      <td>rq_v1</td>\n",
       "      <td>spacy_sent_splitting</td>\n",
       "      <td>False</td>\n",
       "      <td>4</td>\n",
       "      <td>-</td>\n",
       "      <td>-</td>\n",
       "      <td>0.240</td>\n",
       "      <td>1.0</td>\n",
       "    </tr>\n",
       "    <tr>\n",
       "      <th>13</th>\n",
       "      <td>spain</td>\n",
       "      <td>english</td>\n",
       "      <td>rag_q</td>\n",
       "      <td>rq_v2</td>\n",
       "      <td>spacy_sent_splitting</td>\n",
       "      <td>False</td>\n",
       "      <td>4</td>\n",
       "      <td>-</td>\n",
       "      <td>-</td>\n",
       "      <td>0.256</td>\n",
       "      <td>1.0</td>\n",
       "    </tr>\n",
       "    <tr>\n",
       "      <th>14</th>\n",
       "      <td>spain</td>\n",
       "      <td>english</td>\n",
       "      <td>rag_q</td>\n",
       "      <td>rq_v3</td>\n",
       "      <td>spacy_sent_splitting</td>\n",
       "      <td>False</td>\n",
       "      <td>4</td>\n",
       "      <td>-</td>\n",
       "      <td>-</td>\n",
       "      <td>0.272</td>\n",
       "      <td>1.0</td>\n",
       "    </tr>\n",
       "    <tr>\n",
       "      <th>15</th>\n",
       "      <td>spain</td>\n",
       "      <td>english</td>\n",
       "      <td>rag_q</td>\n",
       "      <td>rq_v4</td>\n",
       "      <td>spacy_sent_splitting</td>\n",
       "      <td>False</td>\n",
       "      <td>4</td>\n",
       "      <td>-</td>\n",
       "      <td>-</td>\n",
       "      <td>0.248</td>\n",
       "      <td>1.0</td>\n",
       "    </tr>\n",
       "    <tr>\n",
       "      <th>16</th>\n",
       "      <td>spain</td>\n",
       "      <td>english</td>\n",
       "      <td>rag_q</td>\n",
       "      <td>rq_v1</td>\n",
       "      <td>spacy_sent_splitting</td>\n",
       "      <td>False</td>\n",
       "      <td>5</td>\n",
       "      <td>-</td>\n",
       "      <td>-</td>\n",
       "      <td>0.256</td>\n",
       "      <td>1.0</td>\n",
       "    </tr>\n",
       "    <tr>\n",
       "      <th>17</th>\n",
       "      <td>spain</td>\n",
       "      <td>english</td>\n",
       "      <td>rag_q</td>\n",
       "      <td>rq_v2</td>\n",
       "      <td>spacy_sent_splitting</td>\n",
       "      <td>False</td>\n",
       "      <td>5</td>\n",
       "      <td>-</td>\n",
       "      <td>-</td>\n",
       "      <td>0.256</td>\n",
       "      <td>1.0</td>\n",
       "    </tr>\n",
       "    <tr>\n",
       "      <th>18</th>\n",
       "      <td>spain</td>\n",
       "      <td>english</td>\n",
       "      <td>rag_q</td>\n",
       "      <td>rq_v3</td>\n",
       "      <td>spacy_sent_splitting</td>\n",
       "      <td>False</td>\n",
       "      <td>5</td>\n",
       "      <td>-</td>\n",
       "      <td>-</td>\n",
       "      <td>0.264</td>\n",
       "      <td>1.0</td>\n",
       "    </tr>\n",
       "    <tr>\n",
       "      <th>19</th>\n",
       "      <td>spain</td>\n",
       "      <td>english</td>\n",
       "      <td>rag_q</td>\n",
       "      <td>rq_v4</td>\n",
       "      <td>spacy_sent_splitting</td>\n",
       "      <td>False</td>\n",
       "      <td>5</td>\n",
       "      <td>-</td>\n",
       "      <td>-</td>\n",
       "      <td>0.264</td>\n",
       "      <td>1.0</td>\n",
       "    </tr>\n",
       "  </tbody>\n",
       "</table>\n",
       "</div>"
      ],
      "text/plain": [
       "   country file_type vqa_strategy_type prompt_type          doc_splitter  \\\n",
       "0    spain   english             rag_q       rq_v1  spacy_sent_splitting   \n",
       "1    spain   english             rag_q       rq_v2  spacy_sent_splitting   \n",
       "2    spain   english             rag_q       rq_v3  spacy_sent_splitting   \n",
       "3    spain   english             rag_q       rq_v4  spacy_sent_splitting   \n",
       "4    spain   english             rag_q       rq_v1  spacy_sent_splitting   \n",
       "5    spain   english             rag_q       rq_v2  spacy_sent_splitting   \n",
       "6    spain   english             rag_q       rq_v3  spacy_sent_splitting   \n",
       "7    spain   english             rag_q       rq_v4  spacy_sent_splitting   \n",
       "8    spain   english             rag_q       rq_v1  spacy_sent_splitting   \n",
       "9    spain   english             rag_q       rq_v2  spacy_sent_splitting   \n",
       "10   spain   english             rag_q       rq_v3  spacy_sent_splitting   \n",
       "11   spain   english             rag_q       rq_v4  spacy_sent_splitting   \n",
       "12   spain   english             rag_q       rq_v1  spacy_sent_splitting   \n",
       "13   spain   english             rag_q       rq_v2  spacy_sent_splitting   \n",
       "14   spain   english             rag_q       rq_v3  spacy_sent_splitting   \n",
       "15   spain   english             rag_q       rq_v4  spacy_sent_splitting   \n",
       "16   spain   english             rag_q       rq_v1  spacy_sent_splitting   \n",
       "17   spain   english             rag_q       rq_v2  spacy_sent_splitting   \n",
       "18   spain   english             rag_q       rq_v3  spacy_sent_splitting   \n",
       "19   spain   english             rag_q       rq_v4  spacy_sent_splitting   \n",
       "\n",
       "    add_title  token_count chunk_size chunk_overlap  accuracy  \\\n",
       "0       False            1          -             -     0.296   \n",
       "1       False            1          -             -     0.280   \n",
       "2       False            1          -             -     0.280   \n",
       "3       False            1          -             -     0.296   \n",
       "4       False            2          -             -     0.272   \n",
       "5       False            2          -             -     0.272   \n",
       "6       False            2          -             -     0.272   \n",
       "7       False            2          -             -     0.240   \n",
       "8       False            3          -             -     0.272   \n",
       "9       False            3          -             -     0.288   \n",
       "10      False            3          -             -     0.288   \n",
       "11      False            3          -             -     0.304   \n",
       "12      False            4          -             -     0.240   \n",
       "13      False            4          -             -     0.256   \n",
       "14      False            4          -             -     0.272   \n",
       "15      False            4          -             -     0.248   \n",
       "16      False            5          -             -     0.256   \n",
       "17      False            5          -             -     0.256   \n",
       "18      False            5          -             -     0.264   \n",
       "19      False            5          -             -     0.264   \n",
       "\n",
       "    well_formatted_answers  \n",
       "0                      1.0  \n",
       "1                      1.0  \n",
       "2                      1.0  \n",
       "3                      1.0  \n",
       "4                      1.0  \n",
       "5                      1.0  \n",
       "6                      1.0  \n",
       "7                      1.0  \n",
       "8                      1.0  \n",
       "9                      1.0  \n",
       "10                     1.0  \n",
       "11                     1.0  \n",
       "12                     1.0  \n",
       "13                     1.0  \n",
       "14                     1.0  \n",
       "15                     1.0  \n",
       "16                     1.0  \n",
       "17                     1.0  \n",
       "18                     1.0  \n",
       "19                     1.0  "
      ]
     },
     "execution_count": 9,
     "metadata": {},
     "output_type": "execute_result"
    }
   ],
   "source": [
    "evaluation_results = world_med_qa_v_dataset_management.load_evaluation_results(\n",
    "    evaluation_results_folder=RESULTS_DIR,\n",
    "    vqa_strategy_details=[\n",
    "        VQAStrategyDetail(\n",
    "            country=\"spain\",\n",
    "            file_type=\"english\",\n",
    "            vqa_strategy_type=VQAStrategyType.RAG_Q,\n",
    "            prompt_type=RagQPromptType.V1,\n",
    "            relevant_docs_count=1,\n",
    "            doc_splitter_options=DocSplitterOptions(\n",
    "                doc_splitter_type=DocumentSplitterType.SPACY_SENTENCE_SPLITTER,\n",
    "                add_title=False,\n",
    "                token_count=1\n",
    "            )\n",
    "        ),\n",
    "        VQAStrategyDetail(\n",
    "            country=\"spain\",\n",
    "            file_type=\"english\",\n",
    "            vqa_strategy_type=VQAStrategyType.RAG_Q,\n",
    "            prompt_type=RagQPromptType.V2,\n",
    "            relevant_docs_count=1,\n",
    "            doc_splitter_options=DocSplitterOptions(\n",
    "                doc_splitter_type=DocumentSplitterType.SPACY_SENTENCE_SPLITTER,\n",
    "                add_title=False,\n",
    "                token_count=1\n",
    "            )\n",
    "        ),\n",
    "        VQAStrategyDetail(\n",
    "            country=\"spain\",\n",
    "            file_type=\"english\",\n",
    "            vqa_strategy_type=VQAStrategyType.RAG_Q,\n",
    "            prompt_type=RagQPromptType.V3,\n",
    "            relevant_docs_count=1,\n",
    "            doc_splitter_options=DocSplitterOptions(\n",
    "                doc_splitter_type=DocumentSplitterType.SPACY_SENTENCE_SPLITTER,\n",
    "                add_title=False,\n",
    "                token_count=1\n",
    "            )\n",
    "        ),\n",
    "        VQAStrategyDetail(\n",
    "            country=\"spain\",\n",
    "            file_type=\"english\",\n",
    "            vqa_strategy_type=VQAStrategyType.RAG_Q,\n",
    "            prompt_type=RagQPromptType.V4,\n",
    "            relevant_docs_count=1,\n",
    "            doc_splitter_options=DocSplitterOptions(\n",
    "                doc_splitter_type=DocumentSplitterType.SPACY_SENTENCE_SPLITTER,\n",
    "                add_title=False,\n",
    "                token_count=1\n",
    "            )\n",
    "        ),\n",
    "        VQAStrategyDetail(\n",
    "            country=\"spain\",\n",
    "            file_type=\"english\",\n",
    "            vqa_strategy_type=VQAStrategyType.RAG_Q,\n",
    "            prompt_type=RagQPromptType.V1,\n",
    "            relevant_docs_count=1,\n",
    "            doc_splitter_options=DocSplitterOptions(\n",
    "                doc_splitter_type=DocumentSplitterType.SPACY_SENTENCE_SPLITTER,\n",
    "                add_title=False,\n",
    "                token_count=2\n",
    "            )\n",
    "        ),\n",
    "        VQAStrategyDetail(\n",
    "            country=\"spain\",\n",
    "            file_type=\"english\",\n",
    "            vqa_strategy_type=VQAStrategyType.RAG_Q,\n",
    "            prompt_type=RagQPromptType.V2,\n",
    "            relevant_docs_count=1,\n",
    "            doc_splitter_options=DocSplitterOptions(\n",
    "                doc_splitter_type=DocumentSplitterType.SPACY_SENTENCE_SPLITTER,\n",
    "                add_title=False,\n",
    "                token_count=2\n",
    "            )\n",
    "        ),\n",
    "        VQAStrategyDetail(\n",
    "            country=\"spain\",\n",
    "            file_type=\"english\",\n",
    "            vqa_strategy_type=VQAStrategyType.RAG_Q,\n",
    "            prompt_type=RagQPromptType.V3,\n",
    "            relevant_docs_count=1,\n",
    "            doc_splitter_options=DocSplitterOptions(\n",
    "                doc_splitter_type=DocumentSplitterType.SPACY_SENTENCE_SPLITTER,\n",
    "                add_title=False,\n",
    "                token_count=2\n",
    "            )\n",
    "        ),\n",
    "        VQAStrategyDetail(\n",
    "            country=\"spain\",\n",
    "            file_type=\"english\",\n",
    "            vqa_strategy_type=VQAStrategyType.RAG_Q,\n",
    "            prompt_type=RagQPromptType.V4,\n",
    "            relevant_docs_count=1,\n",
    "            doc_splitter_options=DocSplitterOptions(\n",
    "                doc_splitter_type=DocumentSplitterType.SPACY_SENTENCE_SPLITTER,\n",
    "                add_title=False,\n",
    "                token_count=2\n",
    "            )\n",
    "        ),\n",
    "        VQAStrategyDetail(\n",
    "            country=\"spain\",\n",
    "            file_type=\"english\",\n",
    "            vqa_strategy_type=VQAStrategyType.RAG_Q,\n",
    "            prompt_type=RagQPromptType.V1,\n",
    "            relevant_docs_count=1,\n",
    "            doc_splitter_options=DocSplitterOptions(\n",
    "                doc_splitter_type=DocumentSplitterType.SPACY_SENTENCE_SPLITTER,\n",
    "                add_title=False,\n",
    "                token_count=3\n",
    "            )\n",
    "        ),\n",
    "        VQAStrategyDetail(\n",
    "            country=\"spain\",\n",
    "            file_type=\"english\",\n",
    "            vqa_strategy_type=VQAStrategyType.RAG_Q,\n",
    "            prompt_type=RagQPromptType.V2,\n",
    "            relevant_docs_count=1,\n",
    "            doc_splitter_options=DocSplitterOptions(\n",
    "                doc_splitter_type=DocumentSplitterType.SPACY_SENTENCE_SPLITTER,\n",
    "                add_title=False,\n",
    "                token_count=3\n",
    "            )\n",
    "        ),\n",
    "        VQAStrategyDetail(\n",
    "            country=\"spain\",\n",
    "            file_type=\"english\",\n",
    "            vqa_strategy_type=VQAStrategyType.RAG_Q,\n",
    "            prompt_type=RagQPromptType.V3,\n",
    "            relevant_docs_count=1,\n",
    "            doc_splitter_options=DocSplitterOptions(\n",
    "                doc_splitter_type=DocumentSplitterType.SPACY_SENTENCE_SPLITTER,\n",
    "                add_title=False,\n",
    "                token_count=3\n",
    "            )\n",
    "        ),\n",
    "        VQAStrategyDetail(\n",
    "            country=\"spain\",\n",
    "            file_type=\"english\",\n",
    "            vqa_strategy_type=VQAStrategyType.RAG_Q,\n",
    "            prompt_type=RagQPromptType.V4,\n",
    "            relevant_docs_count=1,\n",
    "            doc_splitter_options=DocSplitterOptions(\n",
    "                doc_splitter_type=DocumentSplitterType.SPACY_SENTENCE_SPLITTER,\n",
    "                add_title=False,\n",
    "                token_count=3\n",
    "            )\n",
    "        ),\n",
    "        VQAStrategyDetail(\n",
    "            country=\"spain\",\n",
    "            file_type=\"english\",\n",
    "            vqa_strategy_type=VQAStrategyType.RAG_Q,\n",
    "            prompt_type=RagQPromptType.V1,\n",
    "            relevant_docs_count=1,\n",
    "            doc_splitter_options=DocSplitterOptions(\n",
    "                doc_splitter_type=DocumentSplitterType.SPACY_SENTENCE_SPLITTER,\n",
    "                add_title=False,\n",
    "                token_count=4\n",
    "            )\n",
    "        ),\n",
    "        VQAStrategyDetail(\n",
    "            country=\"spain\",\n",
    "            file_type=\"english\",\n",
    "            vqa_strategy_type=VQAStrategyType.RAG_Q,\n",
    "            prompt_type=RagQPromptType.V2,\n",
    "            relevant_docs_count=1,\n",
    "            doc_splitter_options=DocSplitterOptions(\n",
    "                doc_splitter_type=DocumentSplitterType.SPACY_SENTENCE_SPLITTER,\n",
    "                add_title=False,\n",
    "                token_count=4\n",
    "            )\n",
    "        ),\n",
    "        VQAStrategyDetail(\n",
    "            country=\"spain\",\n",
    "            file_type=\"english\",\n",
    "            vqa_strategy_type=VQAStrategyType.RAG_Q,\n",
    "            prompt_type=RagQPromptType.V3,\n",
    "            relevant_docs_count=1,\n",
    "            doc_splitter_options=DocSplitterOptions(\n",
    "                doc_splitter_type=DocumentSplitterType.SPACY_SENTENCE_SPLITTER,\n",
    "                add_title=False,\n",
    "                token_count=4\n",
    "            )\n",
    "        ),\n",
    "        VQAStrategyDetail(\n",
    "            country=\"spain\",\n",
    "            file_type=\"english\",\n",
    "            vqa_strategy_type=VQAStrategyType.RAG_Q,\n",
    "            prompt_type=RagQPromptType.V4,\n",
    "            relevant_docs_count=1,\n",
    "            doc_splitter_options=DocSplitterOptions(\n",
    "                doc_splitter_type=DocumentSplitterType.SPACY_SENTENCE_SPLITTER,\n",
    "                add_title=False,\n",
    "                token_count=4\n",
    "            )\n",
    "        ),\n",
    "        VQAStrategyDetail(\n",
    "            country=\"spain\",\n",
    "            file_type=\"english\",\n",
    "            vqa_strategy_type=VQAStrategyType.RAG_Q,\n",
    "            prompt_type=RagQPromptType.V1,\n",
    "            relevant_docs_count=1,\n",
    "            doc_splitter_options=DocSplitterOptions(\n",
    "                doc_splitter_type=DocumentSplitterType.SPACY_SENTENCE_SPLITTER,\n",
    "                add_title=False,\n",
    "                token_count=5\n",
    "            )\n",
    "        ),\n",
    "        VQAStrategyDetail(\n",
    "            country=\"spain\",\n",
    "            file_type=\"english\",\n",
    "            vqa_strategy_type=VQAStrategyType.RAG_Q,\n",
    "            prompt_type=RagQPromptType.V2,\n",
    "            relevant_docs_count=1,\n",
    "            doc_splitter_options=DocSplitterOptions(\n",
    "                doc_splitter_type=DocumentSplitterType.SPACY_SENTENCE_SPLITTER,\n",
    "                add_title=False,\n",
    "                token_count=5\n",
    "            )\n",
    "        ),\n",
    "        VQAStrategyDetail(\n",
    "            country=\"spain\",\n",
    "            file_type=\"english\",\n",
    "            vqa_strategy_type=VQAStrategyType.RAG_Q,\n",
    "            prompt_type=RagQPromptType.V3,\n",
    "            relevant_docs_count=1,\n",
    "            doc_splitter_options=DocSplitterOptions(\n",
    "                doc_splitter_type=DocumentSplitterType.SPACY_SENTENCE_SPLITTER,\n",
    "                add_title=False,\n",
    "                token_count=5\n",
    "            )\n",
    "        ),\n",
    "        VQAStrategyDetail(\n",
    "            country=\"spain\",\n",
    "            file_type=\"english\",\n",
    "            vqa_strategy_type=VQAStrategyType.RAG_Q,\n",
    "            prompt_type=RagQPromptType.V4,\n",
    "            relevant_docs_count=1,\n",
    "            doc_splitter_options=DocSplitterOptions(\n",
    "                doc_splitter_type=DocumentSplitterType.SPACY_SENTENCE_SPLITTER,\n",
    "                add_title=False,\n",
    "                token_count=5\n",
    "            )\n",
    "        ),\n",
    "    ]\n",
    ")\n",
    "evaluation_results = evaluation_results.fillna(\"-\")\n",
    "evaluation_results"
   ]
  },
  {
   "cell_type": "code",
   "execution_count": 15,
   "metadata": {},
   "outputs": [
    {
     "data": {
      "application/vnd.plotly.v1+json": {
       "config": {
        "plotlyServerURL": "https://plot.ly"
       },
       "data": [
        {
         "cliponaxis": false,
         "customdata": [
          [
           "rag_q",
           "rq_v1",
           "spacy_sent_splitting",
           false,
           1,
           "-",
           "-"
          ],
          [
           "rag_q",
           "rq_v2",
           "spacy_sent_splitting",
           false,
           1,
           "-",
           "-"
          ],
          [
           "rag_q",
           "rq_v3",
           "spacy_sent_splitting",
           false,
           1,
           "-",
           "-"
          ],
          [
           "rag_q",
           "rq_v4",
           "spacy_sent_splitting",
           false,
           1,
           "-",
           "-"
          ],
          [
           "rag_q",
           "rq_v1",
           "spacy_sent_splitting",
           false,
           2,
           "-",
           "-"
          ],
          [
           "rag_q",
           "rq_v2",
           "spacy_sent_splitting",
           false,
           2,
           "-",
           "-"
          ],
          [
           "rag_q",
           "rq_v3",
           "spacy_sent_splitting",
           false,
           2,
           "-",
           "-"
          ],
          [
           "rag_q",
           "rq_v4",
           "spacy_sent_splitting",
           false,
           2,
           "-",
           "-"
          ],
          [
           "rag_q",
           "rq_v1",
           "spacy_sent_splitting",
           false,
           3,
           "-",
           "-"
          ],
          [
           "rag_q",
           "rq_v2",
           "spacy_sent_splitting",
           false,
           3,
           "-",
           "-"
          ],
          [
           "rag_q",
           "rq_v3",
           "spacy_sent_splitting",
           false,
           3,
           "-",
           "-"
          ],
          [
           "rag_q",
           "rq_v4",
           "spacy_sent_splitting",
           false,
           3,
           "-",
           "-"
          ],
          [
           "rag_q",
           "rq_v1",
           "spacy_sent_splitting",
           false,
           4,
           "-",
           "-"
          ],
          [
           "rag_q",
           "rq_v2",
           "spacy_sent_splitting",
           false,
           4,
           "-",
           "-"
          ],
          [
           "rag_q",
           "rq_v3",
           "spacy_sent_splitting",
           false,
           4,
           "-",
           "-"
          ],
          [
           "rag_q",
           "rq_v4",
           "spacy_sent_splitting",
           false,
           4,
           "-",
           "-"
          ],
          [
           "rag_q",
           "rq_v1",
           "spacy_sent_splitting",
           false,
           5,
           "-",
           "-"
          ],
          [
           "rag_q",
           "rq_v2",
           "spacy_sent_splitting",
           false,
           5,
           "-",
           "-"
          ],
          [
           "rag_q",
           "rq_v3",
           "spacy_sent_splitting",
           false,
           5,
           "-",
           "-"
          ],
          [
           "rag_q",
           "rq_v4",
           "spacy_sent_splitting",
           false,
           5,
           "-",
           "-"
          ]
         ],
         "hovertemplate": "VQA Strategy Type: %{customdata[0]}<br>Prompt Type: %{customdata[1]}<br>Document Splitter: %{customdata[2]}<br>Add Title: %{customdata[3]}<br>Token Count: %{customdata[4]}<br>Chunk Size: %{customdata[5]}<br>Chunk Overlap: %{customdata[6]}<br>",
         "marker": {
          "color": "royalblue",
          "opacity": 0.8
         },
         "name": "Accuracy",
         "text": [
          0.296,
          0.28,
          0.28,
          0.296,
          0.272,
          0.272,
          0.272,
          0.24,
          0.272,
          0.288,
          0.288,
          0.304,
          0.24,
          0.256,
          0.272,
          0.248,
          0.256,
          0.256,
          0.264,
          0.264
         ],
         "textposition": "outside",
         "texttemplate": "%{y:.1%}",
         "type": "bar",
         "width": 0.4,
         "x": [
          0,
          1,
          2,
          3,
          4,
          5,
          6,
          7,
          8,
          9,
          10,
          11,
          12,
          13,
          14,
          15,
          16,
          17,
          18,
          19
         ],
         "y": [
          0.296,
          0.28,
          0.28,
          0.296,
          0.272,
          0.272,
          0.272,
          0.24,
          0.272,
          0.288,
          0.288,
          0.304,
          0.24,
          0.256,
          0.272,
          0.248,
          0.256,
          0.256,
          0.264,
          0.264
         ]
        },
        {
         "cliponaxis": false,
         "customdata": [
          [
           "rag_q",
           "rq_v1",
           "spacy_sent_splitting",
           false,
           1,
           "-",
           "-"
          ],
          [
           "rag_q",
           "rq_v2",
           "spacy_sent_splitting",
           false,
           1,
           "-",
           "-"
          ],
          [
           "rag_q",
           "rq_v3",
           "spacy_sent_splitting",
           false,
           1,
           "-",
           "-"
          ],
          [
           "rag_q",
           "rq_v4",
           "spacy_sent_splitting",
           false,
           1,
           "-",
           "-"
          ],
          [
           "rag_q",
           "rq_v1",
           "spacy_sent_splitting",
           false,
           2,
           "-",
           "-"
          ],
          [
           "rag_q",
           "rq_v2",
           "spacy_sent_splitting",
           false,
           2,
           "-",
           "-"
          ],
          [
           "rag_q",
           "rq_v3",
           "spacy_sent_splitting",
           false,
           2,
           "-",
           "-"
          ],
          [
           "rag_q",
           "rq_v4",
           "spacy_sent_splitting",
           false,
           2,
           "-",
           "-"
          ],
          [
           "rag_q",
           "rq_v1",
           "spacy_sent_splitting",
           false,
           3,
           "-",
           "-"
          ],
          [
           "rag_q",
           "rq_v2",
           "spacy_sent_splitting",
           false,
           3,
           "-",
           "-"
          ],
          [
           "rag_q",
           "rq_v3",
           "spacy_sent_splitting",
           false,
           3,
           "-",
           "-"
          ],
          [
           "rag_q",
           "rq_v4",
           "spacy_sent_splitting",
           false,
           3,
           "-",
           "-"
          ],
          [
           "rag_q",
           "rq_v1",
           "spacy_sent_splitting",
           false,
           4,
           "-",
           "-"
          ],
          [
           "rag_q",
           "rq_v2",
           "spacy_sent_splitting",
           false,
           4,
           "-",
           "-"
          ],
          [
           "rag_q",
           "rq_v3",
           "spacy_sent_splitting",
           false,
           4,
           "-",
           "-"
          ],
          [
           "rag_q",
           "rq_v4",
           "spacy_sent_splitting",
           false,
           4,
           "-",
           "-"
          ],
          [
           "rag_q",
           "rq_v1",
           "spacy_sent_splitting",
           false,
           5,
           "-",
           "-"
          ],
          [
           "rag_q",
           "rq_v2",
           "spacy_sent_splitting",
           false,
           5,
           "-",
           "-"
          ],
          [
           "rag_q",
           "rq_v3",
           "spacy_sent_splitting",
           false,
           5,
           "-",
           "-"
          ],
          [
           "rag_q",
           "rq_v4",
           "spacy_sent_splitting",
           false,
           5,
           "-",
           "-"
          ]
         ],
         "hovertemplate": "VQA Strategy Type: %{customdata[0]}<br>Prompt Type: %{customdata[1]}<br>Document Splitter: %{customdata[2]}<br>Add Title: %{customdata[3]}<br>Token Count: %{customdata[4]}<br>Chunk Size: %{customdata[5]}<br>Chunk Overlap: %{customdata[6]}<br>",
         "marker": {
          "color": "darkorange",
          "opacity": 0.8
         },
         "name": "Well-Formatted Answers",
         "text": [
          1,
          1,
          1,
          1,
          1,
          1,
          1,
          1,
          1,
          1,
          1,
          1,
          1,
          1,
          1,
          1,
          1,
          1,
          1,
          1
         ],
         "textposition": "outside",
         "texttemplate": "%{y:.1%}",
         "type": "bar",
         "width": 0.4,
         "x": [
          0,
          1,
          2,
          3,
          4,
          5,
          6,
          7,
          8,
          9,
          10,
          11,
          12,
          13,
          14,
          15,
          16,
          17,
          18,
          19
         ],
         "y": [
          1,
          1,
          1,
          1,
          1,
          1,
          1,
          1,
          1,
          1,
          1,
          1,
          1,
          1,
          1,
          1,
          1,
          1,
          1,
          1
         ]
        }
       ],
       "layout": {
        "barcornerradius": 15,
        "barmode": "group",
        "font": {
         "color": "black",
         "family": "Arial, sans-serif",
         "size": 14
        },
        "height": 500,
        "template": {
         "data": {
          "bar": [
           {
            "error_x": {
             "color": "#2a3f5f"
            },
            "error_y": {
             "color": "#2a3f5f"
            },
            "marker": {
             "line": {
              "color": "#E5ECF6",
              "width": 0.5
             },
             "pattern": {
              "fillmode": "overlay",
              "size": 10,
              "solidity": 0.2
             }
            },
            "type": "bar"
           }
          ],
          "barpolar": [
           {
            "marker": {
             "line": {
              "color": "#E5ECF6",
              "width": 0.5
             },
             "pattern": {
              "fillmode": "overlay",
              "size": 10,
              "solidity": 0.2
             }
            },
            "type": "barpolar"
           }
          ],
          "carpet": [
           {
            "aaxis": {
             "endlinecolor": "#2a3f5f",
             "gridcolor": "white",
             "linecolor": "white",
             "minorgridcolor": "white",
             "startlinecolor": "#2a3f5f"
            },
            "baxis": {
             "endlinecolor": "#2a3f5f",
             "gridcolor": "white",
             "linecolor": "white",
             "minorgridcolor": "white",
             "startlinecolor": "#2a3f5f"
            },
            "type": "carpet"
           }
          ],
          "choropleth": [
           {
            "colorbar": {
             "outlinewidth": 0,
             "ticks": ""
            },
            "type": "choropleth"
           }
          ],
          "contour": [
           {
            "colorbar": {
             "outlinewidth": 0,
             "ticks": ""
            },
            "colorscale": [
             [
              0,
              "#0d0887"
             ],
             [
              0.1111111111111111,
              "#46039f"
             ],
             [
              0.2222222222222222,
              "#7201a8"
             ],
             [
              0.3333333333333333,
              "#9c179e"
             ],
             [
              0.4444444444444444,
              "#bd3786"
             ],
             [
              0.5555555555555556,
              "#d8576b"
             ],
             [
              0.6666666666666666,
              "#ed7953"
             ],
             [
              0.7777777777777778,
              "#fb9f3a"
             ],
             [
              0.8888888888888888,
              "#fdca26"
             ],
             [
              1,
              "#f0f921"
             ]
            ],
            "type": "contour"
           }
          ],
          "contourcarpet": [
           {
            "colorbar": {
             "outlinewidth": 0,
             "ticks": ""
            },
            "type": "contourcarpet"
           }
          ],
          "heatmap": [
           {
            "colorbar": {
             "outlinewidth": 0,
             "ticks": ""
            },
            "colorscale": [
             [
              0,
              "#0d0887"
             ],
             [
              0.1111111111111111,
              "#46039f"
             ],
             [
              0.2222222222222222,
              "#7201a8"
             ],
             [
              0.3333333333333333,
              "#9c179e"
             ],
             [
              0.4444444444444444,
              "#bd3786"
             ],
             [
              0.5555555555555556,
              "#d8576b"
             ],
             [
              0.6666666666666666,
              "#ed7953"
             ],
             [
              0.7777777777777778,
              "#fb9f3a"
             ],
             [
              0.8888888888888888,
              "#fdca26"
             ],
             [
              1,
              "#f0f921"
             ]
            ],
            "type": "heatmap"
           }
          ],
          "heatmapgl": [
           {
            "colorbar": {
             "outlinewidth": 0,
             "ticks": ""
            },
            "colorscale": [
             [
              0,
              "#0d0887"
             ],
             [
              0.1111111111111111,
              "#46039f"
             ],
             [
              0.2222222222222222,
              "#7201a8"
             ],
             [
              0.3333333333333333,
              "#9c179e"
             ],
             [
              0.4444444444444444,
              "#bd3786"
             ],
             [
              0.5555555555555556,
              "#d8576b"
             ],
             [
              0.6666666666666666,
              "#ed7953"
             ],
             [
              0.7777777777777778,
              "#fb9f3a"
             ],
             [
              0.8888888888888888,
              "#fdca26"
             ],
             [
              1,
              "#f0f921"
             ]
            ],
            "type": "heatmapgl"
           }
          ],
          "histogram": [
           {
            "marker": {
             "pattern": {
              "fillmode": "overlay",
              "size": 10,
              "solidity": 0.2
             }
            },
            "type": "histogram"
           }
          ],
          "histogram2d": [
           {
            "colorbar": {
             "outlinewidth": 0,
             "ticks": ""
            },
            "colorscale": [
             [
              0,
              "#0d0887"
             ],
             [
              0.1111111111111111,
              "#46039f"
             ],
             [
              0.2222222222222222,
              "#7201a8"
             ],
             [
              0.3333333333333333,
              "#9c179e"
             ],
             [
              0.4444444444444444,
              "#bd3786"
             ],
             [
              0.5555555555555556,
              "#d8576b"
             ],
             [
              0.6666666666666666,
              "#ed7953"
             ],
             [
              0.7777777777777778,
              "#fb9f3a"
             ],
             [
              0.8888888888888888,
              "#fdca26"
             ],
             [
              1,
              "#f0f921"
             ]
            ],
            "type": "histogram2d"
           }
          ],
          "histogram2dcontour": [
           {
            "colorbar": {
             "outlinewidth": 0,
             "ticks": ""
            },
            "colorscale": [
             [
              0,
              "#0d0887"
             ],
             [
              0.1111111111111111,
              "#46039f"
             ],
             [
              0.2222222222222222,
              "#7201a8"
             ],
             [
              0.3333333333333333,
              "#9c179e"
             ],
             [
              0.4444444444444444,
              "#bd3786"
             ],
             [
              0.5555555555555556,
              "#d8576b"
             ],
             [
              0.6666666666666666,
              "#ed7953"
             ],
             [
              0.7777777777777778,
              "#fb9f3a"
             ],
             [
              0.8888888888888888,
              "#fdca26"
             ],
             [
              1,
              "#f0f921"
             ]
            ],
            "type": "histogram2dcontour"
           }
          ],
          "mesh3d": [
           {
            "colorbar": {
             "outlinewidth": 0,
             "ticks": ""
            },
            "type": "mesh3d"
           }
          ],
          "parcoords": [
           {
            "line": {
             "colorbar": {
              "outlinewidth": 0,
              "ticks": ""
             }
            },
            "type": "parcoords"
           }
          ],
          "pie": [
           {
            "automargin": true,
            "type": "pie"
           }
          ],
          "scatter": [
           {
            "fillpattern": {
             "fillmode": "overlay",
             "size": 10,
             "solidity": 0.2
            },
            "type": "scatter"
           }
          ],
          "scatter3d": [
           {
            "line": {
             "colorbar": {
              "outlinewidth": 0,
              "ticks": ""
             }
            },
            "marker": {
             "colorbar": {
              "outlinewidth": 0,
              "ticks": ""
             }
            },
            "type": "scatter3d"
           }
          ],
          "scattercarpet": [
           {
            "marker": {
             "colorbar": {
              "outlinewidth": 0,
              "ticks": ""
             }
            },
            "type": "scattercarpet"
           }
          ],
          "scattergeo": [
           {
            "marker": {
             "colorbar": {
              "outlinewidth": 0,
              "ticks": ""
             }
            },
            "type": "scattergeo"
           }
          ],
          "scattergl": [
           {
            "marker": {
             "colorbar": {
              "outlinewidth": 0,
              "ticks": ""
             }
            },
            "type": "scattergl"
           }
          ],
          "scattermapbox": [
           {
            "marker": {
             "colorbar": {
              "outlinewidth": 0,
              "ticks": ""
             }
            },
            "type": "scattermapbox"
           }
          ],
          "scatterpolar": [
           {
            "marker": {
             "colorbar": {
              "outlinewidth": 0,
              "ticks": ""
             }
            },
            "type": "scatterpolar"
           }
          ],
          "scatterpolargl": [
           {
            "marker": {
             "colorbar": {
              "outlinewidth": 0,
              "ticks": ""
             }
            },
            "type": "scatterpolargl"
           }
          ],
          "scatterternary": [
           {
            "marker": {
             "colorbar": {
              "outlinewidth": 0,
              "ticks": ""
             }
            },
            "type": "scatterternary"
           }
          ],
          "surface": [
           {
            "colorbar": {
             "outlinewidth": 0,
             "ticks": ""
            },
            "colorscale": [
             [
              0,
              "#0d0887"
             ],
             [
              0.1111111111111111,
              "#46039f"
             ],
             [
              0.2222222222222222,
              "#7201a8"
             ],
             [
              0.3333333333333333,
              "#9c179e"
             ],
             [
              0.4444444444444444,
              "#bd3786"
             ],
             [
              0.5555555555555556,
              "#d8576b"
             ],
             [
              0.6666666666666666,
              "#ed7953"
             ],
             [
              0.7777777777777778,
              "#fb9f3a"
             ],
             [
              0.8888888888888888,
              "#fdca26"
             ],
             [
              1,
              "#f0f921"
             ]
            ],
            "type": "surface"
           }
          ],
          "table": [
           {
            "cells": {
             "fill": {
              "color": "#EBF0F8"
             },
             "line": {
              "color": "white"
             }
            },
            "header": {
             "fill": {
              "color": "#C8D4E3"
             },
             "line": {
              "color": "white"
             }
            },
            "type": "table"
           }
          ]
         },
         "layout": {
          "annotationdefaults": {
           "arrowcolor": "#2a3f5f",
           "arrowhead": 0,
           "arrowwidth": 1
          },
          "autotypenumbers": "strict",
          "coloraxis": {
           "colorbar": {
            "outlinewidth": 0,
            "ticks": ""
           }
          },
          "colorscale": {
           "diverging": [
            [
             0,
             "#8e0152"
            ],
            [
             0.1,
             "#c51b7d"
            ],
            [
             0.2,
             "#de77ae"
            ],
            [
             0.3,
             "#f1b6da"
            ],
            [
             0.4,
             "#fde0ef"
            ],
            [
             0.5,
             "#f7f7f7"
            ],
            [
             0.6,
             "#e6f5d0"
            ],
            [
             0.7,
             "#b8e186"
            ],
            [
             0.8,
             "#7fbc41"
            ],
            [
             0.9,
             "#4d9221"
            ],
            [
             1,
             "#276419"
            ]
           ],
           "sequential": [
            [
             0,
             "#0d0887"
            ],
            [
             0.1111111111111111,
             "#46039f"
            ],
            [
             0.2222222222222222,
             "#7201a8"
            ],
            [
             0.3333333333333333,
             "#9c179e"
            ],
            [
             0.4444444444444444,
             "#bd3786"
            ],
            [
             0.5555555555555556,
             "#d8576b"
            ],
            [
             0.6666666666666666,
             "#ed7953"
            ],
            [
             0.7777777777777778,
             "#fb9f3a"
            ],
            [
             0.8888888888888888,
             "#fdca26"
            ],
            [
             1,
             "#f0f921"
            ]
           ],
           "sequentialminus": [
            [
             0,
             "#0d0887"
            ],
            [
             0.1111111111111111,
             "#46039f"
            ],
            [
             0.2222222222222222,
             "#7201a8"
            ],
            [
             0.3333333333333333,
             "#9c179e"
            ],
            [
             0.4444444444444444,
             "#bd3786"
            ],
            [
             0.5555555555555556,
             "#d8576b"
            ],
            [
             0.6666666666666666,
             "#ed7953"
            ],
            [
             0.7777777777777778,
             "#fb9f3a"
            ],
            [
             0.8888888888888888,
             "#fdca26"
            ],
            [
             1,
             "#f0f921"
            ]
           ]
          },
          "colorway": [
           "#636efa",
           "#EF553B",
           "#00cc96",
           "#ab63fa",
           "#FFA15A",
           "#19d3f3",
           "#FF6692",
           "#B6E880",
           "#FF97FF",
           "#FECB52"
          ],
          "font": {
           "color": "#2a3f5f"
          },
          "geo": {
           "bgcolor": "white",
           "lakecolor": "white",
           "landcolor": "#E5ECF6",
           "showlakes": true,
           "showland": true,
           "subunitcolor": "white"
          },
          "hoverlabel": {
           "align": "left"
          },
          "hovermode": "closest",
          "mapbox": {
           "style": "light"
          },
          "paper_bgcolor": "white",
          "plot_bgcolor": "#E5ECF6",
          "polar": {
           "angularaxis": {
            "gridcolor": "white",
            "linecolor": "white",
            "ticks": ""
           },
           "bgcolor": "#E5ECF6",
           "radialaxis": {
            "gridcolor": "white",
            "linecolor": "white",
            "ticks": ""
           }
          },
          "scene": {
           "xaxis": {
            "backgroundcolor": "#E5ECF6",
            "gridcolor": "white",
            "gridwidth": 2,
            "linecolor": "white",
            "showbackground": true,
            "ticks": "",
            "zerolinecolor": "white"
           },
           "yaxis": {
            "backgroundcolor": "#E5ECF6",
            "gridcolor": "white",
            "gridwidth": 2,
            "linecolor": "white",
            "showbackground": true,
            "ticks": "",
            "zerolinecolor": "white"
           },
           "zaxis": {
            "backgroundcolor": "#E5ECF6",
            "gridcolor": "white",
            "gridwidth": 2,
            "linecolor": "white",
            "showbackground": true,
            "ticks": "",
            "zerolinecolor": "white"
           }
          },
          "shapedefaults": {
           "line": {
            "color": "#2a3f5f"
           }
          },
          "ternary": {
           "aaxis": {
            "gridcolor": "white",
            "linecolor": "white",
            "ticks": ""
           },
           "baxis": {
            "gridcolor": "white",
            "linecolor": "white",
            "ticks": ""
           },
           "bgcolor": "#E5ECF6",
           "caxis": {
            "gridcolor": "white",
            "linecolor": "white",
            "ticks": ""
           }
          },
          "title": {
           "x": 0.05
          },
          "xaxis": {
           "automargin": true,
           "gridcolor": "white",
           "linecolor": "white",
           "ticks": "",
           "title": {
            "standoff": 15
           },
           "zerolinecolor": "white",
           "zerolinewidth": 2
          },
          "yaxis": {
           "automargin": true,
           "gridcolor": "white",
           "linecolor": "white",
           "ticks": "",
           "title": {
            "standoff": 15
           },
           "zerolinecolor": "white",
           "zerolinewidth": 2
          }
         }
        },
        "title": {
         "font": {
          "color": "black",
          "family": "Arial, sans-serif",
          "size": 22
         },
         "text": "Analysis of LLaVA Model Accuracy Across Different RAG Approaches and Parameter Settings (RDC: 1)",
         "x": 0.5,
         "xanchor": "center"
        },
        "xaxis": {
         "title": {
          "text": "Model Evaluations"
         }
        },
        "yaxis": {
         "range": [
          0,
          1.1
         ],
         "ticktext": [
          "0%",
          "10%",
          "20%",
          "30%",
          "40%",
          "50%",
          "60%",
          "70%",
          "80%",
          "90%",
          "100%"
         ],
         "tickvals": [
          0,
          0.1,
          0.2,
          0.3,
          0.4,
          0.5,
          0.6,
          0.7,
          0.8,
          0.9,
          1
         ],
         "title": {
          "text": "Accuracy"
         }
        }
       }
      }
     },
     "metadata": {},
     "output_type": "display_data"
    }
   ],
   "source": [
    "world_med_qa_v_plot_helpers.display_bar_chart_on_evaluation_results(\n",
    "    evaluation_results=evaluation_results,\n",
    "    title=\"Analysis of LLaVA Model Accuracy Across Different RAG Approaches and Parameter Settings (RDC: 1)\"\n",
    ")"
   ]
  },
  {
   "cell_type": "markdown",
   "metadata": {},
   "source": [
    "- HACER FUNCIÓN MÁS GENERAL PARA CREAR LOS DATACLASS DINÁMICAMENTE (con dataclass `GeneralVQAStrategiesDetails`)"
   ]
  }
 ],
 "metadata": {
  "kernelspec": {
   "display_name": ".venv",
   "language": "python",
   "name": "python3"
  },
  "language_info": {
   "codemirror_mode": {
    "name": "ipython",
    "version": 3
   },
   "file_extension": ".py",
   "mimetype": "text/x-python",
   "name": "python",
   "nbconvert_exporter": "python",
   "pygments_lexer": "ipython3",
   "version": "3.12.3"
  }
 },
 "nbformat": 4,
 "nbformat_minor": 2
}
