{
 "cells": [
  {
   "cell_type": "markdown",
   "metadata": {},
   "source": [
    "# VQA Model Result Evaluation"
   ]
  },
  {
   "cell_type": "markdown",
   "metadata": {},
   "source": [
    "## 0. Environment Setup"
   ]
  },
  {
   "cell_type": "markdown",
   "metadata": {},
   "source": [
    "### 0.1. Import Necessary Libraries"
   ]
  },
  {
   "cell_type": "code",
   "execution_count": 1,
   "metadata": {},
   "outputs": [],
   "source": [
    "from pathlib import Path\n",
    "\n",
    "from datasets import disable_progress_bars\n",
    "\n",
    "import src.utils.dataset_helpers.world_med_qa_v.dataset_management as world_med_qa_v_dataset_management\n",
    "import src.utils.dataset_helpers.world_med_qa_v.plot_helpers as world_med_qa_v_plot_helpers\n",
    "from src.utils.enums import RagQPromptType, VQAStrategyType, ZeroShotPromptType\n",
    "from src.utils.string_formatting_helpers import to_snake_case_strategy_name\n",
    "from src.visual_qa_model import VisualQAModel\n",
    "from src.visual_qa_strategies.base_vqa_strategy import BaseVQAStrategy\n",
    "from src.visual_qa_strategies.rag_q_vqa_strategy import RagQVQAStrategy\n",
    "from src.visual_qa_strategies.zero_shot_vqa_strategy import ZeroShotVQAStrategy"
   ]
  },
  {
   "cell_type": "markdown",
   "metadata": {},
   "source": [
    "### 0.2. Configure Environment Settings"
   ]
  },
  {
   "cell_type": "markdown",
   "metadata": {},
   "source": [
    "Detect Google Colab Form Annotation Automatically"
   ]
  },
  {
   "cell_type": "code",
   "execution_count": 2,
   "metadata": {},
   "outputs": [
    {
     "data": {
      "text/html": [
       "\n",
       "<script>\n",
       "function code_toggle(id) {\n",
       "    var cells = document.querySelectorAll(\".jp-CodeCell\");\n",
       "    for (var cell of cells) {\n",
       "        if (cell.querySelector(\"#\" + id) !== null) {\n",
       "            var div = cell.querySelector(\".jp-InputArea\");\n",
       "            if (div.style.display === \"none\") {\n",
       "                div.style.display = \"block\";\n",
       "            } else {\n",
       "                div.style.display = \"none\";\n",
       "            }\n",
       "        }\n",
       "    }\n",
       "}\n",
       "</script>\n"
      ],
      "text/plain": [
       "<IPython.core.display.HTML object>"
      ]
     },
     "metadata": {},
     "output_type": "display_data"
    }
   ],
   "source": [
    "%load_ext ipyform\n",
    "%form_config --auto-detect 1"
   ]
  },
  {
   "cell_type": "markdown",
   "metadata": {},
   "source": [
    "Enable Automatic Module Reloading"
   ]
  },
  {
   "cell_type": "code",
   "execution_count": 3,
   "metadata": {},
   "outputs": [],
   "source": [
    "%load_ext autoreload\n",
    "%autoreload 2"
   ]
  },
  {
   "cell_type": "markdown",
   "metadata": {},
   "source": [
    "Disable Progress Bar for Dataset Filtering"
   ]
  },
  {
   "cell_type": "code",
   "execution_count": 4,
   "metadata": {},
   "outputs": [],
   "source": [
    "disable_progress_bars()"
   ]
  },
  {
   "cell_type": "markdown",
   "metadata": {},
   "source": [
    "## 1. Evaluation of VQA Approaches"
   ]
  },
  {
   "cell_type": "markdown",
   "metadata": {},
   "source": [
    "Define Constants"
   ]
  },
  {
   "cell_type": "code",
   "execution_count": 5,
   "metadata": {},
   "outputs": [],
   "source": [
    "DATASET_DIR = Path(\"data/WorldMedQA-V\")\n",
    "MODEL_NAME = \"llava\"\n",
    "COUNTRY = \"spain\"\n",
    "FILE_TYPE = \"english\"\n",
    "RESULTS_DIR = Path('evaluation_results')"
   ]
  },
  {
   "cell_type": "markdown",
   "metadata": {},
   "source": [
    "Load Dataset"
   ]
  },
  {
   "cell_type": "code",
   "execution_count": 6,
   "metadata": {},
   "outputs": [
    {
     "name": "stdout",
     "output_type": "stream",
     "text": [
      "- Loading WorldMedQA-V dataset (filename: spain_english_processed.tsv) ...\n",
      "+ WorldMedQA-V dataset (filename: spain_english_processed.tsv) loaded.\n"
     ]
    },
    {
     "data": {
      "text/plain": [
       "Dataset({\n",
       "    features: ['index', 'image', 'question', 'A', 'B', 'C', 'D', 'answer', 'correct_option', 'split'],\n",
       "    num_rows: 125\n",
       "})"
      ]
     },
     "execution_count": 6,
     "metadata": {},
     "output_type": "execute_result"
    }
   ],
   "source": [
    "world_med_qa_v_dataset = world_med_qa_v_dataset_management.load_vqa_dataset(\n",
    "    data_path=DATASET_DIR,\n",
    "    country=COUNTRY,\n",
    "    file_type=FILE_TYPE\n",
    ")\n",
    "world_med_qa_v_dataset"
   ]
  },
  {
   "cell_type": "markdown",
   "metadata": {},
   "source": [
    "### 1.1. Zero-Shot Evaluation"
   ]
  },
  {
   "cell_type": "markdown",
   "metadata": {},
   "source": [
    "Load Model"
   ]
  },
  {
   "cell_type": "code",
   "execution_count": 7,
   "metadata": {},
   "outputs": [
    {
     "name": "stdout",
     "output_type": "stream",
     "text": [
      "- Loading Zero-Shot strategy ...\n",
      "+ Zero-Shot strategy loaded.\n",
      "- Loading Llava model (prompt template: zs_v1) ...\n",
      "+ Llava model (prompt template: zs_v1) loaded.\n"
     ]
    }
   ],
   "source": [
    "llava_model = VisualQAModel(\n",
    "    visual_qa_strategy=ZeroShotVQAStrategy(prompt_type=ZeroShotPromptType.V1),\n",
    "    model_name=MODEL_NAME,\n",
    "    country=COUNTRY,\n",
    "    file_type=FILE_TYPE\n",
    ")"
   ]
  },
  {
   "cell_type": "markdown",
   "metadata": {},
   "source": [
    "Evaluate Model (Prompt Template: `zs_v1`)"
   ]
  },
  {
   "cell_type": "code",
   "execution_count": 8,
   "metadata": {},
   "outputs": [
    {
     "name": "stderr",
     "output_type": "stream",
     "text": [
      "- Evaluating model (spain_english subset) ...: 100%|██████████| 5/5 [07:02<00:00, 84.45s/it]"
     ]
    },
    {
     "name": "stdout",
     "output_type": "stream",
     "text": [
      "+ Model evaluation (spain_english subset) completed.\n"
     ]
    },
    {
     "name": "stderr",
     "output_type": "stream",
     "text": [
      "\n"
     ]
    }
   ],
   "source": [
    "llava_model.evaluate(\n",
    "    dataset=world_med_qa_v_dataset.take(5),\n",
    "    save_path=RESULTS_DIR\n",
    ")"
   ]
  },
  {
   "cell_type": "markdown",
   "metadata": {},
   "source": [
    "Evaluate Model (Prompt Template: `zs_v2`)"
   ]
  },
  {
   "cell_type": "code",
   "execution_count": 9,
   "metadata": {},
   "outputs": [
    {
     "name": "stderr",
     "output_type": "stream",
     "text": [
      "- Evaluating model (spain_english subset) ...: 100%|██████████| 5/5 [06:20<00:00, 76.08s/it]"
     ]
    },
    {
     "name": "stdout",
     "output_type": "stream",
     "text": [
      "+ Model evaluation (spain_english subset) completed.\n"
     ]
    },
    {
     "name": "stderr",
     "output_type": "stream",
     "text": [
      "\n"
     ]
    }
   ],
   "source": [
    "llava_model.visual_qa_strategy.prompt_type = ZeroShotPromptType.V2\n",
    "llava_model.evaluate(\n",
    "    dataset=world_med_qa_v_dataset.take(5),\n",
    "    save_path=RESULTS_DIR\n",
    ")"
   ]
  },
  {
   "cell_type": "markdown",
   "metadata": {},
   "source": [
    "Evaluate Model (Prompt Template: `zs_v3`)"
   ]
  },
  {
   "cell_type": "code",
   "execution_count": 10,
   "metadata": {},
   "outputs": [
    {
     "name": "stderr",
     "output_type": "stream",
     "text": [
      "- Evaluating model (spain_english subset) ...: 100%|██████████| 5/5 [06:24<00:00, 76.90s/it]"
     ]
    },
    {
     "name": "stdout",
     "output_type": "stream",
     "text": [
      "+ Model evaluation (spain_english subset) completed.\n"
     ]
    },
    {
     "name": "stderr",
     "output_type": "stream",
     "text": [
      "\n"
     ]
    }
   ],
   "source": [
    "llava_model.visual_qa_strategy.prompt_type = ZeroShotPromptType.V3\n",
    "llava_model.evaluate(\n",
    "    dataset=world_med_qa_v_dataset.take(5),\n",
    "    save_path=RESULTS_DIR\n",
    ")"
   ]
  },
  {
   "cell_type": "markdown",
   "metadata": {},
   "source": [
    "### 1.2. Retrieval-Augmented Generation (RAG) Evaluation"
   ]
  },
  {
   "cell_type": "markdown",
   "metadata": {},
   "source": [
    "Define Model Specific Constants"
   ]
  },
  {
   "cell_type": "code",
   "execution_count": 11,
   "metadata": {},
   "outputs": [],
   "source": [
    "INDEX_DIR = Path('data/WikiMed/indexed_db')\n",
    "INDEX_NAME = \"Wikimed+S-PubMedBert-MS-MARCO-FullTexts\"\n",
    "EMBEDDING_MODEL_NAME = \"pritamdeka/S-PubMedBert-MS-MARCO\"\n",
    "RELEVANT_DOCS_COUNT = 1"
   ]
  },
  {
   "cell_type": "markdown",
   "metadata": {},
   "source": [
    "#### 1.2.1. RAG Q (Question Only)"
   ]
  },
  {
   "cell_type": "markdown",
   "metadata": {},
   "source": [
    "Load Model"
   ]
  },
  {
   "cell_type": "code",
   "execution_count": 12,
   "metadata": {},
   "outputs": [
    {
     "name": "stdout",
     "output_type": "stream",
     "text": [
      "- Loading RAG Q strategy ...\n",
      "\t- Loading Embeddings ...\n",
      "\t+ Embeddings Loaded.\n",
      "\t- Loading Index ...\n",
      "\t+ Index Loaded.\n",
      "\t- Loading Retriever ...\n",
      "\t+ Retriever Loaded.\n",
      "+ RAG Q strategy loaded.\n",
      "- Loading Llava model (prompt template: rq_v1) ...\n",
      "+ Llava model (prompt template: rq_v1) loaded.\n"
     ]
    }
   ],
   "source": [
    "llava_model.visual_qa_strategy = RagQVQAStrategy(\n",
    "    prompt_type=RagQPromptType.V1,\n",
    "    index_dir=INDEX_DIR,\n",
    "    index_name=INDEX_NAME,\n",
    "    embedding_model_name=EMBEDDING_MODEL_NAME,\n",
    "    relevant_docs_count=RELEVANT_DOCS_COUNT\n",
    ")"
   ]
  },
  {
   "cell_type": "markdown",
   "metadata": {},
   "source": [
    "Evaluate Model (Prompt Template: `rq_v1`)"
   ]
  },
  {
   "cell_type": "code",
   "execution_count": 13,
   "metadata": {},
   "outputs": [
    {
     "name": "stderr",
     "output_type": "stream",
     "text": [
      "- Evaluating model (spain_english subset) ...: 100%|██████████| 5/5 [17:17<00:00, 207.52s/it]"
     ]
    },
    {
     "name": "stdout",
     "output_type": "stream",
     "text": [
      "+ Model evaluation (spain_english subset) completed.\n"
     ]
    },
    {
     "name": "stderr",
     "output_type": "stream",
     "text": [
      "\n"
     ]
    }
   ],
   "source": [
    "llava_model.evaluate(\n",
    "    dataset=world_med_qa_v_dataset.take(5),\n",
    "    save_path=RESULTS_DIR\n",
    ")"
   ]
  },
  {
   "cell_type": "markdown",
   "metadata": {},
   "source": [
    "Evaluate Model (Prompt Template: `rq_v2`)"
   ]
  },
  {
   "cell_type": "code",
   "execution_count": 14,
   "metadata": {},
   "outputs": [
    {
     "name": "stderr",
     "output_type": "stream",
     "text": [
      "- Evaluating model (spain_english subset) ...: 100%|██████████| 5/5 [17:09<00:00, 205.91s/it]"
     ]
    },
    {
     "name": "stdout",
     "output_type": "stream",
     "text": [
      "+ Model evaluation (spain_english subset) completed.\n"
     ]
    },
    {
     "name": "stderr",
     "output_type": "stream",
     "text": [
      "\n"
     ]
    }
   ],
   "source": [
    "llava_model.visual_qa_strategy.prompt_type = RagQPromptType.V2\n",
    "llava_model.evaluate(\n",
    "    dataset=world_med_qa_v_dataset.take(5),\n",
    "    save_path=RESULTS_DIR\n",
    ")"
   ]
  },
  {
   "cell_type": "markdown",
   "metadata": {},
   "source": [
    "Evaluate Model (Prompt Template: `rq_v3`)"
   ]
  },
  {
   "cell_type": "code",
   "execution_count": 15,
   "metadata": {},
   "outputs": [
    {
     "name": "stderr",
     "output_type": "stream",
     "text": [
      "- Evaluating model (spain_english subset) ...: 100%|██████████| 5/5 [16:45<00:00, 201.14s/it]"
     ]
    },
    {
     "name": "stdout",
     "output_type": "stream",
     "text": [
      "+ Model evaluation (spain_english subset) completed.\n"
     ]
    },
    {
     "name": "stderr",
     "output_type": "stream",
     "text": [
      "\n"
     ]
    }
   ],
   "source": [
    "llava_model.visual_qa_strategy.prompt_type = RagQPromptType.V3\n",
    "llava_model.evaluate(\n",
    "    dataset=world_med_qa_v_dataset.take(5),\n",
    "    save_path=RESULTS_DIR\n",
    ")"
   ]
  },
  {
   "cell_type": "markdown",
   "metadata": {},
   "source": [
    "Evaluate Model (Prompt Template: `rq_v4`)"
   ]
  },
  {
   "cell_type": "code",
   "execution_count": 16,
   "metadata": {},
   "outputs": [
    {
     "name": "stderr",
     "output_type": "stream",
     "text": [
      "- Evaluating model (spain_english subset) ...: 100%|██████████| 5/5 [16:48<00:00, 201.77s/it]"
     ]
    },
    {
     "name": "stdout",
     "output_type": "stream",
     "text": [
      "+ Model evaluation (spain_english subset) completed.\n"
     ]
    },
    {
     "name": "stderr",
     "output_type": "stream",
     "text": [
      "\n"
     ]
    }
   ],
   "source": [
    "llava_model.visual_qa_strategy.prompt_type = RagQPromptType.V4\n",
    "llava_model.evaluate(\n",
    "    dataset=world_med_qa_v_dataset.take(5),\n",
    "    save_path=RESULTS_DIR\n",
    ")"
   ]
  },
  {
   "cell_type": "markdown",
   "metadata": {},
   "source": [
    "#### 1.2.2. RAG Q+As (Question + Answers)"
   ]
  },
  {
   "cell_type": "code",
   "execution_count": null,
   "metadata": {},
   "outputs": [],
   "source": []
  },
  {
   "cell_type": "markdown",
   "metadata": {},
   "source": [
    "#### 1.2.3. RAG IMG (Image-Based)"
   ]
  },
  {
   "cell_type": "code",
   "execution_count": null,
   "metadata": {},
   "outputs": [],
   "source": []
  },
  {
   "cell_type": "markdown",
   "metadata": {},
   "source": [
    "#### 1.2.4. RAG DB-Reranker (Database with Reranker)"
   ]
  },
  {
   "cell_type": "code",
   "execution_count": null,
   "metadata": {},
   "outputs": [],
   "source": []
  },
  {
   "cell_type": "markdown",
   "metadata": {},
   "source": [
    "## 2. VQA Approaches Exploration"
   ]
  },
  {
   "cell_type": "markdown",
   "metadata": {},
   "source": [
    "Define Model Specific Constants"
   ]
  },
  {
   "cell_type": "code",
   "execution_count": 5,
   "metadata": {},
   "outputs": [],
   "source": [
    "DATASET_DIR = Path(\"data/WorldMedQA-V\")\n",
    "MODEL_NAME = \"llava\"\n",
    "COUNTRY = \"spain\"\n",
    "FILE_TYPE = \"english\"\n",
    "RESULTS_DIR = Path('evaluation_results')"
   ]
  },
  {
   "cell_type": "markdown",
   "metadata": {},
   "source": [
    "Define RAG Q Specific Constants"
   ]
  },
  {
   "cell_type": "code",
   "execution_count": 6,
   "metadata": {},
   "outputs": [],
   "source": [
    "INDEX_DIR = Path('data/WikiMed/indexed_db')\n",
    "INDEX_NAME = \"Wikimed+S-PubMedBert-MS-MARCO-FullTexts\"\n",
    "EMBEDDING_MODEL_NAME = \"pritamdeka/S-PubMedBert-MS-MARCO\"\n",
    "RELEVANT_DOCS_COUNT = 1"
   ]
  },
  {
   "cell_type": "markdown",
   "metadata": {},
   "source": [
    "Define Possible VQA Strategies"
   ]
  },
  {
   "cell_type": "code",
   "execution_count": 7,
   "metadata": {},
   "outputs": [
    {
     "name": "stdout",
     "output_type": "stream",
     "text": [
      "- Loading Zero-Shot strategy ...\n",
      "+ Zero-Shot strategy loaded.\n",
      "- Loading RAG Q strategy ...\n",
      "\t- Loading Embeddings ...\n",
      "\t+ Embeddings Loaded.\n",
      "\t- Loading Index ...\n",
      "\t+ Index Loaded.\n",
      "\t- Loading Retriever ...\n",
      "\t+ Retriever Loaded.\n",
      "+ RAG Q strategy loaded.\n"
     ]
    }
   ],
   "source": [
    "vqa_strategies: dict[VQAStrategyType, BaseVQAStrategy] = {\n",
    "    VQAStrategyType.ZERO_SHOT: ZeroShotVQAStrategy(prompt_type=ZeroShotPromptType.V1),\n",
    "    VQAStrategyType.RAG_Q: RagQVQAStrategy(\n",
    "        prompt_type=RagQPromptType.V1,\n",
    "        index_dir=INDEX_DIR,\n",
    "        index_name=INDEX_NAME,\n",
    "        embedding_model_name=EMBEDDING_MODEL_NAME,\n",
    "        relevant_docs_count=RELEVANT_DOCS_COUNT\n",
    "    ),\n",
    "    VQAStrategyType.RAG_Q_AS: None,\n",
    "    VQAStrategyType.RAG_IMG: None,\n",
    "    VQAStrategyType.RAG_DB_RERANKER: None\n",
    "}"
   ]
  },
  {
   "cell_type": "markdown",
   "metadata": {},
   "source": [
    "Load Dataset"
   ]
  },
  {
   "cell_type": "code",
   "execution_count": 8,
   "metadata": {},
   "outputs": [
    {
     "name": "stdout",
     "output_type": "stream",
     "text": [
      "- Loading WorldMedQA-V dataset (filename: spain_english_processed.tsv) ...\n",
      "+ WorldMedQA-V dataset (filename: spain_english_processed.tsv) loaded.\n"
     ]
    },
    {
     "data": {
      "text/plain": [
       "Dataset({\n",
       "    features: ['index', 'image', 'question', 'A', 'B', 'C', 'D', 'answer', 'correct_option', 'split'],\n",
       "    num_rows: 125\n",
       "})"
      ]
     },
     "execution_count": 8,
     "metadata": {},
     "output_type": "execute_result"
    }
   ],
   "source": [
    "world_med_qa_v_dataset = world_med_qa_v_dataset_management.load_vqa_dataset(\n",
    "    data_path=DATASET_DIR,\n",
    "    country=COUNTRY,\n",
    "    file_type=FILE_TYPE\n",
    ")\n",
    "world_med_qa_v_dataset"
   ]
  },
  {
   "cell_type": "markdown",
   "metadata": {},
   "source": [
    "Experiment with the Models"
   ]
  },
  {
   "cell_type": "code",
   "execution_count": 9,
   "metadata": {},
   "outputs": [
    {
     "data": {
      "application/vnd.jupyter.widget-view+json": {
       "model_id": "3d67c1119b04446d8dab79ad01422650",
       "version_major": 2,
       "version_minor": 0
      },
      "text/plain": [
       "FormWidget(children=(VBox(children=(HTML(value=''), HTML(value='<h2>Interactive VQA Model Exploration Form</h2…"
      ]
     },
     "execution_count": 9,
     "metadata": {},
     "output_type": "execute_result"
    }
   ],
   "source": [
    "# @title Interactive VQA Model Exploration Form\n",
    "vqa_strategy_type = 'Zero-Shot' # @param [\"Zero-Shot\", \"RAG Q\", \"RAG Q+As\", \"RAG IMG\", \"RAG DB-Reranker\"]\n",
    "prompt_type = \"zs_v1\" # @param [\"zs_v1\", \"zs_v2\", \"zs_v3\", \"rq_v1\", \"rq_v2\", \"rq_v3\", \"rq_v4\"]\n",
    "question_id = 1 # @param {\"type\":\"integer\"}\n",
    "image_width = 600 # @param {\"type\":\"integer\"}\n",
    "action = 'Fetch from JSON' # @param [\"Execute Model\", \"Fetch from JSON\"]\n",
    "\n",
    "\n",
    "row = world_med_qa_v_dataset_management.get_dataset_row_by_id(\n",
    "    dataset=world_med_qa_v_dataset,\n",
    "    question_id=question_id\n",
    ")\n",
    "\n",
    "if action == \"Execute Model\":\n",
    "    formatted_vqa_strategy_type = to_snake_case_strategy_name(strategy_name=vqa_strategy_type)\n",
    "    chosen_vqa_strategy = vqa_strategies[VQAStrategyType(formatted_vqa_strategy_type)]\n",
    "    chosen_vqa_strategy.prompt_type = ZeroShotPromptType(prompt_type)\n",
    "    model=VisualQAModel(\n",
    "        visual_qa_strategy=chosen_vqa_strategy,\n",
    "        model_name=MODEL_NAME,\n",
    "        country=COUNTRY,\n",
    "        file_type=FILE_TYPE\n",
    "    )\n",
    "    world_med_qa_v_plot_helpers.visualize_qa_pair_row(\n",
    "        row=row,\n",
    "        image_width=image_width,\n",
    "        model_answer=model.generate_answer_from_row(\n",
    "            row=row,\n",
    "            possible_options=['A', 'B', 'C', 'D'],\n",
    "            verbose=True\n",
    "        )\n",
    "    )\n",
    "elif action == \"Fetch from JSON\":\n",
    "    model_answer = world_med_qa_v_dataset_management.fetch_model_answer_from_json(\n",
    "        evaluation_results_folder=RESULTS_DIR,\n",
    "        vqa_strategy_name=to_snake_case_strategy_name(strategy_name=vqa_strategy_type),\n",
    "        country=COUNTRY,\n",
    "        file_type=FILE_TYPE,\n",
    "        prompt_type_name=prompt_type,\n",
    "        question_id=question_id,\n",
    "    )\n",
    "    world_med_qa_v_plot_helpers.visualize_qa_pair_row(\n",
    "        row=row,\n",
    "        image_width=image_width,\n",
    "        model_answer=model_answer\n",
    "    )"
   ]
  }
 ],
 "metadata": {
  "kernelspec": {
   "display_name": ".venv",
   "language": "python",
   "name": "python3"
  },
  "language_info": {
   "codemirror_mode": {
    "name": "ipython",
    "version": 3
   },
   "file_extension": ".py",
   "mimetype": "text/x-python",
   "name": "python",
   "nbconvert_exporter": "python",
   "pygments_lexer": "ipython3",
   "version": "3.12.3"
  }
 },
 "nbformat": 4,
 "nbformat_minor": 2
}
